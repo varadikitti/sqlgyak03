{
 "cells": [
  {
   "cell_type": "code",
   "execution_count": null,
   "id": "18840760",
   "metadata": {},
   "outputs": [],
   "source": [
    "!pip install pymongo"
   ]
  },
  {
   "cell_type": "code",
   "execution_count": null,
   "id": "9eb15299",
   "metadata": {},
   "outputs": [],
   "source": [
    "from pymongo import MongoClient\n",
    "import pymongo"
   ]
  },
  {
   "cell_type": "code",
   "execution_count": null,
   "id": "7f6bb10f",
   "metadata": {},
   "outputs": [],
   "source": [
    "#a connectionstring a MongoDB Astra-ból vagy a MongoDB Compass-ból kapható meg\n",
    "client = pymongo.MongoClient(\"connectionstring\")"
   ]
  },
  {
   "cell_type": "code",
   "execution_count": null,
   "id": "ebde2779",
   "metadata": {},
   "outputs": [],
   "source": [
    "db = client.sample_training"
   ]
  },
  {
   "cell_type": "code",
   "execution_count": null,
   "id": "5cb4e3bf",
   "metadata": {},
   "outputs": [],
   "source": [
    "ered = db.trips.find()"
   ]
  },
  {
   "cell_type": "code",
   "execution_count": null,
   "id": "8334abb2",
   "metadata": {},
   "outputs": [],
   "source": [
    "for i in ered:\n",
    "    print(i)"
   ]
  },
  {
   "cell_type": "code",
   "execution_count": null,
   "id": "76e3acbf",
   "metadata": {},
   "outputs": [],
   "source": []
  }
 ],
 "metadata": {
  "kernelspec": {
   "display_name": "Python 3 (ipykernel)",
   "language": "python",
   "name": "python3"
  },
  "language_info": {
   "codemirror_mode": {
    "name": "ipython",
    "version": 3
   },
   "file_extension": ".py",
   "mimetype": "text/x-python",
   "name": "python",
   "nbconvert_exporter": "python",
   "pygments_lexer": "ipython3",
   "version": "3.9.7"
  }
 },
 "nbformat": 4,
 "nbformat_minor": 5
}
