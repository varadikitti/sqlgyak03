{
    "metadata": {
        "kernelspec": {
            "name": "SQL",
            "display_name": "SQL",
            "language": "sql"
        },
        "language_info": {
            "name": "sql",
            "version": ""
        }
    },
    "nbformat_minor": 2,
    "nbformat": 4,
    "cells": [
        {
            "cell_type": "markdown",
            "source": [
                "1. <span style=\"background-color: rgb(255, 255, 255); color: rgb(0, 0, 0); font-family: &quot;Open Sans&quot;, sans-serif; font-size: 14.44px;\">Készítsünk listát arról, hogy ügyfelenként (LOGIN), azon belül szállítási módonként hány megrendelés történt!&nbsp;</span> \n",
                "\n",
                "a. A lista tartalmazza a részösszegeket és a végösszeget is!  \n",
                "b. Használjuk a ROLLUP záradékot!"
            ],
            "metadata": {
                "azdata_cell_guid": "363cd270-6577-449b-9c89-d4b7c7972d52"
            },
            "attachments": {}
        },
        {
            "cell_type": "code",
            "source": [
                "SELECT login, \r\n",
                "        SZALL_MOD,\r\n",
                "        COUNT(*)\r\n",
                "FROM Rendeles\r\n",
                "GROUP BY ROLLUP(login, SZALL_MOD)"
            ],
            "metadata": {
                "azdata_cell_guid": "6ab9f633-a3b5-48c9-a1dc-4fb8235ae85b",
                "language": "sql"
            },
            "outputs": [
                {
                    "output_type": "display_data",
                    "data": {
                        "text/html": "(763 rows affected)"
                    },
                    "metadata": {}
                },
                {
                    "output_type": "display_data",
                    "data": {
                        "text/html": "Total execution time: 00:00:00.066"
                    },
                    "metadata": {}
                },
                {
                    "output_type": "execute_result",
                    "metadata": {},
                    "execution_count": 4,
                    "data": {
                        "application/vnd.dataresource+json": {
                            "schema": {
                                "fields": [
                                    {
                                        "name": "login"
                                    },
                                    {
                                        "name": "SZALL_MOD"
                                    },
                                    {
                                        "name": "(No column name)"
                                    }
                                ]
                            },
                            "data": [
                                {
                                    "login": "adam1",
                                    "SZALL_MOD": "GLS",
                                    "(No column name)": "129"
                                },
                                {
                                    "login": "adam1",
                                    "SZALL_MOD": "Posta",
                                    "(No column name)": "132"
                                },
                                {
                                    "login": "adam1",
                                    "SZALL_MOD": "Személyes átvétel",
                                    "(No column name)": "131"
                                },
                                {
                                    "login": "adam1",
                                    "SZALL_MOD": "NULL",
                                    "(No column name)": "392"
                                },
                                {
                                    "login": "adam3",
                                    "SZALL_MOD": "GLS",
                                    "(No column name)": "10"
                                },
                                {
                                    "login": "adam3",
                                    "SZALL_MOD": "Posta",
                                    "(No column name)": "3"
                                },
                                {
                                    "login": "adam3",
                                    "SZALL_MOD": "Személyes átvétel",
                                    "(No column name)": "2"
                                },
                                {
                                    "login": "adam3",
                                    "SZALL_MOD": "NULL",
                                    "(No column name)": "15"
                                },
                                {
                                    "login": "adam4",
                                    "SZALL_MOD": "GLS",
                                    "(No column name)": "12"
                                },
                                {
                                    "login": "adam4",
                                    "SZALL_MOD": "Posta",
                                    "(No column name)": "6"
                                },
                                {
                                    "login": "adam4",
                                    "SZALL_MOD": "Személyes átvétel",
                                    "(No column name)": "11"
                                },
                                {
                                    "login": "adam4",
                                    "SZALL_MOD": "NULL",
                                    "(No column name)": "29"
                                },
                                {
                                    "login": "agnes",
                                    "SZALL_MOD": "GLS",
                                    "(No column name)": "144"
                                },
                                {
                                    "login": "agnes",
                                    "SZALL_MOD": "Posta",
                                    "(No column name)": "130"
                                },
                                {
                                    "login": "agnes",
                                    "SZALL_MOD": "Személyes átvétel",
                                    "(No column name)": "144"
                                },
                                {
                                    "login": "agnes",
                                    "SZALL_MOD": "NULL",
                                    "(No column name)": "418"
                                },
                                {
                                    "login": "agnes3",
                                    "SZALL_MOD": "GLS",
                                    "(No column name)": "148"
                                },
                                {
                                    "login": "agnes3",
                                    "SZALL_MOD": "Posta",
                                    "(No column name)": "146"
                                },
                                {
                                    "login": "agnes3",
                                    "SZALL_MOD": "Személyes átvétel",
                                    "(No column name)": "136"
                                },
                                {
                                    "login": "agnes3",
                                    "SZALL_MOD": "NULL",
                                    "(No column name)": "430"
                                },
                                {
                                    "login": "AGNESH",
                                    "SZALL_MOD": "GLS",
                                    "(No column name)": "2"
                                },
                                {
                                    "login": "AGNESH",
                                    "SZALL_MOD": "Posta",
                                    "(No column name)": "3"
                                },
                                {
                                    "login": "AGNESH",
                                    "SZALL_MOD": "Személyes átvétel",
                                    "(No column name)": "6"
                                },
                                {
                                    "login": "AGNESH",
                                    "SZALL_MOD": "NULL",
                                    "(No column name)": "11"
                                },
                                {
                                    "login": "AGNESK",
                                    "SZALL_MOD": "GLS",
                                    "(No column name)": "1"
                                },
                                {
                                    "login": "AGNESK",
                                    "SZALL_MOD": "Posta",
                                    "(No column name)": "7"
                                },
                                {
                                    "login": "AGNESK",
                                    "SZALL_MOD": "Személyes átvétel",
                                    "(No column name)": "7"
                                },
                                {
                                    "login": "AGNESK",
                                    "SZALL_MOD": "NULL",
                                    "(No column name)": "15"
                                },
                                {
                                    "login": "akos",
                                    "SZALL_MOD": "GLS",
                                    "(No column name)": "146"
                                },
                                {
                                    "login": "akos",
                                    "SZALL_MOD": "Posta",
                                    "(No column name)": "143"
                                },
                                {
                                    "login": "akos",
                                    "SZALL_MOD": "Személyes átvétel",
                                    "(No column name)": "140"
                                },
                                {
                                    "login": "akos",
                                    "SZALL_MOD": "NULL",
                                    "(No column name)": "429"
                                },
                                {
                                    "login": "aladar",
                                    "SZALL_MOD": "GLS",
                                    "(No column name)": "156"
                                },
                                {
                                    "login": "aladar",
                                    "SZALL_MOD": "Posta",
                                    "(No column name)": "134"
                                },
                                {
                                    "login": "aladar",
                                    "SZALL_MOD": "Személyes átvétel",
                                    "(No column name)": "118"
                                },
                                {
                                    "login": "aladar",
                                    "SZALL_MOD": "NULL",
                                    "(No column name)": "408"
                                },
                                {
                                    "login": "alexandra",
                                    "SZALL_MOD": "GLS",
                                    "(No column name)": "5"
                                },
                                {
                                    "login": "alexandra",
                                    "SZALL_MOD": "Posta",
                                    "(No column name)": "9"
                                },
                                {
                                    "login": "alexandra",
                                    "SZALL_MOD": "Személyes átvétel",
                                    "(No column name)": "5"
                                },
                                {
                                    "login": "alexandra",
                                    "SZALL_MOD": "NULL",
                                    "(No column name)": "19"
                                },
                                {
                                    "login": "andi",
                                    "SZALL_MOD": "GLS",
                                    "(No column name)": "7"
                                },
                                {
                                    "login": "andi",
                                    "SZALL_MOD": "Posta",
                                    "(No column name)": "4"
                                },
                                {
                                    "login": "andi",
                                    "SZALL_MOD": "Személyes átvétel",
                                    "(No column name)": "7"
                                },
                                {
                                    "login": "andi",
                                    "SZALL_MOD": "NULL",
                                    "(No column name)": "18"
                                },
                                {
                                    "login": "andras2",
                                    "SZALL_MOD": "GLS",
                                    "(No column name)": "4"
                                },
                                {
                                    "login": "andras2",
                                    "SZALL_MOD": "Posta",
                                    "(No column name)": "7"
                                },
                                {
                                    "login": "andras2",
                                    "SZALL_MOD": "Személyes átvétel",
                                    "(No column name)": "11"
                                },
                                {
                                    "login": "andras2",
                                    "SZALL_MOD": "NULL",
                                    "(No column name)": "22"
                                },
                                {
                                    "login": "andras21",
                                    "SZALL_MOD": "GLS",
                                    "(No column name)": "140"
                                },
                                {
                                    "login": "andras21",
                                    "SZALL_MOD": "Posta",
                                    "(No column name)": "124"
                                },
                                {
                                    "login": "andras21",
                                    "SZALL_MOD": "Személyes átvétel",
                                    "(No column name)": "126"
                                },
                                {
                                    "login": "andras21",
                                    "SZALL_MOD": "NULL",
                                    "(No column name)": "390"
                                },
                                {
                                    "login": "andras3",
                                    "SZALL_MOD": "GLS",
                                    "(No column name)": "3"
                                },
                                {
                                    "login": "andras3",
                                    "SZALL_MOD": "Posta",
                                    "(No column name)": "1"
                                },
                                {
                                    "login": "andras3",
                                    "SZALL_MOD": "Személyes átvétel",
                                    "(No column name)": "5"
                                },
                                {
                                    "login": "andras3",
                                    "SZALL_MOD": "NULL",
                                    "(No column name)": "9"
                                },
                                {
                                    "login": "andras4",
                                    "SZALL_MOD": "GLS",
                                    "(No column name)": "4"
                                },
                                {
                                    "login": "andras4",
                                    "SZALL_MOD": "Posta",
                                    "(No column name)": "4"
                                },
                                {
                                    "login": "andras4",
                                    "SZALL_MOD": "Személyes átvétel",
                                    "(No column name)": "4"
                                },
                                {
                                    "login": "andras4",
                                    "SZALL_MOD": "NULL",
                                    "(No column name)": "12"
                                },
                                {
                                    "login": "andras41",
                                    "SZALL_MOD": "GLS",
                                    "(No column name)": "149"
                                },
                                {
                                    "login": "andras41",
                                    "SZALL_MOD": "Posta",
                                    "(No column name)": "137"
                                },
                                {
                                    "login": "andras41",
                                    "SZALL_MOD": "Személyes átvétel",
                                    "(No column name)": "133"
                                },
                                {
                                    "login": "andras41",
                                    "SZALL_MOD": "NULL",
                                    "(No column name)": "419"
                                },
                                {
                                    "login": "ANDRASE",
                                    "SZALL_MOD": "GLS",
                                    "(No column name)": "159"
                                },
                                {
                                    "login": "ANDRASE",
                                    "SZALL_MOD": "Posta",
                                    "(No column name)": "141"
                                },
                                {
                                    "login": "ANDRASE",
                                    "SZALL_MOD": "Személyes átvétel",
                                    "(No column name)": "136"
                                },
                                {
                                    "login": "ANDRASE",
                                    "SZALL_MOD": "NULL",
                                    "(No column name)": "436"
                                },
                                {
                                    "login": "ANDRASN",
                                    "SZALL_MOD": "GLS",
                                    "(No column name)": "10"
                                },
                                {
                                    "login": "ANDRASN",
                                    "SZALL_MOD": "Posta",
                                    "(No column name)": "9"
                                },
                                {
                                    "login": "ANDRASN",
                                    "SZALL_MOD": "Személyes átvétel",
                                    "(No column name)": "5"
                                },
                                {
                                    "login": "ANDRASN",
                                    "SZALL_MOD": "NULL",
                                    "(No column name)": "24"
                                },
                                {
                                    "login": "andrea",
                                    "SZALL_MOD": "GLS",
                                    "(No column name)": "12"
                                },
                                {
                                    "login": "andrea",
                                    "SZALL_MOD": "Posta",
                                    "(No column name)": "4"
                                },
                                {
                                    "login": "andrea",
                                    "SZALL_MOD": "Személyes átvétel",
                                    "(No column name)": "8"
                                },
                                {
                                    "login": "andrea",
                                    "SZALL_MOD": "NULL",
                                    "(No column name)": "24"
                                },
                                {
                                    "login": "andrea3",
                                    "SZALL_MOD": "GLS",
                                    "(No column name)": "131"
                                },
                                {
                                    "login": "andrea3",
                                    "SZALL_MOD": "Posta",
                                    "(No column name)": "136"
                                },
                                {
                                    "login": "andrea3",
                                    "SZALL_MOD": "Személyes átvétel",
                                    "(No column name)": "146"
                                },
                                {
                                    "login": "andrea3",
                                    "SZALL_MOD": "NULL",
                                    "(No column name)": "413"
                                },
                                {
                                    "login": "andrea4",
                                    "SZALL_MOD": "GLS",
                                    "(No column name)": "7"
                                },
                                {
                                    "login": "andrea4",
                                    "SZALL_MOD": "Posta",
                                    "(No column name)": "4"
                                },
                                {
                                    "login": "andrea4",
                                    "SZALL_MOD": "Személyes átvétel",
                                    "(No column name)": "7"
                                },
                                {
                                    "login": "andrea4",
                                    "SZALL_MOD": "NULL",
                                    "(No column name)": "18"
                                },
                                {
                                    "login": "ANDREAT",
                                    "SZALL_MOD": "GLS",
                                    "(No column name)": "3"
                                },
                                {
                                    "login": "ANDREAT",
                                    "SZALL_MOD": "Posta",
                                    "(No column name)": "6"
                                },
                                {
                                    "login": "ANDREAT",
                                    "SZALL_MOD": "Személyes átvétel",
                                    "(No column name)": "12"
                                },
                                {
                                    "login": "ANDREAT",
                                    "SZALL_MOD": "NULL",
                                    "(No column name)": "21"
                                },
                                {
                                    "login": "anett3",
                                    "SZALL_MOD": "GLS",
                                    "(No column name)": "3"
                                },
                                {
                                    "login": "anett3",
                                    "SZALL_MOD": "Posta",
                                    "(No column name)": "6"
                                },
                                {
                                    "login": "anett3",
                                    "SZALL_MOD": "Személyes átvétel",
                                    "(No column name)": "9"
                                },
                                {
                                    "login": "anett3",
                                    "SZALL_MOD": "NULL",
                                    "(No column name)": "18"
                                },
                                {
                                    "login": "aniko",
                                    "SZALL_MOD": "GLS",
                                    "(No column name)": "128"
                                },
                                {
                                    "login": "aniko",
                                    "SZALL_MOD": "Posta",
                                    "(No column name)": "137"
                                },
                                {
                                    "login": "aniko",
                                    "SZALL_MOD": "Személyes átvétel",
                                    "(No column name)": "138"
                                },
                                {
                                    "login": "aniko",
                                    "SZALL_MOD": "NULL",
                                    "(No column name)": "403"
                                },
                                {
                                    "login": "aniko4",
                                    "SZALL_MOD": "GLS",
                                    "(No column name)": "6"
                                },
                                {
                                    "login": "aniko4",
                                    "SZALL_MOD": "Posta",
                                    "(No column name)": "6"
                                },
                                {
                                    "login": "aniko4",
                                    "SZALL_MOD": "Személyes átvétel",
                                    "(No column name)": "3"
                                },
                                {
                                    "login": "aniko4",
                                    "SZALL_MOD": "NULL",
                                    "(No column name)": "15"
                                },
                                {
                                    "login": "ANIKOS",
                                    "SZALL_MOD": "GLS",
                                    "(No column name)": "128"
                                },
                                {
                                    "login": "ANIKOS",
                                    "SZALL_MOD": "Posta",
                                    "(No column name)": "126"
                                },
                                {
                                    "login": "ANIKOS",
                                    "SZALL_MOD": "Személyes átvétel",
                                    "(No column name)": "150"
                                },
                                {
                                    "login": "ANIKOS",
                                    "SZALL_MOD": "NULL",
                                    "(No column name)": "404"
                                },
                                {
                                    "login": "anita",
                                    "SZALL_MOD": "GLS",
                                    "(No column name)": "5"
                                },
                                {
                                    "login": "anita",
                                    "SZALL_MOD": "Posta",
                                    "(No column name)": "2"
                                },
                                {
                                    "login": "anita",
                                    "SZALL_MOD": "Személyes átvétel",
                                    "(No column name)": "5"
                                },
                                {
                                    "login": "anita",
                                    "SZALL_MOD": "NULL",
                                    "(No column name)": "12"
                                },
                                {
                                    "login": "annamaria1",
                                    "SZALL_MOD": "GLS",
                                    "(No column name)": "5"
                                },
                                {
                                    "login": "annamaria1",
                                    "SZALL_MOD": "Posta",
                                    "(No column name)": "4"
                                },
                                {
                                    "login": "annamaria1",
                                    "SZALL_MOD": "Személyes átvétel",
                                    "(No column name)": "7"
                                },
                                {
                                    "login": "annamaria1",
                                    "SZALL_MOD": "NULL",
                                    "(No column name)": "16"
                                },
                                {
                                    "login": "ANNAMARIAR",
                                    "SZALL_MOD": "GLS",
                                    "(No column name)": "8"
                                },
                                {
                                    "login": "ANNAMARIAR",
                                    "SZALL_MOD": "Posta",
                                    "(No column name)": "2"
                                },
                                {
                                    "login": "ANNAMARIAR",
                                    "SZALL_MOD": "Személyes átvétel",
                                    "(No column name)": "3"
                                },
                                {
                                    "login": "ANNAMARIAR",
                                    "SZALL_MOD": "NULL",
                                    "(No column name)": "13"
                                },
                                {
                                    "login": "aron2",
                                    "SZALL_MOD": "GLS",
                                    "(No column name)": "132"
                                },
                                {
                                    "login": "aron2",
                                    "SZALL_MOD": "Posta",
                                    "(No column name)": "133"
                                },
                                {
                                    "login": "aron2",
                                    "SZALL_MOD": "Személyes átvétel",
                                    "(No column name)": "144"
                                },
                                {
                                    "login": "aron2",
                                    "SZALL_MOD": "NULL",
                                    "(No column name)": "409"
                                },
                                {
                                    "login": "ARONK",
                                    "SZALL_MOD": "GLS",
                                    "(No column name)": "155"
                                },
                                {
                                    "login": "ARONK",
                                    "SZALL_MOD": "Posta",
                                    "(No column name)": "120"
                                },
                                {
                                    "login": "ARONK",
                                    "SZALL_MOD": "Személyes átvétel",
                                    "(No column name)": "155"
                                },
                                {
                                    "login": "ARONK",
                                    "SZALL_MOD": "NULL",
                                    "(No column name)": "430"
                                },
                                {
                                    "login": "arpad2",
                                    "SZALL_MOD": "GLS",
                                    "(No column name)": "6"
                                },
                                {
                                    "login": "arpad2",
                                    "SZALL_MOD": "Posta",
                                    "(No column name)": "1"
                                },
                                {
                                    "login": "arpad2",
                                    "SZALL_MOD": "Személyes átvétel",
                                    "(No column name)": "10"
                                },
                                {
                                    "login": "arpad2",
                                    "SZALL_MOD": "NULL",
                                    "(No column name)": "17"
                                },
                                {
                                    "login": "ARPADH",
                                    "SZALL_MOD": "GLS",
                                    "(No column name)": "6"
                                },
                                {
                                    "login": "ARPADH",
                                    "SZALL_MOD": "Posta",
                                    "(No column name)": "3"
                                },
                                {
                                    "login": "ARPADH",
                                    "SZALL_MOD": "Személyes átvétel",
                                    "(No column name)": "5"
                                },
                                {
                                    "login": "ARPADH",
                                    "SZALL_MOD": "NULL",
                                    "(No column name)": "14"
                                },
                                {
                                    "login": "ARPADM",
                                    "SZALL_MOD": "GLS",
                                    "(No column name)": "6"
                                },
                                {
                                    "login": "ARPADM",
                                    "SZALL_MOD": "Posta",
                                    "(No column name)": "3"
                                },
                                {
                                    "login": "ARPADM",
                                    "SZALL_MOD": "Személyes átvétel",
                                    "(No column name)": "7"
                                },
                                {
                                    "login": "ARPADM",
                                    "SZALL_MOD": "NULL",
                                    "(No column name)": "16"
                                },
                                {
                                    "login": "attila1",
                                    "SZALL_MOD": "GLS",
                                    "(No column name)": "5"
                                },
                                {
                                    "login": "attila1",
                                    "SZALL_MOD": "Posta",
                                    "(No column name)": "7"
                                },
                                {
                                    "login": "attila1",
                                    "SZALL_MOD": "Személyes átvétel",
                                    "(No column name)": "6"
                                },
                                {
                                    "login": "attila1",
                                    "SZALL_MOD": "NULL",
                                    "(No column name)": "18"
                                },
                                {
                                    "login": "attila4",
                                    "SZALL_MOD": "GLS",
                                    "(No column name)": "135"
                                },
                                {
                                    "login": "attila4",
                                    "SZALL_MOD": "Posta",
                                    "(No column name)": "125"
                                },
                                {
                                    "login": "attila4",
                                    "SZALL_MOD": "Személyes átvétel",
                                    "(No column name)": "141"
                                },
                                {
                                    "login": "attila4",
                                    "SZALL_MOD": "NULL",
                                    "(No column name)": "401"
                                },
                                {
                                    "login": "ATTILAO",
                                    "SZALL_MOD": "GLS",
                                    "(No column name)": "4"
                                },
                                {
                                    "login": "ATTILAO",
                                    "SZALL_MOD": "Posta",
                                    "(No column name)": "4"
                                },
                                {
                                    "login": "ATTILAO",
                                    "SZALL_MOD": "Személyes átvétel",
                                    "(No column name)": "6"
                                },
                                {
                                    "login": "ATTILAO",
                                    "SZALL_MOD": "NULL",
                                    "(No column name)": "14"
                                },
                                {
                                    "login": "balazs1",
                                    "SZALL_MOD": "GLS",
                                    "(No column name)": "128"
                                },
                                {
                                    "login": "balazs1",
                                    "SZALL_MOD": "Posta",
                                    "(No column name)": "136"
                                },
                                {
                                    "login": "balazs1",
                                    "SZALL_MOD": "Személyes átvétel",
                                    "(No column name)": "155"
                                },
                                {
                                    "login": "balazs1",
                                    "SZALL_MOD": "NULL",
                                    "(No column name)": "419"
                                },
                                {
                                    "login": "balazs2",
                                    "SZALL_MOD": "GLS",
                                    "(No column name)": "5"
                                },
                                {
                                    "login": "balazs2",
                                    "SZALL_MOD": "Posta",
                                    "(No column name)": "7"
                                },
                                {
                                    "login": "balazs2",
                                    "SZALL_MOD": "Személyes átvétel",
                                    "(No column name)": "5"
                                },
                                {
                                    "login": "balazs2",
                                    "SZALL_MOD": "NULL",
                                    "(No column name)": "17"
                                },
                                {
                                    "login": "balazs3",
                                    "SZALL_MOD": "GLS",
                                    "(No column name)": "6"
                                },
                                {
                                    "login": "balazs3",
                                    "SZALL_MOD": "Posta",
                                    "(No column name)": "6"
                                },
                                {
                                    "login": "balazs3",
                                    "SZALL_MOD": "Személyes átvétel",
                                    "(No column name)": "3"
                                },
                                {
                                    "login": "balazs3",
                                    "SZALL_MOD": "NULL",
                                    "(No column name)": "15"
                                },
                                {
                                    "login": "balint",
                                    "SZALL_MOD": "GLS",
                                    "(No column name)": "10"
                                },
                                {
                                    "login": "balint",
                                    "SZALL_MOD": "Posta",
                                    "(No column name)": "4"
                                },
                                {
                                    "login": "balint",
                                    "SZALL_MOD": "Személyes átvétel",
                                    "(No column name)": "2"
                                },
                                {
                                    "login": "balint",
                                    "SZALL_MOD": "NULL",
                                    "(No column name)": "16"
                                },
                                {
                                    "login": "balint1",
                                    "SZALL_MOD": "GLS",
                                    "(No column name)": "158"
                                },
                                {
                                    "login": "balint1",
                                    "SZALL_MOD": "Posta",
                                    "(No column name)": "152"
                                },
                                {
                                    "login": "balint1",
                                    "SZALL_MOD": "Személyes átvétel",
                                    "(No column name)": "152"
                                },
                                {
                                    "login": "balint1",
                                    "SZALL_MOD": "NULL",
                                    "(No column name)": "462"
                                },
                                {
                                    "login": "balint2",
                                    "SZALL_MOD": "GLS",
                                    "(No column name)": "8"
                                },
                                {
                                    "login": "balint2",
                                    "SZALL_MOD": "Posta",
                                    "(No column name)": "6"
                                },
                                {
                                    "login": "balint2",
                                    "SZALL_MOD": "Személyes átvétel",
                                    "(No column name)": "3"
                                },
                                {
                                    "login": "balint2",
                                    "SZALL_MOD": "NULL",
                                    "(No column name)": "17"
                                },
                                {
                                    "login": "balu",
                                    "SZALL_MOD": "GLS",
                                    "(No column name)": "127"
                                },
                                {
                                    "login": "balu",
                                    "SZALL_MOD": "Posta",
                                    "(No column name)": "137"
                                },
                                {
                                    "login": "balu",
                                    "SZALL_MOD": "Személyes átvétel",
                                    "(No column name)": "123"
                                },
                                {
                                    "login": "balu",
                                    "SZALL_MOD": "NULL",
                                    "(No column name)": "387"
                                },
                                {
                                    "login": "BEATRIXK",
                                    "SZALL_MOD": "GLS",
                                    "(No column name)": "135"
                                },
                                {
                                    "login": "BEATRIXK",
                                    "SZALL_MOD": "Posta",
                                    "(No column name)": "155"
                                },
                                {
                                    "login": "BEATRIXK",
                                    "SZALL_MOD": "Személyes átvétel",
                                    "(No column name)": "145"
                                },
                                {
                                    "login": "BEATRIXK",
                                    "SZALL_MOD": "NULL",
                                    "(No column name)": "435"
                                },
                                {
                                    "login": "BEATRIXS",
                                    "SZALL_MOD": "GLS",
                                    "(No column name)": "146"
                                },
                                {
                                    "login": "BEATRIXS",
                                    "SZALL_MOD": "Posta",
                                    "(No column name)": "141"
                                },
                                {
                                    "login": "BEATRIXS",
                                    "SZALL_MOD": "Személyes átvétel",
                                    "(No column name)": "133"
                                },
                                {
                                    "login": "BEATRIXS",
                                    "SZALL_MOD": "NULL",
                                    "(No column name)": "420"
                                },
                                {
                                    "login": "BELAF",
                                    "SZALL_MOD": "GLS",
                                    "(No column name)": "11"
                                },
                                {
                                    "login": "BELAF",
                                    "SZALL_MOD": "Posta",
                                    "(No column name)": "2"
                                },
                                {
                                    "login": "BELAF",
                                    "SZALL_MOD": "Személyes átvétel",
                                    "(No column name)": "5"
                                },
                                {
                                    "login": "BELAF",
                                    "SZALL_MOD": "NULL",
                                    "(No column name)": "18"
                                },
                                {
                                    "login": "bence",
                                    "SZALL_MOD": "GLS",
                                    "(No column name)": "4"
                                },
                                {
                                    "login": "bence",
                                    "SZALL_MOD": "Posta",
                                    "(No column name)": "6"
                                },
                                {
                                    "login": "bence",
                                    "SZALL_MOD": "Személyes átvétel",
                                    "(No column name)": "8"
                                },
                                {
                                    "login": "bence",
                                    "SZALL_MOD": "NULL",
                                    "(No column name)": "18"
                                },
                                {
                                    "login": "BENCEB",
                                    "SZALL_MOD": "GLS",
                                    "(No column name)": "5"
                                },
                                {
                                    "login": "BENCEB",
                                    "SZALL_MOD": "Posta",
                                    "(No column name)": "7"
                                },
                                {
                                    "login": "BENCEB",
                                    "SZALL_MOD": "Személyes átvétel",
                                    "(No column name)": "5"
                                },
                                {
                                    "login": "BENCEB",
                                    "SZALL_MOD": "NULL",
                                    "(No column name)": "17"
                                },
                                {
                                    "login": "bernadett1",
                                    "SZALL_MOD": "GLS",
                                    "(No column name)": "10"
                                },
                                {
                                    "login": "bernadett1",
                                    "SZALL_MOD": "Posta",
                                    "(No column name)": "5"
                                },
                                {
                                    "login": "bernadett1",
                                    "SZALL_MOD": "Személyes átvétel",
                                    "(No column name)": "5"
                                },
                                {
                                    "login": "bernadett1",
                                    "SZALL_MOD": "NULL",
                                    "(No column name)": "20"
                                },
                                {
                                    "login": "bernadett2",
                                    "SZALL_MOD": "GLS",
                                    "(No column name)": "6"
                                },
                                {
                                    "login": "bernadett2",
                                    "SZALL_MOD": "Posta",
                                    "(No column name)": "2"
                                },
                                {
                                    "login": "bernadett2",
                                    "SZALL_MOD": "Személyes átvétel",
                                    "(No column name)": "7"
                                },
                                {
                                    "login": "bernadett2",
                                    "SZALL_MOD": "NULL",
                                    "(No column name)": "15"
                                },
                                {
                                    "login": "BERNADETTO",
                                    "SZALL_MOD": "GLS",
                                    "(No column name)": "7"
                                },
                                {
                                    "login": "BERNADETTO",
                                    "SZALL_MOD": "Posta",
                                    "(No column name)": "2"
                                },
                                {
                                    "login": "BERNADETTO",
                                    "SZALL_MOD": "Személyes átvétel",
                                    "(No column name)": "7"
                                },
                                {
                                    "login": "BERNADETTO",
                                    "SZALL_MOD": "NULL",
                                    "(No column name)": "16"
                                },
                                {
                                    "login": "bertalan",
                                    "SZALL_MOD": "GLS",
                                    "(No column name)": "128"
                                },
                                {
                                    "login": "bertalan",
                                    "SZALL_MOD": "Posta",
                                    "(No column name)": "124"
                                },
                                {
                                    "login": "bertalan",
                                    "SZALL_MOD": "Személyes átvétel",
                                    "(No column name)": "101"
                                },
                                {
                                    "login": "bertalan",
                                    "SZALL_MOD": "NULL",
                                    "(No column name)": "353"
                                },
                                {
                                    "login": "brigitta",
                                    "SZALL_MOD": "GLS",
                                    "(No column name)": "137"
                                },
                                {
                                    "login": "brigitta",
                                    "SZALL_MOD": "Posta",
                                    "(No column name)": "137"
                                },
                                {
                                    "login": "brigitta",
                                    "SZALL_MOD": "Személyes átvétel",
                                    "(No column name)": "119"
                                },
                                {
                                    "login": "brigitta",
                                    "SZALL_MOD": "NULL",
                                    "(No column name)": "393"
                                },
                                {
                                    "login": "brigitta3",
                                    "SZALL_MOD": "GLS",
                                    "(No column name)": "144"
                                },
                                {
                                    "login": "brigitta3",
                                    "SZALL_MOD": "Posta",
                                    "(No column name)": "130"
                                },
                                {
                                    "login": "brigitta3",
                                    "SZALL_MOD": "Személyes átvétel",
                                    "(No column name)": "139"
                                },
                                {
                                    "login": "brigitta3",
                                    "SZALL_MOD": "NULL",
                                    "(No column name)": "413"
                                },
                                {
                                    "login": "csongor3",
                                    "SZALL_MOD": "GLS",
                                    "(No column name)": "5"
                                },
                                {
                                    "login": "csongor3",
                                    "SZALL_MOD": "Posta",
                                    "(No column name)": "2"
                                },
                                {
                                    "login": "csongor3",
                                    "SZALL_MOD": "Személyes átvétel",
                                    "(No column name)": "8"
                                },
                                {
                                    "login": "csongor3",
                                    "SZALL_MOD": "NULL",
                                    "(No column name)": "15"
                                },
                                {
                                    "login": "dani",
                                    "SZALL_MOD": "GLS",
                                    "(No column name)": "5"
                                },
                                {
                                    "login": "dani",
                                    "SZALL_MOD": "Személyes átvétel",
                                    "(No column name)": "8"
                                },
                                {
                                    "login": "dani",
                                    "SZALL_MOD": "NULL",
                                    "(No column name)": "13"
                                },
                                {
                                    "login": "daniel",
                                    "SZALL_MOD": "GLS",
                                    "(No column name)": "7"
                                },
                                {
                                    "login": "daniel",
                                    "SZALL_MOD": "Posta",
                                    "(No column name)": "2"
                                },
                                {
                                    "login": "daniel",
                                    "SZALL_MOD": "Személyes átvétel",
                                    "(No column name)": "4"
                                },
                                {
                                    "login": "daniel",
                                    "SZALL_MOD": "NULL",
                                    "(No column name)": "13"
                                },
                                {
                                    "login": "daniel1",
                                    "SZALL_MOD": "GLS",
                                    "(No column name)": "156"
                                },
                                {
                                    "login": "daniel1",
                                    "SZALL_MOD": "Posta",
                                    "(No column name)": "131"
                                },
                                {
                                    "login": "daniel1",
                                    "SZALL_MOD": "Személyes átvétel",
                                    "(No column name)": "132"
                                },
                                {
                                    "login": "daniel1",
                                    "SZALL_MOD": "NULL",
                                    "(No column name)": "419"
                                },
                                {
                                    "login": "david",
                                    "SZALL_MOD": "GLS",
                                    "(No column name)": "161"
                                },
                                {
                                    "login": "david",
                                    "SZALL_MOD": "Posta",
                                    "(No column name)": "144"
                                },
                                {
                                    "login": "david",
                                    "SZALL_MOD": "Személyes átvétel",
                                    "(No column name)": "146"
                                },
                                {
                                    "login": "david",
                                    "SZALL_MOD": "NULL",
                                    "(No column name)": "451"
                                },
                                {
                                    "login": "david1",
                                    "SZALL_MOD": "GLS",
                                    "(No column name)": "8"
                                },
                                {
                                    "login": "david1",
                                    "SZALL_MOD": "Posta",
                                    "(No column name)": "1"
                                },
                                {
                                    "login": "david1",
                                    "SZALL_MOD": "Személyes átvétel",
                                    "(No column name)": "8"
                                },
                                {
                                    "login": "david1",
                                    "SZALL_MOD": "NULL",
                                    "(No column name)": "17"
                                },
                                {
                                    "login": "david4",
                                    "SZALL_MOD": "GLS",
                                    "(No column name)": "3"
                                },
                                {
                                    "login": "david4",
                                    "SZALL_MOD": "Posta",
                                    "(No column name)": "8"
                                },
                                {
                                    "login": "david4",
                                    "SZALL_MOD": "Személyes átvétel",
                                    "(No column name)": "10"
                                },
                                {
                                    "login": "david4",
                                    "SZALL_MOD": "NULL",
                                    "(No column name)": "21"
                                },
                                {
                                    "login": "debora",
                                    "SZALL_MOD": "GLS",
                                    "(No column name)": "7"
                                },
                                {
                                    "login": "debora",
                                    "SZALL_MOD": "Posta",
                                    "(No column name)": "6"
                                },
                                {
                                    "login": "debora",
                                    "SZALL_MOD": "Személyes átvétel",
                                    "(No column name)": "3"
                                },
                                {
                                    "login": "debora",
                                    "SZALL_MOD": "NULL",
                                    "(No column name)": "16"
                                },
                                {
                                    "login": "denes",
                                    "SZALL_MOD": "GLS",
                                    "(No column name)": "3"
                                },
                                {
                                    "login": "denes",
                                    "SZALL_MOD": "Posta",
                                    "(No column name)": "2"
                                },
                                {
                                    "login": "denes",
                                    "SZALL_MOD": "Személyes átvétel",
                                    "(No column name)": "4"
                                },
                                {
                                    "login": "denes",
                                    "SZALL_MOD": "NULL",
                                    "(No column name)": "9"
                                },
                                {
                                    "login": "dora3",
                                    "SZALL_MOD": "GLS",
                                    "(No column name)": "144"
                                },
                                {
                                    "login": "dora3",
                                    "SZALL_MOD": "Posta",
                                    "(No column name)": "124"
                                },
                                {
                                    "login": "dora3",
                                    "SZALL_MOD": "Személyes átvétel",
                                    "(No column name)": "164"
                                },
                                {
                                    "login": "dora3",
                                    "SZALL_MOD": "NULL",
                                    "(No column name)": "432"
                                },
                                {
                                    "login": "edit",
                                    "SZALL_MOD": "GLS",
                                    "(No column name)": "7"
                                },
                                {
                                    "login": "edit",
                                    "SZALL_MOD": "Posta",
                                    "(No column name)": "2"
                                },
                                {
                                    "login": "edit",
                                    "SZALL_MOD": "Személyes átvétel",
                                    "(No column name)": "4"
                                },
                                {
                                    "login": "edit",
                                    "SZALL_MOD": "NULL",
                                    "(No column name)": "13"
                                },
                                {
                                    "login": "emese",
                                    "SZALL_MOD": "GLS",
                                    "(No column name)": "128"
                                },
                                {
                                    "login": "emese",
                                    "SZALL_MOD": "Posta",
                                    "(No column name)": "136"
                                },
                                {
                                    "login": "emese",
                                    "SZALL_MOD": "Személyes átvétel",
                                    "(No column name)": "142"
                                },
                                {
                                    "login": "emese",
                                    "SZALL_MOD": "NULL",
                                    "(No column name)": "406"
                                },
                                {
                                    "login": "eszter2",
                                    "SZALL_MOD": "GLS",
                                    "(No column name)": "127"
                                },
                                {
                                    "login": "eszter2",
                                    "SZALL_MOD": "Posta",
                                    "(No column name)": "136"
                                },
                                {
                                    "login": "eszter2",
                                    "SZALL_MOD": "Személyes átvétel",
                                    "(No column name)": "152"
                                },
                                {
                                    "login": "eszter2",
                                    "SZALL_MOD": "NULL",
                                    "(No column name)": "415"
                                },
                                {
                                    "login": "eszter4",
                                    "SZALL_MOD": "GLS",
                                    "(No column name)": "141"
                                },
                                {
                                    "login": "eszter4",
                                    "SZALL_MOD": "Posta",
                                    "(No column name)": "134"
                                },
                                {
                                    "login": "eszter4",
                                    "SZALL_MOD": "Személyes átvétel",
                                    "(No column name)": "149"
                                },
                                {
                                    "login": "eszter4",
                                    "SZALL_MOD": "NULL",
                                    "(No column name)": "424"
                                },
                                {
                                    "login": "ESZTERE",
                                    "SZALL_MOD": "GLS",
                                    "(No column name)": "6"
                                },
                                {
                                    "login": "ESZTERE",
                                    "SZALL_MOD": "Posta",
                                    "(No column name)": "9"
                                },
                                {
                                    "login": "ESZTERE",
                                    "SZALL_MOD": "Személyes átvétel",
                                    "(No column name)": "7"
                                },
                                {
                                    "login": "ESZTERE",
                                    "SZALL_MOD": "NULL",
                                    "(No column name)": "22"
                                },
                                {
                                    "login": "eva",
                                    "SZALL_MOD": "GLS",
                                    "(No column name)": "125"
                                },
                                {
                                    "login": "eva",
                                    "SZALL_MOD": "Posta",
                                    "(No column name)": "140"
                                },
                                {
                                    "login": "eva",
                                    "SZALL_MOD": "Személyes átvétel",
                                    "(No column name)": "139"
                                },
                                {
                                    "login": "eva",
                                    "SZALL_MOD": "NULL",
                                    "(No column name)": "404"
                                },
                                {
                                    "login": "eva2",
                                    "SZALL_MOD": "GLS",
                                    "(No column name)": "154"
                                },
                                {
                                    "login": "eva2",
                                    "SZALL_MOD": "Posta",
                                    "(No column name)": "138"
                                },
                                {
                                    "login": "eva2",
                                    "SZALL_MOD": "Személyes átvétel",
                                    "(No column name)": "170"
                                },
                                {
                                    "login": "eva2",
                                    "SZALL_MOD": "NULL",
                                    "(No column name)": "462"
                                },
                                {
                                    "login": "EVAV",
                                    "SZALL_MOD": "GLS",
                                    "(No column name)": "2"
                                },
                                {
                                    "login": "EVAV",
                                    "SZALL_MOD": "Posta",
                                    "(No column name)": "1"
                                },
                                {
                                    "login": "EVAV",
                                    "SZALL_MOD": "Személyes átvétel",
                                    "(No column name)": "4"
                                },
                                {
                                    "login": "EVAV",
                                    "SZALL_MOD": "NULL",
                                    "(No column name)": "7"
                                },
                                {
                                    "login": "ferenc1",
                                    "SZALL_MOD": "GLS",
                                    "(No column name)": "144"
                                },
                                {
                                    "login": "ferenc1",
                                    "SZALL_MOD": "Posta",
                                    "(No column name)": "158"
                                },
                                {
                                    "login": "ferenc1",
                                    "SZALL_MOD": "Személyes átvétel",
                                    "(No column name)": "135"
                                },
                                {
                                    "login": "ferenc1",
                                    "SZALL_MOD": "NULL",
                                    "(No column name)": "437"
                                },
                                {
                                    "login": "fruzsina4",
                                    "SZALL_MOD": "GLS",
                                    "(No column name)": "8"
                                },
                                {
                                    "login": "fruzsina4",
                                    "SZALL_MOD": "Posta",
                                    "(No column name)": "3"
                                },
                                {
                                    "login": "fruzsina4",
                                    "SZALL_MOD": "Személyes átvétel",
                                    "(No column name)": "7"
                                },
                                {
                                    "login": "fruzsina4",
                                    "SZALL_MOD": "NULL",
                                    "(No column name)": "18"
                                },
                                {
                                    "login": "gabor1",
                                    "SZALL_MOD": "GLS",
                                    "(No column name)": "9"
                                },
                                {
                                    "login": "gabor1",
                                    "SZALL_MOD": "Posta",
                                    "(No column name)": "5"
                                },
                                {
                                    "login": "gabor1",
                                    "SZALL_MOD": "Személyes átvétel",
                                    "(No column name)": "5"
                                },
                                {
                                    "login": "gabor1",
                                    "SZALL_MOD": "NULL",
                                    "(No column name)": "19"
                                },
                                {
                                    "login": "gabor4",
                                    "SZALL_MOD": "GLS",
                                    "(No column name)": "7"
                                },
                                {
                                    "login": "gabor4",
                                    "SZALL_MOD": "Posta",
                                    "(No column name)": "9"
                                },
                                {
                                    "login": "gabor4",
                                    "SZALL_MOD": "Személyes átvétel",
                                    "(No column name)": "4"
                                },
                                {
                                    "login": "gabor4",
                                    "SZALL_MOD": "NULL",
                                    "(No column name)": "20"
                                },
                                {
                                    "login": "GABORS",
                                    "SZALL_MOD": "GLS",
                                    "(No column name)": "5"
                                },
                                {
                                    "login": "GABORS",
                                    "SZALL_MOD": "Posta",
                                    "(No column name)": "6"
                                },
                                {
                                    "login": "GABORS",
                                    "SZALL_MOD": "Személyes átvétel",
                                    "(No column name)": "4"
                                },
                                {
                                    "login": "GABORS",
                                    "SZALL_MOD": "NULL",
                                    "(No column name)": "15"
                                },
                                {
                                    "login": "gabriella1",
                                    "SZALL_MOD": "GLS",
                                    "(No column name)": "5"
                                },
                                {
                                    "login": "gabriella1",
                                    "SZALL_MOD": "Posta",
                                    "(No column name)": "4"
                                },
                                {
                                    "login": "gabriella1",
                                    "SZALL_MOD": "Személyes átvétel",
                                    "(No column name)": "5"
                                },
                                {
                                    "login": "gabriella1",
                                    "SZALL_MOD": "NULL",
                                    "(No column name)": "14"
                                },
                                {
                                    "login": "gabriella10",
                                    "SZALL_MOD": "GLS",
                                    "(No column name)": "4"
                                },
                                {
                                    "login": "gabriella10",
                                    "SZALL_MOD": "Posta",
                                    "(No column name)": "5"
                                },
                                {
                                    "login": "gabriella10",
                                    "SZALL_MOD": "Személyes átvétel",
                                    "(No column name)": "7"
                                },
                                {
                                    "login": "gabriella10",
                                    "SZALL_MOD": "NULL",
                                    "(No column name)": "16"
                                },
                                {
                                    "login": "georgij",
                                    "SZALL_MOD": "GLS",
                                    "(No column name)": "9"
                                },
                                {
                                    "login": "georgij",
                                    "SZALL_MOD": "Posta",
                                    "(No column name)": "2"
                                },
                                {
                                    "login": "georgij",
                                    "SZALL_MOD": "Személyes átvétel",
                                    "(No column name)": "10"
                                },
                                {
                                    "login": "georgij",
                                    "SZALL_MOD": "NULL",
                                    "(No column name)": "21"
                                },
                                {
                                    "login": "gusztav",
                                    "SZALL_MOD": "GLS",
                                    "(No column name)": "5"
                                },
                                {
                                    "login": "gusztav",
                                    "SZALL_MOD": "Posta",
                                    "(No column name)": "4"
                                },
                                {
                                    "login": "gusztav",
                                    "SZALL_MOD": "Személyes átvétel",
                                    "(No column name)": "5"
                                },
                                {
                                    "login": "gusztav",
                                    "SZALL_MOD": "NULL",
                                    "(No column name)": "14"
                                },
                                {
                                    "login": "GYONGYIK",
                                    "SZALL_MOD": "GLS",
                                    "(No column name)": "6"
                                },
                                {
                                    "login": "GYONGYIK",
                                    "SZALL_MOD": "Posta",
                                    "(No column name)": "6"
                                },
                                {
                                    "login": "GYONGYIK",
                                    "SZALL_MOD": "Személyes átvétel",
                                    "(No column name)": "3"
                                },
                                {
                                    "login": "GYONGYIK",
                                    "SZALL_MOD": "NULL",
                                    "(No column name)": "15"
                                },
                                {
                                    "login": "GYORGYO",
                                    "SZALL_MOD": "GLS",
                                    "(No column name)": "7"
                                },
                                {
                                    "login": "GYORGYO",
                                    "SZALL_MOD": "Posta",
                                    "(No column name)": "4"
                                },
                                {
                                    "login": "GYORGYO",
                                    "SZALL_MOD": "Személyes átvétel",
                                    "(No column name)": "5"
                                },
                                {
                                    "login": "GYORGYO",
                                    "SZALL_MOD": "NULL",
                                    "(No column name)": "16"
                                },
                                {
                                    "login": "henrik3",
                                    "SZALL_MOD": "GLS",
                                    "(No column name)": "7"
                                },
                                {
                                    "login": "henrik3",
                                    "SZALL_MOD": "Posta",
                                    "(No column name)": "4"
                                },
                                {
                                    "login": "henrik3",
                                    "SZALL_MOD": "Személyes átvétel",
                                    "(No column name)": "5"
                                },
                                {
                                    "login": "henrik3",
                                    "SZALL_MOD": "NULL",
                                    "(No column name)": "16"
                                },
                                {
                                    "login": "IBOLYAA",
                                    "SZALL_MOD": "GLS",
                                    "(No column name)": "140"
                                },
                                {
                                    "login": "IBOLYAA",
                                    "SZALL_MOD": "Posta",
                                    "(No column name)": "125"
                                },
                                {
                                    "login": "IBOLYAA",
                                    "SZALL_MOD": "Személyes átvétel",
                                    "(No column name)": "157"
                                },
                                {
                                    "login": "IBOLYAA",
                                    "SZALL_MOD": "NULL",
                                    "(No column name)": "422"
                                },
                                {
                                    "login": "ilona3",
                                    "SZALL_MOD": "GLS",
                                    "(No column name)": "9"
                                },
                                {
                                    "login": "ilona3",
                                    "SZALL_MOD": "Posta",
                                    "(No column name)": "2"
                                },
                                {
                                    "login": "ilona3",
                                    "SZALL_MOD": "Személyes átvétel",
                                    "(No column name)": "7"
                                },
                                {
                                    "login": "ilona3",
                                    "SZALL_MOD": "NULL",
                                    "(No column name)": "18"
                                },
                                {
                                    "login": "imre",
                                    "SZALL_MOD": "GLS",
                                    "(No column name)": "5"
                                },
                                {
                                    "login": "imre",
                                    "SZALL_MOD": "Posta",
                                    "(No column name)": "4"
                                },
                                {
                                    "login": "imre",
                                    "SZALL_MOD": "Személyes átvétel",
                                    "(No column name)": "6"
                                },
                                {
                                    "login": "imre",
                                    "SZALL_MOD": "NULL",
                                    "(No column name)": "15"
                                },
                                {
                                    "login": "imre1",
                                    "SZALL_MOD": "GLS",
                                    "(No column name)": "8"
                                },
                                {
                                    "login": "imre1",
                                    "SZALL_MOD": "Posta",
                                    "(No column name)": "4"
                                },
                                {
                                    "login": "imre1",
                                    "SZALL_MOD": "Személyes átvétel",
                                    "(No column name)": "3"
                                },
                                {
                                    "login": "imre1",
                                    "SZALL_MOD": "NULL",
                                    "(No column name)": "15"
                                },
                                {
                                    "login": "istvan",
                                    "SZALL_MOD": "GLS",
                                    "(No column name)": "3"
                                },
                                {
                                    "login": "istvan",
                                    "SZALL_MOD": "Posta",
                                    "(No column name)": "4"
                                },
                                {
                                    "login": "istvan",
                                    "SZALL_MOD": "Személyes átvétel",
                                    "(No column name)": "4"
                                },
                                {
                                    "login": "istvan",
                                    "SZALL_MOD": "NULL",
                                    "(No column name)": "11"
                                },
                                {
                                    "login": "istvan1",
                                    "SZALL_MOD": "GLS",
                                    "(No column name)": "8"
                                },
                                {
                                    "login": "istvan1",
                                    "SZALL_MOD": "Posta",
                                    "(No column name)": "4"
                                },
                                {
                                    "login": "istvan1",
                                    "SZALL_MOD": "Személyes átvétel",
                                    "(No column name)": "7"
                                },
                                {
                                    "login": "istvan1",
                                    "SZALL_MOD": "NULL",
                                    "(No column name)": "19"
                                },
                                {
                                    "login": "ISTVANV",
                                    "SZALL_MOD": "GLS",
                                    "(No column name)": "4"
                                },
                                {
                                    "login": "ISTVANV",
                                    "SZALL_MOD": "Posta",
                                    "(No column name)": "9"
                                },
                                {
                                    "login": "ISTVANV",
                                    "SZALL_MOD": "Személyes átvétel",
                                    "(No column name)": "8"
                                },
                                {
                                    "login": "ISTVANV",
                                    "SZALL_MOD": "NULL",
                                    "(No column name)": "21"
                                },
                                {
                                    "login": "janos3",
                                    "SZALL_MOD": "GLS",
                                    "(No column name)": "5"
                                },
                                {
                                    "login": "janos3",
                                    "SZALL_MOD": "Posta",
                                    "(No column name)": "2"
                                },
                                {
                                    "login": "janos3",
                                    "SZALL_MOD": "Személyes átvétel",
                                    "(No column name)": "6"
                                },
                                {
                                    "login": "janos3",
                                    "SZALL_MOD": "NULL",
                                    "(No column name)": "13"
                                },
                                {
                                    "login": "JANOSG",
                                    "SZALL_MOD": "GLS",
                                    "(No column name)": "3"
                                },
                                {
                                    "login": "JANOSG",
                                    "SZALL_MOD": "Posta",
                                    "(No column name)": "3"
                                },
                                {
                                    "login": "JANOSG",
                                    "SZALL_MOD": "Személyes átvétel",
                                    "(No column name)": "4"
                                },
                                {
                                    "login": "JANOSG",
                                    "SZALL_MOD": "NULL",
                                    "(No column name)": "10"
                                },
                                {
                                    "login": "JANOSP",
                                    "SZALL_MOD": "GLS",
                                    "(No column name)": "7"
                                },
                                {
                                    "login": "JANOSP",
                                    "SZALL_MOD": "Posta",
                                    "(No column name)": "7"
                                },
                                {
                                    "login": "JANOSP",
                                    "SZALL_MOD": "Személyes átvétel",
                                    "(No column name)": "3"
                                },
                                {
                                    "login": "JANOSP",
                                    "SZALL_MOD": "NULL",
                                    "(No column name)": "17"
                                },
                                {
                                    "login": "jozsef",
                                    "SZALL_MOD": "GLS",
                                    "(No column name)": "116"
                                },
                                {
                                    "login": "jozsef",
                                    "SZALL_MOD": "Posta",
                                    "(No column name)": "132"
                                },
                                {
                                    "login": "jozsef",
                                    "SZALL_MOD": "Személyes átvétel",
                                    "(No column name)": "134"
                                },
                                {
                                    "login": "jozsef",
                                    "SZALL_MOD": "NULL",
                                    "(No column name)": "382"
                                },
                                {
                                    "login": "jozsef2",
                                    "SZALL_MOD": "GLS",
                                    "(No column name)": "7"
                                },
                                {
                                    "login": "jozsef2",
                                    "SZALL_MOD": "Posta",
                                    "(No column name)": "2"
                                },
                                {
                                    "login": "jozsef2",
                                    "SZALL_MOD": "Személyes átvétel",
                                    "(No column name)": "4"
                                },
                                {
                                    "login": "jozsef2",
                                    "SZALL_MOD": "NULL",
                                    "(No column name)": "13"
                                },
                                {
                                    "login": "JOZSEFG",
                                    "SZALL_MOD": "GLS",
                                    "(No column name)": "11"
                                },
                                {
                                    "login": "JOZSEFG",
                                    "SZALL_MOD": "Posta",
                                    "(No column name)": "1"
                                },
                                {
                                    "login": "JOZSEFG",
                                    "SZALL_MOD": "Személyes átvétel",
                                    "(No column name)": "9"
                                },
                                {
                                    "login": "JOZSEFG",
                                    "SZALL_MOD": "NULL",
                                    "(No column name)": "21"
                                },
                                {
                                    "login": "JUDITH",
                                    "SZALL_MOD": "GLS",
                                    "(No column name)": "170"
                                },
                                {
                                    "login": "JUDITH",
                                    "SZALL_MOD": "Posta",
                                    "(No column name)": "130"
                                },
                                {
                                    "login": "JUDITH",
                                    "SZALL_MOD": "Személyes átvétel",
                                    "(No column name)": "150"
                                },
                                {
                                    "login": "JUDITH",
                                    "SZALL_MOD": "NULL",
                                    "(No column name)": "450"
                                },
                                {
                                    "login": "julia",
                                    "SZALL_MOD": "GLS",
                                    "(No column name)": "137"
                                },
                                {
                                    "login": "julia",
                                    "SZALL_MOD": "Posta",
                                    "(No column name)": "160"
                                },
                                {
                                    "login": "julia",
                                    "SZALL_MOD": "Személyes átvétel",
                                    "(No column name)": "138"
                                },
                                {
                                    "login": "julia",
                                    "SZALL_MOD": "NULL",
                                    "(No column name)": "435"
                                },
                                {
                                    "login": "julia4",
                                    "SZALL_MOD": "GLS",
                                    "(No column name)": "2"
                                },
                                {
                                    "login": "julia4",
                                    "SZALL_MOD": "Posta",
                                    "(No column name)": "4"
                                },
                                {
                                    "login": "julia4",
                                    "SZALL_MOD": "Személyes átvétel",
                                    "(No column name)": "8"
                                },
                                {
                                    "login": "julia4",
                                    "SZALL_MOD": "NULL",
                                    "(No column name)": "14"
                                },
                                {
                                    "login": "julianna4",
                                    "SZALL_MOD": "GLS",
                                    "(No column name)": "8"
                                },
                                {
                                    "login": "julianna4",
                                    "SZALL_MOD": "Posta",
                                    "(No column name)": "12"
                                },
                                {
                                    "login": "julianna4",
                                    "SZALL_MOD": "Személyes átvétel",
                                    "(No column name)": "7"
                                },
                                {
                                    "login": "julianna4",
                                    "SZALL_MOD": "NULL",
                                    "(No column name)": "27"
                                },
                                {
                                    "login": "kata",
                                    "SZALL_MOD": "GLS",
                                    "(No column name)": "5"
                                },
                                {
                                    "login": "kata",
                                    "SZALL_MOD": "Posta",
                                    "(No column name)": "4"
                                },
                                {
                                    "login": "kata",
                                    "SZALL_MOD": "Személyes átvétel",
                                    "(No column name)": "3"
                                },
                                {
                                    "login": "kata",
                                    "SZALL_MOD": "NULL",
                                    "(No column name)": "12"
                                },
                                {
                                    "login": "katalin",
                                    "SZALL_MOD": "GLS",
                                    "(No column name)": "7"
                                },
                                {
                                    "login": "katalin",
                                    "SZALL_MOD": "Posta",
                                    "(No column name)": "7"
                                },
                                {
                                    "login": "katalin",
                                    "SZALL_MOD": "Személyes átvétel",
                                    "(No column name)": "5"
                                },
                                {
                                    "login": "katalin",
                                    "SZALL_MOD": "NULL",
                                    "(No column name)": "19"
                                },
                                {
                                    "login": "katalin4",
                                    "SZALL_MOD": "GLS",
                                    "(No column name)": "7"
                                },
                                {
                                    "login": "katalin4",
                                    "SZALL_MOD": "Posta",
                                    "(No column name)": "5"
                                },
                                {
                                    "login": "katalin4",
                                    "SZALL_MOD": "Személyes átvétel",
                                    "(No column name)": "11"
                                },
                                {
                                    "login": "katalin4",
                                    "SZALL_MOD": "NULL",
                                    "(No column name)": "23"
                                },
                                {
                                    "login": "kati",
                                    "SZALL_MOD": "GLS",
                                    "(No column name)": "4"
                                },
                                {
                                    "login": "kati",
                                    "SZALL_MOD": "Posta",
                                    "(No column name)": "5"
                                },
                                {
                                    "login": "kati",
                                    "SZALL_MOD": "Személyes átvétel",
                                    "(No column name)": "4"
                                },
                                {
                                    "login": "kati",
                                    "SZALL_MOD": "NULL",
                                    "(No column name)": "13"
                                },
                                {
                                    "login": "katka",
                                    "SZALL_MOD": "GLS",
                                    "(No column name)": "6"
                                },
                                {
                                    "login": "katka",
                                    "SZALL_MOD": "Posta",
                                    "(No column name)": "6"
                                },
                                {
                                    "login": "katka",
                                    "SZALL_MOD": "Személyes átvétel",
                                    "(No column name)": "10"
                                },
                                {
                                    "login": "katka",
                                    "SZALL_MOD": "NULL",
                                    "(No column name)": "22"
                                },
                                {
                                    "login": "klaudia2",
                                    "SZALL_MOD": "GLS",
                                    "(No column name)": "3"
                                },
                                {
                                    "login": "klaudia2",
                                    "SZALL_MOD": "Posta",
                                    "(No column name)": "9"
                                },
                                {
                                    "login": "klaudia2",
                                    "SZALL_MOD": "Személyes átvétel",
                                    "(No column name)": "5"
                                },
                                {
                                    "login": "klaudia2",
                                    "SZALL_MOD": "NULL",
                                    "(No column name)": "17"
                                },
                                {
                                    "login": "kornel4",
                                    "SZALL_MOD": "GLS",
                                    "(No column name)": "3"
                                },
                                {
                                    "login": "kornel4",
                                    "SZALL_MOD": "Posta",
                                    "(No column name)": "1"
                                },
                                {
                                    "login": "kornel4",
                                    "SZALL_MOD": "Személyes átvétel",
                                    "(No column name)": "7"
                                },
                                {
                                    "login": "kornel4",
                                    "SZALL_MOD": "NULL",
                                    "(No column name)": "11"
                                },
                                {
                                    "login": "kristof4",
                                    "SZALL_MOD": "GLS",
                                    "(No column name)": "9"
                                },
                                {
                                    "login": "kristof4",
                                    "SZALL_MOD": "Posta",
                                    "(No column name)": "4"
                                },
                                {
                                    "login": "kristof4",
                                    "SZALL_MOD": "Személyes átvétel",
                                    "(No column name)": "8"
                                },
                                {
                                    "login": "kristof4",
                                    "SZALL_MOD": "NULL",
                                    "(No column name)": "21"
                                },
                                {
                                    "login": "kriszti",
                                    "SZALL_MOD": "GLS",
                                    "(No column name)": "3"
                                },
                                {
                                    "login": "kriszti",
                                    "SZALL_MOD": "Posta",
                                    "(No column name)": "5"
                                },
                                {
                                    "login": "kriszti",
                                    "SZALL_MOD": "Személyes átvétel",
                                    "(No column name)": "5"
                                },
                                {
                                    "login": "kriszti",
                                    "SZALL_MOD": "NULL",
                                    "(No column name)": "13"
                                },
                                {
                                    "login": "krisztian4",
                                    "SZALL_MOD": "GLS",
                                    "(No column name)": "5"
                                },
                                {
                                    "login": "krisztian4",
                                    "SZALL_MOD": "Posta",
                                    "(No column name)": "6"
                                },
                                {
                                    "login": "krisztian4",
                                    "SZALL_MOD": "Személyes átvétel",
                                    "(No column name)": "6"
                                },
                                {
                                    "login": "krisztian4",
                                    "SZALL_MOD": "NULL",
                                    "(No column name)": "17"
                                },
                                {
                                    "login": "KRISZTIANM",
                                    "SZALL_MOD": "GLS",
                                    "(No column name)": "118"
                                },
                                {
                                    "login": "KRISZTIANM",
                                    "SZALL_MOD": "Posta",
                                    "(No column name)": "136"
                                },
                                {
                                    "login": "KRISZTIANM",
                                    "SZALL_MOD": "Személyes átvétel",
                                    "(No column name)": "130"
                                },
                                {
                                    "login": "KRISZTIANM",
                                    "SZALL_MOD": "NULL",
                                    "(No column name)": "384"
                                },
                                {
                                    "login": "krisztina",
                                    "SZALL_MOD": "GLS",
                                    "(No column name)": "149"
                                },
                                {
                                    "login": "krisztina",
                                    "SZALL_MOD": "Posta",
                                    "(No column name)": "150"
                                },
                                {
                                    "login": "krisztina",
                                    "SZALL_MOD": "Személyes átvétel",
                                    "(No column name)": "157"
                                },
                                {
                                    "login": "krisztina",
                                    "SZALL_MOD": "NULL",
                                    "(No column name)": "456"
                                },
                                {
                                    "login": "krisztina1",
                                    "SZALL_MOD": "GLS",
                                    "(No column name)": "10"
                                },
                                {
                                    "login": "krisztina1",
                                    "SZALL_MOD": "Posta",
                                    "(No column name)": "4"
                                },
                                {
                                    "login": "krisztina1",
                                    "SZALL_MOD": "Személyes átvétel",
                                    "(No column name)": "8"
                                },
                                {
                                    "login": "krisztina1",
                                    "SZALL_MOD": "NULL",
                                    "(No column name)": "22"
                                },
                                {
                                    "login": "KRISZTINAG",
                                    "SZALL_MOD": "GLS",
                                    "(No column name)": "6"
                                },
                                {
                                    "login": "KRISZTINAG",
                                    "SZALL_MOD": "Posta",
                                    "(No column name)": "6"
                                },
                                {
                                    "login": "KRISZTINAG",
                                    "SZALL_MOD": "Személyes átvétel",
                                    "(No column name)": "10"
                                },
                                {
                                    "login": "KRISZTINAG",
                                    "SZALL_MOD": "NULL",
                                    "(No column name)": "22"
                                },
                                {
                                    "login": "lajos",
                                    "SZALL_MOD": "GLS",
                                    "(No column name)": "5"
                                },
                                {
                                    "login": "lajos",
                                    "SZALL_MOD": "Posta",
                                    "(No column name)": "2"
                                },
                                {
                                    "login": "lajos",
                                    "SZALL_MOD": "Személyes átvétel",
                                    "(No column name)": "9"
                                },
                                {
                                    "login": "lajos",
                                    "SZALL_MOD": "NULL",
                                    "(No column name)": "16"
                                },
                                {
                                    "login": "lala",
                                    "SZALL_MOD": "GLS",
                                    "(No column name)": "5"
                                },
                                {
                                    "login": "lala",
                                    "SZALL_MOD": "Posta",
                                    "(No column name)": "3"
                                },
                                {
                                    "login": "lala",
                                    "SZALL_MOD": "Személyes átvétel",
                                    "(No column name)": "9"
                                },
                                {
                                    "login": "lala",
                                    "SZALL_MOD": "NULL",
                                    "(No column name)": "17"
                                },
                                {
                                    "login": "laszlo1",
                                    "SZALL_MOD": "GLS",
                                    "(No column name)": "130"
                                },
                                {
                                    "login": "laszlo1",
                                    "SZALL_MOD": "Posta",
                                    "(No column name)": "129"
                                },
                                {
                                    "login": "laszlo1",
                                    "SZALL_MOD": "Személyes átvétel",
                                    "(No column name)": "135"
                                },
                                {
                                    "login": "laszlo1",
                                    "SZALL_MOD": "NULL",
                                    "(No column name)": "394"
                                },
                                {
                                    "login": "laszlo2",
                                    "SZALL_MOD": "GLS",
                                    "(No column name)": "12"
                                },
                                {
                                    "login": "laszlo2",
                                    "SZALL_MOD": "Posta",
                                    "(No column name)": "6"
                                },
                                {
                                    "login": "laszlo2",
                                    "SZALL_MOD": "Személyes átvétel",
                                    "(No column name)": "7"
                                },
                                {
                                    "login": "laszlo2",
                                    "SZALL_MOD": "NULL",
                                    "(No column name)": "25"
                                },
                                {
                                    "login": "LASZLOA",
                                    "SZALL_MOD": "GLS",
                                    "(No column name)": "156"
                                },
                                {
                                    "login": "LASZLOA",
                                    "SZALL_MOD": "Posta",
                                    "(No column name)": "136"
                                },
                                {
                                    "login": "LASZLOA",
                                    "SZALL_MOD": "Személyes átvétel",
                                    "(No column name)": "154"
                                },
                                {
                                    "login": "LASZLOA",
                                    "SZALL_MOD": "NULL",
                                    "(No column name)": "446"
                                },
                                {
                                    "login": "LASZLON",
                                    "SZALL_MOD": "GLS",
                                    "(No column name)": "126"
                                },
                                {
                                    "login": "LASZLON",
                                    "SZALL_MOD": "Posta",
                                    "(No column name)": "131"
                                },
                                {
                                    "login": "LASZLON",
                                    "SZALL_MOD": "Személyes átvétel",
                                    "(No column name)": "143"
                                },
                                {
                                    "login": "LASZLON",
                                    "SZALL_MOD": "NULL",
                                    "(No column name)": "400"
                                },
                                {
                                    "login": "maria1",
                                    "SZALL_MOD": "GLS",
                                    "(No column name)": "4"
                                },
                                {
                                    "login": "maria1",
                                    "SZALL_MOD": "Posta",
                                    "(No column name)": "5"
                                },
                                {
                                    "login": "maria1",
                                    "SZALL_MOD": "Személyes átvétel",
                                    "(No column name)": "1"
                                },
                                {
                                    "login": "maria1",
                                    "SZALL_MOD": "NULL",
                                    "(No column name)": "10"
                                },
                                {
                                    "login": "MARKH",
                                    "SZALL_MOD": "GLS",
                                    "(No column name)": "128"
                                },
                                {
                                    "login": "MARKH",
                                    "SZALL_MOD": "Posta",
                                    "(No column name)": "142"
                                },
                                {
                                    "login": "MARKH",
                                    "SZALL_MOD": "Személyes átvétel",
                                    "(No column name)": "142"
                                },
                                {
                                    "login": "MARKH",
                                    "SZALL_MOD": "NULL",
                                    "(No column name)": "412"
                                },
                                {
                                    "login": "marton",
                                    "SZALL_MOD": "GLS",
                                    "(No column name)": "5"
                                },
                                {
                                    "login": "marton",
                                    "SZALL_MOD": "Posta",
                                    "(No column name)": "4"
                                },
                                {
                                    "login": "marton",
                                    "SZALL_MOD": "Személyes átvétel",
                                    "(No column name)": "5"
                                },
                                {
                                    "login": "marton",
                                    "SZALL_MOD": "NULL",
                                    "(No column name)": "14"
                                },
                                {
                                    "login": "MATEK",
                                    "SZALL_MOD": "GLS",
                                    "(No column name)": "6"
                                },
                                {
                                    "login": "MATEK",
                                    "SZALL_MOD": "Posta",
                                    "(No column name)": "10"
                                },
                                {
                                    "login": "MATEK",
                                    "SZALL_MOD": "Személyes átvétel",
                                    "(No column name)": "9"
                                },
                                {
                                    "login": "MATEK",
                                    "SZALL_MOD": "NULL",
                                    "(No column name)": "25"
                                },
                                {
                                    "login": "matyas2",
                                    "SZALL_MOD": "GLS",
                                    "(No column name)": "138"
                                },
                                {
                                    "login": "matyas2",
                                    "SZALL_MOD": "Posta",
                                    "(No column name)": "131"
                                },
                                {
                                    "login": "matyas2",
                                    "SZALL_MOD": "Személyes átvétel",
                                    "(No column name)": "164"
                                },
                                {
                                    "login": "matyas2",
                                    "SZALL_MOD": "NULL",
                                    "(No column name)": "433"
                                },
                                {
                                    "login": "MATYASS",
                                    "SZALL_MOD": "GLS",
                                    "(No column name)": "4"
                                },
                                {
                                    "login": "MATYASS",
                                    "SZALL_MOD": "Posta",
                                    "(No column name)": "5"
                                },
                                {
                                    "login": "MATYASS",
                                    "SZALL_MOD": "Személyes átvétel",
                                    "(No column name)": "3"
                                },
                                {
                                    "login": "MATYASS",
                                    "SZALL_MOD": "NULL",
                                    "(No column name)": "12"
                                },
                                {
                                    "login": "MIHALYJ",
                                    "SZALL_MOD": "GLS",
                                    "(No column name)": "3"
                                },
                                {
                                    "login": "MIHALYJ",
                                    "SZALL_MOD": "Posta",
                                    "(No column name)": "4"
                                },
                                {
                                    "login": "MIHALYJ",
                                    "SZALL_MOD": "Személyes átvétel",
                                    "(No column name)": "6"
                                },
                                {
                                    "login": "MIHALYJ",
                                    "SZALL_MOD": "NULL",
                                    "(No column name)": "13"
                                },
                                {
                                    "login": "miklos2",
                                    "SZALL_MOD": "GLS",
                                    "(No column name)": "7"
                                },
                                {
                                    "login": "miklos2",
                                    "SZALL_MOD": "Posta",
                                    "(No column name)": "4"
                                },
                                {
                                    "login": "miklos2",
                                    "SZALL_MOD": "Személyes átvétel",
                                    "(No column name)": "2"
                                },
                                {
                                    "login": "miklos2",
                                    "SZALL_MOD": "NULL",
                                    "(No column name)": "13"
                                },
                                {
                                    "login": "MIKLOSB",
                                    "SZALL_MOD": "GLS",
                                    "(No column name)": "6"
                                },
                                {
                                    "login": "MIKLOSB",
                                    "SZALL_MOD": "Posta",
                                    "(No column name)": "1"
                                },
                                {
                                    "login": "MIKLOSB",
                                    "SZALL_MOD": "Személyes átvétel",
                                    "(No column name)": "8"
                                },
                                {
                                    "login": "MIKLOSB",
                                    "SZALL_MOD": "NULL",
                                    "(No column name)": "15"
                                },
                                {
                                    "login": "MONIKAM",
                                    "SZALL_MOD": "GLS",
                                    "(No column name)": "133"
                                },
                                {
                                    "login": "MONIKAM",
                                    "SZALL_MOD": "Posta",
                                    "(No column name)": "151"
                                },
                                {
                                    "login": "MONIKAM",
                                    "SZALL_MOD": "Személyes átvétel",
                                    "(No column name)": "123"
                                },
                                {
                                    "login": "MONIKAM",
                                    "SZALL_MOD": "NULL",
                                    "(No column name)": "407"
                                },
                                {
                                    "login": "NANDORF",
                                    "SZALL_MOD": "GLS",
                                    "(No column name)": "147"
                                },
                                {
                                    "login": "NANDORF",
                                    "SZALL_MOD": "Posta",
                                    "(No column name)": "139"
                                },
                                {
                                    "login": "NANDORF",
                                    "SZALL_MOD": "Személyes átvétel",
                                    "(No column name)": "134"
                                },
                                {
                                    "login": "NANDORF",
                                    "SZALL_MOD": "NULL",
                                    "(No column name)": "420"
                                },
                                {
                                    "login": "nikolett3",
                                    "SZALL_MOD": "GLS",
                                    "(No column name)": "4"
                                },
                                {
                                    "login": "nikolett3",
                                    "SZALL_MOD": "Posta",
                                    "(No column name)": "3"
                                },
                                {
                                    "login": "nikolett3",
                                    "SZALL_MOD": "Személyes átvétel",
                                    "(No column name)": "10"
                                },
                                {
                                    "login": "nikolett3",
                                    "SZALL_MOD": "NULL",
                                    "(No column name)": "17"
                                },
                                {
                                    "login": "nikoletta4",
                                    "SZALL_MOD": "GLS",
                                    "(No column name)": "137"
                                },
                                {
                                    "login": "nikoletta4",
                                    "SZALL_MOD": "Posta",
                                    "(No column name)": "158"
                                },
                                {
                                    "login": "nikoletta4",
                                    "SZALL_MOD": "Személyes átvétel",
                                    "(No column name)": "119"
                                },
                                {
                                    "login": "nikoletta4",
                                    "SZALL_MOD": "NULL",
                                    "(No column name)": "414"
                                },
                                {
                                    "login": "NIKOLETTAT",
                                    "SZALL_MOD": "GLS",
                                    "(No column name)": "13"
                                },
                                {
                                    "login": "NIKOLETTAT",
                                    "SZALL_MOD": "Posta",
                                    "(No column name)": "7"
                                },
                                {
                                    "login": "NIKOLETTAT",
                                    "SZALL_MOD": "Személyes átvétel",
                                    "(No column name)": "5"
                                },
                                {
                                    "login": "NIKOLETTAT",
                                    "SZALL_MOD": "NULL",
                                    "(No column name)": "25"
                                },
                                {
                                    "login": "norbert2",
                                    "SZALL_MOD": "GLS",
                                    "(No column name)": "7"
                                },
                                {
                                    "login": "norbert2",
                                    "SZALL_MOD": "Posta",
                                    "(No column name)": "4"
                                },
                                {
                                    "login": "norbert2",
                                    "SZALL_MOD": "NULL",
                                    "(No column name)": "11"
                                },
                                {
                                    "login": "norbert4",
                                    "SZALL_MOD": "GLS",
                                    "(No column name)": "1"
                                },
                                {
                                    "login": "norbert4",
                                    "SZALL_MOD": "Posta",
                                    "(No column name)": "3"
                                },
                                {
                                    "login": "norbert4",
                                    "SZALL_MOD": "Személyes átvétel",
                                    "(No column name)": "9"
                                },
                                {
                                    "login": "norbert4",
                                    "SZALL_MOD": "NULL",
                                    "(No column name)": "13"
                                },
                                {
                                    "login": "norbert5",
                                    "SZALL_MOD": "GLS",
                                    "(No column name)": "1"
                                },
                                {
                                    "login": "norbert5",
                                    "SZALL_MOD": "Posta",
                                    "(No column name)": "6"
                                },
                                {
                                    "login": "norbert5",
                                    "SZALL_MOD": "Személyes átvétel",
                                    "(No column name)": "9"
                                },
                                {
                                    "login": "norbert5",
                                    "SZALL_MOD": "NULL",
                                    "(No column name)": "16"
                                },
                                {
                                    "login": "pal",
                                    "SZALL_MOD": "GLS",
                                    "(No column name)": "152"
                                },
                                {
                                    "login": "pal",
                                    "SZALL_MOD": "Posta",
                                    "(No column name)": "132"
                                },
                                {
                                    "login": "pal",
                                    "SZALL_MOD": "Személyes átvétel",
                                    "(No column name)": "154"
                                },
                                {
                                    "login": "pal",
                                    "SZALL_MOD": "NULL",
                                    "(No column name)": "438"
                                },
                                {
                                    "login": "peter1",
                                    "SZALL_MOD": "GLS",
                                    "(No column name)": "151"
                                },
                                {
                                    "login": "peter1",
                                    "SZALL_MOD": "Posta",
                                    "(No column name)": "135"
                                },
                                {
                                    "login": "peter1",
                                    "SZALL_MOD": "Személyes átvétel",
                                    "(No column name)": "126"
                                },
                                {
                                    "login": "peter1",
                                    "SZALL_MOD": "NULL",
                                    "(No column name)": "412"
                                },
                                {
                                    "login": "peter2",
                                    "SZALL_MOD": "GLS",
                                    "(No column name)": "7"
                                },
                                {
                                    "login": "peter2",
                                    "SZALL_MOD": "Posta",
                                    "(No column name)": "4"
                                },
                                {
                                    "login": "peter2",
                                    "SZALL_MOD": "Személyes átvétel",
                                    "(No column name)": "7"
                                },
                                {
                                    "login": "peter2",
                                    "SZALL_MOD": "NULL",
                                    "(No column name)": "18"
                                },
                                {
                                    "login": "peter3",
                                    "SZALL_MOD": "GLS",
                                    "(No column name)": "8"
                                },
                                {
                                    "login": "peter3",
                                    "SZALL_MOD": "Posta",
                                    "(No column name)": "7"
                                },
                                {
                                    "login": "peter3",
                                    "SZALL_MOD": "Személyes átvétel",
                                    "(No column name)": "10"
                                },
                                {
                                    "login": "peter3",
                                    "SZALL_MOD": "NULL",
                                    "(No column name)": "25"
                                },
                                {
                                    "login": "peter4",
                                    "SZALL_MOD": "GLS",
                                    "(No column name)": "266"
                                },
                                {
                                    "login": "peter4",
                                    "SZALL_MOD": "Posta",
                                    "(No column name)": "293"
                                },
                                {
                                    "login": "peter4",
                                    "SZALL_MOD": "Személyes átvétel",
                                    "(No column name)": "293"
                                },
                                {
                                    "login": "peter4",
                                    "SZALL_MOD": "NULL",
                                    "(No column name)": "852"
                                },
                                {
                                    "login": "PETERB",
                                    "SZALL_MOD": "GLS",
                                    "(No column name)": "2"
                                },
                                {
                                    "login": "PETERB",
                                    "SZALL_MOD": "Posta",
                                    "(No column name)": "4"
                                },
                                {
                                    "login": "PETERB",
                                    "SZALL_MOD": "Személyes átvétel",
                                    "(No column name)": "9"
                                },
                                {
                                    "login": "PETERB",
                                    "SZALL_MOD": "NULL",
                                    "(No column name)": "15"
                                },
                                {
                                    "login": "polla",
                                    "SZALL_MOD": "GLS",
                                    "(No column name)": "9"
                                },
                                {
                                    "login": "polla",
                                    "SZALL_MOD": "Posta",
                                    "(No column name)": "6"
                                },
                                {
                                    "login": "polla",
                                    "SZALL_MOD": "Személyes átvétel",
                                    "(No column name)": "7"
                                },
                                {
                                    "login": "polla",
                                    "SZALL_MOD": "NULL",
                                    "(No column name)": "22"
                                },
                                {
                                    "login": "rajmond4",
                                    "SZALL_MOD": "GLS",
                                    "(No column name)": "6"
                                },
                                {
                                    "login": "rajmond4",
                                    "SZALL_MOD": "Posta",
                                    "(No column name)": "5"
                                },
                                {
                                    "login": "rajmond4",
                                    "SZALL_MOD": "Személyes átvétel",
                                    "(No column name)": "6"
                                },
                                {
                                    "login": "rajmond4",
                                    "SZALL_MOD": "NULL",
                                    "(No column name)": "17"
                                },
                                {
                                    "login": "reka4",
                                    "SZALL_MOD": "GLS",
                                    "(No column name)": "5"
                                },
                                {
                                    "login": "reka4",
                                    "SZALL_MOD": "Posta",
                                    "(No column name)": "4"
                                },
                                {
                                    "login": "reka4",
                                    "SZALL_MOD": "Személyes átvétel",
                                    "(No column name)": "11"
                                },
                                {
                                    "login": "reka4",
                                    "SZALL_MOD": "NULL",
                                    "(No column name)": "20"
                                },
                                {
                                    "login": "RENATAK",
                                    "SZALL_MOD": "GLS",
                                    "(No column name)": "135"
                                },
                                {
                                    "login": "RENATAK",
                                    "SZALL_MOD": "Posta",
                                    "(No column name)": "140"
                                },
                                {
                                    "login": "RENATAK",
                                    "SZALL_MOD": "Személyes átvétel",
                                    "(No column name)": "147"
                                },
                                {
                                    "login": "RENATAK",
                                    "SZALL_MOD": "NULL",
                                    "(No column name)": "422"
                                },
                                {
                                    "login": "RENATAS",
                                    "SZALL_MOD": "GLS",
                                    "(No column name)": "6"
                                },
                                {
                                    "login": "RENATAS",
                                    "SZALL_MOD": "Posta",
                                    "(No column name)": "5"
                                },
                                {
                                    "login": "RENATAS",
                                    "SZALL_MOD": "Személyes átvétel",
                                    "(No column name)": "5"
                                },
                                {
                                    "login": "RENATAS",
                                    "SZALL_MOD": "NULL",
                                    "(No column name)": "16"
                                },
                                {
                                    "login": "robert2",
                                    "SZALL_MOD": "GLS",
                                    "(No column name)": "5"
                                },
                                {
                                    "login": "robert2",
                                    "SZALL_MOD": "Posta",
                                    "(No column name)": "1"
                                },
                                {
                                    "login": "robert2",
                                    "SZALL_MOD": "Személyes átvétel",
                                    "(No column name)": "7"
                                },
                                {
                                    "login": "robert2",
                                    "SZALL_MOD": "NULL",
                                    "(No column name)": "13"
                                },
                                {
                                    "login": "ROBERTI",
                                    "SZALL_MOD": "GLS",
                                    "(No column name)": "5"
                                },
                                {
                                    "login": "ROBERTI",
                                    "SZALL_MOD": "Posta",
                                    "(No column name)": "3"
                                },
                                {
                                    "login": "ROBERTI",
                                    "SZALL_MOD": "Személyes átvétel",
                                    "(No column name)": "5"
                                },
                                {
                                    "login": "ROBERTI",
                                    "SZALL_MOD": "NULL",
                                    "(No column name)": "13"
                                },
                                {
                                    "login": "ROBERTP",
                                    "SZALL_MOD": "GLS",
                                    "(No column name)": "8"
                                },
                                {
                                    "login": "ROBERTP",
                                    "SZALL_MOD": "Posta",
                                    "(No column name)": "8"
                                },
                                {
                                    "login": "ROBERTP",
                                    "SZALL_MOD": "Személyes átvétel",
                                    "(No column name)": "10"
                                },
                                {
                                    "login": "ROBERTP",
                                    "SZALL_MOD": "NULL",
                                    "(No column name)": "26"
                                },
                                {
                                    "login": "roland",
                                    "SZALL_MOD": "GLS",
                                    "(No column name)": "132"
                                },
                                {
                                    "login": "roland",
                                    "SZALL_MOD": "Posta",
                                    "(No column name)": "157"
                                },
                                {
                                    "login": "roland",
                                    "SZALL_MOD": "Személyes átvétel",
                                    "(No column name)": "125"
                                },
                                {
                                    "login": "roland",
                                    "SZALL_MOD": "NULL",
                                    "(No column name)": "414"
                                },
                                {
                                    "login": "roland1",
                                    "SZALL_MOD": "GLS",
                                    "(No column name)": "142"
                                },
                                {
                                    "login": "roland1",
                                    "SZALL_MOD": "Posta",
                                    "(No column name)": "155"
                                },
                                {
                                    "login": "roland1",
                                    "SZALL_MOD": "Személyes átvétel",
                                    "(No column name)": "135"
                                },
                                {
                                    "login": "roland1",
                                    "SZALL_MOD": "NULL",
                                    "(No column name)": "432"
                                },
                                {
                                    "login": "roza2",
                                    "SZALL_MOD": "GLS",
                                    "(No column name)": "3"
                                },
                                {
                                    "login": "roza2",
                                    "SZALL_MOD": "Posta",
                                    "(No column name)": "2"
                                },
                                {
                                    "login": "roza2",
                                    "SZALL_MOD": "Személyes átvétel",
                                    "(No column name)": "3"
                                },
                                {
                                    "login": "roza2",
                                    "SZALL_MOD": "NULL",
                                    "(No column name)": "8"
                                },
                                {
                                    "login": "sandor",
                                    "SZALL_MOD": "GLS",
                                    "(No column name)": "4"
                                },
                                {
                                    "login": "sandor",
                                    "SZALL_MOD": "Posta",
                                    "(No column name)": "6"
                                },
                                {
                                    "login": "sandor",
                                    "SZALL_MOD": "Személyes átvétel",
                                    "(No column name)": "7"
                                },
                                {
                                    "login": "sandor",
                                    "SZALL_MOD": "NULL",
                                    "(No column name)": "17"
                                },
                                {
                                    "login": "sandor3",
                                    "SZALL_MOD": "GLS",
                                    "(No column name)": "4"
                                },
                                {
                                    "login": "sandor3",
                                    "SZALL_MOD": "Posta",
                                    "(No column name)": "4"
                                },
                                {
                                    "login": "sandor3",
                                    "SZALL_MOD": "Személyes átvétel",
                                    "(No column name)": "6"
                                },
                                {
                                    "login": "sandor3",
                                    "SZALL_MOD": "NULL",
                                    "(No column name)": "14"
                                },
                                {
                                    "login": "sandor4",
                                    "SZALL_MOD": "GLS",
                                    "(No column name)": "4"
                                },
                                {
                                    "login": "sandor4",
                                    "SZALL_MOD": "Posta",
                                    "(No column name)": "2"
                                },
                                {
                                    "login": "sandor4",
                                    "SZALL_MOD": "Személyes átvétel",
                                    "(No column name)": "5"
                                },
                                {
                                    "login": "sandor4",
                                    "SZALL_MOD": "NULL",
                                    "(No column name)": "11"
                                },
                                {
                                    "login": "sara",
                                    "SZALL_MOD": "GLS",
                                    "(No column name)": "4"
                                },
                                {
                                    "login": "sara",
                                    "SZALL_MOD": "Posta",
                                    "(No column name)": "7"
                                },
                                {
                                    "login": "sara",
                                    "SZALL_MOD": "Személyes átvétel",
                                    "(No column name)": "9"
                                },
                                {
                                    "login": "sara",
                                    "SZALL_MOD": "NULL",
                                    "(No column name)": "20"
                                },
                                {
                                    "login": "SEBASTIANF",
                                    "SZALL_MOD": "GLS",
                                    "(No column name)": "6"
                                },
                                {
                                    "login": "SEBASTIANF",
                                    "SZALL_MOD": "Posta",
                                    "(No column name)": "3"
                                },
                                {
                                    "login": "SEBASTIANF",
                                    "SZALL_MOD": "Személyes átvétel",
                                    "(No column name)": "6"
                                },
                                {
                                    "login": "SEBASTIANF",
                                    "SZALL_MOD": "NULL",
                                    "(No column name)": "15"
                                },
                                {
                                    "login": "sebestyen",
                                    "SZALL_MOD": "GLS",
                                    "(No column name)": "4"
                                },
                                {
                                    "login": "sebestyen",
                                    "SZALL_MOD": "Posta",
                                    "(No column name)": "6"
                                },
                                {
                                    "login": "sebestyen",
                                    "SZALL_MOD": "Személyes átvétel",
                                    "(No column name)": "6"
                                },
                                {
                                    "login": "sebestyen",
                                    "SZALL_MOD": "NULL",
                                    "(No column name)": "16"
                                },
                                {
                                    "login": "szabolcs",
                                    "SZALL_MOD": "GLS",
                                    "(No column name)": "145"
                                },
                                {
                                    "login": "szabolcs",
                                    "SZALL_MOD": "Posta",
                                    "(No column name)": "157"
                                },
                                {
                                    "login": "szabolcs",
                                    "SZALL_MOD": "Személyes átvétel",
                                    "(No column name)": "169"
                                },
                                {
                                    "login": "szabolcs",
                                    "SZALL_MOD": "NULL",
                                    "(No column name)": "471"
                                },
                                {
                                    "login": "SZABOLCSM",
                                    "SZALL_MOD": "GLS",
                                    "(No column name)": "126"
                                },
                                {
                                    "login": "SZABOLCSM",
                                    "SZALL_MOD": "Posta",
                                    "(No column name)": "153"
                                },
                                {
                                    "login": "SZABOLCSM",
                                    "SZALL_MOD": "Személyes átvétel",
                                    "(No column name)": "129"
                                },
                                {
                                    "login": "SZABOLCSM",
                                    "SZALL_MOD": "NULL",
                                    "(No column name)": "408"
                                },
                                {
                                    "login": "SZILARDS",
                                    "SZALL_MOD": "GLS",
                                    "(No column name)": "144"
                                },
                                {
                                    "login": "SZILARDS",
                                    "SZALL_MOD": "Posta",
                                    "(No column name)": "131"
                                },
                                {
                                    "login": "SZILARDS",
                                    "SZALL_MOD": "Személyes átvétel",
                                    "(No column name)": "111"
                                },
                                {
                                    "login": "SZILARDS",
                                    "SZALL_MOD": "NULL",
                                    "(No column name)": "386"
                                },
                                {
                                    "login": "szilvia1",
                                    "SZALL_MOD": "GLS",
                                    "(No column name)": "156"
                                },
                                {
                                    "login": "szilvia1",
                                    "SZALL_MOD": "Posta",
                                    "(No column name)": "151"
                                },
                                {
                                    "login": "szilvia1",
                                    "SZALL_MOD": "Személyes átvétel",
                                    "(No column name)": "138"
                                },
                                {
                                    "login": "szilvia1",
                                    "SZALL_MOD": "NULL",
                                    "(No column name)": "445"
                                },
                                {
                                    "login": "tamara2",
                                    "SZALL_MOD": "GLS",
                                    "(No column name)": "6"
                                },
                                {
                                    "login": "tamara2",
                                    "SZALL_MOD": "Posta",
                                    "(No column name)": "4"
                                },
                                {
                                    "login": "tamara2",
                                    "SZALL_MOD": "Személyes átvétel",
                                    "(No column name)": "3"
                                },
                                {
                                    "login": "tamara2",
                                    "SZALL_MOD": "NULL",
                                    "(No column name)": "13"
                                },
                                {
                                    "login": "tamas",
                                    "SZALL_MOD": "GLS",
                                    "(No column name)": "143"
                                },
                                {
                                    "login": "tamas",
                                    "SZALL_MOD": "Posta",
                                    "(No column name)": "156"
                                },
                                {
                                    "login": "tamas",
                                    "SZALL_MOD": "Személyes átvétel",
                                    "(No column name)": "122"
                                },
                                {
                                    "login": "tamas",
                                    "SZALL_MOD": "NULL",
                                    "(No column name)": "421"
                                },
                                {
                                    "login": "TAMASF",
                                    "SZALL_MOD": "GLS",
                                    "(No column name)": "159"
                                },
                                {
                                    "login": "TAMASF",
                                    "SZALL_MOD": "Posta",
                                    "(No column name)": "145"
                                },
                                {
                                    "login": "TAMASF",
                                    "SZALL_MOD": "Személyes átvétel",
                                    "(No column name)": "129"
                                },
                                {
                                    "login": "TAMASF",
                                    "SZALL_MOD": "NULL",
                                    "(No column name)": "433"
                                },
                                {
                                    "login": "tibor",
                                    "SZALL_MOD": "GLS",
                                    "(No column name)": "115"
                                },
                                {
                                    "login": "tibor",
                                    "SZALL_MOD": "Posta",
                                    "(No column name)": "129"
                                },
                                {
                                    "login": "tibor",
                                    "SZALL_MOD": "Személyes átvétel",
                                    "(No column name)": "130"
                                },
                                {
                                    "login": "tibor",
                                    "SZALL_MOD": "NULL",
                                    "(No column name)": "374"
                                },
                                {
                                    "login": "tibor2",
                                    "SZALL_MOD": "GLS",
                                    "(No column name)": "7"
                                },
                                {
                                    "login": "tibor2",
                                    "SZALL_MOD": "Posta",
                                    "(No column name)": "7"
                                },
                                {
                                    "login": "tibor2",
                                    "SZALL_MOD": "Személyes átvétel",
                                    "(No column name)": "11"
                                },
                                {
                                    "login": "tibor2",
                                    "SZALL_MOD": "NULL",
                                    "(No column name)": "25"
                                },
                                {
                                    "login": "tihamer",
                                    "SZALL_MOD": "GLS",
                                    "(No column name)": "9"
                                },
                                {
                                    "login": "tihamer",
                                    "SZALL_MOD": "Posta",
                                    "(No column name)": "6"
                                },
                                {
                                    "login": "tihamer",
                                    "SZALL_MOD": "Személyes átvétel",
                                    "(No column name)": "5"
                                },
                                {
                                    "login": "tihamer",
                                    "SZALL_MOD": "NULL",
                                    "(No column name)": "20"
                                },
                                {
                                    "login": "timea",
                                    "SZALL_MOD": "GLS",
                                    "(No column name)": "14"
                                },
                                {
                                    "login": "timea",
                                    "SZALL_MOD": "Posta",
                                    "(No column name)": "23"
                                },
                                {
                                    "login": "timea",
                                    "SZALL_MOD": "Személyes átvétel",
                                    "(No column name)": "18"
                                },
                                {
                                    "login": "timea",
                                    "SZALL_MOD": "NULL",
                                    "(No column name)": "55"
                                },
                                {
                                    "login": "timea2",
                                    "SZALL_MOD": "GLS",
                                    "(No column name)": "1"
                                },
                                {
                                    "login": "timea2",
                                    "SZALL_MOD": "Posta",
                                    "(No column name)": "5"
                                },
                                {
                                    "login": "timea2",
                                    "SZALL_MOD": "Személyes átvétel",
                                    "(No column name)": "10"
                                },
                                {
                                    "login": "timea2",
                                    "SZALL_MOD": "NULL",
                                    "(No column name)": "16"
                                },
                                {
                                    "login": "tunde",
                                    "SZALL_MOD": "GLS",
                                    "(No column name)": "6"
                                },
                                {
                                    "login": "tunde",
                                    "SZALL_MOD": "Posta",
                                    "(No column name)": "6"
                                },
                                {
                                    "login": "tunde",
                                    "SZALL_MOD": "Személyes átvétel",
                                    "(No column name)": "4"
                                },
                                {
                                    "login": "tunde",
                                    "SZALL_MOD": "NULL",
                                    "(No column name)": "16"
                                },
                                {
                                    "login": "valentin",
                                    "SZALL_MOD": "GLS",
                                    "(No column name)": "5"
                                },
                                {
                                    "login": "valentin",
                                    "SZALL_MOD": "Posta",
                                    "(No column name)": "5"
                                },
                                {
                                    "login": "valentin",
                                    "SZALL_MOD": "Személyes átvétel",
                                    "(No column name)": "3"
                                },
                                {
                                    "login": "valentin",
                                    "SZALL_MOD": "NULL",
                                    "(No column name)": "13"
                                },
                                {
                                    "login": "veronika4",
                                    "SZALL_MOD": "GLS",
                                    "(No column name)": "5"
                                },
                                {
                                    "login": "veronika4",
                                    "SZALL_MOD": "Posta",
                                    "(No column name)": "6"
                                },
                                {
                                    "login": "veronika4",
                                    "SZALL_MOD": "Személyes átvétel",
                                    "(No column name)": "7"
                                },
                                {
                                    "login": "veronika4",
                                    "SZALL_MOD": "NULL",
                                    "(No column name)": "18"
                                },
                                {
                                    "login": "VIKTORIAU",
                                    "SZALL_MOD": "GLS",
                                    "(No column name)": "5"
                                },
                                {
                                    "login": "VIKTORIAU",
                                    "SZALL_MOD": "Posta",
                                    "(No column name)": "4"
                                },
                                {
                                    "login": "VIKTORIAU",
                                    "SZALL_MOD": "Személyes átvétel",
                                    "(No column name)": "5"
                                },
                                {
                                    "login": "VIKTORIAU",
                                    "SZALL_MOD": "NULL",
                                    "(No column name)": "14"
                                },
                                {
                                    "login": "VIKTORK",
                                    "SZALL_MOD": "GLS",
                                    "(No column name)": "8"
                                },
                                {
                                    "login": "VIKTORK",
                                    "SZALL_MOD": "Posta",
                                    "(No column name)": "6"
                                },
                                {
                                    "login": "VIKTORK",
                                    "SZALL_MOD": "Személyes átvétel",
                                    "(No column name)": "6"
                                },
                                {
                                    "login": "VIKTORK",
                                    "SZALL_MOD": "NULL",
                                    "(No column name)": "20"
                                },
                                {
                                    "login": "vivien3",
                                    "SZALL_MOD": "GLS",
                                    "(No column name)": "9"
                                },
                                {
                                    "login": "vivien3",
                                    "SZALL_MOD": "Posta",
                                    "(No column name)": "6"
                                },
                                {
                                    "login": "vivien3",
                                    "SZALL_MOD": "Személyes átvétel",
                                    "(No column name)": "7"
                                },
                                {
                                    "login": "vivien3",
                                    "SZALL_MOD": "NULL",
                                    "(No column name)": "22"
                                },
                                {
                                    "login": "zoltan",
                                    "SZALL_MOD": "GLS",
                                    "(No column name)": "5"
                                },
                                {
                                    "login": "zoltan",
                                    "SZALL_MOD": "Posta",
                                    "(No column name)": "3"
                                },
                                {
                                    "login": "zoltan",
                                    "SZALL_MOD": "Személyes átvétel",
                                    "(No column name)": "7"
                                },
                                {
                                    "login": "zoltan",
                                    "SZALL_MOD": "NULL",
                                    "(No column name)": "15"
                                },
                                {
                                    "login": "zoltan4",
                                    "SZALL_MOD": "GLS",
                                    "(No column name)": "129"
                                },
                                {
                                    "login": "zoltan4",
                                    "SZALL_MOD": "Posta",
                                    "(No column name)": "124"
                                },
                                {
                                    "login": "zoltan4",
                                    "SZALL_MOD": "Személyes átvétel",
                                    "(No column name)": "171"
                                },
                                {
                                    "login": "zoltan4",
                                    "SZALL_MOD": "NULL",
                                    "(No column name)": "424"
                                },
                                {
                                    "login": "ZOLTANP",
                                    "SZALL_MOD": "GLS",
                                    "(No column name)": "6"
                                },
                                {
                                    "login": "ZOLTANP",
                                    "SZALL_MOD": "Posta",
                                    "(No column name)": "3"
                                },
                                {
                                    "login": "ZOLTANP",
                                    "SZALL_MOD": "Személyes átvétel",
                                    "(No column name)": "4"
                                },
                                {
                                    "login": "ZOLTANP",
                                    "SZALL_MOD": "NULL",
                                    "(No column name)": "13"
                                },
                                {
                                    "login": "ZOLTANT",
                                    "SZALL_MOD": "GLS",
                                    "(No column name)": "127"
                                },
                                {
                                    "login": "ZOLTANT",
                                    "SZALL_MOD": "Posta",
                                    "(No column name)": "107"
                                },
                                {
                                    "login": "ZOLTANT",
                                    "SZALL_MOD": "Személyes átvétel",
                                    "(No column name)": "123"
                                },
                                {
                                    "login": "ZOLTANT",
                                    "SZALL_MOD": "NULL",
                                    "(No column name)": "357"
                                },
                                {
                                    "login": "zsofi1",
                                    "SZALL_MOD": "GLS",
                                    "(No column name)": "7"
                                },
                                {
                                    "login": "zsofi1",
                                    "SZALL_MOD": "Posta",
                                    "(No column name)": "6"
                                },
                                {
                                    "login": "zsofi1",
                                    "SZALL_MOD": "Személyes átvétel",
                                    "(No column name)": "6"
                                },
                                {
                                    "login": "zsofi1",
                                    "SZALL_MOD": "NULL",
                                    "(No column name)": "19"
                                },
                                {
                                    "login": "zsolt1",
                                    "SZALL_MOD": "GLS",
                                    "(No column name)": "11"
                                },
                                {
                                    "login": "zsolt1",
                                    "SZALL_MOD": "Posta",
                                    "(No column name)": "6"
                                },
                                {
                                    "login": "zsolt1",
                                    "SZALL_MOD": "Személyes átvétel",
                                    "(No column name)": "3"
                                },
                                {
                                    "login": "zsolt1",
                                    "SZALL_MOD": "NULL",
                                    "(No column name)": "20"
                                },
                                {
                                    "login": "ZSOLTJ",
                                    "SZALL_MOD": "GLS",
                                    "(No column name)": "1"
                                },
                                {
                                    "login": "ZSOLTJ",
                                    "SZALL_MOD": "Posta",
                                    "(No column name)": "8"
                                },
                                {
                                    "login": "ZSOLTJ",
                                    "SZALL_MOD": "Személyes átvétel",
                                    "(No column name)": "9"
                                },
                                {
                                    "login": "ZSOLTJ",
                                    "SZALL_MOD": "NULL",
                                    "(No column name)": "18"
                                },
                                {
                                    "login": "zsuzsa",
                                    "SZALL_MOD": "GLS",
                                    "(No column name)": "8"
                                },
                                {
                                    "login": "zsuzsa",
                                    "SZALL_MOD": "Posta",
                                    "(No column name)": "5"
                                },
                                {
                                    "login": "zsuzsa",
                                    "SZALL_MOD": "Személyes átvétel",
                                    "(No column name)": "3"
                                },
                                {
                                    "login": "zsuzsa",
                                    "SZALL_MOD": "NULL",
                                    "(No column name)": "16"
                                },
                                {
                                    "login": "zsuzsa3",
                                    "SZALL_MOD": "GLS",
                                    "(No column name)": "5"
                                },
                                {
                                    "login": "zsuzsa3",
                                    "SZALL_MOD": "Posta",
                                    "(No column name)": "5"
                                },
                                {
                                    "login": "zsuzsa3",
                                    "SZALL_MOD": "Személyes átvétel",
                                    "(No column name)": "6"
                                },
                                {
                                    "login": "zsuzsa3",
                                    "SZALL_MOD": "NULL",
                                    "(No column name)": "16"
                                },
                                {
                                    "login": "zsuzsanna",
                                    "SZALL_MOD": "GLS",
                                    "(No column name)": "7"
                                },
                                {
                                    "login": "zsuzsanna",
                                    "SZALL_MOD": "Posta",
                                    "(No column name)": "5"
                                },
                                {
                                    "login": "zsuzsanna",
                                    "SZALL_MOD": "Személyes átvétel",
                                    "(No column name)": "3"
                                },
                                {
                                    "login": "zsuzsanna",
                                    "SZALL_MOD": "NULL",
                                    "(No column name)": "15"
                                },
                                {
                                    "login": "ZSUZSAV",
                                    "SZALL_MOD": "GLS",
                                    "(No column name)": "139"
                                },
                                {
                                    "login": "ZSUZSAV",
                                    "SZALL_MOD": "Posta",
                                    "(No column name)": "139"
                                },
                                {
                                    "login": "ZSUZSAV",
                                    "SZALL_MOD": "Személyes átvétel",
                                    "(No column name)": "142"
                                },
                                {
                                    "login": "ZSUZSAV",
                                    "SZALL_MOD": "NULL",
                                    "(No column name)": "420"
                                },
                                {
                                    "login": "NULL",
                                    "SZALL_MOD": "NULL",
                                    "(No column name)": "28085"
                                }
                            ]
                        },
                        "text/html": [
                            "<table>",
                            "<tr><th>login</th><th>SZALL_MOD</th><th>(No column name)</th></tr>",
                            "<tr><td>adam1</td><td>GLS</td><td>129</td></tr>",
                            "<tr><td>adam1</td><td>Posta</td><td>132</td></tr>",
                            "<tr><td>adam1</td><td>Személyes átvétel</td><td>131</td></tr>",
                            "<tr><td>adam1</td><td>NULL</td><td>392</td></tr>",
                            "<tr><td>adam3</td><td>GLS</td><td>10</td></tr>",
                            "<tr><td>adam3</td><td>Posta</td><td>3</td></tr>",
                            "<tr><td>adam3</td><td>Személyes átvétel</td><td>2</td></tr>",
                            "<tr><td>adam3</td><td>NULL</td><td>15</td></tr>",
                            "<tr><td>adam4</td><td>GLS</td><td>12</td></tr>",
                            "<tr><td>adam4</td><td>Posta</td><td>6</td></tr>",
                            "<tr><td>adam4</td><td>Személyes átvétel</td><td>11</td></tr>",
                            "<tr><td>adam4</td><td>NULL</td><td>29</td></tr>",
                            "<tr><td>agnes</td><td>GLS</td><td>144</td></tr>",
                            "<tr><td>agnes</td><td>Posta</td><td>130</td></tr>",
                            "<tr><td>agnes</td><td>Személyes átvétel</td><td>144</td></tr>",
                            "<tr><td>agnes</td><td>NULL</td><td>418</td></tr>",
                            "<tr><td>agnes3</td><td>GLS</td><td>148</td></tr>",
                            "<tr><td>agnes3</td><td>Posta</td><td>146</td></tr>",
                            "<tr><td>agnes3</td><td>Személyes átvétel</td><td>136</td></tr>",
                            "<tr><td>agnes3</td><td>NULL</td><td>430</td></tr>",
                            "<tr><td>AGNESH</td><td>GLS</td><td>2</td></tr>",
                            "<tr><td>AGNESH</td><td>Posta</td><td>3</td></tr>",
                            "<tr><td>AGNESH</td><td>Személyes átvétel</td><td>6</td></tr>",
                            "<tr><td>AGNESH</td><td>NULL</td><td>11</td></tr>",
                            "<tr><td>AGNESK</td><td>GLS</td><td>1</td></tr>",
                            "<tr><td>AGNESK</td><td>Posta</td><td>7</td></tr>",
                            "<tr><td>AGNESK</td><td>Személyes átvétel</td><td>7</td></tr>",
                            "<tr><td>AGNESK</td><td>NULL</td><td>15</td></tr>",
                            "<tr><td>akos</td><td>GLS</td><td>146</td></tr>",
                            "<tr><td>akos</td><td>Posta</td><td>143</td></tr>",
                            "<tr><td>akos</td><td>Személyes átvétel</td><td>140</td></tr>",
                            "<tr><td>akos</td><td>NULL</td><td>429</td></tr>",
                            "<tr><td>aladar</td><td>GLS</td><td>156</td></tr>",
                            "<tr><td>aladar</td><td>Posta</td><td>134</td></tr>",
                            "<tr><td>aladar</td><td>Személyes átvétel</td><td>118</td></tr>",
                            "<tr><td>aladar</td><td>NULL</td><td>408</td></tr>",
                            "<tr><td>alexandra</td><td>GLS</td><td>5</td></tr>",
                            "<tr><td>alexandra</td><td>Posta</td><td>9</td></tr>",
                            "<tr><td>alexandra</td><td>Személyes átvétel</td><td>5</td></tr>",
                            "<tr><td>alexandra</td><td>NULL</td><td>19</td></tr>",
                            "<tr><td>andi</td><td>GLS</td><td>7</td></tr>",
                            "<tr><td>andi</td><td>Posta</td><td>4</td></tr>",
                            "<tr><td>andi</td><td>Személyes átvétel</td><td>7</td></tr>",
                            "<tr><td>andi</td><td>NULL</td><td>18</td></tr>",
                            "<tr><td>andras2</td><td>GLS</td><td>4</td></tr>",
                            "<tr><td>andras2</td><td>Posta</td><td>7</td></tr>",
                            "<tr><td>andras2</td><td>Személyes átvétel</td><td>11</td></tr>",
                            "<tr><td>andras2</td><td>NULL</td><td>22</td></tr>",
                            "<tr><td>andras21</td><td>GLS</td><td>140</td></tr>",
                            "<tr><td>andras21</td><td>Posta</td><td>124</td></tr>",
                            "<tr><td>andras21</td><td>Személyes átvétel</td><td>126</td></tr>",
                            "<tr><td>andras21</td><td>NULL</td><td>390</td></tr>",
                            "<tr><td>andras3</td><td>GLS</td><td>3</td></tr>",
                            "<tr><td>andras3</td><td>Posta</td><td>1</td></tr>",
                            "<tr><td>andras3</td><td>Személyes átvétel</td><td>5</td></tr>",
                            "<tr><td>andras3</td><td>NULL</td><td>9</td></tr>",
                            "<tr><td>andras4</td><td>GLS</td><td>4</td></tr>",
                            "<tr><td>andras4</td><td>Posta</td><td>4</td></tr>",
                            "<tr><td>andras4</td><td>Személyes átvétel</td><td>4</td></tr>",
                            "<tr><td>andras4</td><td>NULL</td><td>12</td></tr>",
                            "<tr><td>andras41</td><td>GLS</td><td>149</td></tr>",
                            "<tr><td>andras41</td><td>Posta</td><td>137</td></tr>",
                            "<tr><td>andras41</td><td>Személyes átvétel</td><td>133</td></tr>",
                            "<tr><td>andras41</td><td>NULL</td><td>419</td></tr>",
                            "<tr><td>ANDRASE</td><td>GLS</td><td>159</td></tr>",
                            "<tr><td>ANDRASE</td><td>Posta</td><td>141</td></tr>",
                            "<tr><td>ANDRASE</td><td>Személyes átvétel</td><td>136</td></tr>",
                            "<tr><td>ANDRASE</td><td>NULL</td><td>436</td></tr>",
                            "<tr><td>ANDRASN</td><td>GLS</td><td>10</td></tr>",
                            "<tr><td>ANDRASN</td><td>Posta</td><td>9</td></tr>",
                            "<tr><td>ANDRASN</td><td>Személyes átvétel</td><td>5</td></tr>",
                            "<tr><td>ANDRASN</td><td>NULL</td><td>24</td></tr>",
                            "<tr><td>andrea</td><td>GLS</td><td>12</td></tr>",
                            "<tr><td>andrea</td><td>Posta</td><td>4</td></tr>",
                            "<tr><td>andrea</td><td>Személyes átvétel</td><td>8</td></tr>",
                            "<tr><td>andrea</td><td>NULL</td><td>24</td></tr>",
                            "<tr><td>andrea3</td><td>GLS</td><td>131</td></tr>",
                            "<tr><td>andrea3</td><td>Posta</td><td>136</td></tr>",
                            "<tr><td>andrea3</td><td>Személyes átvétel</td><td>146</td></tr>",
                            "<tr><td>andrea3</td><td>NULL</td><td>413</td></tr>",
                            "<tr><td>andrea4</td><td>GLS</td><td>7</td></tr>",
                            "<tr><td>andrea4</td><td>Posta</td><td>4</td></tr>",
                            "<tr><td>andrea4</td><td>Személyes átvétel</td><td>7</td></tr>",
                            "<tr><td>andrea4</td><td>NULL</td><td>18</td></tr>",
                            "<tr><td>ANDREAT</td><td>GLS</td><td>3</td></tr>",
                            "<tr><td>ANDREAT</td><td>Posta</td><td>6</td></tr>",
                            "<tr><td>ANDREAT</td><td>Személyes átvétel</td><td>12</td></tr>",
                            "<tr><td>ANDREAT</td><td>NULL</td><td>21</td></tr>",
                            "<tr><td>anett3</td><td>GLS</td><td>3</td></tr>",
                            "<tr><td>anett3</td><td>Posta</td><td>6</td></tr>",
                            "<tr><td>anett3</td><td>Személyes átvétel</td><td>9</td></tr>",
                            "<tr><td>anett3</td><td>NULL</td><td>18</td></tr>",
                            "<tr><td>aniko</td><td>GLS</td><td>128</td></tr>",
                            "<tr><td>aniko</td><td>Posta</td><td>137</td></tr>",
                            "<tr><td>aniko</td><td>Személyes átvétel</td><td>138</td></tr>",
                            "<tr><td>aniko</td><td>NULL</td><td>403</td></tr>",
                            "<tr><td>aniko4</td><td>GLS</td><td>6</td></tr>",
                            "<tr><td>aniko4</td><td>Posta</td><td>6</td></tr>",
                            "<tr><td>aniko4</td><td>Személyes átvétel</td><td>3</td></tr>",
                            "<tr><td>aniko4</td><td>NULL</td><td>15</td></tr>",
                            "<tr><td>ANIKOS</td><td>GLS</td><td>128</td></tr>",
                            "<tr><td>ANIKOS</td><td>Posta</td><td>126</td></tr>",
                            "<tr><td>ANIKOS</td><td>Személyes átvétel</td><td>150</td></tr>",
                            "<tr><td>ANIKOS</td><td>NULL</td><td>404</td></tr>",
                            "<tr><td>anita</td><td>GLS</td><td>5</td></tr>",
                            "<tr><td>anita</td><td>Posta</td><td>2</td></tr>",
                            "<tr><td>anita</td><td>Személyes átvétel</td><td>5</td></tr>",
                            "<tr><td>anita</td><td>NULL</td><td>12</td></tr>",
                            "<tr><td>annamaria1</td><td>GLS</td><td>5</td></tr>",
                            "<tr><td>annamaria1</td><td>Posta</td><td>4</td></tr>",
                            "<tr><td>annamaria1</td><td>Személyes átvétel</td><td>7</td></tr>",
                            "<tr><td>annamaria1</td><td>NULL</td><td>16</td></tr>",
                            "<tr><td>ANNAMARIAR</td><td>GLS</td><td>8</td></tr>",
                            "<tr><td>ANNAMARIAR</td><td>Posta</td><td>2</td></tr>",
                            "<tr><td>ANNAMARIAR</td><td>Személyes átvétel</td><td>3</td></tr>",
                            "<tr><td>ANNAMARIAR</td><td>NULL</td><td>13</td></tr>",
                            "<tr><td>aron2</td><td>GLS</td><td>132</td></tr>",
                            "<tr><td>aron2</td><td>Posta</td><td>133</td></tr>",
                            "<tr><td>aron2</td><td>Személyes átvétel</td><td>144</td></tr>",
                            "<tr><td>aron2</td><td>NULL</td><td>409</td></tr>",
                            "<tr><td>ARONK</td><td>GLS</td><td>155</td></tr>",
                            "<tr><td>ARONK</td><td>Posta</td><td>120</td></tr>",
                            "<tr><td>ARONK</td><td>Személyes átvétel</td><td>155</td></tr>",
                            "<tr><td>ARONK</td><td>NULL</td><td>430</td></tr>",
                            "<tr><td>arpad2</td><td>GLS</td><td>6</td></tr>",
                            "<tr><td>arpad2</td><td>Posta</td><td>1</td></tr>",
                            "<tr><td>arpad2</td><td>Személyes átvétel</td><td>10</td></tr>",
                            "<tr><td>arpad2</td><td>NULL</td><td>17</td></tr>",
                            "<tr><td>ARPADH</td><td>GLS</td><td>6</td></tr>",
                            "<tr><td>ARPADH</td><td>Posta</td><td>3</td></tr>",
                            "<tr><td>ARPADH</td><td>Személyes átvétel</td><td>5</td></tr>",
                            "<tr><td>ARPADH</td><td>NULL</td><td>14</td></tr>",
                            "<tr><td>ARPADM</td><td>GLS</td><td>6</td></tr>",
                            "<tr><td>ARPADM</td><td>Posta</td><td>3</td></tr>",
                            "<tr><td>ARPADM</td><td>Személyes átvétel</td><td>7</td></tr>",
                            "<tr><td>ARPADM</td><td>NULL</td><td>16</td></tr>",
                            "<tr><td>attila1</td><td>GLS</td><td>5</td></tr>",
                            "<tr><td>attila1</td><td>Posta</td><td>7</td></tr>",
                            "<tr><td>attila1</td><td>Személyes átvétel</td><td>6</td></tr>",
                            "<tr><td>attila1</td><td>NULL</td><td>18</td></tr>",
                            "<tr><td>attila4</td><td>GLS</td><td>135</td></tr>",
                            "<tr><td>attila4</td><td>Posta</td><td>125</td></tr>",
                            "<tr><td>attila4</td><td>Személyes átvétel</td><td>141</td></tr>",
                            "<tr><td>attila4</td><td>NULL</td><td>401</td></tr>",
                            "<tr><td>ATTILAO</td><td>GLS</td><td>4</td></tr>",
                            "<tr><td>ATTILAO</td><td>Posta</td><td>4</td></tr>",
                            "<tr><td>ATTILAO</td><td>Személyes átvétel</td><td>6</td></tr>",
                            "<tr><td>ATTILAO</td><td>NULL</td><td>14</td></tr>",
                            "<tr><td>balazs1</td><td>GLS</td><td>128</td></tr>",
                            "<tr><td>balazs1</td><td>Posta</td><td>136</td></tr>",
                            "<tr><td>balazs1</td><td>Személyes átvétel</td><td>155</td></tr>",
                            "<tr><td>balazs1</td><td>NULL</td><td>419</td></tr>",
                            "<tr><td>balazs2</td><td>GLS</td><td>5</td></tr>",
                            "<tr><td>balazs2</td><td>Posta</td><td>7</td></tr>",
                            "<tr><td>balazs2</td><td>Személyes átvétel</td><td>5</td></tr>",
                            "<tr><td>balazs2</td><td>NULL</td><td>17</td></tr>",
                            "<tr><td>balazs3</td><td>GLS</td><td>6</td></tr>",
                            "<tr><td>balazs3</td><td>Posta</td><td>6</td></tr>",
                            "<tr><td>balazs3</td><td>Személyes átvétel</td><td>3</td></tr>",
                            "<tr><td>balazs3</td><td>NULL</td><td>15</td></tr>",
                            "<tr><td>balint</td><td>GLS</td><td>10</td></tr>",
                            "<tr><td>balint</td><td>Posta</td><td>4</td></tr>",
                            "<tr><td>balint</td><td>Személyes átvétel</td><td>2</td></tr>",
                            "<tr><td>balint</td><td>NULL</td><td>16</td></tr>",
                            "<tr><td>balint1</td><td>GLS</td><td>158</td></tr>",
                            "<tr><td>balint1</td><td>Posta</td><td>152</td></tr>",
                            "<tr><td>balint1</td><td>Személyes átvétel</td><td>152</td></tr>",
                            "<tr><td>balint1</td><td>NULL</td><td>462</td></tr>",
                            "<tr><td>balint2</td><td>GLS</td><td>8</td></tr>",
                            "<tr><td>balint2</td><td>Posta</td><td>6</td></tr>",
                            "<tr><td>balint2</td><td>Személyes átvétel</td><td>3</td></tr>",
                            "<tr><td>balint2</td><td>NULL</td><td>17</td></tr>",
                            "<tr><td>balu</td><td>GLS</td><td>127</td></tr>",
                            "<tr><td>balu</td><td>Posta</td><td>137</td></tr>",
                            "<tr><td>balu</td><td>Személyes átvétel</td><td>123</td></tr>",
                            "<tr><td>balu</td><td>NULL</td><td>387</td></tr>",
                            "<tr><td>BEATRIXK</td><td>GLS</td><td>135</td></tr>",
                            "<tr><td>BEATRIXK</td><td>Posta</td><td>155</td></tr>",
                            "<tr><td>BEATRIXK</td><td>Személyes átvétel</td><td>145</td></tr>",
                            "<tr><td>BEATRIXK</td><td>NULL</td><td>435</td></tr>",
                            "<tr><td>BEATRIXS</td><td>GLS</td><td>146</td></tr>",
                            "<tr><td>BEATRIXS</td><td>Posta</td><td>141</td></tr>",
                            "<tr><td>BEATRIXS</td><td>Személyes átvétel</td><td>133</td></tr>",
                            "<tr><td>BEATRIXS</td><td>NULL</td><td>420</td></tr>",
                            "<tr><td>BELAF</td><td>GLS</td><td>11</td></tr>",
                            "<tr><td>BELAF</td><td>Posta</td><td>2</td></tr>",
                            "<tr><td>BELAF</td><td>Személyes átvétel</td><td>5</td></tr>",
                            "<tr><td>BELAF</td><td>NULL</td><td>18</td></tr>",
                            "<tr><td>bence</td><td>GLS</td><td>4</td></tr>",
                            "<tr><td>bence</td><td>Posta</td><td>6</td></tr>",
                            "<tr><td>bence</td><td>Személyes átvétel</td><td>8</td></tr>",
                            "<tr><td>bence</td><td>NULL</td><td>18</td></tr>",
                            "<tr><td>BENCEB</td><td>GLS</td><td>5</td></tr>",
                            "<tr><td>BENCEB</td><td>Posta</td><td>7</td></tr>",
                            "<tr><td>BENCEB</td><td>Személyes átvétel</td><td>5</td></tr>",
                            "<tr><td>BENCEB</td><td>NULL</td><td>17</td></tr>",
                            "<tr><td>bernadett1</td><td>GLS</td><td>10</td></tr>",
                            "<tr><td>bernadett1</td><td>Posta</td><td>5</td></tr>",
                            "<tr><td>bernadett1</td><td>Személyes átvétel</td><td>5</td></tr>",
                            "<tr><td>bernadett1</td><td>NULL</td><td>20</td></tr>",
                            "<tr><td>bernadett2</td><td>GLS</td><td>6</td></tr>",
                            "<tr><td>bernadett2</td><td>Posta</td><td>2</td></tr>",
                            "<tr><td>bernadett2</td><td>Személyes átvétel</td><td>7</td></tr>",
                            "<tr><td>bernadett2</td><td>NULL</td><td>15</td></tr>",
                            "<tr><td>BERNADETTO</td><td>GLS</td><td>7</td></tr>",
                            "<tr><td>BERNADETTO</td><td>Posta</td><td>2</td></tr>",
                            "<tr><td>BERNADETTO</td><td>Személyes átvétel</td><td>7</td></tr>",
                            "<tr><td>BERNADETTO</td><td>NULL</td><td>16</td></tr>",
                            "<tr><td>bertalan</td><td>GLS</td><td>128</td></tr>",
                            "<tr><td>bertalan</td><td>Posta</td><td>124</td></tr>",
                            "<tr><td>bertalan</td><td>Személyes átvétel</td><td>101</td></tr>",
                            "<tr><td>bertalan</td><td>NULL</td><td>353</td></tr>",
                            "<tr><td>brigitta</td><td>GLS</td><td>137</td></tr>",
                            "<tr><td>brigitta</td><td>Posta</td><td>137</td></tr>",
                            "<tr><td>brigitta</td><td>Személyes átvétel</td><td>119</td></tr>",
                            "<tr><td>brigitta</td><td>NULL</td><td>393</td></tr>",
                            "<tr><td>brigitta3</td><td>GLS</td><td>144</td></tr>",
                            "<tr><td>brigitta3</td><td>Posta</td><td>130</td></tr>",
                            "<tr><td>brigitta3</td><td>Személyes átvétel</td><td>139</td></tr>",
                            "<tr><td>brigitta3</td><td>NULL</td><td>413</td></tr>",
                            "<tr><td>csongor3</td><td>GLS</td><td>5</td></tr>",
                            "<tr><td>csongor3</td><td>Posta</td><td>2</td></tr>",
                            "<tr><td>csongor3</td><td>Személyes átvétel</td><td>8</td></tr>",
                            "<tr><td>csongor3</td><td>NULL</td><td>15</td></tr>",
                            "<tr><td>dani</td><td>GLS</td><td>5</td></tr>",
                            "<tr><td>dani</td><td>Személyes átvétel</td><td>8</td></tr>",
                            "<tr><td>dani</td><td>NULL</td><td>13</td></tr>",
                            "<tr><td>daniel</td><td>GLS</td><td>7</td></tr>",
                            "<tr><td>daniel</td><td>Posta</td><td>2</td></tr>",
                            "<tr><td>daniel</td><td>Személyes átvétel</td><td>4</td></tr>",
                            "<tr><td>daniel</td><td>NULL</td><td>13</td></tr>",
                            "<tr><td>daniel1</td><td>GLS</td><td>156</td></tr>",
                            "<tr><td>daniel1</td><td>Posta</td><td>131</td></tr>",
                            "<tr><td>daniel1</td><td>Személyes átvétel</td><td>132</td></tr>",
                            "<tr><td>daniel1</td><td>NULL</td><td>419</td></tr>",
                            "<tr><td>david</td><td>GLS</td><td>161</td></tr>",
                            "<tr><td>david</td><td>Posta</td><td>144</td></tr>",
                            "<tr><td>david</td><td>Személyes átvétel</td><td>146</td></tr>",
                            "<tr><td>david</td><td>NULL</td><td>451</td></tr>",
                            "<tr><td>david1</td><td>GLS</td><td>8</td></tr>",
                            "<tr><td>david1</td><td>Posta</td><td>1</td></tr>",
                            "<tr><td>david1</td><td>Személyes átvétel</td><td>8</td></tr>",
                            "<tr><td>david1</td><td>NULL</td><td>17</td></tr>",
                            "<tr><td>david4</td><td>GLS</td><td>3</td></tr>",
                            "<tr><td>david4</td><td>Posta</td><td>8</td></tr>",
                            "<tr><td>david4</td><td>Személyes átvétel</td><td>10</td></tr>",
                            "<tr><td>david4</td><td>NULL</td><td>21</td></tr>",
                            "<tr><td>debora</td><td>GLS</td><td>7</td></tr>",
                            "<tr><td>debora</td><td>Posta</td><td>6</td></tr>",
                            "<tr><td>debora</td><td>Személyes átvétel</td><td>3</td></tr>",
                            "<tr><td>debora</td><td>NULL</td><td>16</td></tr>",
                            "<tr><td>denes</td><td>GLS</td><td>3</td></tr>",
                            "<tr><td>denes</td><td>Posta</td><td>2</td></tr>",
                            "<tr><td>denes</td><td>Személyes átvétel</td><td>4</td></tr>",
                            "<tr><td>denes</td><td>NULL</td><td>9</td></tr>",
                            "<tr><td>dora3</td><td>GLS</td><td>144</td></tr>",
                            "<tr><td>dora3</td><td>Posta</td><td>124</td></tr>",
                            "<tr><td>dora3</td><td>Személyes átvétel</td><td>164</td></tr>",
                            "<tr><td>dora3</td><td>NULL</td><td>432</td></tr>",
                            "<tr><td>edit</td><td>GLS</td><td>7</td></tr>",
                            "<tr><td>edit</td><td>Posta</td><td>2</td></tr>",
                            "<tr><td>edit</td><td>Személyes átvétel</td><td>4</td></tr>",
                            "<tr><td>edit</td><td>NULL</td><td>13</td></tr>",
                            "<tr><td>emese</td><td>GLS</td><td>128</td></tr>",
                            "<tr><td>emese</td><td>Posta</td><td>136</td></tr>",
                            "<tr><td>emese</td><td>Személyes átvétel</td><td>142</td></tr>",
                            "<tr><td>emese</td><td>NULL</td><td>406</td></tr>",
                            "<tr><td>eszter2</td><td>GLS</td><td>127</td></tr>",
                            "<tr><td>eszter2</td><td>Posta</td><td>136</td></tr>",
                            "<tr><td>eszter2</td><td>Személyes átvétel</td><td>152</td></tr>",
                            "<tr><td>eszter2</td><td>NULL</td><td>415</td></tr>",
                            "<tr><td>eszter4</td><td>GLS</td><td>141</td></tr>",
                            "<tr><td>eszter4</td><td>Posta</td><td>134</td></tr>",
                            "<tr><td>eszter4</td><td>Személyes átvétel</td><td>149</td></tr>",
                            "<tr><td>eszter4</td><td>NULL</td><td>424</td></tr>",
                            "<tr><td>ESZTERE</td><td>GLS</td><td>6</td></tr>",
                            "<tr><td>ESZTERE</td><td>Posta</td><td>9</td></tr>",
                            "<tr><td>ESZTERE</td><td>Személyes átvétel</td><td>7</td></tr>",
                            "<tr><td>ESZTERE</td><td>NULL</td><td>22</td></tr>",
                            "<tr><td>eva</td><td>GLS</td><td>125</td></tr>",
                            "<tr><td>eva</td><td>Posta</td><td>140</td></tr>",
                            "<tr><td>eva</td><td>Személyes átvétel</td><td>139</td></tr>",
                            "<tr><td>eva</td><td>NULL</td><td>404</td></tr>",
                            "<tr><td>eva2</td><td>GLS</td><td>154</td></tr>",
                            "<tr><td>eva2</td><td>Posta</td><td>138</td></tr>",
                            "<tr><td>eva2</td><td>Személyes átvétel</td><td>170</td></tr>",
                            "<tr><td>eva2</td><td>NULL</td><td>462</td></tr>",
                            "<tr><td>EVAV</td><td>GLS</td><td>2</td></tr>",
                            "<tr><td>EVAV</td><td>Posta</td><td>1</td></tr>",
                            "<tr><td>EVAV</td><td>Személyes átvétel</td><td>4</td></tr>",
                            "<tr><td>EVAV</td><td>NULL</td><td>7</td></tr>",
                            "<tr><td>ferenc1</td><td>GLS</td><td>144</td></tr>",
                            "<tr><td>ferenc1</td><td>Posta</td><td>158</td></tr>",
                            "<tr><td>ferenc1</td><td>Személyes átvétel</td><td>135</td></tr>",
                            "<tr><td>ferenc1</td><td>NULL</td><td>437</td></tr>",
                            "<tr><td>fruzsina4</td><td>GLS</td><td>8</td></tr>",
                            "<tr><td>fruzsina4</td><td>Posta</td><td>3</td></tr>",
                            "<tr><td>fruzsina4</td><td>Személyes átvétel</td><td>7</td></tr>",
                            "<tr><td>fruzsina4</td><td>NULL</td><td>18</td></tr>",
                            "<tr><td>gabor1</td><td>GLS</td><td>9</td></tr>",
                            "<tr><td>gabor1</td><td>Posta</td><td>5</td></tr>",
                            "<tr><td>gabor1</td><td>Személyes átvétel</td><td>5</td></tr>",
                            "<tr><td>gabor1</td><td>NULL</td><td>19</td></tr>",
                            "<tr><td>gabor4</td><td>GLS</td><td>7</td></tr>",
                            "<tr><td>gabor4</td><td>Posta</td><td>9</td></tr>",
                            "<tr><td>gabor4</td><td>Személyes átvétel</td><td>4</td></tr>",
                            "<tr><td>gabor4</td><td>NULL</td><td>20</td></tr>",
                            "<tr><td>GABORS</td><td>GLS</td><td>5</td></tr>",
                            "<tr><td>GABORS</td><td>Posta</td><td>6</td></tr>",
                            "<tr><td>GABORS</td><td>Személyes átvétel</td><td>4</td></tr>",
                            "<tr><td>GABORS</td><td>NULL</td><td>15</td></tr>",
                            "<tr><td>gabriella1</td><td>GLS</td><td>5</td></tr>",
                            "<tr><td>gabriella1</td><td>Posta</td><td>4</td></tr>",
                            "<tr><td>gabriella1</td><td>Személyes átvétel</td><td>5</td></tr>",
                            "<tr><td>gabriella1</td><td>NULL</td><td>14</td></tr>",
                            "<tr><td>gabriella10</td><td>GLS</td><td>4</td></tr>",
                            "<tr><td>gabriella10</td><td>Posta</td><td>5</td></tr>",
                            "<tr><td>gabriella10</td><td>Személyes átvétel</td><td>7</td></tr>",
                            "<tr><td>gabriella10</td><td>NULL</td><td>16</td></tr>",
                            "<tr><td>georgij</td><td>GLS</td><td>9</td></tr>",
                            "<tr><td>georgij</td><td>Posta</td><td>2</td></tr>",
                            "<tr><td>georgij</td><td>Személyes átvétel</td><td>10</td></tr>",
                            "<tr><td>georgij</td><td>NULL</td><td>21</td></tr>",
                            "<tr><td>gusztav</td><td>GLS</td><td>5</td></tr>",
                            "<tr><td>gusztav</td><td>Posta</td><td>4</td></tr>",
                            "<tr><td>gusztav</td><td>Személyes átvétel</td><td>5</td></tr>",
                            "<tr><td>gusztav</td><td>NULL</td><td>14</td></tr>",
                            "<tr><td>GYONGYIK</td><td>GLS</td><td>6</td></tr>",
                            "<tr><td>GYONGYIK</td><td>Posta</td><td>6</td></tr>",
                            "<tr><td>GYONGYIK</td><td>Személyes átvétel</td><td>3</td></tr>",
                            "<tr><td>GYONGYIK</td><td>NULL</td><td>15</td></tr>",
                            "<tr><td>GYORGYO</td><td>GLS</td><td>7</td></tr>",
                            "<tr><td>GYORGYO</td><td>Posta</td><td>4</td></tr>",
                            "<tr><td>GYORGYO</td><td>Személyes átvétel</td><td>5</td></tr>",
                            "<tr><td>GYORGYO</td><td>NULL</td><td>16</td></tr>",
                            "<tr><td>henrik3</td><td>GLS</td><td>7</td></tr>",
                            "<tr><td>henrik3</td><td>Posta</td><td>4</td></tr>",
                            "<tr><td>henrik3</td><td>Személyes átvétel</td><td>5</td></tr>",
                            "<tr><td>henrik3</td><td>NULL</td><td>16</td></tr>",
                            "<tr><td>IBOLYAA</td><td>GLS</td><td>140</td></tr>",
                            "<tr><td>IBOLYAA</td><td>Posta</td><td>125</td></tr>",
                            "<tr><td>IBOLYAA</td><td>Személyes átvétel</td><td>157</td></tr>",
                            "<tr><td>IBOLYAA</td><td>NULL</td><td>422</td></tr>",
                            "<tr><td>ilona3</td><td>GLS</td><td>9</td></tr>",
                            "<tr><td>ilona3</td><td>Posta</td><td>2</td></tr>",
                            "<tr><td>ilona3</td><td>Személyes átvétel</td><td>7</td></tr>",
                            "<tr><td>ilona3</td><td>NULL</td><td>18</td></tr>",
                            "<tr><td>imre</td><td>GLS</td><td>5</td></tr>",
                            "<tr><td>imre</td><td>Posta</td><td>4</td></tr>",
                            "<tr><td>imre</td><td>Személyes átvétel</td><td>6</td></tr>",
                            "<tr><td>imre</td><td>NULL</td><td>15</td></tr>",
                            "<tr><td>imre1</td><td>GLS</td><td>8</td></tr>",
                            "<tr><td>imre1</td><td>Posta</td><td>4</td></tr>",
                            "<tr><td>imre1</td><td>Személyes átvétel</td><td>3</td></tr>",
                            "<tr><td>imre1</td><td>NULL</td><td>15</td></tr>",
                            "<tr><td>istvan</td><td>GLS</td><td>3</td></tr>",
                            "<tr><td>istvan</td><td>Posta</td><td>4</td></tr>",
                            "<tr><td>istvan</td><td>Személyes átvétel</td><td>4</td></tr>",
                            "<tr><td>istvan</td><td>NULL</td><td>11</td></tr>",
                            "<tr><td>istvan1</td><td>GLS</td><td>8</td></tr>",
                            "<tr><td>istvan1</td><td>Posta</td><td>4</td></tr>",
                            "<tr><td>istvan1</td><td>Személyes átvétel</td><td>7</td></tr>",
                            "<tr><td>istvan1</td><td>NULL</td><td>19</td></tr>",
                            "<tr><td>ISTVANV</td><td>GLS</td><td>4</td></tr>",
                            "<tr><td>ISTVANV</td><td>Posta</td><td>9</td></tr>",
                            "<tr><td>ISTVANV</td><td>Személyes átvétel</td><td>8</td></tr>",
                            "<tr><td>ISTVANV</td><td>NULL</td><td>21</td></tr>",
                            "<tr><td>janos3</td><td>GLS</td><td>5</td></tr>",
                            "<tr><td>janos3</td><td>Posta</td><td>2</td></tr>",
                            "<tr><td>janos3</td><td>Személyes átvétel</td><td>6</td></tr>",
                            "<tr><td>janos3</td><td>NULL</td><td>13</td></tr>",
                            "<tr><td>JANOSG</td><td>GLS</td><td>3</td></tr>",
                            "<tr><td>JANOSG</td><td>Posta</td><td>3</td></tr>",
                            "<tr><td>JANOSG</td><td>Személyes átvétel</td><td>4</td></tr>",
                            "<tr><td>JANOSG</td><td>NULL</td><td>10</td></tr>",
                            "<tr><td>JANOSP</td><td>GLS</td><td>7</td></tr>",
                            "<tr><td>JANOSP</td><td>Posta</td><td>7</td></tr>",
                            "<tr><td>JANOSP</td><td>Személyes átvétel</td><td>3</td></tr>",
                            "<tr><td>JANOSP</td><td>NULL</td><td>17</td></tr>",
                            "<tr><td>jozsef</td><td>GLS</td><td>116</td></tr>",
                            "<tr><td>jozsef</td><td>Posta</td><td>132</td></tr>",
                            "<tr><td>jozsef</td><td>Személyes átvétel</td><td>134</td></tr>",
                            "<tr><td>jozsef</td><td>NULL</td><td>382</td></tr>",
                            "<tr><td>jozsef2</td><td>GLS</td><td>7</td></tr>",
                            "<tr><td>jozsef2</td><td>Posta</td><td>2</td></tr>",
                            "<tr><td>jozsef2</td><td>Személyes átvétel</td><td>4</td></tr>",
                            "<tr><td>jozsef2</td><td>NULL</td><td>13</td></tr>",
                            "<tr><td>JOZSEFG</td><td>GLS</td><td>11</td></tr>",
                            "<tr><td>JOZSEFG</td><td>Posta</td><td>1</td></tr>",
                            "<tr><td>JOZSEFG</td><td>Személyes átvétel</td><td>9</td></tr>",
                            "<tr><td>JOZSEFG</td><td>NULL</td><td>21</td></tr>",
                            "<tr><td>JUDITH</td><td>GLS</td><td>170</td></tr>",
                            "<tr><td>JUDITH</td><td>Posta</td><td>130</td></tr>",
                            "<tr><td>JUDITH</td><td>Személyes átvétel</td><td>150</td></tr>",
                            "<tr><td>JUDITH</td><td>NULL</td><td>450</td></tr>",
                            "<tr><td>julia</td><td>GLS</td><td>137</td></tr>",
                            "<tr><td>julia</td><td>Posta</td><td>160</td></tr>",
                            "<tr><td>julia</td><td>Személyes átvétel</td><td>138</td></tr>",
                            "<tr><td>julia</td><td>NULL</td><td>435</td></tr>",
                            "<tr><td>julia4</td><td>GLS</td><td>2</td></tr>",
                            "<tr><td>julia4</td><td>Posta</td><td>4</td></tr>",
                            "<tr><td>julia4</td><td>Személyes átvétel</td><td>8</td></tr>",
                            "<tr><td>julia4</td><td>NULL</td><td>14</td></tr>",
                            "<tr><td>julianna4</td><td>GLS</td><td>8</td></tr>",
                            "<tr><td>julianna4</td><td>Posta</td><td>12</td></tr>",
                            "<tr><td>julianna4</td><td>Személyes átvétel</td><td>7</td></tr>",
                            "<tr><td>julianna4</td><td>NULL</td><td>27</td></tr>",
                            "<tr><td>kata</td><td>GLS</td><td>5</td></tr>",
                            "<tr><td>kata</td><td>Posta</td><td>4</td></tr>",
                            "<tr><td>kata</td><td>Személyes átvétel</td><td>3</td></tr>",
                            "<tr><td>kata</td><td>NULL</td><td>12</td></tr>",
                            "<tr><td>katalin</td><td>GLS</td><td>7</td></tr>",
                            "<tr><td>katalin</td><td>Posta</td><td>7</td></tr>",
                            "<tr><td>katalin</td><td>Személyes átvétel</td><td>5</td></tr>",
                            "<tr><td>katalin</td><td>NULL</td><td>19</td></tr>",
                            "<tr><td>katalin4</td><td>GLS</td><td>7</td></tr>",
                            "<tr><td>katalin4</td><td>Posta</td><td>5</td></tr>",
                            "<tr><td>katalin4</td><td>Személyes átvétel</td><td>11</td></tr>",
                            "<tr><td>katalin4</td><td>NULL</td><td>23</td></tr>",
                            "<tr><td>kati</td><td>GLS</td><td>4</td></tr>",
                            "<tr><td>kati</td><td>Posta</td><td>5</td></tr>",
                            "<tr><td>kati</td><td>Személyes átvétel</td><td>4</td></tr>",
                            "<tr><td>kati</td><td>NULL</td><td>13</td></tr>",
                            "<tr><td>katka</td><td>GLS</td><td>6</td></tr>",
                            "<tr><td>katka</td><td>Posta</td><td>6</td></tr>",
                            "<tr><td>katka</td><td>Személyes átvétel</td><td>10</td></tr>",
                            "<tr><td>katka</td><td>NULL</td><td>22</td></tr>",
                            "<tr><td>klaudia2</td><td>GLS</td><td>3</td></tr>",
                            "<tr><td>klaudia2</td><td>Posta</td><td>9</td></tr>",
                            "<tr><td>klaudia2</td><td>Személyes átvétel</td><td>5</td></tr>",
                            "<tr><td>klaudia2</td><td>NULL</td><td>17</td></tr>",
                            "<tr><td>kornel4</td><td>GLS</td><td>3</td></tr>",
                            "<tr><td>kornel4</td><td>Posta</td><td>1</td></tr>",
                            "<tr><td>kornel4</td><td>Személyes átvétel</td><td>7</td></tr>",
                            "<tr><td>kornel4</td><td>NULL</td><td>11</td></tr>",
                            "<tr><td>kristof4</td><td>GLS</td><td>9</td></tr>",
                            "<tr><td>kristof4</td><td>Posta</td><td>4</td></tr>",
                            "<tr><td>kristof4</td><td>Személyes átvétel</td><td>8</td></tr>",
                            "<tr><td>kristof4</td><td>NULL</td><td>21</td></tr>",
                            "<tr><td>kriszti</td><td>GLS</td><td>3</td></tr>",
                            "<tr><td>kriszti</td><td>Posta</td><td>5</td></tr>",
                            "<tr><td>kriszti</td><td>Személyes átvétel</td><td>5</td></tr>",
                            "<tr><td>kriszti</td><td>NULL</td><td>13</td></tr>",
                            "<tr><td>krisztian4</td><td>GLS</td><td>5</td></tr>",
                            "<tr><td>krisztian4</td><td>Posta</td><td>6</td></tr>",
                            "<tr><td>krisztian4</td><td>Személyes átvétel</td><td>6</td></tr>",
                            "<tr><td>krisztian4</td><td>NULL</td><td>17</td></tr>",
                            "<tr><td>KRISZTIANM</td><td>GLS</td><td>118</td></tr>",
                            "<tr><td>KRISZTIANM</td><td>Posta</td><td>136</td></tr>",
                            "<tr><td>KRISZTIANM</td><td>Személyes átvétel</td><td>130</td></tr>",
                            "<tr><td>KRISZTIANM</td><td>NULL</td><td>384</td></tr>",
                            "<tr><td>krisztina</td><td>GLS</td><td>149</td></tr>",
                            "<tr><td>krisztina</td><td>Posta</td><td>150</td></tr>",
                            "<tr><td>krisztina</td><td>Személyes átvétel</td><td>157</td></tr>",
                            "<tr><td>krisztina</td><td>NULL</td><td>456</td></tr>",
                            "<tr><td>krisztina1</td><td>GLS</td><td>10</td></tr>",
                            "<tr><td>krisztina1</td><td>Posta</td><td>4</td></tr>",
                            "<tr><td>krisztina1</td><td>Személyes átvétel</td><td>8</td></tr>",
                            "<tr><td>krisztina1</td><td>NULL</td><td>22</td></tr>",
                            "<tr><td>KRISZTINAG</td><td>GLS</td><td>6</td></tr>",
                            "<tr><td>KRISZTINAG</td><td>Posta</td><td>6</td></tr>",
                            "<tr><td>KRISZTINAG</td><td>Személyes átvétel</td><td>10</td></tr>",
                            "<tr><td>KRISZTINAG</td><td>NULL</td><td>22</td></tr>",
                            "<tr><td>lajos</td><td>GLS</td><td>5</td></tr>",
                            "<tr><td>lajos</td><td>Posta</td><td>2</td></tr>",
                            "<tr><td>lajos</td><td>Személyes átvétel</td><td>9</td></tr>",
                            "<tr><td>lajos</td><td>NULL</td><td>16</td></tr>",
                            "<tr><td>lala</td><td>GLS</td><td>5</td></tr>",
                            "<tr><td>lala</td><td>Posta</td><td>3</td></tr>",
                            "<tr><td>lala</td><td>Személyes átvétel</td><td>9</td></tr>",
                            "<tr><td>lala</td><td>NULL</td><td>17</td></tr>",
                            "<tr><td>laszlo1</td><td>GLS</td><td>130</td></tr>",
                            "<tr><td>laszlo1</td><td>Posta</td><td>129</td></tr>",
                            "<tr><td>laszlo1</td><td>Személyes átvétel</td><td>135</td></tr>",
                            "<tr><td>laszlo1</td><td>NULL</td><td>394</td></tr>",
                            "<tr><td>laszlo2</td><td>GLS</td><td>12</td></tr>",
                            "<tr><td>laszlo2</td><td>Posta</td><td>6</td></tr>",
                            "<tr><td>laszlo2</td><td>Személyes átvétel</td><td>7</td></tr>",
                            "<tr><td>laszlo2</td><td>NULL</td><td>25</td></tr>",
                            "<tr><td>LASZLOA</td><td>GLS</td><td>156</td></tr>",
                            "<tr><td>LASZLOA</td><td>Posta</td><td>136</td></tr>",
                            "<tr><td>LASZLOA</td><td>Személyes átvétel</td><td>154</td></tr>",
                            "<tr><td>LASZLOA</td><td>NULL</td><td>446</td></tr>",
                            "<tr><td>LASZLON</td><td>GLS</td><td>126</td></tr>",
                            "<tr><td>LASZLON</td><td>Posta</td><td>131</td></tr>",
                            "<tr><td>LASZLON</td><td>Személyes átvétel</td><td>143</td></tr>",
                            "<tr><td>LASZLON</td><td>NULL</td><td>400</td></tr>",
                            "<tr><td>maria1</td><td>GLS</td><td>4</td></tr>",
                            "<tr><td>maria1</td><td>Posta</td><td>5</td></tr>",
                            "<tr><td>maria1</td><td>Személyes átvétel</td><td>1</td></tr>",
                            "<tr><td>maria1</td><td>NULL</td><td>10</td></tr>",
                            "<tr><td>MARKH</td><td>GLS</td><td>128</td></tr>",
                            "<tr><td>MARKH</td><td>Posta</td><td>142</td></tr>",
                            "<tr><td>MARKH</td><td>Személyes átvétel</td><td>142</td></tr>",
                            "<tr><td>MARKH</td><td>NULL</td><td>412</td></tr>",
                            "<tr><td>marton</td><td>GLS</td><td>5</td></tr>",
                            "<tr><td>marton</td><td>Posta</td><td>4</td></tr>",
                            "<tr><td>marton</td><td>Személyes átvétel</td><td>5</td></tr>",
                            "<tr><td>marton</td><td>NULL</td><td>14</td></tr>",
                            "<tr><td>MATEK</td><td>GLS</td><td>6</td></tr>",
                            "<tr><td>MATEK</td><td>Posta</td><td>10</td></tr>",
                            "<tr><td>MATEK</td><td>Személyes átvétel</td><td>9</td></tr>",
                            "<tr><td>MATEK</td><td>NULL</td><td>25</td></tr>",
                            "<tr><td>matyas2</td><td>GLS</td><td>138</td></tr>",
                            "<tr><td>matyas2</td><td>Posta</td><td>131</td></tr>",
                            "<tr><td>matyas2</td><td>Személyes átvétel</td><td>164</td></tr>",
                            "<tr><td>matyas2</td><td>NULL</td><td>433</td></tr>",
                            "<tr><td>MATYASS</td><td>GLS</td><td>4</td></tr>",
                            "<tr><td>MATYASS</td><td>Posta</td><td>5</td></tr>",
                            "<tr><td>MATYASS</td><td>Személyes átvétel</td><td>3</td></tr>",
                            "<tr><td>MATYASS</td><td>NULL</td><td>12</td></tr>",
                            "<tr><td>MIHALYJ</td><td>GLS</td><td>3</td></tr>",
                            "<tr><td>MIHALYJ</td><td>Posta</td><td>4</td></tr>",
                            "<tr><td>MIHALYJ</td><td>Személyes átvétel</td><td>6</td></tr>",
                            "<tr><td>MIHALYJ</td><td>NULL</td><td>13</td></tr>",
                            "<tr><td>miklos2</td><td>GLS</td><td>7</td></tr>",
                            "<tr><td>miklos2</td><td>Posta</td><td>4</td></tr>",
                            "<tr><td>miklos2</td><td>Személyes átvétel</td><td>2</td></tr>",
                            "<tr><td>miklos2</td><td>NULL</td><td>13</td></tr>",
                            "<tr><td>MIKLOSB</td><td>GLS</td><td>6</td></tr>",
                            "<tr><td>MIKLOSB</td><td>Posta</td><td>1</td></tr>",
                            "<tr><td>MIKLOSB</td><td>Személyes átvétel</td><td>8</td></tr>",
                            "<tr><td>MIKLOSB</td><td>NULL</td><td>15</td></tr>",
                            "<tr><td>MONIKAM</td><td>GLS</td><td>133</td></tr>",
                            "<tr><td>MONIKAM</td><td>Posta</td><td>151</td></tr>",
                            "<tr><td>MONIKAM</td><td>Személyes átvétel</td><td>123</td></tr>",
                            "<tr><td>MONIKAM</td><td>NULL</td><td>407</td></tr>",
                            "<tr><td>NANDORF</td><td>GLS</td><td>147</td></tr>",
                            "<tr><td>NANDORF</td><td>Posta</td><td>139</td></tr>",
                            "<tr><td>NANDORF</td><td>Személyes átvétel</td><td>134</td></tr>",
                            "<tr><td>NANDORF</td><td>NULL</td><td>420</td></tr>",
                            "<tr><td>nikolett3</td><td>GLS</td><td>4</td></tr>",
                            "<tr><td>nikolett3</td><td>Posta</td><td>3</td></tr>",
                            "<tr><td>nikolett3</td><td>Személyes átvétel</td><td>10</td></tr>",
                            "<tr><td>nikolett3</td><td>NULL</td><td>17</td></tr>",
                            "<tr><td>nikoletta4</td><td>GLS</td><td>137</td></tr>",
                            "<tr><td>nikoletta4</td><td>Posta</td><td>158</td></tr>",
                            "<tr><td>nikoletta4</td><td>Személyes átvétel</td><td>119</td></tr>",
                            "<tr><td>nikoletta4</td><td>NULL</td><td>414</td></tr>",
                            "<tr><td>NIKOLETTAT</td><td>GLS</td><td>13</td></tr>",
                            "<tr><td>NIKOLETTAT</td><td>Posta</td><td>7</td></tr>",
                            "<tr><td>NIKOLETTAT</td><td>Személyes átvétel</td><td>5</td></tr>",
                            "<tr><td>NIKOLETTAT</td><td>NULL</td><td>25</td></tr>",
                            "<tr><td>norbert2</td><td>GLS</td><td>7</td></tr>",
                            "<tr><td>norbert2</td><td>Posta</td><td>4</td></tr>",
                            "<tr><td>norbert2</td><td>NULL</td><td>11</td></tr>",
                            "<tr><td>norbert4</td><td>GLS</td><td>1</td></tr>",
                            "<tr><td>norbert4</td><td>Posta</td><td>3</td></tr>",
                            "<tr><td>norbert4</td><td>Személyes átvétel</td><td>9</td></tr>",
                            "<tr><td>norbert4</td><td>NULL</td><td>13</td></tr>",
                            "<tr><td>norbert5</td><td>GLS</td><td>1</td></tr>",
                            "<tr><td>norbert5</td><td>Posta</td><td>6</td></tr>",
                            "<tr><td>norbert5</td><td>Személyes átvétel</td><td>9</td></tr>",
                            "<tr><td>norbert5</td><td>NULL</td><td>16</td></tr>",
                            "<tr><td>pal</td><td>GLS</td><td>152</td></tr>",
                            "<tr><td>pal</td><td>Posta</td><td>132</td></tr>",
                            "<tr><td>pal</td><td>Személyes átvétel</td><td>154</td></tr>",
                            "<tr><td>pal</td><td>NULL</td><td>438</td></tr>",
                            "<tr><td>peter1</td><td>GLS</td><td>151</td></tr>",
                            "<tr><td>peter1</td><td>Posta</td><td>135</td></tr>",
                            "<tr><td>peter1</td><td>Személyes átvétel</td><td>126</td></tr>",
                            "<tr><td>peter1</td><td>NULL</td><td>412</td></tr>",
                            "<tr><td>peter2</td><td>GLS</td><td>7</td></tr>",
                            "<tr><td>peter2</td><td>Posta</td><td>4</td></tr>",
                            "<tr><td>peter2</td><td>Személyes átvétel</td><td>7</td></tr>",
                            "<tr><td>peter2</td><td>NULL</td><td>18</td></tr>",
                            "<tr><td>peter3</td><td>GLS</td><td>8</td></tr>",
                            "<tr><td>peter3</td><td>Posta</td><td>7</td></tr>",
                            "<tr><td>peter3</td><td>Személyes átvétel</td><td>10</td></tr>",
                            "<tr><td>peter3</td><td>NULL</td><td>25</td></tr>",
                            "<tr><td>peter4</td><td>GLS</td><td>266</td></tr>",
                            "<tr><td>peter4</td><td>Posta</td><td>293</td></tr>",
                            "<tr><td>peter4</td><td>Személyes átvétel</td><td>293</td></tr>",
                            "<tr><td>peter4</td><td>NULL</td><td>852</td></tr>",
                            "<tr><td>PETERB</td><td>GLS</td><td>2</td></tr>",
                            "<tr><td>PETERB</td><td>Posta</td><td>4</td></tr>",
                            "<tr><td>PETERB</td><td>Személyes átvétel</td><td>9</td></tr>",
                            "<tr><td>PETERB</td><td>NULL</td><td>15</td></tr>",
                            "<tr><td>polla</td><td>GLS</td><td>9</td></tr>",
                            "<tr><td>polla</td><td>Posta</td><td>6</td></tr>",
                            "<tr><td>polla</td><td>Személyes átvétel</td><td>7</td></tr>",
                            "<tr><td>polla</td><td>NULL</td><td>22</td></tr>",
                            "<tr><td>rajmond4</td><td>GLS</td><td>6</td></tr>",
                            "<tr><td>rajmond4</td><td>Posta</td><td>5</td></tr>",
                            "<tr><td>rajmond4</td><td>Személyes átvétel</td><td>6</td></tr>",
                            "<tr><td>rajmond4</td><td>NULL</td><td>17</td></tr>",
                            "<tr><td>reka4</td><td>GLS</td><td>5</td></tr>",
                            "<tr><td>reka4</td><td>Posta</td><td>4</td></tr>",
                            "<tr><td>reka4</td><td>Személyes átvétel</td><td>11</td></tr>",
                            "<tr><td>reka4</td><td>NULL</td><td>20</td></tr>",
                            "<tr><td>RENATAK</td><td>GLS</td><td>135</td></tr>",
                            "<tr><td>RENATAK</td><td>Posta</td><td>140</td></tr>",
                            "<tr><td>RENATAK</td><td>Személyes átvétel</td><td>147</td></tr>",
                            "<tr><td>RENATAK</td><td>NULL</td><td>422</td></tr>",
                            "<tr><td>RENATAS</td><td>GLS</td><td>6</td></tr>",
                            "<tr><td>RENATAS</td><td>Posta</td><td>5</td></tr>",
                            "<tr><td>RENATAS</td><td>Személyes átvétel</td><td>5</td></tr>",
                            "<tr><td>RENATAS</td><td>NULL</td><td>16</td></tr>",
                            "<tr><td>robert2</td><td>GLS</td><td>5</td></tr>",
                            "<tr><td>robert2</td><td>Posta</td><td>1</td></tr>",
                            "<tr><td>robert2</td><td>Személyes átvétel</td><td>7</td></tr>",
                            "<tr><td>robert2</td><td>NULL</td><td>13</td></tr>",
                            "<tr><td>ROBERTI</td><td>GLS</td><td>5</td></tr>",
                            "<tr><td>ROBERTI</td><td>Posta</td><td>3</td></tr>",
                            "<tr><td>ROBERTI</td><td>Személyes átvétel</td><td>5</td></tr>",
                            "<tr><td>ROBERTI</td><td>NULL</td><td>13</td></tr>",
                            "<tr><td>ROBERTP</td><td>GLS</td><td>8</td></tr>",
                            "<tr><td>ROBERTP</td><td>Posta</td><td>8</td></tr>",
                            "<tr><td>ROBERTP</td><td>Személyes átvétel</td><td>10</td></tr>",
                            "<tr><td>ROBERTP</td><td>NULL</td><td>26</td></tr>",
                            "<tr><td>roland</td><td>GLS</td><td>132</td></tr>",
                            "<tr><td>roland</td><td>Posta</td><td>157</td></tr>",
                            "<tr><td>roland</td><td>Személyes átvétel</td><td>125</td></tr>",
                            "<tr><td>roland</td><td>NULL</td><td>414</td></tr>",
                            "<tr><td>roland1</td><td>GLS</td><td>142</td></tr>",
                            "<tr><td>roland1</td><td>Posta</td><td>155</td></tr>",
                            "<tr><td>roland1</td><td>Személyes átvétel</td><td>135</td></tr>",
                            "<tr><td>roland1</td><td>NULL</td><td>432</td></tr>",
                            "<tr><td>roza2</td><td>GLS</td><td>3</td></tr>",
                            "<tr><td>roza2</td><td>Posta</td><td>2</td></tr>",
                            "<tr><td>roza2</td><td>Személyes átvétel</td><td>3</td></tr>",
                            "<tr><td>roza2</td><td>NULL</td><td>8</td></tr>",
                            "<tr><td>sandor</td><td>GLS</td><td>4</td></tr>",
                            "<tr><td>sandor</td><td>Posta</td><td>6</td></tr>",
                            "<tr><td>sandor</td><td>Személyes átvétel</td><td>7</td></tr>",
                            "<tr><td>sandor</td><td>NULL</td><td>17</td></tr>",
                            "<tr><td>sandor3</td><td>GLS</td><td>4</td></tr>",
                            "<tr><td>sandor3</td><td>Posta</td><td>4</td></tr>",
                            "<tr><td>sandor3</td><td>Személyes átvétel</td><td>6</td></tr>",
                            "<tr><td>sandor3</td><td>NULL</td><td>14</td></tr>",
                            "<tr><td>sandor4</td><td>GLS</td><td>4</td></tr>",
                            "<tr><td>sandor4</td><td>Posta</td><td>2</td></tr>",
                            "<tr><td>sandor4</td><td>Személyes átvétel</td><td>5</td></tr>",
                            "<tr><td>sandor4</td><td>NULL</td><td>11</td></tr>",
                            "<tr><td>sara</td><td>GLS</td><td>4</td></tr>",
                            "<tr><td>sara</td><td>Posta</td><td>7</td></tr>",
                            "<tr><td>sara</td><td>Személyes átvétel</td><td>9</td></tr>",
                            "<tr><td>sara</td><td>NULL</td><td>20</td></tr>",
                            "<tr><td>SEBASTIANF</td><td>GLS</td><td>6</td></tr>",
                            "<tr><td>SEBASTIANF</td><td>Posta</td><td>3</td></tr>",
                            "<tr><td>SEBASTIANF</td><td>Személyes átvétel</td><td>6</td></tr>",
                            "<tr><td>SEBASTIANF</td><td>NULL</td><td>15</td></tr>",
                            "<tr><td>sebestyen</td><td>GLS</td><td>4</td></tr>",
                            "<tr><td>sebestyen</td><td>Posta</td><td>6</td></tr>",
                            "<tr><td>sebestyen</td><td>Személyes átvétel</td><td>6</td></tr>",
                            "<tr><td>sebestyen</td><td>NULL</td><td>16</td></tr>",
                            "<tr><td>szabolcs</td><td>GLS</td><td>145</td></tr>",
                            "<tr><td>szabolcs</td><td>Posta</td><td>157</td></tr>",
                            "<tr><td>szabolcs</td><td>Személyes átvétel</td><td>169</td></tr>",
                            "<tr><td>szabolcs</td><td>NULL</td><td>471</td></tr>",
                            "<tr><td>SZABOLCSM</td><td>GLS</td><td>126</td></tr>",
                            "<tr><td>SZABOLCSM</td><td>Posta</td><td>153</td></tr>",
                            "<tr><td>SZABOLCSM</td><td>Személyes átvétel</td><td>129</td></tr>",
                            "<tr><td>SZABOLCSM</td><td>NULL</td><td>408</td></tr>",
                            "<tr><td>SZILARDS</td><td>GLS</td><td>144</td></tr>",
                            "<tr><td>SZILARDS</td><td>Posta</td><td>131</td></tr>",
                            "<tr><td>SZILARDS</td><td>Személyes átvétel</td><td>111</td></tr>",
                            "<tr><td>SZILARDS</td><td>NULL</td><td>386</td></tr>",
                            "<tr><td>szilvia1</td><td>GLS</td><td>156</td></tr>",
                            "<tr><td>szilvia1</td><td>Posta</td><td>151</td></tr>",
                            "<tr><td>szilvia1</td><td>Személyes átvétel</td><td>138</td></tr>",
                            "<tr><td>szilvia1</td><td>NULL</td><td>445</td></tr>",
                            "<tr><td>tamara2</td><td>GLS</td><td>6</td></tr>",
                            "<tr><td>tamara2</td><td>Posta</td><td>4</td></tr>",
                            "<tr><td>tamara2</td><td>Személyes átvétel</td><td>3</td></tr>",
                            "<tr><td>tamara2</td><td>NULL</td><td>13</td></tr>",
                            "<tr><td>tamas</td><td>GLS</td><td>143</td></tr>",
                            "<tr><td>tamas</td><td>Posta</td><td>156</td></tr>",
                            "<tr><td>tamas</td><td>Személyes átvétel</td><td>122</td></tr>",
                            "<tr><td>tamas</td><td>NULL</td><td>421</td></tr>",
                            "<tr><td>TAMASF</td><td>GLS</td><td>159</td></tr>",
                            "<tr><td>TAMASF</td><td>Posta</td><td>145</td></tr>",
                            "<tr><td>TAMASF</td><td>Személyes átvétel</td><td>129</td></tr>",
                            "<tr><td>TAMASF</td><td>NULL</td><td>433</td></tr>",
                            "<tr><td>tibor</td><td>GLS</td><td>115</td></tr>",
                            "<tr><td>tibor</td><td>Posta</td><td>129</td></tr>",
                            "<tr><td>tibor</td><td>Személyes átvétel</td><td>130</td></tr>",
                            "<tr><td>tibor</td><td>NULL</td><td>374</td></tr>",
                            "<tr><td>tibor2</td><td>GLS</td><td>7</td></tr>",
                            "<tr><td>tibor2</td><td>Posta</td><td>7</td></tr>",
                            "<tr><td>tibor2</td><td>Személyes átvétel</td><td>11</td></tr>",
                            "<tr><td>tibor2</td><td>NULL</td><td>25</td></tr>",
                            "<tr><td>tihamer</td><td>GLS</td><td>9</td></tr>",
                            "<tr><td>tihamer</td><td>Posta</td><td>6</td></tr>",
                            "<tr><td>tihamer</td><td>Személyes átvétel</td><td>5</td></tr>",
                            "<tr><td>tihamer</td><td>NULL</td><td>20</td></tr>",
                            "<tr><td>timea</td><td>GLS</td><td>14</td></tr>",
                            "<tr><td>timea</td><td>Posta</td><td>23</td></tr>",
                            "<tr><td>timea</td><td>Személyes átvétel</td><td>18</td></tr>",
                            "<tr><td>timea</td><td>NULL</td><td>55</td></tr>",
                            "<tr><td>timea2</td><td>GLS</td><td>1</td></tr>",
                            "<tr><td>timea2</td><td>Posta</td><td>5</td></tr>",
                            "<tr><td>timea2</td><td>Személyes átvétel</td><td>10</td></tr>",
                            "<tr><td>timea2</td><td>NULL</td><td>16</td></tr>",
                            "<tr><td>tunde</td><td>GLS</td><td>6</td></tr>",
                            "<tr><td>tunde</td><td>Posta</td><td>6</td></tr>",
                            "<tr><td>tunde</td><td>Személyes átvétel</td><td>4</td></tr>",
                            "<tr><td>tunde</td><td>NULL</td><td>16</td></tr>",
                            "<tr><td>valentin</td><td>GLS</td><td>5</td></tr>",
                            "<tr><td>valentin</td><td>Posta</td><td>5</td></tr>",
                            "<tr><td>valentin</td><td>Személyes átvétel</td><td>3</td></tr>",
                            "<tr><td>valentin</td><td>NULL</td><td>13</td></tr>",
                            "<tr><td>veronika4</td><td>GLS</td><td>5</td></tr>",
                            "<tr><td>veronika4</td><td>Posta</td><td>6</td></tr>",
                            "<tr><td>veronika4</td><td>Személyes átvétel</td><td>7</td></tr>",
                            "<tr><td>veronika4</td><td>NULL</td><td>18</td></tr>",
                            "<tr><td>VIKTORIAU</td><td>GLS</td><td>5</td></tr>",
                            "<tr><td>VIKTORIAU</td><td>Posta</td><td>4</td></tr>",
                            "<tr><td>VIKTORIAU</td><td>Személyes átvétel</td><td>5</td></tr>",
                            "<tr><td>VIKTORIAU</td><td>NULL</td><td>14</td></tr>",
                            "<tr><td>VIKTORK</td><td>GLS</td><td>8</td></tr>",
                            "<tr><td>VIKTORK</td><td>Posta</td><td>6</td></tr>",
                            "<tr><td>VIKTORK</td><td>Személyes átvétel</td><td>6</td></tr>",
                            "<tr><td>VIKTORK</td><td>NULL</td><td>20</td></tr>",
                            "<tr><td>vivien3</td><td>GLS</td><td>9</td></tr>",
                            "<tr><td>vivien3</td><td>Posta</td><td>6</td></tr>",
                            "<tr><td>vivien3</td><td>Személyes átvétel</td><td>7</td></tr>",
                            "<tr><td>vivien3</td><td>NULL</td><td>22</td></tr>",
                            "<tr><td>zoltan</td><td>GLS</td><td>5</td></tr>",
                            "<tr><td>zoltan</td><td>Posta</td><td>3</td></tr>",
                            "<tr><td>zoltan</td><td>Személyes átvétel</td><td>7</td></tr>",
                            "<tr><td>zoltan</td><td>NULL</td><td>15</td></tr>",
                            "<tr><td>zoltan4</td><td>GLS</td><td>129</td></tr>",
                            "<tr><td>zoltan4</td><td>Posta</td><td>124</td></tr>",
                            "<tr><td>zoltan4</td><td>Személyes átvétel</td><td>171</td></tr>",
                            "<tr><td>zoltan4</td><td>NULL</td><td>424</td></tr>",
                            "<tr><td>ZOLTANP</td><td>GLS</td><td>6</td></tr>",
                            "<tr><td>ZOLTANP</td><td>Posta</td><td>3</td></tr>",
                            "<tr><td>ZOLTANP</td><td>Személyes átvétel</td><td>4</td></tr>",
                            "<tr><td>ZOLTANP</td><td>NULL</td><td>13</td></tr>",
                            "<tr><td>ZOLTANT</td><td>GLS</td><td>127</td></tr>",
                            "<tr><td>ZOLTANT</td><td>Posta</td><td>107</td></tr>",
                            "<tr><td>ZOLTANT</td><td>Személyes átvétel</td><td>123</td></tr>",
                            "<tr><td>ZOLTANT</td><td>NULL</td><td>357</td></tr>",
                            "<tr><td>zsofi1</td><td>GLS</td><td>7</td></tr>",
                            "<tr><td>zsofi1</td><td>Posta</td><td>6</td></tr>",
                            "<tr><td>zsofi1</td><td>Személyes átvétel</td><td>6</td></tr>",
                            "<tr><td>zsofi1</td><td>NULL</td><td>19</td></tr>",
                            "<tr><td>zsolt1</td><td>GLS</td><td>11</td></tr>",
                            "<tr><td>zsolt1</td><td>Posta</td><td>6</td></tr>",
                            "<tr><td>zsolt1</td><td>Személyes átvétel</td><td>3</td></tr>",
                            "<tr><td>zsolt1</td><td>NULL</td><td>20</td></tr>",
                            "<tr><td>ZSOLTJ</td><td>GLS</td><td>1</td></tr>",
                            "<tr><td>ZSOLTJ</td><td>Posta</td><td>8</td></tr>",
                            "<tr><td>ZSOLTJ</td><td>Személyes átvétel</td><td>9</td></tr>",
                            "<tr><td>ZSOLTJ</td><td>NULL</td><td>18</td></tr>",
                            "<tr><td>zsuzsa</td><td>GLS</td><td>8</td></tr>",
                            "<tr><td>zsuzsa</td><td>Posta</td><td>5</td></tr>",
                            "<tr><td>zsuzsa</td><td>Személyes átvétel</td><td>3</td></tr>",
                            "<tr><td>zsuzsa</td><td>NULL</td><td>16</td></tr>",
                            "<tr><td>zsuzsa3</td><td>GLS</td><td>5</td></tr>",
                            "<tr><td>zsuzsa3</td><td>Posta</td><td>5</td></tr>",
                            "<tr><td>zsuzsa3</td><td>Személyes átvétel</td><td>6</td></tr>",
                            "<tr><td>zsuzsa3</td><td>NULL</td><td>16</td></tr>",
                            "<tr><td>zsuzsanna</td><td>GLS</td><td>7</td></tr>",
                            "<tr><td>zsuzsanna</td><td>Posta</td><td>5</td></tr>",
                            "<tr><td>zsuzsanna</td><td>Személyes átvétel</td><td>3</td></tr>",
                            "<tr><td>zsuzsanna</td><td>NULL</td><td>15</td></tr>",
                            "<tr><td>ZSUZSAV</td><td>GLS</td><td>139</td></tr>",
                            "<tr><td>ZSUZSAV</td><td>Posta</td><td>139</td></tr>",
                            "<tr><td>ZSUZSAV</td><td>Személyes átvétel</td><td>142</td></tr>",
                            "<tr><td>ZSUZSAV</td><td>NULL</td><td>420</td></tr>",
                            "<tr><td>NULL</td><td>NULL</td><td>28085</td></tr>",
                            "</table>"
                        ]
                    }
                }
            ],
            "execution_count": 4
        },
        {
            "cell_type": "markdown",
            "source": [
                "2. <span style=\"background-color: rgb(255, 255, 255); color: rgb(0, 0, 0); font-family: &quot;Open Sans&quot;, sans-serif; font-size: 14.44px;\">Készítsünk listát a termékek számáról a következő csoportosítási szempontok szerint:<br>kategória azonosító, raktárkód, raktárkód+mennyiségi egység!</span>\n",
                "\n",
                "a. A listát szűrjük azokra a csoportokra, ahol a termékek száma legalább 6!"
            ],
            "metadata": {
                "azdata_cell_guid": "ea75c103-911f-41a3-a32c-3d40fb3e4e4a"
            },
            "attachments": {}
        },
        {
            "cell_type": "code",
            "source": [
                "SELECT KAT_ID,\r\n",
                "        RAKTAR_KOD, \r\n",
                "        MEGYS, \r\n",
                "        COUNT(*)\r\n",
                "FROM Termek\r\n",
                "GROUP BY GROUPING SETS(KAT_ID, (RAKTAR_KOD, MEGYS))  \r\n",
                "HAVING COUNT(*) >= 6"
            ],
            "metadata": {
                "azdata_cell_guid": "222b9618-a8e8-42b4-a8e8-d002257122b7",
                "language": "sql",
                "tags": []
            },
            "outputs": [
                {
                    "output_type": "display_data",
                    "data": {
                        "text/html": "(42 rows affected)"
                    },
                    "metadata": {}
                },
                {
                    "output_type": "display_data",
                    "data": {
                        "text/html": "Total execution time: 00:00:00.018"
                    },
                    "metadata": {}
                },
                {
                    "output_type": "execute_result",
                    "metadata": {},
                    "execution_count": 6,
                    "data": {
                        "application/vnd.dataresource+json": {
                            "schema": {
                                "fields": [
                                    {
                                        "name": "KAT_ID"
                                    },
                                    {
                                        "name": "RAKTAR_KOD"
                                    },
                                    {
                                        "name": "MEGYS"
                                    },
                                    {
                                        "name": "(No column name)"
                                    }
                                ]
                            },
                            "data": [
                                {
                                    "KAT_ID": "NULL",
                                    "RAKTAR_KOD": "5",
                                    "MEGYS": "csomag",
                                    "(No column name)": "7"
                                },
                                {
                                    "KAT_ID": "NULL",
                                    "RAKTAR_KOD": "6",
                                    "MEGYS": "csomag",
                                    "(No column name)": "9"
                                },
                                {
                                    "KAT_ID": "NULL",
                                    "RAKTAR_KOD": "7",
                                    "MEGYS": "csomag",
                                    "(No column name)": "9"
                                },
                                {
                                    "KAT_ID": "NULL",
                                    "RAKTAR_KOD": "8",
                                    "MEGYS": "csomag",
                                    "(No column name)": "8"
                                },
                                {
                                    "KAT_ID": "NULL",
                                    "RAKTAR_KOD": "9",
                                    "MEGYS": "csomag",
                                    "(No column name)": "11"
                                },
                                {
                                    "KAT_ID": "NULL",
                                    "RAKTAR_KOD": "1",
                                    "MEGYS": "db",
                                    "(No column name)": "11"
                                },
                                {
                                    "KAT_ID": "NULL",
                                    "RAKTAR_KOD": "3",
                                    "MEGYS": "db",
                                    "(No column name)": "14"
                                },
                                {
                                    "KAT_ID": "NULL",
                                    "RAKTAR_KOD": "5",
                                    "MEGYS": "db",
                                    "(No column name)": "72"
                                },
                                {
                                    "KAT_ID": "NULL",
                                    "RAKTAR_KOD": "6",
                                    "MEGYS": "db",
                                    "(No column name)": "94"
                                },
                                {
                                    "KAT_ID": "NULL",
                                    "RAKTAR_KOD": "7",
                                    "MEGYS": "db",
                                    "(No column name)": "88"
                                },
                                {
                                    "KAT_ID": "NULL",
                                    "RAKTAR_KOD": "8",
                                    "MEGYS": "db",
                                    "(No column name)": "109"
                                },
                                {
                                    "KAT_ID": "NULL",
                                    "RAKTAR_KOD": "9",
                                    "MEGYS": "db",
                                    "(No column name)": "86"
                                },
                                {
                                    "KAT_ID": "NULL",
                                    "RAKTAR_KOD": "8",
                                    "MEGYS": "Ív",
                                    "(No column name)": "6"
                                },
                                {
                                    "KAT_ID": "4",
                                    "RAKTAR_KOD": "NULL",
                                    "MEGYS": "NULL",
                                    "(No column name)": "15"
                                },
                                {
                                    "KAT_ID": "6",
                                    "RAKTAR_KOD": "NULL",
                                    "MEGYS": "NULL",
                                    "(No column name)": "20"
                                },
                                {
                                    "KAT_ID": "16",
                                    "RAKTAR_KOD": "NULL",
                                    "MEGYS": "NULL",
                                    "(No column name)": "7"
                                },
                                {
                                    "KAT_ID": "19",
                                    "RAKTAR_KOD": "NULL",
                                    "MEGYS": "NULL",
                                    "(No column name)": "19"
                                },
                                {
                                    "KAT_ID": "24",
                                    "RAKTAR_KOD": "NULL",
                                    "MEGYS": "NULL",
                                    "(No column name)": "7"
                                },
                                {
                                    "KAT_ID": "30",
                                    "RAKTAR_KOD": "NULL",
                                    "MEGYS": "NULL",
                                    "(No column name)": "7"
                                },
                                {
                                    "KAT_ID": "35",
                                    "RAKTAR_KOD": "NULL",
                                    "MEGYS": "NULL",
                                    "(No column name)": "7"
                                },
                                {
                                    "KAT_ID": "41",
                                    "RAKTAR_KOD": "NULL",
                                    "MEGYS": "NULL",
                                    "(No column name)": "13"
                                },
                                {
                                    "KAT_ID": "45",
                                    "RAKTAR_KOD": "NULL",
                                    "MEGYS": "NULL",
                                    "(No column name)": "11"
                                },
                                {
                                    "KAT_ID": "46",
                                    "RAKTAR_KOD": "NULL",
                                    "MEGYS": "NULL",
                                    "(No column name)": "7"
                                },
                                {
                                    "KAT_ID": "52",
                                    "RAKTAR_KOD": "NULL",
                                    "MEGYS": "NULL",
                                    "(No column name)": "26"
                                },
                                {
                                    "KAT_ID": "54",
                                    "RAKTAR_KOD": "NULL",
                                    "MEGYS": "NULL",
                                    "(No column name)": "6"
                                },
                                {
                                    "KAT_ID": "66",
                                    "RAKTAR_KOD": "NULL",
                                    "MEGYS": "NULL",
                                    "(No column name)": "7"
                                },
                                {
                                    "KAT_ID": "78",
                                    "RAKTAR_KOD": "NULL",
                                    "MEGYS": "NULL",
                                    "(No column name)": "24"
                                },
                                {
                                    "KAT_ID": "83",
                                    "RAKTAR_KOD": "NULL",
                                    "MEGYS": "NULL",
                                    "(No column name)": "6"
                                },
                                {
                                    "KAT_ID": "85",
                                    "RAKTAR_KOD": "NULL",
                                    "MEGYS": "NULL",
                                    "(No column name)": "16"
                                },
                                {
                                    "KAT_ID": "91",
                                    "RAKTAR_KOD": "NULL",
                                    "MEGYS": "NULL",
                                    "(No column name)": "7"
                                },
                                {
                                    "KAT_ID": "93",
                                    "RAKTAR_KOD": "NULL",
                                    "MEGYS": "NULL",
                                    "(No column name)": "7"
                                },
                                {
                                    "KAT_ID": "96",
                                    "RAKTAR_KOD": "NULL",
                                    "MEGYS": "NULL",
                                    "(No column name)": "9"
                                },
                                {
                                    "KAT_ID": "97",
                                    "RAKTAR_KOD": "NULL",
                                    "MEGYS": "NULL",
                                    "(No column name)": "10"
                                },
                                {
                                    "KAT_ID": "100",
                                    "RAKTAR_KOD": "NULL",
                                    "MEGYS": "NULL",
                                    "(No column name)": "9"
                                },
                                {
                                    "KAT_ID": "118",
                                    "RAKTAR_KOD": "NULL",
                                    "MEGYS": "NULL",
                                    "(No column name)": "9"
                                },
                                {
                                    "KAT_ID": "122",
                                    "RAKTAR_KOD": "NULL",
                                    "MEGYS": "NULL",
                                    "(No column name)": "7"
                                },
                                {
                                    "KAT_ID": "124",
                                    "RAKTAR_KOD": "NULL",
                                    "MEGYS": "NULL",
                                    "(No column name)": "10"
                                },
                                {
                                    "KAT_ID": "133",
                                    "RAKTAR_KOD": "NULL",
                                    "MEGYS": "NULL",
                                    "(No column name)": "6"
                                },
                                {
                                    "KAT_ID": "145",
                                    "RAKTAR_KOD": "NULL",
                                    "MEGYS": "NULL",
                                    "(No column name)": "18"
                                },
                                {
                                    "KAT_ID": "146",
                                    "RAKTAR_KOD": "NULL",
                                    "MEGYS": "NULL",
                                    "(No column name)": "7"
                                },
                                {
                                    "KAT_ID": "149",
                                    "RAKTAR_KOD": "NULL",
                                    "MEGYS": "NULL",
                                    "(No column name)": "6"
                                },
                                {
                                    "KAT_ID": "152",
                                    "RAKTAR_KOD": "NULL",
                                    "MEGYS": "NULL",
                                    "(No column name)": "6"
                                }
                            ]
                        },
                        "text/html": [
                            "<table>",
                            "<tr><th>KAT_ID</th><th>RAKTAR_KOD</th><th>MEGYS</th><th>(No column name)</th></tr>",
                            "<tr><td>NULL</td><td>5</td><td>csomag</td><td>7</td></tr>",
                            "<tr><td>NULL</td><td>6</td><td>csomag</td><td>9</td></tr>",
                            "<tr><td>NULL</td><td>7</td><td>csomag</td><td>9</td></tr>",
                            "<tr><td>NULL</td><td>8</td><td>csomag</td><td>8</td></tr>",
                            "<tr><td>NULL</td><td>9</td><td>csomag</td><td>11</td></tr>",
                            "<tr><td>NULL</td><td>1</td><td>db</td><td>11</td></tr>",
                            "<tr><td>NULL</td><td>3</td><td>db</td><td>14</td></tr>",
                            "<tr><td>NULL</td><td>5</td><td>db</td><td>72</td></tr>",
                            "<tr><td>NULL</td><td>6</td><td>db</td><td>94</td></tr>",
                            "<tr><td>NULL</td><td>7</td><td>db</td><td>88</td></tr>",
                            "<tr><td>NULL</td><td>8</td><td>db</td><td>109</td></tr>",
                            "<tr><td>NULL</td><td>9</td><td>db</td><td>86</td></tr>",
                            "<tr><td>NULL</td><td>8</td><td>Ív</td><td>6</td></tr>",
                            "<tr><td>4</td><td>NULL</td><td>NULL</td><td>15</td></tr>",
                            "<tr><td>6</td><td>NULL</td><td>NULL</td><td>20</td></tr>",
                            "<tr><td>16</td><td>NULL</td><td>NULL</td><td>7</td></tr>",
                            "<tr><td>19</td><td>NULL</td><td>NULL</td><td>19</td></tr>",
                            "<tr><td>24</td><td>NULL</td><td>NULL</td><td>7</td></tr>",
                            "<tr><td>30</td><td>NULL</td><td>NULL</td><td>7</td></tr>",
                            "<tr><td>35</td><td>NULL</td><td>NULL</td><td>7</td></tr>",
                            "<tr><td>41</td><td>NULL</td><td>NULL</td><td>13</td></tr>",
                            "<tr><td>45</td><td>NULL</td><td>NULL</td><td>11</td></tr>",
                            "<tr><td>46</td><td>NULL</td><td>NULL</td><td>7</td></tr>",
                            "<tr><td>52</td><td>NULL</td><td>NULL</td><td>26</td></tr>",
                            "<tr><td>54</td><td>NULL</td><td>NULL</td><td>6</td></tr>",
                            "<tr><td>66</td><td>NULL</td><td>NULL</td><td>7</td></tr>",
                            "<tr><td>78</td><td>NULL</td><td>NULL</td><td>24</td></tr>",
                            "<tr><td>83</td><td>NULL</td><td>NULL</td><td>6</td></tr>",
                            "<tr><td>85</td><td>NULL</td><td>NULL</td><td>16</td></tr>",
                            "<tr><td>91</td><td>NULL</td><td>NULL</td><td>7</td></tr>",
                            "<tr><td>93</td><td>NULL</td><td>NULL</td><td>7</td></tr>",
                            "<tr><td>96</td><td>NULL</td><td>NULL</td><td>9</td></tr>",
                            "<tr><td>97</td><td>NULL</td><td>NULL</td><td>10</td></tr>",
                            "<tr><td>100</td><td>NULL</td><td>NULL</td><td>9</td></tr>",
                            "<tr><td>118</td><td>NULL</td><td>NULL</td><td>9</td></tr>",
                            "<tr><td>122</td><td>NULL</td><td>NULL</td><td>7</td></tr>",
                            "<tr><td>124</td><td>NULL</td><td>NULL</td><td>10</td></tr>",
                            "<tr><td>133</td><td>NULL</td><td>NULL</td><td>6</td></tr>",
                            "<tr><td>145</td><td>NULL</td><td>NULL</td><td>18</td></tr>",
                            "<tr><td>146</td><td>NULL</td><td>NULL</td><td>7</td></tr>",
                            "<tr><td>149</td><td>NULL</td><td>NULL</td><td>6</td></tr>",
                            "<tr><td>152</td><td>NULL</td><td>NULL</td><td>6</td></tr>",
                            "</table>"
                        ]
                    }
                }
            ],
            "execution_count": 6
        },
        {
            "cell_type": "markdown",
            "source": [
                "```\n",
                "3. Készítsünk listát az egyes termékkategóriákban lévő termékek számáról! \n",
                "\n",
                "```\n",
                "\n",
                "a. Elég megjeleníteni a kategóriák azonosítóit és a darabszámokat!   \n",
                "<span style=\"color: var(--vscode-foreground);\">b. A lista megfelelően jelölve tartalmazza a végösszeget is!&nbsp;<br></span> <span style=\"color: var(--vscode-foreground);\">c. Az oszlopokat nevezzük el értelemszerűen!&nbsp;<br></span> <span style=\"color: var(--vscode-foreground);\">d. A listát rendezzük a darabszám szerint növekvő sorrendbe!</span>\n",
                "\n",
                "  \n",
                "\n",
                "![](https://moodle.uni-corvinus.hu/theme/image.php/adaptable/atto_h5p/1709548862/icon)"
            ],
            "metadata": {
                "azdata_cell_guid": "d7876bb9-76d0-4d07-baed-3cb17b2f96c3"
            },
            "attachments": {}
        },
        {
            "cell_type": "code",
            "source": [
                ""
            ],
            "metadata": {
                "azdata_cell_guid": "56ec19ce-e249-4551-b2a8-f17569765acc",
                "language": "sql"
            },
            "outputs": [],
            "execution_count": null
        },
        {
            "cell_type": "markdown",
            "source": [
                "4. <span style=\"background-color: rgb(255, 255, 255); color: rgb(0, 0, 0); font-family: &quot;Open Sans&quot;, sans-serif; font-size: 14.44px;\">Készítsünk listát az ügyfelek számáról születési év szerint, azon belül nem szerinti bontásban!&nbsp;</span> \n",
                "\n",
                "a. A lista megfelelően jelölve tartalmazza a részösszegeket és a végösszeget is!  \n",
                "b. Az oszlopoknak adjunk nevet értelemszerűen!"
            ],
            "metadata": {
                "azdata_cell_guid": "8e7fef82-8022-49a0-8255-fc2846c2134b"
            },
            "attachments": {}
        },
        {
            "cell_type": "code",
            "source": [
                ""
            ],
            "metadata": {
                "azdata_cell_guid": "36f7b396-4a1f-45e5-8720-2302537c91bc",
                "language": "sql"
            },
            "outputs": [],
            "execution_count": null
        },
        {
            "cell_type": "markdown",
            "source": [
                "5. <span style=\"background-color: rgb(255, 255, 255); color: rgb(0, 0, 0); font-family: &quot;Open Sans&quot;, sans-serif; font-size: 14.44px;\">Készítsünk listát a termékek számáról a felvitel hónapja, azon belül napja szerint csoportosítva.&nbsp;</span> \n",
                "\n",
                "a. A lista csak a részösszegeket és a végösszeget tartalmazza!  \n",
                "b. Az oszlopoknak adjunk megfelelő nevet!  \n",
                "c. Ötlet: HAVING + GROUPING\\_ID fv együttes használata"
            ],
            "metadata": {
                "azdata_cell_guid": "84239ca2-6b5e-49f5-9860-d44c11d6de32"
            },
            "attachments": {}
        },
        {
            "cell_type": "code",
            "source": [
                ""
            ],
            "metadata": {
                "azdata_cell_guid": "06d9a62b-9430-424b-a135-d80e675f0eb3",
                "language": "sql"
            },
            "outputs": [],
            "execution_count": null
        }
    ]
}