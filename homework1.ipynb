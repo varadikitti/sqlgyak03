{
    "metadata": {
        "kernelspec": {
            "name": "SQL",
            "display_name": "SQL",
            "language": "sql"
        },
        "language_info": {
            "name": "sql",
            "version": ""
        }
    },
    "nbformat_minor": 2,
    "nbformat": 4,
    "cells": [
        {
            "cell_type": "markdown",
            "source": [
                "# Táblák adatainak áttekintése:"
            ],
            "metadata": {
                "azdata_cell_guid": "2a48c374-1435-4e80-af9d-17c0971eb2b4"
            },
            "attachments": {}
        },
        {
            "cell_type": "code",
            "source": [
                "SELECT *\r\n",
                "FROM Beosztasok"
            ],
            "metadata": {
                "azdata_cell_guid": "34bebfa5-a4ec-4ba2-b3ce-5216681110b0",
                "language": "sql",
                "tags": []
            },
            "outputs": [
                {
                    "output_type": "display_data",
                    "data": {
                        "text/html": "(7 rows affected)"
                    },
                    "metadata": {}
                },
                {
                    "output_type": "display_data",
                    "data": {
                        "text/html": "Total execution time: 00:00:00.020"
                    },
                    "metadata": {}
                },
                {
                    "output_type": "execute_result",
                    "metadata": {},
                    "execution_count": 6,
                    "data": {
                        "application/vnd.dataresource+json": {
                            "schema": {
                                "fields": [
                                    {
                                        "name": "beosztas_id"
                                    },
                                    {
                                        "name": "beosztasnev"
                                    },
                                    {
                                        "name": "elvart"
                                    }
                                ]
                            },
                            "data": [
                                {
                                    "beosztas_id": "1",
                                    "beosztasnev": "Óraadó",
                                    "elvart": "6"
                                },
                                {
                                    "beosztas_id": "2",
                                    "beosztasnev": "Tanársegéd",
                                    "elvart": "6"
                                },
                                {
                                    "beosztas_id": "3",
                                    "beosztasnev": "Adjunktus",
                                    "elvart": "5"
                                },
                                {
                                    "beosztas_id": "4",
                                    "beosztasnev": "Docens",
                                    "elvart": "4"
                                },
                                {
                                    "beosztas_id": "5",
                                    "beosztasnev": "Professzor",
                                    "elvart": "3"
                                },
                                {
                                    "beosztas_id": "6",
                                    "beosztasnev": "Egyetemi tanár",
                                    "elvart": "2"
                                },
                                {
                                    "beosztas_id": "7",
                                    "beosztasnev": "Tudományos munkatárs",
                                    "elvart": "4"
                                }
                            ]
                        },
                        "text/html": [
                            "<table>",
                            "<tr><th>beosztas_id</th><th>beosztasnev</th><th>elvart</th></tr>",
                            "<tr><td>1</td><td>Óraadó</td><td>6</td></tr>",
                            "<tr><td>2</td><td>Tanársegéd</td><td>6</td></tr>",
                            "<tr><td>3</td><td>Adjunktus</td><td>5</td></tr>",
                            "<tr><td>4</td><td>Docens</td><td>4</td></tr>",
                            "<tr><td>5</td><td>Professzor</td><td>3</td></tr>",
                            "<tr><td>6</td><td>Egyetemi tanár</td><td>2</td></tr>",
                            "<tr><td>7</td><td>Tudományos munkatárs</td><td>4</td></tr>",
                            "</table>"
                        ]
                    }
                }
            ],
            "execution_count": 6
        },
        {
            "cell_type": "code",
            "source": [
                "SELECT *\r\n",
                "FROM Napok"
            ],
            "metadata": {
                "azdata_cell_guid": "267500b2-9eab-4b62-8a02-cb0de5c9a201",
                "language": "sql"
            },
            "outputs": [
                {
                    "output_type": "display_data",
                    "data": {
                        "text/html": "(5 rows affected)"
                    },
                    "metadata": {}
                },
                {
                    "output_type": "display_data",
                    "data": {
                        "text/html": "Total execution time: 00:00:00.029"
                    },
                    "metadata": {}
                },
                {
                    "output_type": "execute_result",
                    "metadata": {},
                    "execution_count": 7,
                    "data": {
                        "application/vnd.dataresource+json": {
                            "schema": {
                                "fields": [
                                    {
                                        "name": "nap_id"
                                    },
                                    {
                                        "name": "nap"
                                    }
                                ]
                            },
                            "data": [
                                {
                                    "nap_id": "1",
                                    "nap": "Hétfő"
                                },
                                {
                                    "nap_id": "2",
                                    "nap": "Kedd"
                                },
                                {
                                    "nap_id": "3",
                                    "nap": "Szerda"
                                },
                                {
                                    "nap_id": "4",
                                    "nap": "Csütörtök"
                                },
                                {
                                    "nap_id": "5",
                                    "nap": "Péntek"
                                }
                            ]
                        },
                        "text/html": [
                            "<table>",
                            "<tr><th>nap_id</th><th>nap</th></tr>",
                            "<tr><td>1</td><td>Hétfő</td></tr>",
                            "<tr><td>2</td><td>Kedd</td></tr>",
                            "<tr><td>3</td><td>Szerda</td></tr>",
                            "<tr><td>4</td><td>Csütörtök</td></tr>",
                            "<tr><td>5</td><td>Péntek</td></tr>",
                            "</table>"
                        ]
                    }
                }
            ],
            "execution_count": 7
        },
        {
            "cell_type": "code",
            "source": [
                "SELECT *\r\n",
                "FROM Oktatok"
            ],
            "metadata": {
                "azdata_cell_guid": "1d101f3b-68a0-4394-9bdd-4e320ed89fe1",
                "language": "sql"
            },
            "outputs": [
                {
                    "output_type": "display_data",
                    "data": {
                        "text/html": "(25 rows affected)"
                    },
                    "metadata": {}
                },
                {
                    "output_type": "display_data",
                    "data": {
                        "text/html": "Total execution time: 00:00:00.028"
                    },
                    "metadata": {}
                },
                {
                    "output_type": "execute_result",
                    "metadata": {},
                    "execution_count": 8,
                    "data": {
                        "application/vnd.dataresource+json": {
                            "schema": {
                                "fields": [
                                    {
                                        "name": "oktato_id"
                                    },
                                    {
                                        "name": "nev"
                                    },
                                    {
                                        "name": "titulus"
                                    },
                                    {
                                        "name": "beosztás"
                                    },
                                    {
                                        "name": "status"
                                    }
                                ]
                            },
                            "data": [
                                {
                                    "oktato_id": "1",
                                    "nev": "Kovács László",
                                    "titulus": "Dr.",
                                    "beosztás": "6",
                                    "status": "2"
                                },
                                {
                                    "oktato_id": "2",
                                    "nev": "Szentágotai Istvás",
                                    "titulus": "Dr.",
                                    "beosztás": "3",
                                    "status": "2"
                                },
                                {
                                    "oktato_id": "3",
                                    "nev": "Szerb László",
                                    "titulus": "NULL",
                                    "beosztás": "4",
                                    "status": "1"
                                },
                                {
                                    "oktato_id": "4",
                                    "nev": "Ujfalussi István",
                                    "titulus": "Prof, tanszékvezető",
                                    "beosztás": "6",
                                    "status": "2"
                                },
                                {
                                    "oktato_id": "5",
                                    "nev": "Balkán András",
                                    "titulus": "Dr.",
                                    "beosztás": "4",
                                    "status": "2"
                                },
                                {
                                    "oktato_id": "6",
                                    "nev": "Szép llonka",
                                    "titulus": "Dr.",
                                    "beosztás": "3",
                                    "status": "1"
                                },
                                {
                                    "oktato_id": "7",
                                    "nev": "Kiss János",
                                    "titulus": "NULL",
                                    "beosztás": "2",
                                    "status": "1"
                                },
                                {
                                    "oktato_id": "8",
                                    "nev": "Pelikán József",
                                    "titulus": "NULL",
                                    "beosztás": "2",
                                    "status": "3"
                                },
                                {
                                    "oktato_id": "9",
                                    "nev": "Farkasos Piroska",
                                    "titulus": "NULL",
                                    "beosztás": "2",
                                    "status": "3"
                                },
                                {
                                    "oktato_id": "10",
                                    "nev": "Jogrerős Pál",
                                    "titulus": "Prof.",
                                    "beosztás": "6",
                                    "status": "1"
                                },
                                {
                                    "oktato_id": "11",
                                    "nev": "Józsa Gábor",
                                    "titulus": "Dr.",
                                    "beosztás": "4",
                                    "status": "1"
                                },
                                {
                                    "oktato_id": "12",
                                    "nev": "Varga Kata",
                                    "titulus": "Dr.",
                                    "beosztás": "4",
                                    "status": "1"
                                },
                                {
                                    "oktato_id": "14",
                                    "nev": "Szénási ászló",
                                    "titulus": "NULL",
                                    "beosztás": "3",
                                    "status": "1"
                                },
                                {
                                    "oktato_id": "18",
                                    "nev": "Nógrádi Kata",
                                    "titulus": "NULL",
                                    "beosztás": "1",
                                    "status": "1"
                                },
                                {
                                    "oktato_id": "19",
                                    "nev": "Rácz András",
                                    "titulus": "NULL",
                                    "beosztás": "1",
                                    "status": "1"
                                },
                                {
                                    "oktato_id": "20",
                                    "nev": "Kovács András",
                                    "titulus": "NULL",
                                    "beosztás": "1",
                                    "status": "1"
                                },
                                {
                                    "oktato_id": "104",
                                    "nev": "Ludas Mátyás",
                                    "titulus": "NULL",
                                    "beosztás": "1",
                                    "status": "1"
                                },
                                {
                                    "oktato_id": "105",
                                    "nev": "Kiss István",
                                    "titulus": "NULL",
                                    "beosztás": "1",
                                    "status": "2"
                                },
                                {
                                    "oktato_id": "107",
                                    "nev": "Mészáros Kriszta",
                                    "titulus": "NULL",
                                    "beosztás": "1",
                                    "status": "2"
                                },
                                {
                                    "oktato_id": "108",
                                    "nev": "Róbert Gida",
                                    "titulus": "NULL",
                                    "beosztás": "2",
                                    "status": "1"
                                },
                                {
                                    "oktato_id": "111",
                                    "nev": "Vitéz János",
                                    "titulus": "NULL",
                                    "beosztás": "2",
                                    "status": "1"
                                },
                                {
                                    "oktato_id": "200",
                                    "nev": "Aranyi Mária",
                                    "titulus": "NULL",
                                    "beosztás": "1",
                                    "status": "1"
                                },
                                {
                                    "oktato_id": "300",
                                    "nev": "Szabó Andrera",
                                    "titulus": "NULL",
                                    "beosztás": "1",
                                    "status": "1"
                                },
                                {
                                    "oktato_id": "301",
                                    "nev": "Juhász András",
                                    "titulus": "Dr.",
                                    "beosztás": "6",
                                    "status": "1"
                                },
                                {
                                    "oktato_id": "302",
                                    "nev": "Kovacs Istvan",
                                    "titulus": "Dr.",
                                    "beosztás": "5",
                                    "status": "1"
                                }
                            ]
                        },
                        "text/html": [
                            "<table>",
                            "<tr><th>oktato_id</th><th>nev</th><th>titulus</th><th>beosztás</th><th>status</th></tr>",
                            "<tr><td>1</td><td>Kovács László</td><td>Dr.</td><td>6</td><td>2</td></tr>",
                            "<tr><td>2</td><td>Szentágotai Istvás</td><td>Dr.</td><td>3</td><td>2</td></tr>",
                            "<tr><td>3</td><td>Szerb László</td><td>NULL</td><td>4</td><td>1</td></tr>",
                            "<tr><td>4</td><td>Ujfalussi István</td><td>Prof, tanszékvezető</td><td>6</td><td>2</td></tr>",
                            "<tr><td>5</td><td>Balkán András</td><td>Dr.</td><td>4</td><td>2</td></tr>",
                            "<tr><td>6</td><td>Szép llonka</td><td>Dr.</td><td>3</td><td>1</td></tr>",
                            "<tr><td>7</td><td>Kiss János</td><td>NULL</td><td>2</td><td>1</td></tr>",
                            "<tr><td>8</td><td>Pelikán József</td><td>NULL</td><td>2</td><td>3</td></tr>",
                            "<tr><td>9</td><td>Farkasos Piroska</td><td>NULL</td><td>2</td><td>3</td></tr>",
                            "<tr><td>10</td><td>Jogrerős Pál</td><td>Prof.</td><td>6</td><td>1</td></tr>",
                            "<tr><td>11</td><td>Józsa Gábor</td><td>Dr.</td><td>4</td><td>1</td></tr>",
                            "<tr><td>12</td><td>Varga Kata</td><td>Dr.</td><td>4</td><td>1</td></tr>",
                            "<tr><td>14</td><td>Szénási ászló</td><td>NULL</td><td>3</td><td>1</td></tr>",
                            "<tr><td>18</td><td>Nógrádi Kata</td><td>NULL</td><td>1</td><td>1</td></tr>",
                            "<tr><td>19</td><td>Rácz András</td><td>NULL</td><td>1</td><td>1</td></tr>",
                            "<tr><td>20</td><td>Kovács András</td><td>NULL</td><td>1</td><td>1</td></tr>",
                            "<tr><td>104</td><td>Ludas Mátyás</td><td>NULL</td><td>1</td><td>1</td></tr>",
                            "<tr><td>105</td><td>Kiss István</td><td>NULL</td><td>1</td><td>2</td></tr>",
                            "<tr><td>107</td><td>Mészáros Kriszta</td><td>NULL</td><td>1</td><td>2</td></tr>",
                            "<tr><td>108</td><td>Róbert Gida</td><td>NULL</td><td>2</td><td>1</td></tr>",
                            "<tr><td>111</td><td>Vitéz János</td><td>NULL</td><td>2</td><td>1</td></tr>",
                            "<tr><td>200</td><td>Aranyi Mária</td><td>NULL</td><td>1</td><td>1</td></tr>",
                            "<tr><td>300</td><td>Szabó Andrera</td><td>NULL</td><td>1</td><td>1</td></tr>",
                            "<tr><td>301</td><td>Juhász András</td><td>Dr.</td><td>6</td><td>1</td></tr>",
                            "<tr><td>302</td><td>Kovacs Istvan</td><td>Dr.</td><td>5</td><td>1</td></tr>",
                            "</table>"
                        ]
                    }
                }
            ],
            "execution_count": 8
        },
        {
            "cell_type": "code",
            "source": [
                "SELECT *\r\n",
                "FROM Orak"
            ],
            "metadata": {
                "azdata_cell_guid": "1d7c68e4-b548-4a31-ae29-795a090aab1e",
                "language": "sql"
            },
            "outputs": [
                {
                    "output_type": "display_data",
                    "data": {
                        "text/html": "(67 rows affected)"
                    },
                    "metadata": {}
                },
                {
                    "output_type": "display_data",
                    "data": {
                        "text/html": "Total execution time: 00:00:00.027"
                    },
                    "metadata": {}
                },
                {
                    "output_type": "execute_result",
                    "metadata": {},
                    "execution_count": 9,
                    "data": {
                        "application/vnd.dataresource+json": {
                            "schema": {
                                "fields": [
                                    {
                                        "name": "ora_id"
                                    },
                                    {
                                        "name": "tanar"
                                    },
                                    {
                                        "name": "nap"
                                    },
                                    {
                                        "name": "Sav"
                                    },
                                    {
                                        "name": "targy"
                                    },
                                    {
                                        "name": "terem"
                                    }
                                ]
                            },
                            "data": [
                                {
                                    "ora_id": "159",
                                    "tanar": "4",
                                    "nap": "3",
                                    "Sav": "1",
                                    "targy": "1",
                                    "terem": "1"
                                },
                                {
                                    "ora_id": "160",
                                    "tanar": "8",
                                    "nap": "2",
                                    "Sav": "5",
                                    "targy": "1",
                                    "terem": "2"
                                },
                                {
                                    "ora_id": "161",
                                    "tanar": "8",
                                    "nap": "1",
                                    "Sav": "2",
                                    "targy": "1",
                                    "terem": "2"
                                },
                                {
                                    "ora_id": "162",
                                    "tanar": "20",
                                    "nap": "1",
                                    "Sav": "4",
                                    "targy": "1",
                                    "terem": "3"
                                },
                                {
                                    "ora_id": "163",
                                    "tanar": "3",
                                    "nap": "3",
                                    "Sav": "2",
                                    "targy": "1",
                                    "terem": "4"
                                },
                                {
                                    "ora_id": "164",
                                    "tanar": "7",
                                    "nap": "2",
                                    "Sav": "3",
                                    "targy": "1",
                                    "terem": "3"
                                },
                                {
                                    "ora_id": "165",
                                    "tanar": "3",
                                    "nap": "2",
                                    "Sav": "3",
                                    "targy": "1",
                                    "terem": "3"
                                },
                                {
                                    "ora_id": "166",
                                    "tanar": "3",
                                    "nap": "2",
                                    "Sav": "4",
                                    "targy": "1",
                                    "terem": "3"
                                },
                                {
                                    "ora_id": "167",
                                    "tanar": "2",
                                    "nap": "1",
                                    "Sav": "4",
                                    "targy": "1",
                                    "terem": "4"
                                },
                                {
                                    "ora_id": "168",
                                    "tanar": "4",
                                    "nap": "4",
                                    "Sav": "3",
                                    "targy": "1",
                                    "terem": "5"
                                },
                                {
                                    "ora_id": "169",
                                    "tanar": "20",
                                    "nap": "1",
                                    "Sav": "2",
                                    "targy": "1",
                                    "terem": "6"
                                },
                                {
                                    "ora_id": "170",
                                    "tanar": "104",
                                    "nap": "1",
                                    "Sav": "2",
                                    "targy": "1",
                                    "terem": "4"
                                },
                                {
                                    "ora_id": "171",
                                    "tanar": "14",
                                    "nap": "2",
                                    "Sav": "2",
                                    "targy": "1",
                                    "terem": "8"
                                },
                                {
                                    "ora_id": "172",
                                    "tanar": "7",
                                    "nap": "2",
                                    "Sav": "2",
                                    "targy": "1",
                                    "terem": "3"
                                },
                                {
                                    "ora_id": "173",
                                    "tanar": "20",
                                    "nap": "4",
                                    "Sav": "3",
                                    "targy": "1",
                                    "terem": "3"
                                },
                                {
                                    "ora_id": "174",
                                    "tanar": "104",
                                    "nap": "4",
                                    "Sav": "3",
                                    "targy": "1",
                                    "terem": "7"
                                },
                                {
                                    "ora_id": "175",
                                    "tanar": "14",
                                    "nap": "4",
                                    "Sav": "4",
                                    "targy": "1",
                                    "terem": "4"
                                },
                                {
                                    "ora_id": "176",
                                    "tanar": "20",
                                    "nap": "4",
                                    "Sav": "4",
                                    "targy": "1",
                                    "terem": "2"
                                },
                                {
                                    "ora_id": "177",
                                    "tanar": "2",
                                    "nap": "4",
                                    "Sav": "5",
                                    "targy": "1",
                                    "terem": "3"
                                },
                                {
                                    "ora_id": "178",
                                    "tanar": "111",
                                    "nap": "4",
                                    "Sav": "5",
                                    "targy": "1",
                                    "terem": "8"
                                },
                                {
                                    "ora_id": "179",
                                    "tanar": "2",
                                    "nap": "4",
                                    "Sav": "7",
                                    "targy": "1",
                                    "terem": "4"
                                },
                                {
                                    "ora_id": "180",
                                    "tanar": "111",
                                    "nap": "4",
                                    "Sav": "7",
                                    "targy": "1",
                                    "terem": "3"
                                },
                                {
                                    "ora_id": "181",
                                    "tanar": "2",
                                    "nap": "5",
                                    "Sav": "1",
                                    "targy": "1",
                                    "terem": "2"
                                },
                                {
                                    "ora_id": "182",
                                    "tanar": "111",
                                    "nap": "5",
                                    "Sav": "1",
                                    "targy": "1",
                                    "terem": "7"
                                },
                                {
                                    "ora_id": "183",
                                    "tanar": "2",
                                    "nap": "5",
                                    "Sav": "2",
                                    "targy": "1",
                                    "terem": "8"
                                },
                                {
                                    "ora_id": "184",
                                    "tanar": "111",
                                    "nap": "5",
                                    "Sav": "2",
                                    "targy": "1",
                                    "terem": "6"
                                },
                                {
                                    "ora_id": "185",
                                    "tanar": "2",
                                    "nap": "4",
                                    "Sav": "3",
                                    "targy": "1",
                                    "terem": "4"
                                },
                                {
                                    "ora_id": "186",
                                    "tanar": "18",
                                    "nap": "2",
                                    "Sav": "4",
                                    "targy": "16",
                                    "terem": "7"
                                },
                                {
                                    "ora_id": "187",
                                    "tanar": "5",
                                    "nap": "3",
                                    "Sav": "2",
                                    "targy": "2",
                                    "terem": "5"
                                },
                                {
                                    "ora_id": "188",
                                    "tanar": "9",
                                    "nap": "4",
                                    "Sav": "7",
                                    "targy": "2",
                                    "terem": "13"
                                },
                                {
                                    "ora_id": "189",
                                    "tanar": "9",
                                    "nap": "4",
                                    "Sav": "2",
                                    "targy": "2",
                                    "terem": "13"
                                },
                                {
                                    "ora_id": "190",
                                    "tanar": "9",
                                    "nap": "5",
                                    "Sav": "3",
                                    "targy": "2",
                                    "terem": "14"
                                },
                                {
                                    "ora_id": "191",
                                    "tanar": "12",
                                    "nap": "1",
                                    "Sav": "5",
                                    "targy": "5",
                                    "terem": "8"
                                },
                                {
                                    "ora_id": "192",
                                    "tanar": "12",
                                    "nap": "1",
                                    "Sav": "7",
                                    "targy": "5",
                                    "terem": "3"
                                },
                                {
                                    "ora_id": "193",
                                    "tanar": "9",
                                    "nap": "1",
                                    "Sav": "5",
                                    "targy": "5",
                                    "terem": "5"
                                },
                                {
                                    "ora_id": "194",
                                    "tanar": "9",
                                    "nap": "1",
                                    "Sav": "7",
                                    "targy": "5",
                                    "terem": "11"
                                },
                                {
                                    "ora_id": "195",
                                    "tanar": "5",
                                    "nap": "1",
                                    "Sav": "5",
                                    "targy": "5",
                                    "terem": "12"
                                },
                                {
                                    "ora_id": "196",
                                    "tanar": "5",
                                    "nap": "1",
                                    "Sav": "7",
                                    "targy": "5",
                                    "terem": "6"
                                },
                                {
                                    "ora_id": "197",
                                    "tanar": "9",
                                    "nap": "4",
                                    "Sav": "1",
                                    "targy": "5",
                                    "terem": "16"
                                },
                                {
                                    "ora_id": "198",
                                    "tanar": "9",
                                    "nap": "3",
                                    "Sav": "2",
                                    "targy": "5",
                                    "terem": "3"
                                },
                                {
                                    "ora_id": "199",
                                    "tanar": "300",
                                    "nap": "4",
                                    "Sav": "1",
                                    "targy": "5",
                                    "terem": "6"
                                },
                                {
                                    "ora_id": "200",
                                    "tanar": "300",
                                    "nap": "4",
                                    "Sav": "2",
                                    "targy": "5",
                                    "terem": "8"
                                },
                                {
                                    "ora_id": "201",
                                    "tanar": "301",
                                    "nap": "4",
                                    "Sav": "4",
                                    "targy": "17",
                                    "terem": "14"
                                },
                                {
                                    "ora_id": "202",
                                    "tanar": "301",
                                    "nap": "4",
                                    "Sav": "5",
                                    "targy": "17",
                                    "terem": "15"
                                },
                                {
                                    "ora_id": "203",
                                    "tanar": "200",
                                    "nap": "1",
                                    "Sav": "4",
                                    "targy": "4",
                                    "terem": "10"
                                },
                                {
                                    "ora_id": "204",
                                    "tanar": "108",
                                    "nap": "2",
                                    "Sav": "5",
                                    "targy": "4",
                                    "terem": "4"
                                },
                                {
                                    "ora_id": "205",
                                    "tanar": "4",
                                    "nap": "1",
                                    "Sav": "4",
                                    "targy": "18",
                                    "terem": "8"
                                },
                                {
                                    "ora_id": "206",
                                    "tanar": "12",
                                    "nap": "2",
                                    "Sav": "1",
                                    "targy": "18",
                                    "terem": "10"
                                },
                                {
                                    "ora_id": "207",
                                    "tanar": "12",
                                    "nap": "4",
                                    "Sav": "4",
                                    "targy": "18",
                                    "terem": "7"
                                },
                                {
                                    "ora_id": "208",
                                    "tanar": "10",
                                    "nap": "1",
                                    "Sav": "1",
                                    "targy": "13",
                                    "terem": "13"
                                },
                                {
                                    "ora_id": "209",
                                    "tanar": "10",
                                    "nap": "1",
                                    "Sav": "2",
                                    "targy": "13",
                                    "terem": "13"
                                },
                                {
                                    "ora_id": "210",
                                    "tanar": "6",
                                    "nap": "1",
                                    "Sav": "7",
                                    "targy": "8",
                                    "terem": "14"
                                },
                                {
                                    "ora_id": "211",
                                    "tanar": "6",
                                    "nap": "1",
                                    "Sav": "8",
                                    "targy": "8",
                                    "terem": "5"
                                },
                                {
                                    "ora_id": "212",
                                    "tanar": "7",
                                    "nap": "1",
                                    "Sav": "9",
                                    "targy": "8",
                                    "terem": "4"
                                },
                                {
                                    "ora_id": "213",
                                    "tanar": "7",
                                    "nap": "1",
                                    "Sav": "10",
                                    "targy": "8",
                                    "terem": "6"
                                },
                                {
                                    "ora_id": "214",
                                    "tanar": "8",
                                    "nap": "1",
                                    "Sav": "3",
                                    "targy": "3",
                                    "terem": "7"
                                },
                                {
                                    "ora_id": "215",
                                    "tanar": "8",
                                    "nap": "1",
                                    "Sav": "4",
                                    "targy": "3",
                                    "terem": "9"
                                },
                                {
                                    "ora_id": "216",
                                    "tanar": "6",
                                    "nap": "1",
                                    "Sav": "3",
                                    "targy": "3",
                                    "terem": "6"
                                },
                                {
                                    "ora_id": "217",
                                    "tanar": "6",
                                    "nap": "1",
                                    "Sav": "4",
                                    "targy": "3",
                                    "terem": "5"
                                },
                                {
                                    "ora_id": "218",
                                    "tanar": "8",
                                    "nap": "2",
                                    "Sav": "7",
                                    "targy": "3",
                                    "terem": "2"
                                },
                                {
                                    "ora_id": "219",
                                    "tanar": "8",
                                    "nap": "2",
                                    "Sav": "8",
                                    "targy": "3",
                                    "terem": "7"
                                },
                                {
                                    "ora_id": "220",
                                    "tanar": "1",
                                    "nap": "2",
                                    "Sav": "3",
                                    "targy": "10",
                                    "terem": "3"
                                },
                                {
                                    "ora_id": "221",
                                    "tanar": "1",
                                    "nap": "3",
                                    "Sav": "3",
                                    "targy": "10",
                                    "terem": "13"
                                },
                                {
                                    "ora_id": "222",
                                    "tanar": "1",
                                    "nap": "4",
                                    "Sav": "5",
                                    "targy": "10",
                                    "terem": "12"
                                },
                                {
                                    "ora_id": "223",
                                    "tanar": "1",
                                    "nap": "5",
                                    "Sav": "1",
                                    "targy": "10",
                                    "terem": "10"
                                },
                                {
                                    "ora_id": "226",
                                    "tanar": "2",
                                    "nap": "3",
                                    "Sav": "3",
                                    "targy": "19",
                                    "terem": "1"
                                },
                                {
                                    "ora_id": "227",
                                    "tanar": "2",
                                    "nap": "2",
                                    "Sav": "5",
                                    "targy": "4",
                                    "terem": "12"
                                }
                            ]
                        },
                        "text/html": [
                            "<table>",
                            "<tr><th>ora_id</th><th>tanar</th><th>nap</th><th>Sav</th><th>targy</th><th>terem</th></tr>",
                            "<tr><td>159</td><td>4</td><td>3</td><td>1</td><td>1</td><td>1</td></tr>",
                            "<tr><td>160</td><td>8</td><td>2</td><td>5</td><td>1</td><td>2</td></tr>",
                            "<tr><td>161</td><td>8</td><td>1</td><td>2</td><td>1</td><td>2</td></tr>",
                            "<tr><td>162</td><td>20</td><td>1</td><td>4</td><td>1</td><td>3</td></tr>",
                            "<tr><td>163</td><td>3</td><td>3</td><td>2</td><td>1</td><td>4</td></tr>",
                            "<tr><td>164</td><td>7</td><td>2</td><td>3</td><td>1</td><td>3</td></tr>",
                            "<tr><td>165</td><td>3</td><td>2</td><td>3</td><td>1</td><td>3</td></tr>",
                            "<tr><td>166</td><td>3</td><td>2</td><td>4</td><td>1</td><td>3</td></tr>",
                            "<tr><td>167</td><td>2</td><td>1</td><td>4</td><td>1</td><td>4</td></tr>",
                            "<tr><td>168</td><td>4</td><td>4</td><td>3</td><td>1</td><td>5</td></tr>",
                            "<tr><td>169</td><td>20</td><td>1</td><td>2</td><td>1</td><td>6</td></tr>",
                            "<tr><td>170</td><td>104</td><td>1</td><td>2</td><td>1</td><td>4</td></tr>",
                            "<tr><td>171</td><td>14</td><td>2</td><td>2</td><td>1</td><td>8</td></tr>",
                            "<tr><td>172</td><td>7</td><td>2</td><td>2</td><td>1</td><td>3</td></tr>",
                            "<tr><td>173</td><td>20</td><td>4</td><td>3</td><td>1</td><td>3</td></tr>",
                            "<tr><td>174</td><td>104</td><td>4</td><td>3</td><td>1</td><td>7</td></tr>",
                            "<tr><td>175</td><td>14</td><td>4</td><td>4</td><td>1</td><td>4</td></tr>",
                            "<tr><td>176</td><td>20</td><td>4</td><td>4</td><td>1</td><td>2</td></tr>",
                            "<tr><td>177</td><td>2</td><td>4</td><td>5</td><td>1</td><td>3</td></tr>",
                            "<tr><td>178</td><td>111</td><td>4</td><td>5</td><td>1</td><td>8</td></tr>",
                            "<tr><td>179</td><td>2</td><td>4</td><td>7</td><td>1</td><td>4</td></tr>",
                            "<tr><td>180</td><td>111</td><td>4</td><td>7</td><td>1</td><td>3</td></tr>",
                            "<tr><td>181</td><td>2</td><td>5</td><td>1</td><td>1</td><td>2</td></tr>",
                            "<tr><td>182</td><td>111</td><td>5</td><td>1</td><td>1</td><td>7</td></tr>",
                            "<tr><td>183</td><td>2</td><td>5</td><td>2</td><td>1</td><td>8</td></tr>",
                            "<tr><td>184</td><td>111</td><td>5</td><td>2</td><td>1</td><td>6</td></tr>",
                            "<tr><td>185</td><td>2</td><td>4</td><td>3</td><td>1</td><td>4</td></tr>",
                            "<tr><td>186</td><td>18</td><td>2</td><td>4</td><td>16</td><td>7</td></tr>",
                            "<tr><td>187</td><td>5</td><td>3</td><td>2</td><td>2</td><td>5</td></tr>",
                            "<tr><td>188</td><td>9</td><td>4</td><td>7</td><td>2</td><td>13</td></tr>",
                            "<tr><td>189</td><td>9</td><td>4</td><td>2</td><td>2</td><td>13</td></tr>",
                            "<tr><td>190</td><td>9</td><td>5</td><td>3</td><td>2</td><td>14</td></tr>",
                            "<tr><td>191</td><td>12</td><td>1</td><td>5</td><td>5</td><td>8</td></tr>",
                            "<tr><td>192</td><td>12</td><td>1</td><td>7</td><td>5</td><td>3</td></tr>",
                            "<tr><td>193</td><td>9</td><td>1</td><td>5</td><td>5</td><td>5</td></tr>",
                            "<tr><td>194</td><td>9</td><td>1</td><td>7</td><td>5</td><td>11</td></tr>",
                            "<tr><td>195</td><td>5</td><td>1</td><td>5</td><td>5</td><td>12</td></tr>",
                            "<tr><td>196</td><td>5</td><td>1</td><td>7</td><td>5</td><td>6</td></tr>",
                            "<tr><td>197</td><td>9</td><td>4</td><td>1</td><td>5</td><td>16</td></tr>",
                            "<tr><td>198</td><td>9</td><td>3</td><td>2</td><td>5</td><td>3</td></tr>",
                            "<tr><td>199</td><td>300</td><td>4</td><td>1</td><td>5</td><td>6</td></tr>",
                            "<tr><td>200</td><td>300</td><td>4</td><td>2</td><td>5</td><td>8</td></tr>",
                            "<tr><td>201</td><td>301</td><td>4</td><td>4</td><td>17</td><td>14</td></tr>",
                            "<tr><td>202</td><td>301</td><td>4</td><td>5</td><td>17</td><td>15</td></tr>",
                            "<tr><td>203</td><td>200</td><td>1</td><td>4</td><td>4</td><td>10</td></tr>",
                            "<tr><td>204</td><td>108</td><td>2</td><td>5</td><td>4</td><td>4</td></tr>",
                            "<tr><td>205</td><td>4</td><td>1</td><td>4</td><td>18</td><td>8</td></tr>",
                            "<tr><td>206</td><td>12</td><td>2</td><td>1</td><td>18</td><td>10</td></tr>",
                            "<tr><td>207</td><td>12</td><td>4</td><td>4</td><td>18</td><td>7</td></tr>",
                            "<tr><td>208</td><td>10</td><td>1</td><td>1</td><td>13</td><td>13</td></tr>",
                            "<tr><td>209</td><td>10</td><td>1</td><td>2</td><td>13</td><td>13</td></tr>",
                            "<tr><td>210</td><td>6</td><td>1</td><td>7</td><td>8</td><td>14</td></tr>",
                            "<tr><td>211</td><td>6</td><td>1</td><td>8</td><td>8</td><td>5</td></tr>",
                            "<tr><td>212</td><td>7</td><td>1</td><td>9</td><td>8</td><td>4</td></tr>",
                            "<tr><td>213</td><td>7</td><td>1</td><td>10</td><td>8</td><td>6</td></tr>",
                            "<tr><td>214</td><td>8</td><td>1</td><td>3</td><td>3</td><td>7</td></tr>",
                            "<tr><td>215</td><td>8</td><td>1</td><td>4</td><td>3</td><td>9</td></tr>",
                            "<tr><td>216</td><td>6</td><td>1</td><td>3</td><td>3</td><td>6</td></tr>",
                            "<tr><td>217</td><td>6</td><td>1</td><td>4</td><td>3</td><td>5</td></tr>",
                            "<tr><td>218</td><td>8</td><td>2</td><td>7</td><td>3</td><td>2</td></tr>",
                            "<tr><td>219</td><td>8</td><td>2</td><td>8</td><td>3</td><td>7</td></tr>",
                            "<tr><td>220</td><td>1</td><td>2</td><td>3</td><td>10</td><td>3</td></tr>",
                            "<tr><td>221</td><td>1</td><td>3</td><td>3</td><td>10</td><td>13</td></tr>",
                            "<tr><td>222</td><td>1</td><td>4</td><td>5</td><td>10</td><td>12</td></tr>",
                            "<tr><td>223</td><td>1</td><td>5</td><td>1</td><td>10</td><td>10</td></tr>",
                            "<tr><td>226</td><td>2</td><td>3</td><td>3</td><td>19</td><td>1</td></tr>",
                            "<tr><td>227</td><td>2</td><td>2</td><td>5</td><td>4</td><td>12</td></tr>",
                            "</table>"
                        ]
                    }
                }
            ],
            "execution_count": 9
        },
        {
            "cell_type": "code",
            "source": [
                "SELECT *\r\n",
                "FROM Savok"
            ],
            "metadata": {
                "azdata_cell_guid": "a312135b-e6ba-43c1-8550-bdb0660801a7",
                "language": "sql"
            },
            "outputs": [
                {
                    "output_type": "display_data",
                    "data": {
                        "text/html": "(9 rows affected)"
                    },
                    "metadata": {}
                },
                {
                    "output_type": "display_data",
                    "data": {
                        "text/html": "Total execution time: 00:00:00.021"
                    },
                    "metadata": {}
                },
                {
                    "output_type": "execute_result",
                    "metadata": {},
                    "execution_count": 10,
                    "data": {
                        "application/vnd.dataresource+json": {
                            "schema": {
                                "fields": [
                                    {
                                        "name": "Sav_id"
                                    },
                                    {
                                        "name": "Sav"
                                    },
                                    {
                                        "name": "Időpont"
                                    }
                                ]
                            },
                            "data": [
                                {
                                    "Sav_id": "1",
                                    "Sav": "1",
                                    "Időpont": "8.00"
                                },
                                {
                                    "Sav_id": "2",
                                    "Sav": "2",
                                    "Időpont": "9.30"
                                },
                                {
                                    "Sav_id": "3",
                                    "Sav": "3",
                                    "Időpont": "11.00"
                                },
                                {
                                    "Sav_id": "4",
                                    "Sav": "4",
                                    "Időpont": "12.30"
                                },
                                {
                                    "Sav_id": "5",
                                    "Sav": "5",
                                    "Időpont": "14.00"
                                },
                                {
                                    "Sav_id": "7",
                                    "Sav": "6",
                                    "Időpont": "15.30"
                                },
                                {
                                    "Sav_id": "8",
                                    "Sav": "7",
                                    "Időpont": "17.00"
                                },
                                {
                                    "Sav_id": "9",
                                    "Sav": "8",
                                    "Időpont": "18.30"
                                },
                                {
                                    "Sav_id": "10",
                                    "Sav": "8",
                                    "Időpont": "20.00"
                                }
                            ]
                        },
                        "text/html": [
                            "<table>",
                            "<tr><th>Sav_id</th><th>Sav</th><th>Időpont</th></tr>",
                            "<tr><td>1</td><td>1</td><td>8.00</td></tr>",
                            "<tr><td>2</td><td>2</td><td>9.30</td></tr>",
                            "<tr><td>3</td><td>3</td><td>11.00</td></tr>",
                            "<tr><td>4</td><td>4</td><td>12.30</td></tr>",
                            "<tr><td>5</td><td>5</td><td>14.00</td></tr>",
                            "<tr><td>7</td><td>6</td><td>15.30</td></tr>",
                            "<tr><td>8</td><td>7</td><td>17.00</td></tr>",
                            "<tr><td>9</td><td>8</td><td>18.30</td></tr>",
                            "<tr><td>10</td><td>8</td><td>20.00</td></tr>",
                            "</table>"
                        ]
                    }
                }
            ],
            "execution_count": 10
        },
        {
            "cell_type": "code",
            "source": [
                "SELECT *\r\n",
                "FROM statusok"
            ],
            "metadata": {
                "language": "sql",
                "azdata_cell_guid": "0e9d9c6f-b501-4977-be58-e48f42603e52"
            },
            "outputs": [
                {
                    "output_type": "display_data",
                    "data": {
                        "text/html": "(3 rows affected)"
                    },
                    "metadata": {}
                },
                {
                    "output_type": "display_data",
                    "data": {
                        "text/html": "Total execution time: 00:00:00.023"
                    },
                    "metadata": {}
                },
                {
                    "output_type": "execute_result",
                    "metadata": {},
                    "execution_count": 11,
                    "data": {
                        "application/vnd.dataresource+json": {
                            "schema": {
                                "fields": [
                                    {
                                        "name": "Skod"
                                    },
                                    {
                                        "name": "Status"
                                    }
                                ]
                            },
                            "data": [
                                {
                                    "Skod": "1",
                                    "Status": "Főállású"
                                },
                                {
                                    "Skod": "2",
                                    "Status": "Félállású"
                                },
                                {
                                    "Skod": "3",
                                    "Status": "Óraadó"
                                }
                            ]
                        },
                        "text/html": [
                            "<table>",
                            "<tr><th>Skod</th><th>Status</th></tr>",
                            "<tr><td>1</td><td>Főállású</td></tr>",
                            "<tr><td>2</td><td>Félállású</td></tr>",
                            "<tr><td>3</td><td>Óraadó</td></tr>",
                            "</table>"
                        ]
                    }
                }
            ],
            "execution_count": 11
        },
        {
            "cell_type": "code",
            "source": [
                "SELECT *\r\n",
                "FROM Tantárgyak"
            ],
            "metadata": {
                "language": "sql",
                "azdata_cell_guid": "15fbcdf2-c8f1-4894-895e-152b6150ec95"
            },
            "outputs": [
                {
                    "output_type": "display_data",
                    "data": {
                        "text/html": "(13 rows affected)"
                    },
                    "metadata": {}
                },
                {
                    "output_type": "display_data",
                    "data": {
                        "text/html": "Total execution time: 00:00:00.024"
                    },
                    "metadata": {}
                },
                {
                    "output_type": "execute_result",
                    "metadata": {},
                    "execution_count": 12,
                    "data": {
                        "application/vnd.dataresource+json": {
                            "schema": {
                                "fields": [
                                    {
                                        "name": "Tkód"
                                    },
                                    {
                                        "name": "Tantárgynév"
                                    },
                                    {
                                        "name": "Tantárgyfelelős"
                                    },
                                    {
                                        "name": "Tantargykod"
                                    },
                                    {
                                        "name": "Kredit"
                                    }
                                ]
                            },
                            "data": [
                                {
                                    "Tkód": "1",
                                    "Tantárgynév": "Az ürgeöntés alapjai",
                                    "Tantárgyfelelős": "5",
                                    "Tantargykod": "NULL",
                                    "Kredit": "2"
                                },
                                {
                                    "Tkód": "2",
                                    "Tantárgynév": "Bevezetés az ürgeöntésbe",
                                    "Tantárgyfelelős": "5",
                                    "Tantargykod": "NULL",
                                    "Kredit": "3"
                                },
                                {
                                    "Tkód": "3",
                                    "Tantárgynév": "Az ürge anatómiája",
                                    "Tantárgyfelelős": "8",
                                    "Tantargykod": "NULL",
                                    "Kredit": "5"
                                },
                                {
                                    "Tkód": "4",
                                    "Tantárgynév": "Az ürgeöntés hydrológiai alapjai I.",
                                    "Tantárgyfelelős": "4",
                                    "Tantargykod": "NULL",
                                    "Kredit": "2"
                                },
                                {
                                    "Tkód": "5",
                                    "Tantárgynév": "Az ürgeöntés hydrológiai alapjai II.",
                                    "Tantárgyfelelős": "5",
                                    "Tantargykod": "NULL",
                                    "Kredit": "4"
                                },
                                {
                                    "Tkód": "8",
                                    "Tantárgynév": "Ürgeöntés az EU-ban",
                                    "Tantárgyfelelős": "8",
                                    "Tantargykod": "NULL",
                                    "Kredit": "1"
                                },
                                {
                                    "Tkód": "10",
                                    "Tantárgynév": "Fejezetek az ürgék jogaiból",
                                    "Tantárgyfelelős": "1",
                                    "Tantargykod": "NULL",
                                    "Kredit": "3"
                                },
                                {
                                    "Tkód": "11",
                                    "Tantárgynév": "Folyami gáttan",
                                    "Tantárgyfelelős": "12",
                                    "Tantargykod": "NULL",
                                    "Kredit": "2"
                                },
                                {
                                    "Tkód": "13",
                                    "Tantárgynév": "Ürgevitel",
                                    "Tantárgyfelelős": "10",
                                    "Tantargykod": "NULL",
                                    "Kredit": "6"
                                },
                                {
                                    "Tkód": "16",
                                    "Tantárgynév": "ü-business",
                                    "Tantárgyfelelős": "1",
                                    "Tantargykod": "NULL",
                                    "Kredit": "2"
                                },
                                {
                                    "Tkód": "17",
                                    "Tantárgynév": "Öntési gyakorlat",
                                    "Tantárgyfelelős": "8",
                                    "Tantargykod": "NULL",
                                    "Kredit": "1"
                                },
                                {
                                    "Tkód": "18",
                                    "Tantárgynév": "Az öntés elmélete",
                                    "Tantárgyfelelős": "1",
                                    "Tantargykod": "NULL",
                                    "Kredit": "4"
                                },
                                {
                                    "Tkód": "19",
                                    "Tantárgynév": "ürgefőzés",
                                    "Tantárgyfelelős": "1",
                                    "Tantargykod": "NULL",
                                    "Kredit": "3"
                                }
                            ]
                        },
                        "text/html": [
                            "<table>",
                            "<tr><th>Tkód</th><th>Tantárgynév</th><th>Tantárgyfelelős</th><th>Tantargykod</th><th>Kredit</th></tr>",
                            "<tr><td>1</td><td>Az ürgeöntés alapjai</td><td>5</td><td>NULL</td><td>2</td></tr>",
                            "<tr><td>2</td><td>Bevezetés az ürgeöntésbe</td><td>5</td><td>NULL</td><td>3</td></tr>",
                            "<tr><td>3</td><td>Az ürge anatómiája</td><td>8</td><td>NULL</td><td>5</td></tr>",
                            "<tr><td>4</td><td>Az ürgeöntés hydrológiai alapjai I.</td><td>4</td><td>NULL</td><td>2</td></tr>",
                            "<tr><td>5</td><td>Az ürgeöntés hydrológiai alapjai II.</td><td>5</td><td>NULL</td><td>4</td></tr>",
                            "<tr><td>8</td><td>Ürgeöntés az EU-ban</td><td>8</td><td>NULL</td><td>1</td></tr>",
                            "<tr><td>10</td><td>Fejezetek az ürgék jogaiból</td><td>1</td><td>NULL</td><td>3</td></tr>",
                            "<tr><td>11</td><td>Folyami gáttan</td><td>12</td><td>NULL</td><td>2</td></tr>",
                            "<tr><td>13</td><td>Ürgevitel</td><td>10</td><td>NULL</td><td>6</td></tr>",
                            "<tr><td>16</td><td>ü-business</td><td>1</td><td>NULL</td><td>2</td></tr>",
                            "<tr><td>17</td><td>Öntési gyakorlat</td><td>8</td><td>NULL</td><td>1</td></tr>",
                            "<tr><td>18</td><td>Az öntés elmélete</td><td>1</td><td>NULL</td><td>4</td></tr>",
                            "<tr><td>19</td><td>ürgefőzés</td><td>1</td><td>NULL</td><td>3</td></tr>",
                            "</table>"
                        ]
                    }
                }
            ],
            "execution_count": 12
        },
        {
            "cell_type": "code",
            "source": [
                "SELECT *\r\n",
                "FROM Termek"
            ],
            "metadata": {
                "language": "sql",
                "azdata_cell_guid": "cc1fa6b2-53da-4c06-82c4-c6c4c6f4b558"
            },
            "outputs": [
                {
                    "output_type": "display_data",
                    "data": {
                        "text/html": "(16 rows affected)"
                    },
                    "metadata": {}
                },
                {
                    "output_type": "display_data",
                    "data": {
                        "text/html": "Total execution time: 00:00:00.021"
                    },
                    "metadata": {}
                },
                {
                    "output_type": "execute_result",
                    "metadata": {},
                    "execution_count": 13,
                    "data": {
                        "application/vnd.dataresource+json": {
                            "schema": {
                                "fields": [
                                    {
                                        "name": "Tkód"
                                    },
                                    {
                                        "name": "Terem"
                                    }
                                ]
                            },
                            "data": [
                                {
                                    "Tkód": "1",
                                    "Terem": "117"
                                },
                                {
                                    "Tkód": "2",
                                    "Terem": "118"
                                },
                                {
                                    "Tkód": "3",
                                    "Terem": "119"
                                },
                                {
                                    "Tkód": "4",
                                    "Terem": "120"
                                },
                                {
                                    "Tkód": "5",
                                    "Terem": "217"
                                },
                                {
                                    "Tkód": "6",
                                    "Terem": "218"
                                },
                                {
                                    "Tkód": "7",
                                    "Terem": "219"
                                },
                                {
                                    "Tkód": "8",
                                    "Terem": "220"
                                },
                                {
                                    "Tkód": "9",
                                    "Terem": "E.fsz.IV."
                                },
                                {
                                    "Tkód": "10",
                                    "Terem": "S.Asor.S3"
                                },
                                {
                                    "Tkód": "11",
                                    "Terem": "E.fsz.I"
                                },
                                {
                                    "Tkód": "12",
                                    "Terem": "116"
                                },
                                {
                                    "Tkód": "13",
                                    "Terem": "VP 203."
                                },
                                {
                                    "Tkód": "14",
                                    "Terem": "E.2.238"
                                },
                                {
                                    "Tkód": "15",
                                    "Terem": "E.3.332"
                                },
                                {
                                    "Tkód": "16",
                                    "Terem": "116"
                                }
                            ]
                        },
                        "text/html": [
                            "<table>",
                            "<tr><th>Tkód</th><th>Terem</th></tr>",
                            "<tr><td>1</td><td>117</td></tr>",
                            "<tr><td>2</td><td>118</td></tr>",
                            "<tr><td>3</td><td>119</td></tr>",
                            "<tr><td>4</td><td>120</td></tr>",
                            "<tr><td>5</td><td>217</td></tr>",
                            "<tr><td>6</td><td>218</td></tr>",
                            "<tr><td>7</td><td>219</td></tr>",
                            "<tr><td>8</td><td>220</td></tr>",
                            "<tr><td>9</td><td>E.fsz.IV.</td></tr>",
                            "<tr><td>10</td><td>S.Asor.S3</td></tr>",
                            "<tr><td>11</td><td>E.fsz.I</td></tr>",
                            "<tr><td>12</td><td>116</td></tr>",
                            "<tr><td>13</td><td>VP 203.</td></tr>",
                            "<tr><td>14</td><td>E.2.238</td></tr>",
                            "<tr><td>15</td><td>E.3.332</td></tr>",
                            "<tr><td>16</td><td>116</td></tr>",
                            "</table>"
                        ]
                    }
                }
            ],
            "execution_count": 13
        }
    ]
}