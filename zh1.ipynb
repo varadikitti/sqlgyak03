{
    "metadata": {
        "kernelspec": {
            "name": "SQL",
            "display_name": "SQL",
            "language": "sql"
        },
        "language_info": {
            "name": "sql",
            "version": ""
        }
    },
    "nbformat_minor": 2,
    "nbformat": 4,
    "cells": [
        {
            "cell_type": "code",
            "source": [
                "-- 1. feladat\r\n",
                "-- táblák: foglalás\r\n",
                "\r\n",
                "SELECT COUNT(*) AS 'Foglalások száma'\r\n",
                "FROM Foglalas\r\n",
                "WHERE YEAR(METTOL) = YEAR(MEDDIG) AND MONTH(METTOL) <> MONTH(MEDDIG) \r\n",
                ""
            ],
            "metadata": {
                "azdata_cell_guid": "fb597178-9547-4dff-95bd-491a84035e08",
                "language": "sql",
                "tags": []
            },
            "outputs": [
                {
                    "output_type": "display_data",
                    "data": {
                        "text/html": "(1 row affected)"
                    },
                    "metadata": {}
                },
                {
                    "output_type": "display_data",
                    "data": {
                        "text/html": "Total execution time: 00:00:00.005"
                    },
                    "metadata": {}
                },
                {
                    "output_type": "execute_result",
                    "metadata": {},
                    "execution_count": 11,
                    "data": {
                        "application/vnd.dataresource+json": {
                            "schema": {
                                "fields": [
                                    {
                                        "name": "Foglalások száma"
                                    }
                                ]
                            },
                            "data": [
                                {
                                    "Foglalások száma": "131"
                                }
                            ]
                        },
                        "text/html": [
                            "<table>",
                            "<tr><th>Foglalások száma</th></tr>",
                            "<tr><td>131</td></tr>",
                            "</table>"
                        ]
                    }
                }
            ],
            "execution_count": 11
        },
        {
            "cell_type": "code",
            "source": [
                "-- 2. feladat\r\n",
                "-- táblák: szallashely, szoba, foglalas\r\n",
                "\r\n",
                "SELECT  Szallashely.TIPUS,\r\n",
                "        ROUND(COUNT(*),-2) AS 'Foglalásszám'\r\n",
                "FROM Foglalas JOIN Szoba ON Foglalas.SZOBA_FK = Szoba.SZOBA_ID\r\n",
                "                JOIN Szallashely ON Szoba.SZALLAS_FK = Szallashely.SZALLAS_ID\r\n",
                "GROUP BY Szallashely.TIPUS\r\n",
                "HAVING ROUND(COUNT(*),-2) < 500\r\n",
                "\r\n",
                "-- a moodle megoldásban az elnevezéseket átneveztem a feladat helyessége érdekében"
            ],
            "metadata": {
                "language": "sql",
                "azdata_cell_guid": "4eef5223-0681-4f93-8bf6-1d0e2312b0fd"
            },
            "outputs": [
                {
                    "output_type": "display_data",
                    "data": {
                        "text/html": "(3 rows affected)"
                    },
                    "metadata": {}
                },
                {
                    "output_type": "display_data",
                    "data": {
                        "text/html": "Total execution time: 00:00:00.011"
                    },
                    "metadata": {}
                },
                {
                    "output_type": "execute_result",
                    "metadata": {},
                    "execution_count": 28,
                    "data": {
                        "application/vnd.dataresource+json": {
                            "schema": {
                                "fields": [
                                    {
                                        "name": "TIPUS"
                                    },
                                    {
                                        "name": "Foglalásszám"
                                    }
                                ]
                            },
                            "data": [
                                {
                                    "TIPUS": "Apartman",
                                    "Foglalásszám": "100"
                                },
                                {
                                    "TIPUS": "vendégház",
                                    "Foglalásszám": "100"
                                },
                                {
                                    "TIPUS": "panzió",
                                    "Foglalásszám": "200"
                                }
                            ]
                        },
                        "text/html": [
                            "<table>",
                            "<tr><th>TIPUS</th><th>Foglalásszám</th></tr>",
                            "<tr><td>Apartman</td><td>100</td></tr>",
                            "<tr><td>vendégház</td><td>100</td></tr>",
                            "<tr><td>panzió</td><td>200</td></tr>",
                            "</table>"
                        ]
                    }
                }
            ],
            "execution_count": 28
        },
        {
            "cell_type": "code",
            "source": [
                "-- 3. feladat\r\n",
                "-- táblák: szoba, szallashely, foglalas\r\n",
                "\r\n",
                "SELECT  Szoba.SZOBA_ID,\r\n",
                "        Szoba.SZALLAS_FK,\r\n",
                "        Szoba.SZOBA_SZAMA,\r\n",
                "        Szoba.FEROHELY,\r\n",
                "        Szoba.POTAGY,\r\n",
                "        Szoba.KLIMAS,\r\n",
                "        Szallashely.SZALLAS_NEV,\r\n",
                "        CASE WHEN Szallashely.TIPUS = 'panzió' THEN 'Igen'\r\n",
                "            ELSE 'Nem'\r\n",
                "            END AS 'Panzió-e?'\r\n",
                "FROM Szoba JOIN Szallashely ON Szoba.SZALLAS_FK = Szallashely.SZALLAS_ID\r\n",
                "            LEFT JOIN Foglalas ON Szoba.SZOBA_ID = Foglalas.SZOBA_FK\r\n",
                "WHERE Foglalas.METTOL IS NULL"
            ],
            "metadata": {
                "language": "sql",
                "azdata_cell_guid": "57ecd2ae-048e-4f03-9cef-3929513bfcdc"
            },
            "outputs": [
                {
                    "output_type": "display_data",
                    "data": {
                        "text/html": "(97 rows affected)"
                    },
                    "metadata": {}
                },
                {
                    "output_type": "display_data",
                    "data": {
                        "text/html": "Total execution time: 00:00:00.013"
                    },
                    "metadata": {}
                },
                {
                    "output_type": "execute_result",
                    "metadata": {},
                    "execution_count": 34,
                    "data": {
                        "application/vnd.dataresource+json": {
                            "schema": {
                                "fields": [
                                    {
                                        "name": "FEROHELY"
                                    },
                                    {
                                        "name": "KLIMAS"
                                    },
                                    {
                                        "name": "POTAGY"
                                    },
                                    {
                                        "name": "SZALLAS_FK"
                                    },
                                    {
                                        "name": "SZOBA_ID"
                                    },
                                    {
                                        "name": "SZOBA_SZAMA"
                                    },
                                    {
                                        "name": "SZALLAS_NEV"
                                    },
                                    {
                                        "name": "Panzió-e?"
                                    }
                                ]
                            },
                            "data": [
                                {
                                    "FEROHELY": "3",
                                    "KLIMAS": "n",
                                    "POTAGY": "1",
                                    "SZALLAS_FK": "10",
                                    "SZOBA_ID": "159",
                                    "SZOBA_SZAMA": "25",
                                    "SZALLAS_NEV": "Lagúna Hotel",
                                    "Panzió-e?": "Nem"
                                },
                                {
                                    "FEROHELY": "3",
                                    "KLIMAS": "i",
                                    "POTAGY": "2",
                                    "SZALLAS_FK": "12",
                                    "SZOBA_ID": "199",
                                    "SZOBA_SZAMA": "35",
                                    "SZALLAS_NEV": "Gold Hotel",
                                    "Panzió-e?": "Nem"
                                },
                                {
                                    "FEROHELY": "2",
                                    "KLIMAS": "i",
                                    "POTAGY": "0",
                                    "SZALLAS_FK": "12",
                                    "SZOBA_ID": "200",
                                    "SZOBA_SZAMA": "36",
                                    "SZALLAS_NEV": "Gold Hotel",
                                    "Panzió-e?": "Nem"
                                },
                                {
                                    "FEROHELY": "3",
                                    "KLIMAS": "n",
                                    "POTAGY": "1",
                                    "SZALLAS_FK": "12",
                                    "SZOBA_ID": "201",
                                    "SZOBA_SZAMA": "37",
                                    "SZALLAS_NEV": "Gold Hotel",
                                    "Panzió-e?": "Nem"
                                },
                                {
                                    "FEROHELY": "3",
                                    "KLIMAS": "i",
                                    "POTAGY": "1",
                                    "SZALLAS_FK": "12",
                                    "SZOBA_ID": "202",
                                    "SZOBA_SZAMA": "38",
                                    "SZALLAS_NEV": "Gold Hotel",
                                    "Panzió-e?": "Nem"
                                },
                                {
                                    "FEROHELY": "3",
                                    "KLIMAS": "i",
                                    "POTAGY": "0",
                                    "SZALLAS_FK": "12",
                                    "SZOBA_ID": "203",
                                    "SZOBA_SZAMA": "39",
                                    "SZALLAS_NEV": "Gold Hotel",
                                    "Panzió-e?": "Nem"
                                },
                                {
                                    "FEROHELY": "3",
                                    "KLIMAS": "i",
                                    "POTAGY": "1",
                                    "SZALLAS_FK": "12",
                                    "SZOBA_ID": "204",
                                    "SZOBA_SZAMA": "40",
                                    "SZALLAS_NEV": "Gold Hotel",
                                    "Panzió-e?": "Nem"
                                },
                                {
                                    "FEROHELY": "3",
                                    "KLIMAS": "i",
                                    "POTAGY": "0",
                                    "SZALLAS_FK": "12",
                                    "SZOBA_ID": "205",
                                    "SZOBA_SZAMA": "41",
                                    "SZALLAS_NEV": "Gold Hotel",
                                    "Panzió-e?": "Nem"
                                },
                                {
                                    "FEROHELY": "2",
                                    "KLIMAS": "i",
                                    "POTAGY": "1",
                                    "SZALLAS_FK": "12",
                                    "SZOBA_ID": "206",
                                    "SZOBA_SZAMA": "42",
                                    "SZALLAS_NEV": "Gold Hotel",
                                    "Panzió-e?": "Nem"
                                },
                                {
                                    "FEROHELY": "2",
                                    "KLIMAS": "i",
                                    "POTAGY": "1",
                                    "SZALLAS_FK": "12",
                                    "SZOBA_ID": "207",
                                    "SZOBA_SZAMA": "43",
                                    "SZALLAS_NEV": "Gold Hotel",
                                    "Panzió-e?": "Nem"
                                },
                                {
                                    "FEROHELY": "2",
                                    "KLIMAS": "i",
                                    "POTAGY": "1",
                                    "SZALLAS_FK": "12",
                                    "SZOBA_ID": "208",
                                    "SZOBA_SZAMA": "44",
                                    "SZALLAS_NEV": "Gold Hotel",
                                    "Panzió-e?": "Nem"
                                },
                                {
                                    "FEROHELY": "3",
                                    "KLIMAS": "n",
                                    "POTAGY": "2",
                                    "SZALLAS_FK": "12",
                                    "SZOBA_ID": "209",
                                    "SZOBA_SZAMA": "45",
                                    "SZALLAS_NEV": "Gold Hotel",
                                    "Panzió-e?": "Nem"
                                },
                                {
                                    "FEROHELY": "2",
                                    "KLIMAS": "i",
                                    "POTAGY": "0",
                                    "SZALLAS_FK": "12",
                                    "SZOBA_ID": "210",
                                    "SZOBA_SZAMA": "46",
                                    "SZALLAS_NEV": "Gold Hotel",
                                    "Panzió-e?": "Nem"
                                },
                                {
                                    "FEROHELY": "2",
                                    "KLIMAS": "i",
                                    "POTAGY": "1",
                                    "SZALLAS_FK": "12",
                                    "SZOBA_ID": "211",
                                    "SZOBA_SZAMA": "47",
                                    "SZALLAS_NEV": "Gold Hotel",
                                    "Panzió-e?": "Nem"
                                },
                                {
                                    "FEROHELY": "3",
                                    "KLIMAS": "n",
                                    "POTAGY": "0",
                                    "SZALLAS_FK": "12",
                                    "SZOBA_ID": "212",
                                    "SZOBA_SZAMA": "48",
                                    "SZALLAS_NEV": "Gold Hotel",
                                    "Panzió-e?": "Nem"
                                },
                                {
                                    "FEROHELY": "3",
                                    "KLIMAS": "i",
                                    "POTAGY": "0",
                                    "SZALLAS_FK": "12",
                                    "SZOBA_ID": "213",
                                    "SZOBA_SZAMA": "49",
                                    "SZALLAS_NEV": "Gold Hotel",
                                    "Panzió-e?": "Nem"
                                },
                                {
                                    "FEROHELY": "3",
                                    "KLIMAS": "i",
                                    "POTAGY": "1",
                                    "SZALLAS_FK": "12",
                                    "SZOBA_ID": "214",
                                    "SZOBA_SZAMA": "50",
                                    "SZALLAS_NEV": "Gold Hotel",
                                    "Panzió-e?": "Nem"
                                },
                                {
                                    "FEROHELY": "2",
                                    "KLIMAS": "i",
                                    "POTAGY": "1",
                                    "SZALLAS_FK": "13",
                                    "SZOBA_ID": "215",
                                    "SZOBA_SZAMA": "1",
                                    "SZALLAS_NEV": "Riviéra Panzió",
                                    "Panzió-e?": "Igen"
                                },
                                {
                                    "FEROHELY": "3",
                                    "KLIMAS": "i",
                                    "POTAGY": "1",
                                    "SZALLAS_FK": "13",
                                    "SZOBA_ID": "216",
                                    "SZOBA_SZAMA": "2",
                                    "SZALLAS_NEV": "Riviéra Panzió",
                                    "Panzió-e?": "Igen"
                                },
                                {
                                    "FEROHELY": "2",
                                    "KLIMAS": "n",
                                    "POTAGY": "1",
                                    "SZALLAS_FK": "13",
                                    "SZOBA_ID": "217",
                                    "SZOBA_SZAMA": "3",
                                    "SZALLAS_NEV": "Riviéra Panzió",
                                    "Panzió-e?": "Igen"
                                },
                                {
                                    "FEROHELY": "3",
                                    "KLIMAS": "i",
                                    "POTAGY": "0",
                                    "SZALLAS_FK": "13",
                                    "SZOBA_ID": "218",
                                    "SZOBA_SZAMA": "4",
                                    "SZALLAS_NEV": "Riviéra Panzió",
                                    "Panzió-e?": "Igen"
                                },
                                {
                                    "FEROHELY": "2",
                                    "KLIMAS": "n",
                                    "POTAGY": "0",
                                    "SZALLAS_FK": "13",
                                    "SZOBA_ID": "219",
                                    "SZOBA_SZAMA": "5",
                                    "SZALLAS_NEV": "Riviéra Panzió",
                                    "Panzió-e?": "Igen"
                                },
                                {
                                    "FEROHELY": "3",
                                    "KLIMAS": "i",
                                    "POTAGY": "0",
                                    "SZALLAS_FK": "13",
                                    "SZOBA_ID": "220",
                                    "SZOBA_SZAMA": "6",
                                    "SZALLAS_NEV": "Riviéra Panzió",
                                    "Panzió-e?": "Igen"
                                },
                                {
                                    "FEROHELY": "3",
                                    "KLIMAS": "i",
                                    "POTAGY": "0",
                                    "SZALLAS_FK": "13",
                                    "SZOBA_ID": "221",
                                    "SZOBA_SZAMA": "7",
                                    "SZALLAS_NEV": "Riviéra Panzió",
                                    "Panzió-e?": "Igen"
                                },
                                {
                                    "FEROHELY": "2",
                                    "KLIMAS": "n",
                                    "POTAGY": "0",
                                    "SZALLAS_FK": "13",
                                    "SZOBA_ID": "222",
                                    "SZOBA_SZAMA": "8",
                                    "SZALLAS_NEV": "Riviéra Panzió",
                                    "Panzió-e?": "Igen"
                                },
                                {
                                    "FEROHELY": "2",
                                    "KLIMAS": "i",
                                    "POTAGY": "1",
                                    "SZALLAS_FK": "13",
                                    "SZOBA_ID": "223",
                                    "SZOBA_SZAMA": "9",
                                    "SZALLAS_NEV": "Riviéra Panzió",
                                    "Panzió-e?": "Igen"
                                },
                                {
                                    "FEROHELY": "2",
                                    "KLIMAS": "i",
                                    "POTAGY": "0",
                                    "SZALLAS_FK": "13",
                                    "SZOBA_ID": "224",
                                    "SZOBA_SZAMA": "10",
                                    "SZALLAS_NEV": "Riviéra Panzió",
                                    "Panzió-e?": "Igen"
                                },
                                {
                                    "FEROHELY": "2",
                                    "KLIMAS": "i",
                                    "POTAGY": "1",
                                    "SZALLAS_FK": "13",
                                    "SZOBA_ID": "225",
                                    "SZOBA_SZAMA": "11",
                                    "SZALLAS_NEV": "Riviéra Panzió",
                                    "Panzió-e?": "Igen"
                                },
                                {
                                    "FEROHELY": "3",
                                    "KLIMAS": "n",
                                    "POTAGY": "1",
                                    "SZALLAS_FK": "13",
                                    "SZOBA_ID": "226",
                                    "SZOBA_SZAMA": "12",
                                    "SZALLAS_NEV": "Riviéra Panzió",
                                    "Panzió-e?": "Igen"
                                },
                                {
                                    "FEROHELY": "2",
                                    "KLIMAS": "i",
                                    "POTAGY": "1",
                                    "SZALLAS_FK": "14",
                                    "SZOBA_ID": "227",
                                    "SZOBA_SZAMA": "1",
                                    "SZALLAS_NEV": "Nyárfás Vendégház",
                                    "Panzió-e?": "Nem"
                                },
                                {
                                    "FEROHELY": "3",
                                    "KLIMAS": "i",
                                    "POTAGY": "0",
                                    "SZALLAS_FK": "14",
                                    "SZOBA_ID": "228",
                                    "SZOBA_SZAMA": "2",
                                    "SZALLAS_NEV": "Nyárfás Vendégház",
                                    "Panzió-e?": "Nem"
                                },
                                {
                                    "FEROHELY": "2",
                                    "KLIMAS": "i",
                                    "POTAGY": "0",
                                    "SZALLAS_FK": "14",
                                    "SZOBA_ID": "229",
                                    "SZOBA_SZAMA": "3",
                                    "SZALLAS_NEV": "Nyárfás Vendégház",
                                    "Panzió-e?": "Nem"
                                },
                                {
                                    "FEROHELY": "3",
                                    "KLIMAS": "i",
                                    "POTAGY": "2",
                                    "SZALLAS_FK": "14",
                                    "SZOBA_ID": "230",
                                    "SZOBA_SZAMA": "4",
                                    "SZALLAS_NEV": "Nyárfás Vendégház",
                                    "Panzió-e?": "Nem"
                                },
                                {
                                    "FEROHELY": "2",
                                    "KLIMAS": "i",
                                    "POTAGY": "0",
                                    "SZALLAS_FK": "15",
                                    "SZOBA_ID": "231",
                                    "SZOBA_SZAMA": "1",
                                    "SZALLAS_NEV": "Tímárház Panzió",
                                    "Panzió-e?": "Igen"
                                },
                                {
                                    "FEROHELY": "2",
                                    "KLIMAS": "i",
                                    "POTAGY": "0",
                                    "SZALLAS_FK": "15",
                                    "SZOBA_ID": "232",
                                    "SZOBA_SZAMA": "2",
                                    "SZALLAS_NEV": "Tímárház Panzió",
                                    "Panzió-e?": "Igen"
                                },
                                {
                                    "FEROHELY": "3",
                                    "KLIMAS": "n",
                                    "POTAGY": "0",
                                    "SZALLAS_FK": "15",
                                    "SZOBA_ID": "233",
                                    "SZOBA_SZAMA": "3",
                                    "SZALLAS_NEV": "Tímárház Panzió",
                                    "Panzió-e?": "Igen"
                                },
                                {
                                    "FEROHELY": "3",
                                    "KLIMAS": "i",
                                    "POTAGY": "1",
                                    "SZALLAS_FK": "15",
                                    "SZOBA_ID": "234",
                                    "SZOBA_SZAMA": "4",
                                    "SZALLAS_NEV": "Tímárház Panzió",
                                    "Panzió-e?": "Igen"
                                },
                                {
                                    "FEROHELY": "3",
                                    "KLIMAS": "i",
                                    "POTAGY": "0",
                                    "SZALLAS_FK": "15",
                                    "SZOBA_ID": "235",
                                    "SZOBA_SZAMA": "5",
                                    "SZALLAS_NEV": "Tímárház Panzió",
                                    "Panzió-e?": "Igen"
                                },
                                {
                                    "FEROHELY": "3",
                                    "KLIMAS": "n",
                                    "POTAGY": "1",
                                    "SZALLAS_FK": "15",
                                    "SZOBA_ID": "236",
                                    "SZOBA_SZAMA": "6",
                                    "SZALLAS_NEV": "Tímárház Panzió",
                                    "Panzió-e?": "Igen"
                                },
                                {
                                    "FEROHELY": "2",
                                    "KLIMAS": "n",
                                    "POTAGY": "2",
                                    "SZALLAS_FK": "15",
                                    "SZOBA_ID": "237",
                                    "SZOBA_SZAMA": "7",
                                    "SZALLAS_NEV": "Tímárház Panzió",
                                    "Panzió-e?": "Igen"
                                },
                                {
                                    "FEROHELY": "3",
                                    "KLIMAS": "i",
                                    "POTAGY": "1",
                                    "SZALLAS_FK": "15",
                                    "SZOBA_ID": "238",
                                    "SZOBA_SZAMA": "8",
                                    "SZALLAS_NEV": "Tímárház Panzió",
                                    "Panzió-e?": "Igen"
                                },
                                {
                                    "FEROHELY": "2",
                                    "KLIMAS": "i",
                                    "POTAGY": "2",
                                    "SZALLAS_FK": "15",
                                    "SZOBA_ID": "239",
                                    "SZOBA_SZAMA": "9",
                                    "SZALLAS_NEV": "Tímárház Panzió",
                                    "Panzió-e?": "Igen"
                                },
                                {
                                    "FEROHELY": "3",
                                    "KLIMAS": "i",
                                    "POTAGY": "0",
                                    "SZALLAS_FK": "15",
                                    "SZOBA_ID": "240",
                                    "SZOBA_SZAMA": "10",
                                    "SZALLAS_NEV": "Tímárház Panzió",
                                    "Panzió-e?": "Igen"
                                },
                                {
                                    "FEROHELY": "2",
                                    "KLIMAS": "i",
                                    "POTAGY": "0",
                                    "SZALLAS_FK": "15",
                                    "SZOBA_ID": "241",
                                    "SZOBA_SZAMA": "11",
                                    "SZALLAS_NEV": "Tímárház Panzió",
                                    "Panzió-e?": "Igen"
                                },
                                {
                                    "FEROHELY": "2",
                                    "KLIMAS": "i",
                                    "POTAGY": "1",
                                    "SZALLAS_FK": "15",
                                    "SZOBA_ID": "242",
                                    "SZOBA_SZAMA": "12",
                                    "SZALLAS_NEV": "Tímárház Panzió",
                                    "Panzió-e?": "Igen"
                                },
                                {
                                    "FEROHELY": "2",
                                    "KLIMAS": "i",
                                    "POTAGY": "0",
                                    "SZALLAS_FK": "16",
                                    "SZOBA_ID": "243",
                                    "SZOBA_SZAMA": "1",
                                    "SZALLAS_NEV": "Bagoly Hotel",
                                    "Panzió-e?": "Nem"
                                },
                                {
                                    "FEROHELY": "2",
                                    "KLIMAS": "i",
                                    "POTAGY": "1",
                                    "SZALLAS_FK": "16",
                                    "SZOBA_ID": "244",
                                    "SZOBA_SZAMA": "2",
                                    "SZALLAS_NEV": "Bagoly Hotel",
                                    "Panzió-e?": "Nem"
                                },
                                {
                                    "FEROHELY": "2",
                                    "KLIMAS": "i",
                                    "POTAGY": "1",
                                    "SZALLAS_FK": "16",
                                    "SZOBA_ID": "245",
                                    "SZOBA_SZAMA": "3",
                                    "SZALLAS_NEV": "Bagoly Hotel",
                                    "Panzió-e?": "Nem"
                                },
                                {
                                    "FEROHELY": "2",
                                    "KLIMAS": "i",
                                    "POTAGY": "0",
                                    "SZALLAS_FK": "16",
                                    "SZOBA_ID": "246",
                                    "SZOBA_SZAMA": "4",
                                    "SZALLAS_NEV": "Bagoly Hotel",
                                    "Panzió-e?": "Nem"
                                },
                                {
                                    "FEROHELY": "2",
                                    "KLIMAS": "i",
                                    "POTAGY": "0",
                                    "SZALLAS_FK": "16",
                                    "SZOBA_ID": "247",
                                    "SZOBA_SZAMA": "5",
                                    "SZALLAS_NEV": "Bagoly Hotel",
                                    "Panzió-e?": "Nem"
                                },
                                {
                                    "FEROHELY": "2",
                                    "KLIMAS": "i",
                                    "POTAGY": "2",
                                    "SZALLAS_FK": "16",
                                    "SZOBA_ID": "248",
                                    "SZOBA_SZAMA": "6",
                                    "SZALLAS_NEV": "Bagoly Hotel",
                                    "Panzió-e?": "Nem"
                                },
                                {
                                    "FEROHELY": "2",
                                    "KLIMAS": "n",
                                    "POTAGY": "1",
                                    "SZALLAS_FK": "16",
                                    "SZOBA_ID": "249",
                                    "SZOBA_SZAMA": "7",
                                    "SZALLAS_NEV": "Bagoly Hotel",
                                    "Panzió-e?": "Nem"
                                },
                                {
                                    "FEROHELY": "3",
                                    "KLIMAS": "n",
                                    "POTAGY": "1",
                                    "SZALLAS_FK": "16",
                                    "SZOBA_ID": "250",
                                    "SZOBA_SZAMA": "8",
                                    "SZALLAS_NEV": "Bagoly Hotel",
                                    "Panzió-e?": "Nem"
                                },
                                {
                                    "FEROHELY": "3",
                                    "KLIMAS": "n",
                                    "POTAGY": "0",
                                    "SZALLAS_FK": "16",
                                    "SZOBA_ID": "251",
                                    "SZOBA_SZAMA": "9",
                                    "SZALLAS_NEV": "Bagoly Hotel",
                                    "Panzió-e?": "Nem"
                                },
                                {
                                    "FEROHELY": "3",
                                    "KLIMAS": "i",
                                    "POTAGY": "1",
                                    "SZALLAS_FK": "16",
                                    "SZOBA_ID": "252",
                                    "SZOBA_SZAMA": "10",
                                    "SZALLAS_NEV": "Bagoly Hotel",
                                    "Panzió-e?": "Nem"
                                },
                                {
                                    "FEROHELY": "2",
                                    "KLIMAS": "i",
                                    "POTAGY": "0",
                                    "SZALLAS_FK": "16",
                                    "SZOBA_ID": "253",
                                    "SZOBA_SZAMA": "11",
                                    "SZALLAS_NEV": "Bagoly Hotel",
                                    "Panzió-e?": "Nem"
                                },
                                {
                                    "FEROHELY": "2",
                                    "KLIMAS": "i",
                                    "POTAGY": "0",
                                    "SZALLAS_FK": "16",
                                    "SZOBA_ID": "254",
                                    "SZOBA_SZAMA": "12",
                                    "SZALLAS_NEV": "Bagoly Hotel",
                                    "Panzió-e?": "Nem"
                                },
                                {
                                    "FEROHELY": "3",
                                    "KLIMAS": "n",
                                    "POTAGY": "0",
                                    "SZALLAS_FK": "16",
                                    "SZOBA_ID": "255",
                                    "SZOBA_SZAMA": "13",
                                    "SZALLAS_NEV": "Bagoly Hotel",
                                    "Panzió-e?": "Nem"
                                },
                                {
                                    "FEROHELY": "3",
                                    "KLIMAS": "i",
                                    "POTAGY": "1",
                                    "SZALLAS_FK": "16",
                                    "SZOBA_ID": "256",
                                    "SZOBA_SZAMA": "14",
                                    "SZALLAS_NEV": "Bagoly Hotel",
                                    "Panzió-e?": "Nem"
                                },
                                {
                                    "FEROHELY": "2",
                                    "KLIMAS": "i",
                                    "POTAGY": "0",
                                    "SZALLAS_FK": "16",
                                    "SZOBA_ID": "257",
                                    "SZOBA_SZAMA": "15",
                                    "SZALLAS_NEV": "Bagoly Hotel",
                                    "Panzió-e?": "Nem"
                                },
                                {
                                    "FEROHELY": "2",
                                    "KLIMAS": "i",
                                    "POTAGY": "0",
                                    "SZALLAS_FK": "16",
                                    "SZOBA_ID": "258",
                                    "SZOBA_SZAMA": "16",
                                    "SZALLAS_NEV": "Bagoly Hotel",
                                    "Panzió-e?": "Nem"
                                },
                                {
                                    "FEROHELY": "2",
                                    "KLIMAS": "i",
                                    "POTAGY": "0",
                                    "SZALLAS_FK": "16",
                                    "SZOBA_ID": "259",
                                    "SZOBA_SZAMA": "17",
                                    "SZALLAS_NEV": "Bagoly Hotel",
                                    "Panzió-e?": "Nem"
                                },
                                {
                                    "FEROHELY": "2",
                                    "KLIMAS": "i",
                                    "POTAGY": "0",
                                    "SZALLAS_FK": "16",
                                    "SZOBA_ID": "260",
                                    "SZOBA_SZAMA": "18",
                                    "SZALLAS_NEV": "Bagoly Hotel",
                                    "Panzió-e?": "Nem"
                                },
                                {
                                    "FEROHELY": "1",
                                    "KLIMAS": "n",
                                    "POTAGY": "1",
                                    "SZALLAS_FK": "16",
                                    "SZOBA_ID": "261",
                                    "SZOBA_SZAMA": "19",
                                    "SZALLAS_NEV": "Bagoly Hotel",
                                    "Panzió-e?": "Nem"
                                },
                                {
                                    "FEROHELY": "1",
                                    "KLIMAS": "n",
                                    "POTAGY": "0",
                                    "SZALLAS_FK": "16",
                                    "SZOBA_ID": "262",
                                    "SZOBA_SZAMA": "20",
                                    "SZALLAS_NEV": "Bagoly Hotel",
                                    "Panzió-e?": "Nem"
                                },
                                {
                                    "FEROHELY": "2",
                                    "KLIMAS": "i",
                                    "POTAGY": "2",
                                    "SZALLAS_FK": "17",
                                    "SZOBA_ID": "263",
                                    "SZOBA_SZAMA": "1",
                                    "SZALLAS_NEV": "Szarvas Hotel",
                                    "Panzió-e?": "Nem"
                                },
                                {
                                    "FEROHELY": "3",
                                    "KLIMAS": "i",
                                    "POTAGY": "0",
                                    "SZALLAS_FK": "17",
                                    "SZOBA_ID": "264",
                                    "SZOBA_SZAMA": "2",
                                    "SZALLAS_NEV": "Szarvas Hotel",
                                    "Panzió-e?": "Nem"
                                },
                                {
                                    "FEROHELY": "3",
                                    "KLIMAS": "i",
                                    "POTAGY": "0",
                                    "SZALLAS_FK": "17",
                                    "SZOBA_ID": "265",
                                    "SZOBA_SZAMA": "3",
                                    "SZALLAS_NEV": "Szarvas Hotel",
                                    "Panzió-e?": "Nem"
                                },
                                {
                                    "FEROHELY": "2",
                                    "KLIMAS": "i",
                                    "POTAGY": "1",
                                    "SZALLAS_FK": "17",
                                    "SZOBA_ID": "266",
                                    "SZOBA_SZAMA": "4",
                                    "SZALLAS_NEV": "Szarvas Hotel",
                                    "Panzió-e?": "Nem"
                                },
                                {
                                    "FEROHELY": "2",
                                    "KLIMAS": "n",
                                    "POTAGY": "1",
                                    "SZALLAS_FK": "17",
                                    "SZOBA_ID": "267",
                                    "SZOBA_SZAMA": "5",
                                    "SZALLAS_NEV": "Szarvas Hotel",
                                    "Panzió-e?": "Nem"
                                },
                                {
                                    "FEROHELY": "2",
                                    "KLIMAS": "n",
                                    "POTAGY": "2",
                                    "SZALLAS_FK": "17",
                                    "SZOBA_ID": "268",
                                    "SZOBA_SZAMA": "6",
                                    "SZALLAS_NEV": "Szarvas Hotel",
                                    "Panzió-e?": "Nem"
                                },
                                {
                                    "FEROHELY": "2",
                                    "KLIMAS": "i",
                                    "POTAGY": "1",
                                    "SZALLAS_FK": "17",
                                    "SZOBA_ID": "269",
                                    "SZOBA_SZAMA": "7",
                                    "SZALLAS_NEV": "Szarvas Hotel",
                                    "Panzió-e?": "Nem"
                                },
                                {
                                    "FEROHELY": "3",
                                    "KLIMAS": "n",
                                    "POTAGY": "0",
                                    "SZALLAS_FK": "17",
                                    "SZOBA_ID": "270",
                                    "SZOBA_SZAMA": "8",
                                    "SZALLAS_NEV": "Szarvas Hotel",
                                    "Panzió-e?": "Nem"
                                },
                                {
                                    "FEROHELY": "3",
                                    "KLIMAS": "i",
                                    "POTAGY": "0",
                                    "SZALLAS_FK": "17",
                                    "SZOBA_ID": "271",
                                    "SZOBA_SZAMA": "9",
                                    "SZALLAS_NEV": "Szarvas Hotel",
                                    "Panzió-e?": "Nem"
                                },
                                {
                                    "FEROHELY": "3",
                                    "KLIMAS": "i",
                                    "POTAGY": "0",
                                    "SZALLAS_FK": "17",
                                    "SZOBA_ID": "272",
                                    "SZOBA_SZAMA": "10",
                                    "SZALLAS_NEV": "Szarvas Hotel",
                                    "Panzió-e?": "Nem"
                                },
                                {
                                    "FEROHELY": "2",
                                    "KLIMAS": "i",
                                    "POTAGY": "1",
                                    "SZALLAS_FK": "17",
                                    "SZOBA_ID": "273",
                                    "SZOBA_SZAMA": "11",
                                    "SZALLAS_NEV": "Szarvas Hotel",
                                    "Panzió-e?": "Nem"
                                },
                                {
                                    "FEROHELY": "3",
                                    "KLIMAS": "i",
                                    "POTAGY": "1",
                                    "SZALLAS_FK": "17",
                                    "SZOBA_ID": "274",
                                    "SZOBA_SZAMA": "12",
                                    "SZALLAS_NEV": "Szarvas Hotel",
                                    "Panzió-e?": "Nem"
                                },
                                {
                                    "FEROHELY": "2",
                                    "KLIMAS": "n",
                                    "POTAGY": "1",
                                    "SZALLAS_FK": "17",
                                    "SZOBA_ID": "275",
                                    "SZOBA_SZAMA": "13",
                                    "SZALLAS_NEV": "Szarvas Hotel",
                                    "Panzió-e?": "Nem"
                                },
                                {
                                    "FEROHELY": "2",
                                    "KLIMAS": "i",
                                    "POTAGY": "0",
                                    "SZALLAS_FK": "17",
                                    "SZOBA_ID": "276",
                                    "SZOBA_SZAMA": "14",
                                    "SZALLAS_NEV": "Szarvas Hotel",
                                    "Panzió-e?": "Nem"
                                },
                                {
                                    "FEROHELY": "2",
                                    "KLIMAS": "i",
                                    "POTAGY": "0",
                                    "SZALLAS_FK": "17",
                                    "SZOBA_ID": "277",
                                    "SZOBA_SZAMA": "15",
                                    "SZALLAS_NEV": "Szarvas Hotel",
                                    "Panzió-e?": "Nem"
                                },
                                {
                                    "FEROHELY": "3",
                                    "KLIMAS": "i",
                                    "POTAGY": "1",
                                    "SZALLAS_FK": "18",
                                    "SZOBA_ID": "278",
                                    "SZOBA_SZAMA": "1",
                                    "SZALLAS_NEV": "Fortuna Apartman",
                                    "Panzió-e?": "Nem"
                                },
                                {
                                    "FEROHELY": "2",
                                    "KLIMAS": "i",
                                    "POTAGY": "1",
                                    "SZALLAS_FK": "18",
                                    "SZOBA_ID": "279",
                                    "SZOBA_SZAMA": "2",
                                    "SZALLAS_NEV": "Fortuna Apartman",
                                    "Panzió-e?": "Nem"
                                },
                                {
                                    "FEROHELY": "3",
                                    "KLIMAS": "n",
                                    "POTAGY": "0",
                                    "SZALLAS_FK": "18",
                                    "SZOBA_ID": "280",
                                    "SZOBA_SZAMA": "3",
                                    "SZALLAS_NEV": "Fortuna Apartman",
                                    "Panzió-e?": "Nem"
                                },
                                {
                                    "FEROHELY": "2",
                                    "KLIMAS": "n",
                                    "POTAGY": "0",
                                    "SZALLAS_FK": "19",
                                    "SZOBA_ID": "281",
                                    "SZOBA_SZAMA": "1",
                                    "SZALLAS_NEV": "Nyárfás Vendégház",
                                    "Panzió-e?": "Nem"
                                },
                                {
                                    "FEROHELY": "2",
                                    "KLIMAS": "i",
                                    "POTAGY": "0",
                                    "SZALLAS_FK": "19",
                                    "SZOBA_ID": "282",
                                    "SZOBA_SZAMA": "2",
                                    "SZALLAS_NEV": "Nyárfás Vendégház",
                                    "Panzió-e?": "Nem"
                                },
                                {
                                    "FEROHELY": "2",
                                    "KLIMAS": "n",
                                    "POTAGY": "0",
                                    "SZALLAS_FK": "19",
                                    "SZOBA_ID": "283",
                                    "SZOBA_SZAMA": "3",
                                    "SZALLAS_NEV": "Nyárfás Vendégház",
                                    "Panzió-e?": "Nem"
                                },
                                {
                                    "FEROHELY": "2",
                                    "KLIMAS": "i",
                                    "POTAGY": "2",
                                    "SZALLAS_FK": "19",
                                    "SZOBA_ID": "284",
                                    "SZOBA_SZAMA": "4",
                                    "SZALLAS_NEV": "Nyárfás Vendégház",
                                    "Panzió-e?": "Nem"
                                },
                                {
                                    "FEROHELY": "2",
                                    "KLIMAS": "i",
                                    "POTAGY": "1",
                                    "SZALLAS_FK": "20",
                                    "SZOBA_ID": "285",
                                    "SZOBA_SZAMA": "1",
                                    "SZALLAS_NEV": "Kollégium",
                                    "Panzió-e?": "Nem"
                                },
                                {
                                    "FEROHELY": "3",
                                    "KLIMAS": "i",
                                    "POTAGY": "0",
                                    "SZALLAS_FK": "20",
                                    "SZOBA_ID": "286",
                                    "SZOBA_SZAMA": "2",
                                    "SZALLAS_NEV": "Kollégium",
                                    "Panzió-e?": "Nem"
                                },
                                {
                                    "FEROHELY": "3",
                                    "KLIMAS": "n",
                                    "POTAGY": "0",
                                    "SZALLAS_FK": "20",
                                    "SZOBA_ID": "287",
                                    "SZOBA_SZAMA": "3",
                                    "SZALLAS_NEV": "Kollégium",
                                    "Panzió-e?": "Nem"
                                },
                                {
                                    "FEROHELY": "2",
                                    "KLIMAS": "i",
                                    "POTAGY": "1",
                                    "SZALLAS_FK": "20",
                                    "SZOBA_ID": "288",
                                    "SZOBA_SZAMA": "4",
                                    "SZALLAS_NEV": "Kollégium",
                                    "Panzió-e?": "Nem"
                                },
                                {
                                    "FEROHELY": "3",
                                    "KLIMAS": "i",
                                    "POTAGY": "0",
                                    "SZALLAS_FK": "20",
                                    "SZOBA_ID": "289",
                                    "SZOBA_SZAMA": "5",
                                    "SZALLAS_NEV": "Kollégium",
                                    "Panzió-e?": "Nem"
                                },
                                {
                                    "FEROHELY": "2",
                                    "KLIMAS": "i",
                                    "POTAGY": "1",
                                    "SZALLAS_FK": "20",
                                    "SZOBA_ID": "290",
                                    "SZOBA_SZAMA": "6",
                                    "SZALLAS_NEV": "Kollégium",
                                    "Panzió-e?": "Nem"
                                },
                                {
                                    "FEROHELY": "2",
                                    "KLIMAS": "i",
                                    "POTAGY": "1",
                                    "SZALLAS_FK": "20",
                                    "SZOBA_ID": "291",
                                    "SZOBA_SZAMA": "7",
                                    "SZALLAS_NEV": "Kollégium",
                                    "Panzió-e?": "Nem"
                                },
                                {
                                    "FEROHELY": "2",
                                    "KLIMAS": "i",
                                    "POTAGY": "1",
                                    "SZALLAS_FK": "20",
                                    "SZOBA_ID": "292",
                                    "SZOBA_SZAMA": "8",
                                    "SZALLAS_NEV": "Kollégium",
                                    "Panzió-e?": "Nem"
                                },
                                {
                                    "FEROHELY": "2",
                                    "KLIMAS": "i",
                                    "POTAGY": "1",
                                    "SZALLAS_FK": "20",
                                    "SZOBA_ID": "293",
                                    "SZOBA_SZAMA": "9",
                                    "SZALLAS_NEV": "Kollégium",
                                    "Panzió-e?": "Nem"
                                },
                                {
                                    "FEROHELY": "3",
                                    "KLIMAS": "i",
                                    "POTAGY": "0",
                                    "SZALLAS_FK": "20",
                                    "SZOBA_ID": "294",
                                    "SZOBA_SZAMA": "10",
                                    "SZALLAS_NEV": "Kollégium",
                                    "Panzió-e?": "Nem"
                                }
                            ]
                        },
                        "text/html": [
                            "<table>",
                            "<tr><th>FEROHELY</th><th>KLIMAS</th><th>POTAGY</th><th>SZALLAS_FK</th><th>SZOBA_ID</th><th>SZOBA_SZAMA</th><th>SZALLAS_NEV</th><th>Panzió-e?</th></tr>",
                            "<tr><td>3</td><td>n</td><td>1</td><td>10</td><td>159</td><td>25</td><td>Lagúna Hotel</td><td>Nem</td></tr>",
                            "<tr><td>3</td><td>i</td><td>2</td><td>12</td><td>199</td><td>35</td><td>Gold Hotel</td><td>Nem</td></tr>",
                            "<tr><td>2</td><td>i</td><td>0</td><td>12</td><td>200</td><td>36</td><td>Gold Hotel</td><td>Nem</td></tr>",
                            "<tr><td>3</td><td>n</td><td>1</td><td>12</td><td>201</td><td>37</td><td>Gold Hotel</td><td>Nem</td></tr>",
                            "<tr><td>3</td><td>i</td><td>1</td><td>12</td><td>202</td><td>38</td><td>Gold Hotel</td><td>Nem</td></tr>",
                            "<tr><td>3</td><td>i</td><td>0</td><td>12</td><td>203</td><td>39</td><td>Gold Hotel</td><td>Nem</td></tr>",
                            "<tr><td>3</td><td>i</td><td>1</td><td>12</td><td>204</td><td>40</td><td>Gold Hotel</td><td>Nem</td></tr>",
                            "<tr><td>3</td><td>i</td><td>0</td><td>12</td><td>205</td><td>41</td><td>Gold Hotel</td><td>Nem</td></tr>",
                            "<tr><td>2</td><td>i</td><td>1</td><td>12</td><td>206</td><td>42</td><td>Gold Hotel</td><td>Nem</td></tr>",
                            "<tr><td>2</td><td>i</td><td>1</td><td>12</td><td>207</td><td>43</td><td>Gold Hotel</td><td>Nem</td></tr>",
                            "<tr><td>2</td><td>i</td><td>1</td><td>12</td><td>208</td><td>44</td><td>Gold Hotel</td><td>Nem</td></tr>",
                            "<tr><td>3</td><td>n</td><td>2</td><td>12</td><td>209</td><td>45</td><td>Gold Hotel</td><td>Nem</td></tr>",
                            "<tr><td>2</td><td>i</td><td>0</td><td>12</td><td>210</td><td>46</td><td>Gold Hotel</td><td>Nem</td></tr>",
                            "<tr><td>2</td><td>i</td><td>1</td><td>12</td><td>211</td><td>47</td><td>Gold Hotel</td><td>Nem</td></tr>",
                            "<tr><td>3</td><td>n</td><td>0</td><td>12</td><td>212</td><td>48</td><td>Gold Hotel</td><td>Nem</td></tr>",
                            "<tr><td>3</td><td>i</td><td>0</td><td>12</td><td>213</td><td>49</td><td>Gold Hotel</td><td>Nem</td></tr>",
                            "<tr><td>3</td><td>i</td><td>1</td><td>12</td><td>214</td><td>50</td><td>Gold Hotel</td><td>Nem</td></tr>",
                            "<tr><td>2</td><td>i</td><td>1</td><td>13</td><td>215</td><td>1</td><td>Riviéra Panzió</td><td>Igen</td></tr>",
                            "<tr><td>3</td><td>i</td><td>1</td><td>13</td><td>216</td><td>2</td><td>Riviéra Panzió</td><td>Igen</td></tr>",
                            "<tr><td>2</td><td>n</td><td>1</td><td>13</td><td>217</td><td>3</td><td>Riviéra Panzió</td><td>Igen</td></tr>",
                            "<tr><td>3</td><td>i</td><td>0</td><td>13</td><td>218</td><td>4</td><td>Riviéra Panzió</td><td>Igen</td></tr>",
                            "<tr><td>2</td><td>n</td><td>0</td><td>13</td><td>219</td><td>5</td><td>Riviéra Panzió</td><td>Igen</td></tr>",
                            "<tr><td>3</td><td>i</td><td>0</td><td>13</td><td>220</td><td>6</td><td>Riviéra Panzió</td><td>Igen</td></tr>",
                            "<tr><td>3</td><td>i</td><td>0</td><td>13</td><td>221</td><td>7</td><td>Riviéra Panzió</td><td>Igen</td></tr>",
                            "<tr><td>2</td><td>n</td><td>0</td><td>13</td><td>222</td><td>8</td><td>Riviéra Panzió</td><td>Igen</td></tr>",
                            "<tr><td>2</td><td>i</td><td>1</td><td>13</td><td>223</td><td>9</td><td>Riviéra Panzió</td><td>Igen</td></tr>",
                            "<tr><td>2</td><td>i</td><td>0</td><td>13</td><td>224</td><td>10</td><td>Riviéra Panzió</td><td>Igen</td></tr>",
                            "<tr><td>2</td><td>i</td><td>1</td><td>13</td><td>225</td><td>11</td><td>Riviéra Panzió</td><td>Igen</td></tr>",
                            "<tr><td>3</td><td>n</td><td>1</td><td>13</td><td>226</td><td>12</td><td>Riviéra Panzió</td><td>Igen</td></tr>",
                            "<tr><td>2</td><td>i</td><td>1</td><td>14</td><td>227</td><td>1</td><td>Nyárfás Vendégház</td><td>Nem</td></tr>",
                            "<tr><td>3</td><td>i</td><td>0</td><td>14</td><td>228</td><td>2</td><td>Nyárfás Vendégház</td><td>Nem</td></tr>",
                            "<tr><td>2</td><td>i</td><td>0</td><td>14</td><td>229</td><td>3</td><td>Nyárfás Vendégház</td><td>Nem</td></tr>",
                            "<tr><td>3</td><td>i</td><td>2</td><td>14</td><td>230</td><td>4</td><td>Nyárfás Vendégház</td><td>Nem</td></tr>",
                            "<tr><td>2</td><td>i</td><td>0</td><td>15</td><td>231</td><td>1</td><td>Tímárház Panzió</td><td>Igen</td></tr>",
                            "<tr><td>2</td><td>i</td><td>0</td><td>15</td><td>232</td><td>2</td><td>Tímárház Panzió</td><td>Igen</td></tr>",
                            "<tr><td>3</td><td>n</td><td>0</td><td>15</td><td>233</td><td>3</td><td>Tímárház Panzió</td><td>Igen</td></tr>",
                            "<tr><td>3</td><td>i</td><td>1</td><td>15</td><td>234</td><td>4</td><td>Tímárház Panzió</td><td>Igen</td></tr>",
                            "<tr><td>3</td><td>i</td><td>0</td><td>15</td><td>235</td><td>5</td><td>Tímárház Panzió</td><td>Igen</td></tr>",
                            "<tr><td>3</td><td>n</td><td>1</td><td>15</td><td>236</td><td>6</td><td>Tímárház Panzió</td><td>Igen</td></tr>",
                            "<tr><td>2</td><td>n</td><td>2</td><td>15</td><td>237</td><td>7</td><td>Tímárház Panzió</td><td>Igen</td></tr>",
                            "<tr><td>3</td><td>i</td><td>1</td><td>15</td><td>238</td><td>8</td><td>Tímárház Panzió</td><td>Igen</td></tr>",
                            "<tr><td>2</td><td>i</td><td>2</td><td>15</td><td>239</td><td>9</td><td>Tímárház Panzió</td><td>Igen</td></tr>",
                            "<tr><td>3</td><td>i</td><td>0</td><td>15</td><td>240</td><td>10</td><td>Tímárház Panzió</td><td>Igen</td></tr>",
                            "<tr><td>2</td><td>i</td><td>0</td><td>15</td><td>241</td><td>11</td><td>Tímárház Panzió</td><td>Igen</td></tr>",
                            "<tr><td>2</td><td>i</td><td>1</td><td>15</td><td>242</td><td>12</td><td>Tímárház Panzió</td><td>Igen</td></tr>",
                            "<tr><td>2</td><td>i</td><td>0</td><td>16</td><td>243</td><td>1</td><td>Bagoly Hotel</td><td>Nem</td></tr>",
                            "<tr><td>2</td><td>i</td><td>1</td><td>16</td><td>244</td><td>2</td><td>Bagoly Hotel</td><td>Nem</td></tr>",
                            "<tr><td>2</td><td>i</td><td>1</td><td>16</td><td>245</td><td>3</td><td>Bagoly Hotel</td><td>Nem</td></tr>",
                            "<tr><td>2</td><td>i</td><td>0</td><td>16</td><td>246</td><td>4</td><td>Bagoly Hotel</td><td>Nem</td></tr>",
                            "<tr><td>2</td><td>i</td><td>0</td><td>16</td><td>247</td><td>5</td><td>Bagoly Hotel</td><td>Nem</td></tr>",
                            "<tr><td>2</td><td>i</td><td>2</td><td>16</td><td>248</td><td>6</td><td>Bagoly Hotel</td><td>Nem</td></tr>",
                            "<tr><td>2</td><td>n</td><td>1</td><td>16</td><td>249</td><td>7</td><td>Bagoly Hotel</td><td>Nem</td></tr>",
                            "<tr><td>3</td><td>n</td><td>1</td><td>16</td><td>250</td><td>8</td><td>Bagoly Hotel</td><td>Nem</td></tr>",
                            "<tr><td>3</td><td>n</td><td>0</td><td>16</td><td>251</td><td>9</td><td>Bagoly Hotel</td><td>Nem</td></tr>",
                            "<tr><td>3</td><td>i</td><td>1</td><td>16</td><td>252</td><td>10</td><td>Bagoly Hotel</td><td>Nem</td></tr>",
                            "<tr><td>2</td><td>i</td><td>0</td><td>16</td><td>253</td><td>11</td><td>Bagoly Hotel</td><td>Nem</td></tr>",
                            "<tr><td>2</td><td>i</td><td>0</td><td>16</td><td>254</td><td>12</td><td>Bagoly Hotel</td><td>Nem</td></tr>",
                            "<tr><td>3</td><td>n</td><td>0</td><td>16</td><td>255</td><td>13</td><td>Bagoly Hotel</td><td>Nem</td></tr>",
                            "<tr><td>3</td><td>i</td><td>1</td><td>16</td><td>256</td><td>14</td><td>Bagoly Hotel</td><td>Nem</td></tr>",
                            "<tr><td>2</td><td>i</td><td>0</td><td>16</td><td>257</td><td>15</td><td>Bagoly Hotel</td><td>Nem</td></tr>",
                            "<tr><td>2</td><td>i</td><td>0</td><td>16</td><td>258</td><td>16</td><td>Bagoly Hotel</td><td>Nem</td></tr>",
                            "<tr><td>2</td><td>i</td><td>0</td><td>16</td><td>259</td><td>17</td><td>Bagoly Hotel</td><td>Nem</td></tr>",
                            "<tr><td>2</td><td>i</td><td>0</td><td>16</td><td>260</td><td>18</td><td>Bagoly Hotel</td><td>Nem</td></tr>",
                            "<tr><td>1</td><td>n</td><td>1</td><td>16</td><td>261</td><td>19</td><td>Bagoly Hotel</td><td>Nem</td></tr>",
                            "<tr><td>1</td><td>n</td><td>0</td><td>16</td><td>262</td><td>20</td><td>Bagoly Hotel</td><td>Nem</td></tr>",
                            "<tr><td>2</td><td>i</td><td>2</td><td>17</td><td>263</td><td>1</td><td>Szarvas Hotel</td><td>Nem</td></tr>",
                            "<tr><td>3</td><td>i</td><td>0</td><td>17</td><td>264</td><td>2</td><td>Szarvas Hotel</td><td>Nem</td></tr>",
                            "<tr><td>3</td><td>i</td><td>0</td><td>17</td><td>265</td><td>3</td><td>Szarvas Hotel</td><td>Nem</td></tr>",
                            "<tr><td>2</td><td>i</td><td>1</td><td>17</td><td>266</td><td>4</td><td>Szarvas Hotel</td><td>Nem</td></tr>",
                            "<tr><td>2</td><td>n</td><td>1</td><td>17</td><td>267</td><td>5</td><td>Szarvas Hotel</td><td>Nem</td></tr>",
                            "<tr><td>2</td><td>n</td><td>2</td><td>17</td><td>268</td><td>6</td><td>Szarvas Hotel</td><td>Nem</td></tr>",
                            "<tr><td>2</td><td>i</td><td>1</td><td>17</td><td>269</td><td>7</td><td>Szarvas Hotel</td><td>Nem</td></tr>",
                            "<tr><td>3</td><td>n</td><td>0</td><td>17</td><td>270</td><td>8</td><td>Szarvas Hotel</td><td>Nem</td></tr>",
                            "<tr><td>3</td><td>i</td><td>0</td><td>17</td><td>271</td><td>9</td><td>Szarvas Hotel</td><td>Nem</td></tr>",
                            "<tr><td>3</td><td>i</td><td>0</td><td>17</td><td>272</td><td>10</td><td>Szarvas Hotel</td><td>Nem</td></tr>",
                            "<tr><td>2</td><td>i</td><td>1</td><td>17</td><td>273</td><td>11</td><td>Szarvas Hotel</td><td>Nem</td></tr>",
                            "<tr><td>3</td><td>i</td><td>1</td><td>17</td><td>274</td><td>12</td><td>Szarvas Hotel</td><td>Nem</td></tr>",
                            "<tr><td>2</td><td>n</td><td>1</td><td>17</td><td>275</td><td>13</td><td>Szarvas Hotel</td><td>Nem</td></tr>",
                            "<tr><td>2</td><td>i</td><td>0</td><td>17</td><td>276</td><td>14</td><td>Szarvas Hotel</td><td>Nem</td></tr>",
                            "<tr><td>2</td><td>i</td><td>0</td><td>17</td><td>277</td><td>15</td><td>Szarvas Hotel</td><td>Nem</td></tr>",
                            "<tr><td>3</td><td>i</td><td>1</td><td>18</td><td>278</td><td>1</td><td>Fortuna Apartman</td><td>Nem</td></tr>",
                            "<tr><td>2</td><td>i</td><td>1</td><td>18</td><td>279</td><td>2</td><td>Fortuna Apartman</td><td>Nem</td></tr>",
                            "<tr><td>3</td><td>n</td><td>0</td><td>18</td><td>280</td><td>3</td><td>Fortuna Apartman</td><td>Nem</td></tr>",
                            "<tr><td>2</td><td>n</td><td>0</td><td>19</td><td>281</td><td>1</td><td>Nyárfás Vendégház</td><td>Nem</td></tr>",
                            "<tr><td>2</td><td>i</td><td>0</td><td>19</td><td>282</td><td>2</td><td>Nyárfás Vendégház</td><td>Nem</td></tr>",
                            "<tr><td>2</td><td>n</td><td>0</td><td>19</td><td>283</td><td>3</td><td>Nyárfás Vendégház</td><td>Nem</td></tr>",
                            "<tr><td>2</td><td>i</td><td>2</td><td>19</td><td>284</td><td>4</td><td>Nyárfás Vendégház</td><td>Nem</td></tr>",
                            "<tr><td>2</td><td>i</td><td>1</td><td>20</td><td>285</td><td>1</td><td>Kollégium</td><td>Nem</td></tr>",
                            "<tr><td>3</td><td>i</td><td>0</td><td>20</td><td>286</td><td>2</td><td>Kollégium</td><td>Nem</td></tr>",
                            "<tr><td>3</td><td>n</td><td>0</td><td>20</td><td>287</td><td>3</td><td>Kollégium</td><td>Nem</td></tr>",
                            "<tr><td>2</td><td>i</td><td>1</td><td>20</td><td>288</td><td>4</td><td>Kollégium</td><td>Nem</td></tr>",
                            "<tr><td>3</td><td>i</td><td>0</td><td>20</td><td>289</td><td>5</td><td>Kollégium</td><td>Nem</td></tr>",
                            "<tr><td>2</td><td>i</td><td>1</td><td>20</td><td>290</td><td>6</td><td>Kollégium</td><td>Nem</td></tr>",
                            "<tr><td>2</td><td>i</td><td>1</td><td>20</td><td>291</td><td>7</td><td>Kollégium</td><td>Nem</td></tr>",
                            "<tr><td>2</td><td>i</td><td>1</td><td>20</td><td>292</td><td>8</td><td>Kollégium</td><td>Nem</td></tr>",
                            "<tr><td>2</td><td>i</td><td>1</td><td>20</td><td>293</td><td>9</td><td>Kollégium</td><td>Nem</td></tr>",
                            "<tr><td>3</td><td>i</td><td>0</td><td>20</td><td>294</td><td>10</td><td>Kollégium</td><td>Nem</td></tr>",
                            "</table>"
                        ]
                    }
                }
            ],
            "execution_count": 34
        }
    ]
}