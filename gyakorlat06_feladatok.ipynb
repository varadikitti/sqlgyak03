{
    "metadata": {
        "kernelspec": {
            "name": "SQL",
            "display_name": "SQL",
            "language": "sql"
        },
        "language_info": {
            "name": "sql",
            "version": ""
        }
    },
    "nbformat_minor": 2,
    "nbformat": 4,
    "cells": [
        {
            "cell_type": "markdown",
            "source": [
                "1. <span style=\"background-color: rgb(255, 255, 255); color: rgb(0, 0, 0); font-family: &quot;Open Sans&quot;, sans-serif; font-size: 14.44px;\">Készítsünk sorszámozott listát a szálláshelyek adatairól!&nbsp;</span> \n",
                "\n",
                "a. A lista legyen a szálláshely típusa szerint, azon belül hely szerint, majd a neve szerint növekvően rendezve! \n",
                "\n",
                "b. A számozás típusonként kezdődjön újra!"
            ],
            "metadata": {
                "azdata_cell_guid": "363cd270-6577-449b-9c89-d4b7c7972d52"
            },
            "attachments": {}
        },
        {
            "cell_type": "code",
            "source": [
                "-- ROW_NUMBER() fv\r\n",
                "\r\n",
                "SELECT ROW_NUMBER() OVER(PARTITION BY tipus\r\n",
                "                    ORDER BY tipus, hely, szallas_nev) AS 'Sorszám',\r\n",
                "        *\r\n",
                "FROM szallashely\r\n",
                "--biztosan lesz a zhban: részösszeg, amit ma tanulunk, analitikus/over "
            ],
            "metadata": {
                "azdata_cell_guid": "6ab9f633-a3b5-48c9-a1dc-4fb8235ae85b",
                "language": "sql",
                "tags": []
            },
            "outputs": [
                {
                    "output_type": "display_data",
                    "data": {
                        "text/html": "(21 rows affected)"
                    },
                    "metadata": {}
                },
                {
                    "output_type": "display_data",
                    "data": {
                        "text/html": "Total execution time: 00:00:00.076"
                    },
                    "metadata": {}
                },
                {
                    "output_type": "execute_result",
                    "metadata": {},
                    "execution_count": 1,
                    "data": {
                        "application/vnd.dataresource+json": {
                            "schema": {
                                "fields": [
                                    {
                                        "name": "Sorszám"
                                    },
                                    {
                                        "name": "SZALLAS_ID"
                                    },
                                    {
                                        "name": "SZALLAS_NEV"
                                    },
                                    {
                                        "name": "HELY"
                                    },
                                    {
                                        "name": "CSILLAGOK_SZAMA"
                                    },
                                    {
                                        "name": "TIPUS"
                                    },
                                    {
                                        "name": "ROGZITETTE"
                                    },
                                    {
                                        "name": "ROGZ_IDO"
                                    },
                                    {
                                        "name": "CIM"
                                    }
                                ]
                            },
                            "data": [
                                {
                                    "Sorszám": "1",
                                    "SZALLAS_ID": "7",
                                    "SZALLAS_NEV": "Szieszta Apartmanház",
                                    "HELY": "Balaton-dél",
                                    "CSILLAGOK_SZAMA": "0",
                                    "TIPUS": "Apartman",
                                    "ROGZITETTE": "Mari",
                                    "ROGZ_IDO": "2016-03-11",
                                    "CIM": "8630 Balatonboglár, Dózsa György utca 108"
                                },
                                {
                                    "Sorszám": "2",
                                    "SZALLAS_ID": "18",
                                    "SZALLAS_NEV": "Fortuna Apartman",
                                    "HELY": "Dél-Somogy",
                                    "CSILLAGOK_SZAMA": "0",
                                    "TIPUS": "Apartman",
                                    "ROGZITETTE": "Béla",
                                    "ROGZ_IDO": "2016-04-07",
                                    "CIM": "7570 Barcs, Kossuth u. 13."
                                },
                                {
                                    "Sorszám": "3",
                                    "SZALLAS_ID": "3",
                                    "SZALLAS_NEV": "Fortuna Apartman",
                                    "HELY": "Hajdúbihar megye",
                                    "CSILLAGOK_SZAMA": "0",
                                    "TIPUS": "Apartman",
                                    "ROGZITETTE": "Sára",
                                    "ROGZ_IDO": "2016-03-06",
                                    "CIM": "4200 Hajdúszoboszló, Wesselényi utca 56."
                                },
                                {
                                    "Sorszám": "1",
                                    "SZALLAS_ID": "20",
                                    "SZALLAS_NEV": "Kollégium",
                                    "HELY": "Budapest",
                                    "CSILLAGOK_SZAMA": "0",
                                    "TIPUS": "Diákszálló",
                                    "ROGZITETTE": "Sára",
                                    "ROGZ_IDO": "2016-04-07",
                                    "CIM": "1146 Budapest, Ajtósi Dürer sor 23."
                                },
                                {
                                    "Sorszám": "1",
                                    "SZALLAS_ID": "8",
                                    "SZALLAS_NEV": "Hotel Három Hattyú",
                                    "HELY": "Balaton-dél",
                                    "CSILLAGOK_SZAMA": "4",
                                    "TIPUS": "Hotel",
                                    "ROGZITETTE": "Béla",
                                    "ROGZ_IDO": "2016-03-13",
                                    "CIM": "8623 Balatonföldvár, Rákóczi Ferenc út 45."
                                },
                                {
                                    "Sorszám": "2",
                                    "SZALLAS_ID": "6",
                                    "SZALLAS_NEV": "Kentaur Hotel",
                                    "HELY": "Balaton-dél",
                                    "CSILLAGOK_SZAMA": "3",
                                    "TIPUS": "Hotel",
                                    "ROGZITETTE": "Béla",
                                    "ROGZ_IDO": "2016-03-08",
                                    "CIM": "8600 Siófok (Széplak), Akácfa utca 1"
                                },
                                {
                                    "Sorszám": "3",
                                    "SZALLAS_ID": "12",
                                    "SZALLAS_NEV": "Gold Hotel",
                                    "HELY": "Budapest",
                                    "CSILLAGOK_SZAMA": "3",
                                    "TIPUS": "Hotel",
                                    "ROGZITETTE": "Béla",
                                    "ROGZ_IDO": "2016-03-24",
                                    "CIM": "1016 Budapest, Hegyalja út 12"
                                },
                                {
                                    "Sorszám": "4",
                                    "SZALLAS_ID": "10",
                                    "SZALLAS_NEV": "Lagúna Hotel",
                                    "HELY": "Budapest",
                                    "CSILLAGOK_SZAMA": "4",
                                    "TIPUS": "Hotel",
                                    "ROGZITETTE": "Sára",
                                    "ROGZ_IDO": "2016-03-20",
                                    "CIM": "1097 Budapest, Albert Flórián út 3"
                                },
                                {
                                    "Sorszám": "5",
                                    "SZALLAS_ID": "16",
                                    "SZALLAS_NEV": "Bagoly Hotel",
                                    "HELY": "Pest megye",
                                    "CSILLAGOK_SZAMA": "3",
                                    "TIPUS": "Hotel",
                                    "ROGZITETTE": "Mari",
                                    "ROGZ_IDO": "2016-04-01",
                                    "CIM": "2230 Gyömrő, Bergszász u. 5."
                                },
                                {
                                    "Sorszám": "6",
                                    "SZALLAS_ID": "17",
                                    "SZALLAS_NEV": "Szarvas Hotel",
                                    "HELY": "Tolna megye",
                                    "CSILLAGOK_SZAMA": "4",
                                    "TIPUS": "Hotel",
                                    "ROGZITETTE": "Béla",
                                    "ROGZ_IDO": "2016-04-04",
                                    "CIM": "7121 Szálka, Petőfi Sándor u."
                                },
                                {
                                    "Sorszám": "1",
                                    "SZALLAS_ID": "9",
                                    "SZALLAS_NEV": "Jáde panzió",
                                    "HELY": "Balaton-dél",
                                    "CSILLAGOK_SZAMA": "3",
                                    "TIPUS": "panzió",
                                    "ROGZITETTE": "Mari",
                                    "ROGZ_IDO": "2016-03-16",
                                    "CIM": "8624 Balatonföldvár, Kiss u.2."
                                },
                                {
                                    "Sorszám": "2",
                                    "SZALLAS_ID": "15",
                                    "SZALLAS_NEV": "Tímárház Panzió",
                                    "HELY": "Balaton-dél",
                                    "CSILLAGOK_SZAMA": "3",
                                    "TIPUS": "panzió",
                                    "ROGZITETTE": "Béla",
                                    "ROGZ_IDO": "2016-03-29",
                                    "CIM": "8600 Siófok, Virág utca 1"
                                },
                                {
                                    "Sorszám": "3",
                                    "SZALLAS_ID": "5",
                                    "SZALLAS_NEV": "Fortuna Panzió",
                                    "HELY": "Békés megye",
                                    "CSILLAGOK_SZAMA": "3",
                                    "TIPUS": "panzió",
                                    "ROGZITETTE": "Sára",
                                    "ROGZ_IDO": "2016-03-08",
                                    "CIM": "5900 Orosháza, Gyopárosfürdő Tópart utca 3."
                                },
                                {
                                    "Sorszám": "4",
                                    "SZALLAS_ID": "4",
                                    "SZALLAS_NEV": "Fortuna panzió",
                                    "HELY": "Budapest",
                                    "CSILLAGOK_SZAMA": "3",
                                    "TIPUS": "panzió",
                                    "ROGZITETTE": "Béla",
                                    "ROGZ_IDO": "2016-03-07",
                                    "CIM": "1019 Budapest XIV. Cinkotai út 86."
                                },
                                {
                                    "Sorszám": "5",
                                    "SZALLAS_ID": "13",
                                    "SZALLAS_NEV": "Riviéra Panzió",
                                    "HELY": "Csongrád megye",
                                    "CSILLAGOK_SZAMA": "3",
                                    "TIPUS": "panzió",
                                    "ROGZITETTE": "Sára",
                                    "ROGZ_IDO": "2016-03-27",
                                    "CIM": "6722 Szeged, Petőfi Sándor út 3."
                                },
                                {
                                    "Sorszám": "1",
                                    "SZALLAS_ID": "2",
                                    "SZALLAS_NEV": "Családi Ház",
                                    "HELY": "Balaton-dél",
                                    "CSILLAGOK_SZAMA": "0",
                                    "TIPUS": "vendégház",
                                    "ROGZITETTE": "Béla",
                                    "ROGZ_IDO": "2016-03-02",
                                    "CIM": "8630 Balatonboglár, József Attila utca 25"
                                },
                                {
                                    "Sorszám": "2",
                                    "SZALLAS_ID": "1",
                                    "SZALLAS_NEV": "Sába-Ház",
                                    "HELY": "Balaton-dél",
                                    "CSILLAGOK_SZAMA": "0",
                                    "TIPUS": "vendégház",
                                    "ROGZITETTE": "Béla",
                                    "ROGZ_IDO": "2016-02-28",
                                    "CIM": "8630 Balatonboglár, Radnóti Miklós utca 8"
                                },
                                {
                                    "Sorszám": "3",
                                    "SZALLAS_ID": "11",
                                    "SZALLAS_NEV": "Partiszél Vendégház",
                                    "HELY": "Balaton-észak",
                                    "CSILLAGOK_SZAMA": "0",
                                    "TIPUS": "vendégház",
                                    "ROGZITETTE": "Béla",
                                    "ROGZ_IDO": "2016-03-22",
                                    "CIM": "8220 Balatonalmádi Neptun u. 23."
                                },
                                {
                                    "Sorszám": "4",
                                    "SZALLAS_ID": "14",
                                    "SZALLAS_NEV": "Nyárfás Vendégház",
                                    "HELY": "Csongrád megye",
                                    "CSILLAGOK_SZAMA": "0",
                                    "TIPUS": "vendégház",
                                    "ROGZITETTE": "Béla",
                                    "ROGZ_IDO": "2016-03-27",
                                    "CIM": "6723 Szeged, Nagy u. 12."
                                },
                                {
                                    "Sorszám": "5",
                                    "SZALLAS_ID": "21",
                                    "SZALLAS_NEV": "Müller Vendégház",
                                    "HELY": "Dél-Somogy",
                                    "CSILLAGOK_SZAMA": "0",
                                    "TIPUS": "vendégház",
                                    "ROGZITETTE": "Béla",
                                    "ROGZ_IDO": "2016-04-07",
                                    "CIM": "7570 Barcs, Magyar u. 10."
                                },
                                {
                                    "Sorszám": "6",
                                    "SZALLAS_ID": "19",
                                    "SZALLAS_NEV": "Nyárfás Vendégház",
                                    "HELY": "Dél-Somogy",
                                    "CSILLAGOK_SZAMA": "0",
                                    "TIPUS": "vendégház",
                                    "ROGZITETTE": "Sára",
                                    "ROGZ_IDO": "2016-04-07",
                                    "CIM": "7570 Barcs, Bajcsy-Zs. u. 53"
                                }
                            ]
                        },
                        "text/html": [
                            "<table>",
                            "<tr><th>Sorszám</th><th>SZALLAS_ID</th><th>SZALLAS_NEV</th><th>HELY</th><th>CSILLAGOK_SZAMA</th><th>TIPUS</th><th>ROGZITETTE</th><th>ROGZ_IDO</th><th>CIM</th></tr>",
                            "<tr><td>1</td><td>7</td><td>Szieszta Apartmanház</td><td>Balaton-dél</td><td>0</td><td>Apartman</td><td>Mari</td><td>2016-03-11</td><td>8630 Balatonboglár, Dózsa György utca 108</td></tr>",
                            "<tr><td>2</td><td>18</td><td>Fortuna Apartman</td><td>Dél-Somogy</td><td>0</td><td>Apartman</td><td>Béla</td><td>2016-04-07</td><td>7570 Barcs, Kossuth u. 13.</td></tr>",
                            "<tr><td>3</td><td>3</td><td>Fortuna Apartman</td><td>Hajdúbihar megye</td><td>0</td><td>Apartman</td><td>Sára</td><td>2016-03-06</td><td>4200 Hajdúszoboszló, Wesselényi utca 56.</td></tr>",
                            "<tr><td>1</td><td>20</td><td>Kollégium</td><td>Budapest</td><td>0</td><td>Diákszálló</td><td>Sára</td><td>2016-04-07</td><td>1146 Budapest, Ajtósi Dürer sor 23.</td></tr>",
                            "<tr><td>1</td><td>8</td><td>Hotel Három Hattyú</td><td>Balaton-dél</td><td>4</td><td>Hotel</td><td>Béla</td><td>2016-03-13</td><td>8623 Balatonföldvár, Rákóczi Ferenc út 45.</td></tr>",
                            "<tr><td>2</td><td>6</td><td>Kentaur Hotel</td><td>Balaton-dél</td><td>3</td><td>Hotel</td><td>Béla</td><td>2016-03-08</td><td>8600 Siófok (Széplak), Akácfa utca 1</td></tr>",
                            "<tr><td>3</td><td>12</td><td>Gold Hotel</td><td>Budapest</td><td>3</td><td>Hotel</td><td>Béla</td><td>2016-03-24</td><td>1016 Budapest, Hegyalja út 12</td></tr>",
                            "<tr><td>4</td><td>10</td><td>Lagúna Hotel</td><td>Budapest</td><td>4</td><td>Hotel</td><td>Sára</td><td>2016-03-20</td><td>1097 Budapest, Albert Flórián út 3</td></tr>",
                            "<tr><td>5</td><td>16</td><td>Bagoly Hotel</td><td>Pest megye</td><td>3</td><td>Hotel</td><td>Mari</td><td>2016-04-01</td><td>2230 Gyömrő, Bergszász u. 5.</td></tr>",
                            "<tr><td>6</td><td>17</td><td>Szarvas Hotel</td><td>Tolna megye</td><td>4</td><td>Hotel</td><td>Béla</td><td>2016-04-04</td><td>7121 Szálka, Petőfi Sándor u.</td></tr>",
                            "<tr><td>1</td><td>9</td><td>Jáde panzió</td><td>Balaton-dél</td><td>3</td><td>panzió</td><td>Mari</td><td>2016-03-16</td><td>8624 Balatonföldvár, Kiss u.2.</td></tr>",
                            "<tr><td>2</td><td>15</td><td>Tímárház Panzió</td><td>Balaton-dél</td><td>3</td><td>panzió</td><td>Béla</td><td>2016-03-29</td><td>8600 Siófok, Virág utca 1</td></tr>",
                            "<tr><td>3</td><td>5</td><td>Fortuna Panzió</td><td>Békés megye</td><td>3</td><td>panzió</td><td>Sára</td><td>2016-03-08</td><td>5900 Orosháza, Gyopárosfürdő Tópart utca 3.</td></tr>",
                            "<tr><td>4</td><td>4</td><td>Fortuna panzió</td><td>Budapest</td><td>3</td><td>panzió</td><td>Béla</td><td>2016-03-07</td><td>1019 Budapest XIV. Cinkotai út 86.</td></tr>",
                            "<tr><td>5</td><td>13</td><td>Riviéra Panzió</td><td>Csongrád megye</td><td>3</td><td>panzió</td><td>Sára</td><td>2016-03-27</td><td>6722 Szeged, Petőfi Sándor út 3.</td></tr>",
                            "<tr><td>1</td><td>2</td><td>Családi Ház</td><td>Balaton-dél</td><td>0</td><td>vendégház</td><td>Béla</td><td>2016-03-02</td><td>8630 Balatonboglár, József Attila utca 25</td></tr>",
                            "<tr><td>2</td><td>1</td><td>Sába-Ház</td><td>Balaton-dél</td><td>0</td><td>vendégház</td><td>Béla</td><td>2016-02-28</td><td>8630 Balatonboglár, Radnóti Miklós utca 8</td></tr>",
                            "<tr><td>3</td><td>11</td><td>Partiszél Vendégház</td><td>Balaton-észak</td><td>0</td><td>vendégház</td><td>Béla</td><td>2016-03-22</td><td>8220 Balatonalmádi Neptun u. 23.</td></tr>",
                            "<tr><td>4</td><td>14</td><td>Nyárfás Vendégház</td><td>Csongrád megye</td><td>0</td><td>vendégház</td><td>Béla</td><td>2016-03-27</td><td>6723 Szeged, Nagy u. 12.</td></tr>",
                            "<tr><td>5</td><td>21</td><td>Müller Vendégház</td><td>Dél-Somogy</td><td>0</td><td>vendégház</td><td>Béla</td><td>2016-04-07</td><td>7570 Barcs, Magyar u. 10.</td></tr>",
                            "<tr><td>6</td><td>19</td><td>Nyárfás Vendégház</td><td>Dél-Somogy</td><td>0</td><td>vendégház</td><td>Sára</td><td>2016-04-07</td><td>7570 Barcs, Bajcsy-Zs. u. 53</td></tr>",
                            "</table>"
                        ]
                    }
                }
            ],
            "execution_count": 1
        },
        {
            "cell_type": "markdown",
            "source": [
                "2. <span style=\"background-color: rgb(255, 255, 255); color: rgb(0, 0, 0); font-family: &quot;Open Sans&quot;, sans-serif; font-size: 14.44px;\">Készítsünk lekérdezést, amely a foglalások adatait jeleníti meg!&nbsp;</span> \n",
                "\n",
                "a. A lista tartalmazzon két új oszlopot, amelyek az adott ügyfél legrövidebb, illetve leghosszabb foglalásának hosszát (a foglalt napok számát) mutatják meg! \n",
                "\n",
                "b. Az oszlopokat nevezzük el értelemszerűen!"
            ],
            "metadata": {
                "azdata_cell_guid": "ea75c103-911f-41a3-a32c-3d40fb3e4e4a"
            },
            "attachments": {}
        },
        {
            "cell_type": "code",
            "source": [
                ""
            ],
            "metadata": {
                "azdata_cell_guid": "222b9618-a8e8-42b4-a8e8-d002257122b7",
                "language": "sql"
            },
            "outputs": [],
            "execution_count": null
        },
        {
            "cell_type": "markdown",
            "source": [
                "```\n",
                "3. Készítsük listát, amely megjeleníti az ügyfelek azonosítóját, nevét és a foglalásainak kezdő- és befejező dátumát, valamint azt, hogy a foglalás összesen hány főre történt! \n",
                "```\n",
                "\n",
                "a. Egy új oszlopban jelenítsük meg azt is, hogy az ügyfél előző három foglalása összesen hány főre történt!\n",
                "\n",
                "![](https://moodle.uni-corvinus.hu/theme/image.php/adaptable/atto_h5p/1709548862/icon)"
            ],
            "metadata": {
                "azdata_cell_guid": "d7876bb9-76d0-4d07-baed-3cb17b2f96c3"
            },
            "attachments": {}
        },
        {
            "cell_type": "code",
            "source": [
                "-- SUM() és ROWS BETWEEN ... vagy LAG()\r\n",
                "SELECT v.USERNEV,\r\n",
                "        v.NEV,\r\n",
                "        f.METTOL,\r\n",
                "        f.MEDDIG,\r\n",
                "        f.FELNOTT_SZAM + f.GYERMEK_SZAM,\r\n",
                "        -- előző 3 foglalás összesen\r\n",
                "        SUM(f.FELNOTT_SZAM + f.GYERMEK_SZAM) \r\n",
                "            OVER(PARTITION BY f.UGYFEL_FK\r\n",
                "                ORDER BY f.METTOL\r\n",
                "                ROWS BETWEEN 3 preceding AND 1 preceding) AS 'Előző 3 összesen'\r\n",
                "FROM Foglalas f JOIN Vendeg v ON f.UGYFEL_FK = v.USERNEV"
            ],
            "metadata": {
                "azdata_cell_guid": "56ec19ce-e249-4551-b2a8-f17569765acc",
                "language": "sql"
            },
            "outputs": [
{
    "output_type": "display_data",
    "data": {
        "text/html": "(1027 rows affected)"
    },
    "metadata": {}
}, {
    "output_type": "display_data",
    "data": {
        "text/html": "Total execution time: 00:00:00.106"
    },
    "metadata": {}
}, {
    "output_type": "execute_result",
    "metadata": {},
    "execution_count": 2,
    "data": {
        "application/vnd.dataresource+json": {
            "schema": {
                "fields": [
                    {
                        "name": "USERNEV"
                    },
                    {
                        "name": "NEV"
                    },
                    {
                        "name": "METTOL"
                    },
                    {
                        "name": "MEDDIG"
                    },
                    {
                        "name": "(No column name)"
                    },
                    {
                        "name": "Előző 3 összesen"
                    }
                ]
            },
            "data": [
                {
                    "USERNEV": "adam1",
                    "NEV": "Kiss Ádám",
                    "METTOL": "2016-05-28",
                    "MEDDIG": "2016-06-03",
                    "(No column name)": "3",
                    "Előző 3 összesen": "NULL"
                },
                {
                    "USERNEV": "adam1",
                    "NEV": "Kiss Ádám",
                    "METTOL": "2016-08-20",
                    "MEDDIG": "2016-08-24",
                    "(No column name)": "1",
                    "Előző 3 összesen": "3"
                },
                {
                    "USERNEV": "adam1",
                    "NEV": "Kiss Ádám",
                    "METTOL": "2016-10-19",
                    "MEDDIG": "2016-10-24",
                    "(No column name)": "2",
                    "Előző 3 összesen": "4"
                },
                {
                    "USERNEV": "adam3",
                    "NEV": "Barkóci Ádám",
                    "METTOL": "2016-09-12",
                    "MEDDIG": "2016-09-16",
                    "(No column name)": "2",
                    "Előző 3 összesen": "NULL"
                },
                {
                    "USERNEV": "adam3",
                    "NEV": "Barkóci Ádám",
                    "METTOL": "2017-02-06",
                    "MEDDIG": "2017-02-10",
                    "(No column name)": "1",
                    "Előző 3 összesen": "2"
                },
                {
                    "USERNEV": "adam4",
                    "NEV": "Bieniek Ádám",
                    "METTOL": "2016-08-28",
                    "MEDDIG": "2016-08-30",
                    "(No column name)": "3",
                    "Előző 3 összesen": "NULL"
                },
                {
                    "USERNEV": "adam4",
                    "NEV": "Bieniek Ádám",
                    "METTOL": "2016-10-27",
                    "MEDDIG": "2016-11-02",
                    "(No column name)": "3",
                    "Előző 3 összesen": "3"
                },
                {
                    "USERNEV": "adam4",
                    "NEV": "Bieniek Ádám",
                    "METTOL": "2016-11-15",
                    "MEDDIG": "2016-11-18",
                    "(No column name)": "2",
                    "Előző 3 összesen": "6"
                },
                {
                    "USERNEV": "adam4",
                    "NEV": "Bieniek Ádám",
                    "METTOL": "2016-12-06",
                    "MEDDIG": "2016-12-09",
                    "(No column name)": "3",
                    "Előző 3 összesen": "8"
                },
                {
                    "USERNEV": "adam4",
                    "NEV": "Bieniek Ádám",
                    "METTOL": "2017-01-12",
                    "MEDDIG": "2017-01-19",
                    "(No column name)": "2",
                    "Előző 3 összesen": "8"
                },
                {
                    "USERNEV": "adam4",
                    "NEV": "Bieniek Ádám",
                    "METTOL": "2017-02-23",
                    "MEDDIG": "2017-02-27",
                    "(No column name)": "3",
                    "Előző 3 összesen": "7"
                },
                {
                    "USERNEV": "agnes",
                    "NEV": "Lengyel Ágnes",
                    "METTOL": "2016-05-09",
                    "MEDDIG": "2016-05-11",
                    "(No column name)": "3",
                    "Előző 3 összesen": "NULL"
                },
                {
                    "USERNEV": "agnes",
                    "NEV": "Lengyel Ágnes",
                    "METTOL": "2016-05-25",
                    "MEDDIG": "2016-05-30",
                    "(No column name)": "1",
                    "Előző 3 összesen": "3"
                },
                {
                    "USERNEV": "agnes",
                    "NEV": "Lengyel Ágnes",
                    "METTOL": "2016-07-13",
                    "MEDDIG": "2016-07-19",
                    "(No column name)": "3",
                    "Előző 3 összesen": "4"
                },
                {
                    "USERNEV": "agnes",
                    "NEV": "Lengyel Ágnes",
                    "METTOL": "2016-07-30",
                    "MEDDIG": "2016-08-06",
                    "(No column name)": "3",
                    "Előző 3 összesen": "7"
                },
                {
                    "USERNEV": "agnes",
                    "NEV": "Lengyel Ágnes",
                    "METTOL": "2016-11-07",
                    "MEDDIG": "2016-11-13",
                    "(No column name)": "2",
                    "Előző 3 összesen": "7"
                },
                {
                    "USERNEV": "agnes3",
                    "NEV": "Hartyánszky Ágnes",
                    "METTOL": "2016-08-04",
                    "MEDDIG": "2016-08-10",
                    "(No column name)": "1",
                    "Előző 3 összesen": "NULL"
                },
                {
                    "USERNEV": "agnes3",
                    "NEV": "Hartyánszky Ágnes",
                    "METTOL": "2016-10-22",
                    "MEDDIG": "2016-10-23",
                    "(No column name)": "3",
                    "Előző 3 összesen": "1"
                },
                {
                    "USERNEV": "agnes3",
                    "NEV": "Hartyánszky Ágnes",
                    "METTOL": "2017-02-16",
                    "MEDDIG": "2017-02-21",
                    "(No column name)": "3",
                    "Előző 3 összesen": "4"
                },
                {
                    "USERNEV": "AGNESH",
                    "NEV": "Horváth Ágnes",
                    "METTOL": "2016-04-10",
                    "MEDDIG": "2016-04-12",
                    "(No column name)": "2",
                    "Előző 3 összesen": "NULL"
                },
                {
                    "USERNEV": "AGNESH",
                    "NEV": "Horváth Ágnes",
                    "METTOL": "2016-04-27",
                    "MEDDIG": "2016-04-28",
                    "(No column name)": "4",
                    "Előző 3 összesen": "2"
                },
                {
                    "USERNEV": "AGNESH",
                    "NEV": "Horváth Ágnes",
                    "METTOL": "2016-06-23",
                    "MEDDIG": "2016-06-26",
                    "(No column name)": "1",
                    "Előző 3 összesen": "6"
                },
                {
                    "USERNEV": "AGNESH",
                    "NEV": "Horváth Ágnes",
                    "METTOL": "2016-10-30",
                    "MEDDIG": "2016-11-04",
                    "(No column name)": "1",
                    "Előző 3 összesen": "7"
                },
                {
                    "USERNEV": "AGNESH",
                    "NEV": "Horváth Ágnes",
                    "METTOL": "2017-01-03",
                    "MEDDIG": "2017-01-10",
                    "(No column name)": "2",
                    "Előző 3 összesen": "6"
                },
                {
                    "USERNEV": "AGNESH",
                    "NEV": "Horváth Ágnes",
                    "METTOL": "2017-01-16",
                    "MEDDIG": "2017-01-23",
                    "(No column name)": "3",
                    "Előző 3 összesen": "4"
                },
                {
                    "USERNEV": "AGNESK",
                    "NEV": "Kovács Ágnes",
                    "METTOL": "2016-07-29",
                    "MEDDIG": "2016-08-01",
                    "(No column name)": "3",
                    "Előző 3 összesen": "NULL"
                },
                {
                    "USERNEV": "AGNESK",
                    "NEV": "Kovács Ágnes",
                    "METTOL": "2016-10-17",
                    "MEDDIG": "2016-10-19",
                    "(No column name)": "2",
                    "Előző 3 összesen": "3"
                },
                {
                    "USERNEV": "AGNESK",
                    "NEV": "Kovács Ágnes",
                    "METTOL": "2016-12-17",
                    "MEDDIG": "2016-12-18",
                    "(No column name)": "2",
                    "Előző 3 összesen": "5"
                },
                {
                    "USERNEV": "akos",
                    "NEV": "Bíró Ákos",
                    "METTOL": "2016-05-18",
                    "MEDDIG": "2016-05-19",
                    "(No column name)": "2",
                    "Előző 3 összesen": "NULL"
                },
                {
                    "USERNEV": "akos",
                    "NEV": "Bíró Ákos",
                    "METTOL": "2016-07-14",
                    "MEDDIG": "2016-07-19",
                    "(No column name)": "2",
                    "Előző 3 összesen": "2"
                },
                {
                    "USERNEV": "akos",
                    "NEV": "Bíró Ákos",
                    "METTOL": "2016-07-16",
                    "MEDDIG": "2016-07-18",
                    "(No column name)": "2",
                    "Előző 3 összesen": "4"
                },
                {
                    "USERNEV": "akos",
                    "NEV": "Bíró Ákos",
                    "METTOL": "2016-07-22",
                    "MEDDIG": "2016-07-26",
                    "(No column name)": "1",
                    "Előző 3 összesen": "6"
                },
                {
                    "USERNEV": "akos",
                    "NEV": "Bíró Ákos",
                    "METTOL": "2016-09-06",
                    "MEDDIG": "2016-09-12",
                    "(No column name)": "1",
                    "Előző 3 összesen": "5"
                },
                {
                    "USERNEV": "akos",
                    "NEV": "Bíró Ákos",
                    "METTOL": "2016-10-05",
                    "MEDDIG": "2016-10-09",
                    "(No column name)": "2",
                    "Előző 3 összesen": "4"
                },
                {
                    "USERNEV": "akos",
                    "NEV": "Bíró Ákos",
                    "METTOL": "2016-10-18",
                    "MEDDIG": "2016-10-23",
                    "(No column name)": "2",
                    "Előző 3 összesen": "4"
                },
                {
                    "USERNEV": "akos",
                    "NEV": "Bíró Ákos",
                    "METTOL": "2016-11-21",
                    "MEDDIG": "2016-11-27",
                    "(No column name)": "2",
                    "Előző 3 összesen": "5"
                },
                {
                    "USERNEV": "akos",
                    "NEV": "Bíró Ákos",
                    "METTOL": "2016-12-15",
                    "MEDDIG": "2016-12-21",
                    "(No column name)": "2",
                    "Előző 3 összesen": "6"
                },
                {
                    "USERNEV": "akos",
                    "NEV": "Bíró Ákos",
                    "METTOL": "2016-12-29",
                    "MEDDIG": "2016-12-30",
                    "(No column name)": "3",
                    "Előző 3 összesen": "6"
                },
                {
                    "USERNEV": "aladar",
                    "NEV": "Dunai Aladár",
                    "METTOL": "2016-05-17",
                    "MEDDIG": "2016-05-24",
                    "(No column name)": "1",
                    "Előző 3 összesen": "NULL"
                },
                {
                    "USERNEV": "aladar",
                    "NEV": "Dunai Aladár",
                    "METTOL": "2016-09-24",
                    "MEDDIG": "2016-09-28",
                    "(No column name)": "1",
                    "Előző 3 összesen": "1"
                },
                {
                    "USERNEV": "aladar",
                    "NEV": "Dunai Aladár",
                    "METTOL": "2016-11-22",
                    "MEDDIG": "2016-11-23",
                    "(No column name)": "2",
                    "Előző 3 összesen": "2"
                },
                {
                    "USERNEV": "alexandra",
                    "NEV": "Bagóczki Alexandra",
                    "METTOL": "2016-05-21",
                    "MEDDIG": "2016-05-27",
                    "(No column name)": "3",
                    "Előző 3 összesen": "NULL"
                },
                {
                    "USERNEV": "alexandra",
                    "NEV": "Bagóczki Alexandra",
                    "METTOL": "2016-06-08",
                    "MEDDIG": "2016-06-11",
                    "(No column name)": "3",
                    "Előző 3 összesen": "3"
                },
                {
                    "USERNEV": "alexandra",
                    "NEV": "Bagóczki Alexandra",
                    "METTOL": "2016-07-27",
                    "MEDDIG": "2016-07-30",
                    "(No column name)": "2",
                    "Előző 3 összesen": "6"
                },
                {
                    "USERNEV": "alexandra",
                    "NEV": "Bagóczki Alexandra",
                    "METTOL": "2016-10-21",
                    "MEDDIG": "2016-10-25",
                    "(No column name)": "2",
                    "Előző 3 összesen": "8"
                },
                {
                    "USERNEV": "alexandra",
                    "NEV": "Bagóczki Alexandra",
                    "METTOL": "2016-11-29",
                    "MEDDIG": "2016-12-05",
                    "(No column name)": "2",
                    "Előző 3 összesen": "7"
                },
                {
                    "USERNEV": "alexandra",
                    "NEV": "Bagóczki Alexandra",
                    "METTOL": "2017-01-13",
                    "MEDDIG": "2017-01-14",
                    "(No column name)": "1",
                    "Előző 3 összesen": "6"
                },
                {
                    "USERNEV": "alexandra",
                    "NEV": "Bagóczki Alexandra",
                    "METTOL": "2017-01-19",
                    "MEDDIG": "2017-01-26",
                    "(No column name)": "2",
                    "Előző 3 összesen": "5"
                },
                {
                    "USERNEV": "andi",
                    "NEV": "Maródi Andrea",
                    "METTOL": "2016-05-08",
                    "MEDDIG": "2016-05-14",
                    "(No column name)": "4",
                    "Előző 3 összesen": "NULL"
                },
                {
                    "USERNEV": "andi",
                    "NEV": "Maródi Andrea",
                    "METTOL": "2016-06-13",
                    "MEDDIG": "2016-06-14",
                    "(No column name)": "1",
                    "Előző 3 összesen": "4"
                },
                {
                    "USERNEV": "andi",
                    "NEV": "Maródi Andrea",
                    "METTOL": "2016-09-13",
                    "MEDDIG": "2016-09-16",
                    "(No column name)": "2",
                    "Előző 3 összesen": "5"
                },
                {
                    "USERNEV": "andi",
                    "NEV": "Maródi Andrea",
                    "METTOL": "2016-11-16",
                    "MEDDIG": "2016-11-17",
                    "(No column name)": "3",
                    "Előző 3 összesen": "7"
                },
                {
                    "USERNEV": "andi",
                    "NEV": "Maródi Andrea",
                    "METTOL": "2017-01-13",
                    "MEDDIG": "2017-01-17",
                    "(No column name)": "3",
                    "Előző 3 összesen": "6"
                },
                {
                    "USERNEV": "andras2",
                    "NEV": "Tóth András",
                    "METTOL": "2016-05-30",
                    "MEDDIG": "2016-06-04",
                    "(No column name)": "1",
                    "Előző 3 összesen": "NULL"
                },
                {
                    "USERNEV": "andras2",
                    "NEV": "Tóth András",
                    "METTOL": "2016-07-20",
                    "MEDDIG": "2016-07-22",
                    "(No column name)": "2",
                    "Előző 3 összesen": "1"
                },
                {
                    "USERNEV": "andras2",
                    "NEV": "Tóth András",
                    "METTOL": "2016-09-30",
                    "MEDDIG": "2016-10-03",
                    "(No column name)": "2",
                    "Előző 3 összesen": "3"
                },
                {
                    "USERNEV": "andras2",
                    "NEV": "Tóth András",
                    "METTOL": "2016-10-07",
                    "MEDDIG": "2016-10-10",
                    "(No column name)": "3",
                    "Előző 3 összesen": "5"
                },
                {
                    "USERNEV": "andras2",
                    "NEV": "Tóth András",
                    "METTOL": "2017-02-08",
                    "MEDDIG": "2017-02-10",
                    "(No column name)": "4",
                    "Előző 3 összesen": "7"
                },
                {
                    "USERNEV": "andras21",
                    "NEV": "Molnár András",
                    "METTOL": "2016-06-21",
                    "MEDDIG": "2016-06-26",
                    "(No column name)": "2",
                    "Előző 3 összesen": "NULL"
                },
                {
                    "USERNEV": "andras21",
                    "NEV": "Molnár András",
                    "METTOL": "2016-07-04",
                    "MEDDIG": "2016-07-05",
                    "(No column name)": "3",
                    "Előző 3 összesen": "2"
                },
                {
                    "USERNEV": "andras21",
                    "NEV": "Molnár András",
                    "METTOL": "2016-07-20",
                    "MEDDIG": "2016-07-22",
                    "(No column name)": "1",
                    "Előző 3 összesen": "5"
                },
                {
                    "USERNEV": "andras21",
                    "NEV": "Molnár András",
                    "METTOL": "2016-10-01",
                    "MEDDIG": "2016-10-06",
                    "(No column name)": "3",
                    "Előző 3 összesen": "6"
                },
                {
                    "USERNEV": "andras21",
                    "NEV": "Molnár András",
                    "METTOL": "2016-10-04",
                    "MEDDIG": "2016-10-11",
                    "(No column name)": "3",
                    "Előző 3 összesen": "7"
                },
                {
                    "USERNEV": "andras21",
                    "NEV": "Molnár András",
                    "METTOL": "2016-11-23",
                    "MEDDIG": "2016-11-24",
                    "(No column name)": "4",
                    "Előző 3 összesen": "7"
                },
                {
                    "USERNEV": "andras21",
                    "NEV": "Molnár András",
                    "METTOL": "2017-01-28",
                    "MEDDIG": "2017-02-01",
                    "(No column name)": "2",
                    "Előző 3 összesen": "10"
                },
                {
                    "USERNEV": "andras3",
                    "NEV": "Vígh András",
                    "METTOL": "2016-05-01",
                    "MEDDIG": "2016-05-06",
                    "(No column name)": "2",
                    "Előző 3 összesen": "NULL"
                },
                {
                    "USERNEV": "andras3",
                    "NEV": "Vígh András",
                    "METTOL": "2016-05-30",
                    "MEDDIG": "2016-06-03",
                    "(No column name)": "1",
                    "Előző 3 összesen": "2"
                },
                {
                    "USERNEV": "andras3",
                    "NEV": "Vígh András",
                    "METTOL": "2016-06-10",
                    "MEDDIG": "2016-06-11",
                    "(No column name)": "1",
                    "Előző 3 összesen": "3"
                },
                {
                    "USERNEV": "andras3",
                    "NEV": "Vígh András",
                    "METTOL": "2016-07-15",
                    "MEDDIG": "2016-07-19",
                    "(No column name)": "3",
                    "Előző 3 összesen": "4"
                },
                {
                    "USERNEV": "andras3",
                    "NEV": "Vígh András",
                    "METTOL": "2016-07-21",
                    "MEDDIG": "2016-07-23",
                    "(No column name)": "2",
                    "Előző 3 összesen": "5"
                },
                {
                    "USERNEV": "andras3",
                    "NEV": "Vígh András",
                    "METTOL": "2016-08-29",
                    "MEDDIG": "2016-09-02",
                    "(No column name)": "3",
                    "Előző 3 összesen": "6"
                },
                {
                    "USERNEV": "andras3",
                    "NEV": "Vígh András",
                    "METTOL": "2016-11-28",
                    "MEDDIG": "2016-12-02",
                    "(No column name)": "2",
                    "Előző 3 összesen": "8"
                },
                {
                    "USERNEV": "andras3",
                    "NEV": "Vígh András",
                    "METTOL": "2017-02-02",
                    "MEDDIG": "2017-02-08",
                    "(No column name)": "2",
                    "Előző 3 összesen": "7"
                },
                {
                    "USERNEV": "andras4",
                    "NEV": "Back András",
                    "METTOL": "2016-09-17",
                    "MEDDIG": "2016-09-20",
                    "(No column name)": "2",
                    "Előző 3 összesen": "NULL"
                },
                {
                    "USERNEV": "andras4",
                    "NEV": "Back András",
                    "METTOL": "2016-11-25",
                    "MEDDIG": "2016-11-28",
                    "(No column name)": "2",
                    "Előző 3 összesen": "2"
                },
                {
                    "USERNEV": "andras4",
                    "NEV": "Back András",
                    "METTOL": "2017-01-09",
                    "MEDDIG": "2017-01-10",
                    "(No column name)": "2",
                    "Előző 3 összesen": "4"
                },
                {
                    "USERNEV": "andras41",
                    "NEV": "Komjáti András",
                    "METTOL": "2016-05-14",
                    "MEDDIG": "2016-05-16",
                    "(No column name)": "2",
                    "Előző 3 összesen": "NULL"
                },
                {
                    "USERNEV": "andras41",
                    "NEV": "Komjáti András",
                    "METTOL": "2016-05-21",
                    "MEDDIG": "2016-05-23",
                    "(No column name)": "4",
                    "Előző 3 összesen": "2"
                },
                {
                    "USERNEV": "andras41",
                    "NEV": "Komjáti András",
                    "METTOL": "2016-06-07",
                    "MEDDIG": "2016-06-11",
                    "(No column name)": "3",
                    "Előző 3 összesen": "6"
                },
                {
                    "USERNEV": "andras41",
                    "NEV": "Komjáti András",
                    "METTOL": "2016-06-23",
                    "MEDDIG": "2016-06-29",
                    "(No column name)": "2",
                    "Előző 3 összesen": "9"
                },
                {
                    "USERNEV": "andras41",
                    "NEV": "Komjáti András",
                    "METTOL": "2016-07-28",
                    "MEDDIG": "2016-08-03",
                    "(No column name)": "3",
                    "Előző 3 összesen": "9"
                },
                {
                    "USERNEV": "andras41",
                    "NEV": "Komjáti András",
                    "METTOL": "2016-08-17",
                    "MEDDIG": "2016-08-21",
                    "(No column name)": "3",
                    "Előző 3 összesen": "8"
                },
                {
                    "USERNEV": "andras41",
                    "NEV": "Komjáti András",
                    "METTOL": "2016-08-19",
                    "MEDDIG": "2016-08-23",
                    "(No column name)": "1",
                    "Előző 3 összesen": "8"
                },
                {
                    "USERNEV": "andras41",
                    "NEV": "Komjáti András",
                    "METTOL": "2016-09-22",
                    "MEDDIG": "2016-09-29",
                    "(No column name)": "1",
                    "Előző 3 összesen": "7"
                },
                {
                    "USERNEV": "andras41",
                    "NEV": "Komjáti András",
                    "METTOL": "2016-09-30",
                    "MEDDIG": "2016-10-05",
                    "(No column name)": "2",
                    "Előző 3 összesen": "5"
                },
                {
                    "USERNEV": "andras41",
                    "NEV": "Komjáti András",
                    "METTOL": "2016-10-09",
                    "MEDDIG": "2016-10-13",
                    "(No column name)": "2",
                    "Előző 3 összesen": "4"
                },
                {
                    "USERNEV": "andras41",
                    "NEV": "Komjáti András",
                    "METTOL": "2016-10-15",
                    "MEDDIG": "2016-10-18",
                    "(No column name)": "3",
                    "Előző 3 összesen": "5"
                },
                {
                    "USERNEV": "andras41",
                    "NEV": "Komjáti András",
                    "METTOL": "2016-11-20",
                    "MEDDIG": "2016-11-24",
                    "(No column name)": "3",
                    "Előző 3 összesen": "7"
                },
                {
                    "USERNEV": "andras41",
                    "NEV": "Komjáti András",
                    "METTOL": "2016-11-23",
                    "MEDDIG": "2016-11-24",
                    "(No column name)": "1",
                    "Előző 3 összesen": "8"
                },
                {
                    "USERNEV": "ANDRASE",
                    "NEV": "Erdei András",
                    "METTOL": "2016-04-24",
                    "MEDDIG": "2016-05-01",
                    "(No column name)": "1",
                    "Előző 3 összesen": "NULL"
                },
                {
                    "USERNEV": "ANDRASE",
                    "NEV": "Erdei András",
                    "METTOL": "2016-07-06",
                    "MEDDIG": "2016-07-07",
                    "(No column name)": "2",
                    "Előző 3 összesen": "1"
                },
                {
                    "USERNEV": "ANDRASE",
                    "NEV": "Erdei András",
                    "METTOL": "2016-08-16",
                    "MEDDIG": "2016-08-20",
                    "(No column name)": "2",
                    "Előző 3 összesen": "3"
                },
                {
                    "USERNEV": "ANDRASE",
                    "NEV": "Erdei András",
                    "METTOL": "2016-11-19",
                    "MEDDIG": "2016-11-20",
                    "(No column name)": "4",
                    "Előző 3 összesen": "5"
                },
                {
                    "USERNEV": "ANDRASE",
                    "NEV": "Erdei András",
                    "METTOL": "2016-11-29",
                    "MEDDIG": "2016-12-06",
                    "(No column name)": "3",
                    "Előző 3 összesen": "8"
                },
                {
                    "USERNEV": "ANDRASN",
                    "NEV": "Nagy András",
                    "METTOL": "2016-11-25",
                    "MEDDIG": "2016-12-01",
                    "(No column name)": "2",
                    "Előző 3 összesen": "NULL"
                },
                {
                    "USERNEV": "andrea",
                    "NEV": "Kiss Andrea",
                    "METTOL": "2016-07-27",
                    "MEDDIG": "2016-07-28",
                    "(No column name)": "2",
                    "Előző 3 összesen": "NULL"
                },
                {
                    "USERNEV": "andrea",
                    "NEV": "Kiss Andrea",
                    "METTOL": "2016-08-01",
                    "MEDDIG": "2016-08-02",
                    "(No column name)": "2",
                    "Előző 3 összesen": "2"
                },
                {
                    "USERNEV": "andrea",
                    "NEV": "Kiss Andrea",
                    "METTOL": "2016-08-23",
                    "MEDDIG": "2016-08-26",
                    "(No column name)": "3",
                    "Előző 3 összesen": "4"
                },
                {
                    "USERNEV": "andrea",
                    "NEV": "Kiss Andrea",
                    "METTOL": "2016-08-26",
                    "MEDDIG": "2016-08-30",
                    "(No column name)": "2",
                    "Előző 3 összesen": "7"
                },
                {
                    "USERNEV": "andrea",
                    "NEV": "Kiss Andrea",
                    "METTOL": "2016-10-21",
                    "MEDDIG": "2016-10-27",
                    "(No column name)": "4",
                    "Előző 3 összesen": "7"
                },
                {
                    "USERNEV": "andrea",
                    "NEV": "Kiss Andrea",
                    "METTOL": "2017-02-09",
                    "MEDDIG": "2017-02-14",
                    "(No column name)": "2",
                    "Előző 3 összesen": "9"
                },
                {
                    "USERNEV": "andrea3",
                    "NEV": "Szomor Andrea",
                    "METTOL": "2016-11-19",
                    "MEDDIG": "2016-11-21",
                    "(No column name)": "3",
                    "Előző 3 összesen": "NULL"
                },
                {
                    "USERNEV": "andrea4",
                    "NEV": "Neizer Andrea",
                    "METTOL": "2016-05-27",
                    "MEDDIG": "2016-05-29",
                    "(No column name)": "1",
                    "Előző 3 összesen": "NULL"
                },
                {
                    "USERNEV": "andrea4",
                    "NEV": "Neizer Andrea",
                    "METTOL": "2016-09-13",
                    "MEDDIG": "2016-09-17",
                    "(No column name)": "2",
                    "Előző 3 összesen": "1"
                },
                {
                    "USERNEV": "andrea4",
                    "NEV": "Neizer Andrea",
                    "METTOL": "2016-10-30",
                    "MEDDIG": "2016-11-06",
                    "(No column name)": "3",
                    "Előző 3 összesen": "3"
                },
                {
                    "USERNEV": "andrea4",
                    "NEV": "Neizer Andrea",
                    "METTOL": "2017-01-22",
                    "MEDDIG": "2017-01-29",
                    "(No column name)": "2",
                    "Előző 3 összesen": "6"
                },
                {
                    "USERNEV": "ANDREAT",
                    "NEV": "Tornyos Andrea",
                    "METTOL": "2016-07-27",
                    "MEDDIG": "2016-08-01",
                    "(No column name)": "2",
                    "Előző 3 összesen": "NULL"
                },
                {
                    "USERNEV": "ANDREAT",
                    "NEV": "Tornyos Andrea",
                    "METTOL": "2016-09-15",
                    "MEDDIG": "2016-09-16",
                    "(No column name)": "2",
                    "Előző 3 összesen": "2"
                },
                {
                    "USERNEV": "ANDREAT",
                    "NEV": "Tornyos Andrea",
                    "METTOL": "2016-10-08",
                    "MEDDIG": "2016-10-12",
                    "(No column name)": "3",
                    "Előző 3 összesen": "4"
                },
                {
                    "USERNEV": "anett3",
                    "NEV": "Pivarcsi Anett",
                    "METTOL": "2016-04-10",
                    "MEDDIG": "2016-04-17",
                    "(No column name)": "1",
                    "Előző 3 összesen": "NULL"
                },
                {
                    "USERNEV": "anett3",
                    "NEV": "Pivarcsi Anett",
                    "METTOL": "2016-04-13",
                    "MEDDIG": "2016-04-19",
                    "(No column name)": "3",
                    "Előző 3 összesen": "1"
                },
                {
                    "USERNEV": "anett3",
                    "NEV": "Pivarcsi Anett",
                    "METTOL": "2016-04-15",
                    "MEDDIG": "2016-04-19",
                    "(No column name)": "3",
                    "Előző 3 összesen": "4"
                },
                {
                    "USERNEV": "anett3",
                    "NEV": "Pivarcsi Anett",
                    "METTOL": "2016-04-28",
                    "MEDDIG": "2016-05-02",
                    "(No column name)": "3",
                    "Előző 3 összesen": "7"
                },
                {
                    "USERNEV": "anett3",
                    "NEV": "Pivarcsi Anett",
                    "METTOL": "2016-08-15",
                    "MEDDIG": "2016-08-16",
                    "(No column name)": "2",
                    "Előző 3 összesen": "9"
                },
                {
                    "USERNEV": "anett3",
                    "NEV": "Pivarcsi Anett",
                    "METTOL": "2016-08-17",
                    "MEDDIG": "2016-08-23",
                    "(No column name)": "3",
                    "Előző 3 összesen": "8"
                },
                {
                    "USERNEV": "anett3",
                    "NEV": "Pivarcsi Anett",
                    "METTOL": "2016-10-12",
                    "MEDDIG": "2016-10-19",
                    "(No column name)": "3",
                    "Előző 3 összesen": "8"
                },
                {
                    "USERNEV": "anett3",
                    "NEV": "Pivarcsi Anett",
                    "METTOL": "2016-10-16",
                    "MEDDIG": "2016-10-21",
                    "(No column name)": "1",
                    "Előző 3 összesen": "8"
                },
                {
                    "USERNEV": "aniko",
                    "NEV": "Tóth Anikó",
                    "METTOL": "2016-06-25",
                    "MEDDIG": "2016-06-30",
                    "(No column name)": "3",
                    "Előző 3 összesen": "NULL"
                },
                {
                    "USERNEV": "aniko",
                    "NEV": "Tóth Anikó",
                    "METTOL": "2017-02-12",
                    "MEDDIG": "2017-02-14",
                    "(No column name)": "3",
                    "Előző 3 összesen": "3"
                },
                {
                    "USERNEV": "aniko",
                    "NEV": "Tóth Anikó",
                    "METTOL": "2017-02-23",
                    "MEDDIG": "2017-02-24",
                    "(No column name)": "2",
                    "Előző 3 összesen": "6"
                },
                {
                    "USERNEV": "aniko4",
                    "NEV": "Böröcz Anikó",
                    "METTOL": "2016-07-02",
                    "MEDDIG": "2016-07-09",
                    "(No column name)": "1",
                    "Előző 3 összesen": "NULL"
                },
                {
                    "USERNEV": "aniko4",
                    "NEV": "Böröcz Anikó",
                    "METTOL": "2016-07-22",
                    "MEDDIG": "2016-07-25",
                    "(No column name)": "3",
                    "Előző 3 összesen": "1"
                },
                {
                    "USERNEV": "aniko4",
                    "NEV": "Böröcz Anikó",
                    "METTOL": "2016-09-05",
                    "MEDDIG": "2016-09-07",
                    "(No column name)": "4",
                    "Előző 3 összesen": "4"
                },
                {
                    "USERNEV": "aniko4",
                    "NEV": "Böröcz Anikó",
                    "METTOL": "2016-10-16",
                    "MEDDIG": "2016-10-18",
                    "(No column name)": "3",
                    "Előző 3 összesen": "8"
                },
                {
                    "USERNEV": "ANIKOS",
                    "NEV": "Simon Anikó",
                    "METTOL": "2016-04-19",
                    "MEDDIG": "2016-04-24",
                    "(No column name)": "2",
                    "Előző 3 összesen": "NULL"
                },
                {
                    "USERNEV": "ANIKOS",
                    "NEV": "Simon Anikó",
                    "METTOL": "2016-05-24",
                    "MEDDIG": "2016-05-25",
                    "(No column name)": "3",
                    "Előző 3 összesen": "2"
                },
                {
                    "USERNEV": "ANIKOS",
                    "NEV": "Simon Anikó",
                    "METTOL": "2016-06-16",
                    "MEDDIG": "2016-06-23",
                    "(No column name)": "1",
                    "Előző 3 összesen": "5"
                },
                {
                    "USERNEV": "ANIKOS",
                    "NEV": "Simon Anikó",
                    "METTOL": "2016-06-27",
                    "MEDDIG": "2016-06-30",
                    "(No column name)": "2",
                    "Előző 3 összesen": "6"
                },
                {
                    "USERNEV": "ANIKOS",
                    "NEV": "Simon Anikó",
                    "METTOL": "2016-07-17",
                    "MEDDIG": "2016-07-22",
                    "(No column name)": "3",
                    "Előző 3 összesen": "6"
                },
                {
                    "USERNEV": "ANIKOS",
                    "NEV": "Simon Anikó",
                    "METTOL": "2016-08-26",
                    "MEDDIG": "2016-09-02",
                    "(No column name)": "2",
                    "Előző 3 összesen": "6"
                },
                {
                    "USERNEV": "ANIKOS",
                    "NEV": "Simon Anikó",
                    "METTOL": "2016-10-08",
                    "MEDDIG": "2016-10-14",
                    "(No column name)": "2",
                    "Előző 3 összesen": "7"
                },
                {
                    "USERNEV": "ANIKOS",
                    "NEV": "Simon Anikó",
                    "METTOL": "2016-10-29",
                    "MEDDIG": "2016-11-05",
                    "(No column name)": "3",
                    "Előző 3 összesen": "7"
                },
                {
                    "USERNEV": "ANIKOS",
                    "NEV": "Simon Anikó",
                    "METTOL": "2016-11-10",
                    "MEDDIG": "2016-11-15",
                    "(No column name)": "2",
                    "Előző 3 összesen": "7"
                },
                {
                    "USERNEV": "anita",
                    "NEV": "Hamvay-Kovács Anita",
                    "METTOL": "2016-09-28",
                    "MEDDIG": "2016-10-02",
                    "(No column name)": "4",
                    "Előző 3 összesen": "NULL"
                },
                {
                    "USERNEV": "anita",
                    "NEV": "Hamvay-Kovács Anita",
                    "METTOL": "2016-10-01",
                    "MEDDIG": "2016-10-04",
                    "(No column name)": "2",
                    "Előző 3 összesen": "4"
                },
                {
                    "USERNEV": "anita",
                    "NEV": "Hamvay-Kovács Anita",
                    "METTOL": "2017-02-19",
                    "MEDDIG": "2017-02-22",
                    "(No column name)": "2",
                    "Előző 3 összesen": "6"
                },
                {
                    "USERNEV": "anita",
                    "NEV": "Hamvay-Kovács Anita",
                    "METTOL": "2017-02-20",
                    "MEDDIG": "2017-02-25",
                    "(No column name)": "2",
                    "Előző 3 összesen": "8"
                },
                {
                    "USERNEV": "annamaria1",
                    "NEV": "Szűcs Annamária",
                    "METTOL": "2016-06-06",
                    "MEDDIG": "2016-06-07",
                    "(No column name)": "3",
                    "Előző 3 összesen": "NULL"
                },
                {
                    "USERNEV": "annamaria1",
                    "NEV": "Szűcs Annamária",
                    "METTOL": "2017-01-30",
                    "MEDDIG": "2017-01-31",
                    "(No column name)": "4",
                    "Előző 3 összesen": "3"
                },
                {
                    "USERNEV": "ANNAMARIAR",
                    "NEV": "Regős Annamária",
                    "METTOL": "2016-06-08",
                    "MEDDIG": "2016-06-11",
                    "(No column name)": "2",
                    "Előző 3 összesen": "NULL"
                },
                {
                    "USERNEV": "ANNAMARIAR",
                    "NEV": "Regős Annamária",
                    "METTOL": "2016-07-18",
                    "MEDDIG": "2016-07-21",
                    "(No column name)": "1",
                    "Előző 3 összesen": "2"
                },
                {
                    "USERNEV": "ANNAMARIAR",
                    "NEV": "Regős Annamária",
                    "METTOL": "2016-09-23",
                    "MEDDIG": "2016-09-27",
                    "(No column name)": "2",
                    "Előző 3 összesen": "3"
                },
                {
                    "USERNEV": "ANNAMARIAR",
                    "NEV": "Regős Annamária",
                    "METTOL": "2016-11-11",
                    "MEDDIG": "2016-11-12",
                    "(No column name)": "3",
                    "Előző 3 összesen": "5"
                },
                {
                    "USERNEV": "ANNAMARIAR",
                    "NEV": "Regős Annamária",
                    "METTOL": "2017-01-10",
                    "MEDDIG": "2017-01-13",
                    "(No column name)": "2",
                    "Előző 3 összesen": "6"
                },
                {
                    "USERNEV": "ANNAMARIAR",
                    "NEV": "Regős Annamária",
                    "METTOL": "2017-02-16",
                    "MEDDIG": "2017-02-18",
                    "(No column name)": "2",
                    "Előző 3 összesen": "7"
                },
                {
                    "USERNEV": "aron2",
                    "NEV": "Jakab Áron",
                    "METTOL": "2016-04-11",
                    "MEDDIG": "2016-04-12",
                    "(No column name)": "3",
                    "Előző 3 összesen": "NULL"
                },
                {
                    "USERNEV": "aron2",
                    "NEV": "Jakab Áron",
                    "METTOL": "2016-07-04",
                    "MEDDIG": "2016-07-06",
                    "(No column name)": "3",
                    "Előző 3 összesen": "3"
                },
                {
                    "USERNEV": "aron2",
                    "NEV": "Jakab Áron",
                    "METTOL": "2016-10-23",
                    "MEDDIG": "2016-10-27",
                    "(No column name)": "2",
                    "Előző 3 összesen": "6"
                },
                {
                    "USERNEV": "aron2",
                    "NEV": "Jakab Áron",
                    "METTOL": "2016-11-05",
                    "MEDDIG": "2016-11-09",
                    "(No column name)": "2",
                    "Előző 3 összesen": "8"
                },
                {
                    "USERNEV": "aron2",
                    "NEV": "Jakab Áron",
                    "METTOL": "2017-01-17",
                    "MEDDIG": "2017-01-18",
                    "(No column name)": "3",
                    "Előző 3 összesen": "7"
                },
                {
                    "USERNEV": "aron2",
                    "NEV": "Jakab Áron",
                    "METTOL": "2017-02-26",
                    "MEDDIG": "2017-02-27",
                    "(No column name)": "3",
                    "Előző 3 összesen": "7"
                },
                {
                    "USERNEV": "ARONK",
                    "NEV": "Kelemen Áron",
                    "METTOL": "2016-04-06",
                    "MEDDIG": "2016-04-08",
                    "(No column name)": "2",
                    "Előző 3 összesen": "NULL"
                },
                {
                    "USERNEV": "ARONK",
                    "NEV": "Kelemen Áron",
                    "METTOL": "2016-05-14",
                    "MEDDIG": "2016-05-20",
                    "(No column name)": "4",
                    "Előző 3 összesen": "2"
                },
                {
                    "USERNEV": "ARONK",
                    "NEV": "Kelemen Áron",
                    "METTOL": "2016-06-04",
                    "MEDDIG": "2016-06-09",
                    "(No column name)": "2",
                    "Előző 3 összesen": "6"
                },
                {
                    "USERNEV": "ARONK",
                    "NEV": "Kelemen Áron",
                    "METTOL": "2016-06-07",
                    "MEDDIG": "2016-06-13",
                    "(No column name)": "3",
                    "Előző 3 összesen": "8"
                },
                {
                    "USERNEV": "ARONK",
                    "NEV": "Kelemen Áron",
                    "METTOL": "2016-07-03",
                    "MEDDIG": "2016-07-07",
                    "(No column name)": "2",
                    "Előző 3 összesen": "9"
                },
                {
                    "USERNEV": "ARONK",
                    "NEV": "Kelemen Áron",
                    "METTOL": "2016-08-05",
                    "MEDDIG": "2016-08-08",
                    "(No column name)": "4",
                    "Előző 3 összesen": "7"
                },
                {
                    "USERNEV": "ARONK",
                    "NEV": "Kelemen Áron",
                    "METTOL": "2016-09-08",
                    "MEDDIG": "2016-09-15",
                    "(No column name)": "2",
                    "Előző 3 összesen": "9"
                },
                {
                    "USERNEV": "ARONK",
                    "NEV": "Kelemen Áron",
                    "METTOL": "2016-11-03",
                    "MEDDIG": "2016-11-10",
                    "(No column name)": "2",
                    "Előző 3 összesen": "8"
                },
                {
                    "USERNEV": "ARONK",
                    "NEV": "Kelemen Áron",
                    "METTOL": "2016-11-05",
                    "MEDDIG": "2016-11-07",
                    "(No column name)": "2",
                    "Előző 3 összesen": "8"
                },
                {
                    "USERNEV": "ARONK",
                    "NEV": "Kelemen Áron",
                    "METTOL": "2016-12-07",
                    "MEDDIG": "2016-12-12",
                    "(No column name)": "3",
                    "Előző 3 összesen": "6"
                },
                {
                    "USERNEV": "ARONK",
                    "NEV": "Kelemen Áron",
                    "METTOL": "2017-01-01",
                    "MEDDIG": "2017-01-03",
                    "(No column name)": "2",
                    "Előző 3 összesen": "7"
                },
                {
                    "USERNEV": "ARONK",
                    "NEV": "Kelemen Áron",
                    "METTOL": "2017-01-30",
                    "MEDDIG": "2017-02-03",
                    "(No column name)": "2",
                    "Előző 3 összesen": "7"
                },
                {
                    "USERNEV": "ARONK",
                    "NEV": "Kelemen Áron",
                    "METTOL": "2017-02-21",
                    "MEDDIG": "2017-02-23",
                    "(No column name)": "2",
                    "Előző 3 összesen": "7"
                },
                {
                    "USERNEV": "arpad2",
                    "NEV": "Ötvös Árpád",
                    "METTOL": "2016-06-05",
                    "MEDDIG": "2016-06-07",
                    "(No column name)": "2",
                    "Előző 3 összesen": "NULL"
                },
                {
                    "USERNEV": "arpad2",
                    "NEV": "Ötvös Árpád",
                    "METTOL": "2016-08-23",
                    "MEDDIG": "2016-08-25",
                    "(No column name)": "2",
                    "Előző 3 összesen": "2"
                },
                {
                    "USERNEV": "arpad2",
                    "NEV": "Ötvös Árpád",
                    "METTOL": "2016-09-28",
                    "MEDDIG": "2016-09-30",
                    "(No column name)": "2",
                    "Előző 3 összesen": "4"
                },
                {
                    "USERNEV": "arpad2",
                    "NEV": "Ötvös Árpád",
                    "METTOL": "2016-10-13",
                    "MEDDIG": "2016-10-19",
                    "(No column name)": "3",
                    "Előző 3 összesen": "6"
                },
                {
                    "USERNEV": "arpad2",
                    "NEV": "Ötvös Árpád",
                    "METTOL": "2016-11-06",
                    "MEDDIG": "2016-11-10",
                    "(No column name)": "2",
                    "Előző 3 összesen": "7"
                },
                {
                    "USERNEV": "arpad2",
                    "NEV": "Ötvös Árpád",
                    "METTOL": "2016-12-24",
                    "MEDDIG": "2016-12-27",
                    "(No column name)": "3",
                    "Előző 3 összesen": "7"
                },
                {
                    "USERNEV": "arpad2",
                    "NEV": "Ötvös Árpád",
                    "METTOL": "2017-02-18",
                    "MEDDIG": "2017-02-19",
                    "(No column name)": "4",
                    "Előző 3 összesen": "8"
                },
                {
                    "USERNEV": "ARPADH",
                    "NEV": "Horváth Árpád",
                    "METTOL": "2016-06-06",
                    "MEDDIG": "2016-06-07",
                    "(No column name)": "3",
                    "Előző 3 összesen": "NULL"
                },
                {
                    "USERNEV": "ARPADH",
                    "NEV": "Horváth Árpád",
                    "METTOL": "2016-07-14",
                    "MEDDIG": "2016-07-18",
                    "(No column name)": "2",
                    "Előző 3 összesen": "3"
                },
                {
                    "USERNEV": "ARPADH",
                    "NEV": "Horváth Árpád",
                    "METTOL": "2016-09-16",
                    "MEDDIG": "2016-09-23",
                    "(No column name)": "1",
                    "Előző 3 összesen": "5"
                },
                {
                    "USERNEV": "ARPADH",
                    "NEV": "Horváth Árpád",
                    "METTOL": "2016-09-18",
                    "MEDDIG": "2016-09-25",
                    "(No column name)": "1",
                    "Előző 3 összesen": "6"
                },
                {
                    "USERNEV": "ARPADH",
                    "NEV": "Horváth Árpád",
                    "METTOL": "2016-12-04",
                    "MEDDIG": "2016-12-10",
                    "(No column name)": "1",
                    "Előző 3 összesen": "4"
                },
                {
                    "USERNEV": "ARPADH",
                    "NEV": "Horváth Árpád",
                    "METTOL": "2016-12-18",
                    "MEDDIG": "2016-12-19",
                    "(No column name)": "3",
                    "Előző 3 összesen": "3"
                },
                {
                    "USERNEV": "ARPADH",
                    "NEV": "Horváth Árpád",
                    "METTOL": "2017-02-16",
                    "MEDDIG": "2017-02-18",
                    "(No column name)": "2",
                    "Előző 3 összesen": "5"
                },
                {
                    "USERNEV": "ARPADM",
                    "NEV": "Móricz Árpád",
                    "METTOL": "2016-05-29",
                    "MEDDIG": "2016-06-01",
                    "(No column name)": "2",
                    "Előző 3 összesen": "NULL"
                },
                {
                    "USERNEV": "ARPADM",
                    "NEV": "Móricz Árpád",
                    "METTOL": "2016-08-12",
                    "MEDDIG": "2016-08-16",
                    "(No column name)": "2",
                    "Előző 3 összesen": "2"
                },
                {
                    "USERNEV": "ARPADM",
                    "NEV": "Móricz Árpád",
                    "METTOL": "2016-11-09",
                    "MEDDIG": "2016-11-11",
                    "(No column name)": "2",
                    "Előző 3 összesen": "4"
                },
                {
                    "USERNEV": "ARPADM",
                    "NEV": "Móricz Árpád",
                    "METTOL": "2016-12-14",
                    "MEDDIG": "2016-12-17",
                    "(No column name)": "3",
                    "Előző 3 összesen": "6"
                },
                {
                    "USERNEV": "ARPADM",
                    "NEV": "Móricz Árpád",
                    "METTOL": "2017-01-05",
                    "MEDDIG": "2017-01-10",
                    "(No column name)": "1",
                    "Előző 3 összesen": "7"
                },
                {
                    "USERNEV": "ARPADM",
                    "NEV": "Móricz Árpád",
                    "METTOL": "2017-02-12",
                    "MEDDIG": "2017-02-14",
                    "(No column name)": "3",
                    "Előző 3 összesen": "6"
                },
                {
                    "USERNEV": "attila",
                    "NEV": "Csóti Attila",
                    "METTOL": "2016-09-30",
                    "MEDDIG": "2016-10-07",
                    "(No column name)": "3",
                    "Előző 3 összesen": "NULL"
                },
                {
                    "USERNEV": "attila",
                    "NEV": "Csóti Attila",
                    "METTOL": "2016-10-15",
                    "MEDDIG": "2016-10-19",
                    "(No column name)": "1",
                    "Előző 3 összesen": "3"
                },
                {
                    "USERNEV": "attila",
                    "NEV": "Csóti Attila",
                    "METTOL": "2016-12-22",
                    "MEDDIG": "2016-12-26",
                    "(No column name)": "2",
                    "Előző 3 összesen": "4"
                },
                {
                    "USERNEV": "attila1",
                    "NEV": "Gulyás Attila",
                    "METTOL": "2016-05-20",
                    "MEDDIG": "2016-05-26",
                    "(No column name)": "1",
                    "Előző 3 összesen": "NULL"
                },
                {
                    "USERNEV": "attila1",
                    "NEV": "Gulyás Attila",
                    "METTOL": "2016-10-09",
                    "MEDDIG": "2016-10-12",
                    "(No column name)": "2",
                    "Előző 3 összesen": "1"
                },
                {
                    "USERNEV": "attila1",
                    "NEV": "Gulyás Attila",
                    "METTOL": "2016-10-15",
                    "MEDDIG": "2016-10-16",
                    "(No column name)": "3",
                    "Előző 3 összesen": "3"
                },
                {
                    "USERNEV": "attila1",
                    "NEV": "Gulyás Attila",
                    "METTOL": "2016-10-30",
                    "MEDDIG": "2016-11-05",
                    "(No column name)": "2",
                    "Előző 3 összesen": "6"
                },
                {
                    "USERNEV": "attila1",
                    "NEV": "Gulyás Attila",
                    "METTOL": "2016-11-10",
                    "MEDDIG": "2016-11-14",
                    "(No column name)": "2",
                    "Előző 3 összesen": "7"
                },
                {
                    "USERNEV": "attila1",
                    "NEV": "Gulyás Attila",
                    "METTOL": "2017-01-23",
                    "MEDDIG": "2017-01-30",
                    "(No column name)": "4",
                    "Előző 3 összesen": "7"
                },
                {
                    "USERNEV": "attila4",
                    "NEV": "Baróti Attila",
                    "METTOL": "2016-08-18",
                    "MEDDIG": "2016-08-23",
                    "(No column name)": "4",
                    "Előző 3 összesen": "NULL"
                },
                {
                    "USERNEV": "attila4",
                    "NEV": "Baróti Attila",
                    "METTOL": "2016-12-31",
                    "MEDDIG": "2017-01-01",
                    "(No column name)": "2",
                    "Előző 3 összesen": "4"
                },
                {
                    "USERNEV": "attila4",
                    "NEV": "Baróti Attila",
                    "METTOL": "2017-02-15",
                    "MEDDIG": "2017-02-22",
                    "(No column name)": "2",
                    "Előző 3 összesen": "6"
                },
                {
                    "USERNEV": "ATTILAO",
                    "NEV": "Opra Attila",
                    "METTOL": "2016-05-21",
                    "MEDDIG": "2016-05-26",
                    "(No column name)": "3",
                    "Előző 3 összesen": "NULL"
                },
                {
                    "USERNEV": "ATTILAO",
                    "NEV": "Opra Attila",
                    "METTOL": "2016-06-04",
                    "MEDDIG": "2016-06-11",
                    "(No column name)": "3",
                    "Előző 3 összesen": "3"
                },
                {
                    "USERNEV": "ATTILAO",
                    "NEV": "Opra Attila",
                    "METTOL": "2016-10-30",
                    "MEDDIG": "2016-11-03",
                    "(No column name)": "2",
                    "Előző 3 összesen": "6"
                },
                {
                    "USERNEV": "ATTILAO",
                    "NEV": "Opra Attila",
                    "METTOL": "2017-02-22",
                    "MEDDIG": "2017-02-25",
                    "(No column name)": "3",
                    "Előző 3 összesen": "8"
                },
                {
                    "USERNEV": "balazs1",
                    "NEV": "Bozsik Balázs",
                    "METTOL": "2016-05-07",
                    "MEDDIG": "2016-05-14",
                    "(No column name)": "2",
                    "Előző 3 összesen": "NULL"
                },
                {
                    "USERNEV": "balazs1",
                    "NEV": "Bozsik Balázs",
                    "METTOL": "2016-07-22",
                    "MEDDIG": "2016-07-26",
                    "(No column name)": "4",
                    "Előző 3 összesen": "2"
                },
                {
                    "USERNEV": "balazs1",
                    "NEV": "Bozsik Balázs",
                    "METTOL": "2016-12-26",
                    "MEDDIG": "2016-12-28",
                    "(No column name)": "3",
                    "Előző 3 összesen": "6"
                },
                {
                    "USERNEV": "balazs1",
                    "NEV": "Bozsik Balázs",
                    "METTOL": "2017-01-01",
                    "MEDDIG": "2017-01-05",
                    "(No column name)": "2",
                    "Előző 3 összesen": "9"
                },
                {
                    "USERNEV": "balazs1",
                    "NEV": "Bozsik Balázs",
                    "METTOL": "2017-02-10",
                    "MEDDIG": "2017-02-14",
                    "(No column name)": "3",
                    "Előző 3 összesen": "9"
                },
                {
                    "USERNEV": "balazs1",
                    "NEV": "Bozsik Balázs",
                    "METTOL": "2017-02-12",
                    "MEDDIG": "2017-02-14",
                    "(No column name)": "2",
                    "Előző 3 összesen": "8"
                },
                {
                    "USERNEV": "balazs2",
                    "NEV": "Szűcs Balázs",
                    "METTOL": "2016-04-16",
                    "MEDDIG": "2016-04-19",
                    "(No column name)": "2",
                    "Előző 3 összesen": "NULL"
                },
                {
                    "USERNEV": "balazs2",
                    "NEV": "Szűcs Balázs",
                    "METTOL": "2016-05-22",
                    "MEDDIG": "2016-05-29",
                    "(No column name)": "3",
                    "Előző 3 összesen": "2"
                },
                {
                    "USERNEV": "balazs2",
                    "NEV": "Szűcs Balázs",
                    "METTOL": "2016-05-28",
                    "MEDDIG": "2016-06-01",
                    "(No column name)": "3",
                    "Előző 3 összesen": "5"
                },
                {
                    "USERNEV": "balazs2",
                    "NEV": "Szűcs Balázs",
                    "METTOL": "2016-07-08",
                    "MEDDIG": "2016-07-12",
                    "(No column name)": "3",
                    "Előző 3 összesen": "8"
                },
                {
                    "USERNEV": "balazs2",
                    "NEV": "Szűcs Balázs",
                    "METTOL": "2016-07-10",
                    "MEDDIG": "2016-07-17",
                    "(No column name)": "3",
                    "Előző 3 összesen": "9"
                },
                {
                    "USERNEV": "balazs2",
                    "NEV": "Szűcs Balázs",
                    "METTOL": "2016-07-20",
                    "MEDDIG": "2016-07-25",
                    "(No column name)": "2",
                    "Előző 3 összesen": "9"
                },
                {
                    "USERNEV": "balazs2",
                    "NEV": "Szűcs Balázs",
                    "METTOL": "2016-08-21",
                    "MEDDIG": "2016-08-22",
                    "(No column name)": "3",
                    "Előző 3 összesen": "8"
                },
                {
                    "USERNEV": "balazs2",
                    "NEV": "Szűcs Balázs",
                    "METTOL": "2016-09-12",
                    "MEDDIG": "2016-09-14",
                    "(No column name)": "3",
                    "Előző 3 összesen": "8"
                },
                {
                    "USERNEV": "balazs2",
                    "NEV": "Szűcs Balázs",
                    "METTOL": "2016-11-03",
                    "MEDDIG": "2016-11-05",
                    "(No column name)": "3",
                    "Előző 3 összesen": "8"
                },
                {
                    "USERNEV": "balazs2",
                    "NEV": "Szűcs Balázs",
                    "METTOL": "2017-02-27",
                    "MEDDIG": "2017-03-06",
                    "(No column name)": "1",
                    "Előző 3 összesen": "9"
                },
                {
                    "USERNEV": "balazs3",
                    "NEV": "Bakódy Balázs",
                    "METTOL": "2016-07-17",
                    "MEDDIG": "2016-07-21",
                    "(No column name)": "2",
                    "Előző 3 összesen": "NULL"
                },
                {
                    "USERNEV": "balazs3",
                    "NEV": "Bakódy Balázs",
                    "METTOL": "2016-07-27",
                    "MEDDIG": "2016-07-31",
                    "(No column name)": "4",
                    "Előző 3 összesen": "2"
                },
                {
                    "USERNEV": "balazs3",
                    "NEV": "Bakódy Balázs",
                    "METTOL": "2016-08-24",
                    "MEDDIG": "2016-08-28",
                    "(No column name)": "3",
                    "Előző 3 összesen": "6"
                },
                {
                    "USERNEV": "balazs3",
                    "NEV": "Bakódy Balázs",
                    "METTOL": "2016-09-15",
                    "MEDDIG": "2016-09-16",
                    "(No column name)": "3",
                    "Előző 3 összesen": "9"
                },
                {
                    "USERNEV": "balazs3",
                    "NEV": "Bakódy Balázs",
                    "METTOL": "2016-12-05",
                    "MEDDIG": "2016-12-11",
                    "(No column name)": "3",
                    "Előző 3 összesen": "10"
                },
                {
                    "USERNEV": "balazs3",
                    "NEV": "Bakódy Balázs",
                    "METTOL": "2017-01-20",
                    "MEDDIG": "2017-01-22",
                    "(No column name)": "2",
                    "Előző 3 összesen": "9"
                },
                {
                    "USERNEV": "balint",
                    "NEV": "Horváth Bálint",
                    "METTOL": "2016-04-22",
                    "MEDDIG": "2016-04-29",
                    "(No column name)": "2",
                    "Előző 3 összesen": "NULL"
                },
                {
                    "USERNEV": "balint",
                    "NEV": "Horváth Bálint",
                    "METTOL": "2016-10-09",
                    "MEDDIG": "2016-10-11",
                    "(No column name)": "2",
                    "Előző 3 összesen": "2"
                },
                {
                    "USERNEV": "balint",
                    "NEV": "Horváth Bálint",
                    "METTOL": "2016-11-24",
                    "MEDDIG": "2016-11-29",
                    "(No column name)": "3",
                    "Előző 3 összesen": "4"
                },
                {
                    "USERNEV": "balint1",
                    "NEV": "Molnár Bálint",
                    "METTOL": "2016-06-07",
                    "MEDDIG": "2016-06-11",
                    "(No column name)": "3",
                    "Előző 3 összesen": "NULL"
                },
                {
                    "USERNEV": "balint1",
                    "NEV": "Molnár Bálint",
                    "METTOL": "2016-06-07",
                    "MEDDIG": "2016-06-12",
                    "(No column name)": "3",
                    "Előző 3 összesen": "3"
                },
                {
                    "USERNEV": "balint1",
                    "NEV": "Molnár Bálint",
                    "METTOL": "2016-06-10",
                    "MEDDIG": "2016-06-12",
                    "(No column name)": "1",
                    "Előző 3 összesen": "6"
                },
                {
                    "USERNEV": "balint1",
                    "NEV": "Molnár Bálint",
                    "METTOL": "2016-07-26",
                    "MEDDIG": "2016-07-28",
                    "(No column name)": "2",
                    "Előző 3 összesen": "7"
                },
                {
                    "USERNEV": "balint1",
                    "NEV": "Molnár Bálint",
                    "METTOL": "2016-08-03",
                    "MEDDIG": "2016-08-08",
                    "(No column name)": "2",
                    "Előző 3 összesen": "6"
                },
                {
                    "USERNEV": "balint1",
                    "NEV": "Molnár Bálint",
                    "METTOL": "2016-09-16",
                    "MEDDIG": "2016-09-21",
                    "(No column name)": "1",
                    "Előző 3 összesen": "5"
                },
                {
                    "USERNEV": "balint1",
                    "NEV": "Molnár Bálint",
                    "METTOL": "2016-11-07",
                    "MEDDIG": "2016-11-10",
                    "(No column name)": "2",
                    "Előző 3 összesen": "5"
                },
                {
                    "USERNEV": "balint1",
                    "NEV": "Molnár Bálint",
                    "METTOL": "2016-12-17",
                    "MEDDIG": "2016-12-22",
                    "(No column name)": "3",
                    "Előző 3 összesen": "5"
                },
                {
                    "USERNEV": "balint1",
                    "NEV": "Molnár Bálint",
                    "METTOL": "2016-12-29",
                    "MEDDIG": "2016-12-31",
                    "(No column name)": "3",
                    "Előző 3 összesen": "6"
                },
                {
                    "USERNEV": "balint1",
                    "NEV": "Molnár Bálint",
                    "METTOL": "2017-01-03",
                    "MEDDIG": "2017-01-08",
                    "(No column name)": "2",
                    "Előző 3 összesen": "8"
                },
                {
                    "USERNEV": "balint2",
                    "NEV": "Vukasinovity Bálint",
                    "METTOL": "2016-07-21",
                    "MEDDIG": "2016-07-26",
                    "(No column name)": "1",
                    "Előző 3 összesen": "NULL"
                },
                {
                    "USERNEV": "balint2",
                    "NEV": "Vukasinovity Bálint",
                    "METTOL": "2016-12-04",
                    "MEDDIG": "2016-12-06",
                    "(No column name)": "3",
                    "Előző 3 összesen": "1"
                },
                {
                    "USERNEV": "balu",
                    "NEV": "Endresz Bálint",
                    "METTOL": "2016-08-06",
                    "MEDDIG": "2016-08-10",
                    "(No column name)": "2",
                    "Előző 3 összesen": "NULL"
                },
                {
                    "USERNEV": "balu",
                    "NEV": "Endresz Bálint",
                    "METTOL": "2016-12-22",
                    "MEDDIG": "2016-12-23",
                    "(No column name)": "2",
                    "Előző 3 összesen": "2"
                },
                {
                    "USERNEV": "beata4",
                    "NEV": "Bagi Beáta",
                    "METTOL": "2016-04-20",
                    "MEDDIG": "2016-04-21",
                    "(No column name)": "2",
                    "Előző 3 összesen": "NULL"
                },
                {
                    "USERNEV": "beata4",
                    "NEV": "Bagi Beáta",
                    "METTOL": "2016-06-03",
                    "MEDDIG": "2016-06-04",
                    "(No column name)": "2",
                    "Előző 3 összesen": "2"
                },
                {
                    "USERNEV": "beata4",
                    "NEV": "Bagi Beáta",
                    "METTOL": "2016-07-03",
                    "MEDDIG": "2016-07-06",
                    "(No column name)": "1",
                    "Előző 3 összesen": "4"
                },
                {
                    "USERNEV": "beata4",
                    "NEV": "Bagi Beáta",
                    "METTOL": "2016-08-25",
                    "MEDDIG": "2016-08-27",
                    "(No column name)": "3",
                    "Előző 3 összesen": "5"
                },
                {
                    "USERNEV": "beata4",
                    "NEV": "Bagi Beáta",
                    "METTOL": "2016-10-01",
                    "MEDDIG": "2016-10-05",
                    "(No column name)": "1",
                    "Előző 3 összesen": "6"
                },
                {
                    "USERNEV": "beata4",
                    "NEV": "Bagi Beáta",
                    "METTOL": "2016-10-03",
                    "MEDDIG": "2016-10-06",
                    "(No column name)": "3",
                    "Előző 3 összesen": "5"
                },
                {
                    "USERNEV": "BEATRIXK",
                    "NEV": "Kerényi Beatrix",
                    "METTOL": "2016-06-10",
                    "MEDDIG": "2016-06-11",
                    "(No column name)": "2",
                    "Előző 3 összesen": "NULL"
                },
                {
                    "USERNEV": "BEATRIXK",
                    "NEV": "Kerényi Beatrix",
                    "METTOL": "2016-06-10",
                    "MEDDIG": "2016-06-14",
                    "(No column name)": "2",
                    "Előző 3 összesen": "2"
                },
                {
                    "USERNEV": "BEATRIXK",
                    "NEV": "Kerényi Beatrix",
                    "METTOL": "2016-06-19",
                    "MEDDIG": "2016-06-21",
                    "(No column name)": "3",
                    "Előző 3 összesen": "4"
                },
                {
                    "USERNEV": "BEATRIXK",
                    "NEV": "Kerényi Beatrix",
                    "METTOL": "2016-08-12",
                    "MEDDIG": "2016-08-18",
                    "(No column name)": "4",
                    "Előző 3 összesen": "7"
                },
                {
                    "USERNEV": "BEATRIXK",
                    "NEV": "Kerényi Beatrix",
                    "METTOL": "2016-10-23",
                    "MEDDIG": "2016-10-28",
                    "(No column name)": "2",
                    "Előző 3 összesen": "9"
                },
                {
                    "USERNEV": "BEATRIXK",
                    "NEV": "Kerényi Beatrix",
                    "METTOL": "2016-11-14",
                    "MEDDIG": "2016-11-19",
                    "(No column name)": "2",
                    "Előző 3 összesen": "9"
                },
                {
                    "USERNEV": "BEATRIXK",
                    "NEV": "Kerényi Beatrix",
                    "METTOL": "2016-12-12",
                    "MEDDIG": "2016-12-14",
                    "(No column name)": "3",
                    "Előző 3 összesen": "8"
                },
                {
                    "USERNEV": "BEATRIXK",
                    "NEV": "Kerényi Beatrix",
                    "METTOL": "2016-12-17",
                    "MEDDIG": "2016-12-22",
                    "(No column name)": "4",
                    "Előző 3 összesen": "7"
                },
                {
                    "USERNEV": "BEATRIXK",
                    "NEV": "Kerényi Beatrix",
                    "METTOL": "2017-02-08",
                    "MEDDIG": "2017-02-09",
                    "(No column name)": "3",
                    "Előző 3 összesen": "9"
                },
                {
                    "USERNEV": "BEATRIXS",
                    "NEV": "Szekendi Beatrix",
                    "METTOL": "2016-04-18",
                    "MEDDIG": "2016-04-24",
                    "(No column name)": "1",
                    "Előző 3 összesen": "NULL"
                },
                {
                    "USERNEV": "BEATRIXS",
                    "NEV": "Szekendi Beatrix",
                    "METTOL": "2016-06-11",
                    "MEDDIG": "2016-06-14",
                    "(No column name)": "3",
                    "Előző 3 összesen": "1"
                },
                {
                    "USERNEV": "BEATRIXS",
                    "NEV": "Szekendi Beatrix",
                    "METTOL": "2016-10-01",
                    "MEDDIG": "2016-10-03",
                    "(No column name)": "3",
                    "Előző 3 összesen": "4"
                },
                {
                    "USERNEV": "BEATRIXS",
                    "NEV": "Szekendi Beatrix",
                    "METTOL": "2016-10-01",
                    "MEDDIG": "2016-10-05",
                    "(No column name)": "3",
                    "Előző 3 összesen": "7"
                },
                {
                    "USERNEV": "BEATRIXS",
                    "NEV": "Szekendi Beatrix",
                    "METTOL": "2016-12-21",
                    "MEDDIG": "2016-12-27",
                    "(No column name)": "2",
                    "Előző 3 összesen": "9"
                },
                {
                    "USERNEV": "BEATRIXS",
                    "NEV": "Szekendi Beatrix",
                    "METTOL": "2017-02-03",
                    "MEDDIG": "2017-02-04",
                    "(No column name)": "2",
                    "Előző 3 összesen": "8"
                },
                {
                    "USERNEV": "BELAF",
                    "NEV": "Farkas Béla",
                    "METTOL": "2016-07-27",
                    "MEDDIG": "2016-07-30",
                    "(No column name)": "3",
                    "Előző 3 összesen": "NULL"
                },
                {
                    "USERNEV": "BELAF",
                    "NEV": "Farkas Béla",
                    "METTOL": "2016-07-29",
                    "MEDDIG": "2016-07-31",
                    "(No column name)": "2",
                    "Előző 3 összesen": "3"
                },
                {
                    "USERNEV": "BELAF",
                    "NEV": "Farkas Béla",
                    "METTOL": "2016-08-29",
                    "MEDDIG": "2016-08-31",
                    "(No column name)": "2",
                    "Előző 3 összesen": "5"
                },
                {
                    "USERNEV": "BELAF",
                    "NEV": "Farkas Béla",
                    "METTOL": "2016-11-03",
                    "MEDDIG": "2016-11-09",
                    "(No column name)": "4",
                    "Előző 3 összesen": "7"
                },
                {
                    "USERNEV": "BELAF",
                    "NEV": "Farkas Béla",
                    "METTOL": "2016-12-02",
                    "MEDDIG": "2016-12-04",
                    "(No column name)": "3",
                    "Előző 3 összesen": "8"
                },
                {
                    "USERNEV": "BELAF",
                    "NEV": "Farkas Béla",
                    "METTOL": "2016-12-06",
                    "MEDDIG": "2016-12-09",
                    "(No column name)": "1",
                    "Előző 3 összesen": "9"
                },
                {
                    "USERNEV": "bence",
                    "NEV": "Győrffy Bence",
                    "METTOL": "2016-05-08",
                    "MEDDIG": "2016-05-11",
                    "(No column name)": "2",
                    "Előző 3 összesen": "NULL"
                },
                {
                    "USERNEV": "bence",
                    "NEV": "Győrffy Bence",
                    "METTOL": "2016-05-29",
                    "MEDDIG": "2016-06-03",
                    "(No column name)": "1",
                    "Előző 3 összesen": "2"
                },
                {
                    "USERNEV": "bence",
                    "NEV": "Győrffy Bence",
                    "METTOL": "2016-07-24",
                    "MEDDIG": "2016-07-30",
                    "(No column name)": "2",
                    "Előző 3 összesen": "3"
                },
                {
                    "USERNEV": "bence",
                    "NEV": "Győrffy Bence",
                    "METTOL": "2016-07-25",
                    "MEDDIG": "2016-08-01",
                    "(No column name)": "3",
                    "Előző 3 összesen": "5"
                },
                {
                    "USERNEV": "bence",
                    "NEV": "Győrffy Bence",
                    "METTOL": "2016-09-03",
                    "MEDDIG": "2016-09-06",
                    "(No column name)": "3",
                    "Előző 3 összesen": "6"
                },
                {
                    "USERNEV": "bence",
                    "NEV": "Győrffy Bence",
                    "METTOL": "2016-10-30",
                    "MEDDIG": "2016-11-02",
                    "(No column name)": "4",
                    "Előző 3 összesen": "8"
                },
                {
                    "USERNEV": "bence",
                    "NEV": "Győrffy Bence",
                    "METTOL": "2016-12-17",
                    "MEDDIG": "2016-12-18",
                    "(No column name)": "2",
                    "Előző 3 összesen": "10"
                },
                {
                    "USERNEV": "bence",
                    "NEV": "Győrffy Bence",
                    "METTOL": "2016-12-26",
                    "MEDDIG": "2016-12-27",
                    "(No column name)": "2",
                    "Előző 3 összesen": "9"
                },
                {
                    "USERNEV": "bence",
                    "NEV": "Győrffy Bence",
                    "METTOL": "2017-02-05",
                    "MEDDIG": "2017-02-09",
                    "(No column name)": "3",
                    "Előző 3 összesen": "8"
                },
                {
                    "USERNEV": "BENCEB",
                    "NEV": "Bajusz Bence",
                    "METTOL": "2016-05-14",
                    "MEDDIG": "2016-05-17",
                    "(No column name)": "3",
                    "Előző 3 összesen": "NULL"
                },
                {
                    "USERNEV": "BENCEB",
                    "NEV": "Bajusz Bence",
                    "METTOL": "2016-06-03",
                    "MEDDIG": "2016-06-09",
                    "(No column name)": "2",
                    "Előző 3 összesen": "3"
                },
                {
                    "USERNEV": "BENCEB",
                    "NEV": "Bajusz Bence",
                    "METTOL": "2016-08-01",
                    "MEDDIG": "2016-08-02",
                    "(No column name)": "2",
                    "Előző 3 összesen": "5"
                },
                {
                    "USERNEV": "BENCEB",
                    "NEV": "Bajusz Bence",
                    "METTOL": "2016-10-22",
                    "MEDDIG": "2016-10-29",
                    "(No column name)": "3",
                    "Előző 3 összesen": "7"
                },
                {
                    "USERNEV": "BENCEB",
                    "NEV": "Bajusz Bence",
                    "METTOL": "2016-11-28",
                    "MEDDIG": "2016-12-02",
                    "(No column name)": "2",
                    "Előző 3 összesen": "7"
                },
                {
                    "USERNEV": "BENCEB",
                    "NEV": "Bajusz Bence",
                    "METTOL": "2017-02-12",
                    "MEDDIG": "2017-02-19",
                    "(No column name)": "3",
                    "Előző 3 összesen": "7"
                },
                {
                    "USERNEV": "bernadett1",
                    "NEV": "Simon Bernadett",
                    "METTOL": "2016-06-12",
                    "MEDDIG": "2016-06-17",
                    "(No column name)": "3",
                    "Előző 3 összesen": "NULL"
                },
                {
                    "USERNEV": "bernadett1",
                    "NEV": "Simon Bernadett",
                    "METTOL": "2016-10-08",
                    "MEDDIG": "2016-10-09",
                    "(No column name)": "4",
                    "Előző 3 összesen": "3"
                },
                {
                    "USERNEV": "bernadett1",
                    "NEV": "Simon Bernadett",
                    "METTOL": "2016-10-15",
                    "MEDDIG": "2016-10-22",
                    "(No column name)": "3",
                    "Előző 3 összesen": "7"
                },
                {
                    "USERNEV": "bernadett1",
                    "NEV": "Simon Bernadett",
                    "METTOL": "2016-10-26",
                    "MEDDIG": "2016-11-02",
                    "(No column name)": "3",
                    "Előző 3 összesen": "10"
                },
                {
                    "USERNEV": "bernadett1",
                    "NEV": "Simon Bernadett",
                    "METTOL": "2016-10-28",
                    "MEDDIG": "2016-11-01",
                    "(No column name)": "3",
                    "Előző 3 összesen": "10"
                },
                {
                    "USERNEV": "bernadett1",
                    "NEV": "Simon Bernadett",
                    "METTOL": "2017-02-14",
                    "MEDDIG": "2017-02-15",
                    "(No column name)": "3",
                    "Előző 3 összesen": "9"
                },
                {
                    "USERNEV": "bernadett1",
                    "NEV": "Simon Bernadett",
                    "METTOL": "2017-02-24",
                    "MEDDIG": "2017-03-03",
                    "(No column name)": "1",
                    "Előző 3 összesen": "9"
                },
                {
                    "USERNEV": "bernadett2",
                    "NEV": "Kovács Bernadett",
                    "METTOL": "2016-05-01",
                    "MEDDIG": "2016-05-03",
                    "(No column name)": "2",
                    "Előző 3 összesen": "NULL"
                },
                {
                    "USERNEV": "bernadett2",
                    "NEV": "Kovács Bernadett",
                    "METTOL": "2016-06-17",
                    "MEDDIG": "2016-06-23",
                    "(No column name)": "3",
                    "Előző 3 összesen": "2"
                },
                {
                    "USERNEV": "bernadett2",
                    "NEV": "Kovács Bernadett",
                    "METTOL": "2016-08-23",
                    "MEDDIG": "2016-08-29",
                    "(No column name)": "2",
                    "Előző 3 összesen": "5"
                },
                {
                    "USERNEV": "bernadett2",
                    "NEV": "Kovács Bernadett",
                    "METTOL": "2016-08-25",
                    "MEDDIG": "2016-08-27",
                    "(No column name)": "3",
                    "Előző 3 összesen": "7"
                },
                {
                    "USERNEV": "bernadett2",
                    "NEV": "Kovács Bernadett",
                    "METTOL": "2016-09-07",
                    "MEDDIG": "2016-09-13",
                    "(No column name)": "3",
                    "Előző 3 összesen": "8"
                },
                {
                    "USERNEV": "bernadett2",
                    "NEV": "Kovács Bernadett",
                    "METTOL": "2016-10-30",
                    "MEDDIG": "2016-11-06",
                    "(No column name)": "3",
                    "Előző 3 összesen": "8"
                },
                {
                    "USERNEV": "bernadett2",
                    "NEV": "Kovács Bernadett",
                    "METTOL": "2016-12-17",
                    "MEDDIG": "2016-12-20",
                    "(No column name)": "1",
                    "Előző 3 összesen": "9"
                },
                {
                    "USERNEV": "bernadett2",
                    "NEV": "Kovács Bernadett",
                    "METTOL": "2017-01-24",
                    "MEDDIG": "2017-01-30",
                    "(No column name)": "3",
                    "Előző 3 összesen": "7"
                },
                {
                    "USERNEV": "BERNADETTO",
                    "NEV": "Orbán Bernadett",
                    "METTOL": "2016-04-10",
                    "MEDDIG": "2016-04-17",
                    "(No column name)": "2",
                    "Előző 3 összesen": "NULL"
                },
                {
                    "USERNEV": "BERNADETTO",
                    "NEV": "Orbán Bernadett",
                    "METTOL": "2016-04-17",
                    "MEDDIG": "2016-04-19",
                    "(No column name)": "2",
                    "Előző 3 összesen": "2"
                },
                {
                    "USERNEV": "BERNADETTO",
                    "NEV": "Orbán Bernadett",
                    "METTOL": "2016-06-07",
                    "MEDDIG": "2016-06-13",
                    "(No column name)": "3",
                    "Előző 3 összesen": "4"
                },
                {
                    "USERNEV": "BERNADETTO",
                    "NEV": "Orbán Bernadett",
                    "METTOL": "2016-06-10",
                    "MEDDIG": "2016-06-16",
                    "(No column name)": "4",
                    "Előző 3 összesen": "7"
                },
                {
                    "USERNEV": "BERNADETTO",
                    "NEV": "Orbán Bernadett",
                    "METTOL": "2016-10-04",
                    "MEDDIG": "2016-10-05",
                    "(No column name)": "2",
                    "Előző 3 összesen": "9"
                },
                {
                    "USERNEV": "BERNADETTO",
                    "NEV": "Orbán Bernadett",
                    "METTOL": "2017-01-01",
                    "MEDDIG": "2017-01-02",
                    "(No column name)": "3",
                    "Előző 3 összesen": "9"
                },
                {
                    "USERNEV": "BERNADETTO",
                    "NEV": "Orbán Bernadett",
                    "METTOL": "2017-01-28",
                    "MEDDIG": "2017-02-03",
                    "(No column name)": "2",
                    "Előző 3 összesen": "9"
                },
                {
                    "USERNEV": "bertalan",
                    "NEV": "Csiger Bertalan",
                    "METTOL": "2016-05-18",
                    "MEDDIG": "2016-05-23",
                    "(No column name)": "2",
                    "Előző 3 összesen": "NULL"
                },
                {
                    "USERNEV": "bertalan",
                    "NEV": "Csiger Bertalan",
                    "METTOL": "2016-06-20",
                    "MEDDIG": "2016-06-21",
                    "(No column name)": "1",
                    "Előző 3 összesen": "2"
                },
                {
                    "USERNEV": "bertalan",
                    "NEV": "Csiger Bertalan",
                    "METTOL": "2016-11-03",
                    "MEDDIG": "2016-11-10",
                    "(No column name)": "2",
                    "Előző 3 összesen": "3"
                },
                {
                    "USERNEV": "bertalan",
                    "NEV": "Csiger Bertalan",
                    "METTOL": "2016-11-26",
                    "MEDDIG": "2016-11-29",
                    "(No column name)": "3",
                    "Előző 3 összesen": "5"
                },
                {
                    "USERNEV": "bertalan",
                    "NEV": "Csiger Bertalan",
                    "METTOL": "2017-02-16",
                    "MEDDIG": "2017-02-22",
                    "(No column name)": "2",
                    "Előző 3 összesen": "6"
                },
                {
                    "USERNEV": "bertalan",
                    "NEV": "Csiger Bertalan",
                    "METTOL": "2017-02-20",
                    "MEDDIG": "2017-02-24",
                    "(No column name)": "4",
                    "Előző 3 összesen": "7"
                },
                {
                    "USERNEV": "brigitta",
                    "NEV": "Székely Brigitta",
                    "METTOL": "2016-05-30",
                    "MEDDIG": "2016-06-06",
                    "(No column name)": "3",
                    "Előző 3 összesen": "NULL"
                },
                {
                    "USERNEV": "brigitta",
                    "NEV": "Székely Brigitta",
                    "METTOL": "2016-08-28",
                    "MEDDIG": "2016-09-01",
                    "(No column name)": "3",
                    "Előző 3 összesen": "3"
                },
                {
                    "USERNEV": "brigitta",
                    "NEV": "Székely Brigitta",
                    "METTOL": "2016-10-21",
                    "MEDDIG": "2016-10-28",
                    "(No column name)": "3",
                    "Előző 3 összesen": "6"
                },
                {
                    "USERNEV": "brigitta",
                    "NEV": "Székely Brigitta",
                    "METTOL": "2016-12-17",
                    "MEDDIG": "2016-12-22",
                    "(No column name)": "2",
                    "Előző 3 összesen": "9"
                },
                {
                    "USERNEV": "brigitta",
                    "NEV": "Székely Brigitta",
                    "METTOL": "2017-01-23",
                    "MEDDIG": "2017-01-25",
                    "(No column name)": "1",
                    "Előző 3 összesen": "8"
                },
                {
                    "USERNEV": "brigitta3",
                    "NEV": "Pataki Brigitta",
                    "METTOL": "2016-06-01",
                    "MEDDIG": "2016-06-05",
                    "(No column name)": "2",
                    "Előző 3 összesen": "NULL"
                },
                {
                    "USERNEV": "brigitta3",
                    "NEV": "Pataki Brigitta",
                    "METTOL": "2016-06-13",
                    "MEDDIG": "2016-06-17",
                    "(No column name)": "3",
                    "Előző 3 összesen": "2"
                },
                {
                    "USERNEV": "brigitta3",
                    "NEV": "Pataki Brigitta",
                    "METTOL": "2016-10-10",
                    "MEDDIG": "2016-10-14",
                    "(No column name)": "2",
                    "Előző 3 összesen": "5"
                },
                {
                    "USERNEV": "brigitta3",
                    "NEV": "Pataki Brigitta",
                    "METTOL": "2016-11-03",
                    "MEDDIG": "2016-11-09",
                    "(No column name)": "3",
                    "Előző 3 összesen": "7"
                },
                {
                    "USERNEV": "brigitta3",
                    "NEV": "Pataki Brigitta",
                    "METTOL": "2017-02-09",
                    "MEDDIG": "2017-02-16",
                    "(No column name)": "2",
                    "Előző 3 összesen": "8"
                },
                {
                    "USERNEV": "csongor3",
                    "NEV": "Nagymihály Csongor",
                    "METTOL": "2016-05-01",
                    "MEDDIG": "2016-05-04",
                    "(No column name)": "2",
                    "Előző 3 összesen": "NULL"
                },
                {
                    "USERNEV": "csongor3",
                    "NEV": "Nagymihály Csongor",
                    "METTOL": "2016-05-08",
                    "MEDDIG": "2016-05-15",
                    "(No column name)": "3",
                    "Előző 3 összesen": "2"
                },
                {
                    "USERNEV": "csongor3",
                    "NEV": "Nagymihály Csongor",
                    "METTOL": "2016-06-04",
                    "MEDDIG": "2016-06-05",
                    "(No column name)": "2",
                    "Előző 3 összesen": "5"
                },
                {
                    "USERNEV": "csongor3",
                    "NEV": "Nagymihály Csongor",
                    "METTOL": "2016-06-10",
                    "MEDDIG": "2016-06-17",
                    "(No column name)": "3",
                    "Előző 3 összesen": "7"
                },
                {
                    "USERNEV": "csongor3",
                    "NEV": "Nagymihály Csongor",
                    "METTOL": "2016-06-11",
                    "MEDDIG": "2016-06-14",
                    "(No column name)": "2",
                    "Előző 3 összesen": "8"
                },
                {
                    "USERNEV": "csongor3",
                    "NEV": "Nagymihály Csongor",
                    "METTOL": "2016-07-09",
                    "MEDDIG": "2016-07-10",
                    "(No column name)": "4",
                    "Előző 3 összesen": "7"
                },
                {
                    "USERNEV": "csongor3",
                    "NEV": "Nagymihály Csongor",
                    "METTOL": "2016-11-12",
                    "MEDDIG": "2016-11-17",
                    "(No column name)": "3",
                    "Előző 3 összesen": "9"
                },
                {
                    "USERNEV": "csongor3",
                    "NEV": "Nagymihály Csongor",
                    "METTOL": "2017-02-13",
                    "MEDDIG": "2017-02-19",
                    "(No column name)": "3",
                    "Előző 3 összesen": "9"
                },
                {
                    "USERNEV": "dani",
                    "NEV": "Vörös Dániel",
                    "METTOL": "2016-06-06",
                    "MEDDIG": "2016-06-10",
                    "(No column name)": "3",
                    "Előző 3 összesen": "NULL"
                },
                {
                    "USERNEV": "dani",
                    "NEV": "Vörös Dániel",
                    "METTOL": "2016-07-11",
                    "MEDDIG": "2016-07-12",
                    "(No column name)": "3",
                    "Előző 3 összesen": "3"
                },
                {
                    "USERNEV": "dani",
                    "NEV": "Vörös Dániel",
                    "METTOL": "2016-08-06",
                    "MEDDIG": "2016-08-09",
                    "(No column name)": "2",
                    "Előző 3 összesen": "6"
                },
                {
                    "USERNEV": "dani",
                    "NEV": "Vörös Dániel",
                    "METTOL": "2016-09-19",
                    "MEDDIG": "2016-09-25",
                    "(No column name)": "4",
                    "Előző 3 összesen": "8"
                },
                {
                    "USERNEV": "dani",
                    "NEV": "Vörös Dániel",
                    "METTOL": "2016-10-01",
                    "MEDDIG": "2016-10-02",
                    "(No column name)": "1",
                    "Előző 3 összesen": "9"
                },
                {
                    "USERNEV": "dani",
                    "NEV": "Vörös Dániel",
                    "METTOL": "2016-11-22",
                    "MEDDIG": "2016-11-24",
                    "(No column name)": "2",
                    "Előző 3 összesen": "7"
                },
                {
                    "USERNEV": "dani",
                    "NEV": "Vörös Dániel",
                    "METTOL": "2017-01-17",
                    "MEDDIG": "2017-01-23",
                    "(No column name)": "2",
                    "Előző 3 összesen": "7"
                },
                {
                    "USERNEV": "dani",
                    "NEV": "Vörös Dániel",
                    "METTOL": "2017-01-22",
                    "MEDDIG": "2017-01-29",
                    "(No column name)": "1",
                    "Előző 3 összesen": "5"
                },
                {
                    "USERNEV": "dani",
                    "NEV": "Vörös Dániel",
                    "METTOL": "2017-02-25",
                    "MEDDIG": "2017-03-01",
                    "(No column name)": "3",
                    "Előző 3 összesen": "5"
                },
                {
                    "USERNEV": "daniel",
                    "NEV": "Rácz Dániel",
                    "METTOL": "2016-04-10",
                    "MEDDIG": "2016-04-11",
                    "(No column name)": "4",
                    "Előző 3 összesen": "NULL"
                },
                {
                    "USERNEV": "daniel",
                    "NEV": "Rácz Dániel",
                    "METTOL": "2016-04-22",
                    "MEDDIG": "2016-04-25",
                    "(No column name)": "2",
                    "Előző 3 összesen": "4"
                },
                {
                    "USERNEV": "daniel",
                    "NEV": "Rácz Dániel",
                    "METTOL": "2016-05-09",
                    "MEDDIG": "2016-05-13",
                    "(No column name)": "3",
                    "Előző 3 összesen": "6"
                },
                {
                    "USERNEV": "daniel",
                    "NEV": "Rácz Dániel",
                    "METTOL": "2016-09-08",
                    "MEDDIG": "2016-09-10",
                    "(No column name)": "4",
                    "Előző 3 összesen": "9"
                },
                {
                    "USERNEV": "daniel",
                    "NEV": "Rácz Dániel",
                    "METTOL": "2016-11-13",
                    "MEDDIG": "2016-11-19",
                    "(No column name)": "3",
                    "Előző 3 összesen": "9"
                },
                {
                    "USERNEV": "daniel",
                    "NEV": "Rácz Dániel",
                    "METTOL": "2016-12-25",
                    "MEDDIG": "2016-12-26",
                    "(No column name)": "3",
                    "Előző 3 összesen": "10"
                },
                {
                    "USERNEV": "daniel",
                    "NEV": "Rácz Dániel",
                    "METTOL": "2017-01-09",
                    "MEDDIG": "2017-01-11",
                    "(No column name)": "1",
                    "Előző 3 összesen": "10"
                },
                {
                    "USERNEV": "daniel",
                    "NEV": "Rácz Dániel",
                    "METTOL": "2017-02-12",
                    "MEDDIG": "2017-02-13",
                    "(No column name)": "3",
                    "Előző 3 összesen": "7"
                },
                {
                    "USERNEV": "daniel",
                    "NEV": "Rácz Dániel",
                    "METTOL": "2017-02-20",
                    "MEDDIG": "2017-02-23",
                    "(No column name)": "3",
                    "Előző 3 összesen": "7"
                },
                {
                    "USERNEV": "daniel1",
                    "NEV": "Keszler Dániel",
                    "METTOL": "2016-04-10",
                    "MEDDIG": "2016-04-15",
                    "(No column name)": "2",
                    "Előző 3 összesen": "NULL"
                },
                {
                    "USERNEV": "daniel1",
                    "NEV": "Keszler Dániel",
                    "METTOL": "2016-05-10",
                    "MEDDIG": "2016-05-13",
                    "(No column name)": "4",
                    "Előző 3 összesen": "2"
                },
                {
                    "USERNEV": "daniel1",
                    "NEV": "Keszler Dániel",
                    "METTOL": "2016-05-26",
                    "MEDDIG": "2016-05-27",
                    "(No column name)": "3",
                    "Előző 3 összesen": "6"
                },
                {
                    "USERNEV": "daniel1",
                    "NEV": "Keszler Dániel",
                    "METTOL": "2016-11-09",
                    "MEDDIG": "2016-11-11",
                    "(No column name)": "2",
                    "Előző 3 összesen": "9"
                },
                {
                    "USERNEV": "daniel1",
                    "NEV": "Keszler Dániel",
                    "METTOL": "2016-11-23",
                    "MEDDIG": "2016-11-25",
                    "(No column name)": "2",
                    "Előző 3 összesen": "9"
                },
                {
                    "USERNEV": "daniel1",
                    "NEV": "Keszler Dániel",
                    "METTOL": "2017-01-05",
                    "MEDDIG": "2017-01-08",
                    "(No column name)": "3",
                    "Előző 3 összesen": "7"
                },
                {
                    "USERNEV": "daniel1",
                    "NEV": "Keszler Dániel",
                    "METTOL": "2017-03-01",
                    "MEDDIG": "2017-03-06",
                    "(No column name)": "4",
                    "Előző 3 összesen": "7"
                },
                {
                    "USERNEV": "david",
                    "NEV": "Ambrus Dávid",
                    "METTOL": "2016-05-18",
                    "MEDDIG": "2016-05-25",
                    "(No column name)": "2",
                    "Előző 3 összesen": "NULL"
                },
                {
                    "USERNEV": "david",
                    "NEV": "Ambrus Dávid",
                    "METTOL": "2016-06-09",
                    "MEDDIG": "2016-06-10",
                    "(No column name)": "2",
                    "Előző 3 összesen": "2"
                },
                {
                    "USERNEV": "david",
                    "NEV": "Ambrus Dávid",
                    "METTOL": "2016-06-30",
                    "MEDDIG": "2016-07-07",
                    "(No column name)": "2",
                    "Előző 3 összesen": "4"
                },
                {
                    "USERNEV": "david",
                    "NEV": "Ambrus Dávid",
                    "METTOL": "2016-07-18",
                    "MEDDIG": "2016-07-21",
                    "(No column name)": "2",
                    "Előző 3 összesen": "6"
                },
                {
                    "USERNEV": "david",
                    "NEV": "Ambrus Dávid",
                    "METTOL": "2016-08-05",
                    "MEDDIG": "2016-08-12",
                    "(No column name)": "1",
                    "Előző 3 összesen": "6"
                },
                {
                    "USERNEV": "david",
                    "NEV": "Ambrus Dávid",
                    "METTOL": "2016-08-20",
                    "MEDDIG": "2016-08-25",
                    "(No column name)": "3",
                    "Előző 3 összesen": "5"
                },
                {
                    "USERNEV": "david",
                    "NEV": "Ambrus Dávid",
                    "METTOL": "2016-08-22",
                    "MEDDIG": "2016-08-24",
                    "(No column name)": "3",
                    "Előző 3 összesen": "6"
                },
                {
                    "USERNEV": "david",
                    "NEV": "Ambrus Dávid",
                    "METTOL": "2016-10-30",
                    "MEDDIG": "2016-11-04",
                    "(No column name)": "2",
                    "Előző 3 összesen": "7"
                },
                {
                    "USERNEV": "david",
                    "NEV": "Ambrus Dávid",
                    "METTOL": "2017-01-18",
                    "MEDDIG": "2017-01-19",
                    "(No column name)": "2",
                    "Előző 3 összesen": "8"
                },
                {
                    "USERNEV": "david1",
                    "NEV": "Sobják Dávid",
                    "METTOL": "2016-09-20",
                    "MEDDIG": "2016-09-21",
                    "(No column name)": "2",
                    "Előző 3 összesen": "NULL"
                },
                {
                    "USERNEV": "david1",
                    "NEV": "Sobják Dávid",
                    "METTOL": "2016-10-01",
                    "MEDDIG": "2016-10-02",
                    "(No column name)": "2",
                    "Előző 3 összesen": "2"
                },
                {
                    "USERNEV": "david1",
                    "NEV": "Sobják Dávid",
                    "METTOL": "2016-11-19",
                    "MEDDIG": "2016-11-22",
                    "(No column name)": "2",
                    "Előző 3 összesen": "4"
                },
                {
                    "USERNEV": "david1",
                    "NEV": "Sobják Dávid",
                    "METTOL": "2016-12-30",
                    "MEDDIG": "2017-01-06",
                    "(No column name)": "2",
                    "Előző 3 összesen": "6"
                },
                {
                    "USERNEV": "david1",
                    "NEV": "Sobják Dávid",
                    "METTOL": "2017-02-17",
                    "MEDDIG": "2017-02-20",
                    "(No column name)": "3",
                    "Előző 3 összesen": "6"
                },
                {
                    "USERNEV": "david1",
                    "NEV": "Sobják Dávid",
                    "METTOL": "2017-02-25",
                    "MEDDIG": "2017-02-27",
                    "(No column name)": "4",
                    "Előző 3 összesen": "7"
                },
                {
                    "USERNEV": "david4",
                    "NEV": "Berta Dávid",
                    "METTOL": "2017-02-16",
                    "MEDDIG": "2017-02-19",
                    "(No column name)": "3",
                    "Előző 3 összesen": "NULL"
                },
                {
                    "USERNEV": "debora",
                    "NEV": "Barna Debóra",
                    "METTOL": "2016-06-22",
                    "MEDDIG": "2016-06-24",
                    "(No column name)": "5",
                    "Előző 3 összesen": "NULL"
                },
                {
                    "USERNEV": "debora",
                    "NEV": "Barna Debóra",
                    "METTOL": "2016-10-29",
                    "MEDDIG": "2016-11-03",
                    "(No column name)": "2",
                    "Előző 3 összesen": "5"
                },
                {
                    "USERNEV": "debora",
                    "NEV": "Barna Debóra",
                    "METTOL": "2017-01-23",
                    "MEDDIG": "2017-01-28",
                    "(No column name)": "3",
                    "Előző 3 összesen": "7"
                },
                {
                    "USERNEV": "debora",
                    "NEV": "Barna Debóra",
                    "METTOL": "2017-02-04",
                    "MEDDIG": "2017-02-06",
                    "(No column name)": "3",
                    "Előző 3 összesen": "10"
                },
                {
                    "USERNEV": "denes",
                    "NEV": "Tömböly Dénes",
                    "METTOL": "2016-05-27",
                    "MEDDIG": "2016-05-31",
                    "(No column name)": "3",
                    "Előző 3 összesen": "NULL"
                },
                {
                    "USERNEV": "denes",
                    "NEV": "Tömböly Dénes",
                    "METTOL": "2016-07-19",
                    "MEDDIG": "2016-07-23",
                    "(No column name)": "2",
                    "Előző 3 összesen": "3"
                },
                {
                    "USERNEV": "denes",
                    "NEV": "Tömböly Dénes",
                    "METTOL": "2016-08-01",
                    "MEDDIG": "2016-08-08",
                    "(No column name)": "3",
                    "Előző 3 összesen": "5"
                },
                {
                    "USERNEV": "denes",
                    "NEV": "Tömböly Dénes",
                    "METTOL": "2016-08-16",
                    "MEDDIG": "2016-08-23",
                    "(No column name)": "2",
                    "Előző 3 összesen": "8"
                },
                {
                    "USERNEV": "denes",
                    "NEV": "Tömböly Dénes",
                    "METTOL": "2016-08-20",
                    "MEDDIG": "2016-08-27",
                    "(No column name)": "3",
                    "Előző 3 összesen": "7"
                },
                {
                    "USERNEV": "denes",
                    "NEV": "Tömböly Dénes",
                    "METTOL": "2016-11-06",
                    "MEDDIG": "2016-11-10",
                    "(No column name)": "2",
                    "Előző 3 összesen": "8"
                },
                {
                    "USERNEV": "dora3",
                    "NEV": "Sarodi Dóra",
                    "METTOL": "2016-08-16",
                    "MEDDIG": "2016-08-19",
                    "(No column name)": "4",
                    "Előző 3 összesen": "NULL"
                },
                {
                    "USERNEV": "dora3",
                    "NEV": "Sarodi Dóra",
                    "METTOL": "2016-08-25",
                    "MEDDIG": "2016-08-29",
                    "(No column name)": "3",
                    "Előző 3 összesen": "4"
                },
                {
                    "USERNEV": "dora3",
                    "NEV": "Sarodi Dóra",
                    "METTOL": "2016-10-09",
                    "MEDDIG": "2016-10-12",
                    "(No column name)": "3",
                    "Előző 3 összesen": "7"
                },
                {
                    "USERNEV": "dora3",
                    "NEV": "Sarodi Dóra",
                    "METTOL": "2016-10-29",
                    "MEDDIG": "2016-11-02",
                    "(No column name)": "3",
                    "Előző 3 összesen": "10"
                },
                {
                    "USERNEV": "dora3",
                    "NEV": "Sarodi Dóra",
                    "METTOL": "2016-11-22",
                    "MEDDIG": "2016-11-29",
                    "(No column name)": "3",
                    "Előző 3 összesen": "9"
                },
                {
                    "USERNEV": "edit",
                    "NEV": "Bittmann Edit",
                    "METTOL": "2016-07-14",
                    "MEDDIG": "2016-07-17",
                    "(No column name)": "3",
                    "Előző 3 összesen": "NULL"
                },
                {
                    "USERNEV": "edit",
                    "NEV": "Bittmann Edit",
                    "METTOL": "2016-08-03",
                    "MEDDIG": "2016-08-09",
                    "(No column name)": "4",
                    "Előző 3 összesen": "3"
                },
                {
                    "USERNEV": "edit",
                    "NEV": "Bittmann Edit",
                    "METTOL": "2016-08-12",
                    "MEDDIG": "2016-08-14",
                    "(No column name)": "2",
                    "Előző 3 összesen": "7"
                },
                {
                    "USERNEV": "edit",
                    "NEV": "Bittmann Edit",
                    "METTOL": "2016-09-17",
                    "MEDDIG": "2016-09-24",
                    "(No column name)": "2",
                    "Előző 3 összesen": "9"
                },
                {
                    "USERNEV": "edit",
                    "NEV": "Bittmann Edit",
                    "METTOL": "2016-09-18",
                    "MEDDIG": "2016-09-21",
                    "(No column name)": "3",
                    "Előző 3 összesen": "8"
                },
                {
                    "USERNEV": "edit",
                    "NEV": "Bittmann Edit",
                    "METTOL": "2017-01-15",
                    "MEDDIG": "2017-01-18",
                    "(No column name)": "4",
                    "Előző 3 összesen": "7"
                },
                {
                    "USERNEV": "edit",
                    "NEV": "Bittmann Edit",
                    "METTOL": "2017-02-08",
                    "MEDDIG": "2017-02-14",
                    "(No column name)": "3",
                    "Előző 3 összesen": "9"
                },
                {
                    "USERNEV": "emese",
                    "NEV": "Kuruc Emese",
                    "METTOL": "2016-07-22",
                    "MEDDIG": "2016-07-24",
                    "(No column name)": "2",
                    "Előző 3 összesen": "NULL"
                },
                {
                    "USERNEV": "emese",
                    "NEV": "Kuruc Emese",
                    "METTOL": "2016-08-09",
                    "MEDDIG": "2016-08-12",
                    "(No column name)": "2",
                    "Előző 3 összesen": "2"
                },
                {
                    "USERNEV": "emese",
                    "NEV": "Kuruc Emese",
                    "METTOL": "2016-09-27",
                    "MEDDIG": "2016-09-28",
                    "(No column name)": "3",
                    "Előző 3 összesen": "4"
                },
                {
                    "USERNEV": "emese",
                    "NEV": "Kuruc Emese",
                    "METTOL": "2016-11-05",
                    "MEDDIG": "2016-11-09",
                    "(No column name)": "1",
                    "Előző 3 összesen": "7"
                },
                {
                    "USERNEV": "emese",
                    "NEV": "Kuruc Emese",
                    "METTOL": "2016-11-23",
                    "MEDDIG": "2016-11-27",
                    "(No column name)": "4",
                    "Előző 3 összesen": "6"
                },
                {
                    "USERNEV": "emese",
                    "NEV": "Kuruc Emese",
                    "METTOL": "2016-12-07",
                    "MEDDIG": "2016-12-08",
                    "(No column name)": "3",
                    "Előző 3 összesen": "8"
                },
                {
                    "USERNEV": "emese",
                    "NEV": "Kuruc Emese",
                    "METTOL": "2017-01-30",
                    "MEDDIG": "2017-01-31",
                    "(No column name)": "2",
                    "Előző 3 összesen": "8"
                },
                {
                    "USERNEV": "eszter",
                    "NEV": "Molnár Eszter",
                    "METTOL": "2016-08-12",
                    "MEDDIG": "2016-08-18",
                    "(No column name)": "3",
                    "Előző 3 összesen": "NULL"
                },
                {
                    "USERNEV": "eszter",
                    "NEV": "Molnár Eszter",
                    "METTOL": "2016-10-04",
                    "MEDDIG": "2016-10-10",
                    "(No column name)": "3",
                    "Előző 3 összesen": "3"
                },
                {
                    "USERNEV": "eszter",
                    "NEV": "Molnár Eszter",
                    "METTOL": "2016-10-26",
                    "MEDDIG": "2016-11-01",
                    "(No column name)": "3",
                    "Előző 3 összesen": "6"
                },
                {
                    "USERNEV": "eszter",
                    "NEV": "Molnár Eszter",
                    "METTOL": "2016-12-23",
                    "MEDDIG": "2016-12-28",
                    "(No column name)": "2",
                    "Előző 3 összesen": "9"
                },
                {
                    "USERNEV": "eszter2",
                    "NEV": "Balogh Eszter",
                    "METTOL": "2016-06-30",
                    "MEDDIG": "2016-07-07",
                    "(No column name)": "3",
                    "Előző 3 összesen": "NULL"
                },
                {
                    "USERNEV": "eszter2",
                    "NEV": "Balogh Eszter",
                    "METTOL": "2016-07-08",
                    "MEDDIG": "2016-07-09",
                    "(No column name)": "1",
                    "Előző 3 összesen": "3"
                },
                {
                    "USERNEV": "eszter2",
                    "NEV": "Balogh Eszter",
                    "METTOL": "2016-10-01",
                    "MEDDIG": "2016-10-05",
                    "(No column name)": "3",
                    "Előző 3 összesen": "4"
                },
                {
                    "USERNEV": "eszter2",
                    "NEV": "Balogh Eszter",
                    "METTOL": "2016-10-01",
                    "MEDDIG": "2016-10-06",
                    "(No column name)": "1",
                    "Előző 3 összesen": "7"
                },
                {
                    "USERNEV": "eszter2",
                    "NEV": "Balogh Eszter",
                    "METTOL": "2016-10-20",
                    "MEDDIG": "2016-10-25",
                    "(No column name)": "1",
                    "Előző 3 összesen": "5"
                },
                {
                    "USERNEV": "eszter2",
                    "NEV": "Balogh Eszter",
                    "METTOL": "2016-10-23",
                    "MEDDIG": "2016-10-30",
                    "(No column name)": "1",
                    "Előző 3 összesen": "5"
                },
                {
                    "USERNEV": "eszter2",
                    "NEV": "Balogh Eszter",
                    "METTOL": "2016-11-05",
                    "MEDDIG": "2016-11-12",
                    "(No column name)": "4",
                    "Előző 3 összesen": "3"
                },
                {
                    "USERNEV": "eszter2",
                    "NEV": "Balogh Eszter",
                    "METTOL": "2016-12-02",
                    "MEDDIG": "2016-12-07",
                    "(No column name)": "1",
                    "Előző 3 összesen": "6"
                },
                {
                    "USERNEV": "eszter2",
                    "NEV": "Balogh Eszter",
                    "METTOL": "2016-12-05",
                    "MEDDIG": "2016-12-08",
                    "(No column name)": "2",
                    "Előző 3 összesen": "6"
                },
                {
                    "USERNEV": "eszter2",
                    "NEV": "Balogh Eszter",
                    "METTOL": "2016-12-29",
                    "MEDDIG": "2017-02-04",
                    "(No column name)": "1",
                    "Előző 3 összesen": "7"
                },
                {
                    "USERNEV": "eszter4",
                    "NEV": "Fülöp Eszter",
                    "METTOL": "2017-01-05",
                    "MEDDIG": "2017-01-10",
                    "(No column name)": "2",
                    "Előző 3 összesen": "NULL"
                },
                {
                    "USERNEV": "eszter4",
                    "NEV": "Fülöp Eszter",
                    "METTOL": "2017-01-26",
                    "MEDDIG": "2017-02-02",
                    "(No column name)": "2",
                    "Előző 3 összesen": "2"
                },
                {
                    "USERNEV": "eszter4",
                    "NEV": "Fülöp Eszter",
                    "METTOL": "2017-02-26",
                    "MEDDIG": "2017-02-27",
                    "(No column name)": "3",
                    "Előző 3 összesen": "4"
                },
                {
                    "USERNEV": "ESZTERE",
                    "NEV": "Érsek Eszter",
                    "METTOL": "2016-05-30",
                    "MEDDIG": "2016-06-05",
                    "(No column name)": "2",
                    "Előző 3 összesen": "NULL"
                },
                {
                    "USERNEV": "ESZTERE",
                    "NEV": "Érsek Eszter",
                    "METTOL": "2016-07-19",
                    "MEDDIG": "2016-07-21",
                    "(No column name)": "2",
                    "Előző 3 összesen": "2"
                },
                {
                    "USERNEV": "ESZTERE",
                    "NEV": "Érsek Eszter",
                    "METTOL": "2016-11-01",
                    "MEDDIG": "2016-11-08",
                    "(No column name)": "2",
                    "Előző 3 összesen": "4"
                },
                {
                    "USERNEV": "ESZTERE",
                    "NEV": "Érsek Eszter",
                    "METTOL": "2017-02-10",
                    "MEDDIG": "2017-02-14",
                    "(No column name)": "2",
                    "Előző 3 összesen": "6"
                },
                {
                    "USERNEV": "eva",
                    "NEV": "Enyedi Éva",
                    "METTOL": "2016-10-06",
                    "MEDDIG": "2016-10-09",
                    "(No column name)": "3",
                    "Előző 3 összesen": "NULL"
                },
                {
                    "USERNEV": "eva",
                    "NEV": "Enyedi Éva",
                    "METTOL": "2017-01-14",
                    "MEDDIG": "2017-01-16",
                    "(No column name)": "2",
                    "Előző 3 összesen": "3"
                },
                {
                    "USERNEV": "eva2",
                    "NEV": "Perlinger Éva",
                    "METTOL": "2016-09-02",
                    "MEDDIG": "2016-09-03",
                    "(No column name)": "1",
                    "Előző 3 összesen": "NULL"
                },
                {
                    "USERNEV": "eva2",
                    "NEV": "Perlinger Éva",
                    "METTOL": "2016-11-06",
                    "MEDDIG": "2016-11-13",
                    "(No column name)": "2",
                    "Előző 3 összesen": "1"
                },
                {
                    "USERNEV": "eva2",
                    "NEV": "Perlinger Éva",
                    "METTOL": "2016-12-06",
                    "MEDDIG": "2016-12-11",
                    "(No column name)": "2",
                    "Előző 3 összesen": "3"
                },
                {
                    "USERNEV": "eva2",
                    "NEV": "Perlinger Éva",
                    "METTOL": "2017-01-06",
                    "MEDDIG": "2017-01-09",
                    "(No column name)": "4",
                    "Előző 3 összesen": "5"
                },
                {
                    "USERNEV": "EVAV",
                    "NEV": "Viktor Éva",
                    "METTOL": "2016-05-01",
                    "MEDDIG": "2016-05-05",
                    "(No column name)": "3",
                    "Előző 3 összesen": "NULL"
                },
                {
                    "USERNEV": "EVAV",
                    "NEV": "Viktor Éva",
                    "METTOL": "2016-08-31",
                    "MEDDIG": "2016-09-04",
                    "(No column name)": "2",
                    "Előző 3 összesen": "3"
                },
                {
                    "USERNEV": "EVAV",
                    "NEV": "Viktor Éva",
                    "METTOL": "2016-10-15",
                    "MEDDIG": "2016-10-21",
                    "(No column name)": "3",
                    "Előző 3 összesen": "5"
                },
                {
                    "USERNEV": "EVAV",
                    "NEV": "Viktor Éva",
                    "METTOL": "2016-10-16",
                    "MEDDIG": "2016-10-23",
                    "(No column name)": "2",
                    "Előző 3 összesen": "8"
                },
                {
                    "USERNEV": "EVAV",
                    "NEV": "Viktor Éva",
                    "METTOL": "2017-02-04",
                    "MEDDIG": "2017-02-11",
                    "(No column name)": "5",
                    "Előző 3 összesen": "7"
                },
                {
                    "USERNEV": "ferenc1",
                    "NEV": "Orosz Ferenc",
                    "METTOL": "2016-05-08",
                    "MEDDIG": "2016-05-11",
                    "(No column name)": "2",
                    "Előző 3 összesen": "NULL"
                },
                {
                    "USERNEV": "ferenc1",
                    "NEV": "Orosz Ferenc",
                    "METTOL": "2016-06-16",
                    "MEDDIG": "2016-06-22",
                    "(No column name)": "2",
                    "Előző 3 összesen": "2"
                },
                {
                    "USERNEV": "ferenc1",
                    "NEV": "Orosz Ferenc",
                    "METTOL": "2016-10-08",
                    "MEDDIG": "2016-10-09",
                    "(No column name)": "2",
                    "Előző 3 összesen": "4"
                },
                {
                    "USERNEV": "ferenc1",
                    "NEV": "Orosz Ferenc",
                    "METTOL": "2016-11-07",
                    "MEDDIG": "2016-11-08",
                    "(No column name)": "3",
                    "Előző 3 összesen": "6"
                },
                {
                    "USERNEV": "fruzsina4",
                    "NEV": "Frank Fruzsina",
                    "METTOL": "2016-06-02",
                    "MEDDIG": "2016-06-04",
                    "(No column name)": "2",
                    "Előző 3 összesen": "NULL"
                },
                {
                    "USERNEV": "fruzsina4",
                    "NEV": "Frank Fruzsina",
                    "METTOL": "2016-07-01",
                    "MEDDIG": "2016-07-04",
                    "(No column name)": "3",
                    "Előző 3 összesen": "2"
                },
                {
                    "USERNEV": "fruzsina4",
                    "NEV": "Frank Fruzsina",
                    "METTOL": "2016-07-13",
                    "MEDDIG": "2016-07-19",
                    "(No column name)": "3",
                    "Előző 3 összesen": "5"
                },
                {
                    "USERNEV": "fruzsina4",
                    "NEV": "Frank Fruzsina",
                    "METTOL": "2016-08-27",
                    "MEDDIG": "2016-08-30",
                    "(No column name)": "4",
                    "Előző 3 összesen": "8"
                },
                {
                    "USERNEV": "fruzsina4",
                    "NEV": "Frank Fruzsina",
                    "METTOL": "2016-09-29",
                    "MEDDIG": "2016-10-01",
                    "(No column name)": "3",
                    "Előző 3 összesen": "10"
                },
                {
                    "USERNEV": "fruzsina4",
                    "NEV": "Frank Fruzsina",
                    "METTOL": "2016-11-22",
                    "MEDDIG": "2016-11-24",
                    "(No column name)": "2",
                    "Előző 3 összesen": "10"
                },
                {
                    "USERNEV": "fruzsina4",
                    "NEV": "Frank Fruzsina",
                    "METTOL": "2016-12-16",
                    "MEDDIG": "2016-12-21",
                    "(No column name)": "1",
                    "Előző 3 összesen": "9"
                },
                {
                    "USERNEV": "fruzsina4",
                    "NEV": "Frank Fruzsina",
                    "METTOL": "2017-01-22",
                    "MEDDIG": "2017-01-25",
                    "(No column name)": "4",
                    "Előző 3 összesen": "6"
                },
                {
                    "USERNEV": "gabor1",
                    "NEV": "Köves Gábor",
                    "METTOL": "2016-06-20",
                    "MEDDIG": "2016-06-21",
                    "(No column name)": "4",
                    "Előző 3 összesen": "NULL"
                },
                {
                    "USERNEV": "gabor1",
                    "NEV": "Köves Gábor",
                    "METTOL": "2016-07-12",
                    "MEDDIG": "2016-07-15",
                    "(No column name)": "1",
                    "Előző 3 összesen": "4"
                },
                {
                    "USERNEV": "gabor1",
                    "NEV": "Köves Gábor",
                    "METTOL": "2016-07-28",
                    "MEDDIG": "2016-07-30",
                    "(No column name)": "2",
                    "Előző 3 összesen": "5"
                },
                {
                    "USERNEV": "gabor1",
                    "NEV": "Köves Gábor",
                    "METTOL": "2016-09-02",
                    "MEDDIG": "2016-09-03",
                    "(No column name)": "3",
                    "Előző 3 összesen": "7"
                },
                {
                    "USERNEV": "gabor1",
                    "NEV": "Köves Gábor",
                    "METTOL": "2016-10-20",
                    "MEDDIG": "2016-10-24",
                    "(No column name)": "1",
                    "Előző 3 összesen": "6"
                },
                {
                    "USERNEV": "gabor1",
                    "NEV": "Köves Gábor",
                    "METTOL": "2016-11-19",
                    "MEDDIG": "2016-11-22",
                    "(No column name)": "2",
                    "Előző 3 összesen": "6"
                },
                {
                    "USERNEV": "gabor4",
                    "NEV": "Telek Gábor",
                    "METTOL": "2016-04-26",
                    "MEDDIG": "2016-04-29",
                    "(No column name)": "3",
                    "Előző 3 összesen": "NULL"
                },
                {
                    "USERNEV": "gabor4",
                    "NEV": "Telek Gábor",
                    "METTOL": "2016-05-30",
                    "MEDDIG": "2016-06-05",
                    "(No column name)": "1",
                    "Előző 3 összesen": "3"
                },
                {
                    "USERNEV": "gabor4",
                    "NEV": "Telek Gábor",
                    "METTOL": "2016-08-31",
                    "MEDDIG": "2016-09-06",
                    "(No column name)": "4",
                    "Előző 3 összesen": "4"
                },
                {
                    "USERNEV": "gabor4",
                    "NEV": "Telek Gábor",
                    "METTOL": "2016-11-07",
                    "MEDDIG": "2016-11-13",
                    "(No column name)": "4",
                    "Előző 3 összesen": "8"
                },
                {
                    "USERNEV": "gabriella1",
                    "NEV": "Nagy Gabriella",
                    "METTOL": "2016-04-21",
                    "MEDDIG": "2016-04-24",
                    "(No column name)": "3",
                    "Előző 3 összesen": "NULL"
                },
                {
                    "USERNEV": "gabriella1",
                    "NEV": "Nagy Gabriella",
                    "METTOL": "2016-07-10",
                    "MEDDIG": "2016-07-11",
                    "(No column name)": "3",
                    "Előző 3 összesen": "3"
                },
                {
                    "USERNEV": "gabriella1",
                    "NEV": "Nagy Gabriella",
                    "METTOL": "2016-07-24",
                    "MEDDIG": "2016-07-31",
                    "(No column name)": "2",
                    "Előző 3 összesen": "6"
                },
                {
                    "USERNEV": "gabriella1",
                    "NEV": "Nagy Gabriella",
                    "METTOL": "2017-02-04",
                    "MEDDIG": "2017-02-11",
                    "(No column name)": "3",
                    "Előző 3 összesen": "8"
                },
                {
                    "USERNEV": "gabriella1",
                    "NEV": "Nagy Gabriella",
                    "METTOL": "2017-02-12",
                    "MEDDIG": "2017-02-13",
                    "(No column name)": "2",
                    "Előző 3 összesen": "8"
                },
                {
                    "USERNEV": "gabriella1",
                    "NEV": "Nagy Gabriella",
                    "METTOL": "2017-02-21",
                    "MEDDIG": "2017-02-27",
                    "(No column name)": "3",
                    "Előző 3 összesen": "7"
                },
                {
                    "USERNEV": "gabriella10",
                    "NEV": "Vida Gabriella",
                    "METTOL": "2016-10-01",
                    "MEDDIG": "2016-10-06",
                    "(No column name)": "3",
                    "Előző 3 összesen": "NULL"
                },
                {
                    "USERNEV": "georgij",
                    "NEV": "Nyíri Georgij",
                    "METTOL": "2016-06-16",
                    "MEDDIG": "2016-06-20",
                    "(No column name)": "3",
                    "Előző 3 összesen": "NULL"
                },
                {
                    "USERNEV": "georgij",
                    "NEV": "Nyíri Georgij",
                    "METTOL": "2016-08-16",
                    "MEDDIG": "2016-08-22",
                    "(No column name)": "4",
                    "Előző 3 összesen": "3"
                },
                {
                    "USERNEV": "georgij",
                    "NEV": "Nyíri Georgij",
                    "METTOL": "2016-08-28",
                    "MEDDIG": "2016-09-04",
                    "(No column name)": "2",
                    "Előző 3 összesen": "7"
                },
                {
                    "USERNEV": "georgij",
                    "NEV": "Nyíri Georgij",
                    "METTOL": "2016-09-18",
                    "MEDDIG": "2016-09-24",
                    "(No column name)": "3",
                    "Előző 3 összesen": "9"
                },
                {
                    "USERNEV": "gusztav",
                    "NEV": "Bárci Gusztáv",
                    "METTOL": "2016-05-06",
                    "MEDDIG": "2016-05-13",
                    "(No column name)": "2",
                    "Előző 3 összesen": "NULL"
                },
                {
                    "USERNEV": "gusztav",
                    "NEV": "Bárci Gusztáv",
                    "METTOL": "2016-08-05",
                    "MEDDIG": "2016-08-11",
                    "(No column name)": "3",
                    "Előző 3 összesen": "2"
                },
                {
                    "USERNEV": "gusztav",
                    "NEV": "Bárci Gusztáv",
                    "METTOL": "2016-10-01",
                    "MEDDIG": "2016-10-03",
                    "(No column name)": "3",
                    "Előző 3 összesen": "5"
                },
                {
                    "USERNEV": "gusztav",
                    "NEV": "Bárci Gusztáv",
                    "METTOL": "2017-02-03",
                    "MEDDIG": "2017-02-09",
                    "(No column name)": "2",
                    "Előző 3 összesen": "8"
                },
                {
                    "USERNEV": "gusztav",
                    "NEV": "Bárci Gusztáv",
                    "METTOL": "2017-02-23",
                    "MEDDIG": "2017-03-01",
                    "(No column name)": "4",
                    "Előző 3 összesen": "8"
                },
                {
                    "USERNEV": "GYONGYIK",
                    "NEV": "Kornseé Gyöngyi",
                    "METTOL": "2016-06-02",
                    "MEDDIG": "2016-06-05",
                    "(No column name)": "3",
                    "Előző 3 összesen": "NULL"
                },
                {
                    "USERNEV": "GYONGYIK",
                    "NEV": "Kornseé Gyöngyi",
                    "METTOL": "2016-06-10",
                    "MEDDIG": "2016-06-17",
                    "(No column name)": "1",
                    "Előző 3 összesen": "3"
                },
                {
                    "USERNEV": "GYONGYIK",
                    "NEV": "Kornseé Gyöngyi",
                    "METTOL": "2016-07-01",
                    "MEDDIG": "2016-07-05",
                    "(No column name)": "2",
                    "Előző 3 összesen": "4"
                },
                {
                    "USERNEV": "GYONGYIK",
                    "NEV": "Kornseé Gyöngyi",
                    "METTOL": "2016-08-17",
                    "MEDDIG": "2016-08-21",
                    "(No column name)": "3",
                    "Előző 3 összesen": "6"
                },
                {
                    "USERNEV": "GYONGYIK",
                    "NEV": "Kornseé Gyöngyi",
                    "METTOL": "2016-11-08",
                    "MEDDIG": "2016-11-13",
                    "(No column name)": "2",
                    "Előző 3 összesen": "6"
                },
                {
                    "USERNEV": "GYONGYIK",
                    "NEV": "Kornseé Gyöngyi",
                    "METTOL": "2016-12-01",
                    "MEDDIG": "2016-12-08",
                    "(No column name)": "2",
                    "Előző 3 összesen": "7"
                },
                {
                    "USERNEV": "GYONGYIK",
                    "NEV": "Kornseé Gyöngyi",
                    "METTOL": "2017-01-22",
                    "MEDDIG": "2017-01-29",
                    "(No column name)": "3",
                    "Előző 3 összesen": "7"
                },
                {
                    "USERNEV": "GYORGYO",
                    "NEV": "Oroszi György",
                    "METTOL": "2016-05-27",
                    "MEDDIG": "2016-05-28",
                    "(No column name)": "3",
                    "Előző 3 összesen": "NULL"
                },
                {
                    "USERNEV": "GYORGYO",
                    "NEV": "Oroszi György",
                    "METTOL": "2016-06-01",
                    "MEDDIG": "2016-06-07",
                    "(No column name)": "2",
                    "Előző 3 összesen": "3"
                },
                {
                    "USERNEV": "GYORGYO",
                    "NEV": "Oroszi György",
                    "METTOL": "2016-06-10",
                    "MEDDIG": "2016-06-15",
                    "(No column name)": "2",
                    "Előző 3 összesen": "5"
                },
                {
                    "USERNEV": "GYORGYO",
                    "NEV": "Oroszi György",
                    "METTOL": "2016-07-18",
                    "MEDDIG": "2016-07-25",
                    "(No column name)": "2",
                    "Előző 3 összesen": "7"
                },
                {
                    "USERNEV": "GYORGYO",
                    "NEV": "Oroszi György",
                    "METTOL": "2016-07-28",
                    "MEDDIG": "2016-08-03",
                    "(No column name)": "3",
                    "Előző 3 összesen": "6"
                },
                {
                    "USERNEV": "GYORGYO",
                    "NEV": "Oroszi György",
                    "METTOL": "2016-10-28",
                    "MEDDIG": "2016-10-31",
                    "(No column name)": "1",
                    "Előző 3 összesen": "7"
                },
                {
                    "USERNEV": "GYORGYO",
                    "NEV": "Oroszi György",
                    "METTOL": "2017-02-13",
                    "MEDDIG": "2017-02-15",
                    "(No column name)": "2",
                    "Előző 3 összesen": "6"
                },
                {
                    "USERNEV": "GYORGYO",
                    "NEV": "Oroszi György",
                    "METTOL": "2017-02-24",
                    "MEDDIG": "2017-02-25",
                    "(No column name)": "3",
                    "Előző 3 összesen": "6"
                },
                {
                    "USERNEV": "henrik3",
                    "NEV": "Nádudvari Henrik",
                    "METTOL": "2016-08-24",
                    "MEDDIG": "2016-08-28",
                    "(No column name)": "1",
                    "Előző 3 összesen": "NULL"
                },
                {
                    "USERNEV": "henrik3",
                    "NEV": "Nádudvari Henrik",
                    "METTOL": "2016-12-29",
                    "MEDDIG": "2017-01-03",
                    "(No column name)": "3",
                    "Előző 3 összesen": "1"
                },
                {
                    "USERNEV": "henrik3",
                    "NEV": "Nádudvari Henrik",
                    "METTOL": "2017-01-27",
                    "MEDDIG": "2017-01-28",
                    "(No column name)": "3",
                    "Előző 3 összesen": "4"
                },
                {
                    "USERNEV": "IBOLYAA",
                    "NEV": "Andor Ibolya",
                    "METTOL": "2016-08-29",
                    "MEDDIG": "2016-08-31",
                    "(No column name)": "5",
                    "Előző 3 összesen": "NULL"
                },
                {
                    "USERNEV": "IBOLYAA",
                    "NEV": "Andor Ibolya",
                    "METTOL": "2016-10-23",
                    "MEDDIG": "2016-10-28",
                    "(No column name)": "2",
                    "Előző 3 összesen": "5"
                },
                {
                    "USERNEV": "IBOLYAA",
                    "NEV": "Andor Ibolya",
                    "METTOL": "2017-01-17",
                    "MEDDIG": "2017-01-23",
                    "(No column name)": "3",
                    "Előző 3 összesen": "7"
                },
                {
                    "USERNEV": "ilona3",
                    "NEV": "Bosnyák Ilona",
                    "METTOL": "2016-07-31",
                    "MEDDIG": "2016-08-06",
                    "(No column name)": "2",
                    "Előző 3 összesen": "NULL"
                },
                {
                    "USERNEV": "ilona3",
                    "NEV": "Bosnyák Ilona",
                    "METTOL": "2016-08-04",
                    "MEDDIG": "2016-08-08",
                    "(No column name)": "3",
                    "Előző 3 összesen": "2"
                },
                {
                    "USERNEV": "ilona3",
                    "NEV": "Bosnyák Ilona",
                    "METTOL": "2016-11-04",
                    "MEDDIG": "2016-11-06",
                    "(No column name)": "4",
                    "Előző 3 összesen": "5"
                },
                {
                    "USERNEV": "ilona3",
                    "NEV": "Bosnyák Ilona",
                    "METTOL": "2016-12-25",
                    "MEDDIG": "2016-12-31",
                    "(No column name)": "3",
                    "Előző 3 összesen": "9"
                },
                {
                    "USERNEV": "imre",
                    "NEV": "Búza Imre",
                    "METTOL": "2016-09-17",
                    "MEDDIG": "2016-09-19",
                    "(No column name)": "3",
                    "Előző 3 összesen": "NULL"
                },
                {
                    "USERNEV": "imre",
                    "NEV": "Búza Imre",
                    "METTOL": "2016-10-28",
                    "MEDDIG": "2016-10-29",
                    "(No column name)": "4",
                    "Előző 3 összesen": "3"
                },
                {
                    "USERNEV": "imre1",
                    "NEV": "Papp Imre",
                    "METTOL": "2016-06-23",
                    "MEDDIG": "2016-06-26",
                    "(No column name)": "4",
                    "Előző 3 összesen": "NULL"
                },
                {
                    "USERNEV": "imre1",
                    "NEV": "Papp Imre",
                    "METTOL": "2016-06-27",
                    "MEDDIG": "2016-06-28",
                    "(No column name)": "2",
                    "Előző 3 összesen": "4"
                },
                {
                    "USERNEV": "imre1",
                    "NEV": "Papp Imre",
                    "METTOL": "2016-08-21",
                    "MEDDIG": "2016-08-27",
                    "(No column name)": "2",
                    "Előző 3 összesen": "6"
                },
                {
                    "USERNEV": "imre1",
                    "NEV": "Papp Imre",
                    "METTOL": "2016-08-23",
                    "MEDDIG": "2016-08-25",
                    "(No column name)": "3",
                    "Előző 3 összesen": "8"
                },
                {
                    "USERNEV": "imre1",
                    "NEV": "Papp Imre",
                    "METTOL": "2016-08-29",
                    "MEDDIG": "2016-08-31",
                    "(No column name)": "2",
                    "Előző 3 összesen": "7"
                },
                {
                    "USERNEV": "imre1",
                    "NEV": "Papp Imre",
                    "METTOL": "2017-02-01",
                    "MEDDIG": "2017-02-04",
                    "(No column name)": "2",
                    "Előző 3 összesen": "7"
                },
                {
                    "USERNEV": "imre1",
                    "NEV": "Papp Imre",
                    "METTOL": "2017-02-05",
                    "MEDDIG": "2017-02-07",
                    "(No column name)": "4",
                    "Előző 3 összesen": "7"
                },
                {
                    "USERNEV": "istvan",
                    "NEV": "Soós István",
                    "METTOL": "2016-10-07",
                    "MEDDIG": "2016-10-10",
                    "(No column name)": "2",
                    "Előző 3 összesen": "NULL"
                },
                {
                    "USERNEV": "istvan",
                    "NEV": "Soós István",
                    "METTOL": "2016-11-22",
                    "MEDDIG": "2016-11-24",
                    "(No column name)": "3",
                    "Előző 3 összesen": "2"
                },
                {
                    "USERNEV": "istvan",
                    "NEV": "Soós István",
                    "METTOL": "2017-01-02",
                    "MEDDIG": "2017-01-05",
                    "(No column name)": "2",
                    "Előző 3 összesen": "5"
                },
                {
                    "USERNEV": "istvan1",
                    "NEV": "Vizi István",
                    "METTOL": "2016-04-16",
                    "MEDDIG": "2016-04-22",
                    "(No column name)": "3",
                    "Előző 3 összesen": "NULL"
                },
                {
                    "USERNEV": "istvan1",
                    "NEV": "Vizi István",
                    "METTOL": "2016-04-24",
                    "MEDDIG": "2016-04-28",
                    "(No column name)": "3",
                    "Előző 3 összesen": "3"
                },
                {
                    "USERNEV": "istvan1",
                    "NEV": "Vizi István",
                    "METTOL": "2016-07-19",
                    "MEDDIG": "2016-07-24",
                    "(No column name)": "1",
                    "Előző 3 összesen": "6"
                },
                {
                    "USERNEV": "istvan1",
                    "NEV": "Vizi István",
                    "METTOL": "2017-02-07",
                    "MEDDIG": "2017-02-10",
                    "(No column name)": "3",
                    "Előző 3 összesen": "7"
                },
                {
                    "USERNEV": "ISTVANV",
                    "NEV": "Varga István",
                    "METTOL": "2016-07-01",
                    "MEDDIG": "2016-07-04",
                    "(No column name)": "4",
                    "Előző 3 összesen": "NULL"
                },
                {
                    "USERNEV": "ISTVANV",
                    "NEV": "Varga István",
                    "METTOL": "2016-09-29",
                    "MEDDIG": "2016-10-01",
                    "(No column name)": "3",
                    "Előző 3 összesen": "4"
                },
                {
                    "USERNEV": "janos3",
                    "NEV": "Harangozó János",
                    "METTOL": "2016-06-04",
                    "MEDDIG": "2016-06-06",
                    "(No column name)": "1",
                    "Előző 3 összesen": "NULL"
                },
                {
                    "USERNEV": "janos3",
                    "NEV": "Harangozó János",
                    "METTOL": "2016-08-24",
                    "MEDDIG": "2016-08-25",
                    "(No column name)": "3",
                    "Előző 3 összesen": "1"
                },
                {
                    "USERNEV": "janos3",
                    "NEV": "Harangozó János",
                    "METTOL": "2016-10-03",
                    "MEDDIG": "2016-10-08",
                    "(No column name)": "3",
                    "Előző 3 összesen": "4"
                },
                {
                    "USERNEV": "janos3",
                    "NEV": "Harangozó János",
                    "METTOL": "2016-10-22",
                    "MEDDIG": "2016-10-23",
                    "(No column name)": "1",
                    "Előző 3 összesen": "7"
                },
                {
                    "USERNEV": "janos3",
                    "NEV": "Harangozó János",
                    "METTOL": "2017-02-12",
                    "MEDDIG": "2017-02-14",
                    "(No column name)": "3",
                    "Előző 3 összesen": "7"
                },
                {
                    "USERNEV": "JANOSG",
                    "NEV": "Giliga János",
                    "METTOL": "2016-05-09",
                    "MEDDIG": "2016-05-15",
                    "(No column name)": "1",
                    "Előző 3 összesen": "NULL"
                },
                {
                    "USERNEV": "JANOSG",
                    "NEV": "Giliga János",
                    "METTOL": "2016-08-16",
                    "MEDDIG": "2016-08-23",
                    "(No column name)": "3",
                    "Előző 3 összesen": "1"
                },
                {
                    "USERNEV": "JANOSG",
                    "NEV": "Giliga János",
                    "METTOL": "2016-08-30",
                    "MEDDIG": "2016-09-03",
                    "(No column name)": "3",
                    "Előző 3 összesen": "4"
                },
                {
                    "USERNEV": "JANOSG",
                    "NEV": "Giliga János",
                    "METTOL": "2016-11-07",
                    "MEDDIG": "2016-11-14",
                    "(No column name)": "3",
                    "Előző 3 összesen": "7"
                },
                {
                    "USERNEV": "JANOSG",
                    "NEV": "Giliga János",
                    "METTOL": "2016-12-28",
                    "MEDDIG": "2016-12-30",
                    "(No column name)": "2",
                    "Előző 3 összesen": "9"
                },
                {
                    "USERNEV": "JANOSG",
                    "NEV": "Giliga János",
                    "METTOL": "2017-01-10",
                    "MEDDIG": "2017-01-15",
                    "(No column name)": "2",
                    "Előző 3 összesen": "8"
                },
                {
                    "USERNEV": "JANOSG",
                    "NEV": "Giliga János",
                    "METTOL": "2017-01-31",
                    "MEDDIG": "2017-02-05",
                    "(No column name)": "2",
                    "Előző 3 összesen": "7"
                },
                {
                    "USERNEV": "JANOSP",
                    "NEV": "Pálinkás János",
                    "METTOL": "2016-07-04",
                    "MEDDIG": "2016-07-11",
                    "(No column name)": "3",
                    "Előző 3 összesen": "NULL"
                },
                {
                    "USERNEV": "JANOSP",
                    "NEV": "Pálinkás János",
                    "METTOL": "2016-11-23",
                    "MEDDIG": "2016-11-28",
                    "(No column name)": "2",
                    "Előző 3 összesen": "3"
                },
                {
                    "USERNEV": "JANOSP",
                    "NEV": "Pálinkás János",
                    "METTOL": "2016-11-25",
                    "MEDDIG": "2016-11-27",
                    "(No column name)": "2",
                    "Előző 3 összesen": "5"
                },
                {
                    "USERNEV": "JANOSP",
                    "NEV": "Pálinkás János",
                    "METTOL": "2016-12-18",
                    "MEDDIG": "2016-12-21",
                    "(No column name)": "2",
                    "Előző 3 összesen": "7"
                },
                {
                    "USERNEV": "jozsef",
                    "NEV": "Gergely József",
                    "METTOL": "2016-09-13",
                    "MEDDIG": "2016-09-19",
                    "(No column name)": "2",
                    "Előző 3 összesen": "NULL"
                },
                {
                    "USERNEV": "jozsef",
                    "NEV": "Gergely József",
                    "METTOL": "2016-10-08",
                    "MEDDIG": "2016-10-10",
                    "(No column name)": "2",
                    "Előző 3 összesen": "2"
                },
                {
                    "USERNEV": "jozsef",
                    "NEV": "Gergely József",
                    "METTOL": "2016-12-06",
                    "MEDDIG": "2016-12-07",
                    "(No column name)": "2",
                    "Előző 3 összesen": "4"
                },
                {
                    "USERNEV": "jozsef2",
                    "NEV": "Vajda József",
                    "METTOL": "2016-07-06",
                    "MEDDIG": "2016-07-11",
                    "(No column name)": "2",
                    "Előző 3 összesen": "NULL"
                },
                {
                    "USERNEV": "jozsef2",
                    "NEV": "Vajda József",
                    "METTOL": "2016-07-16",
                    "MEDDIG": "2016-07-20",
                    "(No column name)": "3",
                    "Előző 3 összesen": "2"
                },
                {
                    "USERNEV": "jozsef2",
                    "NEV": "Vajda József",
                    "METTOL": "2016-09-09",
                    "MEDDIG": "2016-09-15",
                    "(No column name)": "2",
                    "Előző 3 összesen": "5"
                },
                {
                    "USERNEV": "jozsef2",
                    "NEV": "Vajda József",
                    "METTOL": "2016-11-23",
                    "MEDDIG": "2016-11-29",
                    "(No column name)": "3",
                    "Előző 3 összesen": "7"
                },
                {
                    "USERNEV": "jozsef2",
                    "NEV": "Vajda József",
                    "METTOL": "2016-11-25",
                    "MEDDIG": "2016-11-29",
                    "(No column name)": "3",
                    "Előző 3 összesen": "8"
                },
                {
                    "USERNEV": "JOZSEFG",
                    "NEV": "Gyuris József",
                    "METTOL": "2016-05-02",
                    "MEDDIG": "2016-05-06",
                    "(No column name)": "2",
                    "Előző 3 összesen": "NULL"
                },
                {
                    "USERNEV": "JOZSEFG",
                    "NEV": "Gyuris József",
                    "METTOL": "2016-05-23",
                    "MEDDIG": "2016-05-25",
                    "(No column name)": "1",
                    "Előző 3 összesen": "2"
                },
                {
                    "USERNEV": "JOZSEFG",
                    "NEV": "Gyuris József",
                    "METTOL": "2016-06-04",
                    "MEDDIG": "2016-06-09",
                    "(No column name)": "4",
                    "Előző 3 összesen": "3"
                },
                {
                    "USERNEV": "JOZSEFG",
                    "NEV": "Gyuris József",
                    "METTOL": "2016-08-24",
                    "MEDDIG": "2016-08-27",
                    "(No column name)": "3",
                    "Előző 3 összesen": "7"
                },
                {
                    "USERNEV": "JOZSEFG",
                    "NEV": "Gyuris József",
                    "METTOL": "2017-01-09",
                    "MEDDIG": "2017-01-13",
                    "(No column name)": "2",
                    "Előző 3 összesen": "8"
                },
                {
                    "USERNEV": "JOZSEFG",
                    "NEV": "Gyuris József",
                    "METTOL": "2017-01-22",
                    "MEDDIG": "2017-01-26",
                    "(No column name)": "1",
                    "Előző 3 összesen": "9"
                },
                {
                    "USERNEV": "JOZSEFG",
                    "NEV": "Gyuris József",
                    "METTOL": "2017-02-24",
                    "MEDDIG": "2017-03-03",
                    "(No column name)": "3",
                    "Előző 3 összesen": "6"
                },
                {
                    "USERNEV": "JUDITH",
                    "NEV": "Hídasi Judit",
                    "METTOL": "2016-06-06",
                    "MEDDIG": "2016-06-10",
                    "(No column name)": "2",
                    "Előző 3 összesen": "NULL"
                },
                {
                    "USERNEV": "JUDITH",
                    "NEV": "Hídasi Judit",
                    "METTOL": "2016-07-28",
                    "MEDDIG": "2016-07-30",
                    "(No column name)": "2",
                    "Előző 3 összesen": "2"
                },
                {
                    "USERNEV": "JUDITH",
                    "NEV": "Hídasi Judit",
                    "METTOL": "2016-12-19",
                    "MEDDIG": "2016-12-26",
                    "(No column name)": "1",
                    "Előző 3 összesen": "4"
                },
                {
                    "USERNEV": "julia",
                    "NEV": "Tóth Júlia",
                    "METTOL": "2016-04-21",
                    "MEDDIG": "2016-04-26",
                    "(No column name)": "2",
                    "Előző 3 összesen": "NULL"
                },
                {
                    "USERNEV": "julia",
                    "NEV": "Tóth Júlia",
                    "METTOL": "2016-05-12",
                    "MEDDIG": "2016-05-17",
                    "(No column name)": "1",
                    "Előző 3 összesen": "2"
                },
                {
                    "USERNEV": "julia",
                    "NEV": "Tóth Júlia",
                    "METTOL": "2016-06-07",
                    "MEDDIG": "2016-06-08",
                    "(No column name)": "5",
                    "Előző 3 összesen": "3"
                },
                {
                    "USERNEV": "julia",
                    "NEV": "Tóth Júlia",
                    "METTOL": "2016-07-20",
                    "MEDDIG": "2016-07-22",
                    "(No column name)": "2",
                    "Előző 3 összesen": "8"
                },
                {
                    "USERNEV": "julia",
                    "NEV": "Tóth Júlia",
                    "METTOL": "2017-02-27",
                    "MEDDIG": "2017-03-06",
                    "(No column name)": "3",
                    "Előző 3 összesen": "8"
                },
                {
                    "USERNEV": "julia4",
                    "NEV": "Nagy Júlia",
                    "METTOL": "2016-11-07",
                    "MEDDIG": "2016-11-12",
                    "(No column name)": "1",
                    "Előző 3 összesen": "NULL"
                },
                {
                    "USERNEV": "julia4",
                    "NEV": "Nagy Júlia",
                    "METTOL": "2017-02-04",
                    "MEDDIG": "2017-02-11",
                    "(No column name)": "4",
                    "Előző 3 összesen": "1"
                },
                {
                    "USERNEV": "julianna4",
                    "NEV": "Szabó Julianna",
                    "METTOL": "2016-07-20",
                    "MEDDIG": "2016-07-26",
                    "(No column name)": "2",
                    "Előző 3 összesen": "NULL"
                },
                {
                    "USERNEV": "julianna4",
                    "NEV": "Szabó Julianna",
                    "METTOL": "2016-10-29",
                    "MEDDIG": "2016-10-31",
                    "(No column name)": "3",
                    "Előző 3 összesen": "2"
                },
                {
                    "USERNEV": "julianna4",
                    "NEV": "Szabó Julianna",
                    "METTOL": "2016-11-03",
                    "MEDDIG": "2016-11-04",
                    "(No column name)": "2",
                    "Előző 3 összesen": "5"
                },
                {
                    "USERNEV": "julianna4",
                    "NEV": "Szabó Julianna",
                    "METTOL": "2016-11-27",
                    "MEDDIG": "2016-12-04",
                    "(No column name)": "3",
                    "Előző 3 összesen": "7"
                },
                {
                    "USERNEV": "kata",
                    "NEV": "Gondos Katalin",
                    "METTOL": "2016-04-10",
                    "MEDDIG": "2016-04-11",
                    "(No column name)": "2",
                    "Előző 3 összesen": "NULL"
                },
                {
                    "USERNEV": "kata",
                    "NEV": "Gondos Katalin",
                    "METTOL": "2016-04-25",
                    "MEDDIG": "2016-05-01",
                    "(No column name)": "1",
                    "Előző 3 összesen": "2"
                },
                {
                    "USERNEV": "kata",
                    "NEV": "Gondos Katalin",
                    "METTOL": "2016-05-31",
                    "MEDDIG": "2016-06-01",
                    "(No column name)": "3",
                    "Előző 3 összesen": "3"
                },
                {
                    "USERNEV": "kata",
                    "NEV": "Gondos Katalin",
                    "METTOL": "2016-06-07",
                    "MEDDIG": "2016-06-12",
                    "(No column name)": "2",
                    "Előző 3 összesen": "6"
                },
                {
                    "USERNEV": "kata",
                    "NEV": "Gondos Katalin",
                    "METTOL": "2016-07-01",
                    "MEDDIG": "2016-07-07",
                    "(No column name)": "2",
                    "Előző 3 összesen": "6"
                },
                {
                    "USERNEV": "kata",
                    "NEV": "Gondos Katalin",
                    "METTOL": "2016-07-03",
                    "MEDDIG": "2016-07-06",
                    "(No column name)": "1",
                    "Előző 3 összesen": "7"
                },
                {
                    "USERNEV": "kata",
                    "NEV": "Gondos Katalin",
                    "METTOL": "2016-07-07",
                    "MEDDIG": "2016-07-09",
                    "(No column name)": "3",
                    "Előző 3 összesen": "5"
                },
                {
                    "USERNEV": "kata",
                    "NEV": "Gondos Katalin",
                    "METTOL": "2016-08-24",
                    "MEDDIG": "2016-08-27",
                    "(No column name)": "3",
                    "Előző 3 összesen": "6"
                },
                {
                    "USERNEV": "kata",
                    "NEV": "Gondos Katalin",
                    "METTOL": "2016-09-19",
                    "MEDDIG": "2016-09-20",
                    "(No column name)": "3",
                    "Előző 3 összesen": "7"
                },
                {
                    "USERNEV": "kata",
                    "NEV": "Gondos Katalin",
                    "METTOL": "2017-01-15",
                    "MEDDIG": "2017-01-21",
                    "(No column name)": "3",
                    "Előző 3 összesen": "9"
                },
                {
                    "USERNEV": "katalin",
                    "NEV": "Horváth Katalin",
                    "METTOL": "2016-04-10",
                    "MEDDIG": "2016-04-17",
                    "(No column name)": "2",
                    "Előző 3 összesen": "NULL"
                },
                {
                    "USERNEV": "katalin",
                    "NEV": "Horváth Katalin",
                    "METTOL": "2016-05-21",
                    "MEDDIG": "2016-05-26",
                    "(No column name)": "1",
                    "Előző 3 összesen": "2"
                },
                {
                    "USERNEV": "katalin",
                    "NEV": "Horváth Katalin",
                    "METTOL": "2016-07-06",
                    "MEDDIG": "2016-07-11",
                    "(No column name)": "1",
                    "Előző 3 összesen": "3"
                },
                {
                    "USERNEV": "katalin",
                    "NEV": "Horváth Katalin",
                    "METTOL": "2016-07-28",
                    "MEDDIG": "2016-07-29",
                    "(No column name)": "1",
                    "Előző 3 összesen": "4"
                },
                {
                    "USERNEV": "katalin",
                    "NEV": "Horváth Katalin",
                    "METTOL": "2016-10-26",
                    "MEDDIG": "2016-10-30",
                    "(No column name)": "2",
                    "Előző 3 összesen": "3"
                },
                {
                    "USERNEV": "katalin",
                    "NEV": "Horváth Katalin",
                    "METTOL": "2016-12-13",
                    "MEDDIG": "2016-12-19",
                    "(No column name)": "2",
                    "Előző 3 összesen": "4"
                },
                {
                    "USERNEV": "katalin",
                    "NEV": "Horváth Katalin",
                    "METTOL": "2016-12-17",
                    "MEDDIG": "2016-12-24",
                    "(No column name)": "1",
                    "Előző 3 összesen": "5"
                },
                {
                    "USERNEV": "katalin",
                    "NEV": "Horváth Katalin",
                    "METTOL": "2016-12-24",
                    "MEDDIG": "2016-12-27",
                    "(No column name)": "2",
                    "Előző 3 összesen": "5"
                },
                {
                    "USERNEV": "katalin",
                    "NEV": "Horváth Katalin",
                    "METTOL": "2017-02-24",
                    "MEDDIG": "2017-02-27",
                    "(No column name)": "3",
                    "Előző 3 összesen": "5"
                },
                {
                    "USERNEV": "katalin4",
                    "NEV": "Kertész Katalin",
                    "METTOL": "2016-07-01",
                    "MEDDIG": "2016-07-07",
                    "(No column name)": "1",
                    "Előző 3 összesen": "NULL"
                },
                {
                    "USERNEV": "katalin4",
                    "NEV": "Kertész Katalin",
                    "METTOL": "2016-07-03",
                    "MEDDIG": "2016-07-04",
                    "(No column name)": "4",
                    "Előző 3 összesen": "1"
                },
                {
                    "USERNEV": "katalin4",
                    "NEV": "Kertész Katalin",
                    "METTOL": "2016-11-27",
                    "MEDDIG": "2016-12-04",
                    "(No column name)": "3",
                    "Előző 3 összesen": "5"
                },
                {
                    "USERNEV": "katalin4",
                    "NEV": "Kertész Katalin",
                    "METTOL": "2016-12-04",
                    "MEDDIG": "2016-12-09",
                    "(No column name)": "3",
                    "Előző 3 összesen": "8"
                },
                {
                    "USERNEV": "katalin4",
                    "NEV": "Kertész Katalin",
                    "METTOL": "2017-01-18",
                    "MEDDIG": "2017-01-20",
                    "(No column name)": "2",
                    "Előző 3 összesen": "10"
                },
                {
                    "USERNEV": "katalin4",
                    "NEV": "Kertész Katalin",
                    "METTOL": "2017-01-24",
                    "MEDDIG": "2017-01-31",
                    "(No column name)": "2",
                    "Előző 3 összesen": "8"
                },
                {
                    "USERNEV": "kati",
                    "NEV": "Zatykó Katalin",
                    "METTOL": "2016-06-06",
                    "MEDDIG": "2016-06-10",
                    "(No column name)": "2",
                    "Előző 3 összesen": "NULL"
                },
                {
                    "USERNEV": "kati",
                    "NEV": "Zatykó Katalin",
                    "METTOL": "2016-06-06",
                    "MEDDIG": "2016-06-11",
                    "(No column name)": "3",
                    "Előző 3 összesen": "2"
                },
                {
                    "USERNEV": "kati",
                    "NEV": "Zatykó Katalin",
                    "METTOL": "2016-07-13",
                    "MEDDIG": "2016-07-20",
                    "(No column name)": "2",
                    "Előző 3 összesen": "5"
                },
                {
                    "USERNEV": "kati",
                    "NEV": "Zatykó Katalin",
                    "METTOL": "2016-07-27",
                    "MEDDIG": "2016-08-03",
                    "(No column name)": "2",
                    "Előző 3 összesen": "7"
                },
                {
                    "USERNEV": "kati",
                    "NEV": "Zatykó Katalin",
                    "METTOL": "2016-08-03",
                    "MEDDIG": "2016-08-07",
                    "(No column name)": "2",
                    "Előző 3 összesen": "7"
                },
                {
                    "USERNEV": "kati",
                    "NEV": "Zatykó Katalin",
                    "METTOL": "2016-10-26",
                    "MEDDIG": "2016-10-28",
                    "(No column name)": "2",
                    "Előző 3 összesen": "6"
                },
                {
                    "USERNEV": "kati",
                    "NEV": "Zatykó Katalin",
                    "METTOL": "2016-10-30",
                    "MEDDIG": "2016-11-01",
                    "(No column name)": "3",
                    "Előző 3 összesen": "6"
                },
                {
                    "USERNEV": "katka",
                    "NEV": "Kovács Katalin",
                    "METTOL": "2016-04-10",
                    "MEDDIG": "2016-04-12",
                    "(No column name)": "2",
                    "Előző 3 összesen": "NULL"
                },
                {
                    "USERNEV": "katka",
                    "NEV": "Kovács Katalin",
                    "METTOL": "2016-05-09",
                    "MEDDIG": "2016-05-15",
                    "(No column name)": "3",
                    "Előző 3 összesen": "2"
                },
                {
                    "USERNEV": "katka",
                    "NEV": "Kovács Katalin",
                    "METTOL": "2016-06-13",
                    "MEDDIG": "2016-06-18",
                    "(No column name)": "1",
                    "Előző 3 összesen": "5"
                },
                {
                    "USERNEV": "katka",
                    "NEV": "Kovács Katalin",
                    "METTOL": "2016-06-13",
                    "MEDDIG": "2016-06-19",
                    "(No column name)": "4",
                    "Előző 3 összesen": "6"
                },
                {
                    "USERNEV": "katka",
                    "NEV": "Kovács Katalin",
                    "METTOL": "2016-08-24",
                    "MEDDIG": "2016-08-26",
                    "(No column name)": "2",
                    "Előző 3 összesen": "8"
                },
                {
                    "USERNEV": "katka",
                    "NEV": "Kovács Katalin",
                    "METTOL": "2016-09-05",
                    "MEDDIG": "2016-09-10",
                    "(No column name)": "4",
                    "Előző 3 összesen": "7"
                },
                {
                    "USERNEV": "katka",
                    "NEV": "Kovács Katalin",
                    "METTOL": "2016-11-05",
                    "MEDDIG": "2016-11-08",
                    "(No column name)": "3",
                    "Előző 3 összesen": "10"
                },
                {
                    "USERNEV": "katka",
                    "NEV": "Kovács Katalin",
                    "METTOL": "2017-01-02",
                    "MEDDIG": "2017-01-05",
                    "(No column name)": "3",
                    "Előző 3 összesen": "9"
                },
                {
                    "USERNEV": "katka",
                    "NEV": "Kovács Katalin",
                    "METTOL": "2017-01-19",
                    "MEDDIG": "2017-01-20",
                    "(No column name)": "3",
                    "Előző 3 összesen": "10"
                },
                {
                    "USERNEV": "klaudia2",
                    "NEV": "Bakó Klaudia",
                    "METTOL": "2016-06-06",
                    "MEDDIG": "2016-06-08",
                    "(No column name)": "4",
                    "Előző 3 összesen": "NULL"
                },
                {
                    "USERNEV": "klaudia2",
                    "NEV": "Bakó Klaudia",
                    "METTOL": "2016-10-01",
                    "MEDDIG": "2016-10-02",
                    "(No column name)": "2",
                    "Előző 3 összesen": "4"
                },
                {
                    "USERNEV": "klaudia2",
                    "NEV": "Bakó Klaudia",
                    "METTOL": "2016-10-02",
                    "MEDDIG": "2016-10-05",
                    "(No column name)": "2",
                    "Előző 3 összesen": "6"
                },
                {
                    "USERNEV": "kornel4",
                    "NEV": "Lukács Kornél",
                    "METTOL": "2016-05-08",
                    "MEDDIG": "2016-05-14",
                    "(No column name)": "3",
                    "Előző 3 összesen": "NULL"
                },
                {
                    "USERNEV": "kornel4",
                    "NEV": "Lukács Kornél",
                    "METTOL": "2016-06-02",
                    "MEDDIG": "2016-06-09",
                    "(No column name)": "3",
                    "Előző 3 összesen": "3"
                },
                {
                    "USERNEV": "kornel4",
                    "NEV": "Lukács Kornél",
                    "METTOL": "2016-09-23",
                    "MEDDIG": "2016-09-24",
                    "(No column name)": "3",
                    "Előző 3 összesen": "6"
                },
                {
                    "USERNEV": "kristof4",
                    "NEV": "Poprádi Kristóf",
                    "METTOL": "2016-04-08",
                    "MEDDIG": "2016-04-14",
                    "(No column name)": "2",
                    "Előző 3 összesen": "NULL"
                },
                {
                    "USERNEV": "kristof4",
                    "NEV": "Poprádi Kristóf",
                    "METTOL": "2016-09-30",
                    "MEDDIG": "2016-10-04",
                    "(No column name)": "2",
                    "Előző 3 összesen": "2"
                },
                {
                    "USERNEV": "kriszti",
                    "NEV": "Horváth Krisztina",
                    "METTOL": "2016-05-19",
                    "MEDDIG": "2016-05-26",
                    "(No column name)": "2",
                    "Előző 3 összesen": "NULL"
                },
                {
                    "USERNEV": "kriszti",
                    "NEV": "Horváth Krisztina",
                    "METTOL": "2016-08-24",
                    "MEDDIG": "2016-08-25",
                    "(No column name)": "3",
                    "Előző 3 összesen": "2"
                },
                {
                    "USERNEV": "kriszti",
                    "NEV": "Horváth Krisztina",
                    "METTOL": "2016-09-30",
                    "MEDDIG": "2016-10-05",
                    "(No column name)": "3",
                    "Előző 3 összesen": "5"
                },
                {
                    "USERNEV": "kriszti",
                    "NEV": "Horváth Krisztina",
                    "METTOL": "2016-10-01",
                    "MEDDIG": "2016-10-02",
                    "(No column name)": "3",
                    "Előző 3 összesen": "8"
                },
                {
                    "USERNEV": "kriszti",
                    "NEV": "Horváth Krisztina",
                    "METTOL": "2017-02-04",
                    "MEDDIG": "2017-02-11",
                    "(No column name)": "3",
                    "Előző 3 összesen": "9"
                },
                {
                    "USERNEV": "kriszti",
                    "NEV": "Horváth Krisztina",
                    "METTOL": "2017-03-03",
                    "MEDDIG": "2017-03-04",
                    "(No column name)": "3",
                    "Előző 3 összesen": "9"
                },
                {
                    "USERNEV": "krisztian4",
                    "NEV": "Czérna Krisztián",
                    "METTOL": "2016-06-03",
                    "MEDDIG": "2016-06-04",
                    "(No column name)": "2",
                    "Előző 3 összesen": "NULL"
                },
                {
                    "USERNEV": "krisztian4",
                    "NEV": "Czérna Krisztián",
                    "METTOL": "2016-06-07",
                    "MEDDIG": "2016-06-09",
                    "(No column name)": "2",
                    "Előző 3 összesen": "2"
                },
                {
                    "USERNEV": "krisztian4",
                    "NEV": "Czérna Krisztián",
                    "METTOL": "2016-07-28",
                    "MEDDIG": "2016-08-01",
                    "(No column name)": "2",
                    "Előző 3 összesen": "4"
                },
                {
                    "USERNEV": "krisztian4",
                    "NEV": "Czérna Krisztián",
                    "METTOL": "2016-08-01",
                    "MEDDIG": "2016-08-04",
                    "(No column name)": "3",
                    "Előző 3 összesen": "6"
                },
                {
                    "USERNEV": "krisztian4",
                    "NEV": "Czérna Krisztián",
                    "METTOL": "2016-08-16",
                    "MEDDIG": "2016-08-19",
                    "(No column name)": "1",
                    "Előző 3 összesen": "7"
                },
                {
                    "USERNEV": "krisztian4",
                    "NEV": "Czérna Krisztián",
                    "METTOL": "2016-08-29",
                    "MEDDIG": "2016-09-03",
                    "(No column name)": "1",
                    "Előző 3 összesen": "6"
                },
                {
                    "USERNEV": "krisztian4",
                    "NEV": "Czérna Krisztián",
                    "METTOL": "2016-10-17",
                    "MEDDIG": "2016-10-22",
                    "(No column name)": "3",
                    "Előző 3 összesen": "5"
                },
                {
                    "USERNEV": "krisztian4",
                    "NEV": "Czérna Krisztián",
                    "METTOL": "2016-11-02",
                    "MEDDIG": "2016-11-03",
                    "(No column name)": "2",
                    "Előző 3 összesen": "5"
                },
                {
                    "USERNEV": "krisztian4",
                    "NEV": "Czérna Krisztián",
                    "METTOL": "2016-12-11",
                    "MEDDIG": "2016-12-18",
                    "(No column name)": "2",
                    "Előző 3 összesen": "6"
                },
                {
                    "USERNEV": "krisztian4",
                    "NEV": "Czérna Krisztián",
                    "METTOL": "2017-01-06",
                    "MEDDIG": "2017-01-09",
                    "(No column name)": "1",
                    "Előző 3 összesen": "7"
                },
                {
                    "USERNEV": "krisztian4",
                    "NEV": "Czérna Krisztián",
                    "METTOL": "2017-01-16",
                    "MEDDIG": "2017-01-23",
                    "(No column name)": "3",
                    "Előző 3 összesen": "5"
                },
                {
                    "USERNEV": "krisztian4",
                    "NEV": "Czérna Krisztián",
                    "METTOL": "2017-02-23",
                    "MEDDIG": "2017-03-02",
                    "(No column name)": "2",
                    "Előző 3 összesen": "6"
                },
                {
                    "USERNEV": "KRISZTIANM",
                    "NEV": "Mogyródi Krisztián",
                    "METTOL": "2016-04-09",
                    "MEDDIG": "2016-04-15",
                    "(No column name)": "2",
                    "Előző 3 összesen": "NULL"
                },
                {
                    "USERNEV": "KRISZTIANM",
                    "NEV": "Mogyródi Krisztián",
                    "METTOL": "2016-06-04",
                    "MEDDIG": "2016-06-08",
                    "(No column name)": "2",
                    "Előző 3 összesen": "2"
                },
                {
                    "USERNEV": "KRISZTIANM",
                    "NEV": "Mogyródi Krisztián",
                    "METTOL": "2016-07-09",
                    "MEDDIG": "2016-07-14",
                    "(No column name)": "3",
                    "Előző 3 összesen": "4"
                },
                {
                    "USERNEV": "KRISZTIANM",
                    "NEV": "Mogyródi Krisztián",
                    "METTOL": "2016-08-02",
                    "MEDDIG": "2016-08-08",
                    "(No column name)": "4",
                    "Előző 3 összesen": "7"
                },
                {
                    "USERNEV": "KRISZTIANM",
                    "NEV": "Mogyródi Krisztián",
                    "METTOL": "2016-12-25",
                    "MEDDIG": "2016-12-31",
                    "(No column name)": "2",
                    "Előző 3 összesen": "9"
                },
                {
                    "USERNEV": "KRISZTIANM",
                    "NEV": "Mogyródi Krisztián",
                    "METTOL": "2017-01-16",
                    "MEDDIG": "2017-01-23",
                    "(No column name)": "1",
                    "Előző 3 összesen": "9"
                },
                {
                    "USERNEV": "krisztina",
                    "NEV": "Szedlár Krisztina",
                    "METTOL": "2016-05-21",
                    "MEDDIG": "2016-05-27",
                    "(No column name)": "2",
                    "Előző 3 összesen": "NULL"
                },
                {
                    "USERNEV": "krisztina",
                    "NEV": "Szedlár Krisztina",
                    "METTOL": "2016-07-05",
                    "MEDDIG": "2016-07-12",
                    "(No column name)": "3",
                    "Előző 3 összesen": "2"
                },
                {
                    "USERNEV": "krisztina",
                    "NEV": "Szedlár Krisztina",
                    "METTOL": "2016-09-13",
                    "MEDDIG": "2016-09-16",
                    "(No column name)": "1",
                    "Előző 3 összesen": "5"
                },
                {
                    "USERNEV": "krisztina",
                    "NEV": "Szedlár Krisztina",
                    "METTOL": "2016-09-19",
                    "MEDDIG": "2016-09-26",
                    "(No column name)": "2",
                    "Előző 3 összesen": "6"
                },
                {
                    "USERNEV": "krisztina",
                    "NEV": "Szedlár Krisztina",
                    "METTOL": "2016-11-08",
                    "MEDDIG": "2016-11-12",
                    "(No column name)": "2",
                    "Előző 3 összesen": "6"
                },
                {
                    "USERNEV": "krisztina",
                    "NEV": "Szedlár Krisztina",
                    "METTOL": "2016-11-22",
                    "MEDDIG": "2016-11-25",
                    "(No column name)": "1",
                    "Előző 3 összesen": "5"
                },
                {
                    "USERNEV": "krisztina",
                    "NEV": "Szedlár Krisztina",
                    "METTOL": "2017-02-05",
                    "MEDDIG": "2017-02-07",
                    "(No column name)": "2",
                    "Előző 3 összesen": "5"
                },
                {
                    "USERNEV": "krisztina",
                    "NEV": "Szedlár Krisztina",
                    "METTOL": "2017-02-16",
                    "MEDDIG": "2017-02-20",
                    "(No column name)": "4",
                    "Előző 3 összesen": "5"
                },
                {
                    "USERNEV": "krisztina1",
                    "NEV": "Bori Krisztina",
                    "METTOL": "2016-04-28",
                    "MEDDIG": "2016-04-30",
                    "(No column name)": "2",
                    "Előző 3 összesen": "NULL"
                },
                {
                    "USERNEV": "krisztina1",
                    "NEV": "Bori Krisztina",
                    "METTOL": "2016-05-16",
                    "MEDDIG": "2016-05-20",
                    "(No column name)": "1",
                    "Előző 3 összesen": "2"
                },
                {
                    "USERNEV": "krisztina1",
                    "NEV": "Bori Krisztina",
                    "METTOL": "2016-06-16",
                    "MEDDIG": "2016-06-22",
                    "(No column name)": "2",
                    "Előző 3 összesen": "3"
                },
                {
                    "USERNEV": "krisztina1",
                    "NEV": "Bori Krisztina",
                    "METTOL": "2016-09-15",
                    "MEDDIG": "2016-09-20",
                    "(No column name)": "3",
                    "Előző 3 összesen": "5"
                },
                {
                    "USERNEV": "krisztina1",
                    "NEV": "Bori Krisztina",
                    "METTOL": "2016-10-29",
                    "MEDDIG": "2016-10-30",
                    "(No column name)": "4",
                    "Előző 3 összesen": "6"
                },
                {
                    "USERNEV": "krisztina1",
                    "NEV": "Bori Krisztina",
                    "METTOL": "2017-01-21",
                    "MEDDIG": "2017-01-24",
                    "(No column name)": "2",
                    "Előző 3 összesen": "9"
                },
                {
                    "USERNEV": "KRISZTINAG",
                    "NEV": "Gyárfás Krisztina",
                    "METTOL": "2016-04-23",
                    "MEDDIG": "2016-04-24",
                    "(No column name)": "2",
                    "Előző 3 összesen": "NULL"
                },
                {
                    "USERNEV": "KRISZTINAG",
                    "NEV": "Gyárfás Krisztina",
                    "METTOL": "2016-05-24",
                    "MEDDIG": "2016-05-31",
                    "(No column name)": "1",
                    "Előző 3 összesen": "2"
                },
                {
                    "USERNEV": "KRISZTINAG",
                    "NEV": "Gyárfás Krisztina",
                    "METTOL": "2016-06-08",
                    "MEDDIG": "2016-06-12",
                    "(No column name)": "1",
                    "Előző 3 összesen": "3"
                },
                {
                    "USERNEV": "KRISZTINAG",
                    "NEV": "Gyárfás Krisztina",
                    "METTOL": "2016-08-08",
                    "MEDDIG": "2016-08-12",
                    "(No column name)": "3",
                    "Előző 3 összesen": "4"
                },
                {
                    "USERNEV": "KRISZTINAG",
                    "NEV": "Gyárfás Krisztina",
                    "METTOL": "2017-01-25",
                    "MEDDIG": "2017-01-30",
                    "(No column name)": "2",
                    "Előző 3 összesen": "5"
                },
                {
                    "USERNEV": "lajos",
                    "NEV": "Kiss Lajos",
                    "METTOL": "2016-07-18",
                    "MEDDIG": "2016-07-21",
                    "(No column name)": "2",
                    "Előző 3 összesen": "NULL"
                },
                {
                    "USERNEV": "lajos",
                    "NEV": "Kiss Lajos",
                    "METTOL": "2016-12-25",
                    "MEDDIG": "2016-12-28",
                    "(No column name)": "4",
                    "Előző 3 összesen": "2"
                },
                {
                    "USERNEV": "lajos",
                    "NEV": "Kiss Lajos",
                    "METTOL": "2017-02-12",
                    "MEDDIG": "2017-02-13",
                    "(No column name)": "1",
                    "Előző 3 összesen": "6"
                },
                {
                    "USERNEV": "lala",
                    "NEV": "Nagymihály Lajos",
                    "METTOL": "2016-06-16",
                    "MEDDIG": "2016-06-22",
                    "(No column name)": "2",
                    "Előző 3 összesen": "NULL"
                },
                {
                    "USERNEV": "lala",
                    "NEV": "Nagymihály Lajos",
                    "METTOL": "2016-07-20",
                    "MEDDIG": "2016-07-21",
                    "(No column name)": "3",
                    "Előző 3 összesen": "2"
                },
                {
                    "USERNEV": "lala",
                    "NEV": "Nagymihály Lajos",
                    "METTOL": "2016-07-26",
                    "MEDDIG": "2016-07-27",
                    "(No column name)": "3",
                    "Előző 3 összesen": "5"
                },
                {
                    "USERNEV": "lala",
                    "NEV": "Nagymihály Lajos",
                    "METTOL": "2016-10-30",
                    "MEDDIG": "2016-10-31",
                    "(No column name)": "3",
                    "Előző 3 összesen": "8"
                },
                {
                    "USERNEV": "lala",
                    "NEV": "Nagymihály Lajos",
                    "METTOL": "2017-01-08",
                    "MEDDIG": "2017-01-10",
                    "(No column name)": "3",
                    "Előző 3 összesen": "9"
                },
                {
                    "USERNEV": "lala",
                    "NEV": "Nagymihály Lajos",
                    "METTOL": "2017-01-17",
                    "MEDDIG": "2017-01-19",
                    "(No column name)": "2",
                    "Előző 3 összesen": "9"
                },
                {
                    "USERNEV": "laszlo1",
                    "NEV": "Farkas László",
                    "METTOL": "2016-09-23",
                    "MEDDIG": "2016-09-30",
                    "(No column name)": "3",
                    "Előző 3 összesen": "NULL"
                },
                {
                    "USERNEV": "laszlo2",
                    "NEV": "Móra László",
                    "METTOL": "2016-04-06",
                    "MEDDIG": "2016-04-10",
                    "(No column name)": "2",
                    "Előző 3 összesen": "NULL"
                },
                {
                    "USERNEV": "laszlo2",
                    "NEV": "Móra László",
                    "METTOL": "2016-04-27",
                    "MEDDIG": "2016-04-29",
                    "(No column name)": "2",
                    "Előző 3 összesen": "2"
                },
                {
                    "USERNEV": "laszlo2",
                    "NEV": "Móra László",
                    "METTOL": "2016-08-14",
                    "MEDDIG": "2016-08-15",
                    "(No column name)": "3",
                    "Előző 3 összesen": "4"
                },
                {
                    "USERNEV": "laszlo2",
                    "NEV": "Móra László",
                    "METTOL": "2016-09-05",
                    "MEDDIG": "2016-09-10",
                    "(No column name)": "3",
                    "Előző 3 összesen": "7"
                },
                {
                    "USERNEV": "laszlo2",
                    "NEV": "Móra László",
                    "METTOL": "2016-11-25",
                    "MEDDIG": "2016-11-26",
                    "(No column name)": "3",
                    "Előző 3 összesen": "8"
                },
                {
                    "USERNEV": "LASZLOA",
                    "NEV": "Antal László",
                    "METTOL": "2016-06-03",
                    "MEDDIG": "2016-06-09",
                    "(No column name)": "2",
                    "Előző 3 összesen": "NULL"
                },
                {
                    "USERNEV": "LASZLOA",
                    "NEV": "Antal László",
                    "METTOL": "2016-06-07",
                    "MEDDIG": "2016-06-11",
                    "(No column name)": "1",
                    "Előző 3 összesen": "2"
                },
                {
                    "USERNEV": "LASZLOA",
                    "NEV": "Antal László",
                    "METTOL": "2016-06-10",
                    "MEDDIG": "2016-06-13",
                    "(No column name)": "3",
                    "Előző 3 összesen": "3"
                },
                {
                    "USERNEV": "LASZLOA",
                    "NEV": "Antal László",
                    "METTOL": "2017-02-08",
                    "MEDDIG": "2017-02-14",
                    "(No column name)": "2",
                    "Előző 3 összesen": "6"
                },
                {
                    "USERNEV": "LASZLON",
                    "NEV": "Nagy László",
                    "METTOL": "2016-06-03",
                    "MEDDIG": "2016-06-06",
                    "(No column name)": "1",
                    "Előző 3 összesen": "NULL"
                },
                {
                    "USERNEV": "LASZLON",
                    "NEV": "Nagy László",
                    "METTOL": "2016-06-08",
                    "MEDDIG": "2016-06-09",
                    "(No column name)": "2",
                    "Előző 3 összesen": "1"
                },
                {
                    "USERNEV": "LASZLON",
                    "NEV": "Nagy László",
                    "METTOL": "2016-10-01",
                    "MEDDIG": "2016-10-04",
                    "(No column name)": "3",
                    "Előző 3 összesen": "3"
                },
                {
                    "USERNEV": "LASZLON",
                    "NEV": "Nagy László",
                    "METTOL": "2016-10-09",
                    "MEDDIG": "2016-10-14",
                    "(No column name)": "1",
                    "Előző 3 összesen": "6"
                },
                {
                    "USERNEV": "LASZLON",
                    "NEV": "Nagy László",
                    "METTOL": "2016-11-29",
                    "MEDDIG": "2016-12-04",
                    "(No column name)": "1",
                    "Előző 3 összesen": "6"
                },
                {
                    "USERNEV": "LASZLON",
                    "NEV": "Nagy László",
                    "METTOL": "2017-02-18",
                    "MEDDIG": "2017-02-25",
                    "(No column name)": "3",
                    "Előző 3 összesen": "5"
                },
                {
                    "USERNEV": "maria1",
                    "NEV": "Baráth Mária",
                    "METTOL": "2016-05-13",
                    "MEDDIG": "2016-05-18",
                    "(No column name)": "2",
                    "Előző 3 összesen": "NULL"
                },
                {
                    "USERNEV": "maria1",
                    "NEV": "Baráth Mária",
                    "METTOL": "2016-05-18",
                    "MEDDIG": "2016-05-19",
                    "(No column name)": "1",
                    "Előző 3 összesen": "2"
                },
                {
                    "USERNEV": "maria1",
                    "NEV": "Baráth Mária",
                    "METTOL": "2016-05-28",
                    "MEDDIG": "2016-06-03",
                    "(No column name)": "2",
                    "Előző 3 összesen": "3"
                },
                {
                    "USERNEV": "maria1",
                    "NEV": "Baráth Mária",
                    "METTOL": "2016-06-23",
                    "MEDDIG": "2016-06-27",
                    "(No column name)": "1",
                    "Előző 3 összesen": "5"
                },
                {
                    "USERNEV": "maria1",
                    "NEV": "Baráth Mária",
                    "METTOL": "2016-08-11",
                    "MEDDIG": "2016-08-14",
                    "(No column name)": "3",
                    "Előző 3 összesen": "4"
                },
                {
                    "USERNEV": "maria1",
                    "NEV": "Baráth Mária",
                    "METTOL": "2016-09-02",
                    "MEDDIG": "2016-09-05",
                    "(No column name)": "1",
                    "Előző 3 összesen": "6"
                },
                {
                    "USERNEV": "maria1",
                    "NEV": "Baráth Mária",
                    "METTOL": "2016-11-08",
                    "MEDDIG": "2016-11-12",
                    "(No column name)": "3",
                    "Előző 3 összesen": "5"
                },
                {
                    "USERNEV": "maria1",
                    "NEV": "Baráth Mária",
                    "METTOL": "2017-02-24",
                    "MEDDIG": "2017-03-02",
                    "(No column name)": "2",
                    "Előző 3 összesen": "7"
                },
                {
                    "USERNEV": "mark",
                    "NEV": "Kispál Márk",
                    "METTOL": "2016-04-19",
                    "MEDDIG": "2016-04-26",
                    "(No column name)": "4",
                    "Előző 3 összesen": "NULL"
                },
                {
                    "USERNEV": "mark",
                    "NEV": "Kispál Márk",
                    "METTOL": "2016-06-13",
                    "MEDDIG": "2016-06-18",
                    "(No column name)": "3",
                    "Előző 3 összesen": "4"
                },
                {
                    "USERNEV": "mark",
                    "NEV": "Kispál Márk",
                    "METTOL": "2016-08-09",
                    "MEDDIG": "2016-08-16",
                    "(No column name)": "3",
                    "Előző 3 összesen": "7"
                },
                {
                    "USERNEV": "mark",
                    "NEV": "Kispál Márk",
                    "METTOL": "2016-10-20",
                    "MEDDIG": "2016-10-27",
                    "(No column name)": "1",
                    "Előző 3 összesen": "10"
                },
                {
                    "USERNEV": "mark",
                    "NEV": "Kispál Márk",
                    "METTOL": "2016-11-19",
                    "MEDDIG": "2016-11-22",
                    "(No column name)": "2",
                    "Előző 3 összesen": "7"
                },
                {
                    "USERNEV": "MARKH",
                    "NEV": "Horváth Márk",
                    "METTOL": "2016-09-14",
                    "MEDDIG": "2016-09-17",
                    "(No column name)": "3",
                    "Előző 3 összesen": "NULL"
                },
                {
                    "USERNEV": "MARKH",
                    "NEV": "Horváth Márk",
                    "METTOL": "2016-09-23",
                    "MEDDIG": "2016-09-30",
                    "(No column name)": "2",
                    "Előző 3 összesen": "3"
                },
                {
                    "USERNEV": "MARKH",
                    "NEV": "Horváth Márk",
                    "METTOL": "2016-09-26",
                    "MEDDIG": "2016-10-01",
                    "(No column name)": "4",
                    "Előző 3 összesen": "5"
                },
                {
                    "USERNEV": "MARKH",
                    "NEV": "Horváth Márk",
                    "METTOL": "2017-01-22",
                    "MEDDIG": "2017-01-29",
                    "(No column name)": "4",
                    "Előző 3 összesen": "9"
                },
                {
                    "USERNEV": "marton",
                    "NEV": "Kalacsi Márton",
                    "METTOL": "2016-04-27",
                    "MEDDIG": "2016-05-04",
                    "(No column name)": "3",
                    "Előző 3 összesen": "NULL"
                },
                {
                    "USERNEV": "marton",
                    "NEV": "Kalacsi Márton",
                    "METTOL": "2016-05-05",
                    "MEDDIG": "2016-05-10",
                    "(No column name)": "1",
                    "Előző 3 összesen": "3"
                },
                {
                    "USERNEV": "marton",
                    "NEV": "Kalacsi Márton",
                    "METTOL": "2016-06-06",
                    "MEDDIG": "2016-06-08",
                    "(No column name)": "3",
                    "Előző 3 összesen": "4"
                },
                {
                    "USERNEV": "marton",
                    "NEV": "Kalacsi Márton",
                    "METTOL": "2016-06-22",
                    "MEDDIG": "2016-06-29",
                    "(No column name)": "2",
                    "Előző 3 összesen": "7"
                },
                {
                    "USERNEV": "marton",
                    "NEV": "Kalacsi Márton",
                    "METTOL": "2016-08-12",
                    "MEDDIG": "2016-08-17",
                    "(No column name)": "2",
                    "Előző 3 összesen": "6"
                },
                {
                    "USERNEV": "marton",
                    "NEV": "Kalacsi Márton",
                    "METTOL": "2016-09-10",
                    "MEDDIG": "2016-09-12",
                    "(No column name)": "2",
                    "Előző 3 összesen": "7"
                },
                {
                    "USERNEV": "marton",
                    "NEV": "Kalacsi Márton",
                    "METTOL": "2017-03-02",
                    "MEDDIG": "2017-03-03",
                    "(No column name)": "2",
                    "Előző 3 összesen": "6"
                },
                {
                    "USERNEV": "MATEK",
                    "NEV": "Koza Máté",
                    "METTOL": "2016-08-17",
                    "MEDDIG": "2016-08-21",
                    "(No column name)": "4",
                    "Előző 3 összesen": "NULL"
                },
                {
                    "USERNEV": "MATEK",
                    "NEV": "Koza Máté",
                    "METTOL": "2016-10-01",
                    "MEDDIG": "2016-10-04",
                    "(No column name)": "2",
                    "Előző 3 összesen": "4"
                },
                {
                    "USERNEV": "MATEK",
                    "NEV": "Koza Máté",
                    "METTOL": "2017-01-16",
                    "MEDDIG": "2017-01-22",
                    "(No column name)": "2",
                    "Előző 3 összesen": "6"
                },
                {
                    "USERNEV": "matyas2",
                    "NEV": "Botka Mátyás",
                    "METTOL": "2016-07-13",
                    "MEDDIG": "2016-07-16",
                    "(No column name)": "2",
                    "Előző 3 összesen": "NULL"
                },
                {
                    "USERNEV": "matyas2",
                    "NEV": "Botka Mátyás",
                    "METTOL": "2016-12-09",
                    "MEDDIG": "2016-12-13",
                    "(No column name)": "3",
                    "Előző 3 összesen": "2"
                },
                {
                    "USERNEV": "MATYASS",
                    "NEV": "Szilágyi Mátyás",
                    "METTOL": "2016-05-10",
                    "MEDDIG": "2016-05-16",
                    "(No column name)": "2",
                    "Előző 3 összesen": "NULL"
                },
                {
                    "USERNEV": "MATYASS",
                    "NEV": "Szilágyi Mátyás",
                    "METTOL": "2016-06-02",
                    "MEDDIG": "2016-06-08",
                    "(No column name)": "1",
                    "Előző 3 összesen": "2"
                },
                {
                    "USERNEV": "MATYASS",
                    "NEV": "Szilágyi Mátyás",
                    "METTOL": "2016-07-23",
                    "MEDDIG": "2016-07-25",
                    "(No column name)": "3",
                    "Előző 3 összesen": "3"
                },
                {
                    "USERNEV": "MATYASS",
                    "NEV": "Szilágyi Mátyás",
                    "METTOL": "2016-10-09",
                    "MEDDIG": "2016-10-15",
                    "(No column name)": "3",
                    "Előző 3 összesen": "6"
                },
                {
                    "USERNEV": "MATYASS",
                    "NEV": "Szilágyi Mátyás",
                    "METTOL": "2016-10-24",
                    "MEDDIG": "2016-10-31",
                    "(No column name)": "1",
                    "Előző 3 összesen": "7"
                },
                {
                    "USERNEV": "MATYASS",
                    "NEV": "Szilágyi Mátyás",
                    "METTOL": "2016-10-30",
                    "MEDDIG": "2016-11-04",
                    "(No column name)": "3",
                    "Előző 3 összesen": "7"
                },
                {
                    "USERNEV": "MATYASS",
                    "NEV": "Szilágyi Mátyás",
                    "METTOL": "2016-12-20",
                    "MEDDIG": "2016-12-25",
                    "(No column name)": "2",
                    "Előző 3 összesen": "7"
                },
                {
                    "USERNEV": "MATYASS",
                    "NEV": "Szilágyi Mátyás",
                    "METTOL": "2017-01-09",
                    "MEDDIG": "2017-01-13",
                    "(No column name)": "2",
                    "Előző 3 összesen": "6"
                },
                {
                    "USERNEV": "MIHALYJ",
                    "NEV": "Juhász Mihály",
                    "METTOL": "2016-05-30",
                    "MEDDIG": "2016-06-01",
                    "(No column name)": "2",
                    "Előző 3 összesen": "NULL"
                },
                {
                    "USERNEV": "MIHALYJ",
                    "NEV": "Juhász Mihály",
                    "METTOL": "2016-06-27",
                    "MEDDIG": "2016-07-01",
                    "(No column name)": "1",
                    "Előző 3 összesen": "2"
                },
                {
                    "USERNEV": "MIHALYJ",
                    "NEV": "Juhász Mihály",
                    "METTOL": "2016-08-29",
                    "MEDDIG": "2016-09-03",
                    "(No column name)": "1",
                    "Előző 3 összesen": "3"
                },
                {
                    "USERNEV": "MIHALYJ",
                    "NEV": "Juhász Mihály",
                    "METTOL": "2016-11-01",
                    "MEDDIG": "2016-11-04",
                    "(No column name)": "3",
                    "Előző 3 összesen": "4"
                },
                {
                    "USERNEV": "MIHALYJ",
                    "NEV": "Juhász Mihály",
                    "METTOL": "2017-02-06",
                    "MEDDIG": "2017-02-12",
                    "(No column name)": "4",
                    "Előző 3 összesen": "5"
                },
                {
                    "USERNEV": "miklos2",
                    "NEV": "Gondos Miklós",
                    "METTOL": "2016-04-19",
                    "MEDDIG": "2016-04-21",
                    "(No column name)": "3",
                    "Előző 3 összesen": "NULL"
                },
                {
                    "USERNEV": "miklos2",
                    "NEV": "Gondos Miklós",
                    "METTOL": "2016-10-08",
                    "MEDDIG": "2016-10-09",
                    "(No column name)": "1",
                    "Előző 3 összesen": "3"
                },
                {
                    "USERNEV": "miklos2",
                    "NEV": "Gondos Miklós",
                    "METTOL": "2016-11-16",
                    "MEDDIG": "2016-11-18",
                    "(No column name)": "3",
                    "Előző 3 összesen": "4"
                },
                {
                    "USERNEV": "MIKLOSB",
                    "NEV": "Balla Miklós",
                    "METTOL": "2016-06-26",
                    "MEDDIG": "2016-06-30",
                    "(No column name)": "2",
                    "Előző 3 összesen": "NULL"
                },
                {
                    "USERNEV": "MIKLOSB",
                    "NEV": "Balla Miklós",
                    "METTOL": "2016-07-18",
                    "MEDDIG": "2016-07-21",
                    "(No column name)": "2",
                    "Előző 3 összesen": "2"
                },
                {
                    "USERNEV": "MIKLOSB",
                    "NEV": "Balla Miklós",
                    "METTOL": "2016-12-05",
                    "MEDDIG": "2016-12-10",
                    "(No column name)": "2",
                    "Előző 3 összesen": "4"
                },
                {
                    "USERNEV": "MONIKAM",
                    "NEV": "Mohos Mónika",
                    "METTOL": "2016-04-29",
                    "MEDDIG": "2016-05-01",
                    "(No column name)": "2",
                    "Előző 3 összesen": "NULL"
                },
                {
                    "USERNEV": "MONIKAM",
                    "NEV": "Mohos Mónika",
                    "METTOL": "2016-07-23",
                    "MEDDIG": "2016-07-30",
                    "(No column name)": "1",
                    "Előző 3 összesen": "2"
                },
                {
                    "USERNEV": "MONIKAM",
                    "NEV": "Mohos Mónika",
                    "METTOL": "2016-11-09",
                    "MEDDIG": "2016-11-16",
                    "(No column name)": "2",
                    "Előző 3 összesen": "3"
                },
                {
                    "USERNEV": "MONIKAM",
                    "NEV": "Mohos Mónika",
                    "METTOL": "2017-01-17",
                    "MEDDIG": "2017-01-24",
                    "(No column name)": "1",
                    "Előző 3 összesen": "5"
                },
                {
                    "USERNEV": "MONIKAM",
                    "NEV": "Mohos Mónika",
                    "METTOL": "2017-02-06",
                    "MEDDIG": "2017-02-09",
                    "(No column name)": "2",
                    "Előző 3 összesen": "4"
                },
                {
                    "USERNEV": "MONIKAM",
                    "NEV": "Mohos Mónika",
                    "METTOL": "2017-02-23",
                    "MEDDIG": "2017-02-26",
                    "(No column name)": "2",
                    "Előző 3 összesen": "5"
                },
                {
                    "USERNEV": "NANDORF",
                    "NEV": "Fő Nándor",
                    "METTOL": "2016-04-06",
                    "MEDDIG": "2016-04-10",
                    "(No column name)": "3",
                    "Előző 3 összesen": "NULL"
                },
                {
                    "USERNEV": "NANDORF",
                    "NEV": "Fő Nándor",
                    "METTOL": "2016-11-03",
                    "MEDDIG": "2016-11-04",
                    "(No column name)": "3",
                    "Előző 3 összesen": "3"
                },
                {
                    "USERNEV": "NANDORF",
                    "NEV": "Fő Nándor",
                    "METTOL": "2017-02-05",
                    "MEDDIG": "2017-02-08",
                    "(No column name)": "3",
                    "Előző 3 összesen": "6"
                },
                {
                    "USERNEV": "nikolett3",
                    "NEV": "Horváth Nikolett",
                    "METTOL": "2016-05-24",
                    "MEDDIG": "2016-05-29",
                    "(No column name)": "2",
                    "Előző 3 összesen": "NULL"
                },
                {
                    "USERNEV": "nikolett3",
                    "NEV": "Horváth Nikolett",
                    "METTOL": "2016-06-03",
                    "MEDDIG": "2016-06-09",
                    "(No column name)": "1",
                    "Előző 3 összesen": "2"
                },
                {
                    "USERNEV": "nikolett3",
                    "NEV": "Horváth Nikolett",
                    "METTOL": "2016-06-22",
                    "MEDDIG": "2016-06-24",
                    "(No column name)": "1",
                    "Előző 3 összesen": "3"
                },
                {
                    "USERNEV": "nikolett3",
                    "NEV": "Horváth Nikolett",
                    "METTOL": "2016-10-22",
                    "MEDDIG": "2016-10-29",
                    "(No column name)": "3",
                    "Előző 3 összesen": "4"
                },
                {
                    "USERNEV": "nikoletta4",
                    "NEV": "Kő Nikoletta",
                    "METTOL": "2016-04-08",
                    "MEDDIG": "2016-04-10",
                    "(No column name)": "2",
                    "Előző 3 összesen": "NULL"
                },
                {
                    "USERNEV": "nikoletta4",
                    "NEV": "Kő Nikoletta",
                    "METTOL": "2016-05-09",
                    "MEDDIG": "2016-05-15",
                    "(No column name)": "2",
                    "Előző 3 összesen": "2"
                },
                {
                    "USERNEV": "nikoletta4",
                    "NEV": "Kő Nikoletta",
                    "METTOL": "2016-05-30",
                    "MEDDIG": "2016-06-03",
                    "(No column name)": "3",
                    "Előző 3 összesen": "4"
                },
                {
                    "USERNEV": "nikoletta4",
                    "NEV": "Kő Nikoletta",
                    "METTOL": "2016-06-29",
                    "MEDDIG": "2016-07-06",
                    "(No column name)": "2",
                    "Előző 3 összesen": "7"
                },
                {
                    "USERNEV": "nikoletta4",
                    "NEV": "Kő Nikoletta",
                    "METTOL": "2016-08-13",
                    "MEDDIG": "2016-08-17",
                    "(No column name)": "3",
                    "Előző 3 összesen": "7"
                },
                {
                    "USERNEV": "nikoletta4",
                    "NEV": "Kő Nikoletta",
                    "METTOL": "2016-12-08",
                    "MEDDIG": "2016-12-10",
                    "(No column name)": "5",
                    "Előző 3 összesen": "8"
                },
                {
                    "USERNEV": "nikoletta4",
                    "NEV": "Kő Nikoletta",
                    "METTOL": "2017-02-01",
                    "MEDDIG": "2017-02-04",
                    "(No column name)": "2",
                    "Előző 3 összesen": "10"
                },
                {
                    "USERNEV": "NIKOLETTAT",
                    "NEV": "Tatár Nikoletta",
                    "METTOL": "2016-05-22",
                    "MEDDIG": "2016-05-23",
                    "(No column name)": "4",
                    "Előző 3 összesen": "NULL"
                },
                {
                    "USERNEV": "NIKOLETTAT",
                    "NEV": "Tatár Nikoletta",
                    "METTOL": "2016-06-07",
                    "MEDDIG": "2016-06-09",
                    "(No column name)": "2",
                    "Előző 3 összesen": "4"
                },
                {
                    "USERNEV": "NIKOLETTAT",
                    "NEV": "Tatár Nikoletta",
                    "METTOL": "2016-07-27",
                    "MEDDIG": "2016-07-29",
                    "(No column name)": "4",
                    "Előző 3 összesen": "6"
                },
                {
                    "USERNEV": "NIKOLETTAT",
                    "NEV": "Tatár Nikoletta",
                    "METTOL": "2016-09-21",
                    "MEDDIG": "2016-09-26",
                    "(No column name)": "2",
                    "Előző 3 összesen": "10"
                },
                {
                    "USERNEV": "norbert",
                    "NEV": "Szűcs Norbert",
                    "METTOL": "2016-07-08",
                    "MEDDIG": "2016-07-13",
                    "(No column name)": "1",
                    "Előző 3 összesen": "NULL"
                },
                {
                    "USERNEV": "norbert",
                    "NEV": "Szűcs Norbert",
                    "METTOL": "2016-11-16",
                    "MEDDIG": "2016-11-23",
                    "(No column name)": "3",
                    "Előző 3 összesen": "1"
                },
                {
                    "USERNEV": "norbert",
                    "NEV": "Szűcs Norbert",
                    "METTOL": "2016-12-15",
                    "MEDDIG": "2016-12-18",
                    "(No column name)": "2",
                    "Előző 3 összesen": "4"
                },
                {
                    "USERNEV": "norbert",
                    "NEV": "Szűcs Norbert",
                    "METTOL": "2017-02-13",
                    "MEDDIG": "2017-02-15",
                    "(No column name)": "3",
                    "Előző 3 összesen": "6"
                },
                {
                    "USERNEV": "norbert",
                    "NEV": "Szűcs Norbert",
                    "METTOL": "2017-02-26",
                    "MEDDIG": "2017-03-01",
                    "(No column name)": "1",
                    "Előző 3 összesen": "8"
                },
                {
                    "USERNEV": "norbert2",
                    "NEV": "Hegedűs Norbert",
                    "METTOL": "2016-04-19",
                    "MEDDIG": "2016-04-26",
                    "(No column name)": "1",
                    "Előző 3 összesen": "NULL"
                },
                {
                    "USERNEV": "norbert2",
                    "NEV": "Hegedűs Norbert",
                    "METTOL": "2016-05-09",
                    "MEDDIG": "2016-05-10",
                    "(No column name)": "2",
                    "Előző 3 összesen": "1"
                },
                {
                    "USERNEV": "norbert2",
                    "NEV": "Hegedűs Norbert",
                    "METTOL": "2016-07-13",
                    "MEDDIG": "2016-07-15",
                    "(No column name)": "3",
                    "Előző 3 összesen": "3"
                },
                {
                    "USERNEV": "norbert2",
                    "NEV": "Hegedűs Norbert",
                    "METTOL": "2016-07-27",
                    "MEDDIG": "2016-08-02",
                    "(No column name)": "2",
                    "Előző 3 összesen": "6"
                },
                {
                    "USERNEV": "norbert2",
                    "NEV": "Hegedűs Norbert",
                    "METTOL": "2016-08-16",
                    "MEDDIG": "2016-08-19",
                    "(No column name)": "1",
                    "Előző 3 összesen": "7"
                },
                {
                    "USERNEV": "norbert2",
                    "NEV": "Hegedűs Norbert",
                    "METTOL": "2016-10-31",
                    "MEDDIG": "2016-11-07",
                    "(No column name)": "2",
                    "Előző 3 összesen": "6"
                },
                {
                    "USERNEV": "norbert2",
                    "NEV": "Hegedűs Norbert",
                    "METTOL": "2017-01-29",
                    "MEDDIG": "2017-02-05",
                    "(No column name)": "3",
                    "Előző 3 összesen": "5"
                },
                {
                    "USERNEV": "norbert4",
                    "NEV": "Mile Norbert",
                    "METTOL": "2016-04-10",
                    "MEDDIG": "2016-04-13",
                    "(No column name)": "2",
                    "Előző 3 összesen": "NULL"
                },
                {
                    "USERNEV": "norbert4",
                    "NEV": "Mile Norbert",
                    "METTOL": "2016-05-29",
                    "MEDDIG": "2016-06-03",
                    "(No column name)": "3",
                    "Előző 3 összesen": "2"
                },
                {
                    "USERNEV": "norbert4",
                    "NEV": "Mile Norbert",
                    "METTOL": "2016-06-16",
                    "MEDDIG": "2016-06-17",
                    "(No column name)": "4",
                    "Előző 3 összesen": "5"
                },
                {
                    "USERNEV": "norbert4",
                    "NEV": "Mile Norbert",
                    "METTOL": "2016-06-16",
                    "MEDDIG": "2016-06-21",
                    "(No column name)": "3",
                    "Előző 3 összesen": "9"
                },
                {
                    "USERNEV": "norbert4",
                    "NEV": "Mile Norbert",
                    "METTOL": "2016-10-05",
                    "MEDDIG": "2016-10-10",
                    "(No column name)": "3",
                    "Előző 3 összesen": "10"
                },
                {
                    "USERNEV": "norbert4",
                    "NEV": "Mile Norbert",
                    "METTOL": "2016-10-28",
                    "MEDDIG": "2016-10-31",
                    "(No column name)": "3",
                    "Előző 3 összesen": "10"
                },
                {
                    "USERNEV": "norbert4",
                    "NEV": "Mile Norbert",
                    "METTOL": "2016-11-30",
                    "MEDDIG": "2016-12-06",
                    "(No column name)": "3",
                    "Előző 3 összesen": "9"
                },
                {
                    "USERNEV": "norbert4",
                    "NEV": "Mile Norbert",
                    "METTOL": "2017-02-16",
                    "MEDDIG": "2017-02-17",
                    "(No column name)": "1",
                    "Előző 3 összesen": "9"
                },
                {
                    "USERNEV": "norbert4",
                    "NEV": "Mile Norbert",
                    "METTOL": "2017-03-03",
                    "MEDDIG": "2017-03-07",
                    "(No column name)": "2",
                    "Előző 3 összesen": "7"
                },
                {
                    "USERNEV": "norbert5",
                    "NEV": "Béres Norbert",
                    "METTOL": "2016-06-24",
                    "MEDDIG": "2016-06-28",
                    "(No column name)": "2",
                    "Előző 3 összesen": "NULL"
                },
                {
                    "USERNEV": "norbert5",
                    "NEV": "Béres Norbert",
                    "METTOL": "2016-08-10",
                    "MEDDIG": "2016-08-11",
                    "(No column name)": "2",
                    "Előző 3 összesen": "2"
                },
                {
                    "USERNEV": "norbert5",
                    "NEV": "Béres Norbert",
                    "METTOL": "2016-11-05",
                    "MEDDIG": "2016-11-07",
                    "(No column name)": "1",
                    "Előző 3 összesen": "4"
                },
                {
                    "USERNEV": "pal",
                    "NEV": "Barabás Pál",
                    "METTOL": "2016-08-14",
                    "MEDDIG": "2016-08-18",
                    "(No column name)": "3",
                    "Előző 3 összesen": "NULL"
                },
                {
                    "USERNEV": "pal",
                    "NEV": "Barabás Pál",
                    "METTOL": "2016-09-16",
                    "MEDDIG": "2016-09-19",
                    "(No column name)": "2",
                    "Előző 3 összesen": "3"
                },
                {
                    "USERNEV": "pal",
                    "NEV": "Barabás Pál",
                    "METTOL": "2016-12-17",
                    "MEDDIG": "2016-12-23",
                    "(No column name)": "3",
                    "Előző 3 összesen": "5"
                },
                {
                    "USERNEV": "pal",
                    "NEV": "Barabás Pál",
                    "METTOL": "2017-02-13",
                    "MEDDIG": "2017-02-19",
                    "(No column name)": "3",
                    "Előző 3 összesen": "8"
                },
                {
                    "USERNEV": "pal",
                    "NEV": "Barabás Pál",
                    "METTOL": "2017-02-20",
                    "MEDDIG": "2017-02-22",
                    "(No column name)": "3",
                    "Előző 3 összesen": "8"
                },
                {
                    "USERNEV": "peter1",
                    "NEV": "Kozma Péter",
                    "METTOL": "2016-07-14",
                    "MEDDIG": "2016-07-18",
                    "(No column name)": "3",
                    "Előző 3 összesen": "NULL"
                },
                {
                    "USERNEV": "peter1",
                    "NEV": "Kozma Péter",
                    "METTOL": "2016-10-26",
                    "MEDDIG": "2016-11-01",
                    "(No column name)": "3",
                    "Előző 3 összesen": "3"
                },
                {
                    "USERNEV": "peter1",
                    "NEV": "Kozma Péter",
                    "METTOL": "2017-02-23",
                    "MEDDIG": "2017-02-26",
                    "(No column name)": "3",
                    "Előző 3 összesen": "6"
                },
                {
                    "USERNEV": "peter1",
                    "NEV": "Kozma Péter",
                    "METTOL": "2017-02-28",
                    "MEDDIG": "2017-03-05",
                    "(No column name)": "3",
                    "Előző 3 összesen": "9"
                },
                {
                    "USERNEV": "peter2",
                    "NEV": "Bozsó Péter",
                    "METTOL": "2016-07-03",
                    "MEDDIG": "2016-07-08",
                    "(No column name)": "2",
                    "Előző 3 összesen": "NULL"
                },
                {
                    "USERNEV": "peter2",
                    "NEV": "Bozsó Péter",
                    "METTOL": "2016-10-10",
                    "MEDDIG": "2016-10-16",
                    "(No column name)": "2",
                    "Előző 3 összesen": "2"
                },
                {
                    "USERNEV": "peter2",
                    "NEV": "Bozsó Péter",
                    "METTOL": "2016-11-01",
                    "MEDDIG": "2016-11-02",
                    "(No column name)": "2",
                    "Előző 3 összesen": "4"
                },
                {
                    "USERNEV": "peter2",
                    "NEV": "Bozsó Péter",
                    "METTOL": "2016-11-15",
                    "MEDDIG": "2016-11-21",
                    "(No column name)": "3",
                    "Előző 3 összesen": "6"
                },
                {
                    "USERNEV": "peter3",
                    "NEV": "Szalai Péter",
                    "METTOL": "2016-06-30",
                    "MEDDIG": "2016-07-05",
                    "(No column name)": "3",
                    "Előző 3 összesen": "NULL"
                },
                {
                    "USERNEV": "peter3",
                    "NEV": "Szalai Péter",
                    "METTOL": "2016-07-27",
                    "MEDDIG": "2016-07-31",
                    "(No column name)": "4",
                    "Előző 3 összesen": "3"
                },
                {
                    "USERNEV": "peter3",
                    "NEV": "Szalai Péter",
                    "METTOL": "2016-10-30",
                    "MEDDIG": "2016-11-06",
                    "(No column name)": "2",
                    "Előző 3 összesen": "7"
                },
                {
                    "USERNEV": "peter3",
                    "NEV": "Szalai Péter",
                    "METTOL": "2016-12-25",
                    "MEDDIG": "2016-12-28",
                    "(No column name)": "1",
                    "Előző 3 összesen": "9"
                },
                {
                    "USERNEV": "peter3",
                    "NEV": "Szalai Péter",
                    "METTOL": "2017-01-12",
                    "MEDDIG": "2017-01-17",
                    "(No column name)": "1",
                    "Előző 3 összesen": "7"
                },
                {
                    "USERNEV": "peter3",
                    "NEV": "Szalai Péter",
                    "METTOL": "2017-02-21",
                    "MEDDIG": "2017-02-24",
                    "(No column name)": "2",
                    "Előző 3 összesen": "4"
                },
                {
                    "USERNEV": "peter4",
                    "NEV": "Bíró Péter",
                    "METTOL": "2016-04-12",
                    "MEDDIG": "2016-04-15",
                    "(No column name)": "3",
                    "Előző 3 összesen": "NULL"
                },
                {
                    "USERNEV": "peter4",
                    "NEV": "Bíró Péter",
                    "METTOL": "2016-08-06",
                    "MEDDIG": "2016-08-13",
                    "(No column name)": "2",
                    "Előző 3 összesen": "3"
                },
                {
                    "USERNEV": "peter4",
                    "NEV": "Bíró Péter",
                    "METTOL": "2016-08-24",
                    "MEDDIG": "2016-08-25",
                    "(No column name)": "3",
                    "Előző 3 összesen": "5"
                },
                {
                    "USERNEV": "peter4",
                    "NEV": "Bíró Péter",
                    "METTOL": "2016-09-11",
                    "MEDDIG": "2016-09-17",
                    "(No column name)": "4",
                    "Előző 3 összesen": "8"
                },
                {
                    "USERNEV": "peter4",
                    "NEV": "Bíró Péter",
                    "METTOL": "2016-09-25",
                    "MEDDIG": "2016-09-26",
                    "(No column name)": "3",
                    "Előző 3 összesen": "9"
                },
                {
                    "USERNEV": "peter4",
                    "NEV": "Bíró Péter",
                    "METTOL": "2016-09-30",
                    "MEDDIG": "2016-10-06",
                    "(No column name)": "3",
                    "Előző 3 összesen": "10"
                },
                {
                    "USERNEV": "peter4",
                    "NEV": "Bíró Péter",
                    "METTOL": "2016-10-09",
                    "MEDDIG": "2016-10-16",
                    "(No column name)": "3",
                    "Előző 3 összesen": "10"
                },
                {
                    "USERNEV": "peter4",
                    "NEV": "Bíró Péter",
                    "METTOL": "2016-10-24",
                    "MEDDIG": "2016-10-25",
                    "(No column name)": "2",
                    "Előző 3 összesen": "9"
                },
                {
                    "USERNEV": "peter4",
                    "NEV": "Bíró Péter",
                    "METTOL": "2016-10-30",
                    "MEDDIG": "2016-11-01",
                    "(No column name)": "3",
                    "Előző 3 összesen": "8"
                },
                {
                    "USERNEV": "peter4",
                    "NEV": "Bíró Péter",
                    "METTOL": "2016-11-10",
                    "MEDDIG": "2016-11-17",
                    "(No column name)": "3",
                    "Előző 3 összesen": "8"
                },
                {
                    "USERNEV": "peter4",
                    "NEV": "Bíró Péter",
                    "METTOL": "2016-11-25",
                    "MEDDIG": "2016-11-30",
                    "(No column name)": "3",
                    "Előző 3 összesen": "8"
                },
                {
                    "USERNEV": "peter4",
                    "NEV": "Bíró Péter",
                    "METTOL": "2017-02-05",
                    "MEDDIG": "2017-02-09",
                    "(No column name)": "3",
                    "Előző 3 összesen": "9"
                },
                {
                    "USERNEV": "PETERB",
                    "NEV": "Berendi Péter",
                    "METTOL": "2016-04-06",
                    "MEDDIG": "2016-04-10",
                    "(No column name)": "1",
                    "Előző 3 összesen": "NULL"
                },
                {
                    "USERNEV": "PETERB",
                    "NEV": "Berendi Péter",
                    "METTOL": "2016-07-20",
                    "MEDDIG": "2016-07-24",
                    "(No column name)": "2",
                    "Előző 3 összesen": "1"
                },
                {
                    "USERNEV": "PETERB",
                    "NEV": "Berendi Péter",
                    "METTOL": "2016-08-16",
                    "MEDDIG": "2016-08-23",
                    "(No column name)": "1",
                    "Előző 3 összesen": "3"
                },
                {
                    "USERNEV": "PETERB",
                    "NEV": "Berendi Péter",
                    "METTOL": "2016-10-19",
                    "MEDDIG": "2016-10-20",
                    "(No column name)": "4",
                    "Előző 3 összesen": "4"
                },
                {
                    "USERNEV": "PETERB",
                    "NEV": "Berendi Péter",
                    "METTOL": "2016-11-17",
                    "MEDDIG": "2016-11-20",
                    "(No column name)": "2",
                    "Előző 3 összesen": "7"
                },
                {
                    "USERNEV": "polla",
                    "NEV": "Palágyi Polla",
                    "METTOL": "2016-04-17",
                    "MEDDIG": "2016-04-22",
                    "(No column name)": "3",
                    "Előző 3 összesen": "NULL"
                },
                {
                    "USERNEV": "polla",
                    "NEV": "Palágyi Polla",
                    "METTOL": "2016-05-28",
                    "MEDDIG": "2016-06-04",
                    "(No column name)": "2",
                    "Előző 3 összesen": "3"
                },
                {
                    "USERNEV": "polla",
                    "NEV": "Palágyi Polla",
                    "METTOL": "2016-08-14",
                    "MEDDIG": "2016-08-17",
                    "(No column name)": "2",
                    "Előző 3 összesen": "5"
                },
                {
                    "USERNEV": "polla",
                    "NEV": "Palágyi Polla",
                    "METTOL": "2016-08-16",
                    "MEDDIG": "2016-08-19",
                    "(No column name)": "4",
                    "Előző 3 összesen": "7"
                },
                {
                    "USERNEV": "polla",
                    "NEV": "Palágyi Polla",
                    "METTOL": "2017-01-29",
                    "MEDDIG": "2017-02-01",
                    "(No column name)": "2",
                    "Előző 3 összesen": "8"
                },
                {
                    "USERNEV": "polla",
                    "NEV": "Palágyi Polla",
                    "METTOL": "2017-02-11",
                    "MEDDIG": "2017-02-16",
                    "(No column name)": "2",
                    "Előző 3 összesen": "8"
                },
                {
                    "USERNEV": "rajmond4",
                    "NEV": "Rácz Rajmond",
                    "METTOL": "2016-09-05",
                    "MEDDIG": "2016-09-07",
                    "(No column name)": "3",
                    "Előző 3 összesen": "NULL"
                },
                {
                    "USERNEV": "rajmond4",
                    "NEV": "Rácz Rajmond",
                    "METTOL": "2016-10-03",
                    "MEDDIG": "2016-10-04",
                    "(No column name)": "3",
                    "Előző 3 összesen": "3"
                },
                {
                    "USERNEV": "rajmond4",
                    "NEV": "Rácz Rajmond",
                    "METTOL": "2016-11-08",
                    "MEDDIG": "2016-11-09",
                    "(No column name)": "4",
                    "Előző 3 összesen": "6"
                },
                {
                    "USERNEV": "rajmond4",
                    "NEV": "Rácz Rajmond",
                    "METTOL": "2016-11-16",
                    "MEDDIG": "2016-11-20",
                    "(No column name)": "2",
                    "Előző 3 összesen": "10"
                },
                {
                    "USERNEV": "reka4",
                    "NEV": "Szikszai Réka",
                    "METTOL": "2016-07-27",
                    "MEDDIG": "2016-07-31",
                    "(No column name)": "2",
                    "Előző 3 összesen": "NULL"
                },
                {
                    "USERNEV": "reka4",
                    "NEV": "Szikszai Réka",
                    "METTOL": "2016-08-02",
                    "MEDDIG": "2016-08-04",
                    "(No column name)": "4",
                    "Előző 3 összesen": "2"
                },
                {
                    "USERNEV": "reka4",
                    "NEV": "Szikszai Réka",
                    "METTOL": "2016-09-05",
                    "MEDDIG": "2016-09-07",
                    "(No column name)": "3",
                    "Előző 3 összesen": "6"
                },
                {
                    "USERNEV": "reka4",
                    "NEV": "Szikszai Réka",
                    "METTOL": "2016-09-30",
                    "MEDDIG": "2016-10-06",
                    "(No column name)": "2",
                    "Előző 3 összesen": "9"
                },
                {
                    "USERNEV": "reka4",
                    "NEV": "Szikszai Réka",
                    "METTOL": "2017-02-26",
                    "MEDDIG": "2017-03-04",
                    "(No column name)": "2",
                    "Előző 3 összesen": "9"
                },
                {
                    "USERNEV": "RENATAK",
                    "NEV": "Kardos Renáta",
                    "METTOL": "2016-10-27",
                    "MEDDIG": "2016-10-29",
                    "(No column name)": "4",
                    "Előző 3 összesen": "NULL"
                },
                {
                    "USERNEV": "RENATAK",
                    "NEV": "Kardos Renáta",
                    "METTOL": "2016-10-30",
                    "MEDDIG": "2016-10-31",
                    "(No column name)": "1",
                    "Előző 3 összesen": "4"
                },
                {
                    "USERNEV": "RENATAK",
                    "NEV": "Kardos Renáta",
                    "METTOL": "2016-11-23",
                    "MEDDIG": "2016-11-26",
                    "(No column name)": "1",
                    "Előző 3 összesen": "5"
                },
                {
                    "USERNEV": "RENATAK",
                    "NEV": "Kardos Renáta",
                    "METTOL": "2017-01-23",
                    "MEDDIG": "2017-01-24",
                    "(No column name)": "3",
                    "Előző 3 összesen": "6"
                },
                {
                    "USERNEV": "RENATAK",
                    "NEV": "Kardos Renáta",
                    "METTOL": "2017-02-16",
                    "MEDDIG": "2017-02-23",
                    "(No column name)": "1",
                    "Előző 3 összesen": "5"
                },
                {
                    "USERNEV": "RENATAK",
                    "NEV": "Kardos Renáta",
                    "METTOL": "2017-03-01",
                    "MEDDIG": "2017-03-06",
                    "(No column name)": "1",
                    "Előző 3 összesen": "5"
                },
                {
                    "USERNEV": "RENATAS",
                    "NEV": "Szirmai Renáta",
                    "METTOL": "2016-05-04",
                    "MEDDIG": "2016-05-11",
                    "(No column name)": "2",
                    "Előző 3 összesen": "NULL"
                },
                {
                    "USERNEV": "RENATAS",
                    "NEV": "Szirmai Renáta",
                    "METTOL": "2016-05-11",
                    "MEDDIG": "2016-05-16",
                    "(No column name)": "2",
                    "Előző 3 összesen": "2"
                },
                {
                    "USERNEV": "RENATAS",
                    "NEV": "Szirmai Renáta",
                    "METTOL": "2016-06-24",
                    "MEDDIG": "2016-06-30",
                    "(No column name)": "5",
                    "Előző 3 összesen": "4"
                },
                {
                    "USERNEV": "RENATAS",
                    "NEV": "Szirmai Renáta",
                    "METTOL": "2017-02-13",
                    "MEDDIG": "2017-02-17",
                    "(No column name)": "1",
                    "Előző 3 összesen": "9"
                },
                {
                    "USERNEV": "RENATAS",
                    "NEV": "Szirmai Renáta",
                    "METTOL": "2017-02-14",
                    "MEDDIG": "2017-02-17",
                    "(No column name)": "2",
                    "Előző 3 összesen": "8"
                },
                {
                    "USERNEV": "robert2",
                    "NEV": "Patay Róbert",
                    "METTOL": "2016-05-15",
                    "MEDDIG": "2016-05-18",
                    "(No column name)": "2",
                    "Előző 3 összesen": "NULL"
                },
                {
                    "USERNEV": "robert2",
                    "NEV": "Patay Róbert",
                    "METTOL": "2016-08-20",
                    "MEDDIG": "2016-08-27",
                    "(No column name)": "2",
                    "Előző 3 összesen": "2"
                },
                {
                    "USERNEV": "robert2",
                    "NEV": "Patay Róbert",
                    "METTOL": "2016-10-23",
                    "MEDDIG": "2016-10-28",
                    "(No column name)": "3",
                    "Előző 3 összesen": "4"
                },
                {
                    "USERNEV": "robert2",
                    "NEV": "Patay Róbert",
                    "METTOL": "2016-12-17",
                    "MEDDIG": "2016-12-22",
                    "(No column name)": "1",
                    "Előző 3 összesen": "7"
                },
                {
                    "USERNEV": "ROBERTI",
                    "NEV": "Iván Róbert",
                    "METTOL": "2016-07-12",
                    "MEDDIG": "2016-07-19",
                    "(No column name)": "4",
                    "Előző 3 összesen": "NULL"
                },
                {
                    "USERNEV": "ROBERTI",
                    "NEV": "Iván Róbert",
                    "METTOL": "2016-08-16",
                    "MEDDIG": "2016-08-21",
                    "(No column name)": "2",
                    "Előző 3 összesen": "4"
                },
                {
                    "USERNEV": "ROBERTI",
                    "NEV": "Iván Róbert",
                    "METTOL": "2016-08-23",
                    "MEDDIG": "2016-08-25",
                    "(No column name)": "2",
                    "Előző 3 összesen": "6"
                },
                {
                    "USERNEV": "ROBERTI",
                    "NEV": "Iván Róbert",
                    "METTOL": "2016-10-08",
                    "MEDDIG": "2016-10-12",
                    "(No column name)": "3",
                    "Előző 3 összesen": "8"
                },
                {
                    "USERNEV": "ROBERTI",
                    "NEV": "Iván Róbert",
                    "METTOL": "2016-10-09",
                    "MEDDIG": "2016-10-10",
                    "(No column name)": "2",
                    "Előző 3 összesen": "7"
                },
                {
                    "USERNEV": "ROBERTI",
                    "NEV": "Iván Róbert",
                    "METTOL": "2016-10-23",
                    "MEDDIG": "2016-10-29",
                    "(No column name)": "1",
                    "Előző 3 összesen": "7"
                },
                {
                    "USERNEV": "ROBERTI",
                    "NEV": "Iván Róbert",
                    "METTOL": "2016-10-26",
                    "MEDDIG": "2016-11-01",
                    "(No column name)": "2",
                    "Előző 3 összesen": "6"
                },
                {
                    "USERNEV": "ROBERTI",
                    "NEV": "Iván Róbert",
                    "METTOL": "2017-02-17",
                    "MEDDIG": "2017-02-20",
                    "(No column name)": "2",
                    "Előző 3 összesen": "5"
                },
                {
                    "USERNEV": "ROBERTP",
                    "NEV": "Pásztor Róbert",
                    "METTOL": "2016-07-30",
                    "MEDDIG": "2016-08-05",
                    "(No column name)": "2",
                    "Előző 3 összesen": "NULL"
                },
                {
                    "USERNEV": "ROBERTP",
                    "NEV": "Pásztor Róbert",
                    "METTOL": "2016-09-08",
                    "MEDDIG": "2016-09-11",
                    "(No column name)": "4",
                    "Előző 3 összesen": "2"
                },
                {
                    "USERNEV": "roland",
                    "NEV": "Tóth Roland",
                    "METTOL": "2016-06-09",
                    "MEDDIG": "2016-06-13",
                    "(No column name)": "3",
                    "Előző 3 összesen": "NULL"
                },
                {
                    "USERNEV": "roland",
                    "NEV": "Tóth Roland",
                    "METTOL": "2016-06-22",
                    "MEDDIG": "2016-06-23",
                    "(No column name)": "3",
                    "Előző 3 összesen": "3"
                },
                {
                    "USERNEV": "roland",
                    "NEV": "Tóth Roland",
                    "METTOL": "2016-09-04",
                    "MEDDIG": "2016-09-05",
                    "(No column name)": "2",
                    "Előző 3 összesen": "6"
                },
                {
                    "USERNEV": "roland",
                    "NEV": "Tóth Roland",
                    "METTOL": "2016-11-19",
                    "MEDDIG": "2016-11-24",
                    "(No column name)": "2",
                    "Előző 3 összesen": "8"
                },
                {
                    "USERNEV": "roland1",
                    "NEV": "Ferencz Roland",
                    "METTOL": "2016-11-05",
                    "MEDDIG": "2016-11-07",
                    "(No column name)": "3",
                    "Előző 3 összesen": "NULL"
                },
                {
                    "USERNEV": "roland1",
                    "NEV": "Ferencz Roland",
                    "METTOL": "2016-12-22",
                    "MEDDIG": "2016-12-29",
                    "(No column name)": "1",
                    "Előző 3 összesen": "3"
                },
                {
                    "USERNEV": "roland1",
                    "NEV": "Ferencz Roland",
                    "METTOL": "2017-01-04",
                    "MEDDIG": "2017-01-08",
                    "(No column name)": "3",
                    "Előző 3 összesen": "4"
                },
                {
                    "USERNEV": "roland1",
                    "NEV": "Ferencz Roland",
                    "METTOL": "2017-01-16",
                    "MEDDIG": "2017-01-22",
                    "(No column name)": "2",
                    "Előző 3 összesen": "7"
                },
                {
                    "USERNEV": "roza2",
                    "NEV": "Bucskó Róza",
                    "METTOL": "2016-09-10",
                    "MEDDIG": "2016-09-13",
                    "(No column name)": "2",
                    "Előző 3 összesen": "NULL"
                },
                {
                    "USERNEV": "roza2",
                    "NEV": "Bucskó Róza",
                    "METTOL": "2017-01-11",
                    "MEDDIG": "2017-01-17",
                    "(No column name)": "3",
                    "Előző 3 összesen": "2"
                },
                {
                    "USERNEV": "roza2",
                    "NEV": "Bucskó Róza",
                    "METTOL": "2017-02-18",
                    "MEDDIG": "2017-02-21",
                    "(No column name)": "3",
                    "Előző 3 összesen": "5"
                },
                {
                    "USERNEV": "sandor",
                    "NEV": "Karasz Sándor",
                    "METTOL": "2016-07-04",
                    "MEDDIG": "2016-07-06",
                    "(No column name)": "2",
                    "Előző 3 összesen": "NULL"
                },
                {
                    "USERNEV": "sandor",
                    "NEV": "Karasz Sándor",
                    "METTOL": "2016-07-18",
                    "MEDDIG": "2016-07-24",
                    "(No column name)": "2",
                    "Előző 3 összesen": "2"
                },
                {
                    "USERNEV": "sandor",
                    "NEV": "Karasz Sándor",
                    "METTOL": "2016-08-20",
                    "MEDDIG": "2016-08-25",
                    "(No column name)": "2",
                    "Előző 3 összesen": "4"
                },
                {
                    "USERNEV": "sandor",
                    "NEV": "Karasz Sándor",
                    "METTOL": "2016-09-19",
                    "MEDDIG": "2016-09-26",
                    "(No column name)": "4",
                    "Előző 3 összesen": "6"
                },
                {
                    "USERNEV": "sandor3",
                    "NEV": "Farkas Sándor",
                    "METTOL": "2016-05-12",
                    "MEDDIG": "2016-05-15",
                    "(No column name)": "2",
                    "Előző 3 összesen": "NULL"
                },
                {
                    "USERNEV": "sandor3",
                    "NEV": "Farkas Sándor",
                    "METTOL": "2016-05-25",
                    "MEDDIG": "2016-05-30",
                    "(No column name)": "1",
                    "Előző 3 összesen": "2"
                },
                {
                    "USERNEV": "sandor3",
                    "NEV": "Farkas Sándor",
                    "METTOL": "2016-10-09",
                    "MEDDIG": "2016-10-14",
                    "(No column name)": "2",
                    "Előző 3 összesen": "3"
                },
                {
                    "USERNEV": "sandor3",
                    "NEV": "Farkas Sándor",
                    "METTOL": "2016-10-23",
                    "MEDDIG": "2016-10-29",
                    "(No column name)": "3",
                    "Előző 3 összesen": "5"
                },
                {
                    "USERNEV": "sandor3",
                    "NEV": "Farkas Sándor",
                    "METTOL": "2016-11-10",
                    "MEDDIG": "2016-11-11",
                    "(No column name)": "2",
                    "Előző 3 összesen": "6"
                },
                {
                    "USERNEV": "sandor4",
                    "NEV": "Nagy Sándor",
                    "METTOL": "2016-10-15",
                    "MEDDIG": "2016-10-18",
                    "(No column name)": "1",
                    "Előző 3 összesen": "NULL"
                },
                {
                    "USERNEV": "sandor4",
                    "NEV": "Nagy Sándor",
                    "METTOL": "2016-11-29",
                    "MEDDIG": "2016-12-03",
                    "(No column name)": "2",
                    "Előző 3 összesen": "1"
                },
                {
                    "USERNEV": "sandor4",
                    "NEV": "Nagy Sándor",
                    "METTOL": "2016-12-03",
                    "MEDDIG": "2016-12-09",
                    "(No column name)": "1",
                    "Előző 3 összesen": "3"
                },
                {
                    "USERNEV": "sandor4",
                    "NEV": "Nagy Sándor",
                    "METTOL": "2017-01-22",
                    "MEDDIG": "2017-01-26",
                    "(No column name)": "2",
                    "Előző 3 összesen": "4"
                },
                {
                    "USERNEV": "sara",
                    "NEV": "Farkas Sára",
                    "METTOL": "2016-05-28",
                    "MEDDIG": "2016-05-30",
                    "(No column name)": "2",
                    "Előző 3 összesen": "NULL"
                },
                {
                    "USERNEV": "sara",
                    "NEV": "Farkas Sára",
                    "METTOL": "2016-05-30",
                    "MEDDIG": "2016-05-31",
                    "(No column name)": "2",
                    "Előző 3 összesen": "2"
                },
                {
                    "USERNEV": "sara",
                    "NEV": "Farkas Sára",
                    "METTOL": "2016-06-06",
                    "MEDDIG": "2016-06-08",
                    "(No column name)": "2",
                    "Előző 3 összesen": "4"
                },
                {
                    "USERNEV": "sara",
                    "NEV": "Farkas Sára",
                    "METTOL": "2016-07-15",
                    "MEDDIG": "2016-07-17",
                    "(No column name)": "3",
                    "Előző 3 összesen": "6"
                },
                {
                    "USERNEV": "sara",
                    "NEV": "Farkas Sára",
                    "METTOL": "2016-07-24",
                    "MEDDIG": "2016-07-27",
                    "(No column name)": "3",
                    "Előző 3 összesen": "7"
                },
                {
                    "USERNEV": "sara",
                    "NEV": "Farkas Sára",
                    "METTOL": "2016-10-06",
                    "MEDDIG": "2016-10-12",
                    "(No column name)": "3",
                    "Előző 3 összesen": "8"
                },
                {
                    "USERNEV": "sara",
                    "NEV": "Farkas Sára",
                    "METTOL": "2016-10-11",
                    "MEDDIG": "2016-10-14",
                    "(No column name)": "3",
                    "Előző 3 összesen": "9"
                },
                {
                    "USERNEV": "sara",
                    "NEV": "Farkas Sára",
                    "METTOL": "2016-10-28",
                    "MEDDIG": "2016-11-03",
                    "(No column name)": "2",
                    "Előző 3 összesen": "9"
                },
                {
                    "USERNEV": "sara",
                    "NEV": "Farkas Sára",
                    "METTOL": "2016-11-18",
                    "MEDDIG": "2016-11-21",
                    "(No column name)": "3",
                    "Előző 3 összesen": "8"
                },
                {
                    "USERNEV": "sara",
                    "NEV": "Farkas Sára",
                    "METTOL": "2016-11-23",
                    "MEDDIG": "2016-11-30",
                    "(No column name)": "4",
                    "Előző 3 összesen": "8"
                },
                {
                    "USERNEV": "sara",
                    "NEV": "Farkas Sára",
                    "METTOL": "2016-12-06",
                    "MEDDIG": "2016-12-10",
                    "(No column name)": "1",
                    "Előző 3 összesen": "9"
                },
                {
                    "USERNEV": "sara",
                    "NEV": "Farkas Sára",
                    "METTOL": "2016-12-25",
                    "MEDDIG": "2016-12-30",
                    "(No column name)": "2",
                    "Előző 3 összesen": "8"
                },
                {
                    "USERNEV": "SEBASTIANF",
                    "NEV": "Foltényi Sebastián",
                    "METTOL": "2016-04-06",
                    "MEDDIG": "2016-04-12",
                    "(No column name)": "2",
                    "Előző 3 összesen": "NULL"
                },
                {
                    "USERNEV": "SEBASTIANF",
                    "NEV": "Foltényi Sebastián",
                    "METTOL": "2016-07-17",
                    "MEDDIG": "2016-07-21",
                    "(No column name)": "2",
                    "Előző 3 összesen": "2"
                },
                {
                    "USERNEV": "SEBASTIANF",
                    "NEV": "Foltényi Sebastián",
                    "METTOL": "2016-07-30",
                    "MEDDIG": "2016-08-06",
                    "(No column name)": "4",
                    "Előző 3 összesen": "4"
                },
                {
                    "USERNEV": "SEBASTIANF",
                    "NEV": "Foltényi Sebastián",
                    "METTOL": "2016-09-14",
                    "MEDDIG": "2016-09-15",
                    "(No column name)": "3",
                    "Előző 3 összesen": "8"
                },
                {
                    "USERNEV": "SEBASTIANF",
                    "NEV": "Foltényi Sebastián",
                    "METTOL": "2016-09-17",
                    "MEDDIG": "2016-09-20",
                    "(No column name)": "3",
                    "Előző 3 összesen": "9"
                },
                {
                    "USERNEV": "sebestyen",
                    "NEV": "Rab Sebestyén",
                    "METTOL": "2016-04-07",
                    "MEDDIG": "2016-04-12",
                    "(No column name)": "4",
                    "Előző 3 összesen": "NULL"
                },
                {
                    "USERNEV": "sebestyen",
                    "NEV": "Rab Sebestyén",
                    "METTOL": "2016-04-26",
                    "MEDDIG": "2016-05-02",
                    "(No column name)": "4",
                    "Előző 3 összesen": "4"
                },
                {
                    "USERNEV": "sebestyen",
                    "NEV": "Rab Sebestyén",
                    "METTOL": "2016-06-09",
                    "MEDDIG": "2016-06-14",
                    "(No column name)": "4",
                    "Előző 3 összesen": "8"
                },
                {
                    "USERNEV": "sebestyen",
                    "NEV": "Rab Sebestyén",
                    "METTOL": "2016-10-26",
                    "MEDDIG": "2016-11-01",
                    "(No column name)": "5",
                    "Előző 3 összesen": "12"
                },
                {
                    "USERNEV": "szabolcs",
                    "NEV": "Bodor Szabolcs",
                    "METTOL": "2016-12-05",
                    "MEDDIG": "2016-12-07",
                    "(No column name)": "2",
                    "Előző 3 összesen": "NULL"
                },
                {
                    "USERNEV": "SZABOLCSM",
                    "NEV": "Miklós Szabolcs",
                    "METTOL": "2016-06-18",
                    "MEDDIG": "2016-06-21",
                    "(No column name)": "3",
                    "Előző 3 összesen": "NULL"
                },
                {
                    "USERNEV": "SZABOLCSM",
                    "NEV": "Miklós Szabolcs",
                    "METTOL": "2016-07-28",
                    "MEDDIG": "2016-08-03",
                    "(No column name)": "2",
                    "Előző 3 összesen": "3"
                },
                {
                    "USERNEV": "SZABOLCSM",
                    "NEV": "Miklós Szabolcs",
                    "METTOL": "2016-10-17",
                    "MEDDIG": "2016-10-19",
                    "(No column name)": "2",
                    "Előző 3 összesen": "5"
                },
                {
                    "USERNEV": "SZABOLCSM",
                    "NEV": "Miklós Szabolcs",
                    "METTOL": "2016-10-28",
                    "MEDDIG": "2016-11-03",
                    "(No column name)": "3",
                    "Előző 3 összesen": "7"
                },
                {
                    "USERNEV": "SZABOLCSM",
                    "NEV": "Miklós Szabolcs",
                    "METTOL": "2016-11-12",
                    "MEDDIG": "2016-11-13",
                    "(No column name)": "2",
                    "Előző 3 összesen": "7"
                },
                {
                    "USERNEV": "SZABOLCSM",
                    "NEV": "Miklós Szabolcs",
                    "METTOL": "2017-01-07",
                    "MEDDIG": "2017-01-08",
                    "(No column name)": "2",
                    "Előző 3 összesen": "7"
                },
                {
                    "USERNEV": "SZABOLCSM",
                    "NEV": "Miklós Szabolcs",
                    "METTOL": "2017-02-04",
                    "MEDDIG": "2017-02-05",
                    "(No column name)": "3",
                    "Előző 3 összesen": "7"
                },
                {
                    "USERNEV": "SZILARDS",
                    "NEV": "Szalai Szilárd",
                    "METTOL": "2016-04-23",
                    "MEDDIG": "2016-04-30",
                    "(No column name)": "3",
                    "Előző 3 összesen": "NULL"
                },
                {
                    "USERNEV": "SZILARDS",
                    "NEV": "Szalai Szilárd",
                    "METTOL": "2016-07-27",
                    "MEDDIG": "2016-08-03",
                    "(No column name)": "5",
                    "Előző 3 összesen": "3"
                },
                {
                    "USERNEV": "SZILARDS",
                    "NEV": "Szalai Szilárd",
                    "METTOL": "2016-08-28",
                    "MEDDIG": "2016-08-29",
                    "(No column name)": "4",
                    "Előző 3 összesen": "8"
                },
                {
                    "USERNEV": "SZILARDS",
                    "NEV": "Szalai Szilárd",
                    "METTOL": "2016-09-20",
                    "MEDDIG": "2016-09-24",
                    "(No column name)": "3",
                    "Előző 3 összesen": "12"
                },
                {
                    "USERNEV": "SZILARDS",
                    "NEV": "Szalai Szilárd",
                    "METTOL": "2016-10-01",
                    "MEDDIG": "2016-10-08",
                    "(No column name)": "3",
                    "Előző 3 összesen": "12"
                },
                {
                    "USERNEV": "SZILARDS",
                    "NEV": "Szalai Szilárd",
                    "METTOL": "2017-01-16",
                    "MEDDIG": "2017-01-19",
                    "(No column name)": "3",
                    "Előző 3 összesen": "10"
                },
                {
                    "USERNEV": "SZILARDS",
                    "NEV": "Szalai Szilárd",
                    "METTOL": "2017-02-08",
                    "MEDDIG": "2017-02-15",
                    "(No column name)": "1",
                    "Előző 3 összesen": "9"
                },
                {
                    "USERNEV": "szilvia1",
                    "NEV": "Tari Szilvia",
                    "METTOL": "2016-05-14",
                    "MEDDIG": "2016-05-21",
                    "(No column name)": "2",
                    "Előző 3 összesen": "NULL"
                },
                {
                    "USERNEV": "szilvia1",
                    "NEV": "Tari Szilvia",
                    "METTOL": "2016-05-28",
                    "MEDDIG": "2016-06-03",
                    "(No column name)": "2",
                    "Előző 3 összesen": "2"
                },
                {
                    "USERNEV": "szilvia1",
                    "NEV": "Tari Szilvia",
                    "METTOL": "2016-07-25",
                    "MEDDIG": "2016-07-28",
                    "(No column name)": "2",
                    "Előző 3 összesen": "4"
                },
                {
                    "USERNEV": "szilvia1",
                    "NEV": "Tari Szilvia",
                    "METTOL": "2016-10-09",
                    "MEDDIG": "2016-10-10",
                    "(No column name)": "3",
                    "Előző 3 összesen": "6"
                },
                {
                    "USERNEV": "szilvia1",
                    "NEV": "Tari Szilvia",
                    "METTOL": "2016-10-25",
                    "MEDDIG": "2016-10-31",
                    "(No column name)": "3",
                    "Előző 3 összesen": "7"
                },
                {
                    "USERNEV": "szilvia1",
                    "NEV": "Tari Szilvia",
                    "METTOL": "2016-10-27",
                    "MEDDIG": "2016-10-28",
                    "(No column name)": "2",
                    "Előző 3 összesen": "8"
                },
                {
                    "USERNEV": "szilvia1",
                    "NEV": "Tari Szilvia",
                    "METTOL": "2016-12-25",
                    "MEDDIG": "2016-12-29",
                    "(No column name)": "5",
                    "Előző 3 összesen": "8"
                },
                {
                    "USERNEV": "szilvia1",
                    "NEV": "Tari Szilvia",
                    "METTOL": "2016-12-27",
                    "MEDDIG": "2017-01-02",
                    "(No column name)": "2",
                    "Előző 3 összesen": "10"
                },
                {
                    "USERNEV": "szilvia1",
                    "NEV": "Tari Szilvia",
                    "METTOL": "2017-01-28",
                    "MEDDIG": "2017-02-03",
                    "(No column name)": "2",
                    "Előző 3 összesen": "9"
                },
                {
                    "USERNEV": "tamara2",
                    "NEV": "Miklós Tamara",
                    "METTOL": "2016-08-12",
                    "MEDDIG": "2016-08-15",
                    "(No column name)": "3",
                    "Előző 3 összesen": "NULL"
                },
                {
                    "USERNEV": "tamara2",
                    "NEV": "Miklós Tamara",
                    "METTOL": "2016-11-15",
                    "MEDDIG": "2016-11-18",
                    "(No column name)": "2",
                    "Előző 3 összesen": "3"
                },
                {
                    "USERNEV": "tamas",
                    "NEV": "Antal Tamás",
                    "METTOL": "2016-05-17",
                    "MEDDIG": "2016-05-22",
                    "(No column name)": "2",
                    "Előző 3 összesen": "NULL"
                },
                {
                    "USERNEV": "tamas",
                    "NEV": "Antal Tamás",
                    "METTOL": "2016-06-14",
                    "MEDDIG": "2016-06-21",
                    "(No column name)": "2",
                    "Előző 3 összesen": "2"
                },
                {
                    "USERNEV": "tamas",
                    "NEV": "Antal Tamás",
                    "METTOL": "2016-08-24",
                    "MEDDIG": "2016-08-27",
                    "(No column name)": "3",
                    "Előző 3 összesen": "4"
                },
                {
                    "USERNEV": "tamas",
                    "NEV": "Antal Tamás",
                    "METTOL": "2017-02-14",
                    "MEDDIG": "2017-02-19",
                    "(No column name)": "3",
                    "Előző 3 összesen": "7"
                },
                {
                    "USERNEV": "TAMASF",
                    "NEV": "Fényes Tamás",
                    "METTOL": "2016-05-03",
                    "MEDDIG": "2016-05-04",
                    "(No column name)": "2",
                    "Előző 3 összesen": "NULL"
                },
                {
                    "USERNEV": "TAMASF",
                    "NEV": "Fényes Tamás",
                    "METTOL": "2016-06-10",
                    "MEDDIG": "2016-06-13",
                    "(No column name)": "3",
                    "Előző 3 összesen": "2"
                },
                {
                    "USERNEV": "TAMASF",
                    "NEV": "Fényes Tamás",
                    "METTOL": "2016-06-28",
                    "MEDDIG": "2016-07-05",
                    "(No column name)": "3",
                    "Előző 3 összesen": "5"
                },
                {
                    "USERNEV": "TAMASF",
                    "NEV": "Fényes Tamás",
                    "METTOL": "2016-07-04",
                    "MEDDIG": "2016-07-10",
                    "(No column name)": "2",
                    "Előző 3 összesen": "8"
                },
                {
                    "USERNEV": "TAMASF",
                    "NEV": "Fényes Tamás",
                    "METTOL": "2016-09-12",
                    "MEDDIG": "2016-09-18",
                    "(No column name)": "3",
                    "Előző 3 összesen": "8"
                },
                {
                    "USERNEV": "TAMASF",
                    "NEV": "Fényes Tamás",
                    "METTOL": "2016-12-02",
                    "MEDDIG": "2016-12-04",
                    "(No column name)": "1",
                    "Előző 3 összesen": "8"
                },
                {
                    "USERNEV": "TAMASF",
                    "NEV": "Fényes Tamás",
                    "METTOL": "2016-12-10",
                    "MEDDIG": "2016-12-14",
                    "(No column name)": "3",
                    "Előző 3 összesen": "6"
                },
                {
                    "USERNEV": "TAMASF",
                    "NEV": "Fényes Tamás",
                    "METTOL": "2017-02-12",
                    "MEDDIG": "2017-02-17",
                    "(No column name)": "2",
                    "Előző 3 összesen": "7"
                },
                {
                    "USERNEV": "TAMASF",
                    "NEV": "Fényes Tamás",
                    "METTOL": "2017-02-16",
                    "MEDDIG": "2017-02-19",
                    "(No column name)": "4",
                    "Előző 3 összesen": "6"
                },
                {
                    "USERNEV": "tibor",
                    "NEV": "Gombos Tibor",
                    "METTOL": "2016-10-09",
                    "MEDDIG": "2016-10-13",
                    "(No column name)": "2",
                    "Előző 3 összesen": "NULL"
                },
                {
                    "USERNEV": "tibor",
                    "NEV": "Gombos Tibor",
                    "METTOL": "2016-11-05",
                    "MEDDIG": "2016-11-09",
                    "(No column name)": "1",
                    "Előző 3 összesen": "2"
                },
                {
                    "USERNEV": "tibor2",
                    "NEV": "Dániel Tibor",
                    "METTOL": "2016-10-20",
                    "MEDDIG": "2016-10-25",
                    "(No column name)": "2",
                    "Előző 3 összesen": "NULL"
                },
                {
                    "USERNEV": "tihamer",
                    "NEV": "Kazy Tihamér",
                    "METTOL": "2016-05-30",
                    "MEDDIG": "2016-06-05",
                    "(No column name)": "1",
                    "Előző 3 összesen": "NULL"
                },
                {
                    "USERNEV": "tihamer",
                    "NEV": "Kazy Tihamér",
                    "METTOL": "2016-06-03",
                    "MEDDIG": "2016-06-08",
                    "(No column name)": "5",
                    "Előző 3 összesen": "1"
                },
                {
                    "USERNEV": "tihamer",
                    "NEV": "Kazy Tihamér",
                    "METTOL": "2016-07-20",
                    "MEDDIG": "2016-07-24",
                    "(No column name)": "3",
                    "Előző 3 összesen": "6"
                },
                {
                    "USERNEV": "tihamer",
                    "NEV": "Kazy Tihamér",
                    "METTOL": "2016-08-18",
                    "MEDDIG": "2016-08-22",
                    "(No column name)": "3",
                    "Előző 3 összesen": "9"
                },
                {
                    "USERNEV": "tihamer",
                    "NEV": "Kazy Tihamér",
                    "METTOL": "2016-10-19",
                    "MEDDIG": "2016-10-23",
                    "(No column name)": "2",
                    "Előző 3 összesen": "11"
                },
                {
                    "USERNEV": "tihamer",
                    "NEV": "Kazy Tihamér",
                    "METTOL": "2016-12-25",
                    "MEDDIG": "2016-12-26",
                    "(No column name)": "2",
                    "Előző 3 összesen": "8"
                },
                {
                    "USERNEV": "timea",
                    "NEV": "Papós Tímea",
                    "METTOL": "2016-12-26",
                    "MEDDIG": "2016-12-27",
                    "(No column name)": "2",
                    "Előző 3 összesen": "NULL"
                },
                {
                    "USERNEV": "timea2",
                    "NEV": "Dusha Tímea",
                    "METTOL": "2016-06-06",
                    "MEDDIG": "2016-06-07",
                    "(No column name)": "2",
                    "Előző 3 összesen": "NULL"
                },
                {
                    "USERNEV": "timea2",
                    "NEV": "Dusha Tímea",
                    "METTOL": "2016-08-07",
                    "MEDDIG": "2016-08-10",
                    "(No column name)": "3",
                    "Előző 3 összesen": "2"
                },
                {
                    "USERNEV": "timea2",
                    "NEV": "Dusha Tímea",
                    "METTOL": "2016-10-26",
                    "MEDDIG": "2016-10-29",
                    "(No column name)": "3",
                    "Előző 3 összesen": "5"
                },
                {
                    "USERNEV": "timea2",
                    "NEV": "Dusha Tímea",
                    "METTOL": "2016-11-27",
                    "MEDDIG": "2016-12-01",
                    "(No column name)": "4",
                    "Előző 3 összesen": "8"
                },
                {
                    "USERNEV": "timea2",
                    "NEV": "Dusha Tímea",
                    "METTOL": "2016-12-14",
                    "MEDDIG": "2016-12-16",
                    "(No column name)": "4",
                    "Előző 3 összesen": "10"
                },
                {
                    "USERNEV": "tunde",
                    "NEV": "Turcsik Tünde",
                    "METTOL": "2016-06-03",
                    "MEDDIG": "2016-06-07",
                    "(No column name)": "3",
                    "Előző 3 összesen": "NULL"
                },
                {
                    "USERNEV": "tunde",
                    "NEV": "Turcsik Tünde",
                    "METTOL": "2016-06-06",
                    "MEDDIG": "2016-06-12",
                    "(No column name)": "3",
                    "Előző 3 összesen": "3"
                },
                {
                    "USERNEV": "tunde",
                    "NEV": "Turcsik Tünde",
                    "METTOL": "2016-07-14",
                    "MEDDIG": "2016-07-21",
                    "(No column name)": "1",
                    "Előző 3 összesen": "6"
                },
                {
                    "USERNEV": "tunde",
                    "NEV": "Turcsik Tünde",
                    "METTOL": "2016-09-05",
                    "MEDDIG": "2016-09-12",
                    "(No column name)": "2",
                    "Előző 3 összesen": "7"
                },
                {
                    "USERNEV": "tunde",
                    "NEV": "Turcsik Tünde",
                    "METTOL": "2016-10-24",
                    "MEDDIG": "2016-10-30",
                    "(No column name)": "3",
                    "Előző 3 összesen": "6"
                },
                {
                    "USERNEV": "tunde",
                    "NEV": "Turcsik Tünde",
                    "METTOL": "2016-11-19",
                    "MEDDIG": "2016-11-20",
                    "(No column name)": "3",
                    "Előző 3 összesen": "6"
                },
                {
                    "USERNEV": "tunde",
                    "NEV": "Turcsik Tünde",
                    "METTOL": "2016-12-15",
                    "MEDDIG": "2016-12-20",
                    "(No column name)": "3",
                    "Előző 3 összesen": "8"
                },
                {
                    "USERNEV": "tunde",
                    "NEV": "Turcsik Tünde",
                    "METTOL": "2017-01-03",
                    "MEDDIG": "2017-01-06",
                    "(No column name)": "5",
                    "Előző 3 összesen": "9"
                },
                {
                    "USERNEV": "valentin",
                    "NEV": "Feró Valentin",
                    "METTOL": "2016-05-24",
                    "MEDDIG": "2016-05-30",
                    "(No column name)": "4",
                    "Előző 3 összesen": "NULL"
                },
                {
                    "USERNEV": "valentin",
                    "NEV": "Feró Valentin",
                    "METTOL": "2016-07-24",
                    "MEDDIG": "2016-07-29",
                    "(No column name)": "1",
                    "Előző 3 összesen": "4"
                },
                {
                    "USERNEV": "valentin",
                    "NEV": "Feró Valentin",
                    "METTOL": "2016-10-26",
                    "MEDDIG": "2016-10-30",
                    "(No column name)": "3",
                    "Előző 3 összesen": "5"
                },
                {
                    "USERNEV": "valentin",
                    "NEV": "Feró Valentin",
                    "METTOL": "2016-11-11",
                    "MEDDIG": "2016-11-17",
                    "(No column name)": "3",
                    "Előző 3 összesen": "8"
                },
                {
                    "USERNEV": "valentin",
                    "NEV": "Feró Valentin",
                    "METTOL": "2016-12-01",
                    "MEDDIG": "2016-12-05",
                    "(No column name)": "3",
                    "Előző 3 összesen": "7"
                },
                {
                    "USERNEV": "veronika4",
                    "NEV": "Tankó Veronika",
                    "METTOL": "2016-05-30",
                    "MEDDIG": "2016-06-04",
                    "(No column name)": "2",
                    "Előző 3 összesen": "NULL"
                },
                {
                    "USERNEV": "veronika4",
                    "NEV": "Tankó Veronika",
                    "METTOL": "2016-07-20",
                    "MEDDIG": "2016-07-26",
                    "(No column name)": "3",
                    "Előző 3 összesen": "2"
                },
                {
                    "USERNEV": "veronika4",
                    "NEV": "Tankó Veronika",
                    "METTOL": "2016-08-16",
                    "MEDDIG": "2016-08-21",
                    "(No column name)": "1",
                    "Előző 3 összesen": "5"
                },
                {
                    "USERNEV": "veronika4",
                    "NEV": "Tankó Veronika",
                    "METTOL": "2016-09-26",
                    "MEDDIG": "2016-10-03",
                    "(No column name)": "2",
                    "Előző 3 összesen": "6"
                },
                {
                    "USERNEV": "veronika4",
                    "NEV": "Tankó Veronika",
                    "METTOL": "2017-01-19",
                    "MEDDIG": "2017-01-24",
                    "(No column name)": "3",
                    "Előző 3 összesen": "6"
                },
                {
                    "USERNEV": "veronika4",
                    "NEV": "Tankó Veronika",
                    "METTOL": "2017-02-03",
                    "MEDDIG": "2017-02-05",
                    "(No column name)": "2",
                    "Előző 3 összesen": "6"
                },
                {
                    "USERNEV": "VIKTORIAU",
                    "NEV": "Urbán Viktoria",
                    "METTOL": "2016-04-30",
                    "MEDDIG": "2016-05-03",
                    "(No column name)": "1",
                    "Előző 3 összesen": "NULL"
                },
                {
                    "USERNEV": "VIKTORIAU",
                    "NEV": "Urbán Viktoria",
                    "METTOL": "2016-08-03",
                    "MEDDIG": "2016-08-04",
                    "(No column name)": "2",
                    "Előző 3 összesen": "1"
                },
                {
                    "USERNEV": "VIKTORIAU",
                    "NEV": "Urbán Viktoria",
                    "METTOL": "2016-10-14",
                    "MEDDIG": "2016-10-15",
                    "(No column name)": "3",
                    "Előző 3 összesen": "3"
                },
                {
                    "USERNEV": "VIKTORIAU",
                    "NEV": "Urbán Viktoria",
                    "METTOL": "2016-10-26",
                    "MEDDIG": "2016-11-02",
                    "(No column name)": "4",
                    "Előző 3 összesen": "6"
                },
                {
                    "USERNEV": "VIKTORK",
                    "NEV": "Keresztúri Viktor",
                    "METTOL": "2016-05-30",
                    "MEDDIG": "2016-06-01",
                    "(No column name)": "2",
                    "Előző 3 összesen": "NULL"
                },
                {
                    "USERNEV": "VIKTORK",
                    "NEV": "Keresztúri Viktor",
                    "METTOL": "2016-06-06",
                    "MEDDIG": "2016-06-07",
                    "(No column name)": "4",
                    "Előző 3 összesen": "2"
                },
                {
                    "USERNEV": "vivien3",
                    "NEV": "Boros Vivien",
                    "METTOL": "2016-05-02",
                    "MEDDIG": "2016-05-05",
                    "(No column name)": "3",
                    "Előző 3 összesen": "NULL"
                },
                {
                    "USERNEV": "vivien3",
                    "NEV": "Boros Vivien",
                    "METTOL": "2016-08-13",
                    "MEDDIG": "2016-08-18",
                    "(No column name)": "2",
                    "Előző 3 összesen": "3"
                },
                {
                    "USERNEV": "vivien3",
                    "NEV": "Boros Vivien",
                    "METTOL": "2016-09-01",
                    "MEDDIG": "2016-09-05",
                    "(No column name)": "2",
                    "Előző 3 összesen": "5"
                },
                {
                    "USERNEV": "vivien3",
                    "NEV": "Boros Vivien",
                    "METTOL": "2016-10-01",
                    "MEDDIG": "2016-10-04",
                    "(No column name)": "1",
                    "Előző 3 összesen": "7"
                },
                {
                    "USERNEV": "vivien3",
                    "NEV": "Boros Vivien",
                    "METTOL": "2016-11-17",
                    "MEDDIG": "2016-11-20",
                    "(No column name)": "2",
                    "Előző 3 összesen": "5"
                },
                {
                    "USERNEV": "vivien3",
                    "NEV": "Boros Vivien",
                    "METTOL": "2016-12-17",
                    "MEDDIG": "2016-12-21",
                    "(No column name)": "2",
                    "Előző 3 összesen": "5"
                },
                {
                    "USERNEV": "vivien3",
                    "NEV": "Boros Vivien",
                    "METTOL": "2016-12-24",
                    "MEDDIG": "2016-12-26",
                    "(No column name)": "3",
                    "Előző 3 összesen": "5"
                },
                {
                    "USERNEV": "zoltan",
                    "NEV": "Fodor Zoltán",
                    "METTOL": "2016-08-24",
                    "MEDDIG": "2016-08-31",
                    "(No column name)": "2",
                    "Előző 3 összesen": "NULL"
                },
                {
                    "USERNEV": "zoltan",
                    "NEV": "Fodor Zoltán",
                    "METTOL": "2016-09-05",
                    "MEDDIG": "2016-09-09",
                    "(No column name)": "3",
                    "Előző 3 összesen": "2"
                },
                {
                    "USERNEV": "zoltan4",
                    "NEV": "Barna Zoltán",
                    "METTOL": "2016-05-12",
                    "MEDDIG": "2016-05-16",
                    "(No column name)": "3",
                    "Előző 3 összesen": "NULL"
                },
                {
                    "USERNEV": "zoltan4",
                    "NEV": "Barna Zoltán",
                    "METTOL": "2016-05-13",
                    "MEDDIG": "2016-05-16",
                    "(No column name)": "3",
                    "Előző 3 összesen": "3"
                },
                {
                    "USERNEV": "zoltan4",
                    "NEV": "Barna Zoltán",
                    "METTOL": "2016-06-03",
                    "MEDDIG": "2016-06-06",
                    "(No column name)": "1",
                    "Előző 3 összesen": "6"
                },
                {
                    "USERNEV": "zoltan4",
                    "NEV": "Barna Zoltán",
                    "METTOL": "2016-08-15",
                    "MEDDIG": "2016-08-21",
                    "(No column name)": "1",
                    "Előző 3 összesen": "7"
                },
                {
                    "USERNEV": "zoltan4",
                    "NEV": "Barna Zoltán",
                    "METTOL": "2016-08-16",
                    "MEDDIG": "2016-08-23",
                    "(No column name)": "2",
                    "Előző 3 összesen": "5"
                },
                {
                    "USERNEV": "zoltan4",
                    "NEV": "Barna Zoltán",
                    "METTOL": "2016-09-30",
                    "MEDDIG": "2016-10-07",
                    "(No column name)": "3",
                    "Előző 3 összesen": "4"
                },
                {
                    "USERNEV": "zoltan4",
                    "NEV": "Barna Zoltán",
                    "METTOL": "2016-10-21",
                    "MEDDIG": "2016-10-24",
                    "(No column name)": "5",
                    "Előző 3 összesen": "6"
                },
                {
                    "USERNEV": "zoltan4",
                    "NEV": "Barna Zoltán",
                    "METTOL": "2016-10-26",
                    "MEDDIG": "2016-10-30",
                    "(No column name)": "2",
                    "Előző 3 összesen": "10"
                },
                {
                    "USERNEV": "zoltan4",
                    "NEV": "Barna Zoltán",
                    "METTOL": "2016-10-30",
                    "MEDDIG": "2016-11-06",
                    "(No column name)": "1",
                    "Előző 3 összesen": "10"
                },
                {
                    "USERNEV": "zoltan4",
                    "NEV": "Barna Zoltán",
                    "METTOL": "2016-11-19",
                    "MEDDIG": "2016-11-21",
                    "(No column name)": "2",
                    "Előző 3 összesen": "8"
                },
                {
                    "USERNEV": "zoltan4",
                    "NEV": "Barna Zoltán",
                    "METTOL": "2016-12-29",
                    "MEDDIG": "2017-01-04",
                    "(No column name)": "1",
                    "Előző 3 összesen": "5"
                },
                {
                    "USERNEV": "zoltan4",
                    "NEV": "Barna Zoltán",
                    "METTOL": "2017-01-01",
                    "MEDDIG": "2017-01-02",
                    "(No column name)": "3",
                    "Előző 3 összesen": "4"
                },
                {
                    "USERNEV": "ZOLTANP",
                    "NEV": "Pintér Zoltán",
                    "METTOL": "2016-06-05",
                    "MEDDIG": "2016-06-08",
                    "(No column name)": "2",
                    "Előző 3 összesen": "NULL"
                },
                {
                    "USERNEV": "ZOLTANP",
                    "NEV": "Pintér Zoltán",
                    "METTOL": "2016-06-06",
                    "MEDDIG": "2016-06-08",
                    "(No column name)": "2",
                    "Előző 3 összesen": "2"
                },
                {
                    "USERNEV": "ZOLTANP",
                    "NEV": "Pintér Zoltán",
                    "METTOL": "2016-07-20",
                    "MEDDIG": "2016-07-25",
                    "(No column name)": "3",
                    "Előző 3 összesen": "4"
                },
                {
                    "USERNEV": "ZOLTANP",
                    "NEV": "Pintér Zoltán",
                    "METTOL": "2016-10-19",
                    "MEDDIG": "2016-10-25",
                    "(No column name)": "2",
                    "Előző 3 összesen": "7"
                },
                {
                    "USERNEV": "ZOLTANP",
                    "NEV": "Pintér Zoltán",
                    "METTOL": "2016-12-07",
                    "MEDDIG": "2016-12-10",
                    "(No column name)": "3",
                    "Előző 3 összesen": "7"
                },
                {
                    "USERNEV": "ZOLTANP",
                    "NEV": "Pintér Zoltán",
                    "METTOL": "2016-12-25",
                    "MEDDIG": "2016-12-29",
                    "(No column name)": "2",
                    "Előző 3 összesen": "8"
                },
                {
                    "USERNEV": "ZOLTANT",
                    "NEV": "Tóth Zoltán",
                    "METTOL": "2016-05-01",
                    "MEDDIG": "2016-05-04",
                    "(No column name)": "3",
                    "Előző 3 összesen": "NULL"
                },
                {
                    "USERNEV": "ZOLTANT",
                    "NEV": "Tóth Zoltán",
                    "METTOL": "2016-07-14",
                    "MEDDIG": "2016-07-15",
                    "(No column name)": "3",
                    "Előző 3 összesen": "3"
                },
                {
                    "USERNEV": "ZOLTANT",
                    "NEV": "Tóth Zoltán",
                    "METTOL": "2017-01-16",
                    "MEDDIG": "2017-01-20",
                    "(No column name)": "2",
                    "Előző 3 összesen": "6"
                },
                {
                    "USERNEV": "zsofi1",
                    "NEV": "Molnár Zsófi",
                    "METTOL": "2016-06-16",
                    "MEDDIG": "2016-06-17",
                    "(No column name)": "2",
                    "Előző 3 összesen": "NULL"
                },
                {
                    "USERNEV": "zsofi1",
                    "NEV": "Molnár Zsófi",
                    "METTOL": "2017-02-18",
                    "MEDDIG": "2017-02-19",
                    "(No column name)": "3",
                    "Előző 3 összesen": "2"
                },
                {
                    "USERNEV": "zsolt1",
                    "NEV": "Pulai Zsolt",
                    "METTOL": "2016-04-14",
                    "MEDDIG": "2016-04-17",
                    "(No column name)": "2",
                    "Előző 3 összesen": "NULL"
                },
                {
                    "USERNEV": "zsolt1",
                    "NEV": "Pulai Zsolt",
                    "METTOL": "2016-06-06",
                    "MEDDIG": "2016-06-08",
                    "(No column name)": "2",
                    "Előző 3 összesen": "2"
                },
                {
                    "USERNEV": "zsolt1",
                    "NEV": "Pulai Zsolt",
                    "METTOL": "2016-06-07",
                    "MEDDIG": "2016-06-10",
                    "(No column name)": "4",
                    "Előző 3 összesen": "4"
                },
                {
                    "USERNEV": "zsolt1",
                    "NEV": "Pulai Zsolt",
                    "METTOL": "2016-07-31",
                    "MEDDIG": "2016-08-02",
                    "(No column name)": "2",
                    "Előző 3 összesen": "8"
                },
                {
                    "USERNEV": "ZSOLTJ",
                    "NEV": "Józsa Zsolt",
                    "METTOL": "2016-04-24",
                    "MEDDIG": "2016-04-26",
                    "(No column name)": "4",
                    "Előző 3 összesen": "NULL"
                },
                {
                    "USERNEV": "ZSOLTJ",
                    "NEV": "Józsa Zsolt",
                    "METTOL": "2016-05-09",
                    "MEDDIG": "2016-05-11",
                    "(No column name)": "2",
                    "Előző 3 összesen": "4"
                },
                {
                    "USERNEV": "ZSOLTJ",
                    "NEV": "Józsa Zsolt",
                    "METTOL": "2016-05-28",
                    "MEDDIG": "2016-06-03",
                    "(No column name)": "1",
                    "Előző 3 összesen": "6"
                },
                {
                    "USERNEV": "ZSOLTJ",
                    "NEV": "Józsa Zsolt",
                    "METTOL": "2016-06-17",
                    "MEDDIG": "2016-06-19",
                    "(No column name)": "2",
                    "Előző 3 összesen": "7"
                },
                {
                    "USERNEV": "ZSOLTJ",
                    "NEV": "Józsa Zsolt",
                    "METTOL": "2016-07-18",
                    "MEDDIG": "2016-07-19",
                    "(No column name)": "2",
                    "Előző 3 összesen": "5"
                },
                {
                    "USERNEV": "ZSOLTJ",
                    "NEV": "Józsa Zsolt",
                    "METTOL": "2016-10-01",
                    "MEDDIG": "2016-10-06",
                    "(No column name)": "2",
                    "Előző 3 összesen": "5"
                },
                {
                    "USERNEV": "zsuzsa",
                    "NEV": "Pusztai Zsuzsanna",
                    "METTOL": "2016-07-24",
                    "MEDDIG": "2016-07-25",
                    "(No column name)": "3",
                    "Előző 3 összesen": "NULL"
                },
                {
                    "USERNEV": "zsuzsa",
                    "NEV": "Pusztai Zsuzsanna",
                    "METTOL": "2016-08-28",
                    "MEDDIG": "2016-08-30",
                    "(No column name)": "2",
                    "Előző 3 összesen": "3"
                },
                {
                    "USERNEV": "zsuzsa",
                    "NEV": "Pusztai Zsuzsanna",
                    "METTOL": "2016-11-28",
                    "MEDDIG": "2016-12-04",
                    "(No column name)": "3",
                    "Előző 3 összesen": "5"
                },
                {
                    "USERNEV": "zsuzsa3",
                    "NEV": "Varsányi Zsuzsa",
                    "METTOL": "2016-07-30",
                    "MEDDIG": "2016-08-02",
                    "(No column name)": "2",
                    "Előző 3 összesen": "NULL"
                },
                {
                    "USERNEV": "zsuzsa3",
                    "NEV": "Varsányi Zsuzsa",
                    "METTOL": "2016-09-09",
                    "MEDDIG": "2016-09-10",
                    "(No column name)": "2",
                    "Előző 3 összesen": "2"
                },
                {
                    "USERNEV": "zsuzsa3",
                    "NEV": "Varsányi Zsuzsa",
                    "METTOL": "2016-09-28",
                    "MEDDIG": "2016-10-03",
                    "(No column name)": "2",
                    "Előző 3 összesen": "4"
                },
                {
                    "USERNEV": "zsuzsa3",
                    "NEV": "Varsányi Zsuzsa",
                    "METTOL": "2016-10-27",
                    "MEDDIG": "2016-11-03",
                    "(No column name)": "4",
                    "Előző 3 összesen": "6"
                },
                {
                    "USERNEV": "zsuzsanna",
                    "NEV": "Barta Zsuzsanna",
                    "METTOL": "2016-05-17",
                    "MEDDIG": "2016-05-23",
                    "(No column name)": "2",
                    "Előző 3 összesen": "NULL"
                },
                {
                    "USERNEV": "zsuzsanna",
                    "NEV": "Barta Zsuzsanna",
                    "METTOL": "2016-07-12",
                    "MEDDIG": "2016-07-15",
                    "(No column name)": "2",
                    "Előző 3 összesen": "2"
                },
                {
                    "USERNEV": "zsuzsanna",
                    "NEV": "Barta Zsuzsanna",
                    "METTOL": "2017-01-09",
                    "MEDDIG": "2017-01-16",
                    "(No column name)": "1",
                    "Előző 3 összesen": "4"
                },
                {
                    "USERNEV": "zsuzsanna",
                    "NEV": "Barta Zsuzsanna",
                    "METTOL": "2017-01-16",
                    "MEDDIG": "2017-01-22",
                    "(No column name)": "2",
                    "Előző 3 összesen": "5"
                },
                {
                    "USERNEV": "ZSUZSAV",
                    "NEV": "Vajda Zsuzsa",
                    "METTOL": "2016-04-14",
                    "MEDDIG": "2016-04-16",
                    "(No column name)": "2",
                    "Előző 3 összesen": "NULL"
                },
                {
                    "USERNEV": "ZSUZSAV",
                    "NEV": "Vajda Zsuzsa",
                    "METTOL": "2016-05-28",
                    "MEDDIG": "2016-06-01",
                    "(No column name)": "4",
                    "Előző 3 összesen": "2"
                },
                {
                    "USERNEV": "ZSUZSAV",
                    "NEV": "Vajda Zsuzsa",
                    "METTOL": "2016-06-15",
                    "MEDDIG": "2016-06-21",
                    "(No column name)": "3",
                    "Előző 3 összesen": "6"
                },
                {
                    "USERNEV": "ZSUZSAV",
                    "NEV": "Vajda Zsuzsa",
                    "METTOL": "2016-09-18",
                    "MEDDIG": "2016-09-20",
                    "(No column name)": "2",
                    "Előző 3 összesen": "9"
                },
                {
                    "USERNEV": "ZSUZSAV",
                    "NEV": "Vajda Zsuzsa",
                    "METTOL": "2016-10-26",
                    "MEDDIG": "2016-10-28",
                    "(No column name)": "1",
                    "Előző 3 összesen": "9"
                },
                {
                    "USERNEV": "ZSUZSAV",
                    "NEV": "Vajda Zsuzsa",
                    "METTOL": "2016-11-21",
                    "MEDDIG": "2016-11-24",
                    "(No column name)": "3",
                    "Előző 3 összesen": "6"
                }
            ]
        },
        "text/html": [
            "<table>",
            "<tr><th>USERNEV</th><th>NEV</th><th>METTOL</th><th>MEDDIG</th><th>(No column name)</th><th>Előző 3 összesen</th></tr>",
            "<tr><td>adam1</td><td>Kiss Ádám</td><td>2016-05-28</td><td>2016-06-03</td><td>3</td><td>NULL</td></tr>",
            "<tr><td>adam1</td><td>Kiss Ádám</td><td>2016-08-20</td><td>2016-08-24</td><td>1</td><td>3</td></tr>",
            "<tr><td>adam1</td><td>Kiss Ádám</td><td>2016-10-19</td><td>2016-10-24</td><td>2</td><td>4</td></tr>",
            "<tr><td>adam3</td><td>Barkóci Ádám</td><td>2016-09-12</td><td>2016-09-16</td><td>2</td><td>NULL</td></tr>",
            "<tr><td>adam3</td><td>Barkóci Ádám</td><td>2017-02-06</td><td>2017-02-10</td><td>1</td><td>2</td></tr>",
            "<tr><td>adam4</td><td>Bieniek Ádám</td><td>2016-08-28</td><td>2016-08-30</td><td>3</td><td>NULL</td></tr>",
            "<tr><td>adam4</td><td>Bieniek Ádám</td><td>2016-10-27</td><td>2016-11-02</td><td>3</td><td>3</td></tr>",
            "<tr><td>adam4</td><td>Bieniek Ádám</td><td>2016-11-15</td><td>2016-11-18</td><td>2</td><td>6</td></tr>",
            "<tr><td>adam4</td><td>Bieniek Ádám</td><td>2016-12-06</td><td>2016-12-09</td><td>3</td><td>8</td></tr>",
            "<tr><td>adam4</td><td>Bieniek Ádám</td><td>2017-01-12</td><td>2017-01-19</td><td>2</td><td>8</td></tr>",
            "<tr><td>adam4</td><td>Bieniek Ádám</td><td>2017-02-23</td><td>2017-02-27</td><td>3</td><td>7</td></tr>",
            "<tr><td>agnes</td><td>Lengyel Ágnes</td><td>2016-05-09</td><td>2016-05-11</td><td>3</td><td>NULL</td></tr>",
            "<tr><td>agnes</td><td>Lengyel Ágnes</td><td>2016-05-25</td><td>2016-05-30</td><td>1</td><td>3</td></tr>",
            "<tr><td>agnes</td><td>Lengyel Ágnes</td><td>2016-07-13</td><td>2016-07-19</td><td>3</td><td>4</td></tr>",
            "<tr><td>agnes</td><td>Lengyel Ágnes</td><td>2016-07-30</td><td>2016-08-06</td><td>3</td><td>7</td></tr>",
            "<tr><td>agnes</td><td>Lengyel Ágnes</td><td>2016-11-07</td><td>2016-11-13</td><td>2</td><td>7</td></tr>",
            "<tr><td>agnes3</td><td>Hartyánszky Ágnes</td><td>2016-08-04</td><td>2016-08-10</td><td>1</td><td>NULL</td></tr>",
            "<tr><td>agnes3</td><td>Hartyánszky Ágnes</td><td>2016-10-22</td><td>2016-10-23</td><td>3</td><td>1</td></tr>",
            "<tr><td>agnes3</td><td>Hartyánszky Ágnes</td><td>2017-02-16</td><td>2017-02-21</td><td>3</td><td>4</td></tr>",
            "<tr><td>AGNESH</td><td>Horváth Ágnes</td><td>2016-04-10</td><td>2016-04-12</td><td>2</td><td>NULL</td></tr>",
            "<tr><td>AGNESH</td><td>Horváth Ágnes</td><td>2016-04-27</td><td>2016-04-28</td><td>4</td><td>2</td></tr>",
            "<tr><td>AGNESH</td><td>Horváth Ágnes</td><td>2016-06-23</td><td>2016-06-26</td><td>1</td><td>6</td></tr>",
            "<tr><td>AGNESH</td><td>Horváth Ágnes</td><td>2016-10-30</td><td>2016-11-04</td><td>1</td><td>7</td></tr>",
            "<tr><td>AGNESH</td><td>Horváth Ágnes</td><td>2017-01-03</td><td>2017-01-10</td><td>2</td><td>6</td></tr>",
            "<tr><td>AGNESH</td><td>Horváth Ágnes</td><td>2017-01-16</td><td>2017-01-23</td><td>3</td><td>4</td></tr>",
            "<tr><td>AGNESK</td><td>Kovács Ágnes</td><td>2016-07-29</td><td>2016-08-01</td><td>3</td><td>NULL</td></tr>",
            "<tr><td>AGNESK</td><td>Kovács Ágnes</td><td>2016-10-17</td><td>2016-10-19</td><td>2</td><td>3</td></tr>",
            "<tr><td>AGNESK</td><td>Kovács Ágnes</td><td>2016-12-17</td><td>2016-12-18</td><td>2</td><td>5</td></tr>",
            "<tr><td>akos</td><td>Bíró Ákos</td><td>2016-05-18</td><td>2016-05-19</td><td>2</td><td>NULL</td></tr>",
            "<tr><td>akos</td><td>Bíró Ákos</td><td>2016-07-14</td><td>2016-07-19</td><td>2</td><td>2</td></tr>",
            "<tr><td>akos</td><td>Bíró Ákos</td><td>2016-07-16</td><td>2016-07-18</td><td>2</td><td>4</td></tr>",
            "<tr><td>akos</td><td>Bíró Ákos</td><td>2016-07-22</td><td>2016-07-26</td><td>1</td><td>6</td></tr>",
            "<tr><td>akos</td><td>Bíró Ákos</td><td>2016-09-06</td><td>2016-09-12</td><td>1</td><td>5</td></tr>",
            "<tr><td>akos</td><td>Bíró Ákos</td><td>2016-10-05</td><td>2016-10-09</td><td>2</td><td>4</td></tr>",
            "<tr><td>akos</td><td>Bíró Ákos</td><td>2016-10-18</td><td>2016-10-23</td><td>2</td><td>4</td></tr>",
            "<tr><td>akos</td><td>Bíró Ákos</td><td>2016-11-21</td><td>2016-11-27</td><td>2</td><td>5</td></tr>",
            "<tr><td>akos</td><td>Bíró Ákos</td><td>2016-12-15</td><td>2016-12-21</td><td>2</td><td>6</td></tr>",
            "<tr><td>akos</td><td>Bíró Ákos</td><td>2016-12-29</td><td>2016-12-30</td><td>3</td><td>6</td></tr>",
            "<tr><td>aladar</td><td>Dunai Aladár</td><td>2016-05-17</td><td>2016-05-24</td><td>1</td><td>NULL</td></tr>",
            "<tr><td>aladar</td><td>Dunai Aladár</td><td>2016-09-24</td><td>2016-09-28</td><td>1</td><td>1</td></tr>",
            "<tr><td>aladar</td><td>Dunai Aladár</td><td>2016-11-22</td><td>2016-11-23</td><td>2</td><td>2</td></tr>",
            "<tr><td>alexandra</td><td>Bagóczki Alexandra</td><td>2016-05-21</td><td>2016-05-27</td><td>3</td><td>NULL</td></tr>",
            "<tr><td>alexandra</td><td>Bagóczki Alexandra</td><td>2016-06-08</td><td>2016-06-11</td><td>3</td><td>3</td></tr>",
            "<tr><td>alexandra</td><td>Bagóczki Alexandra</td><td>2016-07-27</td><td>2016-07-30</td><td>2</td><td>6</td></tr>",
            "<tr><td>alexandra</td><td>Bagóczki Alexandra</td><td>2016-10-21</td><td>2016-10-25</td><td>2</td><td>8</td></tr>",
            "<tr><td>alexandra</td><td>Bagóczki Alexandra</td><td>2016-11-29</td><td>2016-12-05</td><td>2</td><td>7</td></tr>",
            "<tr><td>alexandra</td><td>Bagóczki Alexandra</td><td>2017-01-13</td><td>2017-01-14</td><td>1</td><td>6</td></tr>",
            "<tr><td>alexandra</td><td>Bagóczki Alexandra</td><td>2017-01-19</td><td>2017-01-26</td><td>2</td><td>5</td></tr>",
            "<tr><td>andi</td><td>Maródi Andrea</td><td>2016-05-08</td><td>2016-05-14</td><td>4</td><td>NULL</td></tr>",
            "<tr><td>andi</td><td>Maródi Andrea</td><td>2016-06-13</td><td>2016-06-14</td><td>1</td><td>4</td></tr>",
            "<tr><td>andi</td><td>Maródi Andrea</td><td>2016-09-13</td><td>2016-09-16</td><td>2</td><td>5</td></tr>",
            "<tr><td>andi</td><td>Maródi Andrea</td><td>2016-11-16</td><td>2016-11-17</td><td>3</td><td>7</td></tr>",
            "<tr><td>andi</td><td>Maródi Andrea</td><td>2017-01-13</td><td>2017-01-17</td><td>3</td><td>6</td></tr>",
            "<tr><td>andras2</td><td>Tóth András</td><td>2016-05-30</td><td>2016-06-04</td><td>1</td><td>NULL</td></tr>",
            "<tr><td>andras2</td><td>Tóth András</td><td>2016-07-20</td><td>2016-07-22</td><td>2</td><td>1</td></tr>",
            "<tr><td>andras2</td><td>Tóth András</td><td>2016-09-30</td><td>2016-10-03</td><td>2</td><td>3</td></tr>",
            "<tr><td>andras2</td><td>Tóth András</td><td>2016-10-07</td><td>2016-10-10</td><td>3</td><td>5</td></tr>",
            "<tr><td>andras2</td><td>Tóth András</td><td>2017-02-08</td><td>2017-02-10</td><td>4</td><td>7</td></tr>",
            "<tr><td>andras21</td><td>Molnár András</td><td>2016-06-21</td><td>2016-06-26</td><td>2</td><td>NULL</td></tr>",
            "<tr><td>andras21</td><td>Molnár András</td><td>2016-07-04</td><td>2016-07-05</td><td>3</td><td>2</td></tr>",
            "<tr><td>andras21</td><td>Molnár András</td><td>2016-07-20</td><td>2016-07-22</td><td>1</td><td>5</td></tr>",
            "<tr><td>andras21</td><td>Molnár András</td><td>2016-10-01</td><td>2016-10-06</td><td>3</td><td>6</td></tr>",
            "<tr><td>andras21</td><td>Molnár András</td><td>2016-10-04</td><td>2016-10-11</td><td>3</td><td>7</td></tr>",
            "<tr><td>andras21</td><td>Molnár András</td><td>2016-11-23</td><td>2016-11-24</td><td>4</td><td>7</td></tr>",
            "<tr><td>andras21</td><td>Molnár András</td><td>2017-01-28</td><td>2017-02-01</td><td>2</td><td>10</td></tr>",
            "<tr><td>andras3</td><td>Vígh András</td><td>2016-05-01</td><td>2016-05-06</td><td>2</td><td>NULL</td></tr>",
            "<tr><td>andras3</td><td>Vígh András</td><td>2016-05-30</td><td>2016-06-03</td><td>1</td><td>2</td></tr>",
            "<tr><td>andras3</td><td>Vígh András</td><td>2016-06-10</td><td>2016-06-11</td><td>1</td><td>3</td></tr>",
            "<tr><td>andras3</td><td>Vígh András</td><td>2016-07-15</td><td>2016-07-19</td><td>3</td><td>4</td></tr>",
            "<tr><td>andras3</td><td>Vígh András</td><td>2016-07-21</td><td>2016-07-23</td><td>2</td><td>5</td></tr>",
            "<tr><td>andras3</td><td>Vígh András</td><td>2016-08-29</td><td>2016-09-02</td><td>3</td><td>6</td></tr>",
            "<tr><td>andras3</td><td>Vígh András</td><td>2016-11-28</td><td>2016-12-02</td><td>2</td><td>8</td></tr>",
            "<tr><td>andras3</td><td>Vígh András</td><td>2017-02-02</td><td>2017-02-08</td><td>2</td><td>7</td></tr>",
            "<tr><td>andras4</td><td>Back András</td><td>2016-09-17</td><td>2016-09-20</td><td>2</td><td>NULL</td></tr>",
            "<tr><td>andras4</td><td>Back András</td><td>2016-11-25</td><td>2016-11-28</td><td>2</td><td>2</td></tr>",
            "<tr><td>andras4</td><td>Back András</td><td>2017-01-09</td><td>2017-01-10</td><td>2</td><td>4</td></tr>",
            "<tr><td>andras41</td><td>Komjáti András</td><td>2016-05-14</td><td>2016-05-16</td><td>2</td><td>NULL</td></tr>",
            "<tr><td>andras41</td><td>Komjáti András</td><td>2016-05-21</td><td>2016-05-23</td><td>4</td><td>2</td></tr>",
            "<tr><td>andras41</td><td>Komjáti András</td><td>2016-06-07</td><td>2016-06-11</td><td>3</td><td>6</td></tr>",
            "<tr><td>andras41</td><td>Komjáti András</td><td>2016-06-23</td><td>2016-06-29</td><td>2</td><td>9</td></tr>",
            "<tr><td>andras41</td><td>Komjáti András</td><td>2016-07-28</td><td>2016-08-03</td><td>3</td><td>9</td></tr>",
            "<tr><td>andras41</td><td>Komjáti András</td><td>2016-08-17</td><td>2016-08-21</td><td>3</td><td>8</td></tr>",
            "<tr><td>andras41</td><td>Komjáti András</td><td>2016-08-19</td><td>2016-08-23</td><td>1</td><td>8</td></tr>",
            "<tr><td>andras41</td><td>Komjáti András</td><td>2016-09-22</td><td>2016-09-29</td><td>1</td><td>7</td></tr>",
            "<tr><td>andras41</td><td>Komjáti András</td><td>2016-09-30</td><td>2016-10-05</td><td>2</td><td>5</td></tr>",
            "<tr><td>andras41</td><td>Komjáti András</td><td>2016-10-09</td><td>2016-10-13</td><td>2</td><td>4</td></tr>",
            "<tr><td>andras41</td><td>Komjáti András</td><td>2016-10-15</td><td>2016-10-18</td><td>3</td><td>5</td></tr>",
            "<tr><td>andras41</td><td>Komjáti András</td><td>2016-11-20</td><td>2016-11-24</td><td>3</td><td>7</td></tr>",
            "<tr><td>andras41</td><td>Komjáti András</td><td>2016-11-23</td><td>2016-11-24</td><td>1</td><td>8</td></tr>",
            "<tr><td>ANDRASE</td><td>Erdei András</td><td>2016-04-24</td><td>2016-05-01</td><td>1</td><td>NULL</td></tr>",
            "<tr><td>ANDRASE</td><td>Erdei András</td><td>2016-07-06</td><td>2016-07-07</td><td>2</td><td>1</td></tr>",
            "<tr><td>ANDRASE</td><td>Erdei András</td><td>2016-08-16</td><td>2016-08-20</td><td>2</td><td>3</td></tr>",
            "<tr><td>ANDRASE</td><td>Erdei András</td><td>2016-11-19</td><td>2016-11-20</td><td>4</td><td>5</td></tr>",
            "<tr><td>ANDRASE</td><td>Erdei András</td><td>2016-11-29</td><td>2016-12-06</td><td>3</td><td>8</td></tr>",
            "<tr><td>ANDRASN</td><td>Nagy András</td><td>2016-11-25</td><td>2016-12-01</td><td>2</td><td>NULL</td></tr>",
            "<tr><td>andrea</td><td>Kiss Andrea</td><td>2016-07-27</td><td>2016-07-28</td><td>2</td><td>NULL</td></tr>",
            "<tr><td>andrea</td><td>Kiss Andrea</td><td>2016-08-01</td><td>2016-08-02</td><td>2</td><td>2</td></tr>",
            "<tr><td>andrea</td><td>Kiss Andrea</td><td>2016-08-23</td><td>2016-08-26</td><td>3</td><td>4</td></tr>",
            "<tr><td>andrea</td><td>Kiss Andrea</td><td>2016-08-26</td><td>2016-08-30</td><td>2</td><td>7</td></tr>",
            "<tr><td>andrea</td><td>Kiss Andrea</td><td>2016-10-21</td><td>2016-10-27</td><td>4</td><td>7</td></tr>",
            "<tr><td>andrea</td><td>Kiss Andrea</td><td>2017-02-09</td><td>2017-02-14</td><td>2</td><td>9</td></tr>",
            "<tr><td>andrea3</td><td>Szomor Andrea</td><td>2016-11-19</td><td>2016-11-21</td><td>3</td><td>NULL</td></tr>",
            "<tr><td>andrea4</td><td>Neizer Andrea</td><td>2016-05-27</td><td>2016-05-29</td><td>1</td><td>NULL</td></tr>",
            "<tr><td>andrea4</td><td>Neizer Andrea</td><td>2016-09-13</td><td>2016-09-17</td><td>2</td><td>1</td></tr>",
            "<tr><td>andrea4</td><td>Neizer Andrea</td><td>2016-10-30</td><td>2016-11-06</td><td>3</td><td>3</td></tr>",
            "<tr><td>andrea4</td><td>Neizer Andrea</td><td>2017-01-22</td><td>2017-01-29</td><td>2</td><td>6</td></tr>",
            "<tr><td>ANDREAT</td><td>Tornyos Andrea</td><td>2016-07-27</td><td>2016-08-01</td><td>2</td><td>NULL</td></tr>",
            "<tr><td>ANDREAT</td><td>Tornyos Andrea</td><td>2016-09-15</td><td>2016-09-16</td><td>2</td><td>2</td></tr>",
            "<tr><td>ANDREAT</td><td>Tornyos Andrea</td><td>2016-10-08</td><td>2016-10-12</td><td>3</td><td>4</td></tr>",
            "<tr><td>anett3</td><td>Pivarcsi Anett</td><td>2016-04-10</td><td>2016-04-17</td><td>1</td><td>NULL</td></tr>",
            "<tr><td>anett3</td><td>Pivarcsi Anett</td><td>2016-04-13</td><td>2016-04-19</td><td>3</td><td>1</td></tr>",
            "<tr><td>anett3</td><td>Pivarcsi Anett</td><td>2016-04-15</td><td>2016-04-19</td><td>3</td><td>4</td></tr>",
            "<tr><td>anett3</td><td>Pivarcsi Anett</td><td>2016-04-28</td><td>2016-05-02</td><td>3</td><td>7</td></tr>",
            "<tr><td>anett3</td><td>Pivarcsi Anett</td><td>2016-08-15</td><td>2016-08-16</td><td>2</td><td>9</td></tr>",
            "<tr><td>anett3</td><td>Pivarcsi Anett</td><td>2016-08-17</td><td>2016-08-23</td><td>3</td><td>8</td></tr>",
            "<tr><td>anett3</td><td>Pivarcsi Anett</td><td>2016-10-12</td><td>2016-10-19</td><td>3</td><td>8</td></tr>",
            "<tr><td>anett3</td><td>Pivarcsi Anett</td><td>2016-10-16</td><td>2016-10-21</td><td>1</td><td>8</td></tr>",
            "<tr><td>aniko</td><td>Tóth Anikó</td><td>2016-06-25</td><td>2016-06-30</td><td>3</td><td>NULL</td></tr>",
            "<tr><td>aniko</td><td>Tóth Anikó</td><td>2017-02-12</td><td>2017-02-14</td><td>3</td><td>3</td></tr>",
            "<tr><td>aniko</td><td>Tóth Anikó</td><td>2017-02-23</td><td>2017-02-24</td><td>2</td><td>6</td></tr>",
            "<tr><td>aniko4</td><td>Böröcz Anikó</td><td>2016-07-02</td><td>2016-07-09</td><td>1</td><td>NULL</td></tr>",
            "<tr><td>aniko4</td><td>Böröcz Anikó</td><td>2016-07-22</td><td>2016-07-25</td><td>3</td><td>1</td></tr>",
            "<tr><td>aniko4</td><td>Böröcz Anikó</td><td>2016-09-05</td><td>2016-09-07</td><td>4</td><td>4</td></tr>",
            "<tr><td>aniko4</td><td>Böröcz Anikó</td><td>2016-10-16</td><td>2016-10-18</td><td>3</td><td>8</td></tr>",
            "<tr><td>ANIKOS</td><td>Simon Anikó</td><td>2016-04-19</td><td>2016-04-24</td><td>2</td><td>NULL</td></tr>",
            "<tr><td>ANIKOS</td><td>Simon Anikó</td><td>2016-05-24</td><td>2016-05-25</td><td>3</td><td>2</td></tr>",
            "<tr><td>ANIKOS</td><td>Simon Anikó</td><td>2016-06-16</td><td>2016-06-23</td><td>1</td><td>5</td></tr>",
            "<tr><td>ANIKOS</td><td>Simon Anikó</td><td>2016-06-27</td><td>2016-06-30</td><td>2</td><td>6</td></tr>",
            "<tr><td>ANIKOS</td><td>Simon Anikó</td><td>2016-07-17</td><td>2016-07-22</td><td>3</td><td>6</td></tr>",
            "<tr><td>ANIKOS</td><td>Simon Anikó</td><td>2016-08-26</td><td>2016-09-02</td><td>2</td><td>6</td></tr>",
            "<tr><td>ANIKOS</td><td>Simon Anikó</td><td>2016-10-08</td><td>2016-10-14</td><td>2</td><td>7</td></tr>",
            "<tr><td>ANIKOS</td><td>Simon Anikó</td><td>2016-10-29</td><td>2016-11-05</td><td>3</td><td>7</td></tr>",
            "<tr><td>ANIKOS</td><td>Simon Anikó</td><td>2016-11-10</td><td>2016-11-15</td><td>2</td><td>7</td></tr>",
            "<tr><td>anita</td><td>Hamvay-Kovács Anita</td><td>2016-09-28</td><td>2016-10-02</td><td>4</td><td>NULL</td></tr>",
            "<tr><td>anita</td><td>Hamvay-Kovács Anita</td><td>2016-10-01</td><td>2016-10-04</td><td>2</td><td>4</td></tr>",
            "<tr><td>anita</td><td>Hamvay-Kovács Anita</td><td>2017-02-19</td><td>2017-02-22</td><td>2</td><td>6</td></tr>",
            "<tr><td>anita</td><td>Hamvay-Kovács Anita</td><td>2017-02-20</td><td>2017-02-25</td><td>2</td><td>8</td></tr>",
            "<tr><td>annamaria1</td><td>Szűcs Annamária</td><td>2016-06-06</td><td>2016-06-07</td><td>3</td><td>NULL</td></tr>",
            "<tr><td>annamaria1</td><td>Szűcs Annamária</td><td>2017-01-30</td><td>2017-01-31</td><td>4</td><td>3</td></tr>",
            "<tr><td>ANNAMARIAR</td><td>Regős Annamária</td><td>2016-06-08</td><td>2016-06-11</td><td>2</td><td>NULL</td></tr>",
            "<tr><td>ANNAMARIAR</td><td>Regős Annamária</td><td>2016-07-18</td><td>2016-07-21</td><td>1</td><td>2</td></tr>",
            "<tr><td>ANNAMARIAR</td><td>Regős Annamária</td><td>2016-09-23</td><td>2016-09-27</td><td>2</td><td>3</td></tr>",
            "<tr><td>ANNAMARIAR</td><td>Regős Annamária</td><td>2016-11-11</td><td>2016-11-12</td><td>3</td><td>5</td></tr>",
            "<tr><td>ANNAMARIAR</td><td>Regős Annamária</td><td>2017-01-10</td><td>2017-01-13</td><td>2</td><td>6</td></tr>",
            "<tr><td>ANNAMARIAR</td><td>Regős Annamária</td><td>2017-02-16</td><td>2017-02-18</td><td>2</td><td>7</td></tr>",
            "<tr><td>aron2</td><td>Jakab Áron</td><td>2016-04-11</td><td>2016-04-12</td><td>3</td><td>NULL</td></tr>",
            "<tr><td>aron2</td><td>Jakab Áron</td><td>2016-07-04</td><td>2016-07-06</td><td>3</td><td>3</td></tr>",
            "<tr><td>aron2</td><td>Jakab Áron</td><td>2016-10-23</td><td>2016-10-27</td><td>2</td><td>6</td></tr>",
            "<tr><td>aron2</td><td>Jakab Áron</td><td>2016-11-05</td><td>2016-11-09</td><td>2</td><td>8</td></tr>",
            "<tr><td>aron2</td><td>Jakab Áron</td><td>2017-01-17</td><td>2017-01-18</td><td>3</td><td>7</td></tr>",
            "<tr><td>aron2</td><td>Jakab Áron</td><td>2017-02-26</td><td>2017-02-27</td><td>3</td><td>7</td></tr>",
            "<tr><td>ARONK</td><td>Kelemen Áron</td><td>2016-04-06</td><td>2016-04-08</td><td>2</td><td>NULL</td></tr>",
            "<tr><td>ARONK</td><td>Kelemen Áron</td><td>2016-05-14</td><td>2016-05-20</td><td>4</td><td>2</td></tr>",
            "<tr><td>ARONK</td><td>Kelemen Áron</td><td>2016-06-04</td><td>2016-06-09</td><td>2</td><td>6</td></tr>",
            "<tr><td>ARONK</td><td>Kelemen Áron</td><td>2016-06-07</td><td>2016-06-13</td><td>3</td><td>8</td></tr>",
            "<tr><td>ARONK</td><td>Kelemen Áron</td><td>2016-07-03</td><td>2016-07-07</td><td>2</td><td>9</td></tr>",
            "<tr><td>ARONK</td><td>Kelemen Áron</td><td>2016-08-05</td><td>2016-08-08</td><td>4</td><td>7</td></tr>",
            "<tr><td>ARONK</td><td>Kelemen Áron</td><td>2016-09-08</td><td>2016-09-15</td><td>2</td><td>9</td></tr>",
            "<tr><td>ARONK</td><td>Kelemen Áron</td><td>2016-11-03</td><td>2016-11-10</td><td>2</td><td>8</td></tr>",
            "<tr><td>ARONK</td><td>Kelemen Áron</td><td>2016-11-05</td><td>2016-11-07</td><td>2</td><td>8</td></tr>",
            "<tr><td>ARONK</td><td>Kelemen Áron</td><td>2016-12-07</td><td>2016-12-12</td><td>3</td><td>6</td></tr>",
            "<tr><td>ARONK</td><td>Kelemen Áron</td><td>2017-01-01</td><td>2017-01-03</td><td>2</td><td>7</td></tr>",
            "<tr><td>ARONK</td><td>Kelemen Áron</td><td>2017-01-30</td><td>2017-02-03</td><td>2</td><td>7</td></tr>",
            "<tr><td>ARONK</td><td>Kelemen Áron</td><td>2017-02-21</td><td>2017-02-23</td><td>2</td><td>7</td></tr>",
            "<tr><td>arpad2</td><td>Ötvös Árpád</td><td>2016-06-05</td><td>2016-06-07</td><td>2</td><td>NULL</td></tr>",
            "<tr><td>arpad2</td><td>Ötvös Árpád</td><td>2016-08-23</td><td>2016-08-25</td><td>2</td><td>2</td></tr>",
            "<tr><td>arpad2</td><td>Ötvös Árpád</td><td>2016-09-28</td><td>2016-09-30</td><td>2</td><td>4</td></tr>",
            "<tr><td>arpad2</td><td>Ötvös Árpád</td><td>2016-10-13</td><td>2016-10-19</td><td>3</td><td>6</td></tr>",
            "<tr><td>arpad2</td><td>Ötvös Árpád</td><td>2016-11-06</td><td>2016-11-10</td><td>2</td><td>7</td></tr>",
            "<tr><td>arpad2</td><td>Ötvös Árpád</td><td>2016-12-24</td><td>2016-12-27</td><td>3</td><td>7</td></tr>",
            "<tr><td>arpad2</td><td>Ötvös Árpád</td><td>2017-02-18</td><td>2017-02-19</td><td>4</td><td>8</td></tr>",
            "<tr><td>ARPADH</td><td>Horváth Árpád</td><td>2016-06-06</td><td>2016-06-07</td><td>3</td><td>NULL</td></tr>",
            "<tr><td>ARPADH</td><td>Horváth Árpád</td><td>2016-07-14</td><td>2016-07-18</td><td>2</td><td>3</td></tr>",
            "<tr><td>ARPADH</td><td>Horváth Árpád</td><td>2016-09-16</td><td>2016-09-23</td><td>1</td><td>5</td></tr>",
            "<tr><td>ARPADH</td><td>Horváth Árpád</td><td>2016-09-18</td><td>2016-09-25</td><td>1</td><td>6</td></tr>",
            "<tr><td>ARPADH</td><td>Horváth Árpád</td><td>2016-12-04</td><td>2016-12-10</td><td>1</td><td>4</td></tr>",
            "<tr><td>ARPADH</td><td>Horváth Árpád</td><td>2016-12-18</td><td>2016-12-19</td><td>3</td><td>3</td></tr>",
            "<tr><td>ARPADH</td><td>Horváth Árpád</td><td>2017-02-16</td><td>2017-02-18</td><td>2</td><td>5</td></tr>",
            "<tr><td>ARPADM</td><td>Móricz Árpád</td><td>2016-05-29</td><td>2016-06-01</td><td>2</td><td>NULL</td></tr>",
            "<tr><td>ARPADM</td><td>Móricz Árpád</td><td>2016-08-12</td><td>2016-08-16</td><td>2</td><td>2</td></tr>",
            "<tr><td>ARPADM</td><td>Móricz Árpád</td><td>2016-11-09</td><td>2016-11-11</td><td>2</td><td>4</td></tr>",
            "<tr><td>ARPADM</td><td>Móricz Árpád</td><td>2016-12-14</td><td>2016-12-17</td><td>3</td><td>6</td></tr>",
            "<tr><td>ARPADM</td><td>Móricz Árpád</td><td>2017-01-05</td><td>2017-01-10</td><td>1</td><td>7</td></tr>",
            "<tr><td>ARPADM</td><td>Móricz Árpád</td><td>2017-02-12</td><td>2017-02-14</td><td>3</td><td>6</td></tr>",
            "<tr><td>attila</td><td>Csóti Attila</td><td>2016-09-30</td><td>2016-10-07</td><td>3</td><td>NULL</td></tr>",
            "<tr><td>attila</td><td>Csóti Attila</td><td>2016-10-15</td><td>2016-10-19</td><td>1</td><td>3</td></tr>",
            "<tr><td>attila</td><td>Csóti Attila</td><td>2016-12-22</td><td>2016-12-26</td><td>2</td><td>4</td></tr>",
            "<tr><td>attila1</td><td>Gulyás Attila</td><td>2016-05-20</td><td>2016-05-26</td><td>1</td><td>NULL</td></tr>",
            "<tr><td>attila1</td><td>Gulyás Attila</td><td>2016-10-09</td><td>2016-10-12</td><td>2</td><td>1</td></tr>",
            "<tr><td>attila1</td><td>Gulyás Attila</td><td>2016-10-15</td><td>2016-10-16</td><td>3</td><td>3</td></tr>",
            "<tr><td>attila1</td><td>Gulyás Attila</td><td>2016-10-30</td><td>2016-11-05</td><td>2</td><td>6</td></tr>",
            "<tr><td>attila1</td><td>Gulyás Attila</td><td>2016-11-10</td><td>2016-11-14</td><td>2</td><td>7</td></tr>",
            "<tr><td>attila1</td><td>Gulyás Attila</td><td>2017-01-23</td><td>2017-01-30</td><td>4</td><td>7</td></tr>",
            "<tr><td>attila4</td><td>Baróti Attila</td><td>2016-08-18</td><td>2016-08-23</td><td>4</td><td>NULL</td></tr>",
            "<tr><td>attila4</td><td>Baróti Attila</td><td>2016-12-31</td><td>2017-01-01</td><td>2</td><td>4</td></tr>",
            "<tr><td>attila4</td><td>Baróti Attila</td><td>2017-02-15</td><td>2017-02-22</td><td>2</td><td>6</td></tr>",
            "<tr><td>ATTILAO</td><td>Opra Attila</td><td>2016-05-21</td><td>2016-05-26</td><td>3</td><td>NULL</td></tr>",
            "<tr><td>ATTILAO</td><td>Opra Attila</td><td>2016-06-04</td><td>2016-06-11</td><td>3</td><td>3</td></tr>",
            "<tr><td>ATTILAO</td><td>Opra Attila</td><td>2016-10-30</td><td>2016-11-03</td><td>2</td><td>6</td></tr>",
            "<tr><td>ATTILAO</td><td>Opra Attila</td><td>2017-02-22</td><td>2017-02-25</td><td>3</td><td>8</td></tr>",
            "<tr><td>balazs1</td><td>Bozsik Balázs</td><td>2016-05-07</td><td>2016-05-14</td><td>2</td><td>NULL</td></tr>",
            "<tr><td>balazs1</td><td>Bozsik Balázs</td><td>2016-07-22</td><td>2016-07-26</td><td>4</td><td>2</td></tr>",
            "<tr><td>balazs1</td><td>Bozsik Balázs</td><td>2016-12-26</td><td>2016-12-28</td><td>3</td><td>6</td></tr>",
            "<tr><td>balazs1</td><td>Bozsik Balázs</td><td>2017-01-01</td><td>2017-01-05</td><td>2</td><td>9</td></tr>",
            "<tr><td>balazs1</td><td>Bozsik Balázs</td><td>2017-02-10</td><td>2017-02-14</td><td>3</td><td>9</td></tr>",
            "<tr><td>balazs1</td><td>Bozsik Balázs</td><td>2017-02-12</td><td>2017-02-14</td><td>2</td><td>8</td></tr>",
            "<tr><td>balazs2</td><td>Szűcs Balázs</td><td>2016-04-16</td><td>2016-04-19</td><td>2</td><td>NULL</td></tr>",
            "<tr><td>balazs2</td><td>Szűcs Balázs</td><td>2016-05-22</td><td>2016-05-29</td><td>3</td><td>2</td></tr>",
            "<tr><td>balazs2</td><td>Szűcs Balázs</td><td>2016-05-28</td><td>2016-06-01</td><td>3</td><td>5</td></tr>",
            "<tr><td>balazs2</td><td>Szűcs Balázs</td><td>2016-07-08</td><td>2016-07-12</td><td>3</td><td>8</td></tr>",
            "<tr><td>balazs2</td><td>Szűcs Balázs</td><td>2016-07-10</td><td>2016-07-17</td><td>3</td><td>9</td></tr>",
            "<tr><td>balazs2</td><td>Szűcs Balázs</td><td>2016-07-20</td><td>2016-07-25</td><td>2</td><td>9</td></tr>",
            "<tr><td>balazs2</td><td>Szűcs Balázs</td><td>2016-08-21</td><td>2016-08-22</td><td>3</td><td>8</td></tr>",
            "<tr><td>balazs2</td><td>Szűcs Balázs</td><td>2016-09-12</td><td>2016-09-14</td><td>3</td><td>8</td></tr>",
            "<tr><td>balazs2</td><td>Szűcs Balázs</td><td>2016-11-03</td><td>2016-11-05</td><td>3</td><td>8</td></tr>",
            "<tr><td>balazs2</td><td>Szűcs Balázs</td><td>2017-02-27</td><td>2017-03-06</td><td>1</td><td>9</td></tr>",
            "<tr><td>balazs3</td><td>Bakódy Balázs</td><td>2016-07-17</td><td>2016-07-21</td><td>2</td><td>NULL</td></tr>",
            "<tr><td>balazs3</td><td>Bakódy Balázs</td><td>2016-07-27</td><td>2016-07-31</td><td>4</td><td>2</td></tr>",
            "<tr><td>balazs3</td><td>Bakódy Balázs</td><td>2016-08-24</td><td>2016-08-28</td><td>3</td><td>6</td></tr>",
            "<tr><td>balazs3</td><td>Bakódy Balázs</td><td>2016-09-15</td><td>2016-09-16</td><td>3</td><td>9</td></tr>",
            "<tr><td>balazs3</td><td>Bakódy Balázs</td><td>2016-12-05</td><td>2016-12-11</td><td>3</td><td>10</td></tr>",
            "<tr><td>balazs3</td><td>Bakódy Balázs</td><td>2017-01-20</td><td>2017-01-22</td><td>2</td><td>9</td></tr>",
            "<tr><td>balint</td><td>Horváth Bálint</td><td>2016-04-22</td><td>2016-04-29</td><td>2</td><td>NULL</td></tr>",
            "<tr><td>balint</td><td>Horváth Bálint</td><td>2016-10-09</td><td>2016-10-11</td><td>2</td><td>2</td></tr>",
            "<tr><td>balint</td><td>Horváth Bálint</td><td>2016-11-24</td><td>2016-11-29</td><td>3</td><td>4</td></tr>",
            "<tr><td>balint1</td><td>Molnár Bálint</td><td>2016-06-07</td><td>2016-06-11</td><td>3</td><td>NULL</td></tr>",
            "<tr><td>balint1</td><td>Molnár Bálint</td><td>2016-06-07</td><td>2016-06-12</td><td>3</td><td>3</td></tr>",
            "<tr><td>balint1</td><td>Molnár Bálint</td><td>2016-06-10</td><td>2016-06-12</td><td>1</td><td>6</td></tr>",
            "<tr><td>balint1</td><td>Molnár Bálint</td><td>2016-07-26</td><td>2016-07-28</td><td>2</td><td>7</td></tr>",
            "<tr><td>balint1</td><td>Molnár Bálint</td><td>2016-08-03</td><td>2016-08-08</td><td>2</td><td>6</td></tr>",
            "<tr><td>balint1</td><td>Molnár Bálint</td><td>2016-09-16</td><td>2016-09-21</td><td>1</td><td>5</td></tr>",
            "<tr><td>balint1</td><td>Molnár Bálint</td><td>2016-11-07</td><td>2016-11-10</td><td>2</td><td>5</td></tr>",
            "<tr><td>balint1</td><td>Molnár Bálint</td><td>2016-12-17</td><td>2016-12-22</td><td>3</td><td>5</td></tr>",
            "<tr><td>balint1</td><td>Molnár Bálint</td><td>2016-12-29</td><td>2016-12-31</td><td>3</td><td>6</td></tr>",
            "<tr><td>balint1</td><td>Molnár Bálint</td><td>2017-01-03</td><td>2017-01-08</td><td>2</td><td>8</td></tr>",
            "<tr><td>balint2</td><td>Vukasinovity Bálint</td><td>2016-07-21</td><td>2016-07-26</td><td>1</td><td>NULL</td></tr>",
            "<tr><td>balint2</td><td>Vukasinovity Bálint</td><td>2016-12-04</td><td>2016-12-06</td><td>3</td><td>1</td></tr>",
            "<tr><td>balu</td><td>Endresz Bálint</td><td>2016-08-06</td><td>2016-08-10</td><td>2</td><td>NULL</td></tr>",
            "<tr><td>balu</td><td>Endresz Bálint</td><td>2016-12-22</td><td>2016-12-23</td><td>2</td><td>2</td></tr>",
            "<tr><td>beata4</td><td>Bagi Beáta</td><td>2016-04-20</td><td>2016-04-21</td><td>2</td><td>NULL</td></tr>",
            "<tr><td>beata4</td><td>Bagi Beáta</td><td>2016-06-03</td><td>2016-06-04</td><td>2</td><td>2</td></tr>",
            "<tr><td>beata4</td><td>Bagi Beáta</td><td>2016-07-03</td><td>2016-07-06</td><td>1</td><td>4</td></tr>",
            "<tr><td>beata4</td><td>Bagi Beáta</td><td>2016-08-25</td><td>2016-08-27</td><td>3</td><td>5</td></tr>",
            "<tr><td>beata4</td><td>Bagi Beáta</td><td>2016-10-01</td><td>2016-10-05</td><td>1</td><td>6</td></tr>",
            "<tr><td>beata4</td><td>Bagi Beáta</td><td>2016-10-03</td><td>2016-10-06</td><td>3</td><td>5</td></tr>",
            "<tr><td>BEATRIXK</td><td>Kerényi Beatrix</td><td>2016-06-10</td><td>2016-06-11</td><td>2</td><td>NULL</td></tr>",
            "<tr><td>BEATRIXK</td><td>Kerényi Beatrix</td><td>2016-06-10</td><td>2016-06-14</td><td>2</td><td>2</td></tr>",
            "<tr><td>BEATRIXK</td><td>Kerényi Beatrix</td><td>2016-06-19</td><td>2016-06-21</td><td>3</td><td>4</td></tr>",
            "<tr><td>BEATRIXK</td><td>Kerényi Beatrix</td><td>2016-08-12</td><td>2016-08-18</td><td>4</td><td>7</td></tr>",
            "<tr><td>BEATRIXK</td><td>Kerényi Beatrix</td><td>2016-10-23</td><td>2016-10-28</td><td>2</td><td>9</td></tr>",
            "<tr><td>BEATRIXK</td><td>Kerényi Beatrix</td><td>2016-11-14</td><td>2016-11-19</td><td>2</td><td>9</td></tr>",
            "<tr><td>BEATRIXK</td><td>Kerényi Beatrix</td><td>2016-12-12</td><td>2016-12-14</td><td>3</td><td>8</td></tr>",
            "<tr><td>BEATRIXK</td><td>Kerényi Beatrix</td><td>2016-12-17</td><td>2016-12-22</td><td>4</td><td>7</td></tr>",
            "<tr><td>BEATRIXK</td><td>Kerényi Beatrix</td><td>2017-02-08</td><td>2017-02-09</td><td>3</td><td>9</td></tr>",
            "<tr><td>BEATRIXS</td><td>Szekendi Beatrix</td><td>2016-04-18</td><td>2016-04-24</td><td>1</td><td>NULL</td></tr>",
            "<tr><td>BEATRIXS</td><td>Szekendi Beatrix</td><td>2016-06-11</td><td>2016-06-14</td><td>3</td><td>1</td></tr>",
            "<tr><td>BEATRIXS</td><td>Szekendi Beatrix</td><td>2016-10-01</td><td>2016-10-03</td><td>3</td><td>4</td></tr>",
            "<tr><td>BEATRIXS</td><td>Szekendi Beatrix</td><td>2016-10-01</td><td>2016-10-05</td><td>3</td><td>7</td></tr>",
            "<tr><td>BEATRIXS</td><td>Szekendi Beatrix</td><td>2016-12-21</td><td>2016-12-27</td><td>2</td><td>9</td></tr>",
            "<tr><td>BEATRIXS</td><td>Szekendi Beatrix</td><td>2017-02-03</td><td>2017-02-04</td><td>2</td><td>8</td></tr>",
            "<tr><td>BELAF</td><td>Farkas Béla</td><td>2016-07-27</td><td>2016-07-30</td><td>3</td><td>NULL</td></tr>",
            "<tr><td>BELAF</td><td>Farkas Béla</td><td>2016-07-29</td><td>2016-07-31</td><td>2</td><td>3</td></tr>",
            "<tr><td>BELAF</td><td>Farkas Béla</td><td>2016-08-29</td><td>2016-08-31</td><td>2</td><td>5</td></tr>",
            "<tr><td>BELAF</td><td>Farkas Béla</td><td>2016-11-03</td><td>2016-11-09</td><td>4</td><td>7</td></tr>",
            "<tr><td>BELAF</td><td>Farkas Béla</td><td>2016-12-02</td><td>2016-12-04</td><td>3</td><td>8</td></tr>",
            "<tr><td>BELAF</td><td>Farkas Béla</td><td>2016-12-06</td><td>2016-12-09</td><td>1</td><td>9</td></tr>",
            "<tr><td>bence</td><td>Győrffy Bence</td><td>2016-05-08</td><td>2016-05-11</td><td>2</td><td>NULL</td></tr>",
            "<tr><td>bence</td><td>Győrffy Bence</td><td>2016-05-29</td><td>2016-06-03</td><td>1</td><td>2</td></tr>",
            "<tr><td>bence</td><td>Győrffy Bence</td><td>2016-07-24</td><td>2016-07-30</td><td>2</td><td>3</td></tr>",
            "<tr><td>bence</td><td>Győrffy Bence</td><td>2016-07-25</td><td>2016-08-01</td><td>3</td><td>5</td></tr>",
            "<tr><td>bence</td><td>Győrffy Bence</td><td>2016-09-03</td><td>2016-09-06</td><td>3</td><td>6</td></tr>",
            "<tr><td>bence</td><td>Győrffy Bence</td><td>2016-10-30</td><td>2016-11-02</td><td>4</td><td>8</td></tr>",
            "<tr><td>bence</td><td>Győrffy Bence</td><td>2016-12-17</td><td>2016-12-18</td><td>2</td><td>10</td></tr>",
            "<tr><td>bence</td><td>Győrffy Bence</td><td>2016-12-26</td><td>2016-12-27</td><td>2</td><td>9</td></tr>",
            "<tr><td>bence</td><td>Győrffy Bence</td><td>2017-02-05</td><td>2017-02-09</td><td>3</td><td>8</td></tr>",
            "<tr><td>BENCEB</td><td>Bajusz Bence</td><td>2016-05-14</td><td>2016-05-17</td><td>3</td><td>NULL</td></tr>",
            "<tr><td>BENCEB</td><td>Bajusz Bence</td><td>2016-06-03</td><td>2016-06-09</td><td>2</td><td>3</td></tr>",
            "<tr><td>BENCEB</td><td>Bajusz Bence</td><td>2016-08-01</td><td>2016-08-02</td><td>2</td><td>5</td></tr>",
            "<tr><td>BENCEB</td><td>Bajusz Bence</td><td>2016-10-22</td><td>2016-10-29</td><td>3</td><td>7</td></tr>",
            "<tr><td>BENCEB</td><td>Bajusz Bence</td><td>2016-11-28</td><td>2016-12-02</td><td>2</td><td>7</td></tr>",
            "<tr><td>BENCEB</td><td>Bajusz Bence</td><td>2017-02-12</td><td>2017-02-19</td><td>3</td><td>7</td></tr>",
            "<tr><td>bernadett1</td><td>Simon Bernadett</td><td>2016-06-12</td><td>2016-06-17</td><td>3</td><td>NULL</td></tr>",
            "<tr><td>bernadett1</td><td>Simon Bernadett</td><td>2016-10-08</td><td>2016-10-09</td><td>4</td><td>3</td></tr>",
            "<tr><td>bernadett1</td><td>Simon Bernadett</td><td>2016-10-15</td><td>2016-10-22</td><td>3</td><td>7</td></tr>",
            "<tr><td>bernadett1</td><td>Simon Bernadett</td><td>2016-10-26</td><td>2016-11-02</td><td>3</td><td>10</td></tr>",
            "<tr><td>bernadett1</td><td>Simon Bernadett</td><td>2016-10-28</td><td>2016-11-01</td><td>3</td><td>10</td></tr>",
            "<tr><td>bernadett1</td><td>Simon Bernadett</td><td>2017-02-14</td><td>2017-02-15</td><td>3</td><td>9</td></tr>",
            "<tr><td>bernadett1</td><td>Simon Bernadett</td><td>2017-02-24</td><td>2017-03-03</td><td>1</td><td>9</td></tr>",
            "<tr><td>bernadett2</td><td>Kovács Bernadett</td><td>2016-05-01</td><td>2016-05-03</td><td>2</td><td>NULL</td></tr>",
            "<tr><td>bernadett2</td><td>Kovács Bernadett</td><td>2016-06-17</td><td>2016-06-23</td><td>3</td><td>2</td></tr>",
            "<tr><td>bernadett2</td><td>Kovács Bernadett</td><td>2016-08-23</td><td>2016-08-29</td><td>2</td><td>5</td></tr>",
            "<tr><td>bernadett2</td><td>Kovács Bernadett</td><td>2016-08-25</td><td>2016-08-27</td><td>3</td><td>7</td></tr>",
            "<tr><td>bernadett2</td><td>Kovács Bernadett</td><td>2016-09-07</td><td>2016-09-13</td><td>3</td><td>8</td></tr>",
            "<tr><td>bernadett2</td><td>Kovács Bernadett</td><td>2016-10-30</td><td>2016-11-06</td><td>3</td><td>8</td></tr>",
            "<tr><td>bernadett2</td><td>Kovács Bernadett</td><td>2016-12-17</td><td>2016-12-20</td><td>1</td><td>9</td></tr>",
            "<tr><td>bernadett2</td><td>Kovács Bernadett</td><td>2017-01-24</td><td>2017-01-30</td><td>3</td><td>7</td></tr>",
            "<tr><td>BERNADETTO</td><td>Orbán Bernadett</td><td>2016-04-10</td><td>2016-04-17</td><td>2</td><td>NULL</td></tr>",
            "<tr><td>BERNADETTO</td><td>Orbán Bernadett</td><td>2016-04-17</td><td>2016-04-19</td><td>2</td><td>2</td></tr>",
            "<tr><td>BERNADETTO</td><td>Orbán Bernadett</td><td>2016-06-07</td><td>2016-06-13</td><td>3</td><td>4</td></tr>",
            "<tr><td>BERNADETTO</td><td>Orbán Bernadett</td><td>2016-06-10</td><td>2016-06-16</td><td>4</td><td>7</td></tr>",
            "<tr><td>BERNADETTO</td><td>Orbán Bernadett</td><td>2016-10-04</td><td>2016-10-05</td><td>2</td><td>9</td></tr>",
            "<tr><td>BERNADETTO</td><td>Orbán Bernadett</td><td>2017-01-01</td><td>2017-01-02</td><td>3</td><td>9</td></tr>",
            "<tr><td>BERNADETTO</td><td>Orbán Bernadett</td><td>2017-01-28</td><td>2017-02-03</td><td>2</td><td>9</td></tr>",
            "<tr><td>bertalan</td><td>Csiger Bertalan</td><td>2016-05-18</td><td>2016-05-23</td><td>2</td><td>NULL</td></tr>",
            "<tr><td>bertalan</td><td>Csiger Bertalan</td><td>2016-06-20</td><td>2016-06-21</td><td>1</td><td>2</td></tr>",
            "<tr><td>bertalan</td><td>Csiger Bertalan</td><td>2016-11-03</td><td>2016-11-10</td><td>2</td><td>3</td></tr>",
            "<tr><td>bertalan</td><td>Csiger Bertalan</td><td>2016-11-26</td><td>2016-11-29</td><td>3</td><td>5</td></tr>",
            "<tr><td>bertalan</td><td>Csiger Bertalan</td><td>2017-02-16</td><td>2017-02-22</td><td>2</td><td>6</td></tr>",
            "<tr><td>bertalan</td><td>Csiger Bertalan</td><td>2017-02-20</td><td>2017-02-24</td><td>4</td><td>7</td></tr>",
            "<tr><td>brigitta</td><td>Székely Brigitta</td><td>2016-05-30</td><td>2016-06-06</td><td>3</td><td>NULL</td></tr>",
            "<tr><td>brigitta</td><td>Székely Brigitta</td><td>2016-08-28</td><td>2016-09-01</td><td>3</td><td>3</td></tr>",
            "<tr><td>brigitta</td><td>Székely Brigitta</td><td>2016-10-21</td><td>2016-10-28</td><td>3</td><td>6</td></tr>",
            "<tr><td>brigitta</td><td>Székely Brigitta</td><td>2016-12-17</td><td>2016-12-22</td><td>2</td><td>9</td></tr>",
            "<tr><td>brigitta</td><td>Székely Brigitta</td><td>2017-01-23</td><td>2017-01-25</td><td>1</td><td>8</td></tr>",
            "<tr><td>brigitta3</td><td>Pataki Brigitta</td><td>2016-06-01</td><td>2016-06-05</td><td>2</td><td>NULL</td></tr>",
            "<tr><td>brigitta3</td><td>Pataki Brigitta</td><td>2016-06-13</td><td>2016-06-17</td><td>3</td><td>2</td></tr>",
            "<tr><td>brigitta3</td><td>Pataki Brigitta</td><td>2016-10-10</td><td>2016-10-14</td><td>2</td><td>5</td></tr>",
            "<tr><td>brigitta3</td><td>Pataki Brigitta</td><td>2016-11-03</td><td>2016-11-09</td><td>3</td><td>7</td></tr>",
            "<tr><td>brigitta3</td><td>Pataki Brigitta</td><td>2017-02-09</td><td>2017-02-16</td><td>2</td><td>8</td></tr>",
            "<tr><td>csongor3</td><td>Nagymihály Csongor</td><td>2016-05-01</td><td>2016-05-04</td><td>2</td><td>NULL</td></tr>",
            "<tr><td>csongor3</td><td>Nagymihály Csongor</td><td>2016-05-08</td><td>2016-05-15</td><td>3</td><td>2</td></tr>",
            "<tr><td>csongor3</td><td>Nagymihály Csongor</td><td>2016-06-04</td><td>2016-06-05</td><td>2</td><td>5</td></tr>",
            "<tr><td>csongor3</td><td>Nagymihály Csongor</td><td>2016-06-10</td><td>2016-06-17</td><td>3</td><td>7</td></tr>",
            "<tr><td>csongor3</td><td>Nagymihály Csongor</td><td>2016-06-11</td><td>2016-06-14</td><td>2</td><td>8</td></tr>",
            "<tr><td>csongor3</td><td>Nagymihály Csongor</td><td>2016-07-09</td><td>2016-07-10</td><td>4</td><td>7</td></tr>",
            "<tr><td>csongor3</td><td>Nagymihály Csongor</td><td>2016-11-12</td><td>2016-11-17</td><td>3</td><td>9</td></tr>",
            "<tr><td>csongor3</td><td>Nagymihály Csongor</td><td>2017-02-13</td><td>2017-02-19</td><td>3</td><td>9</td></tr>",
            "<tr><td>dani</td><td>Vörös Dániel</td><td>2016-06-06</td><td>2016-06-10</td><td>3</td><td>NULL</td></tr>",
            "<tr><td>dani</td><td>Vörös Dániel</td><td>2016-07-11</td><td>2016-07-12</td><td>3</td><td>3</td></tr>",
            "<tr><td>dani</td><td>Vörös Dániel</td><td>2016-08-06</td><td>2016-08-09</td><td>2</td><td>6</td></tr>",
            "<tr><td>dani</td><td>Vörös Dániel</td><td>2016-09-19</td><td>2016-09-25</td><td>4</td><td>8</td></tr>",
            "<tr><td>dani</td><td>Vörös Dániel</td><td>2016-10-01</td><td>2016-10-02</td><td>1</td><td>9</td></tr>",
            "<tr><td>dani</td><td>Vörös Dániel</td><td>2016-11-22</td><td>2016-11-24</td><td>2</td><td>7</td></tr>",
            "<tr><td>dani</td><td>Vörös Dániel</td><td>2017-01-17</td><td>2017-01-23</td><td>2</td><td>7</td></tr>",
            "<tr><td>dani</td><td>Vörös Dániel</td><td>2017-01-22</td><td>2017-01-29</td><td>1</td><td>5</td></tr>",
            "<tr><td>dani</td><td>Vörös Dániel</td><td>2017-02-25</td><td>2017-03-01</td><td>3</td><td>5</td></tr>",
            "<tr><td>daniel</td><td>Rácz Dániel</td><td>2016-04-10</td><td>2016-04-11</td><td>4</td><td>NULL</td></tr>",
            "<tr><td>daniel</td><td>Rácz Dániel</td><td>2016-04-22</td><td>2016-04-25</td><td>2</td><td>4</td></tr>",
            "<tr><td>daniel</td><td>Rácz Dániel</td><td>2016-05-09</td><td>2016-05-13</td><td>3</td><td>6</td></tr>",
            "<tr><td>daniel</td><td>Rácz Dániel</td><td>2016-09-08</td><td>2016-09-10</td><td>4</td><td>9</td></tr>",
            "<tr><td>daniel</td><td>Rácz Dániel</td><td>2016-11-13</td><td>2016-11-19</td><td>3</td><td>9</td></tr>",
            "<tr><td>daniel</td><td>Rácz Dániel</td><td>2016-12-25</td><td>2016-12-26</td><td>3</td><td>10</td></tr>",
            "<tr><td>daniel</td><td>Rácz Dániel</td><td>2017-01-09</td><td>2017-01-11</td><td>1</td><td>10</td></tr>",
            "<tr><td>daniel</td><td>Rácz Dániel</td><td>2017-02-12</td><td>2017-02-13</td><td>3</td><td>7</td></tr>",
            "<tr><td>daniel</td><td>Rácz Dániel</td><td>2017-02-20</td><td>2017-02-23</td><td>3</td><td>7</td></tr>",
            "<tr><td>daniel1</td><td>Keszler Dániel</td><td>2016-04-10</td><td>2016-04-15</td><td>2</td><td>NULL</td></tr>",
            "<tr><td>daniel1</td><td>Keszler Dániel</td><td>2016-05-10</td><td>2016-05-13</td><td>4</td><td>2</td></tr>",
            "<tr><td>daniel1</td><td>Keszler Dániel</td><td>2016-05-26</td><td>2016-05-27</td><td>3</td><td>6</td></tr>",
            "<tr><td>daniel1</td><td>Keszler Dániel</td><td>2016-11-09</td><td>2016-11-11</td><td>2</td><td>9</td></tr>",
            "<tr><td>daniel1</td><td>Keszler Dániel</td><td>2016-11-23</td><td>2016-11-25</td><td>2</td><td>9</td></tr>",
            "<tr><td>daniel1</td><td>Keszler Dániel</td><td>2017-01-05</td><td>2017-01-08</td><td>3</td><td>7</td></tr>",
            "<tr><td>daniel1</td><td>Keszler Dániel</td><td>2017-03-01</td><td>2017-03-06</td><td>4</td><td>7</td></tr>",
            "<tr><td>david</td><td>Ambrus Dávid</td><td>2016-05-18</td><td>2016-05-25</td><td>2</td><td>NULL</td></tr>",
            "<tr><td>david</td><td>Ambrus Dávid</td><td>2016-06-09</td><td>2016-06-10</td><td>2</td><td>2</td></tr>",
            "<tr><td>david</td><td>Ambrus Dávid</td><td>2016-06-30</td><td>2016-07-07</td><td>2</td><td>4</td></tr>",
            "<tr><td>david</td><td>Ambrus Dávid</td><td>2016-07-18</td><td>2016-07-21</td><td>2</td><td>6</td></tr>",
            "<tr><td>david</td><td>Ambrus Dávid</td><td>2016-08-05</td><td>2016-08-12</td><td>1</td><td>6</td></tr>",
            "<tr><td>david</td><td>Ambrus Dávid</td><td>2016-08-20</td><td>2016-08-25</td><td>3</td><td>5</td></tr>",
            "<tr><td>david</td><td>Ambrus Dávid</td><td>2016-08-22</td><td>2016-08-24</td><td>3</td><td>6</td></tr>",
            "<tr><td>david</td><td>Ambrus Dávid</td><td>2016-10-30</td><td>2016-11-04</td><td>2</td><td>7</td></tr>",
            "<tr><td>david</td><td>Ambrus Dávid</td><td>2017-01-18</td><td>2017-01-19</td><td>2</td><td>8</td></tr>",
            "<tr><td>david1</td><td>Sobják Dávid</td><td>2016-09-20</td><td>2016-09-21</td><td>2</td><td>NULL</td></tr>",
            "<tr><td>david1</td><td>Sobják Dávid</td><td>2016-10-01</td><td>2016-10-02</td><td>2</td><td>2</td></tr>",
            "<tr><td>david1</td><td>Sobják Dávid</td><td>2016-11-19</td><td>2016-11-22</td><td>2</td><td>4</td></tr>",
            "<tr><td>david1</td><td>Sobják Dávid</td><td>2016-12-30</td><td>2017-01-06</td><td>2</td><td>6</td></tr>",
            "<tr><td>david1</td><td>Sobják Dávid</td><td>2017-02-17</td><td>2017-02-20</td><td>3</td><td>6</td></tr>",
            "<tr><td>david1</td><td>Sobják Dávid</td><td>2017-02-25</td><td>2017-02-27</td><td>4</td><td>7</td></tr>",
            "<tr><td>david4</td><td>Berta Dávid</td><td>2017-02-16</td><td>2017-02-19</td><td>3</td><td>NULL</td></tr>",
            "<tr><td>debora</td><td>Barna Debóra</td><td>2016-06-22</td><td>2016-06-24</td><td>5</td><td>NULL</td></tr>",
            "<tr><td>debora</td><td>Barna Debóra</td><td>2016-10-29</td><td>2016-11-03</td><td>2</td><td>5</td></tr>",
            "<tr><td>debora</td><td>Barna Debóra</td><td>2017-01-23</td><td>2017-01-28</td><td>3</td><td>7</td></tr>",
            "<tr><td>debora</td><td>Barna Debóra</td><td>2017-02-04</td><td>2017-02-06</td><td>3</td><td>10</td></tr>",
            "<tr><td>denes</td><td>Tömböly Dénes</td><td>2016-05-27</td><td>2016-05-31</td><td>3</td><td>NULL</td></tr>",
            "<tr><td>denes</td><td>Tömböly Dénes</td><td>2016-07-19</td><td>2016-07-23</td><td>2</td><td>3</td></tr>",
            "<tr><td>denes</td><td>Tömböly Dénes</td><td>2016-08-01</td><td>2016-08-08</td><td>3</td><td>5</td></tr>",
            "<tr><td>denes</td><td>Tömböly Dénes</td><td>2016-08-16</td><td>2016-08-23</td><td>2</td><td>8</td></tr>",
            "<tr><td>denes</td><td>Tömböly Dénes</td><td>2016-08-20</td><td>2016-08-27</td><td>3</td><td>7</td></tr>",
            "<tr><td>denes</td><td>Tömböly Dénes</td><td>2016-11-06</td><td>2016-11-10</td><td>2</td><td>8</td></tr>",
            "<tr><td>dora3</td><td>Sarodi Dóra</td><td>2016-08-16</td><td>2016-08-19</td><td>4</td><td>NULL</td></tr>",
            "<tr><td>dora3</td><td>Sarodi Dóra</td><td>2016-08-25</td><td>2016-08-29</td><td>3</td><td>4</td></tr>",
            "<tr><td>dora3</td><td>Sarodi Dóra</td><td>2016-10-09</td><td>2016-10-12</td><td>3</td><td>7</td></tr>",
            "<tr><td>dora3</td><td>Sarodi Dóra</td><td>2016-10-29</td><td>2016-11-02</td><td>3</td><td>10</td></tr>",
            "<tr><td>dora3</td><td>Sarodi Dóra</td><td>2016-11-22</td><td>2016-11-29</td><td>3</td><td>9</td></tr>",
            "<tr><td>edit</td><td>Bittmann Edit</td><td>2016-07-14</td><td>2016-07-17</td><td>3</td><td>NULL</td></tr>",
            "<tr><td>edit</td><td>Bittmann Edit</td><td>2016-08-03</td><td>2016-08-09</td><td>4</td><td>3</td></tr>",
            "<tr><td>edit</td><td>Bittmann Edit</td><td>2016-08-12</td><td>2016-08-14</td><td>2</td><td>7</td></tr>",
            "<tr><td>edit</td><td>Bittmann Edit</td><td>2016-09-17</td><td>2016-09-24</td><td>2</td><td>9</td></tr>",
            "<tr><td>edit</td><td>Bittmann Edit</td><td>2016-09-18</td><td>2016-09-21</td><td>3</td><td>8</td></tr>",
            "<tr><td>edit</td><td>Bittmann Edit</td><td>2017-01-15</td><td>2017-01-18</td><td>4</td><td>7</td></tr>",
            "<tr><td>edit</td><td>Bittmann Edit</td><td>2017-02-08</td><td>2017-02-14</td><td>3</td><td>9</td></tr>",
            "<tr><td>emese</td><td>Kuruc Emese</td><td>2016-07-22</td><td>2016-07-24</td><td>2</td><td>NULL</td></tr>",
            "<tr><td>emese</td><td>Kuruc Emese</td><td>2016-08-09</td><td>2016-08-12</td><td>2</td><td>2</td></tr>",
            "<tr><td>emese</td><td>Kuruc Emese</td><td>2016-09-27</td><td>2016-09-28</td><td>3</td><td>4</td></tr>",
            "<tr><td>emese</td><td>Kuruc Emese</td><td>2016-11-05</td><td>2016-11-09</td><td>1</td><td>7</td></tr>",
            "<tr><td>emese</td><td>Kuruc Emese</td><td>2016-11-23</td><td>2016-11-27</td><td>4</td><td>6</td></tr>",
            "<tr><td>emese</td><td>Kuruc Emese</td><td>2016-12-07</td><td>2016-12-08</td><td>3</td><td>8</td></tr>",
            "<tr><td>emese</td><td>Kuruc Emese</td><td>2017-01-30</td><td>2017-01-31</td><td>2</td><td>8</td></tr>",
            "<tr><td>eszter</td><td>Molnár Eszter</td><td>2016-08-12</td><td>2016-08-18</td><td>3</td><td>NULL</td></tr>",
            "<tr><td>eszter</td><td>Molnár Eszter</td><td>2016-10-04</td><td>2016-10-10</td><td>3</td><td>3</td></tr>",
            "<tr><td>eszter</td><td>Molnár Eszter</td><td>2016-10-26</td><td>2016-11-01</td><td>3</td><td>6</td></tr>",
            "<tr><td>eszter</td><td>Molnár Eszter</td><td>2016-12-23</td><td>2016-12-28</td><td>2</td><td>9</td></tr>",
            "<tr><td>eszter2</td><td>Balogh Eszter</td><td>2016-06-30</td><td>2016-07-07</td><td>3</td><td>NULL</td></tr>",
            "<tr><td>eszter2</td><td>Balogh Eszter</td><td>2016-07-08</td><td>2016-07-09</td><td>1</td><td>3</td></tr>",
            "<tr><td>eszter2</td><td>Balogh Eszter</td><td>2016-10-01</td><td>2016-10-05</td><td>3</td><td>4</td></tr>",
            "<tr><td>eszter2</td><td>Balogh Eszter</td><td>2016-10-01</td><td>2016-10-06</td><td>1</td><td>7</td></tr>",
            "<tr><td>eszter2</td><td>Balogh Eszter</td><td>2016-10-20</td><td>2016-10-25</td><td>1</td><td>5</td></tr>",
            "<tr><td>eszter2</td><td>Balogh Eszter</td><td>2016-10-23</td><td>2016-10-30</td><td>1</td><td>5</td></tr>",
            "<tr><td>eszter2</td><td>Balogh Eszter</td><td>2016-11-05</td><td>2016-11-12</td><td>4</td><td>3</td></tr>",
            "<tr><td>eszter2</td><td>Balogh Eszter</td><td>2016-12-02</td><td>2016-12-07</td><td>1</td><td>6</td></tr>",
            "<tr><td>eszter2</td><td>Balogh Eszter</td><td>2016-12-05</td><td>2016-12-08</td><td>2</td><td>6</td></tr>",
            "<tr><td>eszter2</td><td>Balogh Eszter</td><td>2016-12-29</td><td>2017-02-04</td><td>1</td><td>7</td></tr>",
            "<tr><td>eszter4</td><td>Fülöp Eszter</td><td>2017-01-05</td><td>2017-01-10</td><td>2</td><td>NULL</td></tr>",
            "<tr><td>eszter4</td><td>Fülöp Eszter</td><td>2017-01-26</td><td>2017-02-02</td><td>2</td><td>2</td></tr>",
            "<tr><td>eszter4</td><td>Fülöp Eszter</td><td>2017-02-26</td><td>2017-02-27</td><td>3</td><td>4</td></tr>",
            "<tr><td>ESZTERE</td><td>Érsek Eszter</td><td>2016-05-30</td><td>2016-06-05</td><td>2</td><td>NULL</td></tr>",
            "<tr><td>ESZTERE</td><td>Érsek Eszter</td><td>2016-07-19</td><td>2016-07-21</td><td>2</td><td>2</td></tr>",
            "<tr><td>ESZTERE</td><td>Érsek Eszter</td><td>2016-11-01</td><td>2016-11-08</td><td>2</td><td>4</td></tr>",
            "<tr><td>ESZTERE</td><td>Érsek Eszter</td><td>2017-02-10</td><td>2017-02-14</td><td>2</td><td>6</td></tr>",
            "<tr><td>eva</td><td>Enyedi Éva</td><td>2016-10-06</td><td>2016-10-09</td><td>3</td><td>NULL</td></tr>",
            "<tr><td>eva</td><td>Enyedi Éva</td><td>2017-01-14</td><td>2017-01-16</td><td>2</td><td>3</td></tr>",
            "<tr><td>eva2</td><td>Perlinger Éva</td><td>2016-09-02</td><td>2016-09-03</td><td>1</td><td>NULL</td></tr>",
            "<tr><td>eva2</td><td>Perlinger Éva</td><td>2016-11-06</td><td>2016-11-13</td><td>2</td><td>1</td></tr>",
            "<tr><td>eva2</td><td>Perlinger Éva</td><td>2016-12-06</td><td>2016-12-11</td><td>2</td><td>3</td></tr>",
            "<tr><td>eva2</td><td>Perlinger Éva</td><td>2017-01-06</td><td>2017-01-09</td><td>4</td><td>5</td></tr>",
            "<tr><td>EVAV</td><td>Viktor Éva</td><td>2016-05-01</td><td>2016-05-05</td><td>3</td><td>NULL</td></tr>",
            "<tr><td>EVAV</td><td>Viktor Éva</td><td>2016-08-31</td><td>2016-09-04</td><td>2</td><td>3</td></tr>",
            "<tr><td>EVAV</td><td>Viktor Éva</td><td>2016-10-15</td><td>2016-10-21</td><td>3</td><td>5</td></tr>",
            "<tr><td>EVAV</td><td>Viktor Éva</td><td>2016-10-16</td><td>2016-10-23</td><td>2</td><td>8</td></tr>",
            "<tr><td>EVAV</td><td>Viktor Éva</td><td>2017-02-04</td><td>2017-02-11</td><td>5</td><td>7</td></tr>",
            "<tr><td>ferenc1</td><td>Orosz Ferenc</td><td>2016-05-08</td><td>2016-05-11</td><td>2</td><td>NULL</td></tr>",
            "<tr><td>ferenc1</td><td>Orosz Ferenc</td><td>2016-06-16</td><td>2016-06-22</td><td>2</td><td>2</td></tr>",
            "<tr><td>ferenc1</td><td>Orosz Ferenc</td><td>2016-10-08</td><td>2016-10-09</td><td>2</td><td>4</td></tr>",
            "<tr><td>ferenc1</td><td>Orosz Ferenc</td><td>2016-11-07</td><td>2016-11-08</td><td>3</td><td>6</td></tr>",
            "<tr><td>fruzsina4</td><td>Frank Fruzsina</td><td>2016-06-02</td><td>2016-06-04</td><td>2</td><td>NULL</td></tr>",
            "<tr><td>fruzsina4</td><td>Frank Fruzsina</td><td>2016-07-01</td><td>2016-07-04</td><td>3</td><td>2</td></tr>",
            "<tr><td>fruzsina4</td><td>Frank Fruzsina</td><td>2016-07-13</td><td>2016-07-19</td><td>3</td><td>5</td></tr>",
            "<tr><td>fruzsina4</td><td>Frank Fruzsina</td><td>2016-08-27</td><td>2016-08-30</td><td>4</td><td>8</td></tr>",
            "<tr><td>fruzsina4</td><td>Frank Fruzsina</td><td>2016-09-29</td><td>2016-10-01</td><td>3</td><td>10</td></tr>",
            "<tr><td>fruzsina4</td><td>Frank Fruzsina</td><td>2016-11-22</td><td>2016-11-24</td><td>2</td><td>10</td></tr>",
            "<tr><td>fruzsina4</td><td>Frank Fruzsina</td><td>2016-12-16</td><td>2016-12-21</td><td>1</td><td>9</td></tr>",
            "<tr><td>fruzsina4</td><td>Frank Fruzsina</td><td>2017-01-22</td><td>2017-01-25</td><td>4</td><td>6</td></tr>",
            "<tr><td>gabor1</td><td>Köves Gábor</td><td>2016-06-20</td><td>2016-06-21</td><td>4</td><td>NULL</td></tr>",
            "<tr><td>gabor1</td><td>Köves Gábor</td><td>2016-07-12</td><td>2016-07-15</td><td>1</td><td>4</td></tr>",
            "<tr><td>gabor1</td><td>Köves Gábor</td><td>2016-07-28</td><td>2016-07-30</td><td>2</td><td>5</td></tr>",
            "<tr><td>gabor1</td><td>Köves Gábor</td><td>2016-09-02</td><td>2016-09-03</td><td>3</td><td>7</td></tr>",
            "<tr><td>gabor1</td><td>Köves Gábor</td><td>2016-10-20</td><td>2016-10-24</td><td>1</td><td>6</td></tr>",
            "<tr><td>gabor1</td><td>Köves Gábor</td><td>2016-11-19</td><td>2016-11-22</td><td>2</td><td>6</td></tr>",
            "<tr><td>gabor4</td><td>Telek Gábor</td><td>2016-04-26</td><td>2016-04-29</td><td>3</td><td>NULL</td></tr>",
            "<tr><td>gabor4</td><td>Telek Gábor</td><td>2016-05-30</td><td>2016-06-05</td><td>1</td><td>3</td></tr>",
            "<tr><td>gabor4</td><td>Telek Gábor</td><td>2016-08-31</td><td>2016-09-06</td><td>4</td><td>4</td></tr>",
            "<tr><td>gabor4</td><td>Telek Gábor</td><td>2016-11-07</td><td>2016-11-13</td><td>4</td><td>8</td></tr>",
            "<tr><td>gabriella1</td><td>Nagy Gabriella</td><td>2016-04-21</td><td>2016-04-24</td><td>3</td><td>NULL</td></tr>",
            "<tr><td>gabriella1</td><td>Nagy Gabriella</td><td>2016-07-10</td><td>2016-07-11</td><td>3</td><td>3</td></tr>",
            "<tr><td>gabriella1</td><td>Nagy Gabriella</td><td>2016-07-24</td><td>2016-07-31</td><td>2</td><td>6</td></tr>",
            "<tr><td>gabriella1</td><td>Nagy Gabriella</td><td>2017-02-04</td><td>2017-02-11</td><td>3</td><td>8</td></tr>",
            "<tr><td>gabriella1</td><td>Nagy Gabriella</td><td>2017-02-12</td><td>2017-02-13</td><td>2</td><td>8</td></tr>",
            "<tr><td>gabriella1</td><td>Nagy Gabriella</td><td>2017-02-21</td><td>2017-02-27</td><td>3</td><td>7</td></tr>",
            "<tr><td>gabriella10</td><td>Vida Gabriella</td><td>2016-10-01</td><td>2016-10-06</td><td>3</td><td>NULL</td></tr>",
            "<tr><td>georgij</td><td>Nyíri Georgij</td><td>2016-06-16</td><td>2016-06-20</td><td>3</td><td>NULL</td></tr>",
            "<tr><td>georgij</td><td>Nyíri Georgij</td><td>2016-08-16</td><td>2016-08-22</td><td>4</td><td>3</td></tr>",
            "<tr><td>georgij</td><td>Nyíri Georgij</td><td>2016-08-28</td><td>2016-09-04</td><td>2</td><td>7</td></tr>",
            "<tr><td>georgij</td><td>Nyíri Georgij</td><td>2016-09-18</td><td>2016-09-24</td><td>3</td><td>9</td></tr>",
            "<tr><td>gusztav</td><td>Bárci Gusztáv</td><td>2016-05-06</td><td>2016-05-13</td><td>2</td><td>NULL</td></tr>",
            "<tr><td>gusztav</td><td>Bárci Gusztáv</td><td>2016-08-05</td><td>2016-08-11</td><td>3</td><td>2</td></tr>",
            "<tr><td>gusztav</td><td>Bárci Gusztáv</td><td>2016-10-01</td><td>2016-10-03</td><td>3</td><td>5</td></tr>",
            "<tr><td>gusztav</td><td>Bárci Gusztáv</td><td>2017-02-03</td><td>2017-02-09</td><td>2</td><td>8</td></tr>",
            "<tr><td>gusztav</td><td>Bárci Gusztáv</td><td>2017-02-23</td><td>2017-03-01</td><td>4</td><td>8</td></tr>",
            "<tr><td>GYONGYIK</td><td>Kornseé Gyöngyi</td><td>2016-06-02</td><td>2016-06-05</td><td>3</td><td>NULL</td></tr>",
            "<tr><td>GYONGYIK</td><td>Kornseé Gyöngyi</td><td>2016-06-10</td><td>2016-06-17</td><td>1</td><td>3</td></tr>",
            "<tr><td>GYONGYIK</td><td>Kornseé Gyöngyi</td><td>2016-07-01</td><td>2016-07-05</td><td>2</td><td>4</td></tr>",
            "<tr><td>GYONGYIK</td><td>Kornseé Gyöngyi</td><td>2016-08-17</td><td>2016-08-21</td><td>3</td><td>6</td></tr>",
            "<tr><td>GYONGYIK</td><td>Kornseé Gyöngyi</td><td>2016-11-08</td><td>2016-11-13</td><td>2</td><td>6</td></tr>",
            "<tr><td>GYONGYIK</td><td>Kornseé Gyöngyi</td><td>2016-12-01</td><td>2016-12-08</td><td>2</td><td>7</td></tr>",
            "<tr><td>GYONGYIK</td><td>Kornseé Gyöngyi</td><td>2017-01-22</td><td>2017-01-29</td><td>3</td><td>7</td></tr>",
            "<tr><td>GYORGYO</td><td>Oroszi György</td><td>2016-05-27</td><td>2016-05-28</td><td>3</td><td>NULL</td></tr>",
            "<tr><td>GYORGYO</td><td>Oroszi György</td><td>2016-06-01</td><td>2016-06-07</td><td>2</td><td>3</td></tr>",
            "<tr><td>GYORGYO</td><td>Oroszi György</td><td>2016-06-10</td><td>2016-06-15</td><td>2</td><td>5</td></tr>",
            "<tr><td>GYORGYO</td><td>Oroszi György</td><td>2016-07-18</td><td>2016-07-25</td><td>2</td><td>7</td></tr>",
            "<tr><td>GYORGYO</td><td>Oroszi György</td><td>2016-07-28</td><td>2016-08-03</td><td>3</td><td>6</td></tr>",
            "<tr><td>GYORGYO</td><td>Oroszi György</td><td>2016-10-28</td><td>2016-10-31</td><td>1</td><td>7</td></tr>",
            "<tr><td>GYORGYO</td><td>Oroszi György</td><td>2017-02-13</td><td>2017-02-15</td><td>2</td><td>6</td></tr>",
            "<tr><td>GYORGYO</td><td>Oroszi György</td><td>2017-02-24</td><td>2017-02-25</td><td>3</td><td>6</td></tr>",
            "<tr><td>henrik3</td><td>Nádudvari Henrik</td><td>2016-08-24</td><td>2016-08-28</td><td>1</td><td>NULL</td></tr>",
            "<tr><td>henrik3</td><td>Nádudvari Henrik</td><td>2016-12-29</td><td>2017-01-03</td><td>3</td><td>1</td></tr>",
            "<tr><td>henrik3</td><td>Nádudvari Henrik</td><td>2017-01-27</td><td>2017-01-28</td><td>3</td><td>4</td></tr>",
            "<tr><td>IBOLYAA</td><td>Andor Ibolya</td><td>2016-08-29</td><td>2016-08-31</td><td>5</td><td>NULL</td></tr>",
            "<tr><td>IBOLYAA</td><td>Andor Ibolya</td><td>2016-10-23</td><td>2016-10-28</td><td>2</td><td>5</td></tr>",
            "<tr><td>IBOLYAA</td><td>Andor Ibolya</td><td>2017-01-17</td><td>2017-01-23</td><td>3</td><td>7</td></tr>",
            "<tr><td>ilona3</td><td>Bosnyák Ilona</td><td>2016-07-31</td><td>2016-08-06</td><td>2</td><td>NULL</td></tr>",
            "<tr><td>ilona3</td><td>Bosnyák Ilona</td><td>2016-08-04</td><td>2016-08-08</td><td>3</td><td>2</td></tr>",
            "<tr><td>ilona3</td><td>Bosnyák Ilona</td><td>2016-11-04</td><td>2016-11-06</td><td>4</td><td>5</td></tr>",
            "<tr><td>ilona3</td><td>Bosnyák Ilona</td><td>2016-12-25</td><td>2016-12-31</td><td>3</td><td>9</td></tr>",
            "<tr><td>imre</td><td>Búza Imre</td><td>2016-09-17</td><td>2016-09-19</td><td>3</td><td>NULL</td></tr>",
            "<tr><td>imre</td><td>Búza Imre</td><td>2016-10-28</td><td>2016-10-29</td><td>4</td><td>3</td></tr>",
            "<tr><td>imre1</td><td>Papp Imre</td><td>2016-06-23</td><td>2016-06-26</td><td>4</td><td>NULL</td></tr>",
            "<tr><td>imre1</td><td>Papp Imre</td><td>2016-06-27</td><td>2016-06-28</td><td>2</td><td>4</td></tr>",
            "<tr><td>imre1</td><td>Papp Imre</td><td>2016-08-21</td><td>2016-08-27</td><td>2</td><td>6</td></tr>",
            "<tr><td>imre1</td><td>Papp Imre</td><td>2016-08-23</td><td>2016-08-25</td><td>3</td><td>8</td></tr>",
            "<tr><td>imre1</td><td>Papp Imre</td><td>2016-08-29</td><td>2016-08-31</td><td>2</td><td>7</td></tr>",
            "<tr><td>imre1</td><td>Papp Imre</td><td>2017-02-01</td><td>2017-02-04</td><td>2</td><td>7</td></tr>",
            "<tr><td>imre1</td><td>Papp Imre</td><td>2017-02-05</td><td>2017-02-07</td><td>4</td><td>7</td></tr>",
            "<tr><td>istvan</td><td>Soós István</td><td>2016-10-07</td><td>2016-10-10</td><td>2</td><td>NULL</td></tr>",
            "<tr><td>istvan</td><td>Soós István</td><td>2016-11-22</td><td>2016-11-24</td><td>3</td><td>2</td></tr>",
            "<tr><td>istvan</td><td>Soós István</td><td>2017-01-02</td><td>2017-01-05</td><td>2</td><td>5</td></tr>",
            "<tr><td>istvan1</td><td>Vizi István</td><td>2016-04-16</td><td>2016-04-22</td><td>3</td><td>NULL</td></tr>",
            "<tr><td>istvan1</td><td>Vizi István</td><td>2016-04-24</td><td>2016-04-28</td><td>3</td><td>3</td></tr>",
            "<tr><td>istvan1</td><td>Vizi István</td><td>2016-07-19</td><td>2016-07-24</td><td>1</td><td>6</td></tr>",
            "<tr><td>istvan1</td><td>Vizi István</td><td>2017-02-07</td><td>2017-02-10</td><td>3</td><td>7</td></tr>",
            "<tr><td>ISTVANV</td><td>Varga István</td><td>2016-07-01</td><td>2016-07-04</td><td>4</td><td>NULL</td></tr>",
            "<tr><td>ISTVANV</td><td>Varga István</td><td>2016-09-29</td><td>2016-10-01</td><td>3</td><td>4</td></tr>",
            "<tr><td>janos3</td><td>Harangozó János</td><td>2016-06-04</td><td>2016-06-06</td><td>1</td><td>NULL</td></tr>",
            "<tr><td>janos3</td><td>Harangozó János</td><td>2016-08-24</td><td>2016-08-25</td><td>3</td><td>1</td></tr>",
            "<tr><td>janos3</td><td>Harangozó János</td><td>2016-10-03</td><td>2016-10-08</td><td>3</td><td>4</td></tr>",
            "<tr><td>janos3</td><td>Harangozó János</td><td>2016-10-22</td><td>2016-10-23</td><td>1</td><td>7</td></tr>",
            "<tr><td>janos3</td><td>Harangozó János</td><td>2017-02-12</td><td>2017-02-14</td><td>3</td><td>7</td></tr>",
            "<tr><td>JANOSG</td><td>Giliga János</td><td>2016-05-09</td><td>2016-05-15</td><td>1</td><td>NULL</td></tr>",
            "<tr><td>JANOSG</td><td>Giliga János</td><td>2016-08-16</td><td>2016-08-23</td><td>3</td><td>1</td></tr>",
            "<tr><td>JANOSG</td><td>Giliga János</td><td>2016-08-30</td><td>2016-09-03</td><td>3</td><td>4</td></tr>",
            "<tr><td>JANOSG</td><td>Giliga János</td><td>2016-11-07</td><td>2016-11-14</td><td>3</td><td>7</td></tr>",
            "<tr><td>JANOSG</td><td>Giliga János</td><td>2016-12-28</td><td>2016-12-30</td><td>2</td><td>9</td></tr>",
            "<tr><td>JANOSG</td><td>Giliga János</td><td>2017-01-10</td><td>2017-01-15</td><td>2</td><td>8</td></tr>",
            "<tr><td>JANOSG</td><td>Giliga János</td><td>2017-01-31</td><td>2017-02-05</td><td>2</td><td>7</td></tr>",
            "<tr><td>JANOSP</td><td>Pálinkás János</td><td>2016-07-04</td><td>2016-07-11</td><td>3</td><td>NULL</td></tr>",
            "<tr><td>JANOSP</td><td>Pálinkás János</td><td>2016-11-23</td><td>2016-11-28</td><td>2</td><td>3</td></tr>",
            "<tr><td>JANOSP</td><td>Pálinkás János</td><td>2016-11-25</td><td>2016-11-27</td><td>2</td><td>5</td></tr>",
            "<tr><td>JANOSP</td><td>Pálinkás János</td><td>2016-12-18</td><td>2016-12-21</td><td>2</td><td>7</td></tr>",
            "<tr><td>jozsef</td><td>Gergely József</td><td>2016-09-13</td><td>2016-09-19</td><td>2</td><td>NULL</td></tr>",
            "<tr><td>jozsef</td><td>Gergely József</td><td>2016-10-08</td><td>2016-10-10</td><td>2</td><td>2</td></tr>",
            "<tr><td>jozsef</td><td>Gergely József</td><td>2016-12-06</td><td>2016-12-07</td><td>2</td><td>4</td></tr>",
            "<tr><td>jozsef2</td><td>Vajda József</td><td>2016-07-06</td><td>2016-07-11</td><td>2</td><td>NULL</td></tr>",
            "<tr><td>jozsef2</td><td>Vajda József</td><td>2016-07-16</td><td>2016-07-20</td><td>3</td><td>2</td></tr>",
            "<tr><td>jozsef2</td><td>Vajda József</td><td>2016-09-09</td><td>2016-09-15</td><td>2</td><td>5</td></tr>",
            "<tr><td>jozsef2</td><td>Vajda József</td><td>2016-11-23</td><td>2016-11-29</td><td>3</td><td>7</td></tr>",
            "<tr><td>jozsef2</td><td>Vajda József</td><td>2016-11-25</td><td>2016-11-29</td><td>3</td><td>8</td></tr>",
            "<tr><td>JOZSEFG</td><td>Gyuris József</td><td>2016-05-02</td><td>2016-05-06</td><td>2</td><td>NULL</td></tr>",
            "<tr><td>JOZSEFG</td><td>Gyuris József</td><td>2016-05-23</td><td>2016-05-25</td><td>1</td><td>2</td></tr>",
            "<tr><td>JOZSEFG</td><td>Gyuris József</td><td>2016-06-04</td><td>2016-06-09</td><td>4</td><td>3</td></tr>",
            "<tr><td>JOZSEFG</td><td>Gyuris József</td><td>2016-08-24</td><td>2016-08-27</td><td>3</td><td>7</td></tr>",
            "<tr><td>JOZSEFG</td><td>Gyuris József</td><td>2017-01-09</td><td>2017-01-13</td><td>2</td><td>8</td></tr>",
            "<tr><td>JOZSEFG</td><td>Gyuris József</td><td>2017-01-22</td><td>2017-01-26</td><td>1</td><td>9</td></tr>",
            "<tr><td>JOZSEFG</td><td>Gyuris József</td><td>2017-02-24</td><td>2017-03-03</td><td>3</td><td>6</td></tr>",
            "<tr><td>JUDITH</td><td>Hídasi Judit</td><td>2016-06-06</td><td>2016-06-10</td><td>2</td><td>NULL</td></tr>",
            "<tr><td>JUDITH</td><td>Hídasi Judit</td><td>2016-07-28</td><td>2016-07-30</td><td>2</td><td>2</td></tr>",
            "<tr><td>JUDITH</td><td>Hídasi Judit</td><td>2016-12-19</td><td>2016-12-26</td><td>1</td><td>4</td></tr>",
            "<tr><td>julia</td><td>Tóth Júlia</td><td>2016-04-21</td><td>2016-04-26</td><td>2</td><td>NULL</td></tr>",
            "<tr><td>julia</td><td>Tóth Júlia</td><td>2016-05-12</td><td>2016-05-17</td><td>1</td><td>2</td></tr>",
            "<tr><td>julia</td><td>Tóth Júlia</td><td>2016-06-07</td><td>2016-06-08</td><td>5</td><td>3</td></tr>",
            "<tr><td>julia</td><td>Tóth Júlia</td><td>2016-07-20</td><td>2016-07-22</td><td>2</td><td>8</td></tr>",
            "<tr><td>julia</td><td>Tóth Júlia</td><td>2017-02-27</td><td>2017-03-06</td><td>3</td><td>8</td></tr>",
            "<tr><td>julia4</td><td>Nagy Júlia</td><td>2016-11-07</td><td>2016-11-12</td><td>1</td><td>NULL</td></tr>",
            "<tr><td>julia4</td><td>Nagy Júlia</td><td>2017-02-04</td><td>2017-02-11</td><td>4</td><td>1</td></tr>",
            "<tr><td>julianna4</td><td>Szabó Julianna</td><td>2016-07-20</td><td>2016-07-26</td><td>2</td><td>NULL</td></tr>",
            "<tr><td>julianna4</td><td>Szabó Julianna</td><td>2016-10-29</td><td>2016-10-31</td><td>3</td><td>2</td></tr>",
            "<tr><td>julianna4</td><td>Szabó Julianna</td><td>2016-11-03</td><td>2016-11-04</td><td>2</td><td>5</td></tr>",
            "<tr><td>julianna4</td><td>Szabó Julianna</td><td>2016-11-27</td><td>2016-12-04</td><td>3</td><td>7</td></tr>",
            "<tr><td>kata</td><td>Gondos Katalin</td><td>2016-04-10</td><td>2016-04-11</td><td>2</td><td>NULL</td></tr>",
            "<tr><td>kata</td><td>Gondos Katalin</td><td>2016-04-25</td><td>2016-05-01</td><td>1</td><td>2</td></tr>",
            "<tr><td>kata</td><td>Gondos Katalin</td><td>2016-05-31</td><td>2016-06-01</td><td>3</td><td>3</td></tr>",
            "<tr><td>kata</td><td>Gondos Katalin</td><td>2016-06-07</td><td>2016-06-12</td><td>2</td><td>6</td></tr>",
            "<tr><td>kata</td><td>Gondos Katalin</td><td>2016-07-01</td><td>2016-07-07</td><td>2</td><td>6</td></tr>",
            "<tr><td>kata</td><td>Gondos Katalin</td><td>2016-07-03</td><td>2016-07-06</td><td>1</td><td>7</td></tr>",
            "<tr><td>kata</td><td>Gondos Katalin</td><td>2016-07-07</td><td>2016-07-09</td><td>3</td><td>5</td></tr>",
            "<tr><td>kata</td><td>Gondos Katalin</td><td>2016-08-24</td><td>2016-08-27</td><td>3</td><td>6</td></tr>",
            "<tr><td>kata</td><td>Gondos Katalin</td><td>2016-09-19</td><td>2016-09-20</td><td>3</td><td>7</td></tr>",
            "<tr><td>kata</td><td>Gondos Katalin</td><td>2017-01-15</td><td>2017-01-21</td><td>3</td><td>9</td></tr>",
            "<tr><td>katalin</td><td>Horváth Katalin</td><td>2016-04-10</td><td>2016-04-17</td><td>2</td><td>NULL</td></tr>",
            "<tr><td>katalin</td><td>Horváth Katalin</td><td>2016-05-21</td><td>2016-05-26</td><td>1</td><td>2</td></tr>",
            "<tr><td>katalin</td><td>Horváth Katalin</td><td>2016-07-06</td><td>2016-07-11</td><td>1</td><td>3</td></tr>",
            "<tr><td>katalin</td><td>Horváth Katalin</td><td>2016-07-28</td><td>2016-07-29</td><td>1</td><td>4</td></tr>",
            "<tr><td>katalin</td><td>Horváth Katalin</td><td>2016-10-26</td><td>2016-10-30</td><td>2</td><td>3</td></tr>",
            "<tr><td>katalin</td><td>Horváth Katalin</td><td>2016-12-13</td><td>2016-12-19</td><td>2</td><td>4</td></tr>",
            "<tr><td>katalin</td><td>Horváth Katalin</td><td>2016-12-17</td><td>2016-12-24</td><td>1</td><td>5</td></tr>",
            "<tr><td>katalin</td><td>Horváth Katalin</td><td>2016-12-24</td><td>2016-12-27</td><td>2</td><td>5</td></tr>",
            "<tr><td>katalin</td><td>Horváth Katalin</td><td>2017-02-24</td><td>2017-02-27</td><td>3</td><td>5</td></tr>",
            "<tr><td>katalin4</td><td>Kertész Katalin</td><td>2016-07-01</td><td>2016-07-07</td><td>1</td><td>NULL</td></tr>",
            "<tr><td>katalin4</td><td>Kertész Katalin</td><td>2016-07-03</td><td>2016-07-04</td><td>4</td><td>1</td></tr>",
            "<tr><td>katalin4</td><td>Kertész Katalin</td><td>2016-11-27</td><td>2016-12-04</td><td>3</td><td>5</td></tr>",
            "<tr><td>katalin4</td><td>Kertész Katalin</td><td>2016-12-04</td><td>2016-12-09</td><td>3</td><td>8</td></tr>",
            "<tr><td>katalin4</td><td>Kertész Katalin</td><td>2017-01-18</td><td>2017-01-20</td><td>2</td><td>10</td></tr>",
            "<tr><td>katalin4</td><td>Kertész Katalin</td><td>2017-01-24</td><td>2017-01-31</td><td>2</td><td>8</td></tr>",
            "<tr><td>kati</td><td>Zatykó Katalin</td><td>2016-06-06</td><td>2016-06-10</td><td>2</td><td>NULL</td></tr>",
            "<tr><td>kati</td><td>Zatykó Katalin</td><td>2016-06-06</td><td>2016-06-11</td><td>3</td><td>2</td></tr>",
            "<tr><td>kati</td><td>Zatykó Katalin</td><td>2016-07-13</td><td>2016-07-20</td><td>2</td><td>5</td></tr>",
            "<tr><td>kati</td><td>Zatykó Katalin</td><td>2016-07-27</td><td>2016-08-03</td><td>2</td><td>7</td></tr>",
            "<tr><td>kati</td><td>Zatykó Katalin</td><td>2016-08-03</td><td>2016-08-07</td><td>2</td><td>7</td></tr>",
            "<tr><td>kati</td><td>Zatykó Katalin</td><td>2016-10-26</td><td>2016-10-28</td><td>2</td><td>6</td></tr>",
            "<tr><td>kati</td><td>Zatykó Katalin</td><td>2016-10-30</td><td>2016-11-01</td><td>3</td><td>6</td></tr>",
            "<tr><td>katka</td><td>Kovács Katalin</td><td>2016-04-10</td><td>2016-04-12</td><td>2</td><td>NULL</td></tr>",
            "<tr><td>katka</td><td>Kovács Katalin</td><td>2016-05-09</td><td>2016-05-15</td><td>3</td><td>2</td></tr>",
            "<tr><td>katka</td><td>Kovács Katalin</td><td>2016-06-13</td><td>2016-06-18</td><td>1</td><td>5</td></tr>",
            "<tr><td>katka</td><td>Kovács Katalin</td><td>2016-06-13</td><td>2016-06-19</td><td>4</td><td>6</td></tr>",
            "<tr><td>katka</td><td>Kovács Katalin</td><td>2016-08-24</td><td>2016-08-26</td><td>2</td><td>8</td></tr>",
            "<tr><td>katka</td><td>Kovács Katalin</td><td>2016-09-05</td><td>2016-09-10</td><td>4</td><td>7</td></tr>",
            "<tr><td>katka</td><td>Kovács Katalin</td><td>2016-11-05</td><td>2016-11-08</td><td>3</td><td>10</td></tr>",
            "<tr><td>katka</td><td>Kovács Katalin</td><td>2017-01-02</td><td>2017-01-05</td><td>3</td><td>9</td></tr>",
            "<tr><td>katka</td><td>Kovács Katalin</td><td>2017-01-19</td><td>2017-01-20</td><td>3</td><td>10</td></tr>",
            "<tr><td>klaudia2</td><td>Bakó Klaudia</td><td>2016-06-06</td><td>2016-06-08</td><td>4</td><td>NULL</td></tr>",
            "<tr><td>klaudia2</td><td>Bakó Klaudia</td><td>2016-10-01</td><td>2016-10-02</td><td>2</td><td>4</td></tr>",
            "<tr><td>klaudia2</td><td>Bakó Klaudia</td><td>2016-10-02</td><td>2016-10-05</td><td>2</td><td>6</td></tr>",
            "<tr><td>kornel4</td><td>Lukács Kornél</td><td>2016-05-08</td><td>2016-05-14</td><td>3</td><td>NULL</td></tr>",
            "<tr><td>kornel4</td><td>Lukács Kornél</td><td>2016-06-02</td><td>2016-06-09</td><td>3</td><td>3</td></tr>",
            "<tr><td>kornel4</td><td>Lukács Kornél</td><td>2016-09-23</td><td>2016-09-24</td><td>3</td><td>6</td></tr>",
            "<tr><td>kristof4</td><td>Poprádi Kristóf</td><td>2016-04-08</td><td>2016-04-14</td><td>2</td><td>NULL</td></tr>",
            "<tr><td>kristof4</td><td>Poprádi Kristóf</td><td>2016-09-30</td><td>2016-10-04</td><td>2</td><td>2</td></tr>",
            "<tr><td>kriszti</td><td>Horváth Krisztina</td><td>2016-05-19</td><td>2016-05-26</td><td>2</td><td>NULL</td></tr>",
            "<tr><td>kriszti</td><td>Horváth Krisztina</td><td>2016-08-24</td><td>2016-08-25</td><td>3</td><td>2</td></tr>",
            "<tr><td>kriszti</td><td>Horváth Krisztina</td><td>2016-09-30</td><td>2016-10-05</td><td>3</td><td>5</td></tr>",
            "<tr><td>kriszti</td><td>Horváth Krisztina</td><td>2016-10-01</td><td>2016-10-02</td><td>3</td><td>8</td></tr>",
            "<tr><td>kriszti</td><td>Horváth Krisztina</td><td>2017-02-04</td><td>2017-02-11</td><td>3</td><td>9</td></tr>",
            "<tr><td>kriszti</td><td>Horváth Krisztina</td><td>2017-03-03</td><td>2017-03-04</td><td>3</td><td>9</td></tr>",
            "<tr><td>krisztian4</td><td>Czérna Krisztián</td><td>2016-06-03</td><td>2016-06-04</td><td>2</td><td>NULL</td></tr>",
            "<tr><td>krisztian4</td><td>Czérna Krisztián</td><td>2016-06-07</td><td>2016-06-09</td><td>2</td><td>2</td></tr>",
            "<tr><td>krisztian4</td><td>Czérna Krisztián</td><td>2016-07-28</td><td>2016-08-01</td><td>2</td><td>4</td></tr>",
            "<tr><td>krisztian4</td><td>Czérna Krisztián</td><td>2016-08-01</td><td>2016-08-04</td><td>3</td><td>6</td></tr>",
            "<tr><td>krisztian4</td><td>Czérna Krisztián</td><td>2016-08-16</td><td>2016-08-19</td><td>1</td><td>7</td></tr>",
            "<tr><td>krisztian4</td><td>Czérna Krisztián</td><td>2016-08-29</td><td>2016-09-03</td><td>1</td><td>6</td></tr>",
            "<tr><td>krisztian4</td><td>Czérna Krisztián</td><td>2016-10-17</td><td>2016-10-22</td><td>3</td><td>5</td></tr>",
            "<tr><td>krisztian4</td><td>Czérna Krisztián</td><td>2016-11-02</td><td>2016-11-03</td><td>2</td><td>5</td></tr>",
            "<tr><td>krisztian4</td><td>Czérna Krisztián</td><td>2016-12-11</td><td>2016-12-18</td><td>2</td><td>6</td></tr>",
            "<tr><td>krisztian4</td><td>Czérna Krisztián</td><td>2017-01-06</td><td>2017-01-09</td><td>1</td><td>7</td></tr>",
            "<tr><td>krisztian4</td><td>Czérna Krisztián</td><td>2017-01-16</td><td>2017-01-23</td><td>3</td><td>5</td></tr>",
            "<tr><td>krisztian4</td><td>Czérna Krisztián</td><td>2017-02-23</td><td>2017-03-02</td><td>2</td><td>6</td></tr>",
            "<tr><td>KRISZTIANM</td><td>Mogyródi Krisztián</td><td>2016-04-09</td><td>2016-04-15</td><td>2</td><td>NULL</td></tr>",
            "<tr><td>KRISZTIANM</td><td>Mogyródi Krisztián</td><td>2016-06-04</td><td>2016-06-08</td><td>2</td><td>2</td></tr>",
            "<tr><td>KRISZTIANM</td><td>Mogyródi Krisztián</td><td>2016-07-09</td><td>2016-07-14</td><td>3</td><td>4</td></tr>",
            "<tr><td>KRISZTIANM</td><td>Mogyródi Krisztián</td><td>2016-08-02</td><td>2016-08-08</td><td>4</td><td>7</td></tr>",
            "<tr><td>KRISZTIANM</td><td>Mogyródi Krisztián</td><td>2016-12-25</td><td>2016-12-31</td><td>2</td><td>9</td></tr>",
            "<tr><td>KRISZTIANM</td><td>Mogyródi Krisztián</td><td>2017-01-16</td><td>2017-01-23</td><td>1</td><td>9</td></tr>",
            "<tr><td>krisztina</td><td>Szedlár Krisztina</td><td>2016-05-21</td><td>2016-05-27</td><td>2</td><td>NULL</td></tr>",
            "<tr><td>krisztina</td><td>Szedlár Krisztina</td><td>2016-07-05</td><td>2016-07-12</td><td>3</td><td>2</td></tr>",
            "<tr><td>krisztina</td><td>Szedlár Krisztina</td><td>2016-09-13</td><td>2016-09-16</td><td>1</td><td>5</td></tr>",
            "<tr><td>krisztina</td><td>Szedlár Krisztina</td><td>2016-09-19</td><td>2016-09-26</td><td>2</td><td>6</td></tr>",
            "<tr><td>krisztina</td><td>Szedlár Krisztina</td><td>2016-11-08</td><td>2016-11-12</td><td>2</td><td>6</td></tr>",
            "<tr><td>krisztina</td><td>Szedlár Krisztina</td><td>2016-11-22</td><td>2016-11-25</td><td>1</td><td>5</td></tr>",
            "<tr><td>krisztina</td><td>Szedlár Krisztina</td><td>2017-02-05</td><td>2017-02-07</td><td>2</td><td>5</td></tr>",
            "<tr><td>krisztina</td><td>Szedlár Krisztina</td><td>2017-02-16</td><td>2017-02-20</td><td>4</td><td>5</td></tr>",
            "<tr><td>krisztina1</td><td>Bori Krisztina</td><td>2016-04-28</td><td>2016-04-30</td><td>2</td><td>NULL</td></tr>",
            "<tr><td>krisztina1</td><td>Bori Krisztina</td><td>2016-05-16</td><td>2016-05-20</td><td>1</td><td>2</td></tr>",
            "<tr><td>krisztina1</td><td>Bori Krisztina</td><td>2016-06-16</td><td>2016-06-22</td><td>2</td><td>3</td></tr>",
            "<tr><td>krisztina1</td><td>Bori Krisztina</td><td>2016-09-15</td><td>2016-09-20</td><td>3</td><td>5</td></tr>",
            "<tr><td>krisztina1</td><td>Bori Krisztina</td><td>2016-10-29</td><td>2016-10-30</td><td>4</td><td>6</td></tr>",
            "<tr><td>krisztina1</td><td>Bori Krisztina</td><td>2017-01-21</td><td>2017-01-24</td><td>2</td><td>9</td></tr>",
            "<tr><td>KRISZTINAG</td><td>Gyárfás Krisztina</td><td>2016-04-23</td><td>2016-04-24</td><td>2</td><td>NULL</td></tr>",
            "<tr><td>KRISZTINAG</td><td>Gyárfás Krisztina</td><td>2016-05-24</td><td>2016-05-31</td><td>1</td><td>2</td></tr>",
            "<tr><td>KRISZTINAG</td><td>Gyárfás Krisztina</td><td>2016-06-08</td><td>2016-06-12</td><td>1</td><td>3</td></tr>",
            "<tr><td>KRISZTINAG</td><td>Gyárfás Krisztina</td><td>2016-08-08</td><td>2016-08-12</td><td>3</td><td>4</td></tr>",
            "<tr><td>KRISZTINAG</td><td>Gyárfás Krisztina</td><td>2017-01-25</td><td>2017-01-30</td><td>2</td><td>5</td></tr>",
            "<tr><td>lajos</td><td>Kiss Lajos</td><td>2016-07-18</td><td>2016-07-21</td><td>2</td><td>NULL</td></tr>",
            "<tr><td>lajos</td><td>Kiss Lajos</td><td>2016-12-25</td><td>2016-12-28</td><td>4</td><td>2</td></tr>",
            "<tr><td>lajos</td><td>Kiss Lajos</td><td>2017-02-12</td><td>2017-02-13</td><td>1</td><td>6</td></tr>",
            "<tr><td>lala</td><td>Nagymihály Lajos</td><td>2016-06-16</td><td>2016-06-22</td><td>2</td><td>NULL</td></tr>",
            "<tr><td>lala</td><td>Nagymihály Lajos</td><td>2016-07-20</td><td>2016-07-21</td><td>3</td><td>2</td></tr>",
            "<tr><td>lala</td><td>Nagymihály Lajos</td><td>2016-07-26</td><td>2016-07-27</td><td>3</td><td>5</td></tr>",
            "<tr><td>lala</td><td>Nagymihály Lajos</td><td>2016-10-30</td><td>2016-10-31</td><td>3</td><td>8</td></tr>",
            "<tr><td>lala</td><td>Nagymihály Lajos</td><td>2017-01-08</td><td>2017-01-10</td><td>3</td><td>9</td></tr>",
            "<tr><td>lala</td><td>Nagymihály Lajos</td><td>2017-01-17</td><td>2017-01-19</td><td>2</td><td>9</td></tr>",
            "<tr><td>laszlo1</td><td>Farkas László</td><td>2016-09-23</td><td>2016-09-30</td><td>3</td><td>NULL</td></tr>",
            "<tr><td>laszlo2</td><td>Móra László</td><td>2016-04-06</td><td>2016-04-10</td><td>2</td><td>NULL</td></tr>",
            "<tr><td>laszlo2</td><td>Móra László</td><td>2016-04-27</td><td>2016-04-29</td><td>2</td><td>2</td></tr>",
            "<tr><td>laszlo2</td><td>Móra László</td><td>2016-08-14</td><td>2016-08-15</td><td>3</td><td>4</td></tr>",
            "<tr><td>laszlo2</td><td>Móra László</td><td>2016-09-05</td><td>2016-09-10</td><td>3</td><td>7</td></tr>",
            "<tr><td>laszlo2</td><td>Móra László</td><td>2016-11-25</td><td>2016-11-26</td><td>3</td><td>8</td></tr>",
            "<tr><td>LASZLOA</td><td>Antal László</td><td>2016-06-03</td><td>2016-06-09</td><td>2</td><td>NULL</td></tr>",
            "<tr><td>LASZLOA</td><td>Antal László</td><td>2016-06-07</td><td>2016-06-11</td><td>1</td><td>2</td></tr>",
            "<tr><td>LASZLOA</td><td>Antal László</td><td>2016-06-10</td><td>2016-06-13</td><td>3</td><td>3</td></tr>",
            "<tr><td>LASZLOA</td><td>Antal László</td><td>2017-02-08</td><td>2017-02-14</td><td>2</td><td>6</td></tr>",
            "<tr><td>LASZLON</td><td>Nagy László</td><td>2016-06-03</td><td>2016-06-06</td><td>1</td><td>NULL</td></tr>",
            "<tr><td>LASZLON</td><td>Nagy László</td><td>2016-06-08</td><td>2016-06-09</td><td>2</td><td>1</td></tr>",
            "<tr><td>LASZLON</td><td>Nagy László</td><td>2016-10-01</td><td>2016-10-04</td><td>3</td><td>3</td></tr>",
            "<tr><td>LASZLON</td><td>Nagy László</td><td>2016-10-09</td><td>2016-10-14</td><td>1</td><td>6</td></tr>",
            "<tr><td>LASZLON</td><td>Nagy László</td><td>2016-11-29</td><td>2016-12-04</td><td>1</td><td>6</td></tr>",
            "<tr><td>LASZLON</td><td>Nagy László</td><td>2017-02-18</td><td>2017-02-25</td><td>3</td><td>5</td></tr>",
            "<tr><td>maria1</td><td>Baráth Mária</td><td>2016-05-13</td><td>2016-05-18</td><td>2</td><td>NULL</td></tr>",
            "<tr><td>maria1</td><td>Baráth Mária</td><td>2016-05-18</td><td>2016-05-19</td><td>1</td><td>2</td></tr>",
            "<tr><td>maria1</td><td>Baráth Mária</td><td>2016-05-28</td><td>2016-06-03</td><td>2</td><td>3</td></tr>",
            "<tr><td>maria1</td><td>Baráth Mária</td><td>2016-06-23</td><td>2016-06-27</td><td>1</td><td>5</td></tr>",
            "<tr><td>maria1</td><td>Baráth Mária</td><td>2016-08-11</td><td>2016-08-14</td><td>3</td><td>4</td></tr>",
            "<tr><td>maria1</td><td>Baráth Mária</td><td>2016-09-02</td><td>2016-09-05</td><td>1</td><td>6</td></tr>",
            "<tr><td>maria1</td><td>Baráth Mária</td><td>2016-11-08</td><td>2016-11-12</td><td>3</td><td>5</td></tr>",
            "<tr><td>maria1</td><td>Baráth Mária</td><td>2017-02-24</td><td>2017-03-02</td><td>2</td><td>7</td></tr>",
            "<tr><td>mark</td><td>Kispál Márk</td><td>2016-04-19</td><td>2016-04-26</td><td>4</td><td>NULL</td></tr>",
            "<tr><td>mark</td><td>Kispál Márk</td><td>2016-06-13</td><td>2016-06-18</td><td>3</td><td>4</td></tr>",
            "<tr><td>mark</td><td>Kispál Márk</td><td>2016-08-09</td><td>2016-08-16</td><td>3</td><td>7</td></tr>",
            "<tr><td>mark</td><td>Kispál Márk</td><td>2016-10-20</td><td>2016-10-27</td><td>1</td><td>10</td></tr>",
            "<tr><td>mark</td><td>Kispál Márk</td><td>2016-11-19</td><td>2016-11-22</td><td>2</td><td>7</td></tr>",
            "<tr><td>MARKH</td><td>Horváth Márk</td><td>2016-09-14</td><td>2016-09-17</td><td>3</td><td>NULL</td></tr>",
            "<tr><td>MARKH</td><td>Horváth Márk</td><td>2016-09-23</td><td>2016-09-30</td><td>2</td><td>3</td></tr>",
            "<tr><td>MARKH</td><td>Horváth Márk</td><td>2016-09-26</td><td>2016-10-01</td><td>4</td><td>5</td></tr>",
            "<tr><td>MARKH</td><td>Horváth Márk</td><td>2017-01-22</td><td>2017-01-29</td><td>4</td><td>9</td></tr>",
            "<tr><td>marton</td><td>Kalacsi Márton</td><td>2016-04-27</td><td>2016-05-04</td><td>3</td><td>NULL</td></tr>",
            "<tr><td>marton</td><td>Kalacsi Márton</td><td>2016-05-05</td><td>2016-05-10</td><td>1</td><td>3</td></tr>",
            "<tr><td>marton</td><td>Kalacsi Márton</td><td>2016-06-06</td><td>2016-06-08</td><td>3</td><td>4</td></tr>",
            "<tr><td>marton</td><td>Kalacsi Márton</td><td>2016-06-22</td><td>2016-06-29</td><td>2</td><td>7</td></tr>",
            "<tr><td>marton</td><td>Kalacsi Márton</td><td>2016-08-12</td><td>2016-08-17</td><td>2</td><td>6</td></tr>",
            "<tr><td>marton</td><td>Kalacsi Márton</td><td>2016-09-10</td><td>2016-09-12</td><td>2</td><td>7</td></tr>",
            "<tr><td>marton</td><td>Kalacsi Márton</td><td>2017-03-02</td><td>2017-03-03</td><td>2</td><td>6</td></tr>",
            "<tr><td>MATEK</td><td>Koza Máté</td><td>2016-08-17</td><td>2016-08-21</td><td>4</td><td>NULL</td></tr>",
            "<tr><td>MATEK</td><td>Koza Máté</td><td>2016-10-01</td><td>2016-10-04</td><td>2</td><td>4</td></tr>",
            "<tr><td>MATEK</td><td>Koza Máté</td><td>2017-01-16</td><td>2017-01-22</td><td>2</td><td>6</td></tr>",
            "<tr><td>matyas2</td><td>Botka Mátyás</td><td>2016-07-13</td><td>2016-07-16</td><td>2</td><td>NULL</td></tr>",
            "<tr><td>matyas2</td><td>Botka Mátyás</td><td>2016-12-09</td><td>2016-12-13</td><td>3</td><td>2</td></tr>",
            "<tr><td>MATYASS</td><td>Szilágyi Mátyás</td><td>2016-05-10</td><td>2016-05-16</td><td>2</td><td>NULL</td></tr>",
            "<tr><td>MATYASS</td><td>Szilágyi Mátyás</td><td>2016-06-02</td><td>2016-06-08</td><td>1</td><td>2</td></tr>",
            "<tr><td>MATYASS</td><td>Szilágyi Mátyás</td><td>2016-07-23</td><td>2016-07-25</td><td>3</td><td>3</td></tr>",
            "<tr><td>MATYASS</td><td>Szilágyi Mátyás</td><td>2016-10-09</td><td>2016-10-15</td><td>3</td><td>6</td></tr>",
            "<tr><td>MATYASS</td><td>Szilágyi Mátyás</td><td>2016-10-24</td><td>2016-10-31</td><td>1</td><td>7</td></tr>",
            "<tr><td>MATYASS</td><td>Szilágyi Mátyás</td><td>2016-10-30</td><td>2016-11-04</td><td>3</td><td>7</td></tr>",
            "<tr><td>MATYASS</td><td>Szilágyi Mátyás</td><td>2016-12-20</td><td>2016-12-25</td><td>2</td><td>7</td></tr>",
            "<tr><td>MATYASS</td><td>Szilágyi Mátyás</td><td>2017-01-09</td><td>2017-01-13</td><td>2</td><td>6</td></tr>",
            "<tr><td>MIHALYJ</td><td>Juhász Mihály</td><td>2016-05-30</td><td>2016-06-01</td><td>2</td><td>NULL</td></tr>",
            "<tr><td>MIHALYJ</td><td>Juhász Mihály</td><td>2016-06-27</td><td>2016-07-01</td><td>1</td><td>2</td></tr>",
            "<tr><td>MIHALYJ</td><td>Juhász Mihály</td><td>2016-08-29</td><td>2016-09-03</td><td>1</td><td>3</td></tr>",
            "<tr><td>MIHALYJ</td><td>Juhász Mihály</td><td>2016-11-01</td><td>2016-11-04</td><td>3</td><td>4</td></tr>",
            "<tr><td>MIHALYJ</td><td>Juhász Mihály</td><td>2017-02-06</td><td>2017-02-12</td><td>4</td><td>5</td></tr>",
            "<tr><td>miklos2</td><td>Gondos Miklós</td><td>2016-04-19</td><td>2016-04-21</td><td>3</td><td>NULL</td></tr>",
            "<tr><td>miklos2</td><td>Gondos Miklós</td><td>2016-10-08</td><td>2016-10-09</td><td>1</td><td>3</td></tr>",
            "<tr><td>miklos2</td><td>Gondos Miklós</td><td>2016-11-16</td><td>2016-11-18</td><td>3</td><td>4</td></tr>",
            "<tr><td>MIKLOSB</td><td>Balla Miklós</td><td>2016-06-26</td><td>2016-06-30</td><td>2</td><td>NULL</td></tr>",
            "<tr><td>MIKLOSB</td><td>Balla Miklós</td><td>2016-07-18</td><td>2016-07-21</td><td>2</td><td>2</td></tr>",
            "<tr><td>MIKLOSB</td><td>Balla Miklós</td><td>2016-12-05</td><td>2016-12-10</td><td>2</td><td>4</td></tr>",
            "<tr><td>MONIKAM</td><td>Mohos Mónika</td><td>2016-04-29</td><td>2016-05-01</td><td>2</td><td>NULL</td></tr>",
            "<tr><td>MONIKAM</td><td>Mohos Mónika</td><td>2016-07-23</td><td>2016-07-30</td><td>1</td><td>2</td></tr>",
            "<tr><td>MONIKAM</td><td>Mohos Mónika</td><td>2016-11-09</td><td>2016-11-16</td><td>2</td><td>3</td></tr>",
            "<tr><td>MONIKAM</td><td>Mohos Mónika</td><td>2017-01-17</td><td>2017-01-24</td><td>1</td><td>5</td></tr>",
            "<tr><td>MONIKAM</td><td>Mohos Mónika</td><td>2017-02-06</td><td>2017-02-09</td><td>2</td><td>4</td></tr>",
            "<tr><td>MONIKAM</td><td>Mohos Mónika</td><td>2017-02-23</td><td>2017-02-26</td><td>2</td><td>5</td></tr>",
            "<tr><td>NANDORF</td><td>Fő Nándor</td><td>2016-04-06</td><td>2016-04-10</td><td>3</td><td>NULL</td></tr>",
            "<tr><td>NANDORF</td><td>Fő Nándor</td><td>2016-11-03</td><td>2016-11-04</td><td>3</td><td>3</td></tr>",
            "<tr><td>NANDORF</td><td>Fő Nándor</td><td>2017-02-05</td><td>2017-02-08</td><td>3</td><td>6</td></tr>",
            "<tr><td>nikolett3</td><td>Horváth Nikolett</td><td>2016-05-24</td><td>2016-05-29</td><td>2</td><td>NULL</td></tr>",
            "<tr><td>nikolett3</td><td>Horváth Nikolett</td><td>2016-06-03</td><td>2016-06-09</td><td>1</td><td>2</td></tr>",
            "<tr><td>nikolett3</td><td>Horváth Nikolett</td><td>2016-06-22</td><td>2016-06-24</td><td>1</td><td>3</td></tr>",
            "<tr><td>nikolett3</td><td>Horváth Nikolett</td><td>2016-10-22</td><td>2016-10-29</td><td>3</td><td>4</td></tr>",
            "<tr><td>nikoletta4</td><td>Kő Nikoletta</td><td>2016-04-08</td><td>2016-04-10</td><td>2</td><td>NULL</td></tr>",
            "<tr><td>nikoletta4</td><td>Kő Nikoletta</td><td>2016-05-09</td><td>2016-05-15</td><td>2</td><td>2</td></tr>",
            "<tr><td>nikoletta4</td><td>Kő Nikoletta</td><td>2016-05-30</td><td>2016-06-03</td><td>3</td><td>4</td></tr>",
            "<tr><td>nikoletta4</td><td>Kő Nikoletta</td><td>2016-06-29</td><td>2016-07-06</td><td>2</td><td>7</td></tr>",
            "<tr><td>nikoletta4</td><td>Kő Nikoletta</td><td>2016-08-13</td><td>2016-08-17</td><td>3</td><td>7</td></tr>",
            "<tr><td>nikoletta4</td><td>Kő Nikoletta</td><td>2016-12-08</td><td>2016-12-10</td><td>5</td><td>8</td></tr>",
            "<tr><td>nikoletta4</td><td>Kő Nikoletta</td><td>2017-02-01</td><td>2017-02-04</td><td>2</td><td>10</td></tr>",
            "<tr><td>NIKOLETTAT</td><td>Tatár Nikoletta</td><td>2016-05-22</td><td>2016-05-23</td><td>4</td><td>NULL</td></tr>",
            "<tr><td>NIKOLETTAT</td><td>Tatár Nikoletta</td><td>2016-06-07</td><td>2016-06-09</td><td>2</td><td>4</td></tr>",
            "<tr><td>NIKOLETTAT</td><td>Tatár Nikoletta</td><td>2016-07-27</td><td>2016-07-29</td><td>4</td><td>6</td></tr>",
            "<tr><td>NIKOLETTAT</td><td>Tatár Nikoletta</td><td>2016-09-21</td><td>2016-09-26</td><td>2</td><td>10</td></tr>",
            "<tr><td>norbert</td><td>Szűcs Norbert</td><td>2016-07-08</td><td>2016-07-13</td><td>1</td><td>NULL</td></tr>",
            "<tr><td>norbert</td><td>Szűcs Norbert</td><td>2016-11-16</td><td>2016-11-23</td><td>3</td><td>1</td></tr>",
            "<tr><td>norbert</td><td>Szűcs Norbert</td><td>2016-12-15</td><td>2016-12-18</td><td>2</td><td>4</td></tr>",
            "<tr><td>norbert</td><td>Szűcs Norbert</td><td>2017-02-13</td><td>2017-02-15</td><td>3</td><td>6</td></tr>",
            "<tr><td>norbert</td><td>Szűcs Norbert</td><td>2017-02-26</td><td>2017-03-01</td><td>1</td><td>8</td></tr>",
            "<tr><td>norbert2</td><td>Hegedűs Norbert</td><td>2016-04-19</td><td>2016-04-26</td><td>1</td><td>NULL</td></tr>",
            "<tr><td>norbert2</td><td>Hegedűs Norbert</td><td>2016-05-09</td><td>2016-05-10</td><td>2</td><td>1</td></tr>",
            "<tr><td>norbert2</td><td>Hegedűs Norbert</td><td>2016-07-13</td><td>2016-07-15</td><td>3</td><td>3</td></tr>",
            "<tr><td>norbert2</td><td>Hegedűs Norbert</td><td>2016-07-27</td><td>2016-08-02</td><td>2</td><td>6</td></tr>",
            "<tr><td>norbert2</td><td>Hegedűs Norbert</td><td>2016-08-16</td><td>2016-08-19</td><td>1</td><td>7</td></tr>",
            "<tr><td>norbert2</td><td>Hegedűs Norbert</td><td>2016-10-31</td><td>2016-11-07</td><td>2</td><td>6</td></tr>",
            "<tr><td>norbert2</td><td>Hegedűs Norbert</td><td>2017-01-29</td><td>2017-02-05</td><td>3</td><td>5</td></tr>",
            "<tr><td>norbert4</td><td>Mile Norbert</td><td>2016-04-10</td><td>2016-04-13</td><td>2</td><td>NULL</td></tr>",
            "<tr><td>norbert4</td><td>Mile Norbert</td><td>2016-05-29</td><td>2016-06-03</td><td>3</td><td>2</td></tr>",
            "<tr><td>norbert4</td><td>Mile Norbert</td><td>2016-06-16</td><td>2016-06-17</td><td>4</td><td>5</td></tr>",
            "<tr><td>norbert4</td><td>Mile Norbert</td><td>2016-06-16</td><td>2016-06-21</td><td>3</td><td>9</td></tr>",
            "<tr><td>norbert4</td><td>Mile Norbert</td><td>2016-10-05</td><td>2016-10-10</td><td>3</td><td>10</td></tr>",
            "<tr><td>norbert4</td><td>Mile Norbert</td><td>2016-10-28</td><td>2016-10-31</td><td>3</td><td>10</td></tr>",
            "<tr><td>norbert4</td><td>Mile Norbert</td><td>2016-11-30</td><td>2016-12-06</td><td>3</td><td>9</td></tr>",
            "<tr><td>norbert4</td><td>Mile Norbert</td><td>2017-02-16</td><td>2017-02-17</td><td>1</td><td>9</td></tr>",
            "<tr><td>norbert4</td><td>Mile Norbert</td><td>2017-03-03</td><td>2017-03-07</td><td>2</td><td>7</td></tr>",
            "<tr><td>norbert5</td><td>Béres Norbert</td><td>2016-06-24</td><td>2016-06-28</td><td>2</td><td>NULL</td></tr>",
            "<tr><td>norbert5</td><td>Béres Norbert</td><td>2016-08-10</td><td>2016-08-11</td><td>2</td><td>2</td></tr>",
            "<tr><td>norbert5</td><td>Béres Norbert</td><td>2016-11-05</td><td>2016-11-07</td><td>1</td><td>4</td></tr>",
            "<tr><td>pal</td><td>Barabás Pál</td><td>2016-08-14</td><td>2016-08-18</td><td>3</td><td>NULL</td></tr>",
            "<tr><td>pal</td><td>Barabás Pál</td><td>2016-09-16</td><td>2016-09-19</td><td>2</td><td>3</td></tr>",
            "<tr><td>pal</td><td>Barabás Pál</td><td>2016-12-17</td><td>2016-12-23</td><td>3</td><td>5</td></tr>",
            "<tr><td>pal</td><td>Barabás Pál</td><td>2017-02-13</td><td>2017-02-19</td><td>3</td><td>8</td></tr>",
            "<tr><td>pal</td><td>Barabás Pál</td><td>2017-02-20</td><td>2017-02-22</td><td>3</td><td>8</td></tr>",
            "<tr><td>peter1</td><td>Kozma Péter</td><td>2016-07-14</td><td>2016-07-18</td><td>3</td><td>NULL</td></tr>",
            "<tr><td>peter1</td><td>Kozma Péter</td><td>2016-10-26</td><td>2016-11-01</td><td>3</td><td>3</td></tr>",
            "<tr><td>peter1</td><td>Kozma Péter</td><td>2017-02-23</td><td>2017-02-26</td><td>3</td><td>6</td></tr>",
            "<tr><td>peter1</td><td>Kozma Péter</td><td>2017-02-28</td><td>2017-03-05</td><td>3</td><td>9</td></tr>",
            "<tr><td>peter2</td><td>Bozsó Péter</td><td>2016-07-03</td><td>2016-07-08</td><td>2</td><td>NULL</td></tr>",
            "<tr><td>peter2</td><td>Bozsó Péter</td><td>2016-10-10</td><td>2016-10-16</td><td>2</td><td>2</td></tr>",
            "<tr><td>peter2</td><td>Bozsó Péter</td><td>2016-11-01</td><td>2016-11-02</td><td>2</td><td>4</td></tr>",
            "<tr><td>peter2</td><td>Bozsó Péter</td><td>2016-11-15</td><td>2016-11-21</td><td>3</td><td>6</td></tr>",
            "<tr><td>peter3</td><td>Szalai Péter</td><td>2016-06-30</td><td>2016-07-05</td><td>3</td><td>NULL</td></tr>",
            "<tr><td>peter3</td><td>Szalai Péter</td><td>2016-07-27</td><td>2016-07-31</td><td>4</td><td>3</td></tr>",
            "<tr><td>peter3</td><td>Szalai Péter</td><td>2016-10-30</td><td>2016-11-06</td><td>2</td><td>7</td></tr>",
            "<tr><td>peter3</td><td>Szalai Péter</td><td>2016-12-25</td><td>2016-12-28</td><td>1</td><td>9</td></tr>",
            "<tr><td>peter3</td><td>Szalai Péter</td><td>2017-01-12</td><td>2017-01-17</td><td>1</td><td>7</td></tr>",
            "<tr><td>peter3</td><td>Szalai Péter</td><td>2017-02-21</td><td>2017-02-24</td><td>2</td><td>4</td></tr>",
            "<tr><td>peter4</td><td>Bíró Péter</td><td>2016-04-12</td><td>2016-04-15</td><td>3</td><td>NULL</td></tr>",
            "<tr><td>peter4</td><td>Bíró Péter</td><td>2016-08-06</td><td>2016-08-13</td><td>2</td><td>3</td></tr>",
            "<tr><td>peter4</td><td>Bíró Péter</td><td>2016-08-24</td><td>2016-08-25</td><td>3</td><td>5</td></tr>",
            "<tr><td>peter4</td><td>Bíró Péter</td><td>2016-09-11</td><td>2016-09-17</td><td>4</td><td>8</td></tr>",
            "<tr><td>peter4</td><td>Bíró Péter</td><td>2016-09-25</td><td>2016-09-26</td><td>3</td><td>9</td></tr>",
            "<tr><td>peter4</td><td>Bíró Péter</td><td>2016-09-30</td><td>2016-10-06</td><td>3</td><td>10</td></tr>",
            "<tr><td>peter4</td><td>Bíró Péter</td><td>2016-10-09</td><td>2016-10-16</td><td>3</td><td>10</td></tr>",
            "<tr><td>peter4</td><td>Bíró Péter</td><td>2016-10-24</td><td>2016-10-25</td><td>2</td><td>9</td></tr>",
            "<tr><td>peter4</td><td>Bíró Péter</td><td>2016-10-30</td><td>2016-11-01</td><td>3</td><td>8</td></tr>",
            "<tr><td>peter4</td><td>Bíró Péter</td><td>2016-11-10</td><td>2016-11-17</td><td>3</td><td>8</td></tr>",
            "<tr><td>peter4</td><td>Bíró Péter</td><td>2016-11-25</td><td>2016-11-30</td><td>3</td><td>8</td></tr>",
            "<tr><td>peter4</td><td>Bíró Péter</td><td>2017-02-05</td><td>2017-02-09</td><td>3</td><td>9</td></tr>",
            "<tr><td>PETERB</td><td>Berendi Péter</td><td>2016-04-06</td><td>2016-04-10</td><td>1</td><td>NULL</td></tr>",
            "<tr><td>PETERB</td><td>Berendi Péter</td><td>2016-07-20</td><td>2016-07-24</td><td>2</td><td>1</td></tr>",
            "<tr><td>PETERB</td><td>Berendi Péter</td><td>2016-08-16</td><td>2016-08-23</td><td>1</td><td>3</td></tr>",
            "<tr><td>PETERB</td><td>Berendi Péter</td><td>2016-10-19</td><td>2016-10-20</td><td>4</td><td>4</td></tr>",
            "<tr><td>PETERB</td><td>Berendi Péter</td><td>2016-11-17</td><td>2016-11-20</td><td>2</td><td>7</td></tr>",
            "<tr><td>polla</td><td>Palágyi Polla</td><td>2016-04-17</td><td>2016-04-22</td><td>3</td><td>NULL</td></tr>",
            "<tr><td>polla</td><td>Palágyi Polla</td><td>2016-05-28</td><td>2016-06-04</td><td>2</td><td>3</td></tr>",
            "<tr><td>polla</td><td>Palágyi Polla</td><td>2016-08-14</td><td>2016-08-17</td><td>2</td><td>5</td></tr>",
            "<tr><td>polla</td><td>Palágyi Polla</td><td>2016-08-16</td><td>2016-08-19</td><td>4</td><td>7</td></tr>",
            "<tr><td>polla</td><td>Palágyi Polla</td><td>2017-01-29</td><td>2017-02-01</td><td>2</td><td>8</td></tr>",
            "<tr><td>polla</td><td>Palágyi Polla</td><td>2017-02-11</td><td>2017-02-16</td><td>2</td><td>8</td></tr>",
            "<tr><td>rajmond4</td><td>Rácz Rajmond</td><td>2016-09-05</td><td>2016-09-07</td><td>3</td><td>NULL</td></tr>",
            "<tr><td>rajmond4</td><td>Rácz Rajmond</td><td>2016-10-03</td><td>2016-10-04</td><td>3</td><td>3</td></tr>",
            "<tr><td>rajmond4</td><td>Rácz Rajmond</td><td>2016-11-08</td><td>2016-11-09</td><td>4</td><td>6</td></tr>",
            "<tr><td>rajmond4</td><td>Rácz Rajmond</td><td>2016-11-16</td><td>2016-11-20</td><td>2</td><td>10</td></tr>",
            "<tr><td>reka4</td><td>Szikszai Réka</td><td>2016-07-27</td><td>2016-07-31</td><td>2</td><td>NULL</td></tr>",
            "<tr><td>reka4</td><td>Szikszai Réka</td><td>2016-08-02</td><td>2016-08-04</td><td>4</td><td>2</td></tr>",
            "<tr><td>reka4</td><td>Szikszai Réka</td><td>2016-09-05</td><td>2016-09-07</td><td>3</td><td>6</td></tr>",
            "<tr><td>reka4</td><td>Szikszai Réka</td><td>2016-09-30</td><td>2016-10-06</td><td>2</td><td>9</td></tr>",
            "<tr><td>reka4</td><td>Szikszai Réka</td><td>2017-02-26</td><td>2017-03-04</td><td>2</td><td>9</td></tr>",
            "<tr><td>RENATAK</td><td>Kardos Renáta</td><td>2016-10-27</td><td>2016-10-29</td><td>4</td><td>NULL</td></tr>",
            "<tr><td>RENATAK</td><td>Kardos Renáta</td><td>2016-10-30</td><td>2016-10-31</td><td>1</td><td>4</td></tr>",
            "<tr><td>RENATAK</td><td>Kardos Renáta</td><td>2016-11-23</td><td>2016-11-26</td><td>1</td><td>5</td></tr>",
            "<tr><td>RENATAK</td><td>Kardos Renáta</td><td>2017-01-23</td><td>2017-01-24</td><td>3</td><td>6</td></tr>",
            "<tr><td>RENATAK</td><td>Kardos Renáta</td><td>2017-02-16</td><td>2017-02-23</td><td>1</td><td>5</td></tr>",
            "<tr><td>RENATAK</td><td>Kardos Renáta</td><td>2017-03-01</td><td>2017-03-06</td><td>1</td><td>5</td></tr>",
            "<tr><td>RENATAS</td><td>Szirmai Renáta</td><td>2016-05-04</td><td>2016-05-11</td><td>2</td><td>NULL</td></tr>",
            "<tr><td>RENATAS</td><td>Szirmai Renáta</td><td>2016-05-11</td><td>2016-05-16</td><td>2</td><td>2</td></tr>",
            "<tr><td>RENATAS</td><td>Szirmai Renáta</td><td>2016-06-24</td><td>2016-06-30</td><td>5</td><td>4</td></tr>",
            "<tr><td>RENATAS</td><td>Szirmai Renáta</td><td>2017-02-13</td><td>2017-02-17</td><td>1</td><td>9</td></tr>",
            "<tr><td>RENATAS</td><td>Szirmai Renáta</td><td>2017-02-14</td><td>2017-02-17</td><td>2</td><td>8</td></tr>",
            "<tr><td>robert2</td><td>Patay Róbert</td><td>2016-05-15</td><td>2016-05-18</td><td>2</td><td>NULL</td></tr>",
            "<tr><td>robert2</td><td>Patay Róbert</td><td>2016-08-20</td><td>2016-08-27</td><td>2</td><td>2</td></tr>",
            "<tr><td>robert2</td><td>Patay Róbert</td><td>2016-10-23</td><td>2016-10-28</td><td>3</td><td>4</td></tr>",
            "<tr><td>robert2</td><td>Patay Róbert</td><td>2016-12-17</td><td>2016-12-22</td><td>1</td><td>7</td></tr>",
            "<tr><td>ROBERTI</td><td>Iván Róbert</td><td>2016-07-12</td><td>2016-07-19</td><td>4</td><td>NULL</td></tr>",
            "<tr><td>ROBERTI</td><td>Iván Róbert</td><td>2016-08-16</td><td>2016-08-21</td><td>2</td><td>4</td></tr>",
            "<tr><td>ROBERTI</td><td>Iván Róbert</td><td>2016-08-23</td><td>2016-08-25</td><td>2</td><td>6</td></tr>",
            "<tr><td>ROBERTI</td><td>Iván Róbert</td><td>2016-10-08</td><td>2016-10-12</td><td>3</td><td>8</td></tr>",
            "<tr><td>ROBERTI</td><td>Iván Róbert</td><td>2016-10-09</td><td>2016-10-10</td><td>2</td><td>7</td></tr>",
            "<tr><td>ROBERTI</td><td>Iván Róbert</td><td>2016-10-23</td><td>2016-10-29</td><td>1</td><td>7</td></tr>",
            "<tr><td>ROBERTI</td><td>Iván Róbert</td><td>2016-10-26</td><td>2016-11-01</td><td>2</td><td>6</td></tr>",
            "<tr><td>ROBERTI</td><td>Iván Róbert</td><td>2017-02-17</td><td>2017-02-20</td><td>2</td><td>5</td></tr>",
            "<tr><td>ROBERTP</td><td>Pásztor Róbert</td><td>2016-07-30</td><td>2016-08-05</td><td>2</td><td>NULL</td></tr>",
            "<tr><td>ROBERTP</td><td>Pásztor Róbert</td><td>2016-09-08</td><td>2016-09-11</td><td>4</td><td>2</td></tr>",
            "<tr><td>roland</td><td>Tóth Roland</td><td>2016-06-09</td><td>2016-06-13</td><td>3</td><td>NULL</td></tr>",
            "<tr><td>roland</td><td>Tóth Roland</td><td>2016-06-22</td><td>2016-06-23</td><td>3</td><td>3</td></tr>",
            "<tr><td>roland</td><td>Tóth Roland</td><td>2016-09-04</td><td>2016-09-05</td><td>2</td><td>6</td></tr>",
            "<tr><td>roland</td><td>Tóth Roland</td><td>2016-11-19</td><td>2016-11-24</td><td>2</td><td>8</td></tr>",
            "<tr><td>roland1</td><td>Ferencz Roland</td><td>2016-11-05</td><td>2016-11-07</td><td>3</td><td>NULL</td></tr>",
            "<tr><td>roland1</td><td>Ferencz Roland</td><td>2016-12-22</td><td>2016-12-29</td><td>1</td><td>3</td></tr>",
            "<tr><td>roland1</td><td>Ferencz Roland</td><td>2017-01-04</td><td>2017-01-08</td><td>3</td><td>4</td></tr>",
            "<tr><td>roland1</td><td>Ferencz Roland</td><td>2017-01-16</td><td>2017-01-22</td><td>2</td><td>7</td></tr>",
            "<tr><td>roza2</td><td>Bucskó Róza</td><td>2016-09-10</td><td>2016-09-13</td><td>2</td><td>NULL</td></tr>",
            "<tr><td>roza2</td><td>Bucskó Róza</td><td>2017-01-11</td><td>2017-01-17</td><td>3</td><td>2</td></tr>",
            "<tr><td>roza2</td><td>Bucskó Róza</td><td>2017-02-18</td><td>2017-02-21</td><td>3</td><td>5</td></tr>",
            "<tr><td>sandor</td><td>Karasz Sándor</td><td>2016-07-04</td><td>2016-07-06</td><td>2</td><td>NULL</td></tr>",
            "<tr><td>sandor</td><td>Karasz Sándor</td><td>2016-07-18</td><td>2016-07-24</td><td>2</td><td>2</td></tr>",
            "<tr><td>sandor</td><td>Karasz Sándor</td><td>2016-08-20</td><td>2016-08-25</td><td>2</td><td>4</td></tr>",
            "<tr><td>sandor</td><td>Karasz Sándor</td><td>2016-09-19</td><td>2016-09-26</td><td>4</td><td>6</td></tr>",
            "<tr><td>sandor3</td><td>Farkas Sándor</td><td>2016-05-12</td><td>2016-05-15</td><td>2</td><td>NULL</td></tr>",
            "<tr><td>sandor3</td><td>Farkas Sándor</td><td>2016-05-25</td><td>2016-05-30</td><td>1</td><td>2</td></tr>",
            "<tr><td>sandor3</td><td>Farkas Sándor</td><td>2016-10-09</td><td>2016-10-14</td><td>2</td><td>3</td></tr>",
            "<tr><td>sandor3</td><td>Farkas Sándor</td><td>2016-10-23</td><td>2016-10-29</td><td>3</td><td>5</td></tr>",
            "<tr><td>sandor3</td><td>Farkas Sándor</td><td>2016-11-10</td><td>2016-11-11</td><td>2</td><td>6</td></tr>",
            "<tr><td>sandor4</td><td>Nagy Sándor</td><td>2016-10-15</td><td>2016-10-18</td><td>1</td><td>NULL</td></tr>",
            "<tr><td>sandor4</td><td>Nagy Sándor</td><td>2016-11-29</td><td>2016-12-03</td><td>2</td><td>1</td></tr>",
            "<tr><td>sandor4</td><td>Nagy Sándor</td><td>2016-12-03</td><td>2016-12-09</td><td>1</td><td>3</td></tr>",
            "<tr><td>sandor4</td><td>Nagy Sándor</td><td>2017-01-22</td><td>2017-01-26</td><td>2</td><td>4</td></tr>",
            "<tr><td>sara</td><td>Farkas Sára</td><td>2016-05-28</td><td>2016-05-30</td><td>2</td><td>NULL</td></tr>",
            "<tr><td>sara</td><td>Farkas Sára</td><td>2016-05-30</td><td>2016-05-31</td><td>2</td><td>2</td></tr>",
            "<tr><td>sara</td><td>Farkas Sára</td><td>2016-06-06</td><td>2016-06-08</td><td>2</td><td>4</td></tr>",
            "<tr><td>sara</td><td>Farkas Sára</td><td>2016-07-15</td><td>2016-07-17</td><td>3</td><td>6</td></tr>",
            "<tr><td>sara</td><td>Farkas Sára</td><td>2016-07-24</td><td>2016-07-27</td><td>3</td><td>7</td></tr>",
            "<tr><td>sara</td><td>Farkas Sára</td><td>2016-10-06</td><td>2016-10-12</td><td>3</td><td>8</td></tr>",
            "<tr><td>sara</td><td>Farkas Sára</td><td>2016-10-11</td><td>2016-10-14</td><td>3</td><td>9</td></tr>",
            "<tr><td>sara</td><td>Farkas Sára</td><td>2016-10-28</td><td>2016-11-03</td><td>2</td><td>9</td></tr>",
            "<tr><td>sara</td><td>Farkas Sára</td><td>2016-11-18</td><td>2016-11-21</td><td>3</td><td>8</td></tr>",
            "<tr><td>sara</td><td>Farkas Sára</td><td>2016-11-23</td><td>2016-11-30</td><td>4</td><td>8</td></tr>",
            "<tr><td>sara</td><td>Farkas Sára</td><td>2016-12-06</td><td>2016-12-10</td><td>1</td><td>9</td></tr>",
            "<tr><td>sara</td><td>Farkas Sára</td><td>2016-12-25</td><td>2016-12-30</td><td>2</td><td>8</td></tr>",
            "<tr><td>SEBASTIANF</td><td>Foltényi Sebastián</td><td>2016-04-06</td><td>2016-04-12</td><td>2</td><td>NULL</td></tr>",
            "<tr><td>SEBASTIANF</td><td>Foltényi Sebastián</td><td>2016-07-17</td><td>2016-07-21</td><td>2</td><td>2</td></tr>",
            "<tr><td>SEBASTIANF</td><td>Foltényi Sebastián</td><td>2016-07-30</td><td>2016-08-06</td><td>4</td><td>4</td></tr>",
            "<tr><td>SEBASTIANF</td><td>Foltényi Sebastián</td><td>2016-09-14</td><td>2016-09-15</td><td>3</td><td>8</td></tr>",
            "<tr><td>SEBASTIANF</td><td>Foltényi Sebastián</td><td>2016-09-17</td><td>2016-09-20</td><td>3</td><td>9</td></tr>",
            "<tr><td>sebestyen</td><td>Rab Sebestyén</td><td>2016-04-07</td><td>2016-04-12</td><td>4</td><td>NULL</td></tr>",
            "<tr><td>sebestyen</td><td>Rab Sebestyén</td><td>2016-04-26</td><td>2016-05-02</td><td>4</td><td>4</td></tr>",
            "<tr><td>sebestyen</td><td>Rab Sebestyén</td><td>2016-06-09</td><td>2016-06-14</td><td>4</td><td>8</td></tr>",
            "<tr><td>sebestyen</td><td>Rab Sebestyén</td><td>2016-10-26</td><td>2016-11-01</td><td>5</td><td>12</td></tr>",
            "<tr><td>szabolcs</td><td>Bodor Szabolcs</td><td>2016-12-05</td><td>2016-12-07</td><td>2</td><td>NULL</td></tr>",
            "<tr><td>SZABOLCSM</td><td>Miklós Szabolcs</td><td>2016-06-18</td><td>2016-06-21</td><td>3</td><td>NULL</td></tr>",
            "<tr><td>SZABOLCSM</td><td>Miklós Szabolcs</td><td>2016-07-28</td><td>2016-08-03</td><td>2</td><td>3</td></tr>",
            "<tr><td>SZABOLCSM</td><td>Miklós Szabolcs</td><td>2016-10-17</td><td>2016-10-19</td><td>2</td><td>5</td></tr>",
            "<tr><td>SZABOLCSM</td><td>Miklós Szabolcs</td><td>2016-10-28</td><td>2016-11-03</td><td>3</td><td>7</td></tr>",
            "<tr><td>SZABOLCSM</td><td>Miklós Szabolcs</td><td>2016-11-12</td><td>2016-11-13</td><td>2</td><td>7</td></tr>",
            "<tr><td>SZABOLCSM</td><td>Miklós Szabolcs</td><td>2017-01-07</td><td>2017-01-08</td><td>2</td><td>7</td></tr>",
            "<tr><td>SZABOLCSM</td><td>Miklós Szabolcs</td><td>2017-02-04</td><td>2017-02-05</td><td>3</td><td>7</td></tr>",
            "<tr><td>SZILARDS</td><td>Szalai Szilárd</td><td>2016-04-23</td><td>2016-04-30</td><td>3</td><td>NULL</td></tr>",
            "<tr><td>SZILARDS</td><td>Szalai Szilárd</td><td>2016-07-27</td><td>2016-08-03</td><td>5</td><td>3</td></tr>",
            "<tr><td>SZILARDS</td><td>Szalai Szilárd</td><td>2016-08-28</td><td>2016-08-29</td><td>4</td><td>8</td></tr>",
            "<tr><td>SZILARDS</td><td>Szalai Szilárd</td><td>2016-09-20</td><td>2016-09-24</td><td>3</td><td>12</td></tr>",
            "<tr><td>SZILARDS</td><td>Szalai Szilárd</td><td>2016-10-01</td><td>2016-10-08</td><td>3</td><td>12</td></tr>",
            "<tr><td>SZILARDS</td><td>Szalai Szilárd</td><td>2017-01-16</td><td>2017-01-19</td><td>3</td><td>10</td></tr>",
            "<tr><td>SZILARDS</td><td>Szalai Szilárd</td><td>2017-02-08</td><td>2017-02-15</td><td>1</td><td>9</td></tr>",
            "<tr><td>szilvia1</td><td>Tari Szilvia</td><td>2016-05-14</td><td>2016-05-21</td><td>2</td><td>NULL</td></tr>",
            "<tr><td>szilvia1</td><td>Tari Szilvia</td><td>2016-05-28</td><td>2016-06-03</td><td>2</td><td>2</td></tr>",
            "<tr><td>szilvia1</td><td>Tari Szilvia</td><td>2016-07-25</td><td>2016-07-28</td><td>2</td><td>4</td></tr>",
            "<tr><td>szilvia1</td><td>Tari Szilvia</td><td>2016-10-09</td><td>2016-10-10</td><td>3</td><td>6</td></tr>",
            "<tr><td>szilvia1</td><td>Tari Szilvia</td><td>2016-10-25</td><td>2016-10-31</td><td>3</td><td>7</td></tr>",
            "<tr><td>szilvia1</td><td>Tari Szilvia</td><td>2016-10-27</td><td>2016-10-28</td><td>2</td><td>8</td></tr>",
            "<tr><td>szilvia1</td><td>Tari Szilvia</td><td>2016-12-25</td><td>2016-12-29</td><td>5</td><td>8</td></tr>",
            "<tr><td>szilvia1</td><td>Tari Szilvia</td><td>2016-12-27</td><td>2017-01-02</td><td>2</td><td>10</td></tr>",
            "<tr><td>szilvia1</td><td>Tari Szilvia</td><td>2017-01-28</td><td>2017-02-03</td><td>2</td><td>9</td></tr>",
            "<tr><td>tamara2</td><td>Miklós Tamara</td><td>2016-08-12</td><td>2016-08-15</td><td>3</td><td>NULL</td></tr>",
            "<tr><td>tamara2</td><td>Miklós Tamara</td><td>2016-11-15</td><td>2016-11-18</td><td>2</td><td>3</td></tr>",
            "<tr><td>tamas</td><td>Antal Tamás</td><td>2016-05-17</td><td>2016-05-22</td><td>2</td><td>NULL</td></tr>",
            "<tr><td>tamas</td><td>Antal Tamás</td><td>2016-06-14</td><td>2016-06-21</td><td>2</td><td>2</td></tr>",
            "<tr><td>tamas</td><td>Antal Tamás</td><td>2016-08-24</td><td>2016-08-27</td><td>3</td><td>4</td></tr>",
            "<tr><td>tamas</td><td>Antal Tamás</td><td>2017-02-14</td><td>2017-02-19</td><td>3</td><td>7</td></tr>",
            "<tr><td>TAMASF</td><td>Fényes Tamás</td><td>2016-05-03</td><td>2016-05-04</td><td>2</td><td>NULL</td></tr>",
            "<tr><td>TAMASF</td><td>Fényes Tamás</td><td>2016-06-10</td><td>2016-06-13</td><td>3</td><td>2</td></tr>",
            "<tr><td>TAMASF</td><td>Fényes Tamás</td><td>2016-06-28</td><td>2016-07-05</td><td>3</td><td>5</td></tr>",
            "<tr><td>TAMASF</td><td>Fényes Tamás</td><td>2016-07-04</td><td>2016-07-10</td><td>2</td><td>8</td></tr>",
            "<tr><td>TAMASF</td><td>Fényes Tamás</td><td>2016-09-12</td><td>2016-09-18</td><td>3</td><td>8</td></tr>",
            "<tr><td>TAMASF</td><td>Fényes Tamás</td><td>2016-12-02</td><td>2016-12-04</td><td>1</td><td>8</td></tr>",
            "<tr><td>TAMASF</td><td>Fényes Tamás</td><td>2016-12-10</td><td>2016-12-14</td><td>3</td><td>6</td></tr>",
            "<tr><td>TAMASF</td><td>Fényes Tamás</td><td>2017-02-12</td><td>2017-02-17</td><td>2</td><td>7</td></tr>",
            "<tr><td>TAMASF</td><td>Fényes Tamás</td><td>2017-02-16</td><td>2017-02-19</td><td>4</td><td>6</td></tr>",
            "<tr><td>tibor</td><td>Gombos Tibor</td><td>2016-10-09</td><td>2016-10-13</td><td>2</td><td>NULL</td></tr>",
            "<tr><td>tibor</td><td>Gombos Tibor</td><td>2016-11-05</td><td>2016-11-09</td><td>1</td><td>2</td></tr>",
            "<tr><td>tibor2</td><td>Dániel Tibor</td><td>2016-10-20</td><td>2016-10-25</td><td>2</td><td>NULL</td></tr>",
            "<tr><td>tihamer</td><td>Kazy Tihamér</td><td>2016-05-30</td><td>2016-06-05</td><td>1</td><td>NULL</td></tr>",
            "<tr><td>tihamer</td><td>Kazy Tihamér</td><td>2016-06-03</td><td>2016-06-08</td><td>5</td><td>1</td></tr>",
            "<tr><td>tihamer</td><td>Kazy Tihamér</td><td>2016-07-20</td><td>2016-07-24</td><td>3</td><td>6</td></tr>",
            "<tr><td>tihamer</td><td>Kazy Tihamér</td><td>2016-08-18</td><td>2016-08-22</td><td>3</td><td>9</td></tr>",
            "<tr><td>tihamer</td><td>Kazy Tihamér</td><td>2016-10-19</td><td>2016-10-23</td><td>2</td><td>11</td></tr>",
            "<tr><td>tihamer</td><td>Kazy Tihamér</td><td>2016-12-25</td><td>2016-12-26</td><td>2</td><td>8</td></tr>",
            "<tr><td>timea</td><td>Papós Tímea</td><td>2016-12-26</td><td>2016-12-27</td><td>2</td><td>NULL</td></tr>",
            "<tr><td>timea2</td><td>Dusha Tímea</td><td>2016-06-06</td><td>2016-06-07</td><td>2</td><td>NULL</td></tr>",
            "<tr><td>timea2</td><td>Dusha Tímea</td><td>2016-08-07</td><td>2016-08-10</td><td>3</td><td>2</td></tr>",
            "<tr><td>timea2</td><td>Dusha Tímea</td><td>2016-10-26</td><td>2016-10-29</td><td>3</td><td>5</td></tr>",
            "<tr><td>timea2</td><td>Dusha Tímea</td><td>2016-11-27</td><td>2016-12-01</td><td>4</td><td>8</td></tr>",
            "<tr><td>timea2</td><td>Dusha Tímea</td><td>2016-12-14</td><td>2016-12-16</td><td>4</td><td>10</td></tr>",
            "<tr><td>tunde</td><td>Turcsik Tünde</td><td>2016-06-03</td><td>2016-06-07</td><td>3</td><td>NULL</td></tr>",
            "<tr><td>tunde</td><td>Turcsik Tünde</td><td>2016-06-06</td><td>2016-06-12</td><td>3</td><td>3</td></tr>",
            "<tr><td>tunde</td><td>Turcsik Tünde</td><td>2016-07-14</td><td>2016-07-21</td><td>1</td><td>6</td></tr>",
            "<tr><td>tunde</td><td>Turcsik Tünde</td><td>2016-09-05</td><td>2016-09-12</td><td>2</td><td>7</td></tr>",
            "<tr><td>tunde</td><td>Turcsik Tünde</td><td>2016-10-24</td><td>2016-10-30</td><td>3</td><td>6</td></tr>",
            "<tr><td>tunde</td><td>Turcsik Tünde</td><td>2016-11-19</td><td>2016-11-20</td><td>3</td><td>6</td></tr>",
            "<tr><td>tunde</td><td>Turcsik Tünde</td><td>2016-12-15</td><td>2016-12-20</td><td>3</td><td>8</td></tr>",
            "<tr><td>tunde</td><td>Turcsik Tünde</td><td>2017-01-03</td><td>2017-01-06</td><td>5</td><td>9</td></tr>",
            "<tr><td>valentin</td><td>Feró Valentin</td><td>2016-05-24</td><td>2016-05-30</td><td>4</td><td>NULL</td></tr>",
            "<tr><td>valentin</td><td>Feró Valentin</td><td>2016-07-24</td><td>2016-07-29</td><td>1</td><td>4</td></tr>",
            "<tr><td>valentin</td><td>Feró Valentin</td><td>2016-10-26</td><td>2016-10-30</td><td>3</td><td>5</td></tr>",
            "<tr><td>valentin</td><td>Feró Valentin</td><td>2016-11-11</td><td>2016-11-17</td><td>3</td><td>8</td></tr>",
            "<tr><td>valentin</td><td>Feró Valentin</td><td>2016-12-01</td><td>2016-12-05</td><td>3</td><td>7</td></tr>",
            "<tr><td>veronika4</td><td>Tankó Veronika</td><td>2016-05-30</td><td>2016-06-04</td><td>2</td><td>NULL</td></tr>",
            "<tr><td>veronika4</td><td>Tankó Veronika</td><td>2016-07-20</td><td>2016-07-26</td><td>3</td><td>2</td></tr>",
            "<tr><td>veronika4</td><td>Tankó Veronika</td><td>2016-08-16</td><td>2016-08-21</td><td>1</td><td>5</td></tr>",
            "<tr><td>veronika4</td><td>Tankó Veronika</td><td>2016-09-26</td><td>2016-10-03</td><td>2</td><td>6</td></tr>",
            "<tr><td>veronika4</td><td>Tankó Veronika</td><td>2017-01-19</td><td>2017-01-24</td><td>3</td><td>6</td></tr>",
            "<tr><td>veronika4</td><td>Tankó Veronika</td><td>2017-02-03</td><td>2017-02-05</td><td>2</td><td>6</td></tr>",
            "<tr><td>VIKTORIAU</td><td>Urbán Viktoria</td><td>2016-04-30</td><td>2016-05-03</td><td>1</td><td>NULL</td></tr>",
            "<tr><td>VIKTORIAU</td><td>Urbán Viktoria</td><td>2016-08-03</td><td>2016-08-04</td><td>2</td><td>1</td></tr>",
            "<tr><td>VIKTORIAU</td><td>Urbán Viktoria</td><td>2016-10-14</td><td>2016-10-15</td><td>3</td><td>3</td></tr>",
            "<tr><td>VIKTORIAU</td><td>Urbán Viktoria</td><td>2016-10-26</td><td>2016-11-02</td><td>4</td><td>6</td></tr>",
            "<tr><td>VIKTORK</td><td>Keresztúri Viktor</td><td>2016-05-30</td><td>2016-06-01</td><td>2</td><td>NULL</td></tr>",
            "<tr><td>VIKTORK</td><td>Keresztúri Viktor</td><td>2016-06-06</td><td>2016-06-07</td><td>4</td><td>2</td></tr>",
            "<tr><td>vivien3</td><td>Boros Vivien</td><td>2016-05-02</td><td>2016-05-05</td><td>3</td><td>NULL</td></tr>",
            "<tr><td>vivien3</td><td>Boros Vivien</td><td>2016-08-13</td><td>2016-08-18</td><td>2</td><td>3</td></tr>",
            "<tr><td>vivien3</td><td>Boros Vivien</td><td>2016-09-01</td><td>2016-09-05</td><td>2</td><td>5</td></tr>",
            "<tr><td>vivien3</td><td>Boros Vivien</td><td>2016-10-01</td><td>2016-10-04</td><td>1</td><td>7</td></tr>",
            "<tr><td>vivien3</td><td>Boros Vivien</td><td>2016-11-17</td><td>2016-11-20</td><td>2</td><td>5</td></tr>",
            "<tr><td>vivien3</td><td>Boros Vivien</td><td>2016-12-17</td><td>2016-12-21</td><td>2</td><td>5</td></tr>",
            "<tr><td>vivien3</td><td>Boros Vivien</td><td>2016-12-24</td><td>2016-12-26</td><td>3</td><td>5</td></tr>",
            "<tr><td>zoltan</td><td>Fodor Zoltán</td><td>2016-08-24</td><td>2016-08-31</td><td>2</td><td>NULL</td></tr>",
            "<tr><td>zoltan</td><td>Fodor Zoltán</td><td>2016-09-05</td><td>2016-09-09</td><td>3</td><td>2</td></tr>",
            "<tr><td>zoltan4</td><td>Barna Zoltán</td><td>2016-05-12</td><td>2016-05-16</td><td>3</td><td>NULL</td></tr>",
            "<tr><td>zoltan4</td><td>Barna Zoltán</td><td>2016-05-13</td><td>2016-05-16</td><td>3</td><td>3</td></tr>",
            "<tr><td>zoltan4</td><td>Barna Zoltán</td><td>2016-06-03</td><td>2016-06-06</td><td>1</td><td>6</td></tr>",
            "<tr><td>zoltan4</td><td>Barna Zoltán</td><td>2016-08-15</td><td>2016-08-21</td><td>1</td><td>7</td></tr>",
            "<tr><td>zoltan4</td><td>Barna Zoltán</td><td>2016-08-16</td><td>2016-08-23</td><td>2</td><td>5</td></tr>",
            "<tr><td>zoltan4</td><td>Barna Zoltán</td><td>2016-09-30</td><td>2016-10-07</td><td>3</td><td>4</td></tr>",
            "<tr><td>zoltan4</td><td>Barna Zoltán</td><td>2016-10-21</td><td>2016-10-24</td><td>5</td><td>6</td></tr>",
            "<tr><td>zoltan4</td><td>Barna Zoltán</td><td>2016-10-26</td><td>2016-10-30</td><td>2</td><td>10</td></tr>",
            "<tr><td>zoltan4</td><td>Barna Zoltán</td><td>2016-10-30</td><td>2016-11-06</td><td>1</td><td>10</td></tr>",
            "<tr><td>zoltan4</td><td>Barna Zoltán</td><td>2016-11-19</td><td>2016-11-21</td><td>2</td><td>8</td></tr>",
            "<tr><td>zoltan4</td><td>Barna Zoltán</td><td>2016-12-29</td><td>2017-01-04</td><td>1</td><td>5</td></tr>",
            "<tr><td>zoltan4</td><td>Barna Zoltán</td><td>2017-01-01</td><td>2017-01-02</td><td>3</td><td>4</td></tr>",
            "<tr><td>ZOLTANP</td><td>Pintér Zoltán</td><td>2016-06-05</td><td>2016-06-08</td><td>2</td><td>NULL</td></tr>",
            "<tr><td>ZOLTANP</td><td>Pintér Zoltán</td><td>2016-06-06</td><td>2016-06-08</td><td>2</td><td>2</td></tr>",
            "<tr><td>ZOLTANP</td><td>Pintér Zoltán</td><td>2016-07-20</td><td>2016-07-25</td><td>3</td><td>4</td></tr>",
            "<tr><td>ZOLTANP</td><td>Pintér Zoltán</td><td>2016-10-19</td><td>2016-10-25</td><td>2</td><td>7</td></tr>",
            "<tr><td>ZOLTANP</td><td>Pintér Zoltán</td><td>2016-12-07</td><td>2016-12-10</td><td>3</td><td>7</td></tr>",
            "<tr><td>ZOLTANP</td><td>Pintér Zoltán</td><td>2016-12-25</td><td>2016-12-29</td><td>2</td><td>8</td></tr>",
            "<tr><td>ZOLTANT</td><td>Tóth Zoltán</td><td>2016-05-01</td><td>2016-05-04</td><td>3</td><td>NULL</td></tr>",
            "<tr><td>ZOLTANT</td><td>Tóth Zoltán</td><td>2016-07-14</td><td>2016-07-15</td><td>3</td><td>3</td></tr>",
            "<tr><td>ZOLTANT</td><td>Tóth Zoltán</td><td>2017-01-16</td><td>2017-01-20</td><td>2</td><td>6</td></tr>",
            "<tr><td>zsofi1</td><td>Molnár Zsófi</td><td>2016-06-16</td><td>2016-06-17</td><td>2</td><td>NULL</td></tr>",
            "<tr><td>zsofi1</td><td>Molnár Zsófi</td><td>2017-02-18</td><td>2017-02-19</td><td>3</td><td>2</td></tr>",
            "<tr><td>zsolt1</td><td>Pulai Zsolt</td><td>2016-04-14</td><td>2016-04-17</td><td>2</td><td>NULL</td></tr>",
            "<tr><td>zsolt1</td><td>Pulai Zsolt</td><td>2016-06-06</td><td>2016-06-08</td><td>2</td><td>2</td></tr>",
            "<tr><td>zsolt1</td><td>Pulai Zsolt</td><td>2016-06-07</td><td>2016-06-10</td><td>4</td><td>4</td></tr>",
            "<tr><td>zsolt1</td><td>Pulai Zsolt</td><td>2016-07-31</td><td>2016-08-02</td><td>2</td><td>8</td></tr>",
            "<tr><td>ZSOLTJ</td><td>Józsa Zsolt</td><td>2016-04-24</td><td>2016-04-26</td><td>4</td><td>NULL</td></tr>",
            "<tr><td>ZSOLTJ</td><td>Józsa Zsolt</td><td>2016-05-09</td><td>2016-05-11</td><td>2</td><td>4</td></tr>",
            "<tr><td>ZSOLTJ</td><td>Józsa Zsolt</td><td>2016-05-28</td><td>2016-06-03</td><td>1</td><td>6</td></tr>",
            "<tr><td>ZSOLTJ</td><td>Józsa Zsolt</td><td>2016-06-17</td><td>2016-06-19</td><td>2</td><td>7</td></tr>",
            "<tr><td>ZSOLTJ</td><td>Józsa Zsolt</td><td>2016-07-18</td><td>2016-07-19</td><td>2</td><td>5</td></tr>",
            "<tr><td>ZSOLTJ</td><td>Józsa Zsolt</td><td>2016-10-01</td><td>2016-10-06</td><td>2</td><td>5</td></tr>",
            "<tr><td>zsuzsa</td><td>Pusztai Zsuzsanna</td><td>2016-07-24</td><td>2016-07-25</td><td>3</td><td>NULL</td></tr>",
            "<tr><td>zsuzsa</td><td>Pusztai Zsuzsanna</td><td>2016-08-28</td><td>2016-08-30</td><td>2</td><td>3</td></tr>",
            "<tr><td>zsuzsa</td><td>Pusztai Zsuzsanna</td><td>2016-11-28</td><td>2016-12-04</td><td>3</td><td>5</td></tr>",
            "<tr><td>zsuzsa3</td><td>Varsányi Zsuzsa</td><td>2016-07-30</td><td>2016-08-02</td><td>2</td><td>NULL</td></tr>",
            "<tr><td>zsuzsa3</td><td>Varsányi Zsuzsa</td><td>2016-09-09</td><td>2016-09-10</td><td>2</td><td>2</td></tr>",
            "<tr><td>zsuzsa3</td><td>Varsányi Zsuzsa</td><td>2016-09-28</td><td>2016-10-03</td><td>2</td><td>4</td></tr>",
            "<tr><td>zsuzsa3</td><td>Varsányi Zsuzsa</td><td>2016-10-27</td><td>2016-11-03</td><td>4</td><td>6</td></tr>",
            "<tr><td>zsuzsanna</td><td>Barta Zsuzsanna</td><td>2016-05-17</td><td>2016-05-23</td><td>2</td><td>NULL</td></tr>",
            "<tr><td>zsuzsanna</td><td>Barta Zsuzsanna</td><td>2016-07-12</td><td>2016-07-15</td><td>2</td><td>2</td></tr>",
            "<tr><td>zsuzsanna</td><td>Barta Zsuzsanna</td><td>2017-01-09</td><td>2017-01-16</td><td>1</td><td>4</td></tr>",
            "<tr><td>zsuzsanna</td><td>Barta Zsuzsanna</td><td>2017-01-16</td><td>2017-01-22</td><td>2</td><td>5</td></tr>",
            "<tr><td>ZSUZSAV</td><td>Vajda Zsuzsa</td><td>2016-04-14</td><td>2016-04-16</td><td>2</td><td>NULL</td></tr>",
            "<tr><td>ZSUZSAV</td><td>Vajda Zsuzsa</td><td>2016-05-28</td><td>2016-06-01</td><td>4</td><td>2</td></tr>",
            "<tr><td>ZSUZSAV</td><td>Vajda Zsuzsa</td><td>2016-06-15</td><td>2016-06-21</td><td>3</td><td>6</td></tr>",
            "<tr><td>ZSUZSAV</td><td>Vajda Zsuzsa</td><td>2016-09-18</td><td>2016-09-20</td><td>2</td><td>9</td></tr>",
            "<tr><td>ZSUZSAV</td><td>Vajda Zsuzsa</td><td>2016-10-26</td><td>2016-10-28</td><td>1</td><td>9</td></tr>",
            "<tr><td>ZSUZSAV</td><td>Vajda Zsuzsa</td><td>2016-11-21</td><td>2016-11-24</td><td>3</td><td>6</td></tr>",
            "</table>"
        ]
    }
}
],
            "execution_count": 2
        },
        {
            "cell_type": "markdown",
            "source": [
                "4. <span style=\"background-color: rgb(255, 255, 255); color: rgb(0, 0, 0); font-family: &quot;Open Sans&quot;, sans-serif; font-size: 14.44px;\">Készítsünk listát arról, hogy az egyes szálláshelyeken évente hány foglalás történt!&nbsp;</span> \n",
                "\n",
                "a. A lista jelenítse meg a szálláshely azonosítóját, nevét, az évet, és a foglalások számát!\n",
                "\n",
                "b. Egy új oszlopban jelenítsük meg a szálláshely eddigi éves foglalásainak számát is (az aktuálisat is beleértve). \n",
                "\n",
                "c. Az évnél a METTOL dátumot vegyük figyelembe! \n",
                "\n",
                "d. A lista ne tartalmazzon duplikált sorokat!"
            ],
            "metadata": {
                "azdata_cell_guid": "8e7fef82-8022-49a0-8255-fc2846c2134b"
            },
            "attachments": {}
        },
        {
            "cell_type": "code",
            "source": [
                ""
            ],
            "metadata": {
                "azdata_cell_guid": "36f7b396-4a1f-45e5-8720-2302537c91bc",
                "language": "sql"
            },
            "outputs": [],
            "execution_count": null
        },
        {
            "cell_type": "markdown",
            "source": [
                "5. <span style=\"background-color: rgb(255, 255, 255); color: rgb(0, 0, 0); font-family: &quot;Open Sans&quot;, sans-serif; font-size: 14.44px;\">Készítsük listát a szálláshelyekről! A lista tartalmazza a szálláshely azonosítóját, nevét, és a csillagok számát csillagszám szerint csökkenő, azon belül szállásnév szerint növekvő sorrendben!&nbsp;</span> \n",
                "\n",
                "a. Vegyünk fel két új oszlopot, amely a sorrend szerint előző szálláshely nevét, illetve azonosítóját is megjeleníti!"
            ],
            "metadata": {
                "azdata_cell_guid": "84239ca2-6b5e-49f5-9860-d44c11d6de32"
            },
            "attachments": {}
        },
        {
            "cell_type": "code",
            "source": [
                ""
            ],
            "metadata": {
                "azdata_cell_guid": "06d9a62b-9430-424b-a135-d80e675f0eb3",
                "language": "sql"
            },
            "outputs": [],
            "execution_count": null
        },
        {
            "cell_type": "markdown",
            "source": [
                "6. <span style=\"background-color: rgb(255, 255, 255); color: rgb(0, 0, 0); font-family: &quot;Open Sans&quot;, sans-serif; font-size: 14.44px;\">Listázzuk azon termékeket, amelyekből az átlagosnál kevesebb van raktáron!&nbsp;</span> \n",
                "\n",
                "a. Csak a termék kódja és megnevezése jelenjen meg!"
            ],
            "metadata": {
                "azdata_cell_guid": "b0d15045-3c43-4f3a-b8d4-76b4f24e5546"
            },
            "attachments": {}
        },
        {
            "cell_type": "code",
            "source": [
                ""
            ],
            "metadata": {
                "azdata_cell_guid": "f2b7400d-1255-40ac-9250-4d57f9da5357",
                "language": "sql"
            },
            "outputs": [],
            "execution_count": null
        },
        {
            "cell_type": "markdown",
            "source": [
                "7. <span style=\"background-color: rgb(255, 255, 255); color: rgb(0, 0, 0); font-family: &quot;Open Sans&quot;, sans-serif; font-size: 14.44px;\">Listázzuk azon ügyfeleket, akik még nem fizettek bankkártyával!&nbsp;</span> \n",
                "\n",
                "a. Csak az ügyfelek neve jelenjen meg!"
            ],
            "metadata": {
                "azdata_cell_guid": "7ebf7ddd-1bd2-4246-815a-be8ae37e3b5b"
            },
            "attachments": {}
        },
        {
            "cell_type": "code",
            "source": [
                ""
            ],
            "metadata": {
                "azdata_cell_guid": "84b7e896-f36e-4985-88f5-e0f706494fef",
                "language": "sql"
            },
            "outputs": [],
            "execution_count": null
        },
        {
            "cell_type": "markdown",
            "source": [
                "8. <span style=\"background-color: rgb(255, 255, 255); color: rgb(0, 0, 0); font-family: &quot;Open Sans&quot;, sans-serif; font-size: 14.44px;\">Mennyibe kerül a második legnagyobb listaárú termék?</span>"
            ],
            "metadata": {
                "azdata_cell_guid": "27a3d3dc-eafb-4a5e-b103-9f465b9eda8f"
            },
            "attachments": {}
        },
        {
            "cell_type": "code",
            "source": [
                ""
            ],
            "metadata": {
                "azdata_cell_guid": "f09edb3f-649b-4a96-958e-9e12774ae8b7",
                "language": "sql"
            },
            "outputs": [],
            "execution_count": null
        },
        {
            "cell_type": "markdown",
            "source": [
                "9. <span style=\"background-color: rgb(255, 255, 255); color: rgb(0, 0, 0); font-family: &quot;Open Sans&quot;, sans-serif; font-size: 14.44px;\">Melyik raktár(ak)ban van az a termék, amelyből a legnagyobb készlet van?&nbsp;</span> \n",
                "\n",
                "a. Csak a raktár(ak) neve jelenjen meg!"
            ],
            "metadata": {
                "azdata_cell_guid": "f12a331a-0e26-4d3d-9c68-812316286577"
            },
            "attachments": {}
        },
        {
            "cell_type": "code",
            "source": [
                ""
            ],
            "metadata": {
                "azdata_cell_guid": "10a77fc9-e61a-46fc-a401-59720d82bc50",
                "language": "sql"
            },
            "outputs": [],
            "execution_count": null
        },
        {
            "cell_type": "markdown",
            "source": [
                "10. <span style=\"background-color: rgb(255, 255, 255); color: rgb(0, 0, 0); font-family: &quot;Open Sans&quot;, sans-serif; font-size: 14.44px;\">Melyek azok a termékek, amelyek listaára nagyobb, mint bármelyik olyan terméké, amelynek nevében az Ajándék szó szerepel?&nbsp;</span> \n",
                "\n",
                "a. A termékek kódját és nevét is jelenítsük meg!"
            ],
            "metadata": {
                "azdata_cell_guid": "9229e2b6-e200-4499-b95b-2d0222149831"
            },
            "attachments": {}
        },
        {
            "cell_type": "code",
            "source": [
                ""
            ],
            "metadata": {
                "azdata_cell_guid": "8b49ed67-28c6-4880-82a8-cd369e5bba99",
                "language": "sql"
            },
            "outputs": [],
            "execution_count": null
        },
        {
            "cell_type": "markdown",
            "source": [
                "11. <span style=\"background-color: rgb(255, 255, 255); color: rgb(0, 0, 0); font-family: &quot;Open Sans&quot;, sans-serif; font-size: 14.44px;\">Melyik hónapokban adtak le az ügyfelek több rendelést, mint januárban?&nbsp;</span> \n",
                "\n",
                "a. Elég a hónapok sorszámait megjeleníteni. \n",
                "\n",
                "b. A listát rendezzük a hónapok száma szerint növekvő sorrendbe!"
            ],
            "metadata": {
                "azdata_cell_guid": "7f5fc7a7-3b6a-4d89-b292-490830afb0c6"
            },
            "attachments": {}
        },
        {
            "cell_type": "code",
            "source": [
                ""
            ],
            "metadata": {
                "azdata_cell_guid": "4a9ece40-f782-4c0d-92cd-9c21969067ed",
                "language": "sql"
            },
            "outputs": [],
            "execution_count": null
        },
        {
            "cell_type": "markdown",
            "source": [
                "12. <span style=\"background-color: rgb(255, 255, 255); color: rgb(0, 0, 0); font-family: &quot;Open Sans&quot;, sans-serif; font-size: 14.44px;\">Melyek azok a termékek, amelyek listaára az átlagostól max. 20%-kal tér el?&nbsp;</span> \n",
                "\n",
                "a. A termék kódját és nevét is jelenítsük meg!"
            ],
            "metadata": {
                "azdata_cell_guid": "5a483c52-bb98-44bb-bd03-1146d4b0abfa"
            },
            "attachments": {}
        },
        {
            "cell_type": "code",
            "source": [
                ""
            ],
            "metadata": {
                "azdata_cell_guid": "dd6e89bd-08f9-4b18-8460-03c45b503df0",
                "language": "sql"
            },
            "outputs": [],
            "execution_count": null
        },
        {
            "cell_type": "markdown",
            "source": [
                "13. <span style=\"background-color: rgb(255, 255, 255); color: rgb(0, 0, 0); font-family: &quot;Open Sans&quot;, sans-serif; font-size: 14.44px;\">Készítsünk listát (sorszámonként) az egyes rendelések teljes összegéről!&nbsp;</span> \n",
                "\n",
                "a. Szűrjünk azon tételekre, ahol ez az érték nagyobb, mint Viktor Éva rendeléseinek teljes összege! \n",
                "\n",
                "b. A teljes összeg oszlopot nevezzük el értelemszerűen!"
            ],
            "metadata": {
                "azdata_cell_guid": "85d5cb66-96c6-42de-99cf-85ab22d08548"
            },
            "attachments": {}
        },
        {
            "cell_type": "code",
            "source": [
                ""
            ],
            "metadata": {
                "azdata_cell_guid": "cb07d64b-0eaa-498b-b4d2-0b46971e95ce",
                "language": "sql"
            },
            "outputs": [],
            "execution_count": null
        },
        {
            "cell_type": "markdown",
            "source": [
                "14. <span style=\"background-color: rgb(255, 255, 255); color: rgb(0, 0, 0); font-family: &quot;Open Sans&quot;, sans-serif; font-size: 14.44px;\">Listázzuk azokat a termékkategóriákat, amelyből 2017 januárban nem történt rendelés!&nbsp;</span> \n",
                "\n",
                "a. Elég a kategóriák nevét megjeleníteni!"
            ],
            "metadata": {
                "azdata_cell_guid": "f95ad665-a807-4099-bf06-64ed974f866f"
            },
            "attachments": {}
        },
        {
            "cell_type": "code",
            "source": [
                ""
            ],
            "metadata": {
                "azdata_cell_guid": "74c7ec8a-ae4a-4d03-b1c4-e8f6bb1be12c",
                "language": "sql"
            },
            "outputs": [],
            "execution_count": null
        },
        {
            "cell_type": "markdown",
            "source": [
                "15. <span style=\"background-color: rgb(255, 255, 255); color: rgb(0, 0, 0); font-family: &quot;Open Sans&quot;, sans-serif; font-size: 14.44px;\">Listázzuk azon rendelési tételeket, amelynek értéke nagyobb, mint a legdrágább termék listaára azon termékek közül, amelyek szülő kategóriája a ruha!</span>"
            ],
            "metadata": {
                "azdata_cell_guid": "93552388-ffec-49ff-99e5-ae8dc8072601"
            },
            "attachments": {}
        },
        {
            "cell_type": "code",
            "source": [
                ""
            ],
            "metadata": {
                "azdata_cell_guid": "0e7f547f-7d96-4611-b1c2-0fa84a581e79",
                "language": "sql"
            },
            "outputs": [],
            "execution_count": null
        }
    ]
}