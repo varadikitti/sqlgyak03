{
    "metadata": {
        "kernelspec": {
            "name": "SQL",
            "display_name": "SQL",
            "language": "sql"
        },
        "language_info": {
            "name": "sql",
            "version": ""
        },
        "extensions": {
            "azuredatastudio": {
                "version": 1,
                "views": []
            }
        }
    },
    "nbformat_minor": 2,
    "nbformat": 4,
    "cells": [
        {
            "cell_type": "markdown",
            "source": [
                "## <mark>webshop adatbázis</mark>"
            ],
            "metadata": {
                "azdata_cell_guid": "2e15c37f-dc32-4a0a-8e79-cefac3878ac2"
            },
            "attachments": {}
        },
        {
            "cell_type": "code",
            "source": [
                "SELECT u.LOGIN\r\n",
                "FROM Rendeles r JOIN Ugyfel u ON r.LOGIN = u.LOGIN WHERE\r\n",
                "YEAR(rend_datum)=2017\r\n",
                "GROUP BY u.login\r\n",
                "HAVING COUNT(*)> (\r\n",
                "SELECT COUNT(*)\r\n",
                "FROM Rendeles r2 JOIN Ugyfel u2 ON r2.LOGIN = u2.LOGIN\r\n",
                "WHERE YEAR(rend_datum)=2016 AND u2.LOGIN = u.LOGIN)"
            ],
            "metadata": {
                "azdata_cell_guid": "89bc8feb-02ac-4f2b-a666-eb34e068e2b9",
                "language": "sql"
            },
            "outputs": [
                {
                    "output_type": "display_data",
                    "data": {
                        "text/html": "(130 rows affected)"
                    },
                    "metadata": {}
                },
                {
                    "output_type": "display_data",
                    "data": {
                        "text/html": "Total execution time: 00:00:00.051"
                    },
                    "metadata": {}
                },
                {
                    "output_type": "execute_result",
                    "execution_count": 23,
                    "data": {
                        "application/vnd.dataresource+json": {
                            "schema": {
                                "fields": [
                                    {
                                        "name": "LOGIN"
                                    }
                                ]
                            },
                            "data": [
                                {
                                    "LOGIN": "adam3"
                                },
                                {
                                    "LOGIN": "adam4"
                                },
                                {
                                    "LOGIN": "AGNESH"
                                },
                                {
                                    "LOGIN": "AGNESK"
                                },
                                {
                                    "LOGIN": "alexandra"
                                },
                                {
                                    "LOGIN": "andi"
                                },
                                {
                                    "LOGIN": "andras2"
                                },
                                {
                                    "LOGIN": "andras3"
                                },
                                {
                                    "LOGIN": "andras4"
                                },
                                {
                                    "LOGIN": "ANDRASN"
                                },
                                {
                                    "LOGIN": "andrea"
                                },
                                {
                                    "LOGIN": "andrea4"
                                },
                                {
                                    "LOGIN": "ANDREAT"
                                },
                                {
                                    "LOGIN": "anett3"
                                },
                                {
                                    "LOGIN": "aniko4"
                                },
                                {
                                    "LOGIN": "anita"
                                },
                                {
                                    "LOGIN": "annamaria1"
                                },
                                {
                                    "LOGIN": "ANNAMARIAR"
                                },
                                {
                                    "LOGIN": "arpad2"
                                },
                                {
                                    "LOGIN": "ARPADH"
                                },
                                {
                                    "LOGIN": "ARPADM"
                                },
                                {
                                    "LOGIN": "attila1"
                                },
                                {
                                    "LOGIN": "ATTILAO"
                                },
                                {
                                    "LOGIN": "balazs2"
                                },
                                {
                                    "LOGIN": "balazs3"
                                },
                                {
                                    "LOGIN": "balint"
                                },
                                {
                                    "LOGIN": "balint2"
                                },
                                {
                                    "LOGIN": "BELAF"
                                },
                                {
                                    "LOGIN": "bence"
                                },
                                {
                                    "LOGIN": "BENCEB"
                                },
                                {
                                    "LOGIN": "bernadett1"
                                },
                                {
                                    "LOGIN": "bernadett2"
                                },
                                {
                                    "LOGIN": "BERNADETTO"
                                },
                                {
                                    "LOGIN": "csongor3"
                                },
                                {
                                    "LOGIN": "dani"
                                },
                                {
                                    "LOGIN": "daniel"
                                },
                                {
                                    "LOGIN": "david1"
                                },
                                {
                                    "LOGIN": "david4"
                                },
                                {
                                    "LOGIN": "debora"
                                },
                                {
                                    "LOGIN": "denes"
                                },
                                {
                                    "LOGIN": "edit"
                                },
                                {
                                    "LOGIN": "ESZTERE"
                                },
                                {
                                    "LOGIN": "EVAV"
                                },
                                {
                                    "LOGIN": "fruzsina4"
                                },
                                {
                                    "LOGIN": "gabor1"
                                },
                                {
                                    "LOGIN": "gabor4"
                                },
                                {
                                    "LOGIN": "GABORS"
                                },
                                {
                                    "LOGIN": "gabriella1"
                                },
                                {
                                    "LOGIN": "gabriella10"
                                },
                                {
                                    "LOGIN": "georgij"
                                },
                                {
                                    "LOGIN": "gusztav"
                                },
                                {
                                    "LOGIN": "GYONGYIK"
                                },
                                {
                                    "LOGIN": "GYORGYO"
                                },
                                {
                                    "LOGIN": "henrik3"
                                },
                                {
                                    "LOGIN": "ilona3"
                                },
                                {
                                    "LOGIN": "imre"
                                },
                                {
                                    "LOGIN": "imre1"
                                },
                                {
                                    "LOGIN": "istvan"
                                },
                                {
                                    "LOGIN": "istvan1"
                                },
                                {
                                    "LOGIN": "ISTVANV"
                                },
                                {
                                    "LOGIN": "janos3"
                                },
                                {
                                    "LOGIN": "JANOSG"
                                },
                                {
                                    "LOGIN": "JANOSP"
                                },
                                {
                                    "LOGIN": "jozsef2"
                                },
                                {
                                    "LOGIN": "JOZSEFG"
                                },
                                {
                                    "LOGIN": "julia4"
                                },
                                {
                                    "LOGIN": "julianna4"
                                },
                                {
                                    "LOGIN": "kata"
                                },
                                {
                                    "LOGIN": "katalin"
                                },
                                {
                                    "LOGIN": "katalin4"
                                },
                                {
                                    "LOGIN": "kati"
                                },
                                {
                                    "LOGIN": "katka"
                                },
                                {
                                    "LOGIN": "klaudia2"
                                },
                                {
                                    "LOGIN": "kornel4"
                                },
                                {
                                    "LOGIN": "kristof4"
                                },
                                {
                                    "LOGIN": "kriszti"
                                },
                                {
                                    "LOGIN": "krisztian4"
                                },
                                {
                                    "LOGIN": "krisztina1"
                                },
                                {
                                    "LOGIN": "KRISZTINAG"
                                },
                                {
                                    "LOGIN": "lajos"
                                },
                                {
                                    "LOGIN": "lala"
                                },
                                {
                                    "LOGIN": "laszlo2"
                                },
                                {
                                    "LOGIN": "maria1"
                                },
                                {
                                    "LOGIN": "marton"
                                },
                                {
                                    "LOGIN": "MATEK"
                                },
                                {
                                    "LOGIN": "MATYASS"
                                },
                                {
                                    "LOGIN": "MIHALYJ"
                                },
                                {
                                    "LOGIN": "miklos2"
                                },
                                {
                                    "LOGIN": "MIKLOSB"
                                },
                                {
                                    "LOGIN": "nikolett3"
                                },
                                {
                                    "LOGIN": "NIKOLETTAT"
                                },
                                {
                                    "LOGIN": "norbert2"
                                },
                                {
                                    "LOGIN": "norbert4"
                                },
                                {
                                    "LOGIN": "norbert5"
                                },
                                {
                                    "LOGIN": "peter2"
                                },
                                {
                                    "LOGIN": "peter3"
                                },
                                {
                                    "LOGIN": "PETERB"
                                },
                                {
                                    "LOGIN": "polla"
                                },
                                {
                                    "LOGIN": "rajmond4"
                                },
                                {
                                    "LOGIN": "reka4"
                                },
                                {
                                    "LOGIN": "RENATAS"
                                },
                                {
                                    "LOGIN": "robert2"
                                },
                                {
                                    "LOGIN": "ROBERTI"
                                },
                                {
                                    "LOGIN": "ROBERTP"
                                },
                                {
                                    "LOGIN": "roza2"
                                },
                                {
                                    "LOGIN": "sandor"
                                },
                                {
                                    "LOGIN": "sandor3"
                                },
                                {
                                    "LOGIN": "sandor4"
                                },
                                {
                                    "LOGIN": "sara"
                                },
                                {
                                    "LOGIN": "SEBASTIANF"
                                },
                                {
                                    "LOGIN": "sebestyen"
                                },
                                {
                                    "LOGIN": "tamara2"
                                },
                                {
                                    "LOGIN": "tibor2"
                                },
                                {
                                    "LOGIN": "tihamer"
                                },
                                {
                                    "LOGIN": "timea"
                                },
                                {
                                    "LOGIN": "timea2"
                                },
                                {
                                    "LOGIN": "tunde"
                                },
                                {
                                    "LOGIN": "valentin"
                                },
                                {
                                    "LOGIN": "veronika4"
                                },
                                {
                                    "LOGIN": "VIKTORIAU"
                                },
                                {
                                    "LOGIN": "VIKTORK"
                                },
                                {
                                    "LOGIN": "vivien3"
                                },
                                {
                                    "LOGIN": "zoltan"
                                },
                                {
                                    "LOGIN": "ZOLTANP"
                                },
                                {
                                    "LOGIN": "zsofi1"
                                },
                                {
                                    "LOGIN": "zsolt1"
                                },
                                {
                                    "LOGIN": "ZSOLTJ"
                                },
                                {
                                    "LOGIN": "zsuzsa"
                                },
                                {
                                    "LOGIN": "zsuzsa3"
                                },
                                {
                                    "LOGIN": "zsuzsanna"
                                }
                            ]
                        },
                        "text/html": "<table><tr><th>LOGIN</th></tr><tr><td>adam3</td></tr><tr><td>adam4</td></tr><tr><td>AGNESH</td></tr><tr><td>AGNESK</td></tr><tr><td>alexandra</td></tr><tr><td>andi</td></tr><tr><td>andras2</td></tr><tr><td>andras3</td></tr><tr><td>andras4</td></tr><tr><td>ANDRASN</td></tr><tr><td>andrea</td></tr><tr><td>andrea4</td></tr><tr><td>ANDREAT</td></tr><tr><td>anett3</td></tr><tr><td>aniko4</td></tr><tr><td>anita</td></tr><tr><td>annamaria1</td></tr><tr><td>ANNAMARIAR</td></tr><tr><td>arpad2</td></tr><tr><td>ARPADH</td></tr><tr><td>ARPADM</td></tr><tr><td>attila1</td></tr><tr><td>ATTILAO</td></tr><tr><td>balazs2</td></tr><tr><td>balazs3</td></tr><tr><td>balint</td></tr><tr><td>balint2</td></tr><tr><td>BELAF</td></tr><tr><td>bence</td></tr><tr><td>BENCEB</td></tr><tr><td>bernadett1</td></tr><tr><td>bernadett2</td></tr><tr><td>BERNADETTO</td></tr><tr><td>csongor3</td></tr><tr><td>dani</td></tr><tr><td>daniel</td></tr><tr><td>david1</td></tr><tr><td>david4</td></tr><tr><td>debora</td></tr><tr><td>denes</td></tr><tr><td>edit</td></tr><tr><td>ESZTERE</td></tr><tr><td>EVAV</td></tr><tr><td>fruzsina4</td></tr><tr><td>gabor1</td></tr><tr><td>gabor4</td></tr><tr><td>GABORS</td></tr><tr><td>gabriella1</td></tr><tr><td>gabriella10</td></tr><tr><td>georgij</td></tr><tr><td>gusztav</td></tr><tr><td>GYONGYIK</td></tr><tr><td>GYORGYO</td></tr><tr><td>henrik3</td></tr><tr><td>ilona3</td></tr><tr><td>imre</td></tr><tr><td>imre1</td></tr><tr><td>istvan</td></tr><tr><td>istvan1</td></tr><tr><td>ISTVANV</td></tr><tr><td>janos3</td></tr><tr><td>JANOSG</td></tr><tr><td>JANOSP</td></tr><tr><td>jozsef2</td></tr><tr><td>JOZSEFG</td></tr><tr><td>julia4</td></tr><tr><td>julianna4</td></tr><tr><td>kata</td></tr><tr><td>katalin</td></tr><tr><td>katalin4</td></tr><tr><td>kati</td></tr><tr><td>katka</td></tr><tr><td>klaudia2</td></tr><tr><td>kornel4</td></tr><tr><td>kristof4</td></tr><tr><td>kriszti</td></tr><tr><td>krisztian4</td></tr><tr><td>krisztina1</td></tr><tr><td>KRISZTINAG</td></tr><tr><td>lajos</td></tr><tr><td>lala</td></tr><tr><td>laszlo2</td></tr><tr><td>maria1</td></tr><tr><td>marton</td></tr><tr><td>MATEK</td></tr><tr><td>MATYASS</td></tr><tr><td>MIHALYJ</td></tr><tr><td>miklos2</td></tr><tr><td>MIKLOSB</td></tr><tr><td>nikolett3</td></tr><tr><td>NIKOLETTAT</td></tr><tr><td>norbert2</td></tr><tr><td>norbert4</td></tr><tr><td>norbert5</td></tr><tr><td>peter2</td></tr><tr><td>peter3</td></tr><tr><td>PETERB</td></tr><tr><td>polla</td></tr><tr><td>rajmond4</td></tr><tr><td>reka4</td></tr><tr><td>RENATAS</td></tr><tr><td>robert2</td></tr><tr><td>ROBERTI</td></tr><tr><td>ROBERTP</td></tr><tr><td>roza2</td></tr><tr><td>sandor</td></tr><tr><td>sandor3</td></tr><tr><td>sandor4</td></tr><tr><td>sara</td></tr><tr><td>SEBASTIANF</td></tr><tr><td>sebestyen</td></tr><tr><td>tamara2</td></tr><tr><td>tibor2</td></tr><tr><td>tihamer</td></tr><tr><td>timea</td></tr><tr><td>timea2</td></tr><tr><td>tunde</td></tr><tr><td>valentin</td></tr><tr><td>veronika4</td></tr><tr><td>VIKTORIAU</td></tr><tr><td>VIKTORK</td></tr><tr><td>vivien3</td></tr><tr><td>zoltan</td></tr><tr><td>ZOLTANP</td></tr><tr><td>zsofi1</td></tr><tr><td>zsolt1</td></tr><tr><td>ZSOLTJ</td></tr><tr><td>zsuzsa</td></tr><tr><td>zsuzsa3</td></tr><tr><td>zsuzsanna</td></tr></table>"
                    },
                    "metadata": {}
                }
            ],
            "execution_count": 23
        },
        {
            "cell_type": "code",
            "source": [
                "SELECT IIF(v.usernev IS NULL, 'Végösszeg', v.usernev) AS 'Ügyfél',\r\n",
                "       COUNT(DISTINCT(szh.SZALLAS_ID)) AS 'Különböző szálláshelyek száma'\r\n",
                "FROM Vendeg v LEFT JOIN Foglalas f ON v.USERNEV = f.UGYFEL_FK\r\n",
                "              LEFT JOIN Szoba sz ON f.SZOBA_FK = sz.SZOBA_ID\r\n",
                "              LEFT JOIN Szallashely szh ON sz.SZALLAS_FK = szh.SZALLAS_ID\r\n",
                "GROUP BY ROLLUP(v.USERNEV)\r\n",
                ""
            ],
            "metadata": {
                "azdata_cell_guid": "4f0242cb-8920-4037-88ca-eedd9b3efaec",
                "language": "sql"
            },
            "outputs": [
                {
                    "output_type": "display_data",
                    "data": {
                        "text/html": "Warning: Null value is eliminated by an aggregate or other SET operation."
                    },
                    "metadata": {}
                },
                {
                    "output_type": "display_data",
                    "data": {
                        "text/html": "(197 rows affected)"
                    },
                    "metadata": {}
                },
                {
                    "output_type": "display_data",
                    "data": {
                        "text/html": "Total execution time: 00:00:00.119"
                    },
                    "metadata": {}
                },
                {
                    "output_type": "execute_result",
                    "metadata": {},
                    "execution_count": 1,
                    "data": {
                        "application/vnd.dataresource+json": {
                            "schema": {
                                "fields": [
                                    {
                                        "name": "Ügyfél"
                                    },
                                    {
                                        "name": "Különböző szálláshelyek száma"
                                    }
                                ]
                            },
                            "data": [
                                {
                                    "Ügyfél": "adam1",
                                    "Különböző szálláshelyek száma": "2"
                                },
                                {
                                    "Ügyfél": "adam3",
                                    "Különböző szálláshelyek száma": "2"
                                },
                                {
                                    "Ügyfél": "adam4",
                                    "Különböző szálláshelyek száma": "5"
                                },
                                {
                                    "Ügyfél": "agnes",
                                    "Különböző szálláshelyek száma": "4"
                                },
                                {
                                    "Ügyfél": "agnes3",
                                    "Különböző szálláshelyek száma": "3"
                                },
                                {
                                    "Ügyfél": "AGNESH",
                                    "Különböző szálláshelyek száma": "5"
                                },
                                {
                                    "Ügyfél": "AGNESK",
                                    "Különböző szálláshelyek száma": "3"
                                },
                                {
                                    "Ügyfél": "akos",
                                    "Különböző szálláshelyek száma": "7"
                                },
                                {
                                    "Ügyfél": "aladar",
                                    "Különböző szálláshelyek száma": "3"
                                },
                                {
                                    "Ügyfél": "alexandra",
                                    "Különböző szálláshelyek száma": "6"
                                },
                                {
                                    "Ügyfél": "andi",
                                    "Különböző szálláshelyek száma": "4"
                                },
                                {
                                    "Ügyfél": "andras2",
                                    "Különböző szálláshelyek száma": "3"
                                },
                                {
                                    "Ügyfél": "andras21",
                                    "Különböző szálláshelyek száma": "6"
                                },
                                {
                                    "Ügyfél": "andras3",
                                    "Különböző szálláshelyek száma": "5"
                                },
                                {
                                    "Ügyfél": "andras4",
                                    "Különböző szálláshelyek száma": "2"
                                },
                                {
                                    "Ügyfél": "andras41",
                                    "Különböző szálláshelyek száma": "5"
                                },
                                {
                                    "Ügyfél": "ANDRASE",
                                    "Különböző szálláshelyek száma": "3"
                                },
                                {
                                    "Ügyfél": "ANDRASN",
                                    "Különböző szálláshelyek száma": "1"
                                },
                                {
                                    "Ügyfél": "andrea",
                                    "Különböző szálláshelyek száma": "4"
                                },
                                {
                                    "Ügyfél": "andrea3",
                                    "Különböző szálláshelyek száma": "1"
                                },
                                {
                                    "Ügyfél": "andrea4",
                                    "Különböző szálláshelyek száma": "2"
                                },
                                {
                                    "Ügyfél": "ANDREAT",
                                    "Különböző szálláshelyek száma": "2"
                                },
                                {
                                    "Ügyfél": "anett3",
                                    "Különböző szálláshelyek száma": "6"
                                },
                                {
                                    "Ügyfél": "aniko",
                                    "Különböző szálláshelyek száma": "3"
                                },
                                {
                                    "Ügyfél": "aniko4",
                                    "Különböző szálláshelyek száma": "3"
                                },
                                {
                                    "Ügyfél": "ANIKOS",
                                    "Különböző szálláshelyek száma": "6"
                                },
                                {
                                    "Ügyfél": "anita",
                                    "Különböző szálláshelyek száma": "4"
                                },
                                {
                                    "Ügyfél": "annamaria1",
                                    "Különböző szálláshelyek száma": "1"
                                },
                                {
                                    "Ügyfél": "ANNAMARIAR",
                                    "Különböző szálláshelyek száma": "5"
                                },
                                {
                                    "Ügyfél": "aron2",
                                    "Különböző szálláshelyek száma": "5"
                                },
                                {
                                    "Ügyfél": "ARONK",
                                    "Különböző szálláshelyek száma": "8"
                                },
                                {
                                    "Ügyfél": "arpad2",
                                    "Különböző szálláshelyek száma": "4"
                                },
                                {
                                    "Ügyfél": "ARPADH",
                                    "Különböző szálláshelyek száma": "3"
                                },
                                {
                                    "Ügyfél": "ARPADM",
                                    "Különböző szálláshelyek száma": "5"
                                },
                                {
                                    "Ügyfél": "attila",
                                    "Különböző szálláshelyek száma": "3"
                                },
                                {
                                    "Ügyfél": "attila1",
                                    "Különböző szálláshelyek száma": "5"
                                },
                                {
                                    "Ügyfél": "attila4",
                                    "Különböző szálláshelyek száma": "3"
                                },
                                {
                                    "Ügyfél": "ATTILAO",
                                    "Különböző szálláshelyek száma": "2"
                                },
                                {
                                    "Ügyfél": "balazs1",
                                    "Különböző szálláshelyek száma": "6"
                                },
                                {
                                    "Ügyfél": "balazs2",
                                    "Különböző szálláshelyek száma": "8"
                                },
                                {
                                    "Ügyfél": "balazs3",
                                    "Különböző szálláshelyek száma": "4"
                                },
                                {
                                    "Ügyfél": "balint",
                                    "Különböző szálláshelyek száma": "3"
                                },
                                {
                                    "Ügyfél": "balint1",
                                    "Különböző szálláshelyek száma": "9"
                                },
                                {
                                    "Ügyfél": "balint2",
                                    "Különböző szálláshelyek száma": "1"
                                },
                                {
                                    "Ügyfél": "balu",
                                    "Különböző szálláshelyek száma": "2"
                                },
                                {
                                    "Ügyfél": "beata4",
                                    "Különböző szálláshelyek száma": "4"
                                },
                                {
                                    "Ügyfél": "BEATRIXK",
                                    "Különböző szálláshelyek száma": "7"
                                },
                                {
                                    "Ügyfél": "BEATRIXS",
                                    "Különböző szálláshelyek száma": "5"
                                },
                                {
                                    "Ügyfél": "BELAF",
                                    "Különböző szálláshelyek száma": "3"
                                },
                                {
                                    "Ügyfél": "bence",
                                    "Különböző szálláshelyek száma": "6"
                                },
                                {
                                    "Ügyfél": "BENCEB",
                                    "Különböző szálláshelyek száma": "4"
                                },
                                {
                                    "Ügyfél": "bernadett1",
                                    "Különböző szálláshelyek száma": "5"
                                },
                                {
                                    "Ügyfél": "bernadett2",
                                    "Különböző szálláshelyek száma": "5"
                                },
                                {
                                    "Ügyfél": "BERNADETTO",
                                    "Különböző szálláshelyek száma": "6"
                                },
                                {
                                    "Ügyfél": "bertalan",
                                    "Különböző szálláshelyek száma": "4"
                                },
                                {
                                    "Ügyfél": "brigitta",
                                    "Különböző szálláshelyek száma": "4"
                                },
                                {
                                    "Ügyfél": "brigitta3",
                                    "Különböző szálláshelyek száma": "4"
                                },
                                {
                                    "Ügyfél": "csongor3",
                                    "Különböző szálláshelyek száma": "6"
                                },
                                {
                                    "Ügyfél": "dani",
                                    "Különböző szálláshelyek száma": "6"
                                },
                                {
                                    "Ügyfél": "daniel",
                                    "Különböző szálláshelyek száma": "5"
                                },
                                {
                                    "Ügyfél": "daniel1",
                                    "Különböző szálláshelyek száma": "5"
                                },
                                {
                                    "Ügyfél": "david",
                                    "Különböző szálláshelyek száma": "6"
                                },
                                {
                                    "Ügyfél": "david1",
                                    "Különböző szálláshelyek száma": "5"
                                },
                                {
                                    "Ügyfél": "david4",
                                    "Különböző szálláshelyek száma": "1"
                                },
                                {
                                    "Ügyfél": "debora",
                                    "Különböző szálláshelyek száma": "4"
                                },
                                {
                                    "Ügyfél": "denes",
                                    "Különböző szálláshelyek száma": "3"
                                },
                                {
                                    "Ügyfél": "dora3",
                                    "Különböző szálláshelyek száma": "4"
                                },
                                {
                                    "Ügyfél": "edit",
                                    "Különböző szálláshelyek száma": "5"
                                },
                                {
                                    "Ügyfél": "emese",
                                    "Különböző szálláshelyek száma": "3"
                                },
                                {
                                    "Ügyfél": "eszter",
                                    "Különböző szálláshelyek száma": "4"
                                },
                                {
                                    "Ügyfél": "eszter2",
                                    "Különböző szálláshelyek száma": "5"
                                },
                                {
                                    "Ügyfél": "eszter4",
                                    "Különböző szálláshelyek száma": "3"
                                },
                                {
                                    "Ügyfél": "ESZTERE",
                                    "Különböző szálláshelyek száma": "3"
                                },
                                {
                                    "Ügyfél": "eva",
                                    "Különböző szálláshelyek száma": "2"
                                },
                                {
                                    "Ügyfél": "eva2",
                                    "Különböző szálláshelyek száma": "3"
                                },
                                {
                                    "Ügyfél": "EVAV",
                                    "Különböző szálláshelyek száma": "4"
                                },
                                {
                                    "Ügyfél": "ferenc1",
                                    "Különböző szálláshelyek száma": "4"
                                },
                                {
                                    "Ügyfél": "fruzsina4",
                                    "Különböző szálláshelyek száma": "5"
                                },
                                {
                                    "Ügyfél": "gabor1",
                                    "Különböző szálláshelyek száma": "5"
                                },
                                {
                                    "Ügyfél": "gabor4",
                                    "Különböző szálláshelyek száma": "4"
                                },
                                {
                                    "Ügyfél": "GABORS",
                                    "Különböző szálláshelyek száma": "0"
                                },
                                {
                                    "Ügyfél": "gabriella1",
                                    "Különböző szálláshelyek száma": "4"
                                },
                                {
                                    "Ügyfél": "gabriella10",
                                    "Különböző szálláshelyek száma": "1"
                                },
                                {
                                    "Ügyfél": "georgij",
                                    "Különböző szálláshelyek száma": "4"
                                },
                                {
                                    "Ügyfél": "gusztav",
                                    "Különböző szálláshelyek száma": "5"
                                },
                                {
                                    "Ügyfél": "GYONGYIK",
                                    "Különböző szálláshelyek száma": "7"
                                },
                                {
                                    "Ügyfél": "GYORGYO",
                                    "Különböző szálláshelyek száma": "3"
                                },
                                {
                                    "Ügyfél": "henrik3",
                                    "Különböző szálláshelyek száma": "3"
                                },
                                {
                                    "Ügyfél": "IBOLYAA",
                                    "Különböző szálláshelyek száma": "2"
                                },
                                {
                                    "Ügyfél": "ilona3",
                                    "Különböző szálláshelyek száma": "2"
                                },
                                {
                                    "Ügyfél": "imre",
                                    "Különböző szálláshelyek száma": "2"
                                },
                                {
                                    "Ügyfél": "imre1",
                                    "Különböző szálláshelyek száma": "4"
                                },
                                {
                                    "Ügyfél": "istvan",
                                    "Különböző szálláshelyek száma": "3"
                                },
                                {
                                    "Ügyfél": "istvan1",
                                    "Különböző szálláshelyek száma": "4"
                                },
                                {
                                    "Ügyfél": "ISTVANV",
                                    "Különböző szálláshelyek száma": "2"
                                },
                                {
                                    "Ügyfél": "janos3",
                                    "Különböző szálláshelyek száma": "5"
                                },
                                {
                                    "Ügyfél": "JANOSG",
                                    "Különböző szálláshelyek száma": "3"
                                },
                                {
                                    "Ügyfél": "JANOSP",
                                    "Különböző szálláshelyek száma": "3"
                                },
                                {
                                    "Ügyfél": "jozsef",
                                    "Különböző szálláshelyek száma": "3"
                                },
                                {
                                    "Ügyfél": "jozsef2",
                                    "Különböző szálláshelyek száma": "3"
                                },
                                {
                                    "Ügyfél": "JOZSEFG",
                                    "Különböző szálláshelyek száma": "5"
                                },
                                {
                                    "Ügyfél": "JUDITH",
                                    "Különböző szálláshelyek száma": "3"
                                },
                                {
                                    "Ügyfél": "julia",
                                    "Különböző szálláshelyek száma": "2"
                                },
                                {
                                    "Ügyfél": "julia4",
                                    "Különböző szálláshelyek száma": "2"
                                },
                                {
                                    "Ügyfél": "julianna4",
                                    "Különböző szálláshelyek száma": "4"
                                },
                                {
                                    "Ügyfél": "kata",
                                    "Különböző szálláshelyek száma": "5"
                                },
                                {
                                    "Ügyfél": "katalin",
                                    "Különböző szálláshelyek száma": "6"
                                },
                                {
                                    "Ügyfél": "katalin4",
                                    "Különböző szálláshelyek száma": "3"
                                },
                                {
                                    "Ügyfél": "kati",
                                    "Különböző szálláshelyek száma": "4"
                                },
                                {
                                    "Ügyfél": "katka",
                                    "Különböző szálláshelyek száma": "4"
                                },
                                {
                                    "Ügyfél": "klaudia2",
                                    "Különböző szálláshelyek száma": "3"
                                },
                                {
                                    "Ügyfél": "kornel4",
                                    "Különböző szálláshelyek száma": "3"
                                },
                                {
                                    "Ügyfél": "kristof4",
                                    "Különböző szálláshelyek száma": "2"
                                },
                                {
                                    "Ügyfél": "kriszti",
                                    "Különböző szálláshelyek száma": "6"
                                },
                                {
                                    "Ügyfél": "krisztian4",
                                    "Különböző szálláshelyek száma": "6"
                                },
                                {
                                    "Ügyfél": "KRISZTIANM",
                                    "Különböző szálláshelyek száma": "6"
                                },
                                {
                                    "Ügyfél": "krisztina",
                                    "Különböző szálláshelyek száma": "5"
                                },
                                {
                                    "Ügyfél": "krisztina1",
                                    "Különböző szálláshelyek száma": "4"
                                },
                                {
                                    "Ügyfél": "KRISZTINAG",
                                    "Különböző szálláshelyek száma": "5"
                                },
                                {
                                    "Ügyfél": "lajos",
                                    "Különböző szálláshelyek száma": "3"
                                },
                                {
                                    "Ügyfél": "lala",
                                    "Különböző szálláshelyek száma": "5"
                                },
                                {
                                    "Ügyfél": "laszlo1",
                                    "Különböző szálláshelyek száma": "1"
                                },
                                {
                                    "Ügyfél": "laszlo2",
                                    "Különböző szálláshelyek száma": "5"
                                },
                                {
                                    "Ügyfél": "LASZLOA",
                                    "Különböző szálláshelyek száma": "3"
                                },
                                {
                                    "Ügyfél": "LASZLON",
                                    "Különböző szálláshelyek száma": "5"
                                },
                                {
                                    "Ügyfél": "maria1",
                                    "Különböző szálláshelyek száma": "6"
                                },
                                {
                                    "Ügyfél": "mark",
                                    "Különböző szálláshelyek száma": "3"
                                },
                                {
                                    "Ügyfél": "MARKH",
                                    "Különböző szálláshelyek száma": "2"
                                },
                                {
                                    "Ügyfél": "marton",
                                    "Különböző szálláshelyek száma": "6"
                                },
                                {
                                    "Ügyfél": "MATEK",
                                    "Különböző szálláshelyek száma": "3"
                                },
                                {
                                    "Ügyfél": "matyas2",
                                    "Különböző szálláshelyek száma": "2"
                                },
                                {
                                    "Ügyfél": "MATYASS",
                                    "Különböző szálláshelyek száma": "5"
                                },
                                {
                                    "Ügyfél": "MIHALYJ",
                                    "Különböző szálláshelyek száma": "4"
                                },
                                {
                                    "Ügyfél": "miklos2",
                                    "Különböző szálláshelyek száma": "3"
                                },
                                {
                                    "Ügyfél": "MIKLOSB",
                                    "Különböző szálláshelyek száma": "3"
                                },
                                {
                                    "Ügyfél": "MONIKAM",
                                    "Különböző szálláshelyek száma": "5"
                                },
                                {
                                    "Ügyfél": "NANDORF",
                                    "Különböző szálláshelyek száma": "2"
                                },
                                {
                                    "Ügyfél": "nikolett3",
                                    "Különböző szálláshelyek száma": "4"
                                },
                                {
                                    "Ügyfél": "nikoletta4",
                                    "Különböző szálláshelyek száma": "4"
                                },
                                {
                                    "Ügyfél": "NIKOLETTAT",
                                    "Különböző szálláshelyek száma": "4"
                                },
                                {
                                    "Ügyfél": "norbert",
                                    "Különböző szálláshelyek száma": "4"
                                },
                                {
                                    "Ügyfél": "norbert2",
                                    "Különböző szálláshelyek száma": "5"
                                },
                                {
                                    "Ügyfél": "norbert4",
                                    "Különböző szálláshelyek száma": "5"
                                },
                                {
                                    "Ügyfél": "norbert5",
                                    "Különböző szálláshelyek száma": "2"
                                },
                                {
                                    "Ügyfél": "pal",
                                    "Különböző szálláshelyek száma": "3"
                                },
                                {
                                    "Ügyfél": "peter1",
                                    "Különböző szálláshelyek száma": "3"
                                },
                                {
                                    "Ügyfél": "peter2",
                                    "Különböző szálláshelyek száma": "4"
                                },
                                {
                                    "Ügyfél": "peter3",
                                    "Különböző szálláshelyek száma": "3"
                                },
                                {
                                    "Ügyfél": "peter4",
                                    "Különböző szálláshelyek száma": "7"
                                },
                                {
                                    "Ügyfél": "PETERB",
                                    "Különböző szálláshelyek száma": "3"
                                },
                                {
                                    "Ügyfél": "polla",
                                    "Különböző szálláshelyek száma": "4"
                                },
                                {
                                    "Ügyfél": "rajmond4",
                                    "Különböző szálláshelyek száma": "4"
                                },
                                {
                                    "Ügyfél": "reka4",
                                    "Különböző szálláshelyek száma": "4"
                                },
                                {
                                    "Ügyfél": "RENATAK",
                                    "Különböző szálláshelyek száma": "5"
                                },
                                {
                                    "Ügyfél": "RENATAS",
                                    "Különböző szálláshelyek száma": "3"
                                },
                                {
                                    "Ügyfél": "robert2",
                                    "Különböző szálláshelyek száma": "4"
                                },
                                {
                                    "Ügyfél": "ROBERTI",
                                    "Különböző szálláshelyek száma": "4"
                                },
                                {
                                    "Ügyfél": "ROBERTP",
                                    "Különböző szálláshelyek száma": "2"
                                },
                                {
                                    "Ügyfél": "roland",
                                    "Különböző szálláshelyek száma": "3"
                                },
                                {
                                    "Ügyfél": "roland1",
                                    "Különböző szálláshelyek száma": "4"
                                },
                                {
                                    "Ügyfél": "roza2",
                                    "Különböző szálláshelyek száma": "3"
                                },
                                {
                                    "Ügyfél": "sandor",
                                    "Különböző szálláshelyek száma": "4"
                                },
                                {
                                    "Ügyfél": "sandor3",
                                    "Különböző szálláshelyek száma": "3"
                                },
                                {
                                    "Ügyfél": "sandor4",
                                    "Különböző szálláshelyek száma": "3"
                                },
                                {
                                    "Ügyfél": "sara",
                                    "Különböző szálláshelyek száma": "9"
                                },
                                {
                                    "Ügyfél": "SEBASTIANF",
                                    "Különböző szálláshelyek száma": "3"
                                },
                                {
                                    "Ügyfél": "sebestyen",
                                    "Különböző szálláshelyek száma": "2"
                                },
                                {
                                    "Ügyfél": "szabolcs",
                                    "Különböző szálláshelyek száma": "1"
                                },
                                {
                                    "Ügyfél": "SZABOLCSM",
                                    "Különböző szálláshelyek száma": "4"
                                },
                                {
                                    "Ügyfél": "SZILARDS",
                                    "Különböző szálláshelyek száma": "5"
                                },
                                {
                                    "Ügyfél": "szilvia1",
                                    "Különböző szálláshelyek száma": "6"
                                },
                                {
                                    "Ügyfél": "tamara2",
                                    "Különböző szálláshelyek száma": "2"
                                },
                                {
                                    "Ügyfél": "tamas",
                                    "Különböző szálláshelyek száma": "4"
                                },
                                {
                                    "Ügyfél": "TAMASF",
                                    "Különböző szálláshelyek száma": "6"
                                },
                                {
                                    "Ügyfél": "tibor",
                                    "Különböző szálláshelyek száma": "2"
                                },
                                {
                                    "Ügyfél": "tibor2",
                                    "Különböző szálláshelyek száma": "1"
                                },
                                {
                                    "Ügyfél": "tihamer",
                                    "Különböző szálláshelyek száma": "4"
                                },
                                {
                                    "Ügyfél": "timea",
                                    "Különböző szálláshelyek száma": "1"
                                },
                                {
                                    "Ügyfél": "timea2",
                                    "Különböző szálláshelyek száma": "5"
                                },
                                {
                                    "Ügyfél": "tunde",
                                    "Különböző szálláshelyek száma": "7"
                                },
                                {
                                    "Ügyfél": "valentin",
                                    "Különböző szálláshelyek száma": "5"
                                },
                                {
                                    "Ügyfél": "veronika4",
                                    "Különböző szálláshelyek száma": "4"
                                },
                                {
                                    "Ügyfél": "VIKTORIAU",
                                    "Különböző szálláshelyek száma": "4"
                                },
                                {
                                    "Ügyfél": "VIKTORK",
                                    "Különböző szálláshelyek száma": "2"
                                },
                                {
                                    "Ügyfél": "vivien3",
                                    "Különböző szálláshelyek száma": "5"
                                },
                                {
                                    "Ügyfél": "zoltan",
                                    "Különböző szálláshelyek száma": "2"
                                },
                                {
                                    "Ügyfél": "zoltan4",
                                    "Különböző szálláshelyek száma": "5"
                                },
                                {
                                    "Ügyfél": "ZOLTANP",
                                    "Különböző szálláshelyek száma": "3"
                                },
                                {
                                    "Ügyfél": "ZOLTANT",
                                    "Különböző szálláshelyek száma": "2"
                                },
                                {
                                    "Ügyfél": "zsofi1",
                                    "Különböző szálláshelyek száma": "2"
                                },
                                {
                                    "Ügyfél": "zsolt1",
                                    "Különböző szálláshelyek száma": "2"
                                },
                                {
                                    "Ügyfél": "ZSOLTJ",
                                    "Különböző szálláshelyek száma": "6"
                                },
                                {
                                    "Ügyfél": "zsuzsa",
                                    "Különböző szálláshelyek száma": "2"
                                },
                                {
                                    "Ügyfél": "zsuzsa3",
                                    "Különböző szálláshelyek száma": "4"
                                },
                                {
                                    "Ügyfél": "zsuzsanna",
                                    "Különböző szálláshelyek száma": "4"
                                },
                                {
                                    "Ügyfél": "ZSUZSAV",
                                    "Különböző szálláshelyek száma": "5"
                                },
                                {
                                    "Ügyfél": "Végösszeg",
                                    "Különböző szálláshelyek száma": "12"
                                }
                            ]
                        },
                        "text/html": [
                            "<table>",
                            "<tr><th>Ügyfél</th><th>Különböző szálláshelyek száma</th></tr>",
                            "<tr><td>adam1</td><td>2</td></tr>",
                            "<tr><td>adam3</td><td>2</td></tr>",
                            "<tr><td>adam4</td><td>5</td></tr>",
                            "<tr><td>agnes</td><td>4</td></tr>",
                            "<tr><td>agnes3</td><td>3</td></tr>",
                            "<tr><td>AGNESH</td><td>5</td></tr>",
                            "<tr><td>AGNESK</td><td>3</td></tr>",
                            "<tr><td>akos</td><td>7</td></tr>",
                            "<tr><td>aladar</td><td>3</td></tr>",
                            "<tr><td>alexandra</td><td>6</td></tr>",
                            "<tr><td>andi</td><td>4</td></tr>",
                            "<tr><td>andras2</td><td>3</td></tr>",
                            "<tr><td>andras21</td><td>6</td></tr>",
                            "<tr><td>andras3</td><td>5</td></tr>",
                            "<tr><td>andras4</td><td>2</td></tr>",
                            "<tr><td>andras41</td><td>5</td></tr>",
                            "<tr><td>ANDRASE</td><td>3</td></tr>",
                            "<tr><td>ANDRASN</td><td>1</td></tr>",
                            "<tr><td>andrea</td><td>4</td></tr>",
                            "<tr><td>andrea3</td><td>1</td></tr>",
                            "<tr><td>andrea4</td><td>2</td></tr>",
                            "<tr><td>ANDREAT</td><td>2</td></tr>",
                            "<tr><td>anett3</td><td>6</td></tr>",
                            "<tr><td>aniko</td><td>3</td></tr>",
                            "<tr><td>aniko4</td><td>3</td></tr>",
                            "<tr><td>ANIKOS</td><td>6</td></tr>",
                            "<tr><td>anita</td><td>4</td></tr>",
                            "<tr><td>annamaria1</td><td>1</td></tr>",
                            "<tr><td>ANNAMARIAR</td><td>5</td></tr>",
                            "<tr><td>aron2</td><td>5</td></tr>",
                            "<tr><td>ARONK</td><td>8</td></tr>",
                            "<tr><td>arpad2</td><td>4</td></tr>",
                            "<tr><td>ARPADH</td><td>3</td></tr>",
                            "<tr><td>ARPADM</td><td>5</td></tr>",
                            "<tr><td>attila</td><td>3</td></tr>",
                            "<tr><td>attila1</td><td>5</td></tr>",
                            "<tr><td>attila4</td><td>3</td></tr>",
                            "<tr><td>ATTILAO</td><td>2</td></tr>",
                            "<tr><td>balazs1</td><td>6</td></tr>",
                            "<tr><td>balazs2</td><td>8</td></tr>",
                            "<tr><td>balazs3</td><td>4</td></tr>",
                            "<tr><td>balint</td><td>3</td></tr>",
                            "<tr><td>balint1</td><td>9</td></tr>",
                            "<tr><td>balint2</td><td>1</td></tr>",
                            "<tr><td>balu</td><td>2</td></tr>",
                            "<tr><td>beata4</td><td>4</td></tr>",
                            "<tr><td>BEATRIXK</td><td>7</td></tr>",
                            "<tr><td>BEATRIXS</td><td>5</td></tr>",
                            "<tr><td>BELAF</td><td>3</td></tr>",
                            "<tr><td>bence</td><td>6</td></tr>",
                            "<tr><td>BENCEB</td><td>4</td></tr>",
                            "<tr><td>bernadett1</td><td>5</td></tr>",
                            "<tr><td>bernadett2</td><td>5</td></tr>",
                            "<tr><td>BERNADETTO</td><td>6</td></tr>",
                            "<tr><td>bertalan</td><td>4</td></tr>",
                            "<tr><td>brigitta</td><td>4</td></tr>",
                            "<tr><td>brigitta3</td><td>4</td></tr>",
                            "<tr><td>csongor3</td><td>6</td></tr>",
                            "<tr><td>dani</td><td>6</td></tr>",
                            "<tr><td>daniel</td><td>5</td></tr>",
                            "<tr><td>daniel1</td><td>5</td></tr>",
                            "<tr><td>david</td><td>6</td></tr>",
                            "<tr><td>david1</td><td>5</td></tr>",
                            "<tr><td>david4</td><td>1</td></tr>",
                            "<tr><td>debora</td><td>4</td></tr>",
                            "<tr><td>denes</td><td>3</td></tr>",
                            "<tr><td>dora3</td><td>4</td></tr>",
                            "<tr><td>edit</td><td>5</td></tr>",
                            "<tr><td>emese</td><td>3</td></tr>",
                            "<tr><td>eszter</td><td>4</td></tr>",
                            "<tr><td>eszter2</td><td>5</td></tr>",
                            "<tr><td>eszter4</td><td>3</td></tr>",
                            "<tr><td>ESZTERE</td><td>3</td></tr>",
                            "<tr><td>eva</td><td>2</td></tr>",
                            "<tr><td>eva2</td><td>3</td></tr>",
                            "<tr><td>EVAV</td><td>4</td></tr>",
                            "<tr><td>ferenc1</td><td>4</td></tr>",
                            "<tr><td>fruzsina4</td><td>5</td></tr>",
                            "<tr><td>gabor1</td><td>5</td></tr>",
                            "<tr><td>gabor4</td><td>4</td></tr>",
                            "<tr><td>GABORS</td><td>0</td></tr>",
                            "<tr><td>gabriella1</td><td>4</td></tr>",
                            "<tr><td>gabriella10</td><td>1</td></tr>",
                            "<tr><td>georgij</td><td>4</td></tr>",
                            "<tr><td>gusztav</td><td>5</td></tr>",
                            "<tr><td>GYONGYIK</td><td>7</td></tr>",
                            "<tr><td>GYORGYO</td><td>3</td></tr>",
                            "<tr><td>henrik3</td><td>3</td></tr>",
                            "<tr><td>IBOLYAA</td><td>2</td></tr>",
                            "<tr><td>ilona3</td><td>2</td></tr>",
                            "<tr><td>imre</td><td>2</td></tr>",
                            "<tr><td>imre1</td><td>4</td></tr>",
                            "<tr><td>istvan</td><td>3</td></tr>",
                            "<tr><td>istvan1</td><td>4</td></tr>",
                            "<tr><td>ISTVANV</td><td>2</td></tr>",
                            "<tr><td>janos3</td><td>5</td></tr>",
                            "<tr><td>JANOSG</td><td>3</td></tr>",
                            "<tr><td>JANOSP</td><td>3</td></tr>",
                            "<tr><td>jozsef</td><td>3</td></tr>",
                            "<tr><td>jozsef2</td><td>3</td></tr>",
                            "<tr><td>JOZSEFG</td><td>5</td></tr>",
                            "<tr><td>JUDITH</td><td>3</td></tr>",
                            "<tr><td>julia</td><td>2</td></tr>",
                            "<tr><td>julia4</td><td>2</td></tr>",
                            "<tr><td>julianna4</td><td>4</td></tr>",
                            "<tr><td>kata</td><td>5</td></tr>",
                            "<tr><td>katalin</td><td>6</td></tr>",
                            "<tr><td>katalin4</td><td>3</td></tr>",
                            "<tr><td>kati</td><td>4</td></tr>",
                            "<tr><td>katka</td><td>4</td></tr>",
                            "<tr><td>klaudia2</td><td>3</td></tr>",
                            "<tr><td>kornel4</td><td>3</td></tr>",
                            "<tr><td>kristof4</td><td>2</td></tr>",
                            "<tr><td>kriszti</td><td>6</td></tr>",
                            "<tr><td>krisztian4</td><td>6</td></tr>",
                            "<tr><td>KRISZTIANM</td><td>6</td></tr>",
                            "<tr><td>krisztina</td><td>5</td></tr>",
                            "<tr><td>krisztina1</td><td>4</td></tr>",
                            "<tr><td>KRISZTINAG</td><td>5</td></tr>",
                            "<tr><td>lajos</td><td>3</td></tr>",
                            "<tr><td>lala</td><td>5</td></tr>",
                            "<tr><td>laszlo1</td><td>1</td></tr>",
                            "<tr><td>laszlo2</td><td>5</td></tr>",
                            "<tr><td>LASZLOA</td><td>3</td></tr>",
                            "<tr><td>LASZLON</td><td>5</td></tr>",
                            "<tr><td>maria1</td><td>6</td></tr>",
                            "<tr><td>mark</td><td>3</td></tr>",
                            "<tr><td>MARKH</td><td>2</td></tr>",
                            "<tr><td>marton</td><td>6</td></tr>",
                            "<tr><td>MATEK</td><td>3</td></tr>",
                            "<tr><td>matyas2</td><td>2</td></tr>",
                            "<tr><td>MATYASS</td><td>5</td></tr>",
                            "<tr><td>MIHALYJ</td><td>4</td></tr>",
                            "<tr><td>miklos2</td><td>3</td></tr>",
                            "<tr><td>MIKLOSB</td><td>3</td></tr>",
                            "<tr><td>MONIKAM</td><td>5</td></tr>",
                            "<tr><td>NANDORF</td><td>2</td></tr>",
                            "<tr><td>nikolett3</td><td>4</td></tr>",
                            "<tr><td>nikoletta4</td><td>4</td></tr>",
                            "<tr><td>NIKOLETTAT</td><td>4</td></tr>",
                            "<tr><td>norbert</td><td>4</td></tr>",
                            "<tr><td>norbert2</td><td>5</td></tr>",
                            "<tr><td>norbert4</td><td>5</td></tr>",
                            "<tr><td>norbert5</td><td>2</td></tr>",
                            "<tr><td>pal</td><td>3</td></tr>",
                            "<tr><td>peter1</td><td>3</td></tr>",
                            "<tr><td>peter2</td><td>4</td></tr>",
                            "<tr><td>peter3</td><td>3</td></tr>",
                            "<tr><td>peter4</td><td>7</td></tr>",
                            "<tr><td>PETERB</td><td>3</td></tr>",
                            "<tr><td>polla</td><td>4</td></tr>",
                            "<tr><td>rajmond4</td><td>4</td></tr>",
                            "<tr><td>reka4</td><td>4</td></tr>",
                            "<tr><td>RENATAK</td><td>5</td></tr>",
                            "<tr><td>RENATAS</td><td>3</td></tr>",
                            "<tr><td>robert2</td><td>4</td></tr>",
                            "<tr><td>ROBERTI</td><td>4</td></tr>",
                            "<tr><td>ROBERTP</td><td>2</td></tr>",
                            "<tr><td>roland</td><td>3</td></tr>",
                            "<tr><td>roland1</td><td>4</td></tr>",
                            "<tr><td>roza2</td><td>3</td></tr>",
                            "<tr><td>sandor</td><td>4</td></tr>",
                            "<tr><td>sandor3</td><td>3</td></tr>",
                            "<tr><td>sandor4</td><td>3</td></tr>",
                            "<tr><td>sara</td><td>9</td></tr>",
                            "<tr><td>SEBASTIANF</td><td>3</td></tr>",
                            "<tr><td>sebestyen</td><td>2</td></tr>",
                            "<tr><td>szabolcs</td><td>1</td></tr>",
                            "<tr><td>SZABOLCSM</td><td>4</td></tr>",
                            "<tr><td>SZILARDS</td><td>5</td></tr>",
                            "<tr><td>szilvia1</td><td>6</td></tr>",
                            "<tr><td>tamara2</td><td>2</td></tr>",
                            "<tr><td>tamas</td><td>4</td></tr>",
                            "<tr><td>TAMASF</td><td>6</td></tr>",
                            "<tr><td>tibor</td><td>2</td></tr>",
                            "<tr><td>tibor2</td><td>1</td></tr>",
                            "<tr><td>tihamer</td><td>4</td></tr>",
                            "<tr><td>timea</td><td>1</td></tr>",
                            "<tr><td>timea2</td><td>5</td></tr>",
                            "<tr><td>tunde</td><td>7</td></tr>",
                            "<tr><td>valentin</td><td>5</td></tr>",
                            "<tr><td>veronika4</td><td>4</td></tr>",
                            "<tr><td>VIKTORIAU</td><td>4</td></tr>",
                            "<tr><td>VIKTORK</td><td>2</td></tr>",
                            "<tr><td>vivien3</td><td>5</td></tr>",
                            "<tr><td>zoltan</td><td>2</td></tr>",
                            "<tr><td>zoltan4</td><td>5</td></tr>",
                            "<tr><td>ZOLTANP</td><td>3</td></tr>",
                            "<tr><td>ZOLTANT</td><td>2</td></tr>",
                            "<tr><td>zsofi1</td><td>2</td></tr>",
                            "<tr><td>zsolt1</td><td>2</td></tr>",
                            "<tr><td>ZSOLTJ</td><td>6</td></tr>",
                            "<tr><td>zsuzsa</td><td>2</td></tr>",
                            "<tr><td>zsuzsa3</td><td>4</td></tr>",
                            "<tr><td>zsuzsanna</td><td>4</td></tr>",
                            "<tr><td>ZSUZSAV</td><td>5</td></tr>",
                            "<tr><td>Végösszeg</td><td>12</td></tr>",
                            "</table>"
                        ]
                    }
                }
            ],
            "execution_count": 1
        }
    ]
}