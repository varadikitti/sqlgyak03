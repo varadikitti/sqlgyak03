{
    "metadata": {
        "kernelspec": {
            "name": "SQL",
            "display_name": "SQL",
            "language": "sql"
        },
        "language_info": {
            "name": "sql",
            "version": ""
        },
        "extensions": {
            "azuredatastudio": {
                "version": 1,
                "views": []
            }
        }
    },
    "nbformat_minor": 2,
    "nbformat": 4,
    "cells": [
        {
            "cell_type": "markdown",
            "source": [
                "1. <span style=\"color:rgb(36, 41, 47);font-family:-apple-system, BlinkMacSystemFont, &quot;Segoe UI&quot;, Helvetica, Arial, sans-serif, &quot;Apple Color Emoji&quot;, &quot;Segoe UI Emoji&quot;;font-size:16px;\">Készítsünk lekérdezést, amely listázza, hogy mely napokon hány db kölcsönzés történt!</span>\n",
                "\n",
                "<span style=\"font-size: 16px;\">a.&nbsp;</span> Az oszlopok neve legyen 'Dátum' és 'Kölcsönzések száma'  \n",
                "b. A listát rendezzük a kölcsönzés dátuma szerint csökkenő sorrendbe!"
            ],
            "metadata": {
                "azdata_cell_guid": "77f2d5b3-38e9-41cc-893f-f5afd02b97ef"
            },
            "attachments": {}
        },
        {
            "cell_type": "code",
            "source": [
                "-- dvd_magyar adatbázis\r\n",
                "SELECT ki_datum, \r\n",
                "        COUNT(*)\r\n",
                "FROM kolcsonzesek\r\n",
                "GROUP BY ki_datum"
            ],
            "metadata": {
                "azdata_cell_guid": "bd3cef1a-4e6e-4ece-9dc3-aaa9d2b5d66d",
                "language": "sql"
            },
            "outputs": [
                {
                    "output_type": "display_data",
                    "data": {
                        "text/html": "(3 rows affected)"
                    },
                    "metadata": {}
                },
                {
                    "output_type": "display_data",
                    "data": {
                        "text/html": "Total execution time: 00:00:00.041"
                    },
                    "metadata": {}
                },
                {
                    "output_type": "execute_result",
                    "execution_count": 1,
                    "data": {
                        "application/vnd.dataresource+json": {
                            "schema": {
                                "fields": [
                                    {
                                        "name": "ki_datum"
                                    },
                                    {
                                        "name": "(No column name)"
                                    }
                                ]
                            },
                            "data": [
                                {
                                    "ki_datum": "2003-12-11",
                                    "(No column name)": "3"
                                },
                                {
                                    "ki_datum": "2006-10-01",
                                    "(No column name)": "1"
                                },
                                {
                                    "ki_datum": "2006-10-02",
                                    "(No column name)": "1"
                                }
                            ]
                        },
                        "text/html": "<table><tr><th>ki_datum</th><th>(No column name)</th></tr><tr><td>2003-12-11</td><td>3</td></tr><tr><td>2006-10-01</td><td>1</td></tr><tr><td>2006-10-02</td><td>1</td></tr></table>"
                    },
                    "metadata": {}
                }
            ],
            "execution_count": 1
        },
        {
            "cell_type": "markdown",
            "source": [
                "2. <span style=\"font-weight: 600; color: rgb(36, 41, 47); font-family: -apple-system, BlinkMacSystemFont, &quot;Segoe UI&quot;, Helvetica, Arial, sans-serif, &quot;Apple Color Emoji&quot;, &quot;Segoe UI Emoji&quot;; font-size: 16px;\">Mennyi a dvd-k átlagos ára stílusonkénti bontásban?</span>\n",
                "\n",
                "1. Csak azokat a stílusokat vegyük figyelembe, ahol az átlagos ár 4500 Ft feletti!\n",
                "2. Az oszlopokat nevezzük el értelemszerűen!\n",
                "3. A listát rendezzük átlagos ár szerint csökkenő sorrendbe!"
            ],
            "metadata": {
                "azdata_cell_guid": "88f5b4bb-f4c1-4bad-a0c7-b2592687b422"
            },
            "attachments": {}
        },
        {
            "cell_type": "code",
            "source": [
                "SELECT stilus, \r\n",
                "        AVG(nettoar)\r\n",
                "    FROM dvd\r\n",
                "    GROUP BY stilus -- ha van group by, akkor a selectben csak az lehet, ami a group by -ban (kivéve a fveket)\r\n",
                "    HAVING AVG(nettoar) > 4500\r\n",
                "    ORDER BY AVG(nettoar) DESC"
            ],
            "metadata": {
                "azdata_cell_guid": "e9de5726-f036-4fb9-8c33-a873955ed886",
                "language": "sql"
            },
            "outputs": [
                {
                    "output_type": "display_data",
                    "data": {
                        "text/html": "(30 rows affected)"
                    },
                    "metadata": {}
                },
                {
                    "output_type": "display_data",
                    "data": {
                        "text/html": "Total execution time: 00:00:00.043"
                    },
                    "metadata": {}
                },
                {
                    "output_type": "execute_result",
                    "execution_count": 1,
                    "data": {
                        "application/vnd.dataresource+json": {
                            "schema": {
                                "fields": [
                                    {
                                        "name": "stilus"
                                    },
                                    {
                                        "name": "(No column name)"
                                    }
                                ]
                            },
                            "data": [
                                {
                                    "stilus": "ásványtan",
                                    "(No column name)": "5624"
                                },
                                {
                                    "stilus": "játék (rodeó)",
                                    "(No column name)": "5591"
                                },
                                {
                                    "stilus": "humor",
                                    "(No column name)": "5573"
                                },
                                {
                                    "stilus": "környezetvédelem",
                                    "(No column name)": "5508"
                                },
                                {
                                    "stilus": "kresz",
                                    "(No column name)": "5476"
                                },
                                {
                                    "stilus": "játék (jégkorong)",
                                    "(No column name)": "5242"
                                },
                                {
                                    "stilus": "színház",
                                    "(No column name)": "5158"
                                },
                                {
                                    "stilus": "múvészet",
                                    "(No column name)": "5118"
                                },
                                {
                                    "stilus": "kémia",
                                    "(No column name)": "5094"
                                },
                                {
                                    "stilus": "fordító program",
                                    "(No column name)": "5036"
                                },
                                {
                                    "stilus": "kerttervező",
                                    "(No column name)": "4951"
                                },
                                {
                                    "stilus": "művészet",
                                    "(No column name)": "4939,25"
                                },
                                {
                                    "stilus": "festészet",
                                    "(No column name)": "4901"
                                },
                                {
                                    "stilus": "zene",
                                    "(No column name)": "4855,333333333333"
                                },
                                {
                                    "stilus": "játék",
                                    "(No column name)": "4850,466666666666"
                                },
                                {
                                    "stilus": "játék (labdarúgás)",
                                    "(No column name)": "4817,333333333333"
                                },
                                {
                                    "stilus": "állattan",
                                    "(No column name)": "4783,666666666667"
                                },
                                {
                                    "stilus": "nyelvtan",
                                    "(No column name)": "4770,666666666667"
                                },
                                {
                                    "stilus": "fizika",
                                    "(No column name)": "4769"
                                },
                                {
                                    "stilus": "nyelvtanító",
                                    "(No column name)": "4759,476190476191"
                                },
                                {
                                    "stilus": "csillagászat",
                                    "(No column name)": "4733,571428571428"
                                },
                                {
                                    "stilus": "ismeretterjesztő",
                                    "(No column name)": "4726,673913043478"
                                },
                                {
                                    "stilus": "irodalom, nyelv",
                                    "(No column name)": "4704"
                                },
                                {
                                    "stilus": "gasztronómia",
                                    "(No column name)": "4691"
                                },
                                {
                                    "stilus": "történelem",
                                    "(No column name)": "4655,731707317073"
                                },
                                {
                                    "stilus": "szótár",
                                    "(No column name)": "4624,428571428572"
                                },
                                {
                                    "stilus": "sport",
                                    "(No column name)": "4607"
                                },
                                {
                                    "stilus": "földrajz",
                                    "(No column name)": "4580,0625"
                                },
                                {
                                    "stilus": "matematika",
                                    "(No column name)": "4520,777777777777"
                                },
                                {
                                    "stilus": "felvételi",
                                    "(No column name)": "4501,333333333333"
                                }
                            ]
                        },
                        "text/html": "<table><tr><th>stilus</th><th>(No column name)</th></tr><tr><td>ásványtan</td><td>5624</td></tr><tr><td>játék (rodeó)</td><td>5591</td></tr><tr><td>humor</td><td>5573</td></tr><tr><td>környezetvédelem</td><td>5508</td></tr><tr><td>kresz</td><td>5476</td></tr><tr><td>játék (jégkorong)</td><td>5242</td></tr><tr><td>színház</td><td>5158</td></tr><tr><td>múvészet</td><td>5118</td></tr><tr><td>kémia</td><td>5094</td></tr><tr><td>fordító program</td><td>5036</td></tr><tr><td>kerttervező</td><td>4951</td></tr><tr><td>művészet</td><td>4939,25</td></tr><tr><td>festészet</td><td>4901</td></tr><tr><td>zene</td><td>4855,333333333333</td></tr><tr><td>játék</td><td>4850,466666666666</td></tr><tr><td>játék (labdarúgás)</td><td>4817,333333333333</td></tr><tr><td>állattan</td><td>4783,666666666667</td></tr><tr><td>nyelvtan</td><td>4770,666666666667</td></tr><tr><td>fizika</td><td>4769</td></tr><tr><td>nyelvtanító</td><td>4759,476190476191</td></tr><tr><td>csillagászat</td><td>4733,571428571428</td></tr><tr><td>ismeretterjesztő</td><td>4726,673913043478</td></tr><tr><td>irodalom, nyelv</td><td>4704</td></tr><tr><td>gasztronómia</td><td>4691</td></tr><tr><td>történelem</td><td>4655,731707317073</td></tr><tr><td>szótár</td><td>4624,428571428572</td></tr><tr><td>sport</td><td>4607</td></tr><tr><td>földrajz</td><td>4580,0625</td></tr><tr><td>matematika</td><td>4520,777777777777</td></tr><tr><td>felvételi</td><td>4501,333333333333</td></tr></table>"
                    },
                    "metadata": {}
                }
            ],
            "execution_count": 1
        },
        {
            "cell_type": "markdown",
            "source": [
                "3. <span style=\"color:rgb(36, 41, 47);font-family:-apple-system, BlinkMacSystemFont, &quot;Segoe UI&quot;, Helvetica, Arial, sans-serif, &quot;Apple Color Emoji&quot;, &quot;Segoe UI Emoji&quot;;font-size:16px;\">Listázzuk nyelvenkénti, azon belül stílusonkénti bontásban, hogy mennyi a dvd-k legkisebb és legnagyobb ára!&nbsp;</span> \n",
                "\n",
                "<span style=\"font-size: 16px;\">a. Az oszlopok neve legyen 'Nyelv', 'Stílus', 'MinÁr' és 'MaxÁr'!<br>b.&nbsp;</span> A listából hagyjuk ki azokat a sorokat, ahol a nyelv vagy a stílus nincs megadva!  \n",
                "c. Szintén hagyjuk ki azokat a csoportokat, ahol a csoport elemszáma 3-nál kisebb!"
            ],
            "metadata": {
                "azdata_cell_guid": "9e7249de-1b59-43d8-84b1-26fa7d81fc5a"
            },
            "attachments": {}
        },
        {
            "cell_type": "code",
            "source": [
                "SELECT  lang AS 'Nyelv',\r\n",
                "        stilus AS 'Stilus',\r\n",
                "        MIN(nettoar) AS 'MinÁr',\r\n",
                "        MAX(nettoar) AS 'MaxÁr' \r\n",
                "FROM dvd\r\n",
                "WHERE lang is not NULL and stilus is not null\r\n",
                "GROUP BY lang, stilus\r\n",
                "HAVING COUNT(*)>=3"
            ],
            "metadata": {
                "azdata_cell_guid": "6405d3e8-a9b1-45d7-aa76-3b1e785ef6cc",
                "language": "sql",
                "tags": []
            },
            "outputs": [
                {
                    "output_type": "display_data",
                    "data": {
                        "text/html": "(25 rows affected)"
                    },
                    "metadata": {}
                },
                {
                    "output_type": "display_data",
                    "data": {
                        "text/html": "Total execution time: 00:00:00.025"
                    },
                    "metadata": {}
                },
                {
                    "output_type": "execute_result",
                    "execution_count": 17,
                    "data": {
                        "application/vnd.dataresource+json": {
                            "schema": {
                                "fields": [
                                    {
                                        "name": "Nyelv"
                                    },
                                    {
                                        "name": "Stilus"
                                    },
                                    {
                                        "name": "MinÁr"
                                    },
                                    {
                                        "name": "MaxÁr"
                                    }
                                ]
                            },
                            "data": [
                                {
                                    "Nyelv": "1",
                                    "Stilus": "állattan",
                                    "MinÁr": "4153",
                                    "MaxÁr": "5235"
                                },
                                {
                                    "Nyelv": "1",
                                    "Stilus": "biológia",
                                    "MinÁr": "3482",
                                    "MaxÁr": "5543"
                                },
                                {
                                    "Nyelv": "1",
                                    "Stilus": "csillagászat",
                                    "MinÁr": "3582",
                                    "MaxÁr": "5992"
                                },
                                {
                                    "Nyelv": "1",
                                    "Stilus": "felvételi",
                                    "MinÁr": "3215",
                                    "MaxÁr": "5955"
                                },
                                {
                                    "Nyelv": "1",
                                    "Stilus": "fizika",
                                    "MinÁr": "3734",
                                    "MaxÁr": "5763"
                                },
                                {
                                    "Nyelv": "1",
                                    "Stilus": "földrajz",
                                    "MinÁr": "3123",
                                    "MaxÁr": "6065"
                                },
                                {
                                    "Nyelv": "1",
                                    "Stilus": "gasztronómia",
                                    "MinÁr": "3258",
                                    "MaxÁr": "5706"
                                },
                                {
                                    "Nyelv": "1",
                                    "Stilus": "irodalom",
                                    "MinÁr": "3391",
                                    "MaxÁr": "5654"
                                },
                                {
                                    "Nyelv": "1",
                                    "Stilus": "ismeretterjesztő",
                                    "MinÁr": "3256",
                                    "MaxÁr": "6072"
                                },
                                {
                                    "Nyelv": "2",
                                    "Stilus": "ismeretterjesztő",
                                    "MinÁr": "5334",
                                    "MaxÁr": "5900"
                                },
                                {
                                    "Nyelv": "1",
                                    "Stilus": "játék",
                                    "MinÁr": "3110",
                                    "MaxÁr": "6078"
                                },
                                {
                                    "Nyelv": "2",
                                    "Stilus": "játék",
                                    "MinÁr": "3144",
                                    "MaxÁr": "6062"
                                },
                                {
                                    "Nyelv": "2",
                                    "Stilus": "játék (autóverseny)",
                                    "MinÁr": "3106",
                                    "MaxÁr": "5005"
                                },
                                {
                                    "Nyelv": "1",
                                    "Stilus": "matematika",
                                    "MinÁr": "3105",
                                    "MaxÁr": "5995"
                                },
                                {
                                    "Nyelv": "1",
                                    "Stilus": "művészet",
                                    "MinÁr": "3490",
                                    "MaxÁr": "6098"
                                },
                                {
                                    "Nyelv": "1",
                                    "Stilus": "nyelvtan",
                                    "MinÁr": "3688",
                                    "MaxÁr": "5845"
                                },
                                {
                                    "Nyelv": "2",
                                    "Stilus": "nyelvtanító",
                                    "MinÁr": "3115",
                                    "MaxÁr": "6068"
                                },
                                {
                                    "Nyelv": "3",
                                    "Stilus": "nyelvtanító",
                                    "MinÁr": "3313",
                                    "MaxÁr": "5990"
                                },
                                {
                                    "Nyelv": "4",
                                    "Stilus": "nyelvtanító",
                                    "MinÁr": "3419",
                                    "MaxÁr": "6082"
                                },
                                {
                                    "Nyelv": "6",
                                    "Stilus": "nyelvtanító",
                                    "MinÁr": "3775",
                                    "MaxÁr": "5882"
                                },
                                {
                                    "Nyelv": "7",
                                    "Stilus": "nyelvtanító",
                                    "MinÁr": "3770",
                                    "MaxÁr": "5619"
                                },
                                {
                                    "Nyelv": "1",
                                    "Stilus": "számítástechnika",
                                    "MinÁr": "3277",
                                    "MaxÁr": "5260"
                                },
                                {
                                    "Nyelv": "2",
                                    "Stilus": "szótár",
                                    "MinÁr": "3509",
                                    "MaxÁr": "5638"
                                },
                                {
                                    "Nyelv": "1",
                                    "Stilus": "történelem",
                                    "MinÁr": "3122",
                                    "MaxÁr": "6084"
                                },
                                {
                                    "Nyelv": "1",
                                    "Stilus": "zene",
                                    "MinÁr": "3391",
                                    "MaxÁr": "5730"
                                }
                            ]
                        },
                        "text/html": "<table><tr><th>Nyelv</th><th>Stilus</th><th>MinÁr</th><th>MaxÁr</th></tr><tr><td>1</td><td>állattan</td><td>4153</td><td>5235</td></tr><tr><td>1</td><td>biológia</td><td>3482</td><td>5543</td></tr><tr><td>1</td><td>csillagászat</td><td>3582</td><td>5992</td></tr><tr><td>1</td><td>felvételi</td><td>3215</td><td>5955</td></tr><tr><td>1</td><td>fizika</td><td>3734</td><td>5763</td></tr><tr><td>1</td><td>földrajz</td><td>3123</td><td>6065</td></tr><tr><td>1</td><td>gasztronómia</td><td>3258</td><td>5706</td></tr><tr><td>1</td><td>irodalom</td><td>3391</td><td>5654</td></tr><tr><td>1</td><td>ismeretterjesztő</td><td>3256</td><td>6072</td></tr><tr><td>2</td><td>ismeretterjesztő</td><td>5334</td><td>5900</td></tr><tr><td>1</td><td>játék</td><td>3110</td><td>6078</td></tr><tr><td>2</td><td>játék</td><td>3144</td><td>6062</td></tr><tr><td>2</td><td>játék (autóverseny)</td><td>3106</td><td>5005</td></tr><tr><td>1</td><td>matematika</td><td>3105</td><td>5995</td></tr><tr><td>1</td><td>művészet</td><td>3490</td><td>6098</td></tr><tr><td>1</td><td>nyelvtan</td><td>3688</td><td>5845</td></tr><tr><td>2</td><td>nyelvtanító</td><td>3115</td><td>6068</td></tr><tr><td>3</td><td>nyelvtanító</td><td>3313</td><td>5990</td></tr><tr><td>4</td><td>nyelvtanító</td><td>3419</td><td>6082</td></tr><tr><td>6</td><td>nyelvtanító</td><td>3775</td><td>5882</td></tr><tr><td>7</td><td>nyelvtanító</td><td>3770</td><td>5619</td></tr><tr><td>1</td><td>számítástechnika</td><td>3277</td><td>5260</td></tr><tr><td>2</td><td>szótár</td><td>3509</td><td>5638</td></tr><tr><td>1</td><td>történelem</td><td>3122</td><td>6084</td></tr><tr><td>1</td><td>zene</td><td>3391</td><td>5730</td></tr></table>"
                    },
                    "metadata": {}
                }
            ],
            "execution_count": 17
        },
        {
            "cell_type": "markdown",
            "source": [
                "4. <span style=\"color: rgb(36, 41, 47); font-family: -apple-system, BlinkMacSystemFont, &quot;Segoe UI&quot;, Helvetica, Arial, sans-serif, &quot;Apple Color Emoji&quot;, &quot;Segoe UI Emoji&quot;; font-size: 16px;\">Készítsünk listát, amely a csoportokat hoz létre aszerint, hogy a mai naptól számítva hány nap telt el a kölcsönzés kezdete óta. A lista jelenítse meg csoportonkénti bontásban a kikölcsönzött dvd-k számát!</span>\n",
                "\n",
                "1. Az oszlopokat nevezzük el értelemszerűen!\n",
                "2. A listát rendezzük az eltelt napok száma szerint csökkenő sorrendbe!"
            ],
            "metadata": {
                "azdata_cell_guid": "6478e469-c094-472c-a772-ccd5b5c61516"
            },
            "attachments": {}
        },
        {
            "cell_type": "code",
            "source": [
                "SELECT  DATEDIFF(day, ki_datum, GETDATE()) AS 'Eltelt napok száma',\r\n",
                "        COUNT(*) AS 'darab dvd'\r\n",
                "FROM kolcsonzesek\r\n",
                "GROUP BY DATEDIFF(day, ki_datum, GETDATE())\r\n",
                "ORDER BY DATEDIFF(day, ki_datum, GETDATE()) DESC"
            ],
            "metadata": {
                "azdata_cell_guid": "02031ea2-3838-458d-839c-228e3b362b61",
                "language": "sql"
            },
            "outputs": [
                {
                    "output_type": "display_data",
                    "data": {
                        "text/html": "(3 rows affected)"
                    },
                    "metadata": {}
                },
                {
                    "output_type": "display_data",
                    "data": {
                        "text/html": "Total execution time: 00:00:00.015"
                    },
                    "metadata": {}
                },
                {
                    "output_type": "execute_result",
                    "execution_count": 21,
                    "data": {
                        "application/vnd.dataresource+json": {
                            "schema": {
                                "fields": [
                                    {
                                        "name": "Eltelt napok száma"
                                    },
                                    {
                                        "name": "darab dvd"
                                    }
                                ]
                            },
                            "data": [
                                {
                                    "Eltelt napok száma": "7381",
                                    "darab dvd": "3"
                                },
                                {
                                    "Eltelt napok száma": "6356",
                                    "darab dvd": "1"
                                },
                                {
                                    "Eltelt napok száma": "6355",
                                    "darab dvd": "1"
                                }
                            ]
                        },
                        "text/html": "<table><tr><th>Eltelt napok száma</th><th>darab dvd</th></tr><tr><td>7381</td><td>3</td></tr><tr><td>6356</td><td>1</td></tr><tr><td>6355</td><td>1</td></tr></table>"
                    },
                    "metadata": {}
                }
            ],
            "execution_count": 21
        },
        {
            "cell_type": "markdown",
            "source": [
                "5. <span style=\"color: rgb(36, 41, 47); font-family: -apple-system, BlinkMacSystemFont, &quot;Segoe UI&quot;, Helvetica, Arial, sans-serif, &quot;Apple Color Emoji&quot;, &quot;Segoe UI Emoji&quot;; font-size: 16px;\">A kölcsönző tulajdonosa elhatározza, hogy ezentúl kerekebb árakat alkalmaz. Ezért minden dvd árát 1000 Ft-ra kerekíti. Készítsünk lekérdezést, amely megmutatja, hogy melyik 1000 Ft-ra kerekített ár szerint, azon belül stílus szerint hány db dvd összesen raktáron! **</span>\n",
                "\n",
                "1. Csak olyan csoportokat listázzunk, ahol a raktárkészlet legalább 30!\n",
                "2. A listát rendezzük kerekített ár szerint, azon belül raktárkészlet szerint növekvő sorrendbe!"
            ],
            "metadata": {
                "azdata_cell_guid": "9edbbaf9-c276-4898-9a01-e1b2993c089f"
            },
            "attachments": {}
        },
        {
            "cell_type": "code",
            "source": [
                "SELECT  ROUND(nettoar, -3) AS 'Kerekített ár',\r\n",
                "        stilus,\r\n",
                "        SUM([raktár készlet]) AS 'raktár készleten'\r\n",
                "FROM dvd\r\n",
                "GROUP BY ROUND(nettoar, -3), stilus\r\n",
                "HAVING SUM([raktár készlet]) >= 30\r\n",
                "ORDER BY ROUND(nettoar, -3), SUM([raktár készlet])"
            ],
            "metadata": {
                "azdata_cell_guid": "5ad5fdcb-2878-4111-861a-833bcd50e935",
                "language": "sql"
            },
            "outputs": [
                {
                    "output_type": "display_data",
                    "data": {
                        "text/html": "(27 rows affected)"
                    },
                    "metadata": {}
                },
                {
                    "output_type": "display_data",
                    "data": {
                        "text/html": "Total execution time: 00:00:00.026"
                    },
                    "metadata": {}
                },
                {
                    "output_type": "execute_result",
                    "execution_count": 36,
                    "data": {
                        "application/vnd.dataresource+json": {
                            "schema": {
                                "fields": [
                                    {
                                        "name": "Kerekített ár"
                                    },
                                    {
                                        "name": "stilus"
                                    },
                                    {
                                        "name": "raktár készleten"
                                    }
                                ]
                            },
                            "data": [
                                {
                                    "Kerekített ár": "3000",
                                    "stilus": "földrajz",
                                    "raktár készleten": "30"
                                },
                                {
                                    "Kerekített ár": "3000",
                                    "stilus": "nyelvtanító",
                                    "raktár készleten": "30"
                                },
                                {
                                    "Kerekített ár": "3000",
                                    "stilus": "játék",
                                    "raktár készleten": "40"
                                },
                                {
                                    "Kerekített ár": "3000",
                                    "stilus": "történelem",
                                    "raktár készleten": "40"
                                },
                                {
                                    "Kerekített ár": "3000",
                                    "stilus": "ismeretterjesztő",
                                    "raktár készleten": "70"
                                },
                                {
                                    "Kerekített ár": "4000",
                                    "stilus": "szótár",
                                    "raktár készleten": "30"
                                },
                                {
                                    "Kerekített ár": "4000",
                                    "stilus": "csillagászat",
                                    "raktár készleten": "40"
                                },
                                {
                                    "Kerekített ár": "4000",
                                    "stilus": "földrajz",
                                    "raktár készleten": "50"
                                },
                                {
                                    "Kerekített ár": "4000",
                                    "stilus": "irodalom",
                                    "raktár készleten": "90"
                                },
                                {
                                    "Kerekített ár": "4000",
                                    "stilus": "ismeretterjesztő",
                                    "raktár készleten": "130"
                                },
                                {
                                    "Kerekített ár": "4000",
                                    "stilus": "nyelvtanító",
                                    "raktár készleten": "140"
                                },
                                {
                                    "Kerekített ár": "4000",
                                    "stilus": "történelem",
                                    "raktár készleten": "160"
                                },
                                {
                                    "Kerekített ár": "4000",
                                    "stilus": "játék",
                                    "raktár készleten": "180"
                                },
                                {
                                    "Kerekített ár": "5000",
                                    "stilus": "irodalom",
                                    "raktár készleten": "30"
                                },
                                {
                                    "Kerekített ár": "5000",
                                    "stilus": "matematika",
                                    "raktár készleten": "30"
                                },
                                {
                                    "Kerekített ár": "5000",
                                    "stilus": "zene",
                                    "raktár készleten": "30"
                                },
                                {
                                    "Kerekített ár": "5000",
                                    "stilus": "földrajz",
                                    "raktár készleten": "60"
                                },
                                {
                                    "Kerekített ár": "5000",
                                    "stilus": "történelem",
                                    "raktár készleten": "120"
                                },
                                {
                                    "Kerekített ár": "5000",
                                    "stilus": "nyelvtanító",
                                    "raktár készleten": "140"
                                },
                                {
                                    "Kerekített ár": "5000",
                                    "stilus": "ismeretterjesztő",
                                    "raktár készleten": "170"
                                },
                                {
                                    "Kerekített ár": "5000",
                                    "stilus": "játék",
                                    "raktár készleten": "210"
                                },
                                {
                                    "Kerekített ár": "6000",
                                    "stilus": "csillagászat",
                                    "raktár készleten": "30"
                                },
                                {
                                    "Kerekített ár": "6000",
                                    "stilus": "irodalom",
                                    "raktár készleten": "30"
                                },
                                {
                                    "Kerekített ár": "6000",
                                    "stilus": "történelem",
                                    "raktár készleten": "88"
                                },
                                {
                                    "Kerekített ár": "6000",
                                    "stilus": "ismeretterjesztő",
                                    "raktár készleten": "90"
                                },
                                {
                                    "Kerekített ár": "6000",
                                    "stilus": "nyelvtanító",
                                    "raktár készleten": "110"
                                },
                                {
                                    "Kerekített ár": "6000",
                                    "stilus": "játék",
                                    "raktár készleten": "170"
                                }
                            ]
                        },
                        "text/html": "<table><tr><th>Kerekített ár</th><th>stilus</th><th>raktár készleten</th></tr><tr><td>3000</td><td>földrajz</td><td>30</td></tr><tr><td>3000</td><td>nyelvtanító</td><td>30</td></tr><tr><td>3000</td><td>játék</td><td>40</td></tr><tr><td>3000</td><td>történelem</td><td>40</td></tr><tr><td>3000</td><td>ismeretterjesztő</td><td>70</td></tr><tr><td>4000</td><td>szótár</td><td>30</td></tr><tr><td>4000</td><td>csillagászat</td><td>40</td></tr><tr><td>4000</td><td>földrajz</td><td>50</td></tr><tr><td>4000</td><td>irodalom</td><td>90</td></tr><tr><td>4000</td><td>ismeretterjesztő</td><td>130</td></tr><tr><td>4000</td><td>nyelvtanító</td><td>140</td></tr><tr><td>4000</td><td>történelem</td><td>160</td></tr><tr><td>4000</td><td>játék</td><td>180</td></tr><tr><td>5000</td><td>irodalom</td><td>30</td></tr><tr><td>5000</td><td>matematika</td><td>30</td></tr><tr><td>5000</td><td>zene</td><td>30</td></tr><tr><td>5000</td><td>földrajz</td><td>60</td></tr><tr><td>5000</td><td>történelem</td><td>120</td></tr><tr><td>5000</td><td>nyelvtanító</td><td>140</td></tr><tr><td>5000</td><td>ismeretterjesztő</td><td>170</td></tr><tr><td>5000</td><td>játék</td><td>210</td></tr><tr><td>6000</td><td>csillagászat</td><td>30</td></tr><tr><td>6000</td><td>irodalom</td><td>30</td></tr><tr><td>6000</td><td>történelem</td><td>88</td></tr><tr><td>6000</td><td>ismeretterjesztő</td><td>90</td></tr><tr><td>6000</td><td>nyelvtanító</td><td>110</td></tr><tr><td>6000</td><td>játék</td><td>170</td></tr></table>"
                    },
                    "metadata": {}
                }
            ],
            "execution_count": 36
        },
        {
            "cell_type": "markdown",
            "source": [
                "6. <span style=\"font-weight: 600; color: rgb(36, 41, 47); font-family: -apple-system, BlinkMacSystemFont, &quot;Segoe UI&quot;, Helvetica, Arial, sans-serif, &quot;Apple Color Emoji&quot;, &quot;Segoe UI Emoji&quot;; font-size: 16px;\">A dvd-ket csoportosíthatjuk aszerint, hogy milyen hosszú a címük. Amelyiknél a cím hosszúsága 10 karakter alatt van, az legyen Rövid, 10-20-ig Átlagos, 20 felett Hosszú. Hány Rövid, Átlagos, illetve Hosszú dvd-van összesen raktáron?</span>\n",
                "\n",
                "1. Az oszlopok neve legyen 'Cím hosszúság' és 'Darabszám"
            ],
            "metadata": {
                "azdata_cell_guid": "5fe65c1c-2479-45ac-ad03-ec99d12eae21"
            },
            "attachments": {}
        },
        {
            "cell_type": "code",
            "source": [
                "SELECT CASE WHEN LEN(cim) < 10 THEN 'Rövid'\r\n",
                "            WHEN LEN(cim) >= 10 AND LEN(cim) <= 20 THEN 'Átlagos' --WHEN LEN(cim) BETWEEN 10 AND 20 THEN 'Átlagos' \r\n",
                "            ELSE 'Hosszú'\r\n",
                "        END AS 'Cím hosszúság',\r\n",
                "        SUM([raktár készlet]) AS 'Darabszám'\r\n",
                "FROM dvd\r\n",
                "GROUP BY    CASE WHEN LEN(cim) < 10 THEN 'Rövid'\r\n",
                "                WHEN LEN(cim) >= 10 AND LEN(cim) <= 20 THEN 'Átlagos'\r\n",
                "                ELSE 'Hosszú'\r\n",
                "            END"
            ],
            "metadata": {
                "azdata_cell_guid": "924f2dde-f1c2-4def-a7f9-dbf4bace7735",
                "language": "sql"
            },
            "outputs": [
                {
                    "output_type": "display_data",
                    "data": {
                        "text/html": "(3 rows affected)"
                    },
                    "metadata": {}
                },
                {
                    "output_type": "display_data",
                    "data": {
                        "text/html": "Total execution time: 00:00:00.018"
                    },
                    "metadata": {}
                },
                {
                    "output_type": "execute_result",
                    "execution_count": 41,
                    "data": {
                        "application/vnd.dataresource+json": {
                            "schema": {
                                "fields": [
                                    {
                                        "name": "Cím hosszúság"
                                    },
                                    {
                                        "name": "Darabszám"
                                    }
                                ]
                            },
                            "data": [
                                {
                                    "Cím hosszúság": "Átlagos",
                                    "Darabszám": "930"
                                },
                                {
                                    "Cím hosszúság": "Hosszú",
                                    "Darabszám": "2128"
                                },
                                {
                                    "Cím hosszúság": "Rövid",
                                    "Darabszám": "120"
                                }
                            ]
                        },
                        "text/html": "<table><tr><th>Cím hosszúság</th><th>Darabszám</th></tr><tr><td>Átlagos</td><td>930</td></tr><tr><td>Hosszú</td><td>2128</td></tr><tr><td>Rövid</td><td>120</td></tr></table>"
                    },
                    "metadata": {}
                }
            ],
            "execution_count": 41
        },
        {
            "cell_type": "markdown",
            "source": [
                "7. <span style=\"color: rgb(36, 41, 47); font-family: -apple-system, BlinkMacSystemFont, &quot;Segoe UI&quot;, Helvetica, Arial, sans-serif, &quot;Apple Color Emoji&quot;, &quot;Segoe UI Emoji&quot;; font-size: 16px;\">Készítsünk listát arról, hogy melyik teremben hány óra van!</span>\n",
                "\n",
                "1. Jelenítsük meg a termek azonosítóit és a teremben tartott órák számát!\n",
                "2. Az oszlopokat nevezzük el értelemszerűen!\n",
                "3. Szűrjünk azokra a termekre, ahol az órák száma legalább 3!"
            ],
            "metadata": {
                "azdata_cell_guid": "3aeb6bf5-b111-40d5-92b2-9712ce335696"
            },
            "attachments": {}
        },
        {
            "cell_type": "code",
            "source": [
                "-- többtáblás lekérdezés\r\n",
                "-- tanulmányi adatbázis\r\n",
                "SELECT terem,\r\n",
                "        COUNT(*)\r\n",
                "FROM Orak\r\n",
                "GROUP BY terem\r\n",
                "HAVING COUNT(*) >=3"
            ],
            "metadata": {
                "azdata_cell_guid": "3e89b651-f56f-4102-af52-30eb2bbe360d",
                "language": "sql"
            },
            "outputs": [
                {
                    "output_type": "display_data",
                    "data": {
                        "text/html": "(11 rows affected)"
                    },
                    "metadata": {}
                },
                {
                    "output_type": "display_data",
                    "data": {
                        "text/html": "Total execution time: 00:00:00.005"
                    },
                    "metadata": {}
                },
                {
                    "output_type": "execute_result",
                    "execution_count": 2,
                    "data": {
                        "application/vnd.dataresource+json": {
                            "schema": {
                                "fields": [
                                    {
                                        "name": "terem"
                                    },
                                    {
                                        "name": "(No column name)"
                                    }
                                ]
                            },
                            "data": [
                                {
                                    "terem": "2",
                                    "(No column name)": "5"
                                },
                                {
                                    "terem": "3",
                                    "(No column name)": "11"
                                },
                                {
                                    "terem": "4",
                                    "(No column name)": "8"
                                },
                                {
                                    "terem": "5",
                                    "(No column name)": "5"
                                },
                                {
                                    "terem": "6",
                                    "(No column name)": "6"
                                },
                                {
                                    "terem": "7",
                                    "(No column name)": "6"
                                },
                                {
                                    "terem": "8",
                                    "(No column name)": "6"
                                },
                                {
                                    "terem": "10",
                                    "(No column name)": "3"
                                },
                                {
                                    "terem": "12",
                                    "(No column name)": "3"
                                },
                                {
                                    "terem": "13",
                                    "(No column name)": "5"
                                },
                                {
                                    "terem": "14",
                                    "(No column name)": "3"
                                }
                            ]
                        },
                        "text/html": "<table><tr><th>terem</th><th>(No column name)</th></tr><tr><td>2</td><td>5</td></tr><tr><td>3</td><td>11</td></tr><tr><td>4</td><td>8</td></tr><tr><td>5</td><td>5</td></tr><tr><td>6</td><td>6</td></tr><tr><td>7</td><td>6</td></tr><tr><td>8</td><td>6</td></tr><tr><td>10</td><td>3</td></tr><tr><td>12</td><td>3</td></tr><tr><td>13</td><td>5</td></tr><tr><td>14</td><td>3</td></tr></table>"
                    },
                    "metadata": {}
                }
            ],
            "execution_count": 2
        },
        {
            "cell_type": "markdown",
            "source": [
                "8. <span style=\"color: rgb(36, 41, 47); font-family: -apple-system, BlinkMacSystemFont, &quot;Segoe UI&quot;, Helvetica, Arial, sans-serif, &quot;Apple Color Emoji&quot;, &quot;Segoe UI Emoji&quot;; font-size: 16px;\">Készítsünk lekérdezést, amely megadja, hogy minimálian és maximálisan hány kreditet ér egy tantárgy!</span>\n",
                "\n",
                "1. Az oszlopokat nevezzük el értelemszerűen!\n",
                "2. Ne vegyük figyelembe azokat a tantárgyakat, amelyek nevében az „alapjai” szó szerepel, vagy a tantárgy neve 10 karakternél rövidebb!"
            ],
            "metadata": {
                "azdata_cell_guid": "26a504dc-ff6a-439f-94c0-4580eca3eacf"
            },
            "attachments": {}
        },
        {
            "cell_type": "code",
            "source": [
                "SELECT  Tantárgynév,\r\n",
                "        MIN(Kredit) AS 'MinKredit',\r\n",
                "        MAX(Kredit) AS 'MaxKredit'\r\n",
                "FROM Tantárgyak\r\n",
                "GROUP BY Tantárgynév\r\n",
                "HAVING Tantárgynév not like '%alapjai%' and len(Tantárgynév) >= 10\r\n",
                "\r\n",
                "-- megoldás vagy mi...\r\n",
                "\r\n",
                "-- SELECT MIN(Kredit) AS 'MinKredit', \r\n",
                "--       MAX(Kredit) AS 'MaxKredit'\r\n",
                "--FROM Tantárgyak\r\n",
                "--WHERE Tantárgynév NOT LIKE '%alapjai%' AND LEN(Tantárgynév) >=10"
            ],
            "metadata": {
                "azdata_cell_guid": "1cbb8aeb-78b5-4350-aa45-e3202fdab85b",
                "language": "sql",
                "tags": []
            },
            "outputs": [
                {
                    "output_type": "display_data",
                    "data": {
                        "text/html": "(8 rows affected)"
                    },
                    "metadata": {}
                },
                {
                    "output_type": "display_data",
                    "data": {
                        "text/html": "Total execution time: 00:00:00.013"
                    },
                    "metadata": {}
                },
                {
                    "output_type": "execute_result",
                    "execution_count": 51,
                    "data": {
                        "application/vnd.dataresource+json": {
                            "schema": {
                                "fields": [
                                    {
                                        "name": "Tantárgynév"
                                    },
                                    {
                                        "name": "MinKredit"
                                    },
                                    {
                                        "name": "MaxKredit"
                                    }
                                ]
                            },
                            "data": [
                                {
                                    "Tantárgynév": "Az öntés elmélete",
                                    "MinKredit": "4",
                                    "MaxKredit": "4"
                                },
                                {
                                    "Tantárgynév": "Az ürge anatómiája",
                                    "MinKredit": "5",
                                    "MaxKredit": "5"
                                },
                                {
                                    "Tantárgynév": "Bevezetés az ürgeöntésbe",
                                    "MinKredit": "3",
                                    "MaxKredit": "3"
                                },
                                {
                                    "Tantárgynév": "Fejezetek az ürgék jogaiból",
                                    "MinKredit": "3",
                                    "MaxKredit": "3"
                                },
                                {
                                    "Tantárgynév": "Folyami gáttan",
                                    "MinKredit": "2",
                                    "MaxKredit": "2"
                                },
                                {
                                    "Tantárgynév": "Öntési gyakorlat",
                                    "MinKredit": "1",
                                    "MaxKredit": "1"
                                },
                                {
                                    "Tantárgynév": "ü-business",
                                    "MinKredit": "2",
                                    "MaxKredit": "2"
                                },
                                {
                                    "Tantárgynév": "Ürgeöntés az EU-ban",
                                    "MinKredit": "1",
                                    "MaxKredit": "1"
                                }
                            ]
                        },
                        "text/html": "<table><tr><th>Tantárgynév</th><th>MinKredit</th><th>MaxKredit</th></tr><tr><td>Az öntés elmélete</td><td>4</td><td>4</td></tr><tr><td>Az ürge anatómiája</td><td>5</td><td>5</td></tr><tr><td>Bevezetés az ürgeöntésbe</td><td>3</td><td>3</td></tr><tr><td>Fejezetek az ürgék jogaiból</td><td>3</td><td>3</td></tr><tr><td>Folyami gáttan</td><td>2</td><td>2</td></tr><tr><td>Öntési gyakorlat</td><td>1</td><td>1</td></tr><tr><td>ü-business</td><td>2</td><td>2</td></tr><tr><td>Ürgeöntés az EU-ban</td><td>1</td><td>1</td></tr></table>"
                    },
                    "metadata": {}
                }
            ],
            "execution_count": 51
        },
        {
            "cell_type": "markdown",
            "source": [
                "9. <span style=\"color: rgb(36, 41, 47); font-family: -apple-system, BlinkMacSystemFont, &quot;Segoe UI&quot;, Helvetica, Arial, sans-serif, &quot;Apple Color Emoji&quot;, &quot;Segoe UI Emoji&quot;; font-size: 16px;\">A tapasztalat alapján a tanársegédeknek 8, az óraadóknak 10 órájuk van egy héten. A többiek annyi órát tartanak, amennyi az elvárt óraszámuk. Készítsünk lekérdezést, amely minden beosztáshoz megjeleníti, hogy hetente hány túlóra tartozik hozzá!</span>\n",
                "\n",
                "1. A lekérdezés csak a beosztások nevét és a heti túlórák számát jelenítse meg!"
            ],
            "metadata": {
                "azdata_cell_guid": "435e2860-2dd5-4877-90f4-34a43baeb53c"
            },
            "attachments": {}
        },
        {
            "cell_type": "code",
            "source": [
                "-- táblák: Orak, Oktatok, Beosztasok\r\n",
                "SELECT Beosztasok.beosztasnev,\r\n",
                "        -- túlórák száma\r\n",
                "        CASE \r\n",
                "            WHEN beosztasnev = 'Tanársegéd' THEN 8-elvart\r\n",
                "            WHEN beosztasnev = 'Óraadó' THEN 10-elvart\r\n",
                "            ELSE 0\r\n",
                "        END AS 'Túlóra'\r\n",
                "FROM Orak   JOIN Oktatok ON Orak.tanar = Oktatok.oktato_id\r\n",
                "            JOIN Beosztasok ON Oktatok.beosztás = Beosztasok.beosztas_id\r\n",
                ""
            ],
            "metadata": {
                "azdata_cell_guid": "ce846351-ddbe-4d8e-b8fb-2a92c73ac80b",
                "language": "sql"
            },
            "outputs": [
                {
                    "output_type": "display_data",
                    "data": {
                        "text/html": "(67 rows affected)"
                    },
                    "metadata": {}
                },
                {
                    "output_type": "display_data",
                    "data": {
                        "text/html": "Total execution time: 00:00:00.007"
                    },
                    "metadata": {}
                },
                {
                    "output_type": "execute_result",
                    "execution_count": 8,
                    "data": {
                        "application/vnd.dataresource+json": {
                            "schema": {
                                "fields": [
                                    {
                                        "name": "beosztasnev"
                                    },
                                    {
                                        "name": "Túlóra"
                                    }
                                ]
                            },
                            "data": [
                                {
                                    "beosztasnev": "Egyetemi tanár",
                                    "Túlóra": "0"
                                },
                                {
                                    "beosztasnev": "Tanársegéd",
                                    "Túlóra": "2"
                                },
                                {
                                    "beosztasnev": "Tanársegéd",
                                    "Túlóra": "2"
                                },
                                {
                                    "beosztasnev": "Óraadó",
                                    "Túlóra": "4"
                                },
                                {
                                    "beosztasnev": "Docens",
                                    "Túlóra": "0"
                                },
                                {
                                    "beosztasnev": "Tanársegéd",
                                    "Túlóra": "2"
                                },
                                {
                                    "beosztasnev": "Docens",
                                    "Túlóra": "0"
                                },
                                {
                                    "beosztasnev": "Docens",
                                    "Túlóra": "0"
                                },
                                {
                                    "beosztasnev": "Adjunktus",
                                    "Túlóra": "0"
                                },
                                {
                                    "beosztasnev": "Egyetemi tanár",
                                    "Túlóra": "0"
                                },
                                {
                                    "beosztasnev": "Óraadó",
                                    "Túlóra": "4"
                                },
                                {
                                    "beosztasnev": "Óraadó",
                                    "Túlóra": "4"
                                },
                                {
                                    "beosztasnev": "Adjunktus",
                                    "Túlóra": "0"
                                },
                                {
                                    "beosztasnev": "Tanársegéd",
                                    "Túlóra": "2"
                                },
                                {
                                    "beosztasnev": "Óraadó",
                                    "Túlóra": "4"
                                },
                                {
                                    "beosztasnev": "Óraadó",
                                    "Túlóra": "4"
                                },
                                {
                                    "beosztasnev": "Adjunktus",
                                    "Túlóra": "0"
                                },
                                {
                                    "beosztasnev": "Óraadó",
                                    "Túlóra": "4"
                                },
                                {
                                    "beosztasnev": "Adjunktus",
                                    "Túlóra": "0"
                                },
                                {
                                    "beosztasnev": "Tanársegéd",
                                    "Túlóra": "2"
                                },
                                {
                                    "beosztasnev": "Adjunktus",
                                    "Túlóra": "0"
                                },
                                {
                                    "beosztasnev": "Tanársegéd",
                                    "Túlóra": "2"
                                },
                                {
                                    "beosztasnev": "Adjunktus",
                                    "Túlóra": "0"
                                },
                                {
                                    "beosztasnev": "Tanársegéd",
                                    "Túlóra": "2"
                                },
                                {
                                    "beosztasnev": "Adjunktus",
                                    "Túlóra": "0"
                                },
                                {
                                    "beosztasnev": "Tanársegéd",
                                    "Túlóra": "2"
                                },
                                {
                                    "beosztasnev": "Adjunktus",
                                    "Túlóra": "0"
                                },
                                {
                                    "beosztasnev": "Óraadó",
                                    "Túlóra": "4"
                                },
                                {
                                    "beosztasnev": "Docens",
                                    "Túlóra": "0"
                                },
                                {
                                    "beosztasnev": "Tanársegéd",
                                    "Túlóra": "2"
                                },
                                {
                                    "beosztasnev": "Tanársegéd",
                                    "Túlóra": "2"
                                },
                                {
                                    "beosztasnev": "Tanársegéd",
                                    "Túlóra": "2"
                                },
                                {
                                    "beosztasnev": "Docens",
                                    "Túlóra": "0"
                                },
                                {
                                    "beosztasnev": "Docens",
                                    "Túlóra": "0"
                                },
                                {
                                    "beosztasnev": "Tanársegéd",
                                    "Túlóra": "2"
                                },
                                {
                                    "beosztasnev": "Tanársegéd",
                                    "Túlóra": "2"
                                },
                                {
                                    "beosztasnev": "Docens",
                                    "Túlóra": "0"
                                },
                                {
                                    "beosztasnev": "Docens",
                                    "Túlóra": "0"
                                },
                                {
                                    "beosztasnev": "Tanársegéd",
                                    "Túlóra": "2"
                                },
                                {
                                    "beosztasnev": "Tanársegéd",
                                    "Túlóra": "2"
                                },
                                {
                                    "beosztasnev": "Óraadó",
                                    "Túlóra": "4"
                                },
                                {
                                    "beosztasnev": "Óraadó",
                                    "Túlóra": "4"
                                },
                                {
                                    "beosztasnev": "Egyetemi tanár",
                                    "Túlóra": "0"
                                },
                                {
                                    "beosztasnev": "Egyetemi tanár",
                                    "Túlóra": "0"
                                },
                                {
                                    "beosztasnev": "Óraadó",
                                    "Túlóra": "4"
                                },
                                {
                                    "beosztasnev": "Tanársegéd",
                                    "Túlóra": "2"
                                },
                                {
                                    "beosztasnev": "Egyetemi tanár",
                                    "Túlóra": "0"
                                },
                                {
                                    "beosztasnev": "Docens",
                                    "Túlóra": "0"
                                },
                                {
                                    "beosztasnev": "Docens",
                                    "Túlóra": "0"
                                },
                                {
                                    "beosztasnev": "Egyetemi tanár",
                                    "Túlóra": "0"
                                },
                                {
                                    "beosztasnev": "Egyetemi tanár",
                                    "Túlóra": "0"
                                },
                                {
                                    "beosztasnev": "Adjunktus",
                                    "Túlóra": "0"
                                },
                                {
                                    "beosztasnev": "Adjunktus",
                                    "Túlóra": "0"
                                },
                                {
                                    "beosztasnev": "Tanársegéd",
                                    "Túlóra": "2"
                                },
                                {
                                    "beosztasnev": "Tanársegéd",
                                    "Túlóra": "2"
                                },
                                {
                                    "beosztasnev": "Tanársegéd",
                                    "Túlóra": "2"
                                },
                                {
                                    "beosztasnev": "Tanársegéd",
                                    "Túlóra": "2"
                                },
                                {
                                    "beosztasnev": "Adjunktus",
                                    "Túlóra": "0"
                                },
                                {
                                    "beosztasnev": "Adjunktus",
                                    "Túlóra": "0"
                                },
                                {
                                    "beosztasnev": "Tanársegéd",
                                    "Túlóra": "2"
                                },
                                {
                                    "beosztasnev": "Tanársegéd",
                                    "Túlóra": "2"
                                },
                                {
                                    "beosztasnev": "Egyetemi tanár",
                                    "Túlóra": "0"
                                },
                                {
                                    "beosztasnev": "Egyetemi tanár",
                                    "Túlóra": "0"
                                },
                                {
                                    "beosztasnev": "Egyetemi tanár",
                                    "Túlóra": "0"
                                },
                                {
                                    "beosztasnev": "Egyetemi tanár",
                                    "Túlóra": "0"
                                },
                                {
                                    "beosztasnev": "Adjunktus",
                                    "Túlóra": "0"
                                },
                                {
                                    "beosztasnev": "Adjunktus",
                                    "Túlóra": "0"
                                }
                            ]
                        },
                        "text/html": "<table><tr><th>beosztasnev</th><th>Túlóra</th></tr><tr><td>Egyetemi tanár</td><td>0</td></tr><tr><td>Tanársegéd</td><td>2</td></tr><tr><td>Tanársegéd</td><td>2</td></tr><tr><td>Óraadó</td><td>4</td></tr><tr><td>Docens</td><td>0</td></tr><tr><td>Tanársegéd</td><td>2</td></tr><tr><td>Docens</td><td>0</td></tr><tr><td>Docens</td><td>0</td></tr><tr><td>Adjunktus</td><td>0</td></tr><tr><td>Egyetemi tanár</td><td>0</td></tr><tr><td>Óraadó</td><td>4</td></tr><tr><td>Óraadó</td><td>4</td></tr><tr><td>Adjunktus</td><td>0</td></tr><tr><td>Tanársegéd</td><td>2</td></tr><tr><td>Óraadó</td><td>4</td></tr><tr><td>Óraadó</td><td>4</td></tr><tr><td>Adjunktus</td><td>0</td></tr><tr><td>Óraadó</td><td>4</td></tr><tr><td>Adjunktus</td><td>0</td></tr><tr><td>Tanársegéd</td><td>2</td></tr><tr><td>Adjunktus</td><td>0</td></tr><tr><td>Tanársegéd</td><td>2</td></tr><tr><td>Adjunktus</td><td>0</td></tr><tr><td>Tanársegéd</td><td>2</td></tr><tr><td>Adjunktus</td><td>0</td></tr><tr><td>Tanársegéd</td><td>2</td></tr><tr><td>Adjunktus</td><td>0</td></tr><tr><td>Óraadó</td><td>4</td></tr><tr><td>Docens</td><td>0</td></tr><tr><td>Tanársegéd</td><td>2</td></tr><tr><td>Tanársegéd</td><td>2</td></tr><tr><td>Tanársegéd</td><td>2</td></tr><tr><td>Docens</td><td>0</td></tr><tr><td>Docens</td><td>0</td></tr><tr><td>Tanársegéd</td><td>2</td></tr><tr><td>Tanársegéd</td><td>2</td></tr><tr><td>Docens</td><td>0</td></tr><tr><td>Docens</td><td>0</td></tr><tr><td>Tanársegéd</td><td>2</td></tr><tr><td>Tanársegéd</td><td>2</td></tr><tr><td>Óraadó</td><td>4</td></tr><tr><td>Óraadó</td><td>4</td></tr><tr><td>Egyetemi tanár</td><td>0</td></tr><tr><td>Egyetemi tanár</td><td>0</td></tr><tr><td>Óraadó</td><td>4</td></tr><tr><td>Tanársegéd</td><td>2</td></tr><tr><td>Egyetemi tanár</td><td>0</td></tr><tr><td>Docens</td><td>0</td></tr><tr><td>Docens</td><td>0</td></tr><tr><td>Egyetemi tanár</td><td>0</td></tr><tr><td>Egyetemi tanár</td><td>0</td></tr><tr><td>Adjunktus</td><td>0</td></tr><tr><td>Adjunktus</td><td>0</td></tr><tr><td>Tanársegéd</td><td>2</td></tr><tr><td>Tanársegéd</td><td>2</td></tr><tr><td>Tanársegéd</td><td>2</td></tr><tr><td>Tanársegéd</td><td>2</td></tr><tr><td>Adjunktus</td><td>0</td></tr><tr><td>Adjunktus</td><td>0</td></tr><tr><td>Tanársegéd</td><td>2</td></tr><tr><td>Tanársegéd</td><td>2</td></tr><tr><td>Egyetemi tanár</td><td>0</td></tr><tr><td>Egyetemi tanár</td><td>0</td></tr><tr><td>Egyetemi tanár</td><td>0</td></tr><tr><td>Egyetemi tanár</td><td>0</td></tr><tr><td>Adjunktus</td><td>0</td></tr><tr><td>Adjunktus</td><td>0</td></tr></table>"
                    },
                    "metadata": {}
                }
            ],
            "execution_count": 8
        },
        {
            "cell_type": "markdown",
            "source": [
                "10. <span style=\"font-weight: 600; color: rgb(36, 41, 47); font-family: -apple-system, BlinkMacSystemFont, &quot;Segoe UI&quot;, Helvetica, Arial, sans-serif, &quot;Apple Color Emoji&quot;, &quot;Segoe UI Emoji&quot;; font-size: 16px;\">Melyek azok az oktatók, akiknek nincs órájuk?</span>\n",
                "\n",
                "1. Csak az oktatók neve jelenjen meg!\n",
                "2. ÖTLET: használjunk LEFT JOIN-t, és szűrjünk azokra a rekordokra, ahol NULL érték van a JOIN utáni feltétel jobb oldalán!"
            ],
            "metadata": {
                "azdata_cell_guid": "217c5772-afe2-4a7c-b913-e3a3e09d6411"
            },
            "attachments": {}
        },
        {
            "cell_type": "code",
            "source": [
                "SELECT Oktatok.nev\r\n",
                "FROM Oktatok LEFT JOIN Orak ON Oktatok.oktato_id = Orak.tanar --FROM Oktatok okt LEFT JOIN Orak o ON okt.oktato_id = o.tanar\r\n",
                "WHERE Orak.tanar IS NULL"
            ],
            "metadata": {
                "azdata_cell_guid": "a9cc0926-3dbd-4ed8-8179-1c39d64a0762",
                "language": "sql"
            },
            "outputs": [
                {
                    "output_type": "display_data",
                    "data": {
                        "text/html": "(5 rows affected)"
                    },
                    "metadata": {}
                },
                {
                    "output_type": "display_data",
                    "data": {
                        "text/html": "Total execution time: 00:00:00.024"
                    },
                    "metadata": {}
                },
                {
                    "output_type": "execute_result",
                    "metadata": {},
                    "execution_count": 8,
                    "data": {
                        "application/vnd.dataresource+json": {
                            "schema": {
                                "fields": [
                                    {
                                        "name": "nev"
                                    }
                                ]
                            },
                            "data": [
                                {
                                    "nev": "Józsa Gábor"
                                },
                                {
                                    "nev": "Rácz András"
                                },
                                {
                                    "nev": "Kiss István"
                                },
                                {
                                    "nev": "Mészáros Kriszta"
                                },
                                {
                                    "nev": "Kovacs Istvan"
                                }
                            ]
                        },
                        "text/html": [
                            "<table>",
                            "<tr><th>nev</th></tr>",
                            "<tr><td>Józsa Gábor</td></tr>",
                            "<tr><td>Rácz András</td></tr>",
                            "<tr><td>Kiss István</td></tr>",
                            "<tr><td>Mészáros Kriszta</td></tr>",
                            "<tr><td>Kovacs Istvan</td></tr>",
                            "</table>"
                        ]
                    }
                }
            ],
            "execution_count": 8
        },
        {
            "cell_type": "markdown",
            "source": [
                "11. <span style=\"font-weight: 600; color: rgb(36, 41, 47); font-family: -apple-system, BlinkMacSystemFont, &quot;Segoe UI&quot;, Helvetica, Arial, sans-serif, &quot;Apple Color Emoji&quot;, &quot;Segoe UI Emoji&quot;; font-size: 16px;\">Készítsünk lekérdezést, amely részletesen megjeleníti az egyes órák fontosabb adatait, azaz</span>\n",
                "\n",
                "1. Az órák azonosítóit, a tanár nevét, a tantárgy nevét, a terem nevét és a kezdési időpontot!\n",
                "2. Az oszlopokat nevezzük el értelemszerűen!"
            ],
            "metadata": {
                "azdata_cell_guid": "d2340f5f-1614-473c-b937-85740d67f7c1"
            },
            "attachments": {}
        },
        {
            "cell_type": "code",
            "source": [
                "SELECT Orak.ora_id,\r\n",
                "        Oktatok.nev,\r\n",
                "        Tantárgyak.Tantárgynév,\r\n",
                "        Termek.Terem,\r\n",
                "        Savok.Időpont\r\n",
                "FROM Orak JOIN Oktatok ON Orak.tanar = Oktatok.oktato_id\r\n",
                "            JOIN Tantárgyak ON Orak.targy = Tantárgyak.Tkód\r\n",
                "            JOIN Termek ON Orak.terem = Termek.Tkód\r\n",
                "            JOIN Savok ON Orak.Sav = Savok.Sav_id"
            ],
            "metadata": {
                "azdata_cell_guid": "e99c2c53-898f-4787-b0e6-182d106dc16f",
                "language": "sql"
            },
            "outputs": [
                {
                    "output_type": "display_data",
                    "data": {
                        "text/html": "(67 rows affected)"
                    },
                    "metadata": {}
                },
                {
                    "output_type": "display_data",
                    "data": {
                        "text/html": "Total execution time: 00:00:00.035"
                    },
                    "metadata": {}
                },
                {
                    "output_type": "execute_result",
                    "execution_count": 3,
                    "data": {
                        "application/vnd.dataresource+json": {
                            "schema": {
                                "fields": [
                                    {
                                        "name": "ora_id"
                                    },
                                    {
                                        "name": "nev"
                                    },
                                    {
                                        "name": "Tantárgynév"
                                    },
                                    {
                                        "name": "Terem"
                                    },
                                    {
                                        "name": "Időpont"
                                    }
                                ]
                            },
                            "data": [
                                {
                                    "ora_id": "159",
                                    "nev": "Ujfalussi István",
                                    "Tantárgynév": "Az ürgeöntés alapjai",
                                    "Terem": "117",
                                    "Időpont": "8.00"
                                },
                                {
                                    "ora_id": "160",
                                    "nev": "Pelikán József",
                                    "Tantárgynév": "Az ürgeöntés alapjai",
                                    "Terem": "118",
                                    "Időpont": "14.00"
                                },
                                {
                                    "ora_id": "161",
                                    "nev": "Pelikán József",
                                    "Tantárgynév": "Az ürgeöntés alapjai",
                                    "Terem": "118",
                                    "Időpont": "9.30"
                                },
                                {
                                    "ora_id": "162",
                                    "nev": "Kovács András",
                                    "Tantárgynév": "Az ürgeöntés alapjai",
                                    "Terem": "119",
                                    "Időpont": "12.30"
                                },
                                {
                                    "ora_id": "163",
                                    "nev": "Szerb László",
                                    "Tantárgynév": "Az ürgeöntés alapjai",
                                    "Terem": "120",
                                    "Időpont": "9.30"
                                },
                                {
                                    "ora_id": "164",
                                    "nev": "Kiss János",
                                    "Tantárgynév": "Az ürgeöntés alapjai",
                                    "Terem": "119",
                                    "Időpont": "11.00"
                                },
                                {
                                    "ora_id": "165",
                                    "nev": "Szerb László",
                                    "Tantárgynév": "Az ürgeöntés alapjai",
                                    "Terem": "119",
                                    "Időpont": "11.00"
                                },
                                {
                                    "ora_id": "166",
                                    "nev": "Szerb László",
                                    "Tantárgynév": "Az ürgeöntés alapjai",
                                    "Terem": "119",
                                    "Időpont": "12.30"
                                },
                                {
                                    "ora_id": "167",
                                    "nev": "Szentágotai Istvás",
                                    "Tantárgynév": "Az ürgeöntés alapjai",
                                    "Terem": "120",
                                    "Időpont": "12.30"
                                },
                                {
                                    "ora_id": "168",
                                    "nev": "Ujfalussi István",
                                    "Tantárgynév": "Az ürgeöntés alapjai",
                                    "Terem": "217",
                                    "Időpont": "11.00"
                                },
                                {
                                    "ora_id": "169",
                                    "nev": "Kovács András",
                                    "Tantárgynév": "Az ürgeöntés alapjai",
                                    "Terem": "218",
                                    "Időpont": "9.30"
                                },
                                {
                                    "ora_id": "170",
                                    "nev": "Ludas Mátyás",
                                    "Tantárgynév": "Az ürgeöntés alapjai",
                                    "Terem": "120",
                                    "Időpont": "9.30"
                                },
                                {
                                    "ora_id": "171",
                                    "nev": "Szénási ászló",
                                    "Tantárgynév": "Az ürgeöntés alapjai",
                                    "Terem": "220",
                                    "Időpont": "9.30"
                                },
                                {
                                    "ora_id": "172",
                                    "nev": "Kiss János",
                                    "Tantárgynév": "Az ürgeöntés alapjai",
                                    "Terem": "119",
                                    "Időpont": "9.30"
                                },
                                {
                                    "ora_id": "173",
                                    "nev": "Kovács András",
                                    "Tantárgynév": "Az ürgeöntés alapjai",
                                    "Terem": "119",
                                    "Időpont": "11.00"
                                },
                                {
                                    "ora_id": "174",
                                    "nev": "Ludas Mátyás",
                                    "Tantárgynév": "Az ürgeöntés alapjai",
                                    "Terem": "219",
                                    "Időpont": "11.00"
                                },
                                {
                                    "ora_id": "175",
                                    "nev": "Szénási ászló",
                                    "Tantárgynév": "Az ürgeöntés alapjai",
                                    "Terem": "120",
                                    "Időpont": "12.30"
                                },
                                {
                                    "ora_id": "176",
                                    "nev": "Kovács András",
                                    "Tantárgynév": "Az ürgeöntés alapjai",
                                    "Terem": "118",
                                    "Időpont": "12.30"
                                },
                                {
                                    "ora_id": "177",
                                    "nev": "Szentágotai Istvás",
                                    "Tantárgynév": "Az ürgeöntés alapjai",
                                    "Terem": "119",
                                    "Időpont": "14.00"
                                },
                                {
                                    "ora_id": "178",
                                    "nev": "Vitéz János",
                                    "Tantárgynév": "Az ürgeöntés alapjai",
                                    "Terem": "220",
                                    "Időpont": "14.00"
                                },
                                {
                                    "ora_id": "179",
                                    "nev": "Szentágotai Istvás",
                                    "Tantárgynév": "Az ürgeöntés alapjai",
                                    "Terem": "120",
                                    "Időpont": "15.30"
                                },
                                {
                                    "ora_id": "180",
                                    "nev": "Vitéz János",
                                    "Tantárgynév": "Az ürgeöntés alapjai",
                                    "Terem": "119",
                                    "Időpont": "15.30"
                                },
                                {
                                    "ora_id": "181",
                                    "nev": "Szentágotai Istvás",
                                    "Tantárgynév": "Az ürgeöntés alapjai",
                                    "Terem": "118",
                                    "Időpont": "8.00"
                                },
                                {
                                    "ora_id": "182",
                                    "nev": "Vitéz János",
                                    "Tantárgynév": "Az ürgeöntés alapjai",
                                    "Terem": "219",
                                    "Időpont": "8.00"
                                },
                                {
                                    "ora_id": "183",
                                    "nev": "Szentágotai Istvás",
                                    "Tantárgynév": "Az ürgeöntés alapjai",
                                    "Terem": "220",
                                    "Időpont": "9.30"
                                },
                                {
                                    "ora_id": "184",
                                    "nev": "Vitéz János",
                                    "Tantárgynév": "Az ürgeöntés alapjai",
                                    "Terem": "218",
                                    "Időpont": "9.30"
                                },
                                {
                                    "ora_id": "185",
                                    "nev": "Szentágotai Istvás",
                                    "Tantárgynév": "Az ürgeöntés alapjai",
                                    "Terem": "120",
                                    "Időpont": "11.00"
                                },
                                {
                                    "ora_id": "186",
                                    "nev": "Nógrádi Kata",
                                    "Tantárgynév": "ü-business",
                                    "Terem": "219",
                                    "Időpont": "12.30"
                                },
                                {
                                    "ora_id": "187",
                                    "nev": "Balkán András",
                                    "Tantárgynév": "Bevezetés az ürgeöntésbe",
                                    "Terem": "217",
                                    "Időpont": "9.30"
                                },
                                {
                                    "ora_id": "188",
                                    "nev": "Farkasos Piroska",
                                    "Tantárgynév": "Bevezetés az ürgeöntésbe",
                                    "Terem": "VP 203.",
                                    "Időpont": "15.30"
                                },
                                {
                                    "ora_id": "189",
                                    "nev": "Farkasos Piroska",
                                    "Tantárgynév": "Bevezetés az ürgeöntésbe",
                                    "Terem": "VP 203.",
                                    "Időpont": "9.30"
                                },
                                {
                                    "ora_id": "190",
                                    "nev": "Farkasos Piroska",
                                    "Tantárgynév": "Bevezetés az ürgeöntésbe",
                                    "Terem": "E.2.238",
                                    "Időpont": "11.00"
                                },
                                {
                                    "ora_id": "191",
                                    "nev": "Varga Kata",
                                    "Tantárgynév": "Az ürgeöntés hydrológiai alapjai II.",
                                    "Terem": "220",
                                    "Időpont": "14.00"
                                },
                                {
                                    "ora_id": "192",
                                    "nev": "Varga Kata",
                                    "Tantárgynév": "Az ürgeöntés hydrológiai alapjai II.",
                                    "Terem": "119",
                                    "Időpont": "15.30"
                                },
                                {
                                    "ora_id": "193",
                                    "nev": "Farkasos Piroska",
                                    "Tantárgynév": "Az ürgeöntés hydrológiai alapjai II.",
                                    "Terem": "217",
                                    "Időpont": "14.00"
                                },
                                {
                                    "ora_id": "194",
                                    "nev": "Farkasos Piroska",
                                    "Tantárgynév": "Az ürgeöntés hydrológiai alapjai II.",
                                    "Terem": "E.fsz.I",
                                    "Időpont": "15.30"
                                },
                                {
                                    "ora_id": "195",
                                    "nev": "Balkán András",
                                    "Tantárgynév": "Az ürgeöntés hydrológiai alapjai II.",
                                    "Terem": "116",
                                    "Időpont": "14.00"
                                },
                                {
                                    "ora_id": "196",
                                    "nev": "Balkán András",
                                    "Tantárgynév": "Az ürgeöntés hydrológiai alapjai II.",
                                    "Terem": "218",
                                    "Időpont": "15.30"
                                },
                                {
                                    "ora_id": "197",
                                    "nev": "Farkasos Piroska",
                                    "Tantárgynév": "Az ürgeöntés hydrológiai alapjai II.",
                                    "Terem": "116",
                                    "Időpont": "8.00"
                                },
                                {
                                    "ora_id": "198",
                                    "nev": "Farkasos Piroska",
                                    "Tantárgynév": "Az ürgeöntés hydrológiai alapjai II.",
                                    "Terem": "119",
                                    "Időpont": "9.30"
                                },
                                {
                                    "ora_id": "199",
                                    "nev": "Szabó Andrera",
                                    "Tantárgynév": "Az ürgeöntés hydrológiai alapjai II.",
                                    "Terem": "218",
                                    "Időpont": "8.00"
                                },
                                {
                                    "ora_id": "200",
                                    "nev": "Szabó Andrera",
                                    "Tantárgynév": "Az ürgeöntés hydrológiai alapjai II.",
                                    "Terem": "220",
                                    "Időpont": "9.30"
                                },
                                {
                                    "ora_id": "201",
                                    "nev": "Juhász András",
                                    "Tantárgynév": "Öntési gyakorlat",
                                    "Terem": "E.2.238",
                                    "Időpont": "12.30"
                                },
                                {
                                    "ora_id": "202",
                                    "nev": "Juhász András",
                                    "Tantárgynév": "Öntési gyakorlat",
                                    "Terem": "E.3.332",
                                    "Időpont": "14.00"
                                },
                                {
                                    "ora_id": "203",
                                    "nev": "Aranyi Mária",
                                    "Tantárgynév": "Az ürgeöntés hydrológiai alapjai I.",
                                    "Terem": "S.Asor.S3",
                                    "Időpont": "12.30"
                                },
                                {
                                    "ora_id": "204",
                                    "nev": "Róbert Gida",
                                    "Tantárgynév": "Az ürgeöntés hydrológiai alapjai I.",
                                    "Terem": "120",
                                    "Időpont": "14.00"
                                },
                                {
                                    "ora_id": "205",
                                    "nev": "Ujfalussi István",
                                    "Tantárgynév": "Az öntés elmélete",
                                    "Terem": "220",
                                    "Időpont": "12.30"
                                },
                                {
                                    "ora_id": "206",
                                    "nev": "Varga Kata",
                                    "Tantárgynév": "Az öntés elmélete",
                                    "Terem": "S.Asor.S3",
                                    "Időpont": "8.00"
                                },
                                {
                                    "ora_id": "207",
                                    "nev": "Varga Kata",
                                    "Tantárgynév": "Az öntés elmélete",
                                    "Terem": "219",
                                    "Időpont": "12.30"
                                },
                                {
                                    "ora_id": "208",
                                    "nev": "Jogrerős Pál",
                                    "Tantárgynév": "Ürgevitel",
                                    "Terem": "VP 203.",
                                    "Időpont": "8.00"
                                },
                                {
                                    "ora_id": "209",
                                    "nev": "Jogrerős Pál",
                                    "Tantárgynév": "Ürgevitel",
                                    "Terem": "VP 203.",
                                    "Időpont": "9.30"
                                },
                                {
                                    "ora_id": "210",
                                    "nev": "Szép llonka",
                                    "Tantárgynév": "Ürgeöntés az EU-ban",
                                    "Terem": "E.2.238",
                                    "Időpont": "15.30"
                                },
                                {
                                    "ora_id": "211",
                                    "nev": "Szép llonka",
                                    "Tantárgynév": "Ürgeöntés az EU-ban",
                                    "Terem": "217",
                                    "Időpont": "17.00"
                                },
                                {
                                    "ora_id": "212",
                                    "nev": "Kiss János",
                                    "Tantárgynév": "Ürgeöntés az EU-ban",
                                    "Terem": "120",
                                    "Időpont": "18.30"
                                },
                                {
                                    "ora_id": "213",
                                    "nev": "Kiss János",
                                    "Tantárgynév": "Ürgeöntés az EU-ban",
                                    "Terem": "218",
                                    "Időpont": "20.00"
                                },
                                {
                                    "ora_id": "214",
                                    "nev": "Pelikán József",
                                    "Tantárgynév": "Az ürge anatómiája",
                                    "Terem": "219",
                                    "Időpont": "11.00"
                                },
                                {
                                    "ora_id": "215",
                                    "nev": "Pelikán József",
                                    "Tantárgynév": "Az ürge anatómiája",
                                    "Terem": "E.fsz.IV.",
                                    "Időpont": "12.30"
                                },
                                {
                                    "ora_id": "216",
                                    "nev": "Szép llonka",
                                    "Tantárgynév": "Az ürge anatómiája",
                                    "Terem": "218",
                                    "Időpont": "11.00"
                                },
                                {
                                    "ora_id": "217",
                                    "nev": "Szép llonka",
                                    "Tantárgynév": "Az ürge anatómiája",
                                    "Terem": "217",
                                    "Időpont": "12.30"
                                },
                                {
                                    "ora_id": "218",
                                    "nev": "Pelikán József",
                                    "Tantárgynév": "Az ürge anatómiája",
                                    "Terem": "118",
                                    "Időpont": "15.30"
                                },
                                {
                                    "ora_id": "219",
                                    "nev": "Pelikán József",
                                    "Tantárgynév": "Az ürge anatómiája",
                                    "Terem": "219",
                                    "Időpont": "17.00"
                                },
                                {
                                    "ora_id": "220",
                                    "nev": "Kovács László",
                                    "Tantárgynév": "Fejezetek az ürgék jogaiból",
                                    "Terem": "119",
                                    "Időpont": "11.00"
                                },
                                {
                                    "ora_id": "221",
                                    "nev": "Kovács László",
                                    "Tantárgynév": "Fejezetek az ürgék jogaiból",
                                    "Terem": "VP 203.",
                                    "Időpont": "11.00"
                                },
                                {
                                    "ora_id": "222",
                                    "nev": "Kovács László",
                                    "Tantárgynév": "Fejezetek az ürgék jogaiból",
                                    "Terem": "116",
                                    "Időpont": "14.00"
                                },
                                {
                                    "ora_id": "223",
                                    "nev": "Kovács László",
                                    "Tantárgynév": "Fejezetek az ürgék jogaiból",
                                    "Terem": "S.Asor.S3",
                                    "Időpont": "8.00"
                                },
                                {
                                    "ora_id": "226",
                                    "nev": "Szentágotai Istvás",
                                    "Tantárgynév": "ürgefőzés",
                                    "Terem": "117",
                                    "Időpont": "11.00"
                                },
                                {
                                    "ora_id": "227",
                                    "nev": "Szentágotai Istvás",
                                    "Tantárgynév": "Az ürgeöntés hydrológiai alapjai I.",
                                    "Terem": "116",
                                    "Időpont": "14.00"
                                }
                            ]
                        },
                        "text/html": "<table><tr><th>ora_id</th><th>nev</th><th>Tantárgynév</th><th>Terem</th><th>Időpont</th></tr><tr><td>159</td><td>Ujfalussi István</td><td>Az ürgeöntés alapjai</td><td>117</td><td>8.00</td></tr><tr><td>160</td><td>Pelikán József</td><td>Az ürgeöntés alapjai</td><td>118</td><td>14.00</td></tr><tr><td>161</td><td>Pelikán József</td><td>Az ürgeöntés alapjai</td><td>118</td><td>9.30</td></tr><tr><td>162</td><td>Kovács András</td><td>Az ürgeöntés alapjai</td><td>119</td><td>12.30</td></tr><tr><td>163</td><td>Szerb László</td><td>Az ürgeöntés alapjai</td><td>120</td><td>9.30</td></tr><tr><td>164</td><td>Kiss János</td><td>Az ürgeöntés alapjai</td><td>119</td><td>11.00</td></tr><tr><td>165</td><td>Szerb László</td><td>Az ürgeöntés alapjai</td><td>119</td><td>11.00</td></tr><tr><td>166</td><td>Szerb László</td><td>Az ürgeöntés alapjai</td><td>119</td><td>12.30</td></tr><tr><td>167</td><td>Szentágotai Istvás</td><td>Az ürgeöntés alapjai</td><td>120</td><td>12.30</td></tr><tr><td>168</td><td>Ujfalussi István</td><td>Az ürgeöntés alapjai</td><td>217</td><td>11.00</td></tr><tr><td>169</td><td>Kovács András</td><td>Az ürgeöntés alapjai</td><td>218</td><td>9.30</td></tr><tr><td>170</td><td>Ludas Mátyás</td><td>Az ürgeöntés alapjai</td><td>120</td><td>9.30</td></tr><tr><td>171</td><td>Szénási ászló</td><td>Az ürgeöntés alapjai</td><td>220</td><td>9.30</td></tr><tr><td>172</td><td>Kiss János</td><td>Az ürgeöntés alapjai</td><td>119</td><td>9.30</td></tr><tr><td>173</td><td>Kovács András</td><td>Az ürgeöntés alapjai</td><td>119</td><td>11.00</td></tr><tr><td>174</td><td>Ludas Mátyás</td><td>Az ürgeöntés alapjai</td><td>219</td><td>11.00</td></tr><tr><td>175</td><td>Szénási ászló</td><td>Az ürgeöntés alapjai</td><td>120</td><td>12.30</td></tr><tr><td>176</td><td>Kovács András</td><td>Az ürgeöntés alapjai</td><td>118</td><td>12.30</td></tr><tr><td>177</td><td>Szentágotai Istvás</td><td>Az ürgeöntés alapjai</td><td>119</td><td>14.00</td></tr><tr><td>178</td><td>Vitéz János</td><td>Az ürgeöntés alapjai</td><td>220</td><td>14.00</td></tr><tr><td>179</td><td>Szentágotai Istvás</td><td>Az ürgeöntés alapjai</td><td>120</td><td>15.30</td></tr><tr><td>180</td><td>Vitéz János</td><td>Az ürgeöntés alapjai</td><td>119</td><td>15.30</td></tr><tr><td>181</td><td>Szentágotai Istvás</td><td>Az ürgeöntés alapjai</td><td>118</td><td>8.00</td></tr><tr><td>182</td><td>Vitéz János</td><td>Az ürgeöntés alapjai</td><td>219</td><td>8.00</td></tr><tr><td>183</td><td>Szentágotai Istvás</td><td>Az ürgeöntés alapjai</td><td>220</td><td>9.30</td></tr><tr><td>184</td><td>Vitéz János</td><td>Az ürgeöntés alapjai</td><td>218</td><td>9.30</td></tr><tr><td>185</td><td>Szentágotai Istvás</td><td>Az ürgeöntés alapjai</td><td>120</td><td>11.00</td></tr><tr><td>186</td><td>Nógrádi Kata</td><td>ü-business</td><td>219</td><td>12.30</td></tr><tr><td>187</td><td>Balkán András</td><td>Bevezetés az ürgeöntésbe</td><td>217</td><td>9.30</td></tr><tr><td>188</td><td>Farkasos Piroska</td><td>Bevezetés az ürgeöntésbe</td><td>VP 203.</td><td>15.30</td></tr><tr><td>189</td><td>Farkasos Piroska</td><td>Bevezetés az ürgeöntésbe</td><td>VP 203.</td><td>9.30</td></tr><tr><td>190</td><td>Farkasos Piroska</td><td>Bevezetés az ürgeöntésbe</td><td>E.2.238</td><td>11.00</td></tr><tr><td>191</td><td>Varga Kata</td><td>Az ürgeöntés hydrológiai alapjai II.</td><td>220</td><td>14.00</td></tr><tr><td>192</td><td>Varga Kata</td><td>Az ürgeöntés hydrológiai alapjai II.</td><td>119</td><td>15.30</td></tr><tr><td>193</td><td>Farkasos Piroska</td><td>Az ürgeöntés hydrológiai alapjai II.</td><td>217</td><td>14.00</td></tr><tr><td>194</td><td>Farkasos Piroska</td><td>Az ürgeöntés hydrológiai alapjai II.</td><td>E.fsz.I</td><td>15.30</td></tr><tr><td>195</td><td>Balkán András</td><td>Az ürgeöntés hydrológiai alapjai II.</td><td>116</td><td>14.00</td></tr><tr><td>196</td><td>Balkán András</td><td>Az ürgeöntés hydrológiai alapjai II.</td><td>218</td><td>15.30</td></tr><tr><td>197</td><td>Farkasos Piroska</td><td>Az ürgeöntés hydrológiai alapjai II.</td><td>116</td><td>8.00</td></tr><tr><td>198</td><td>Farkasos Piroska</td><td>Az ürgeöntés hydrológiai alapjai II.</td><td>119</td><td>9.30</td></tr><tr><td>199</td><td>Szabó Andrera</td><td>Az ürgeöntés hydrológiai alapjai II.</td><td>218</td><td>8.00</td></tr><tr><td>200</td><td>Szabó Andrera</td><td>Az ürgeöntés hydrológiai alapjai II.</td><td>220</td><td>9.30</td></tr><tr><td>201</td><td>Juhász András</td><td>Öntési gyakorlat</td><td>E.2.238</td><td>12.30</td></tr><tr><td>202</td><td>Juhász András</td><td>Öntési gyakorlat</td><td>E.3.332</td><td>14.00</td></tr><tr><td>203</td><td>Aranyi Mária</td><td>Az ürgeöntés hydrológiai alapjai I.</td><td>S.Asor.S3</td><td>12.30</td></tr><tr><td>204</td><td>Róbert Gida</td><td>Az ürgeöntés hydrológiai alapjai I.</td><td>120</td><td>14.00</td></tr><tr><td>205</td><td>Ujfalussi István</td><td>Az öntés elmélete</td><td>220</td><td>12.30</td></tr><tr><td>206</td><td>Varga Kata</td><td>Az öntés elmélete</td><td>S.Asor.S3</td><td>8.00</td></tr><tr><td>207</td><td>Varga Kata</td><td>Az öntés elmélete</td><td>219</td><td>12.30</td></tr><tr><td>208</td><td>Jogrerős Pál</td><td>Ürgevitel</td><td>VP 203.</td><td>8.00</td></tr><tr><td>209</td><td>Jogrerős Pál</td><td>Ürgevitel</td><td>VP 203.</td><td>9.30</td></tr><tr><td>210</td><td>Szép llonka</td><td>Ürgeöntés az EU-ban</td><td>E.2.238</td><td>15.30</td></tr><tr><td>211</td><td>Szép llonka</td><td>Ürgeöntés az EU-ban</td><td>217</td><td>17.00</td></tr><tr><td>212</td><td>Kiss János</td><td>Ürgeöntés az EU-ban</td><td>120</td><td>18.30</td></tr><tr><td>213</td><td>Kiss János</td><td>Ürgeöntés az EU-ban</td><td>218</td><td>20.00</td></tr><tr><td>214</td><td>Pelikán József</td><td>Az ürge anatómiája</td><td>219</td><td>11.00</td></tr><tr><td>215</td><td>Pelikán József</td><td>Az ürge anatómiája</td><td>E.fsz.IV.</td><td>12.30</td></tr><tr><td>216</td><td>Szép llonka</td><td>Az ürge anatómiája</td><td>218</td><td>11.00</td></tr><tr><td>217</td><td>Szép llonka</td><td>Az ürge anatómiája</td><td>217</td><td>12.30</td></tr><tr><td>218</td><td>Pelikán József</td><td>Az ürge anatómiája</td><td>118</td><td>15.30</td></tr><tr><td>219</td><td>Pelikán József</td><td>Az ürge anatómiája</td><td>219</td><td>17.00</td></tr><tr><td>220</td><td>Kovács László</td><td>Fejezetek az ürgék jogaiból</td><td>119</td><td>11.00</td></tr><tr><td>221</td><td>Kovács László</td><td>Fejezetek az ürgék jogaiból</td><td>VP 203.</td><td>11.00</td></tr><tr><td>222</td><td>Kovács László</td><td>Fejezetek az ürgék jogaiból</td><td>116</td><td>14.00</td></tr><tr><td>223</td><td>Kovács László</td><td>Fejezetek az ürgék jogaiból</td><td>S.Asor.S3</td><td>8.00</td></tr><tr><td>226</td><td>Szentágotai Istvás</td><td>ürgefőzés</td><td>117</td><td>11.00</td></tr><tr><td>227</td><td>Szentágotai Istvás</td><td>Az ürgeöntés hydrológiai alapjai I.</td><td>116</td><td>14.00</td></tr></table>"
                    },
                    "metadata": {}
                }
            ],
            "execution_count": 3
        },
        {
            "cell_type": "markdown",
            "source": [
                "12. <span style=\"color: rgb(36, 41, 47); font-family: -apple-system, BlinkMacSystemFont, &quot;Segoe UI&quot;, Helvetica, Arial, sans-serif, &quot;Apple Color Emoji&quot;, &quot;Segoe UI Emoji&quot;; font-size: 16px;\">Készítsünk listát, amely tartalmazza az egyes órák azonosítóit, és az órán oktatott tantárgy felelősének nevét!</span>\n",
                "\n",
                "1. Rendezzük a listát a tantárgyfelelős neve szerint csökkenő sorrendbe!"
            ],
            "metadata": {
                "azdata_cell_guid": "a765e9d6-58b3-4171-872a-78f3118fd6e3"
            },
            "attachments": {}
        },
        {
            "cell_type": "code",
            "source": [
                "SELECT  Tantárgyak.Tkód,\r\n",
                "        Oktatok.nev ok\r\n",
                "FROM Tantárgyak JOIN Oktatok ON Tantárgyak.Tantárgyfelelős = Oktatok.oktato_id\r\n",
                "ORDER BY ok DESC"
            ],
            "metadata": {
                "azdata_cell_guid": "422e8127-b652-4d3a-bfd7-9b1637b5781e",
                "language": "sql"
            },
            "outputs": [
                {
                    "output_type": "display_data",
                    "data": {
                        "text/html": "(13 rows affected)"
                    },
                    "metadata": {}
                },
                {
                    "output_type": "display_data",
                    "data": {
                        "text/html": "Total execution time: 00:00:00.015"
                    },
                    "metadata": {}
                },
                {
                    "output_type": "execute_result",
                    "metadata": {},
                    "execution_count": 13,
                    "data": {
                        "application/vnd.dataresource+json": {
                            "schema": {
                                "fields": [
                                    {
                                        "name": "Tkód"
                                    },
                                    {
                                        "name": "ok"
                                    }
                                ]
                            },
                            "data": [
                                {
                                    "Tkód": "11",
                                    "ok": "Varga Kata"
                                },
                                {
                                    "Tkód": "4",
                                    "ok": "Ujfalussi István"
                                },
                                {
                                    "Tkód": "8",
                                    "ok": "Pelikán József"
                                },
                                {
                                    "Tkód": "3",
                                    "ok": "Pelikán József"
                                },
                                {
                                    "Tkód": "17",
                                    "ok": "Pelikán József"
                                },
                                {
                                    "Tkód": "18",
                                    "ok": "Kovács László"
                                },
                                {
                                    "Tkód": "19",
                                    "ok": "Kovács László"
                                },
                                {
                                    "Tkód": "16",
                                    "ok": "Kovács László"
                                },
                                {
                                    "Tkód": "10",
                                    "ok": "Kovács László"
                                },
                                {
                                    "Tkód": "13",
                                    "ok": "Jogrerős Pál"
                                },
                                {
                                    "Tkód": "5",
                                    "ok": "Balkán András"
                                },
                                {
                                    "Tkód": "1",
                                    "ok": "Balkán András"
                                },
                                {
                                    "Tkód": "2",
                                    "ok": "Balkán András"
                                }
                            ]
                        },
                        "text/html": [
                            "<table>",
                            "<tr><th>Tkód</th><th>ok</th></tr>",
                            "<tr><td>11</td><td>Varga Kata</td></tr>",
                            "<tr><td>4</td><td>Ujfalussi István</td></tr>",
                            "<tr><td>8</td><td>Pelikán József</td></tr>",
                            "<tr><td>3</td><td>Pelikán József</td></tr>",
                            "<tr><td>17</td><td>Pelikán József</td></tr>",
                            "<tr><td>18</td><td>Kovács László</td></tr>",
                            "<tr><td>19</td><td>Kovács László</td></tr>",
                            "<tr><td>16</td><td>Kovács László</td></tr>",
                            "<tr><td>10</td><td>Kovács László</td></tr>",
                            "<tr><td>13</td><td>Jogrerős Pál</td></tr>",
                            "<tr><td>5</td><td>Balkán András</td></tr>",
                            "<tr><td>1</td><td>Balkán András</td></tr>",
                            "<tr><td>2</td><td>Balkán András</td></tr>",
                            "</table>"
                        ]
                    }
                }
            ],
            "execution_count": 13
        },
        {
            "cell_type": "markdown",
            "source": [
                "13. <span style=\"color: rgb(36, 41, 47); font-family: -apple-system, BlinkMacSystemFont, &quot;Segoe UI&quot;, Helvetica, Arial, sans-serif, &quot;Apple Color Emoji&quot;, &quot;Segoe UI Emoji&quot;; font-size: 16px;\">Készítsünk listát, amely megjeleníti, hogy az Orak táblában lévő órák közül hányat tart Dr., illetve nem Dr. titulusú tanár!</span>\n",
                "\n",
                "1. Az oszlopokat nevezzük el értelemszerűen!"
            ],
            "metadata": {
                "azdata_cell_guid": "3f9237ae-f109-401c-acb9-31d75e73331b"
            },
            "attachments": {}
        },
        {
            "cell_type": "code",
            "source": [
                "SELECT CASE WHEN Oktatok.titulus = 'Dr.' THEN 'Dr.'\r\n",
                "            ELSE 'Nem Dr.'\r\n",
                "        END AS 'Dr-e?',\r\n",
                "        COUNT(*) AS 'óraszám'\r\n",
                "FROM Oktatok JOIN Orak ON Oktatok.oktato_id = Orak.tanar --FROM orak o JOIN Oktatok okt ON o.tanar = okt.oktato_id\r\n",
                "GROUP BY CASE WHEN Oktatok.titulus = 'Dr.' THEN 'Dr.'\r\n",
                "              ELSE 'Nem Dr.'\r\n",
                "         END"
            ],
            "metadata": {
                "azdata_cell_guid": "4b31bb89-cfbc-46b1-8639-85c462877786",
                "language": "sql",
                "tags": []
            },
            "outputs": [
                {
                    "output_type": "display_data",
                    "data": {
                        "text/html": "(2 rows affected)"
                    },
                    "metadata": {}
                },
                {
                    "output_type": "display_data",
                    "data": {
                        "text/html": "Total execution time: 00:00:00.029"
                    },
                    "metadata": {}
                },
                {
                    "output_type": "execute_result",
                    "metadata": {},
                    "execution_count": 19,
                    "data": {
                        "application/vnd.dataresource+json": {
                            "schema": {
                                "fields": [
                                    {
                                        "name": "Dr-e?"
                                    },
                                    {
                                        "name": "óraszám"
                                    }
                                ]
                            },
                            "data": [
                                {
                                    "Dr-e?": "Dr.",
                                    "óraszám": "25"
                                },
                                {
                                    "Dr-e?": "Nem Dr.",
                                    "óraszám": "42"
                                }
                            ]
                        },
                        "text/html": [
                            "<table>",
                            "<tr><th>Dr-e?</th><th>óraszám</th></tr>",
                            "<tr><td>Dr.</td><td>25</td></tr>",
                            "<tr><td>Nem Dr.</td><td>42</td></tr>",
                            "</table>"
                        ]
                    }
                }
            ],
            "execution_count": 19
        },
        {
            "cell_type": "markdown",
            "source": [
                "14. <span style=\"color: rgb(36, 41, 47); font-family: -apple-system, BlinkMacSystemFont, &quot;Segoe UI&quot;, Helvetica, Arial, sans-serif, &quot;Apple Color Emoji&quot;, &quot;Segoe UI Emoji&quot;; font-size: 16px;\">Készítsünk listát arról, hogy beosztásonként hány óra szerepel az Orak táblában!</span>\n",
                "\n",
                "1. Jelenítsük meg a beosztások nevét és az órák számát!\n",
                "2. A listát szűrjük azokra a beosztásokra, ahol ez az óraszám 10 feletti!"
            ],
            "metadata": {
                "azdata_cell_guid": "f634e09a-85ef-4e70-8ec6-ef355dfddaa7"
            },
            "attachments": {}
        },
        {
            "cell_type": "code",
            "source": [
                "SELECT  Beosztasok.beosztasnev,\r\n",
                "        COUNT(*) AS 'Óraszám'\r\n",
                "FROM Orak   JOIN Oktatok ON Orak.tanar = Oktatok.oktato_id\r\n",
                "            JOIN Beosztasok ON Oktatok.beosztás = Beosztasok.beosztas_id\r\n",
                "GROUP BY Beosztasok.beosztasnev\r\n",
                "HAVING COUNT(*) >=10"
            ],
            "metadata": {
                "azdata_cell_guid": "88abc55b-2c78-495b-a72f-3f8f4eb5fe70",
                "language": "sql"
            },
            "outputs": [
                {
                    "output_type": "display_data",
                    "data": {
                        "text/html": "(5 rows affected)"
                    },
                    "metadata": {}
                },
                {
                    "output_type": "display_data",
                    "data": {
                        "text/html": "Total execution time: 00:00:00.020"
                    },
                    "metadata": {}
                },
                {
                    "output_type": "execute_result",
                    "metadata": {},
                    "execution_count": 26,
                    "data": {
                        "application/vnd.dataresource+json": {
                            "schema": {
                                "fields": [
                                    {
                                        "name": "beosztasnev"
                                    },
                                    {
                                        "name": "Óraszám"
                                    }
                                ]
                            },
                            "data": [
                                {
                                    "beosztasnev": "Adjunktus",
                                    "Óraszám": "14"
                                },
                                {
                                    "beosztasnev": "Docens",
                                    "Óraszám": "10"
                                },
                                {
                                    "beosztasnev": "Egyetemi tanár",
                                    "Óraszám": "11"
                                },
                                {
                                    "beosztasnev": "Óraadó",
                                    "Óraszám": "10"
                                },
                                {
                                    "beosztasnev": "Tanársegéd",
                                    "Óraszám": "22"
                                }
                            ]
                        },
                        "text/html": [
                            "<table>",
                            "<tr><th>beosztasnev</th><th>Óraszám</th></tr>",
                            "<tr><td>Adjunktus</td><td>14</td></tr>",
                            "<tr><td>Docens</td><td>10</td></tr>",
                            "<tr><td>Egyetemi tanár</td><td>11</td></tr>",
                            "<tr><td>Óraadó</td><td>10</td></tr>",
                            "<tr><td>Tanársegéd</td><td>22</td></tr>",
                            "</table>"
                        ]
                    }
                }
            ],
            "execution_count": 26
        },
        {
            "cell_type": "markdown",
            "source": [
                "15. <span style=\"color: rgb(36, 41, 47); font-family: -apple-system, BlinkMacSystemFont, &quot;Segoe UI&quot;, Helvetica, Arial, sans-serif, &quot;Apple Color Emoji&quot;, &quot;Segoe UI Emoji&quot;; font-size: 16px;\">Melyek azok az órák, amelyek kezdési időpontja olyan sávba esik, amely a mostani időpont (óra:perc) után van?</span>\n",
                "\n",
                "1. Listázzuk az órák azonosítóit, valamint az órakezdés napját és időpontját!\n",
                "2. A listát rendezzük az időpont szerint növekvő sorrendbe!"
            ],
            "metadata": {
                "azdata_cell_guid": "4cbf2f0d-a65d-480a-8186-ccdb24498443"
            },
            "attachments": {}
        },
        {
            "cell_type": "code",
            "source": [
                "SELECT  Orak.ora_id,\r\n",
                "        Napok.nap,\r\n",
                "        Savok.Időpont\r\n",
                "FROM Orak   JOIN Savok ON Orak.Sav = Savok.Sav_id\r\n",
                "            JOIN Napok ON Orak.nap = Napok.nap_id\r\n",
                "WHERE cast(LEFT(időpont, CHARINDEX('.',időpont)-1)+':'+RIGHT(időpont,2) as time) > CAST(GETDATE() AS time)\r\n",
                "ORDER BY cast(LEFT(időpont, CHARINDEX('.',időpont)-1)+':'+RIGHT(időpont,2) as time)"
            ],
            "metadata": {
                "azdata_cell_guid": "c148aee8-bc85-40bf-b80a-a4898a6c05cb",
                "language": "sql"
            },
            "outputs": [
                {
                    "output_type": "display_data",
                    "data": {
                        "text/html": "(67 rows affected)"
                    },
                    "metadata": {}
                },
                {
                    "output_type": "display_data",
                    "data": {
                        "text/html": "Total execution time: 00:00:00.031"
                    },
                    "metadata": {}
                },
                {
                    "output_type": "execute_result",
                    "metadata": {},
                    "execution_count": 33,
                    "data": {
                        "application/vnd.dataresource+json": {
                            "schema": {
                                "fields": [
                                    {
                                        "name": "ora_id"
                                    },
                                    {
                                        "name": "nap"
                                    },
                                    {
                                        "name": "Időpont"
                                    }
                                ]
                            },
                            "data": [
                                {
                                    "ora_id": "159",
                                    "nap": "Szerda",
                                    "Időpont": "8.00"
                                },
                                {
                                    "ora_id": "181",
                                    "nap": "Péntek",
                                    "Időpont": "8.00"
                                },
                                {
                                    "ora_id": "182",
                                    "nap": "Péntek",
                                    "Időpont": "8.00"
                                },
                                {
                                    "ora_id": "197",
                                    "nap": "Csütörtök",
                                    "Időpont": "8.00"
                                },
                                {
                                    "ora_id": "199",
                                    "nap": "Csütörtök",
                                    "Időpont": "8.00"
                                },
                                {
                                    "ora_id": "206",
                                    "nap": "Kedd",
                                    "Időpont": "8.00"
                                },
                                {
                                    "ora_id": "208",
                                    "nap": "Hétfő",
                                    "Időpont": "8.00"
                                },
                                {
                                    "ora_id": "223",
                                    "nap": "Péntek",
                                    "Időpont": "8.00"
                                },
                                {
                                    "ora_id": "161",
                                    "nap": "Hétfő",
                                    "Időpont": "9.30"
                                },
                                {
                                    "ora_id": "163",
                                    "nap": "Szerda",
                                    "Időpont": "9.30"
                                },
                                {
                                    "ora_id": "169",
                                    "nap": "Hétfő",
                                    "Időpont": "9.30"
                                },
                                {
                                    "ora_id": "170",
                                    "nap": "Hétfő",
                                    "Időpont": "9.30"
                                },
                                {
                                    "ora_id": "171",
                                    "nap": "Kedd",
                                    "Időpont": "9.30"
                                },
                                {
                                    "ora_id": "172",
                                    "nap": "Kedd",
                                    "Időpont": "9.30"
                                },
                                {
                                    "ora_id": "183",
                                    "nap": "Péntek",
                                    "Időpont": "9.30"
                                },
                                {
                                    "ora_id": "184",
                                    "nap": "Péntek",
                                    "Időpont": "9.30"
                                },
                                {
                                    "ora_id": "187",
                                    "nap": "Szerda",
                                    "Időpont": "9.30"
                                },
                                {
                                    "ora_id": "189",
                                    "nap": "Csütörtök",
                                    "Időpont": "9.30"
                                },
                                {
                                    "ora_id": "198",
                                    "nap": "Szerda",
                                    "Időpont": "9.30"
                                },
                                {
                                    "ora_id": "200",
                                    "nap": "Csütörtök",
                                    "Időpont": "9.30"
                                },
                                {
                                    "ora_id": "209",
                                    "nap": "Hétfő",
                                    "Időpont": "9.30"
                                },
                                {
                                    "ora_id": "164",
                                    "nap": "Kedd",
                                    "Időpont": "11.00"
                                },
                                {
                                    "ora_id": "165",
                                    "nap": "Kedd",
                                    "Időpont": "11.00"
                                },
                                {
                                    "ora_id": "168",
                                    "nap": "Csütörtök",
                                    "Időpont": "11.00"
                                },
                                {
                                    "ora_id": "173",
                                    "nap": "Csütörtök",
                                    "Időpont": "11.00"
                                },
                                {
                                    "ora_id": "174",
                                    "nap": "Csütörtök",
                                    "Időpont": "11.00"
                                },
                                {
                                    "ora_id": "185",
                                    "nap": "Csütörtök",
                                    "Időpont": "11.00"
                                },
                                {
                                    "ora_id": "190",
                                    "nap": "Péntek",
                                    "Időpont": "11.00"
                                },
                                {
                                    "ora_id": "214",
                                    "nap": "Hétfő",
                                    "Időpont": "11.00"
                                },
                                {
                                    "ora_id": "216",
                                    "nap": "Hétfő",
                                    "Időpont": "11.00"
                                },
                                {
                                    "ora_id": "220",
                                    "nap": "Kedd",
                                    "Időpont": "11.00"
                                },
                                {
                                    "ora_id": "221",
                                    "nap": "Szerda",
                                    "Időpont": "11.00"
                                },
                                {
                                    "ora_id": "226",
                                    "nap": "Szerda",
                                    "Időpont": "11.00"
                                },
                                {
                                    "ora_id": "162",
                                    "nap": "Hétfő",
                                    "Időpont": "12.30"
                                },
                                {
                                    "ora_id": "166",
                                    "nap": "Kedd",
                                    "Időpont": "12.30"
                                },
                                {
                                    "ora_id": "167",
                                    "nap": "Hétfő",
                                    "Időpont": "12.30"
                                },
                                {
                                    "ora_id": "175",
                                    "nap": "Csütörtök",
                                    "Időpont": "12.30"
                                },
                                {
                                    "ora_id": "176",
                                    "nap": "Csütörtök",
                                    "Időpont": "12.30"
                                },
                                {
                                    "ora_id": "186",
                                    "nap": "Kedd",
                                    "Időpont": "12.30"
                                },
                                {
                                    "ora_id": "201",
                                    "nap": "Csütörtök",
                                    "Időpont": "12.30"
                                },
                                {
                                    "ora_id": "203",
                                    "nap": "Hétfő",
                                    "Időpont": "12.30"
                                },
                                {
                                    "ora_id": "205",
                                    "nap": "Hétfő",
                                    "Időpont": "12.30"
                                },
                                {
                                    "ora_id": "207",
                                    "nap": "Csütörtök",
                                    "Időpont": "12.30"
                                },
                                {
                                    "ora_id": "215",
                                    "nap": "Hétfő",
                                    "Időpont": "12.30"
                                },
                                {
                                    "ora_id": "217",
                                    "nap": "Hétfő",
                                    "Időpont": "12.30"
                                },
                                {
                                    "ora_id": "160",
                                    "nap": "Kedd",
                                    "Időpont": "14.00"
                                },
                                {
                                    "ora_id": "177",
                                    "nap": "Csütörtök",
                                    "Időpont": "14.00"
                                },
                                {
                                    "ora_id": "178",
                                    "nap": "Csütörtök",
                                    "Időpont": "14.00"
                                },
                                {
                                    "ora_id": "191",
                                    "nap": "Hétfő",
                                    "Időpont": "14.00"
                                },
                                {
                                    "ora_id": "193",
                                    "nap": "Hétfő",
                                    "Időpont": "14.00"
                                },
                                {
                                    "ora_id": "195",
                                    "nap": "Hétfő",
                                    "Időpont": "14.00"
                                },
                                {
                                    "ora_id": "202",
                                    "nap": "Csütörtök",
                                    "Időpont": "14.00"
                                },
                                {
                                    "ora_id": "204",
                                    "nap": "Kedd",
                                    "Időpont": "14.00"
                                },
                                {
                                    "ora_id": "222",
                                    "nap": "Csütörtök",
                                    "Időpont": "14.00"
                                },
                                {
                                    "ora_id": "227",
                                    "nap": "Kedd",
                                    "Időpont": "14.00"
                                },
                                {
                                    "ora_id": "179",
                                    "nap": "Csütörtök",
                                    "Időpont": "15.30"
                                },
                                {
                                    "ora_id": "180",
                                    "nap": "Csütörtök",
                                    "Időpont": "15.30"
                                },
                                {
                                    "ora_id": "188",
                                    "nap": "Csütörtök",
                                    "Időpont": "15.30"
                                },
                                {
                                    "ora_id": "192",
                                    "nap": "Hétfő",
                                    "Időpont": "15.30"
                                },
                                {
                                    "ora_id": "194",
                                    "nap": "Hétfő",
                                    "Időpont": "15.30"
                                },
                                {
                                    "ora_id": "196",
                                    "nap": "Hétfő",
                                    "Időpont": "15.30"
                                },
                                {
                                    "ora_id": "210",
                                    "nap": "Hétfő",
                                    "Időpont": "15.30"
                                },
                                {
                                    "ora_id": "218",
                                    "nap": "Kedd",
                                    "Időpont": "15.30"
                                },
                                {
                                    "ora_id": "211",
                                    "nap": "Hétfő",
                                    "Időpont": "17.00"
                                },
                                {
                                    "ora_id": "219",
                                    "nap": "Kedd",
                                    "Időpont": "17.00"
                                },
                                {
                                    "ora_id": "212",
                                    "nap": "Hétfő",
                                    "Időpont": "18.30"
                                },
                                {
                                    "ora_id": "213",
                                    "nap": "Hétfő",
                                    "Időpont": "20.00"
                                }
                            ]
                        },
                        "text/html": [
                            "<table>",
                            "<tr><th>ora_id</th><th>nap</th><th>Időpont</th></tr>",
                            "<tr><td>159</td><td>Szerda</td><td>8.00</td></tr>",
                            "<tr><td>181</td><td>Péntek</td><td>8.00</td></tr>",
                            "<tr><td>182</td><td>Péntek</td><td>8.00</td></tr>",
                            "<tr><td>197</td><td>Csütörtök</td><td>8.00</td></tr>",
                            "<tr><td>199</td><td>Csütörtök</td><td>8.00</td></tr>",
                            "<tr><td>206</td><td>Kedd</td><td>8.00</td></tr>",
                            "<tr><td>208</td><td>Hétfő</td><td>8.00</td></tr>",
                            "<tr><td>223</td><td>Péntek</td><td>8.00</td></tr>",
                            "<tr><td>161</td><td>Hétfő</td><td>9.30</td></tr>",
                            "<tr><td>163</td><td>Szerda</td><td>9.30</td></tr>",
                            "<tr><td>169</td><td>Hétfő</td><td>9.30</td></tr>",
                            "<tr><td>170</td><td>Hétfő</td><td>9.30</td></tr>",
                            "<tr><td>171</td><td>Kedd</td><td>9.30</td></tr>",
                            "<tr><td>172</td><td>Kedd</td><td>9.30</td></tr>",
                            "<tr><td>183</td><td>Péntek</td><td>9.30</td></tr>",
                            "<tr><td>184</td><td>Péntek</td><td>9.30</td></tr>",
                            "<tr><td>187</td><td>Szerda</td><td>9.30</td></tr>",
                            "<tr><td>189</td><td>Csütörtök</td><td>9.30</td></tr>",
                            "<tr><td>198</td><td>Szerda</td><td>9.30</td></tr>",
                            "<tr><td>200</td><td>Csütörtök</td><td>9.30</td></tr>",
                            "<tr><td>209</td><td>Hétfő</td><td>9.30</td></tr>",
                            "<tr><td>164</td><td>Kedd</td><td>11.00</td></tr>",
                            "<tr><td>165</td><td>Kedd</td><td>11.00</td></tr>",
                            "<tr><td>168</td><td>Csütörtök</td><td>11.00</td></tr>",
                            "<tr><td>173</td><td>Csütörtök</td><td>11.00</td></tr>",
                            "<tr><td>174</td><td>Csütörtök</td><td>11.00</td></tr>",
                            "<tr><td>185</td><td>Csütörtök</td><td>11.00</td></tr>",
                            "<tr><td>190</td><td>Péntek</td><td>11.00</td></tr>",
                            "<tr><td>214</td><td>Hétfő</td><td>11.00</td></tr>",
                            "<tr><td>216</td><td>Hétfő</td><td>11.00</td></tr>",
                            "<tr><td>220</td><td>Kedd</td><td>11.00</td></tr>",
                            "<tr><td>221</td><td>Szerda</td><td>11.00</td></tr>",
                            "<tr><td>226</td><td>Szerda</td><td>11.00</td></tr>",
                            "<tr><td>162</td><td>Hétfő</td><td>12.30</td></tr>",
                            "<tr><td>166</td><td>Kedd</td><td>12.30</td></tr>",
                            "<tr><td>167</td><td>Hétfő</td><td>12.30</td></tr>",
                            "<tr><td>175</td><td>Csütörtök</td><td>12.30</td></tr>",
                            "<tr><td>176</td><td>Csütörtök</td><td>12.30</td></tr>",
                            "<tr><td>186</td><td>Kedd</td><td>12.30</td></tr>",
                            "<tr><td>201</td><td>Csütörtök</td><td>12.30</td></tr>",
                            "<tr><td>203</td><td>Hétfő</td><td>12.30</td></tr>",
                            "<tr><td>205</td><td>Hétfő</td><td>12.30</td></tr>",
                            "<tr><td>207</td><td>Csütörtök</td><td>12.30</td></tr>",
                            "<tr><td>215</td><td>Hétfő</td><td>12.30</td></tr>",
                            "<tr><td>217</td><td>Hétfő</td><td>12.30</td></tr>",
                            "<tr><td>160</td><td>Kedd</td><td>14.00</td></tr>",
                            "<tr><td>177</td><td>Csütörtök</td><td>14.00</td></tr>",
                            "<tr><td>178</td><td>Csütörtök</td><td>14.00</td></tr>",
                            "<tr><td>191</td><td>Hétfő</td><td>14.00</td></tr>",
                            "<tr><td>193</td><td>Hétfő</td><td>14.00</td></tr>",
                            "<tr><td>195</td><td>Hétfő</td><td>14.00</td></tr>",
                            "<tr><td>202</td><td>Csütörtök</td><td>14.00</td></tr>",
                            "<tr><td>204</td><td>Kedd</td><td>14.00</td></tr>",
                            "<tr><td>222</td><td>Csütörtök</td><td>14.00</td></tr>",
                            "<tr><td>227</td><td>Kedd</td><td>14.00</td></tr>",
                            "<tr><td>179</td><td>Csütörtök</td><td>15.30</td></tr>",
                            "<tr><td>180</td><td>Csütörtök</td><td>15.30</td></tr>",
                            "<tr><td>188</td><td>Csütörtök</td><td>15.30</td></tr>",
                            "<tr><td>192</td><td>Hétfő</td><td>15.30</td></tr>",
                            "<tr><td>194</td><td>Hétfő</td><td>15.30</td></tr>",
                            "<tr><td>196</td><td>Hétfő</td><td>15.30</td></tr>",
                            "<tr><td>210</td><td>Hétfő</td><td>15.30</td></tr>",
                            "<tr><td>218</td><td>Kedd</td><td>15.30</td></tr>",
                            "<tr><td>211</td><td>Hétfő</td><td>17.00</td></tr>",
                            "<tr><td>219</td><td>Kedd</td><td>17.00</td></tr>",
                            "<tr><td>212</td><td>Hétfő</td><td>18.30</td></tr>",
                            "<tr><td>213</td><td>Hétfő</td><td>20.00</td></tr>",
                            "</table>"
                        ]
                    }
                }
            ],
            "execution_count": 33
        }
    ]
}