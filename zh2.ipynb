{
    "metadata": {
        "kernelspec": {
            "name": "SQL",
            "display_name": "SQL",
            "language": "sql"
        },
        "language_info": {
            "name": "sql",
            "version": ""
        }
    },
    "nbformat_minor": 2,
    "nbformat": 4,
    "cells": [
        {
            "cell_type": "code",
            "source": [
                "SELECT *\r\n",
                "FROM szallashely"
            ],
            "metadata": {
                "azdata_cell_guid": "1b1b0d28-ef4c-43c7-9dc2-f918bba18101",
                "language": "sql"
            },
            "outputs": [
                {
                    "output_type": "display_data",
                    "data": {
                        "text/html": "(21 rows affected)"
                    },
                    "metadata": {}
                },
                {
                    "output_type": "display_data",
                    "data": {
                        "text/html": "Total execution time: 00:00:00.044"
                    },
                    "metadata": {}
                },
                {
                    "output_type": "execute_result",
                    "metadata": {},
                    "execution_count": 6,
                    "data": {
                        "application/vnd.dataresource+json": {
                            "schema": {
                                "fields": [
                                    {
                                        "name": "SZALLAS_ID"
                                    },
                                    {
                                        "name": "SZALLAS_NEV"
                                    },
                                    {
                                        "name": "HELY"
                                    },
                                    {
                                        "name": "CSILLAGOK_SZAMA"
                                    },
                                    {
                                        "name": "TIPUS"
                                    },
                                    {
                                        "name": "ROGZITETTE"
                                    },
                                    {
                                        "name": "ROGZ_IDO"
                                    },
                                    {
                                        "name": "CIM"
                                    }
                                ]
                            },
                            "data": [
                                {
                                    "SZALLAS_ID": "1",
                                    "SZALLAS_NEV": "Sába-Ház",
                                    "HELY": "Balaton-dél",
                                    "CSILLAGOK_SZAMA": "0",
                                    "TIPUS": "vendégház",
                                    "ROGZITETTE": "Béla",
                                    "ROGZ_IDO": "2016-02-28",
                                    "CIM": "8630 Balatonboglár, Radnóti Miklós utca 8"
                                },
                                {
                                    "SZALLAS_ID": "2",
                                    "SZALLAS_NEV": "Családi Ház",
                                    "HELY": "Balaton-dél",
                                    "CSILLAGOK_SZAMA": "0",
                                    "TIPUS": "vendégház",
                                    "ROGZITETTE": "Béla",
                                    "ROGZ_IDO": "2016-03-02",
                                    "CIM": "8630 Balatonboglár, József Attila utca 25"
                                },
                                {
                                    "SZALLAS_ID": "3",
                                    "SZALLAS_NEV": "Fortuna Apartman",
                                    "HELY": "Hajdúbihar megye",
                                    "CSILLAGOK_SZAMA": "0",
                                    "TIPUS": "Apartman",
                                    "ROGZITETTE": "Sára",
                                    "ROGZ_IDO": "2016-03-06",
                                    "CIM": "4200 Hajdúszoboszló, Wesselényi utca 56."
                                },
                                {
                                    "SZALLAS_ID": "4",
                                    "SZALLAS_NEV": "Fortuna panzió",
                                    "HELY": "Budapest",
                                    "CSILLAGOK_SZAMA": "3",
                                    "TIPUS": "panzió",
                                    "ROGZITETTE": "Béla",
                                    "ROGZ_IDO": "2016-03-07",
                                    "CIM": "1019 Budapest XIV. Cinkotai út 86."
                                },
                                {
                                    "SZALLAS_ID": "5",
                                    "SZALLAS_NEV": "Fortuna Panzió",
                                    "HELY": "Békés megye",
                                    "CSILLAGOK_SZAMA": "3",
                                    "TIPUS": "panzió",
                                    "ROGZITETTE": "Sára",
                                    "ROGZ_IDO": "2016-03-08",
                                    "CIM": "5900 Orosháza, Gyopárosfürdő Tópart utca 3."
                                },
                                {
                                    "SZALLAS_ID": "6",
                                    "SZALLAS_NEV": "Kentaur Hotel",
                                    "HELY": "Balaton-dél",
                                    "CSILLAGOK_SZAMA": "3",
                                    "TIPUS": "Hotel",
                                    "ROGZITETTE": "Béla",
                                    "ROGZ_IDO": "2016-03-08",
                                    "CIM": "8600 Siófok (Széplak), Akácfa utca 1"
                                },
                                {
                                    "SZALLAS_ID": "7",
                                    "SZALLAS_NEV": "Szieszta Apartmanház",
                                    "HELY": "Balaton-dél",
                                    "CSILLAGOK_SZAMA": "0",
                                    "TIPUS": "Apartman",
                                    "ROGZITETTE": "Mari",
                                    "ROGZ_IDO": "2016-03-11",
                                    "CIM": "8630 Balatonboglár, Dózsa György utca 108"
                                },
                                {
                                    "SZALLAS_ID": "8",
                                    "SZALLAS_NEV": "Hotel Három Hattyú",
                                    "HELY": "Balaton-dél",
                                    "CSILLAGOK_SZAMA": "4",
                                    "TIPUS": "Hotel",
                                    "ROGZITETTE": "Béla",
                                    "ROGZ_IDO": "2016-03-13",
                                    "CIM": "8623 Balatonföldvár, Rákóczi Ferenc út 45."
                                },
                                {
                                    "SZALLAS_ID": "9",
                                    "SZALLAS_NEV": "Jáde panzió",
                                    "HELY": "Balaton-dél",
                                    "CSILLAGOK_SZAMA": "3",
                                    "TIPUS": "panzió",
                                    "ROGZITETTE": "Mari",
                                    "ROGZ_IDO": "2016-03-16",
                                    "CIM": "8624 Balatonföldvár, Kiss u.2."
                                },
                                {
                                    "SZALLAS_ID": "10",
                                    "SZALLAS_NEV": "Lagúna Hotel",
                                    "HELY": "Budapest",
                                    "CSILLAGOK_SZAMA": "4",
                                    "TIPUS": "Hotel",
                                    "ROGZITETTE": "Sára",
                                    "ROGZ_IDO": "2016-03-20",
                                    "CIM": "1097 Budapest, Albert Flórián út 3"
                                },
                                {
                                    "SZALLAS_ID": "11",
                                    "SZALLAS_NEV": "Partiszél Vendégház",
                                    "HELY": "Balaton-észak",
                                    "CSILLAGOK_SZAMA": "0",
                                    "TIPUS": "vendégház",
                                    "ROGZITETTE": "Béla",
                                    "ROGZ_IDO": "2016-03-22",
                                    "CIM": "8220 Balatonalmádi Neptun u. 23."
                                },
                                {
                                    "SZALLAS_ID": "12",
                                    "SZALLAS_NEV": "Gold Hotel",
                                    "HELY": "Budapest",
                                    "CSILLAGOK_SZAMA": "3",
                                    "TIPUS": "Hotel",
                                    "ROGZITETTE": "Béla",
                                    "ROGZ_IDO": "2016-03-24",
                                    "CIM": "1016 Budapest, Hegyalja út 12"
                                },
                                {
                                    "SZALLAS_ID": "13",
                                    "SZALLAS_NEV": "Riviéra Panzió",
                                    "HELY": "Csongrád megye",
                                    "CSILLAGOK_SZAMA": "3",
                                    "TIPUS": "panzió",
                                    "ROGZITETTE": "Sára",
                                    "ROGZ_IDO": "2016-03-27",
                                    "CIM": "6722 Szeged, Petőfi Sándor út 3."
                                },
                                {
                                    "SZALLAS_ID": "14",
                                    "SZALLAS_NEV": "Nyárfás Vendégház",
                                    "HELY": "Csongrád megye",
                                    "CSILLAGOK_SZAMA": "0",
                                    "TIPUS": "vendégház",
                                    "ROGZITETTE": "Béla",
                                    "ROGZ_IDO": "2016-03-27",
                                    "CIM": "6723 Szeged, Nagy u. 12."
                                },
                                {
                                    "SZALLAS_ID": "15",
                                    "SZALLAS_NEV": "Tímárház Panzió",
                                    "HELY": "Balaton-dél",
                                    "CSILLAGOK_SZAMA": "3",
                                    "TIPUS": "panzió",
                                    "ROGZITETTE": "Béla",
                                    "ROGZ_IDO": "2016-03-29",
                                    "CIM": "8600 Siófok, Virág utca 1"
                                },
                                {
                                    "SZALLAS_ID": "16",
                                    "SZALLAS_NEV": "Bagoly Hotel",
                                    "HELY": "Pest megye",
                                    "CSILLAGOK_SZAMA": "3",
                                    "TIPUS": "Hotel",
                                    "ROGZITETTE": "Mari",
                                    "ROGZ_IDO": "2016-04-01",
                                    "CIM": "2230 Gyömrő, Bergszász u. 5."
                                },
                                {
                                    "SZALLAS_ID": "17",
                                    "SZALLAS_NEV": "Szarvas Hotel",
                                    "HELY": "Tolna megye",
                                    "CSILLAGOK_SZAMA": "4",
                                    "TIPUS": "Hotel",
                                    "ROGZITETTE": "Béla",
                                    "ROGZ_IDO": "2016-04-04",
                                    "CIM": "7121 Szálka, Petőfi Sándor u."
                                },
                                {
                                    "SZALLAS_ID": "18",
                                    "SZALLAS_NEV": "Fortuna Apartman",
                                    "HELY": "Dél-Somogy",
                                    "CSILLAGOK_SZAMA": "0",
                                    "TIPUS": "Apartman",
                                    "ROGZITETTE": "Béla",
                                    "ROGZ_IDO": "2016-04-07",
                                    "CIM": "7570 Barcs, Kossuth u. 13."
                                },
                                {
                                    "SZALLAS_ID": "19",
                                    "SZALLAS_NEV": "Nyárfás Vendégház",
                                    "HELY": "Dél-Somogy",
                                    "CSILLAGOK_SZAMA": "0",
                                    "TIPUS": "vendégház",
                                    "ROGZITETTE": "Sára",
                                    "ROGZ_IDO": "2016-04-07",
                                    "CIM": "7570 Barcs, Bajcsy-Zs. u. 53"
                                },
                                {
                                    "SZALLAS_ID": "20",
                                    "SZALLAS_NEV": "Kollégium",
                                    "HELY": "Budapest",
                                    "CSILLAGOK_SZAMA": "0",
                                    "TIPUS": "Diákszálló",
                                    "ROGZITETTE": "Sára",
                                    "ROGZ_IDO": "2016-04-07",
                                    "CIM": "1146 Budapest, Ajtósi Dürer sor 23."
                                },
                                {
                                    "SZALLAS_ID": "21",
                                    "SZALLAS_NEV": "Müller Vendégház",
                                    "HELY": "Dél-Somogy",
                                    "CSILLAGOK_SZAMA": "0",
                                    "TIPUS": "vendégház",
                                    "ROGZITETTE": "Béla",
                                    "ROGZ_IDO": "2016-04-07",
                                    "CIM": "7570 Barcs, Magyar u. 10."
                                }
                            ]
                        },
                        "text/html": [
                            "<table>",
                            "<tr><th>SZALLAS_ID</th><th>SZALLAS_NEV</th><th>HELY</th><th>CSILLAGOK_SZAMA</th><th>TIPUS</th><th>ROGZITETTE</th><th>ROGZ_IDO</th><th>CIM</th></tr>",
                            "<tr><td>1</td><td>Sába-Ház</td><td>Balaton-dél</td><td>0</td><td>vendégház</td><td>Béla</td><td>2016-02-28</td><td>8630 Balatonboglár, Radnóti Miklós utca 8</td></tr>",
                            "<tr><td>2</td><td>Családi Ház</td><td>Balaton-dél</td><td>0</td><td>vendégház</td><td>Béla</td><td>2016-03-02</td><td>8630 Balatonboglár, József Attila utca 25</td></tr>",
                            "<tr><td>3</td><td>Fortuna Apartman</td><td>Hajdúbihar megye</td><td>0</td><td>Apartman</td><td>Sára</td><td>2016-03-06</td><td>4200 Hajdúszoboszló, Wesselényi utca 56.</td></tr>",
                            "<tr><td>4</td><td>Fortuna panzió</td><td>Budapest</td><td>3</td><td>panzió</td><td>Béla</td><td>2016-03-07</td><td>1019 Budapest XIV. Cinkotai út 86.</td></tr>",
                            "<tr><td>5</td><td>Fortuna Panzió</td><td>Békés megye</td><td>3</td><td>panzió</td><td>Sára</td><td>2016-03-08</td><td>5900 Orosháza, Gyopárosfürdő Tópart utca 3.</td></tr>",
                            "<tr><td>6</td><td>Kentaur Hotel</td><td>Balaton-dél</td><td>3</td><td>Hotel</td><td>Béla</td><td>2016-03-08</td><td>8600 Siófok (Széplak), Akácfa utca 1</td></tr>",
                            "<tr><td>7</td><td>Szieszta Apartmanház</td><td>Balaton-dél</td><td>0</td><td>Apartman</td><td>Mari</td><td>2016-03-11</td><td>8630 Balatonboglár, Dózsa György utca 108</td></tr>",
                            "<tr><td>8</td><td>Hotel Három Hattyú</td><td>Balaton-dél</td><td>4</td><td>Hotel</td><td>Béla</td><td>2016-03-13</td><td>8623 Balatonföldvár, Rákóczi Ferenc út 45.</td></tr>",
                            "<tr><td>9</td><td>Jáde panzió</td><td>Balaton-dél</td><td>3</td><td>panzió</td><td>Mari</td><td>2016-03-16</td><td>8624 Balatonföldvár, Kiss u.2.</td></tr>",
                            "<tr><td>10</td><td>Lagúna Hotel</td><td>Budapest</td><td>4</td><td>Hotel</td><td>Sára</td><td>2016-03-20</td><td>1097 Budapest, Albert Flórián út 3</td></tr>",
                            "<tr><td>11</td><td>Partiszél Vendégház</td><td>Balaton-észak</td><td>0</td><td>vendégház</td><td>Béla</td><td>2016-03-22</td><td>8220 Balatonalmádi Neptun u. 23.</td></tr>",
                            "<tr><td>12</td><td>Gold Hotel</td><td>Budapest</td><td>3</td><td>Hotel</td><td>Béla</td><td>2016-03-24</td><td>1016 Budapest, Hegyalja út 12</td></tr>",
                            "<tr><td>13</td><td>Riviéra Panzió</td><td>Csongrád megye</td><td>3</td><td>panzió</td><td>Sára</td><td>2016-03-27</td><td>6722 Szeged, Petőfi Sándor út 3.</td></tr>",
                            "<tr><td>14</td><td>Nyárfás Vendégház</td><td>Csongrád megye</td><td>0</td><td>vendégház</td><td>Béla</td><td>2016-03-27</td><td>6723 Szeged, Nagy u. 12.</td></tr>",
                            "<tr><td>15</td><td>Tímárház Panzió</td><td>Balaton-dél</td><td>3</td><td>panzió</td><td>Béla</td><td>2016-03-29</td><td>8600 Siófok, Virág utca 1</td></tr>",
                            "<tr><td>16</td><td>Bagoly Hotel</td><td>Pest megye</td><td>3</td><td>Hotel</td><td>Mari</td><td>2016-04-01</td><td>2230 Gyömrő, Bergszász u. 5.</td></tr>",
                            "<tr><td>17</td><td>Szarvas Hotel</td><td>Tolna megye</td><td>4</td><td>Hotel</td><td>Béla</td><td>2016-04-04</td><td>7121 Szálka, Petőfi Sándor u.</td></tr>",
                            "<tr><td>18</td><td>Fortuna Apartman</td><td>Dél-Somogy</td><td>0</td><td>Apartman</td><td>Béla</td><td>2016-04-07</td><td>7570 Barcs, Kossuth u. 13.</td></tr>",
                            "<tr><td>19</td><td>Nyárfás Vendégház</td><td>Dél-Somogy</td><td>0</td><td>vendégház</td><td>Sára</td><td>2016-04-07</td><td>7570 Barcs, Bajcsy-Zs. u. 53</td></tr>",
                            "<tr><td>20</td><td>Kollégium</td><td>Budapest</td><td>0</td><td>Diákszálló</td><td>Sára</td><td>2016-04-07</td><td>1146 Budapest, Ajtósi Dürer sor 23.</td></tr>",
                            "<tr><td>21</td><td>Müller Vendégház</td><td>Dél-Somogy</td><td>0</td><td>vendégház</td><td>Béla</td><td>2016-04-07</td><td>7570 Barcs, Magyar u. 10.</td></tr>",
                            "</table>"
                        ]
                    }
                }
            ],
            "execution_count": 6
        },
        {
            "cell_type": "markdown",
            "source": [
                "1\\. Készítsünk listát az egyes szálláshelyek átlagos csillagszámáról típus, illetve hely szerint csoportosítva (külön-külön)!\n",
                "\n",
                "- Az átlag 2 tizedesre kerekítve jelenjen meg\n",
                "- Hagyjuk ki azokat a szálláshelyeket, amelyek nevében kötőjel (-) van!"
            ],
            "metadata": {
                "azdata_cell_guid": "212bd10e-c5e0-42a9-872e-92d8181f645b"
            },
            "attachments": {}
        },
        {
            "cell_type": "code",
            "source": [
                "SELECT SZALLAS_NEV, AVG(CSILLAGOK_SZAMA) AS 'Csillagok számának átlaga'\r\n",
                "FROM szallashely\r\n",
                "WHERE SZALLAS_NEV NOT LIKE '%-'\r\n",
                "GROUP BY GROUPING SETS((TIPUS), (HELY), (SZALLAS_NEV))"
            ],
            "metadata": {
                "azdata_cell_guid": "126ba0f9-ffa5-43dd-aae5-500649e6f961",
                "language": "sql",
                "tags": []
            },
            "outputs": [
                {
                    "output_type": "display_data",
                    "data": {
                        "text/html": "(32 rows affected)"
                    },
                    "metadata": {}
                },
                {
                    "output_type": "display_data",
                    "data": {
                        "text/html": "Total execution time: 00:00:00.026"
                    },
                    "metadata": {}
                },
                {
                    "output_type": "execute_result",
                    "metadata": {},
                    "execution_count": 8,
                    "data": {
                        "application/vnd.dataresource+json": {
                            "schema": {
                                "fields": [
                                    {
                                        "name": "SZALLAS_NEV"
                                    },
                                    {
                                        "name": "Csillagok számának átlaga"
                                    }
                                ]
                            },
                            "data": [
                                {
                                    "SZALLAS_NEV": "Bagoly Hotel",
                                    "Csillagok számának átlaga": "3"
                                },
                                {
                                    "SZALLAS_NEV": "Családi Ház",
                                    "Csillagok számának átlaga": "0"
                                },
                                {
                                    "SZALLAS_NEV": "Fortuna Apartman",
                                    "Csillagok számának átlaga": "0"
                                },
                                {
                                    "SZALLAS_NEV": "Fortuna panzió",
                                    "Csillagok számának átlaga": "3"
                                },
                                {
                                    "SZALLAS_NEV": "Gold Hotel",
                                    "Csillagok számának átlaga": "3"
                                },
                                {
                                    "SZALLAS_NEV": "Hotel Három Hattyú",
                                    "Csillagok számának átlaga": "4"
                                },
                                {
                                    "SZALLAS_NEV": "Jáde panzió",
                                    "Csillagok számának átlaga": "3"
                                },
                                {
                                    "SZALLAS_NEV": "Kentaur Hotel",
                                    "Csillagok számának átlaga": "3"
                                },
                                {
                                    "SZALLAS_NEV": "Kollégium",
                                    "Csillagok számának átlaga": "0"
                                },
                                {
                                    "SZALLAS_NEV": "Lagúna Hotel",
                                    "Csillagok számának átlaga": "4"
                                },
                                {
                                    "SZALLAS_NEV": "Müller Vendégház",
                                    "Csillagok számának átlaga": "0"
                                },
                                {
                                    "SZALLAS_NEV": "Nyárfás Vendégház",
                                    "Csillagok számának átlaga": "0"
                                },
                                {
                                    "SZALLAS_NEV": "Partiszél Vendégház",
                                    "Csillagok számának átlaga": "0"
                                },
                                {
                                    "SZALLAS_NEV": "Riviéra Panzió",
                                    "Csillagok számának átlaga": "3"
                                },
                                {
                                    "SZALLAS_NEV": "Sába-Ház",
                                    "Csillagok számának átlaga": "0"
                                },
                                {
                                    "SZALLAS_NEV": "Szarvas Hotel",
                                    "Csillagok számának átlaga": "4"
                                },
                                {
                                    "SZALLAS_NEV": "Szieszta Apartmanház",
                                    "Csillagok számának átlaga": "0"
                                },
                                {
                                    "SZALLAS_NEV": "Tímárház Panzió",
                                    "Csillagok számának átlaga": "3"
                                },
                                {
                                    "SZALLAS_NEV": "NULL",
                                    "Csillagok számának átlaga": "1"
                                },
                                {
                                    "SZALLAS_NEV": "NULL",
                                    "Csillagok számának átlaga": "0"
                                },
                                {
                                    "SZALLAS_NEV": "NULL",
                                    "Csillagok számának átlaga": "3"
                                },
                                {
                                    "SZALLAS_NEV": "NULL",
                                    "Csillagok számának átlaga": "2"
                                },
                                {
                                    "SZALLAS_NEV": "NULL",
                                    "Csillagok számának átlaga": "1"
                                },
                                {
                                    "SZALLAS_NEV": "NULL",
                                    "Csillagok számának átlaga": "0"
                                },
                                {
                                    "SZALLAS_NEV": "NULL",
                                    "Csillagok számának átlaga": "0"
                                },
                                {
                                    "SZALLAS_NEV": "NULL",
                                    "Csillagok számának átlaga": "3"
                                },
                                {
                                    "SZALLAS_NEV": "NULL",
                                    "Csillagok számának átlaga": "4"
                                },
                                {
                                    "SZALLAS_NEV": "NULL",
                                    "Csillagok számának átlaga": "0"
                                },
                                {
                                    "SZALLAS_NEV": "NULL",
                                    "Csillagok számának átlaga": "0"
                                },
                                {
                                    "SZALLAS_NEV": "NULL",
                                    "Csillagok számának átlaga": "3"
                                },
                                {
                                    "SZALLAS_NEV": "NULL",
                                    "Csillagok számának átlaga": "3"
                                },
                                {
                                    "SZALLAS_NEV": "NULL",
                                    "Csillagok számának átlaga": "0"
                                }
                            ]
                        },
                        "text/html": [
                            "<table>",
                            "<tr><th>SZALLAS_NEV</th><th>Csillagok számának átlaga</th></tr>",
                            "<tr><td>Bagoly Hotel</td><td>3</td></tr>",
                            "<tr><td>Családi Ház</td><td>0</td></tr>",
                            "<tr><td>Fortuna Apartman</td><td>0</td></tr>",
                            "<tr><td>Fortuna panzió</td><td>3</td></tr>",
                            "<tr><td>Gold Hotel</td><td>3</td></tr>",
                            "<tr><td>Hotel Három Hattyú</td><td>4</td></tr>",
                            "<tr><td>Jáde panzió</td><td>3</td></tr>",
                            "<tr><td>Kentaur Hotel</td><td>3</td></tr>",
                            "<tr><td>Kollégium</td><td>0</td></tr>",
                            "<tr><td>Lagúna Hotel</td><td>4</td></tr>",
                            "<tr><td>Müller Vendégház</td><td>0</td></tr>",
                            "<tr><td>Nyárfás Vendégház</td><td>0</td></tr>",
                            "<tr><td>Partiszél Vendégház</td><td>0</td></tr>",
                            "<tr><td>Riviéra Panzió</td><td>3</td></tr>",
                            "<tr><td>Sába-Ház</td><td>0</td></tr>",
                            "<tr><td>Szarvas Hotel</td><td>4</td></tr>",
                            "<tr><td>Szieszta Apartmanház</td><td>0</td></tr>",
                            "<tr><td>Tímárház Panzió</td><td>3</td></tr>",
                            "<tr><td>NULL</td><td>1</td></tr>",
                            "<tr><td>NULL</td><td>0</td></tr>",
                            "<tr><td>NULL</td><td>3</td></tr>",
                            "<tr><td>NULL</td><td>2</td></tr>",
                            "<tr><td>NULL</td><td>1</td></tr>",
                            "<tr><td>NULL</td><td>0</td></tr>",
                            "<tr><td>NULL</td><td>0</td></tr>",
                            "<tr><td>NULL</td><td>3</td></tr>",
                            "<tr><td>NULL</td><td>4</td></tr>",
                            "<tr><td>NULL</td><td>0</td></tr>",
                            "<tr><td>NULL</td><td>0</td></tr>",
                            "<tr><td>NULL</td><td>3</td></tr>",
                            "<tr><td>NULL</td><td>3</td></tr>",
                            "<tr><td>NULL</td><td>0</td></tr>",
                            "</table>"
                        ]
                    }
                }
            ],
            "execution_count": 8
        },
        {
            "cell_type": "markdown",
            "source": [
                "2\\. Rangsoroljuk az egyes szobákat a foglalások száma, azon belül férőhely szerint!\n",
                "\n",
                "- Holtverseny esetén a sorszámok sűrűn kövessék egymást\n",
                "- Az 1-es számot a legtöbbet foglalt, azon belül legkevesebb férőhelyű szoba kapja\n",
                "- Csak a szoba azonosítója, a férőhely és a helyezés jelenjen meg"
            ],
            "metadata": {
                "azdata_cell_guid": "c8c8df84-008c-4908-aa7d-5f0daaccdb0b"
            },
            "attachments": {}
        },
        {
            "cell_type": "code",
            "source": [
                "SELECT SZOBA_ID, FEROHELY, DENSE_RANK() OVER (PARTITION BY COUNT(SZOBA_ID) ORDER BY FEROHELY ASC) AS 'Rangsor'\r\n",
                "FROM Vendeg v LEFT JOIN Foglalas f ON v.USERNEV = f.UGYFEL_FK\r\n",
                "              LEFT JOIN Szoba sz ON f.SZOBA_FK = sz.SZOBA_ID\r\n",
                "              LEFT JOIN Szallashely szh ON sz.SZALLAS_FK = szh.SZALLAS_ID\r\n",
                "GROUP BY SZOBA_ID, FEROHELY\r\n",
                "ORDER BY 'Rangsor'"
            ],
            "metadata": {
                "azdata_cell_guid": "f4968fdf-26d8-4a13-b855-204d623142a8",
                "language": "sql",
                "tags": []
            },
            "outputs": [
                {
                    "output_type": "display_data",
                    "data": {
                        "text/html": "Warning: Null value is eliminated by an aggregate or other SET operation."
                    },
                    "metadata": {}
                },
                {
                    "output_type": "display_data",
                    "data": {
                        "text/html": "(198 rows affected)"
                    },
                    "metadata": {}
                },
                {
                    "output_type": "display_data",
                    "data": {
                        "text/html": "Total execution time: 00:00:00.018"
                    },
                    "metadata": {}
                },
                {
                    "output_type": "execute_result",
                    "metadata": {},
                    "execution_count": 19,
                    "data": {
                        "application/vnd.dataresource+json": {
                            "schema": {
                                "fields": [
                                    {
                                        "name": "SZOBA_ID"
                                    },
                                    {
                                        "name": "FEROHELY"
                                    },
                                    {
                                        "name": "Rangsor"
                                    }
                                ]
                            },
                            "data": [
                                {
                                    "SZOBA_ID": "21",
                                    "FEROHELY": "2",
                                    "Rangsor": "1"
                                },
                                {
                                    "SZOBA_ID": "11",
                                    "FEROHELY": "2",
                                    "Rangsor": "1"
                                },
                                {
                                    "SZOBA_ID": "5",
                                    "FEROHELY": "2",
                                    "Rangsor": "1"
                                },
                                {
                                    "SZOBA_ID": "63",
                                    "FEROHELY": "2",
                                    "Rangsor": "1"
                                },
                                {
                                    "SZOBA_ID": "57",
                                    "FEROHELY": "2",
                                    "Rangsor": "1"
                                },
                                {
                                    "SZOBA_ID": "50",
                                    "FEROHELY": "2",
                                    "Rangsor": "1"
                                },
                                {
                                    "SZOBA_ID": "129",
                                    "FEROHELY": "2",
                                    "Rangsor": "1"
                                },
                                {
                                    "SZOBA_ID": "114",
                                    "FEROHELY": "2",
                                    "Rangsor": "1"
                                },
                                {
                                    "SZOBA_ID": "72",
                                    "FEROHELY": "2",
                                    "Rangsor": "1"
                                },
                                {
                                    "SZOBA_ID": "73",
                                    "FEROHELY": "2",
                                    "Rangsor": "1"
                                },
                                {
                                    "SZOBA_ID": "85",
                                    "FEROHELY": "2",
                                    "Rangsor": "1"
                                },
                                {
                                    "SZOBA_ID": "100",
                                    "FEROHELY": "2",
                                    "Rangsor": "1"
                                },
                                {
                                    "SZOBA_ID": "98",
                                    "FEROHELY": "2",
                                    "Rangsor": "1"
                                },
                                {
                                    "SZOBA_ID": "103",
                                    "FEROHELY": "2",
                                    "Rangsor": "1"
                                },
                                {
                                    "SZOBA_ID": "91",
                                    "FEROHELY": "2",
                                    "Rangsor": "1"
                                },
                                {
                                    "SZOBA_ID": "173",
                                    "FEROHELY": "2",
                                    "Rangsor": "1"
                                },
                                {
                                    "SZOBA_ID": "174",
                                    "FEROHELY": "2",
                                    "Rangsor": "1"
                                },
                                {
                                    "SZOBA_ID": "152",
                                    "FEROHELY": "2",
                                    "Rangsor": "1"
                                },
                                {
                                    "SZOBA_ID": "184",
                                    "FEROHELY": "2",
                                    "Rangsor": "1"
                                },
                                {
                                    "SZOBA_ID": "186",
                                    "FEROHELY": "2",
                                    "Rangsor": "1"
                                },
                                {
                                    "SZOBA_ID": "196",
                                    "FEROHELY": "2",
                                    "Rangsor": "1"
                                },
                                {
                                    "SZOBA_ID": "45",
                                    "FEROHELY": "2",
                                    "Rangsor": "1"
                                },
                                {
                                    "SZOBA_ID": "52",
                                    "FEROHELY": "2",
                                    "Rangsor": "1"
                                },
                                {
                                    "SZOBA_ID": "99",
                                    "FEROHELY": "2",
                                    "Rangsor": "1"
                                },
                                {
                                    "SZOBA_ID": "86",
                                    "FEROHELY": "2",
                                    "Rangsor": "1"
                                },
                                {
                                    "SZOBA_ID": "81",
                                    "FEROHELY": "2",
                                    "Rangsor": "1"
                                },
                                {
                                    "SZOBA_ID": "62",
                                    "FEROHELY": "2",
                                    "Rangsor": "1"
                                },
                                {
                                    "SZOBA_ID": "111",
                                    "FEROHELY": "2",
                                    "Rangsor": "1"
                                },
                                {
                                    "SZOBA_ID": "119",
                                    "FEROHELY": "2",
                                    "Rangsor": "1"
                                },
                                {
                                    "SZOBA_ID": "107",
                                    "FEROHELY": "2",
                                    "Rangsor": "1"
                                },
                                {
                                    "SZOBA_ID": "131",
                                    "FEROHELY": "2",
                                    "Rangsor": "1"
                                },
                                {
                                    "SZOBA_ID": "128",
                                    "FEROHELY": "2",
                                    "Rangsor": "1"
                                },
                                {
                                    "SZOBA_ID": "170",
                                    "FEROHELY": "2",
                                    "Rangsor": "1"
                                },
                                {
                                    "SZOBA_ID": "171",
                                    "FEROHELY": "2",
                                    "Rangsor": "1"
                                },
                                {
                                    "SZOBA_ID": "175",
                                    "FEROHELY": "2",
                                    "Rangsor": "1"
                                },
                                {
                                    "SZOBA_ID": "157",
                                    "FEROHELY": "2",
                                    "Rangsor": "1"
                                },
                                {
                                    "SZOBA_ID": "168",
                                    "FEROHELY": "2",
                                    "Rangsor": "1"
                                },
                                {
                                    "SZOBA_ID": "164",
                                    "FEROHELY": "2",
                                    "Rangsor": "1"
                                },
                                {
                                    "SZOBA_ID": "154",
                                    "FEROHELY": "2",
                                    "Rangsor": "1"
                                },
                                {
                                    "SZOBA_ID": "189",
                                    "FEROHELY": "2",
                                    "Rangsor": "1"
                                },
                                {
                                    "SZOBA_ID": "190",
                                    "FEROHELY": "2",
                                    "Rangsor": "1"
                                },
                                {
                                    "SZOBA_ID": "191",
                                    "FEROHELY": "2",
                                    "Rangsor": "1"
                                },
                                {
                                    "SZOBA_ID": "19",
                                    "FEROHELY": "2",
                                    "Rangsor": "1"
                                },
                                {
                                    "SZOBA_ID": "33",
                                    "FEROHELY": "2",
                                    "Rangsor": "1"
                                },
                                {
                                    "SZOBA_ID": "28",
                                    "FEROHELY": "2",
                                    "Rangsor": "1"
                                },
                                {
                                    "SZOBA_ID": "29",
                                    "FEROHELY": "2",
                                    "Rangsor": "1"
                                },
                                {
                                    "SZOBA_ID": "15",
                                    "FEROHELY": "2",
                                    "Rangsor": "1"
                                },
                                {
                                    "SZOBA_ID": "4",
                                    "FEROHELY": "2",
                                    "Rangsor": "1"
                                },
                                {
                                    "SZOBA_ID": "7",
                                    "FEROHELY": "2",
                                    "Rangsor": "1"
                                },
                                {
                                    "SZOBA_ID": "64",
                                    "FEROHELY": "2",
                                    "Rangsor": "1"
                                },
                                {
                                    "SZOBA_ID": "67",
                                    "FEROHELY": "2",
                                    "Rangsor": "1"
                                },
                                {
                                    "SZOBA_ID": "42",
                                    "FEROHELY": "2",
                                    "Rangsor": "1"
                                },
                                {
                                    "SZOBA_ID": "106",
                                    "FEROHELY": "2",
                                    "Rangsor": "1"
                                },
                                {
                                    "SZOBA_ID": "78",
                                    "FEROHELY": "2",
                                    "Rangsor": "1"
                                },
                                {
                                    "SZOBA_ID": "137",
                                    "FEROHELY": "2",
                                    "Rangsor": "1"
                                },
                                {
                                    "SZOBA_ID": "130",
                                    "FEROHELY": "2",
                                    "Rangsor": "1"
                                },
                                {
                                    "SZOBA_ID": "126",
                                    "FEROHELY": "2",
                                    "Rangsor": "1"
                                },
                                {
                                    "SZOBA_ID": "145",
                                    "FEROHELY": "2",
                                    "Rangsor": "1"
                                },
                                {
                                    "SZOBA_ID": "148",
                                    "FEROHELY": "2",
                                    "Rangsor": "1"
                                },
                                {
                                    "SZOBA_ID": "141",
                                    "FEROHELY": "2",
                                    "Rangsor": "1"
                                },
                                {
                                    "SZOBA_ID": "150",
                                    "FEROHELY": "2",
                                    "Rangsor": "1"
                                },
                                {
                                    "SZOBA_ID": "161",
                                    "FEROHELY": "2",
                                    "Rangsor": "1"
                                },
                                {
                                    "SZOBA_ID": "169",
                                    "FEROHELY": "2",
                                    "Rangsor": "1"
                                },
                                {
                                    "SZOBA_ID": "195",
                                    "FEROHELY": "2",
                                    "Rangsor": "1"
                                },
                                {
                                    "SZOBA_ID": "37",
                                    "FEROHELY": "2",
                                    "Rangsor": "1"
                                },
                                {
                                    "SZOBA_ID": "68",
                                    "FEROHELY": "2",
                                    "Rangsor": "1"
                                },
                                {
                                    "SZOBA_ID": "23",
                                    "FEROHELY": "2",
                                    "Rangsor": "1"
                                },
                                {
                                    "SZOBA_ID": "136",
                                    "FEROHELY": "2",
                                    "Rangsor": "1"
                                },
                                {
                                    "SZOBA_ID": "101",
                                    "FEROHELY": "2",
                                    "Rangsor": "1"
                                },
                                {
                                    "SZOBA_ID": "75",
                                    "FEROHELY": "2",
                                    "Rangsor": "1"
                                },
                                {
                                    "SZOBA_ID": "76",
                                    "FEROHELY": "2",
                                    "Rangsor": "1"
                                },
                                {
                                    "SZOBA_ID": "166",
                                    "FEROHELY": "2",
                                    "Rangsor": "1"
                                },
                                {
                                    "SZOBA_ID": "180",
                                    "FEROHELY": "2",
                                    "Rangsor": "1"
                                },
                                {
                                    "SZOBA_ID": "151",
                                    "FEROHELY": "2",
                                    "Rangsor": "1"
                                },
                                {
                                    "SZOBA_ID": "158",
                                    "FEROHELY": "2",
                                    "Rangsor": "1"
                                },
                                {
                                    "SZOBA_ID": "59",
                                    "FEROHELY": "2",
                                    "Rangsor": "1"
                                },
                                {
                                    "SZOBA_ID": "39",
                                    "FEROHELY": "2",
                                    "Rangsor": "1"
                                },
                                {
                                    "SZOBA_ID": "80",
                                    "FEROHELY": "2",
                                    "Rangsor": "1"
                                },
                                {
                                    "SZOBA_ID": "118",
                                    "FEROHELY": "2",
                                    "Rangsor": "1"
                                },
                                {
                                    "SZOBA_ID": "109",
                                    "FEROHELY": "2",
                                    "Rangsor": "1"
                                },
                                {
                                    "SZOBA_ID": "127",
                                    "FEROHELY": "2",
                                    "Rangsor": "1"
                                },
                                {
                                    "SZOBA_ID": "139",
                                    "FEROHELY": "2",
                                    "Rangsor": "1"
                                },
                                {
                                    "SZOBA_ID": "149",
                                    "FEROHELY": "2",
                                    "Rangsor": "1"
                                },
                                {
                                    "SZOBA_ID": "156",
                                    "FEROHELY": "2",
                                    "Rangsor": "1"
                                },
                                {
                                    "SZOBA_ID": "165",
                                    "FEROHELY": "2",
                                    "Rangsor": "1"
                                },
                                {
                                    "SZOBA_ID": "163",
                                    "FEROHELY": "2",
                                    "Rangsor": "1"
                                },
                                {
                                    "SZOBA_ID": "53",
                                    "FEROHELY": "2",
                                    "Rangsor": "1"
                                },
                                {
                                    "SZOBA_ID": "56",
                                    "FEROHELY": "2",
                                    "Rangsor": "1"
                                },
                                {
                                    "SZOBA_ID": "47",
                                    "FEROHELY": "2",
                                    "Rangsor": "1"
                                },
                                {
                                    "SZOBA_ID": "26",
                                    "FEROHELY": "2",
                                    "Rangsor": "1"
                                },
                                {
                                    "SZOBA_ID": "108",
                                    "FEROHELY": "2",
                                    "Rangsor": "1"
                                },
                                {
                                    "SZOBA_ID": "102",
                                    "FEROHELY": "2",
                                    "Rangsor": "1"
                                },
                                {
                                    "SZOBA_ID": "105",
                                    "FEROHELY": "2",
                                    "Rangsor": "1"
                                },
                                {
                                    "SZOBA_ID": "192",
                                    "FEROHELY": "2",
                                    "Rangsor": "1"
                                },
                                {
                                    "SZOBA_ID": "38",
                                    "FEROHELY": "2",
                                    "Rangsor": "1"
                                },
                                {
                                    "SZOBA_ID": "55",
                                    "FEROHELY": "2",
                                    "Rangsor": "1"
                                },
                                {
                                    "SZOBA_ID": "110",
                                    "FEROHELY": "2",
                                    "Rangsor": "1"
                                },
                                {
                                    "SZOBA_ID": "121",
                                    "FEROHELY": "2",
                                    "Rangsor": "1"
                                },
                                {
                                    "SZOBA_ID": "140",
                                    "FEROHELY": "2",
                                    "Rangsor": "1"
                                },
                                {
                                    "SZOBA_ID": "NULL",
                                    "FEROHELY": "NULL",
                                    "Rangsor": "1"
                                },
                                {
                                    "SZOBA_ID": "32",
                                    "FEROHELY": "2",
                                    "Rangsor": "1"
                                },
                                {
                                    "SZOBA_ID": "65",
                                    "FEROHELY": "2",
                                    "Rangsor": "1"
                                },
                                {
                                    "SZOBA_ID": "125",
                                    "FEROHELY": "2",
                                    "Rangsor": "1"
                                },
                                {
                                    "SZOBA_ID": "147",
                                    "FEROHELY": "2",
                                    "Rangsor": "1"
                                },
                                {
                                    "SZOBA_ID": "194",
                                    "FEROHELY": "2",
                                    "Rangsor": "1"
                                },
                                {
                                    "SZOBA_ID": "172",
                                    "FEROHELY": "2",
                                    "Rangsor": "1"
                                },
                                {
                                    "SZOBA_ID": "12",
                                    "FEROHELY": "2",
                                    "Rangsor": "1"
                                },
                                {
                                    "SZOBA_ID": "94",
                                    "FEROHELY": "2",
                                    "Rangsor": "1"
                                },
                                {
                                    "SZOBA_ID": "70",
                                    "FEROHELY": "2",
                                    "Rangsor": "1"
                                },
                                {
                                    "SZOBA_ID": "182",
                                    "FEROHELY": "2",
                                    "Rangsor": "1"
                                },
                                {
                                    "SZOBA_ID": "58",
                                    "FEROHELY": "2",
                                    "Rangsor": "1"
                                },
                                {
                                    "SZOBA_ID": "185",
                                    "FEROHELY": "3",
                                    "Rangsor": "2"
                                },
                                {
                                    "SZOBA_ID": "48",
                                    "FEROHELY": "3",
                                    "Rangsor": "2"
                                },
                                {
                                    "SZOBA_ID": "35",
                                    "FEROHELY": "3",
                                    "Rangsor": "2"
                                },
                                {
                                    "SZOBA_ID": "74",
                                    "FEROHELY": "3",
                                    "Rangsor": "2"
                                },
                                {
                                    "SZOBA_ID": "122",
                                    "FEROHELY": "3",
                                    "Rangsor": "2"
                                },
                                {
                                    "SZOBA_ID": "60",
                                    "FEROHELY": "3",
                                    "Rangsor": "2"
                                },
                                {
                                    "SZOBA_ID": "117",
                                    "FEROHELY": "3",
                                    "Rangsor": "2"
                                },
                                {
                                    "SZOBA_ID": "83",
                                    "FEROHELY": "3",
                                    "Rangsor": "2"
                                },
                                {
                                    "SZOBA_ID": "88",
                                    "FEROHELY": "3",
                                    "Rangsor": "2"
                                },
                                {
                                    "SZOBA_ID": "89",
                                    "FEROHELY": "3",
                                    "Rangsor": "2"
                                },
                                {
                                    "SZOBA_ID": "43",
                                    "FEROHELY": "3",
                                    "Rangsor": "2"
                                },
                                {
                                    "SZOBA_ID": "3",
                                    "FEROHELY": "3",
                                    "Rangsor": "2"
                                },
                                {
                                    "SZOBA_ID": "1",
                                    "FEROHELY": "3",
                                    "Rangsor": "2"
                                },
                                {
                                    "SZOBA_ID": "198",
                                    "FEROHELY": "3",
                                    "Rangsor": "2"
                                },
                                {
                                    "SZOBA_ID": "167",
                                    "FEROHELY": "3",
                                    "Rangsor": "2"
                                },
                                {
                                    "SZOBA_ID": "116",
                                    "FEROHELY": "3",
                                    "Rangsor": "2"
                                },
                                {
                                    "SZOBA_ID": "142",
                                    "FEROHELY": "3",
                                    "Rangsor": "2"
                                },
                                {
                                    "SZOBA_ID": "41",
                                    "FEROHELY": "3",
                                    "Rangsor": "2"
                                },
                                {
                                    "SZOBA_ID": "25",
                                    "FEROHELY": "3",
                                    "Rangsor": "2"
                                },
                                {
                                    "SZOBA_ID": "193",
                                    "FEROHELY": "3",
                                    "Rangsor": "2"
                                },
                                {
                                    "SZOBA_ID": "187",
                                    "FEROHELY": "3",
                                    "Rangsor": "2"
                                },
                                {
                                    "SZOBA_ID": "143",
                                    "FEROHELY": "3",
                                    "Rangsor": "2"
                                },
                                {
                                    "SZOBA_ID": "138",
                                    "FEROHELY": "3",
                                    "Rangsor": "2"
                                },
                                {
                                    "SZOBA_ID": "115",
                                    "FEROHELY": "3",
                                    "Rangsor": "2"
                                },
                                {
                                    "SZOBA_ID": "96",
                                    "FEROHELY": "3",
                                    "Rangsor": "2"
                                },
                                {
                                    "SZOBA_ID": "97",
                                    "FEROHELY": "3",
                                    "Rangsor": "2"
                                },
                                {
                                    "SZOBA_ID": "49",
                                    "FEROHELY": "3",
                                    "Rangsor": "2"
                                },
                                {
                                    "SZOBA_ID": "27",
                                    "FEROHELY": "3",
                                    "Rangsor": "2"
                                },
                                {
                                    "SZOBA_ID": "162",
                                    "FEROHELY": "3",
                                    "Rangsor": "2"
                                },
                                {
                                    "SZOBA_ID": "179",
                                    "FEROHELY": "3",
                                    "Rangsor": "2"
                                },
                                {
                                    "SZOBA_ID": "71",
                                    "FEROHELY": "3",
                                    "Rangsor": "2"
                                },
                                {
                                    "SZOBA_ID": "135",
                                    "FEROHELY": "3",
                                    "Rangsor": "2"
                                },
                                {
                                    "SZOBA_ID": "30",
                                    "FEROHELY": "3",
                                    "Rangsor": "2"
                                },
                                {
                                    "SZOBA_ID": "31",
                                    "FEROHELY": "3",
                                    "Rangsor": "2"
                                },
                                {
                                    "SZOBA_ID": "14",
                                    "FEROHELY": "3",
                                    "Rangsor": "2"
                                },
                                {
                                    "SZOBA_ID": "197",
                                    "FEROHELY": "3",
                                    "Rangsor": "2"
                                },
                                {
                                    "SZOBA_ID": "188",
                                    "FEROHELY": "3",
                                    "Rangsor": "2"
                                },
                                {
                                    "SZOBA_ID": "176",
                                    "FEROHELY": "3",
                                    "Rangsor": "2"
                                },
                                {
                                    "SZOBA_ID": "181",
                                    "FEROHELY": "3",
                                    "Rangsor": "2"
                                },
                                {
                                    "SZOBA_ID": "146",
                                    "FEROHELY": "3",
                                    "Rangsor": "2"
                                },
                                {
                                    "SZOBA_ID": "132",
                                    "FEROHELY": "3",
                                    "Rangsor": "2"
                                },
                                {
                                    "SZOBA_ID": "133",
                                    "FEROHELY": "3",
                                    "Rangsor": "2"
                                },
                                {
                                    "SZOBA_ID": "134",
                                    "FEROHELY": "3",
                                    "Rangsor": "2"
                                },
                                {
                                    "SZOBA_ID": "124",
                                    "FEROHELY": "3",
                                    "Rangsor": "2"
                                },
                                {
                                    "SZOBA_ID": "120",
                                    "FEROHELY": "3",
                                    "Rangsor": "2"
                                },
                                {
                                    "SZOBA_ID": "77",
                                    "FEROHELY": "3",
                                    "Rangsor": "2"
                                },
                                {
                                    "SZOBA_ID": "82",
                                    "FEROHELY": "3",
                                    "Rangsor": "2"
                                },
                                {
                                    "SZOBA_ID": "92",
                                    "FEROHELY": "3",
                                    "Rangsor": "2"
                                },
                                {
                                    "SZOBA_ID": "44",
                                    "FEROHELY": "3",
                                    "Rangsor": "2"
                                },
                                {
                                    "SZOBA_ID": "36",
                                    "FEROHELY": "3",
                                    "Rangsor": "2"
                                },
                                {
                                    "SZOBA_ID": "54",
                                    "FEROHELY": "3",
                                    "Rangsor": "2"
                                },
                                {
                                    "SZOBA_ID": "6",
                                    "FEROHELY": "3",
                                    "Rangsor": "2"
                                },
                                {
                                    "SZOBA_ID": "9",
                                    "FEROHELY": "3",
                                    "Rangsor": "2"
                                },
                                {
                                    "SZOBA_ID": "17",
                                    "FEROHELY": "3",
                                    "Rangsor": "2"
                                },
                                {
                                    "SZOBA_ID": "18",
                                    "FEROHELY": "3",
                                    "Rangsor": "2"
                                },
                                {
                                    "SZOBA_ID": "22",
                                    "FEROHELY": "3",
                                    "Rangsor": "2"
                                },
                                {
                                    "SZOBA_ID": "155",
                                    "FEROHELY": "3",
                                    "Rangsor": "2"
                                },
                                {
                                    "SZOBA_ID": "160",
                                    "FEROHELY": "3",
                                    "Rangsor": "2"
                                },
                                {
                                    "SZOBA_ID": "153",
                                    "FEROHELY": "3",
                                    "Rangsor": "2"
                                },
                                {
                                    "SZOBA_ID": "144",
                                    "FEROHELY": "3",
                                    "Rangsor": "2"
                                },
                                {
                                    "SZOBA_ID": "123",
                                    "FEROHELY": "3",
                                    "Rangsor": "2"
                                },
                                {
                                    "SZOBA_ID": "112",
                                    "FEROHELY": "3",
                                    "Rangsor": "2"
                                },
                                {
                                    "SZOBA_ID": "113",
                                    "FEROHELY": "3",
                                    "Rangsor": "2"
                                },
                                {
                                    "SZOBA_ID": "79",
                                    "FEROHELY": "3",
                                    "Rangsor": "2"
                                },
                                {
                                    "SZOBA_ID": "87",
                                    "FEROHELY": "3",
                                    "Rangsor": "2"
                                },
                                {
                                    "SZOBA_ID": "93",
                                    "FEROHELY": "3",
                                    "Rangsor": "2"
                                },
                                {
                                    "SZOBA_ID": "51",
                                    "FEROHELY": "3",
                                    "Rangsor": "2"
                                },
                                {
                                    "SZOBA_ID": "61",
                                    "FEROHELY": "3",
                                    "Rangsor": "2"
                                },
                                {
                                    "SZOBA_ID": "8",
                                    "FEROHELY": "3",
                                    "Rangsor": "2"
                                },
                                {
                                    "SZOBA_ID": "16",
                                    "FEROHELY": "3",
                                    "Rangsor": "2"
                                },
                                {
                                    "SZOBA_ID": "20",
                                    "FEROHELY": "3",
                                    "Rangsor": "2"
                                },
                                {
                                    "SZOBA_ID": "183",
                                    "FEROHELY": "3",
                                    "Rangsor": "2"
                                },
                                {
                                    "SZOBA_ID": "177",
                                    "FEROHELY": "3",
                                    "Rangsor": "2"
                                },
                                {
                                    "SZOBA_ID": "178",
                                    "FEROHELY": "3",
                                    "Rangsor": "2"
                                },
                                {
                                    "SZOBA_ID": "84",
                                    "FEROHELY": "3",
                                    "Rangsor": "2"
                                },
                                {
                                    "SZOBA_ID": "90",
                                    "FEROHELY": "3",
                                    "Rangsor": "2"
                                },
                                {
                                    "SZOBA_ID": "95",
                                    "FEROHELY": "3",
                                    "Rangsor": "2"
                                },
                                {
                                    "SZOBA_ID": "104",
                                    "FEROHELY": "3",
                                    "Rangsor": "2"
                                },
                                {
                                    "SZOBA_ID": "69",
                                    "FEROHELY": "3",
                                    "Rangsor": "2"
                                },
                                {
                                    "SZOBA_ID": "66",
                                    "FEROHELY": "3",
                                    "Rangsor": "2"
                                },
                                {
                                    "SZOBA_ID": "40",
                                    "FEROHELY": "3",
                                    "Rangsor": "2"
                                },
                                {
                                    "SZOBA_ID": "34",
                                    "FEROHELY": "3",
                                    "Rangsor": "2"
                                },
                                {
                                    "SZOBA_ID": "46",
                                    "FEROHELY": "3",
                                    "Rangsor": "2"
                                },
                                {
                                    "SZOBA_ID": "2",
                                    "FEROHELY": "3",
                                    "Rangsor": "2"
                                },
                                {
                                    "SZOBA_ID": "10",
                                    "FEROHELY": "3",
                                    "Rangsor": "2"
                                },
                                {
                                    "SZOBA_ID": "13",
                                    "FEROHELY": "3",
                                    "Rangsor": "2"
                                },
                                {
                                    "SZOBA_ID": "24",
                                    "FEROHELY": "4",
                                    "Rangsor": "3"
                                }
                            ]
                        },
                        "text/html": [
                            "<table>",
                            "<tr><th>SZOBA_ID</th><th>FEROHELY</th><th>Rangsor</th></tr>",
                            "<tr><td>21</td><td>2</td><td>1</td></tr>",
                            "<tr><td>11</td><td>2</td><td>1</td></tr>",
                            "<tr><td>5</td><td>2</td><td>1</td></tr>",
                            "<tr><td>63</td><td>2</td><td>1</td></tr>",
                            "<tr><td>57</td><td>2</td><td>1</td></tr>",
                            "<tr><td>50</td><td>2</td><td>1</td></tr>",
                            "<tr><td>129</td><td>2</td><td>1</td></tr>",
                            "<tr><td>114</td><td>2</td><td>1</td></tr>",
                            "<tr><td>72</td><td>2</td><td>1</td></tr>",
                            "<tr><td>73</td><td>2</td><td>1</td></tr>",
                            "<tr><td>85</td><td>2</td><td>1</td></tr>",
                            "<tr><td>100</td><td>2</td><td>1</td></tr>",
                            "<tr><td>98</td><td>2</td><td>1</td></tr>",
                            "<tr><td>103</td><td>2</td><td>1</td></tr>",
                            "<tr><td>91</td><td>2</td><td>1</td></tr>",
                            "<tr><td>173</td><td>2</td><td>1</td></tr>",
                            "<tr><td>174</td><td>2</td><td>1</td></tr>",
                            "<tr><td>152</td><td>2</td><td>1</td></tr>",
                            "<tr><td>184</td><td>2</td><td>1</td></tr>",
                            "<tr><td>186</td><td>2</td><td>1</td></tr>",
                            "<tr><td>196</td><td>2</td><td>1</td></tr>",
                            "<tr><td>45</td><td>2</td><td>1</td></tr>",
                            "<tr><td>52</td><td>2</td><td>1</td></tr>",
                            "<tr><td>99</td><td>2</td><td>1</td></tr>",
                            "<tr><td>86</td><td>2</td><td>1</td></tr>",
                            "<tr><td>81</td><td>2</td><td>1</td></tr>",
                            "<tr><td>62</td><td>2</td><td>1</td></tr>",
                            "<tr><td>111</td><td>2</td><td>1</td></tr>",
                            "<tr><td>119</td><td>2</td><td>1</td></tr>",
                            "<tr><td>107</td><td>2</td><td>1</td></tr>",
                            "<tr><td>131</td><td>2</td><td>1</td></tr>",
                            "<tr><td>128</td><td>2</td><td>1</td></tr>",
                            "<tr><td>170</td><td>2</td><td>1</td></tr>",
                            "<tr><td>171</td><td>2</td><td>1</td></tr>",
                            "<tr><td>175</td><td>2</td><td>1</td></tr>",
                            "<tr><td>157</td><td>2</td><td>1</td></tr>",
                            "<tr><td>168</td><td>2</td><td>1</td></tr>",
                            "<tr><td>164</td><td>2</td><td>1</td></tr>",
                            "<tr><td>154</td><td>2</td><td>1</td></tr>",
                            "<tr><td>189</td><td>2</td><td>1</td></tr>",
                            "<tr><td>190</td><td>2</td><td>1</td></tr>",
                            "<tr><td>191</td><td>2</td><td>1</td></tr>",
                            "<tr><td>19</td><td>2</td><td>1</td></tr>",
                            "<tr><td>33</td><td>2</td><td>1</td></tr>",
                            "<tr><td>28</td><td>2</td><td>1</td></tr>",
                            "<tr><td>29</td><td>2</td><td>1</td></tr>",
                            "<tr><td>15</td><td>2</td><td>1</td></tr>",
                            "<tr><td>4</td><td>2</td><td>1</td></tr>",
                            "<tr><td>7</td><td>2</td><td>1</td></tr>",
                            "<tr><td>64</td><td>2</td><td>1</td></tr>",
                            "<tr><td>67</td><td>2</td><td>1</td></tr>",
                            "<tr><td>42</td><td>2</td><td>1</td></tr>",
                            "<tr><td>106</td><td>2</td><td>1</td></tr>",
                            "<tr><td>78</td><td>2</td><td>1</td></tr>",
                            "<tr><td>137</td><td>2</td><td>1</td></tr>",
                            "<tr><td>130</td><td>2</td><td>1</td></tr>",
                            "<tr><td>126</td><td>2</td><td>1</td></tr>",
                            "<tr><td>145</td><td>2</td><td>1</td></tr>",
                            "<tr><td>148</td><td>2</td><td>1</td></tr>",
                            "<tr><td>141</td><td>2</td><td>1</td></tr>",
                            "<tr><td>150</td><td>2</td><td>1</td></tr>",
                            "<tr><td>161</td><td>2</td><td>1</td></tr>",
                            "<tr><td>169</td><td>2</td><td>1</td></tr>",
                            "<tr><td>195</td><td>2</td><td>1</td></tr>",
                            "<tr><td>37</td><td>2</td><td>1</td></tr>",
                            "<tr><td>68</td><td>2</td><td>1</td></tr>",
                            "<tr><td>23</td><td>2</td><td>1</td></tr>",
                            "<tr><td>136</td><td>2</td><td>1</td></tr>",
                            "<tr><td>101</td><td>2</td><td>1</td></tr>",
                            "<tr><td>75</td><td>2</td><td>1</td></tr>",
                            "<tr><td>76</td><td>2</td><td>1</td></tr>",
                            "<tr><td>166</td><td>2</td><td>1</td></tr>",
                            "<tr><td>180</td><td>2</td><td>1</td></tr>",
                            "<tr><td>151</td><td>2</td><td>1</td></tr>",
                            "<tr><td>158</td><td>2</td><td>1</td></tr>",
                            "<tr><td>59</td><td>2</td><td>1</td></tr>",
                            "<tr><td>39</td><td>2</td><td>1</td></tr>",
                            "<tr><td>80</td><td>2</td><td>1</td></tr>",
                            "<tr><td>118</td><td>2</td><td>1</td></tr>",
                            "<tr><td>109</td><td>2</td><td>1</td></tr>",
                            "<tr><td>127</td><td>2</td><td>1</td></tr>",
                            "<tr><td>139</td><td>2</td><td>1</td></tr>",
                            "<tr><td>149</td><td>2</td><td>1</td></tr>",
                            "<tr><td>156</td><td>2</td><td>1</td></tr>",
                            "<tr><td>165</td><td>2</td><td>1</td></tr>",
                            "<tr><td>163</td><td>2</td><td>1</td></tr>",
                            "<tr><td>53</td><td>2</td><td>1</td></tr>",
                            "<tr><td>56</td><td>2</td><td>1</td></tr>",
                            "<tr><td>47</td><td>2</td><td>1</td></tr>",
                            "<tr><td>26</td><td>2</td><td>1</td></tr>",
                            "<tr><td>108</td><td>2</td><td>1</td></tr>",
                            "<tr><td>102</td><td>2</td><td>1</td></tr>",
                            "<tr><td>105</td><td>2</td><td>1</td></tr>",
                            "<tr><td>192</td><td>2</td><td>1</td></tr>",
                            "<tr><td>38</td><td>2</td><td>1</td></tr>",
                            "<tr><td>55</td><td>2</td><td>1</td></tr>",
                            "<tr><td>110</td><td>2</td><td>1</td></tr>",
                            "<tr><td>121</td><td>2</td><td>1</td></tr>",
                            "<tr><td>140</td><td>2</td><td>1</td></tr>",
                            "<tr><td>NULL</td><td>NULL</td><td>1</td></tr>",
                            "<tr><td>32</td><td>2</td><td>1</td></tr>",
                            "<tr><td>65</td><td>2</td><td>1</td></tr>",
                            "<tr><td>125</td><td>2</td><td>1</td></tr>",
                            "<tr><td>147</td><td>2</td><td>1</td></tr>",
                            "<tr><td>194</td><td>2</td><td>1</td></tr>",
                            "<tr><td>172</td><td>2</td><td>1</td></tr>",
                            "<tr><td>12</td><td>2</td><td>1</td></tr>",
                            "<tr><td>94</td><td>2</td><td>1</td></tr>",
                            "<tr><td>70</td><td>2</td><td>1</td></tr>",
                            "<tr><td>182</td><td>2</td><td>1</td></tr>",
                            "<tr><td>58</td><td>2</td><td>1</td></tr>",
                            "<tr><td>185</td><td>3</td><td>2</td></tr>",
                            "<tr><td>48</td><td>3</td><td>2</td></tr>",
                            "<tr><td>35</td><td>3</td><td>2</td></tr>",
                            "<tr><td>74</td><td>3</td><td>2</td></tr>",
                            "<tr><td>122</td><td>3</td><td>2</td></tr>",
                            "<tr><td>60</td><td>3</td><td>2</td></tr>",
                            "<tr><td>117</td><td>3</td><td>2</td></tr>",
                            "<tr><td>83</td><td>3</td><td>2</td></tr>",
                            "<tr><td>88</td><td>3</td><td>2</td></tr>",
                            "<tr><td>89</td><td>3</td><td>2</td></tr>",
                            "<tr><td>43</td><td>3</td><td>2</td></tr>",
                            "<tr><td>3</td><td>3</td><td>2</td></tr>",
                            "<tr><td>1</td><td>3</td><td>2</td></tr>",
                            "<tr><td>198</td><td>3</td><td>2</td></tr>",
                            "<tr><td>167</td><td>3</td><td>2</td></tr>",
                            "<tr><td>116</td><td>3</td><td>2</td></tr>",
                            "<tr><td>142</td><td>3</td><td>2</td></tr>",
                            "<tr><td>41</td><td>3</td><td>2</td></tr>",
                            "<tr><td>25</td><td>3</td><td>2</td></tr>",
                            "<tr><td>193</td><td>3</td><td>2</td></tr>",
                            "<tr><td>187</td><td>3</td><td>2</td></tr>",
                            "<tr><td>143</td><td>3</td><td>2</td></tr>",
                            "<tr><td>138</td><td>3</td><td>2</td></tr>",
                            "<tr><td>115</td><td>3</td><td>2</td></tr>",
                            "<tr><td>96</td><td>3</td><td>2</td></tr>",
                            "<tr><td>97</td><td>3</td><td>2</td></tr>",
                            "<tr><td>49</td><td>3</td><td>2</td></tr>",
                            "<tr><td>27</td><td>3</td><td>2</td></tr>",
                            "<tr><td>162</td><td>3</td><td>2</td></tr>",
                            "<tr><td>179</td><td>3</td><td>2</td></tr>",
                            "<tr><td>71</td><td>3</td><td>2</td></tr>",
                            "<tr><td>135</td><td>3</td><td>2</td></tr>",
                            "<tr><td>30</td><td>3</td><td>2</td></tr>",
                            "<tr><td>31</td><td>3</td><td>2</td></tr>",
                            "<tr><td>14</td><td>3</td><td>2</td></tr>",
                            "<tr><td>197</td><td>3</td><td>2</td></tr>",
                            "<tr><td>188</td><td>3</td><td>2</td></tr>",
                            "<tr><td>176</td><td>3</td><td>2</td></tr>",
                            "<tr><td>181</td><td>3</td><td>2</td></tr>",
                            "<tr><td>146</td><td>3</td><td>2</td></tr>",
                            "<tr><td>132</td><td>3</td><td>2</td></tr>",
                            "<tr><td>133</td><td>3</td><td>2</td></tr>",
                            "<tr><td>134</td><td>3</td><td>2</td></tr>",
                            "<tr><td>124</td><td>3</td><td>2</td></tr>",
                            "<tr><td>120</td><td>3</td><td>2</td></tr>",
                            "<tr><td>77</td><td>3</td><td>2</td></tr>",
                            "<tr><td>82</td><td>3</td><td>2</td></tr>",
                            "<tr><td>92</td><td>3</td><td>2</td></tr>",
                            "<tr><td>44</td><td>3</td><td>2</td></tr>",
                            "<tr><td>36</td><td>3</td><td>2</td></tr>",
                            "<tr><td>54</td><td>3</td><td>2</td></tr>",
                            "<tr><td>6</td><td>3</td><td>2</td></tr>",
                            "<tr><td>9</td><td>3</td><td>2</td></tr>",
                            "<tr><td>17</td><td>3</td><td>2</td></tr>",
                            "<tr><td>18</td><td>3</td><td>2</td></tr>",
                            "<tr><td>22</td><td>3</td><td>2</td></tr>",
                            "<tr><td>155</td><td>3</td><td>2</td></tr>",
                            "<tr><td>160</td><td>3</td><td>2</td></tr>",
                            "<tr><td>153</td><td>3</td><td>2</td></tr>",
                            "<tr><td>144</td><td>3</td><td>2</td></tr>",
                            "<tr><td>123</td><td>3</td><td>2</td></tr>",
                            "<tr><td>112</td><td>3</td><td>2</td></tr>",
                            "<tr><td>113</td><td>3</td><td>2</td></tr>",
                            "<tr><td>79</td><td>3</td><td>2</td></tr>",
                            "<tr><td>87</td><td>3</td><td>2</td></tr>",
                            "<tr><td>93</td><td>3</td><td>2</td></tr>",
                            "<tr><td>51</td><td>3</td><td>2</td></tr>",
                            "<tr><td>61</td><td>3</td><td>2</td></tr>",
                            "<tr><td>8</td><td>3</td><td>2</td></tr>",
                            "<tr><td>16</td><td>3</td><td>2</td></tr>",
                            "<tr><td>20</td><td>3</td><td>2</td></tr>",
                            "<tr><td>183</td><td>3</td><td>2</td></tr>",
                            "<tr><td>177</td><td>3</td><td>2</td></tr>",
                            "<tr><td>178</td><td>3</td><td>2</td></tr>",
                            "<tr><td>84</td><td>3</td><td>2</td></tr>",
                            "<tr><td>90</td><td>3</td><td>2</td></tr>",
                            "<tr><td>95</td><td>3</td><td>2</td></tr>",
                            "<tr><td>104</td><td>3</td><td>2</td></tr>",
                            "<tr><td>69</td><td>3</td><td>2</td></tr>",
                            "<tr><td>66</td><td>3</td><td>2</td></tr>",
                            "<tr><td>40</td><td>3</td><td>2</td></tr>",
                            "<tr><td>34</td><td>3</td><td>2</td></tr>",
                            "<tr><td>46</td><td>3</td><td>2</td></tr>",
                            "<tr><td>2</td><td>3</td><td>2</td></tr>",
                            "<tr><td>10</td><td>3</td><td>2</td></tr>",
                            "<tr><td>13</td><td>3</td><td>2</td></tr>",
                            "<tr><td>24</td><td>4</td><td>3</td></tr>",
                            "</table>"
                        ]
                    }
                }
            ],
            "execution_count": 19
        },
        {
            "cell_type": "markdown",
            "source": [
                "3\\. Kérdezzük le az átlagosnál kevesebb főre történt foglalások adatait!\n",
                "\n",
                "a. Egy új oszlopban jelenjen meg az ügyfél neve is!\n",
                "\n",
                "b. Egy másik új oszlop mutassa meg, hogy az ügyfél előző három foglalása átlagosan hány főre történt! Az oszlop neve legyen 'Előző három foglalás átlaga'\n",
                "\n",
                "c. A listában azon vendégek is jelenjenek meg, akik még nem foglaltak!"
            ],
            "metadata": {
                "azdata_cell_guid": "206fb4c5-7a5b-4271-bd1a-2046b15b7a4b"
            },
            "attachments": {}
        },
        {
            "cell_type": "code",
            "source": [
                ""
            ],
            "metadata": {
                "azdata_cell_guid": "7977ab3e-191e-4aa0-9f7b-19e32f35a4df",
                "language": "sql"
            },
            "outputs": [],
            "execution_count": null
        }
    ]
}