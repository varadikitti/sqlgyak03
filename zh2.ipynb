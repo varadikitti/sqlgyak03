{
    "metadata": {
        "kernelspec": {
            "name": "SQL",
            "display_name": "SQL",
            "language": "sql"
        },
        "language_info": {
            "name": "sql",
            "version": ""
        }
    },
    "nbformat_minor": 2,
    "nbformat": 4,
    "cells": [
        {
            "cell_type": "code",
            "source": [
                "SELECT *\r\n",
                "FROM szallashely"
            ],
            "metadata": {
                "azdata_cell_guid": "1b1b0d28-ef4c-43c7-9dc2-f918bba18101",
                "language": "sql"
            },
            "outputs": [
                {
                    "output_type": "display_data",
                    "data": {
                        "text/html": "(21 rows affected)"
                    },
                    "metadata": {}
                },
                {
                    "output_type": "display_data",
                    "data": {
                        "text/html": "Total execution time: 00:00:00.044"
                    },
                    "metadata": {}
                },
                {
                    "output_type": "execute_result",
                    "metadata": {},
                    "execution_count": 6,
                    "data": {
                        "application/vnd.dataresource+json": {
                            "schema": {
                                "fields": [
                                    {
                                        "name": "SZALLAS_ID"
                                    },
                                    {
                                        "name": "SZALLAS_NEV"
                                    },
                                    {
                                        "name": "HELY"
                                    },
                                    {
                                        "name": "CSILLAGOK_SZAMA"
                                    },
                                    {
                                        "name": "TIPUS"
                                    },
                                    {
                                        "name": "ROGZITETTE"
                                    },
                                    {
                                        "name": "ROGZ_IDO"
                                    },
                                    {
                                        "name": "CIM"
                                    }
                                ]
                            },
                            "data": [
                                {
                                    "SZALLAS_ID": "1",
                                    "SZALLAS_NEV": "Sába-Ház",
                                    "HELY": "Balaton-dél",
                                    "CSILLAGOK_SZAMA": "0",
                                    "TIPUS": "vendégház",
                                    "ROGZITETTE": "Béla",
                                    "ROGZ_IDO": "2016-02-28",
                                    "CIM": "8630 Balatonboglár, Radnóti Miklós utca 8"
                                },
                                {
                                    "SZALLAS_ID": "2",
                                    "SZALLAS_NEV": "Családi Ház",
                                    "HELY": "Balaton-dél",
                                    "CSILLAGOK_SZAMA": "0",
                                    "TIPUS": "vendégház",
                                    "ROGZITETTE": "Béla",
                                    "ROGZ_IDO": "2016-03-02",
                                    "CIM": "8630 Balatonboglár, József Attila utca 25"
                                },
                                {
                                    "SZALLAS_ID": "3",
                                    "SZALLAS_NEV": "Fortuna Apartman",
                                    "HELY": "Hajdúbihar megye",
                                    "CSILLAGOK_SZAMA": "0",
                                    "TIPUS": "Apartman",
                                    "ROGZITETTE": "Sára",
                                    "ROGZ_IDO": "2016-03-06",
                                    "CIM": "4200 Hajdúszoboszló, Wesselényi utca 56."
                                },
                                {
                                    "SZALLAS_ID": "4",
                                    "SZALLAS_NEV": "Fortuna panzió",
                                    "HELY": "Budapest",
                                    "CSILLAGOK_SZAMA": "3",
                                    "TIPUS": "panzió",
                                    "ROGZITETTE": "Béla",
                                    "ROGZ_IDO": "2016-03-07",
                                    "CIM": "1019 Budapest XIV. Cinkotai út 86."
                                },
                                {
                                    "SZALLAS_ID": "5",
                                    "SZALLAS_NEV": "Fortuna Panzió",
                                    "HELY": "Békés megye",
                                    "CSILLAGOK_SZAMA": "3",
                                    "TIPUS": "panzió",
                                    "ROGZITETTE": "Sára",
                                    "ROGZ_IDO": "2016-03-08",
                                    "CIM": "5900 Orosháza, Gyopárosfürdő Tópart utca 3."
                                },
                                {
                                    "SZALLAS_ID": "6",
                                    "SZALLAS_NEV": "Kentaur Hotel",
                                    "HELY": "Balaton-dél",
                                    "CSILLAGOK_SZAMA": "3",
                                    "TIPUS": "Hotel",
                                    "ROGZITETTE": "Béla",
                                    "ROGZ_IDO": "2016-03-08",
                                    "CIM": "8600 Siófok (Széplak), Akácfa utca 1"
                                },
                                {
                                    "SZALLAS_ID": "7",
                                    "SZALLAS_NEV": "Szieszta Apartmanház",
                                    "HELY": "Balaton-dél",
                                    "CSILLAGOK_SZAMA": "0",
                                    "TIPUS": "Apartman",
                                    "ROGZITETTE": "Mari",
                                    "ROGZ_IDO": "2016-03-11",
                                    "CIM": "8630 Balatonboglár, Dózsa György utca 108"
                                },
                                {
                                    "SZALLAS_ID": "8",
                                    "SZALLAS_NEV": "Hotel Három Hattyú",
                                    "HELY": "Balaton-dél",
                                    "CSILLAGOK_SZAMA": "4",
                                    "TIPUS": "Hotel",
                                    "ROGZITETTE": "Béla",
                                    "ROGZ_IDO": "2016-03-13",
                                    "CIM": "8623 Balatonföldvár, Rákóczi Ferenc út 45."
                                },
                                {
                                    "SZALLAS_ID": "9",
                                    "SZALLAS_NEV": "Jáde panzió",
                                    "HELY": "Balaton-dél",
                                    "CSILLAGOK_SZAMA": "3",
                                    "TIPUS": "panzió",
                                    "ROGZITETTE": "Mari",
                                    "ROGZ_IDO": "2016-03-16",
                                    "CIM": "8624 Balatonföldvár, Kiss u.2."
                                },
                                {
                                    "SZALLAS_ID": "10",
                                    "SZALLAS_NEV": "Lagúna Hotel",
                                    "HELY": "Budapest",
                                    "CSILLAGOK_SZAMA": "4",
                                    "TIPUS": "Hotel",
                                    "ROGZITETTE": "Sára",
                                    "ROGZ_IDO": "2016-03-20",
                                    "CIM": "1097 Budapest, Albert Flórián út 3"
                                },
                                {
                                    "SZALLAS_ID": "11",
                                    "SZALLAS_NEV": "Partiszél Vendégház",
                                    "HELY": "Balaton-észak",
                                    "CSILLAGOK_SZAMA": "0",
                                    "TIPUS": "vendégház",
                                    "ROGZITETTE": "Béla",
                                    "ROGZ_IDO": "2016-03-22",
                                    "CIM": "8220 Balatonalmádi Neptun u. 23."
                                },
                                {
                                    "SZALLAS_ID": "12",
                                    "SZALLAS_NEV": "Gold Hotel",
                                    "HELY": "Budapest",
                                    "CSILLAGOK_SZAMA": "3",
                                    "TIPUS": "Hotel",
                                    "ROGZITETTE": "Béla",
                                    "ROGZ_IDO": "2016-03-24",
                                    "CIM": "1016 Budapest, Hegyalja út 12"
                                },
                                {
                                    "SZALLAS_ID": "13",
                                    "SZALLAS_NEV": "Riviéra Panzió",
                                    "HELY": "Csongrád megye",
                                    "CSILLAGOK_SZAMA": "3",
                                    "TIPUS": "panzió",
                                    "ROGZITETTE": "Sára",
                                    "ROGZ_IDO": "2016-03-27",
                                    "CIM": "6722 Szeged, Petőfi Sándor út 3."
                                },
                                {
                                    "SZALLAS_ID": "14",
                                    "SZALLAS_NEV": "Nyárfás Vendégház",
                                    "HELY": "Csongrád megye",
                                    "CSILLAGOK_SZAMA": "0",
                                    "TIPUS": "vendégház",
                                    "ROGZITETTE": "Béla",
                                    "ROGZ_IDO": "2016-03-27",
                                    "CIM": "6723 Szeged, Nagy u. 12."
                                },
                                {
                                    "SZALLAS_ID": "15",
                                    "SZALLAS_NEV": "Tímárház Panzió",
                                    "HELY": "Balaton-dél",
                                    "CSILLAGOK_SZAMA": "3",
                                    "TIPUS": "panzió",
                                    "ROGZITETTE": "Béla",
                                    "ROGZ_IDO": "2016-03-29",
                                    "CIM": "8600 Siófok, Virág utca 1"
                                },
                                {
                                    "SZALLAS_ID": "16",
                                    "SZALLAS_NEV": "Bagoly Hotel",
                                    "HELY": "Pest megye",
                                    "CSILLAGOK_SZAMA": "3",
                                    "TIPUS": "Hotel",
                                    "ROGZITETTE": "Mari",
                                    "ROGZ_IDO": "2016-04-01",
                                    "CIM": "2230 Gyömrő, Bergszász u. 5."
                                },
                                {
                                    "SZALLAS_ID": "17",
                                    "SZALLAS_NEV": "Szarvas Hotel",
                                    "HELY": "Tolna megye",
                                    "CSILLAGOK_SZAMA": "4",
                                    "TIPUS": "Hotel",
                                    "ROGZITETTE": "Béla",
                                    "ROGZ_IDO": "2016-04-04",
                                    "CIM": "7121 Szálka, Petőfi Sándor u."
                                },
                                {
                                    "SZALLAS_ID": "18",
                                    "SZALLAS_NEV": "Fortuna Apartman",
                                    "HELY": "Dél-Somogy",
                                    "CSILLAGOK_SZAMA": "0",
                                    "TIPUS": "Apartman",
                                    "ROGZITETTE": "Béla",
                                    "ROGZ_IDO": "2016-04-07",
                                    "CIM": "7570 Barcs, Kossuth u. 13."
                                },
                                {
                                    "SZALLAS_ID": "19",
                                    "SZALLAS_NEV": "Nyárfás Vendégház",
                                    "HELY": "Dél-Somogy",
                                    "CSILLAGOK_SZAMA": "0",
                                    "TIPUS": "vendégház",
                                    "ROGZITETTE": "Sára",
                                    "ROGZ_IDO": "2016-04-07",
                                    "CIM": "7570 Barcs, Bajcsy-Zs. u. 53"
                                },
                                {
                                    "SZALLAS_ID": "20",
                                    "SZALLAS_NEV": "Kollégium",
                                    "HELY": "Budapest",
                                    "CSILLAGOK_SZAMA": "0",
                                    "TIPUS": "Diákszálló",
                                    "ROGZITETTE": "Sára",
                                    "ROGZ_IDO": "2016-04-07",
                                    "CIM": "1146 Budapest, Ajtósi Dürer sor 23."
                                },
                                {
                                    "SZALLAS_ID": "21",
                                    "SZALLAS_NEV": "Müller Vendégház",
                                    "HELY": "Dél-Somogy",
                                    "CSILLAGOK_SZAMA": "0",
                                    "TIPUS": "vendégház",
                                    "ROGZITETTE": "Béla",
                                    "ROGZ_IDO": "2016-04-07",
                                    "CIM": "7570 Barcs, Magyar u. 10."
                                }
                            ]
                        },
                        "text/html": [
                            "<table>",
                            "<tr><th>SZALLAS_ID</th><th>SZALLAS_NEV</th><th>HELY</th><th>CSILLAGOK_SZAMA</th><th>TIPUS</th><th>ROGZITETTE</th><th>ROGZ_IDO</th><th>CIM</th></tr>",
                            "<tr><td>1</td><td>Sába-Ház</td><td>Balaton-dél</td><td>0</td><td>vendégház</td><td>Béla</td><td>2016-02-28</td><td>8630 Balatonboglár, Radnóti Miklós utca 8</td></tr>",
                            "<tr><td>2</td><td>Családi Ház</td><td>Balaton-dél</td><td>0</td><td>vendégház</td><td>Béla</td><td>2016-03-02</td><td>8630 Balatonboglár, József Attila utca 25</td></tr>",
                            "<tr><td>3</td><td>Fortuna Apartman</td><td>Hajdúbihar megye</td><td>0</td><td>Apartman</td><td>Sára</td><td>2016-03-06</td><td>4200 Hajdúszoboszló, Wesselényi utca 56.</td></tr>",
                            "<tr><td>4</td><td>Fortuna panzió</td><td>Budapest</td><td>3</td><td>panzió</td><td>Béla</td><td>2016-03-07</td><td>1019 Budapest XIV. Cinkotai út 86.</td></tr>",
                            "<tr><td>5</td><td>Fortuna Panzió</td><td>Békés megye</td><td>3</td><td>panzió</td><td>Sára</td><td>2016-03-08</td><td>5900 Orosháza, Gyopárosfürdő Tópart utca 3.</td></tr>",
                            "<tr><td>6</td><td>Kentaur Hotel</td><td>Balaton-dél</td><td>3</td><td>Hotel</td><td>Béla</td><td>2016-03-08</td><td>8600 Siófok (Széplak), Akácfa utca 1</td></tr>",
                            "<tr><td>7</td><td>Szieszta Apartmanház</td><td>Balaton-dél</td><td>0</td><td>Apartman</td><td>Mari</td><td>2016-03-11</td><td>8630 Balatonboglár, Dózsa György utca 108</td></tr>",
                            "<tr><td>8</td><td>Hotel Három Hattyú</td><td>Balaton-dél</td><td>4</td><td>Hotel</td><td>Béla</td><td>2016-03-13</td><td>8623 Balatonföldvár, Rákóczi Ferenc út 45.</td></tr>",
                            "<tr><td>9</td><td>Jáde panzió</td><td>Balaton-dél</td><td>3</td><td>panzió</td><td>Mari</td><td>2016-03-16</td><td>8624 Balatonföldvár, Kiss u.2.</td></tr>",
                            "<tr><td>10</td><td>Lagúna Hotel</td><td>Budapest</td><td>4</td><td>Hotel</td><td>Sára</td><td>2016-03-20</td><td>1097 Budapest, Albert Flórián út 3</td></tr>",
                            "<tr><td>11</td><td>Partiszél Vendégház</td><td>Balaton-észak</td><td>0</td><td>vendégház</td><td>Béla</td><td>2016-03-22</td><td>8220 Balatonalmádi Neptun u. 23.</td></tr>",
                            "<tr><td>12</td><td>Gold Hotel</td><td>Budapest</td><td>3</td><td>Hotel</td><td>Béla</td><td>2016-03-24</td><td>1016 Budapest, Hegyalja út 12</td></tr>",
                            "<tr><td>13</td><td>Riviéra Panzió</td><td>Csongrád megye</td><td>3</td><td>panzió</td><td>Sára</td><td>2016-03-27</td><td>6722 Szeged, Petőfi Sándor út 3.</td></tr>",
                            "<tr><td>14</td><td>Nyárfás Vendégház</td><td>Csongrád megye</td><td>0</td><td>vendégház</td><td>Béla</td><td>2016-03-27</td><td>6723 Szeged, Nagy u. 12.</td></tr>",
                            "<tr><td>15</td><td>Tímárház Panzió</td><td>Balaton-dél</td><td>3</td><td>panzió</td><td>Béla</td><td>2016-03-29</td><td>8600 Siófok, Virág utca 1</td></tr>",
                            "<tr><td>16</td><td>Bagoly Hotel</td><td>Pest megye</td><td>3</td><td>Hotel</td><td>Mari</td><td>2016-04-01</td><td>2230 Gyömrő, Bergszász u. 5.</td></tr>",
                            "<tr><td>17</td><td>Szarvas Hotel</td><td>Tolna megye</td><td>4</td><td>Hotel</td><td>Béla</td><td>2016-04-04</td><td>7121 Szálka, Petőfi Sándor u.</td></tr>",
                            "<tr><td>18</td><td>Fortuna Apartman</td><td>Dél-Somogy</td><td>0</td><td>Apartman</td><td>Béla</td><td>2016-04-07</td><td>7570 Barcs, Kossuth u. 13.</td></tr>",
                            "<tr><td>19</td><td>Nyárfás Vendégház</td><td>Dél-Somogy</td><td>0</td><td>vendégház</td><td>Sára</td><td>2016-04-07</td><td>7570 Barcs, Bajcsy-Zs. u. 53</td></tr>",
                            "<tr><td>20</td><td>Kollégium</td><td>Budapest</td><td>0</td><td>Diákszálló</td><td>Sára</td><td>2016-04-07</td><td>1146 Budapest, Ajtósi Dürer sor 23.</td></tr>",
                            "<tr><td>21</td><td>Müller Vendégház</td><td>Dél-Somogy</td><td>0</td><td>vendégház</td><td>Béla</td><td>2016-04-07</td><td>7570 Barcs, Magyar u. 10.</td></tr>",
                            "</table>"
                        ]
                    }
                }
            ],
            "execution_count": 6
        },
        {
            "cell_type": "markdown",
            "source": [
                "1\\. Készítsünk listát az egyes szálláshelyek átlagos csillagszámáról típus, illetve hely szerint csoportosítva (külön-külön)!\n",
                "\n",
                "- Az átlag 2 tizedesre kerekítve jelenjen meg\n",
                "- Hagyjuk ki azokat a szálláshelyeket, amelyek nevében kötőjel (-) van!"
            ],
            "metadata": {
                "azdata_cell_guid": "212bd10e-c5e0-42a9-872e-92d8181f645b"
            },
            "attachments": {}
        },
        {
            "cell_type": "code",
            "source": [
                "SELECT SZALLAS_NEV, AVG(CSILLAGOK_SZAMA) AS 'Csillagok számának átlaga'\r\n",
                "FROM szallashely\r\n",
                "WHERE SZALLAS_NEV NOT LIKE '%-'\r\n",
                "GROUP BY GROUPING SETS((TIPUS), (HELY), (SZALLAS_NEV))"
            ],
            "metadata": {
                "azdata_cell_guid": "126ba0f9-ffa5-43dd-aae5-500649e6f961",
                "language": "sql",
                "tags": []
            },
            "outputs": [
                {
                    "output_type": "display_data",
                    "data": {
                        "text/html": "(32 rows affected)"
                    },
                    "metadata": {}
                },
                {
                    "output_type": "display_data",
                    "data": {
                        "text/html": "Total execution time: 00:00:00.026"
                    },
                    "metadata": {}
                },
                {
                    "output_type": "execute_result",
                    "metadata": {},
                    "execution_count": 8,
                    "data": {
                        "application/vnd.dataresource+json": {
                            "schema": {
                                "fields": [
                                    {
                                        "name": "SZALLAS_NEV"
                                    },
                                    {
                                        "name": "Csillagok számának átlaga"
                                    }
                                ]
                            },
                            "data": [
                                {
                                    "SZALLAS_NEV": "Bagoly Hotel",
                                    "Csillagok számának átlaga": "3"
                                },
                                {
                                    "SZALLAS_NEV": "Családi Ház",
                                    "Csillagok számának átlaga": "0"
                                },
                                {
                                    "SZALLAS_NEV": "Fortuna Apartman",
                                    "Csillagok számának átlaga": "0"
                                },
                                {
                                    "SZALLAS_NEV": "Fortuna panzió",
                                    "Csillagok számának átlaga": "3"
                                },
                                {
                                    "SZALLAS_NEV": "Gold Hotel",
                                    "Csillagok számának átlaga": "3"
                                },
                                {
                                    "SZALLAS_NEV": "Hotel Három Hattyú",
                                    "Csillagok számának átlaga": "4"
                                },
                                {
                                    "SZALLAS_NEV": "Jáde panzió",
                                    "Csillagok számának átlaga": "3"
                                },
                                {
                                    "SZALLAS_NEV": "Kentaur Hotel",
                                    "Csillagok számának átlaga": "3"
                                },
                                {
                                    "SZALLAS_NEV": "Kollégium",
                                    "Csillagok számának átlaga": "0"
                                },
                                {
                                    "SZALLAS_NEV": "Lagúna Hotel",
                                    "Csillagok számának átlaga": "4"
                                },
                                {
                                    "SZALLAS_NEV": "Müller Vendégház",
                                    "Csillagok számának átlaga": "0"
                                },
                                {
                                    "SZALLAS_NEV": "Nyárfás Vendégház",
                                    "Csillagok számának átlaga": "0"
                                },
                                {
                                    "SZALLAS_NEV": "Partiszél Vendégház",
                                    "Csillagok számának átlaga": "0"
                                },
                                {
                                    "SZALLAS_NEV": "Riviéra Panzió",
                                    "Csillagok számának átlaga": "3"
                                },
                                {
                                    "SZALLAS_NEV": "Sába-Ház",
                                    "Csillagok számának átlaga": "0"
                                },
                                {
                                    "SZALLAS_NEV": "Szarvas Hotel",
                                    "Csillagok számának átlaga": "4"
                                },
                                {
                                    "SZALLAS_NEV": "Szieszta Apartmanház",
                                    "Csillagok számának átlaga": "0"
                                },
                                {
                                    "SZALLAS_NEV": "Tímárház Panzió",
                                    "Csillagok számának átlaga": "3"
                                },
                                {
                                    "SZALLAS_NEV": "NULL",
                                    "Csillagok számának átlaga": "1"
                                },
                                {
                                    "SZALLAS_NEV": "NULL",
                                    "Csillagok számának átlaga": "0"
                                },
                                {
                                    "SZALLAS_NEV": "NULL",
                                    "Csillagok számának átlaga": "3"
                                },
                                {
                                    "SZALLAS_NEV": "NULL",
                                    "Csillagok számának átlaga": "2"
                                },
                                {
                                    "SZALLAS_NEV": "NULL",
                                    "Csillagok számának átlaga": "1"
                                },
                                {
                                    "SZALLAS_NEV": "NULL",
                                    "Csillagok számának átlaga": "0"
                                },
                                {
                                    "SZALLAS_NEV": "NULL",
                                    "Csillagok számának átlaga": "0"
                                },
                                {
                                    "SZALLAS_NEV": "NULL",
                                    "Csillagok számának átlaga": "3"
                                },
                                {
                                    "SZALLAS_NEV": "NULL",
                                    "Csillagok számának átlaga": "4"
                                },
                                {
                                    "SZALLAS_NEV": "NULL",
                                    "Csillagok számának átlaga": "0"
                                },
                                {
                                    "SZALLAS_NEV": "NULL",
                                    "Csillagok számának átlaga": "0"
                                },
                                {
                                    "SZALLAS_NEV": "NULL",
                                    "Csillagok számának átlaga": "3"
                                },
                                {
                                    "SZALLAS_NEV": "NULL",
                                    "Csillagok számának átlaga": "3"
                                },
                                {
                                    "SZALLAS_NEV": "NULL",
                                    "Csillagok számának átlaga": "0"
                                }
                            ]
                        },
                        "text/html": [
                            "<table>",
                            "<tr><th>SZALLAS_NEV</th><th>Csillagok számának átlaga</th></tr>",
                            "<tr><td>Bagoly Hotel</td><td>3</td></tr>",
                            "<tr><td>Családi Ház</td><td>0</td></tr>",
                            "<tr><td>Fortuna Apartman</td><td>0</td></tr>",
                            "<tr><td>Fortuna panzió</td><td>3</td></tr>",
                            "<tr><td>Gold Hotel</td><td>3</td></tr>",
                            "<tr><td>Hotel Három Hattyú</td><td>4</td></tr>",
                            "<tr><td>Jáde panzió</td><td>3</td></tr>",
                            "<tr><td>Kentaur Hotel</td><td>3</td></tr>",
                            "<tr><td>Kollégium</td><td>0</td></tr>",
                            "<tr><td>Lagúna Hotel</td><td>4</td></tr>",
                            "<tr><td>Müller Vendégház</td><td>0</td></tr>",
                            "<tr><td>Nyárfás Vendégház</td><td>0</td></tr>",
                            "<tr><td>Partiszél Vendégház</td><td>0</td></tr>",
                            "<tr><td>Riviéra Panzió</td><td>3</td></tr>",
                            "<tr><td>Sába-Ház</td><td>0</td></tr>",
                            "<tr><td>Szarvas Hotel</td><td>4</td></tr>",
                            "<tr><td>Szieszta Apartmanház</td><td>0</td></tr>",
                            "<tr><td>Tímárház Panzió</td><td>3</td></tr>",
                            "<tr><td>NULL</td><td>1</td></tr>",
                            "<tr><td>NULL</td><td>0</td></tr>",
                            "<tr><td>NULL</td><td>3</td></tr>",
                            "<tr><td>NULL</td><td>2</td></tr>",
                            "<tr><td>NULL</td><td>1</td></tr>",
                            "<tr><td>NULL</td><td>0</td></tr>",
                            "<tr><td>NULL</td><td>0</td></tr>",
                            "<tr><td>NULL</td><td>3</td></tr>",
                            "<tr><td>NULL</td><td>4</td></tr>",
                            "<tr><td>NULL</td><td>0</td></tr>",
                            "<tr><td>NULL</td><td>0</td></tr>",
                            "<tr><td>NULL</td><td>3</td></tr>",
                            "<tr><td>NULL</td><td>3</td></tr>",
                            "<tr><td>NULL</td><td>0</td></tr>",
                            "</table>"
                        ]
                    }
                }
            ],
            "execution_count": 8
        },
        {
            "cell_type": "markdown",
            "source": [
                "2\\. Rangsoroljuk az egyes szobákat a foglalások száma, azon belül férőhely szerint!\n",
                "\n",
                "- Holtverseny esetén a sorszámok sűrűn kövessék egymást\n",
                "- Az 1-es számot a legtöbbet foglalt, azon belül legkevesebb férőhelyű szoba kapja\n",
                "- Csak a szoba azonosítója, a férőhely és a helyezés jelenjen meg"
            ],
            "metadata": {
                "azdata_cell_guid": "c8c8df84-008c-4908-aa7d-5f0daaccdb0b"
            },
            "attachments": {}
        },
        {
            "cell_type": "code",
            "source": [
                "SELECT SZOBA_ID, FEROHELY, DENSE_RANK() OVER (PARTITION BY COUNT(SZOBA_ID) ORDER BY FEROHELY ASC) AS 'Rangsor'\r\n",
                "FROM Vendeg v LEFT JOIN Foglalas f ON NEV = f.UGYFEL_FK\r\n",
                "              LEFT JOIN Szoba sz ON f.SZOBA_FK = sz.SZOBA_ID\r\n",
                "              LEFT JOIN Szallashely szh ON sz.SZALLAS_FK = szh.SZALLAS_ID\r\n",
                "GROUP BY SZOBA_ID, FEROHELY\r\n",
                "ORDER BY 'Rangsor'"
            ],
            "metadata": {
                "azdata_cell_guid": "f4968fdf-26d8-4a13-b855-204d623142a8",
                "language": "sql",
                "tags": []
            },
            "outputs": [
                {
                    "output_type": "display_data",
                    "data": {
                        "text/html": "Warning: Null value is eliminated by an aggregate or other SET operation."
                    },
                    "metadata": {}
                },
                {
                    "output_type": "display_data",
                    "data": {
                        "text/html": "(1 row affected)"
                    },
                    "metadata": {}
                },
                {
                    "output_type": "display_data",
                    "data": {
                        "text/html": "Total execution time: 00:00:00.013"
                    },
                    "metadata": {}
                },
                {
                    "output_type": "execute_result",
                    "metadata": {},
                    "execution_count": 25,
                    "data": {
                        "application/vnd.dataresource+json": {
                            "schema": {
                                "fields": [
                                    {
                                        "name": "SZOBA_ID"
                                    },
                                    {
                                        "name": "FEROHELY"
                                    },
                                    {
                                        "name": "Rangsor"
                                    }
                                ]
                            },
                            "data": [
                                {
                                    "SZOBA_ID": "NULL",
                                    "FEROHELY": "NULL",
                                    "Rangsor": "1"
                                }
                            ]
                        },
                        "text/html": [
                            "<table>",
                            "<tr><th>SZOBA_ID</th><th>FEROHELY</th><th>Rangsor</th></tr>",
                            "<tr><td>NULL</td><td>NULL</td><td>1</td></tr>",
                            "</table>"
                        ]
                    }
                }
            ],
            "execution_count": 25
        },
        {
            "cell_type": "markdown",
            "source": [
                "3\\. Kérdezzük le az átlagosnál kevesebb főre történt foglalások adatait!\n",
                "\n",
                "a. Egy új oszlopban jelenjen meg az ügyfél neve is!\n",
                "\n",
                "b. Egy másik új oszlop mutassa meg, hogy az ügyfél előző három foglalása átlagosan hány főre történt! Az oszlop neve legyen 'Előző három foglalás átlaga'\n",
                "\n",
                "c. A listában azon vendégek is jelenjenek meg, akik még nem foglaltak!"
            ],
            "metadata": {
                "azdata_cell_guid": "206fb4c5-7a5b-4271-bd1a-2046b15b7a4b"
            },
            "attachments": {}
        },
        {
            "cell_type": "code",
            "source": [
                "SELECT  NEV,\r\n",
                "        AVG(FELNOTT_SZAM+GYERMEK_SZAM) AS 'Előző három foglalás átlaga'\r\n",
                "FROM Vendeg v LEFT JOIN Foglalas f ON NEV = f.UGYFEL_FK\r\n",
                "              LEFT JOIN Szoba sz ON f.SZOBA_FK = sz.SZOBA_ID\r\n",
                "              LEFT JOIN Szallashely szh ON sz.SZALLAS_FK = szh.SZALLAS_ID\r\n",
                "WHERE AVG(FELNOTT_SZAM+GYERMEK_SZAM) < ALL(\r\n",
                "    SELECT NEV\r\n",
                "    FROM szallashely\r\n",
                "\r\n",
                ")\r\n",
                "GROUP BY NEV"
            ],
            "metadata": {
                "azdata_cell_guid": "7977ab3e-191e-4aa0-9f7b-19e32f35a4df",
                "language": "sql",
                "tags": []
            },
            "outputs": [
                {
                    "output_type": "error",
                    "evalue": "Msg 147, Level 15, State 1, Line 6\r\nAn aggregate may not appear in the WHERE clause unless it is in a subquery contained in a HAVING clause or a select list, and the column being aggregated is an outer reference.",
                    "ename": "",
                    "traceback": []
                },
                {
                    "output_type": "display_data",
                    "data": {
                        "text/html": "Total execution time: 00:00:00.002"
                    },
                    "metadata": {}
                }
            ],
            "execution_count": 28
        }
    ]
}