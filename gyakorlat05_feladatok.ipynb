{
    "metadata": {
        "kernelspec": {
            "name": "SQL",
            "display_name": "SQL",
            "language": "sql"
        },
        "language_info": {
            "name": "sql",
            "version": ""
        }
    },
    "nbformat_minor": 2,
    "nbformat": 4,
    "cells": [
        {
            "cell_type": "markdown",
            "source": [
                "1. <span style=\"color: rgb(36, 41, 47); font-family: -apple-system, BlinkMacSystemFont, &quot;Segoe UI&quot;, Helvetica, Arial, sans-serif, &quot;Apple Color Emoji&quot;, &quot;Segoe UI Emoji&quot;; font-size: 16px;\">Készítsünk listát éves bontásban norbert2 azonosítójú ügyfél rendeléseinek értékéről!</span>\n",
                "\n",
                "1. A lista megfelelően jelölve tartalmazza a végösszeget is!"
            ],
            "metadata": {
                "azdata_cell_guid": "363cd270-6577-449b-9c89-d4b7c7972d52"
            },
            "attachments": {}
        },
        {
            "cell_type": "code",
            "source": [
                "SELECT  IIF(GROUPING_ID(YEAR(r.REND_DATUM)) = 1, 'Összesen', CAST(YEAR(r.REND_DATUM) as nvarchar(4))) AS 'Év',\r\n",
                "        SUM(rt.MENNYISEG*rt.EGYSEGAR) AS 'Rendelések értéke'\r\n",
                "FROM Rendeles r JOIN Rendeles_tetel rt ON r.SORSZAM = rt.SORSZAM\r\n",
                "WHERE [LOGIN] = 'norbert2'\r\n",
                "GROUP BY ROLLUP(YEAR(r.REND_DATUM))"
            ],
            "metadata": {
                "azdata_cell_guid": "6ab9f633-a3b5-48c9-a1dc-4fb8235ae85b",
                "language": "sql"
            },
            "outputs": [
                {
                    "output_type": "display_data",
                    "data": {
                        "text/html": "(3 rows affected)"
                    },
                    "metadata": {}
                },
                {
                    "output_type": "display_data",
                    "data": {
                        "text/html": "Total execution time: 00:00:00.033"
                    },
                    "metadata": {}
                },
                {
                    "output_type": "execute_result",
                    "metadata": {},
                    "execution_count": 6,
                    "data": {
                        "application/vnd.dataresource+json": {
                            "schema": {
                                "fields": [
                                    {
                                        "name": "Év"
                                    },
                                    {
                                        "name": "Rendelések értéke"
                                    }
                                ]
                            },
                            "data": [
                                {
                                    "Év": "2015",
                                    "Rendelések értéke": "483473"
                                },
                                {
                                    "Év": "2017",
                                    "Rendelések értéke": "614340"
                                },
                                {
                                    "Év": "Összesen",
                                    "Rendelések értéke": "1097813"
                                }
                            ]
                        },
                        "text/html": [
                            "<table>",
                            "<tr><th>Év</th><th>Rendelések értéke</th></tr>",
                            "<tr><td>2015</td><td>483473</td></tr>",
                            "<tr><td>2017</td><td>614340</td></tr>",
                            "<tr><td>Összesen</td><td>1097813</td></tr>",
                            "</table>"
                        ]
                    }
                }
            ],
            "execution_count": 6
        },
        {
            "cell_type": "markdown",
            "source": [
                "2. <span style=\"color: rgb(36, 41, 47); font-family: -apple-system, BlinkMacSystemFont, &quot;Segoe UI&quot;, Helvetica, Arial, sans-serif, &quot;Apple Color Emoji&quot;, &quot;Segoe UI Emoji&quot;; font-size: 16px;\">Készítsünk listát szállítási dátumonként, azon belül szállítási módonként az egyes rendelések összmennyiségéről!</span>\n",
                "\n",
                "1. Csak azokat a termékeket vegyük figyelembe, amelyek mennyiségi egysége db!\n",
                "2. A listát szűrjük úgy, hogy az csak a részösszeg sorokat és a végösszeget tartalmazza!"
            ],
            "metadata": {
                "azdata_cell_guid": "ea75c103-911f-41a3-a32c-3d40fb3e4e4a"
            },
            "attachments": {}
        },
        {
            "cell_type": "code",
            "source": [
                "SELECT r.SZALL_DATUM,\r\n",
                "        r.SZALL_MOD,\r\n",
                "        GROUPING_ID(r.SZALL_DATUM, r.SZALL_MOD) -- a groupingid-t a selectbe nem muszáj beírni\r\n",
                "FROM Rendeles r JOIN Rendeles_tetel rt ON r.SORSZAM = rt.SORSZAM\r\n",
                "                JOIN Termek t ON rt.TERMEKKOD = t.TERMEKKOD\r\n",
                "WHERE t.MEGYS = 'db'\r\n",
                "GROUP BY ROLLUP(r.SZALL_DATUM, r.SZALL_MOD)\r\n",
                "HAVING GROUPING_ID(r.SZALL_DATUM, r.SZALL_MOD) > 0 -- ha ez az érték nullánál nagyobb, akkor ott valalmilyen összegzés van"
            ],
            "metadata": {
                "azdata_cell_guid": "222b9618-a8e8-42b4-a8e8-d002257122b7",
                "language": "sql"
            },
            "outputs": [
                {
                    "output_type": "display_data",
                    "data": {
                        "text/html": "(711 rows affected)"
                    },
                    "metadata": {}
                },
                {
                    "output_type": "display_data",
                    "data": {
                        "text/html": "Total execution time: 00:00:00.350"
                    },
                    "metadata": {}
                },
                {
                    "output_type": "execute_result",
                    "metadata": {},
                    "execution_count": 8,
                    "data": {
                        "application/vnd.dataresource+json": {
                            "schema": {
                                "fields": [
                                    {
                                        "name": "SZALL_DATUM"
                                    },
                                    {
                                        "name": "SZALL_MOD"
                                    },
                                    {
                                        "name": "(No column name)"
                                    }
                                ]
                            },
                            "data": [
                                {
                                    "SZALL_DATUM": "2015-05-03",
                                    "SZALL_MOD": "NULL",
                                    "(No column name)": "1"
                                },
                                {
                                    "SZALL_DATUM": "2015-05-04",
                                    "SZALL_MOD": "NULL",
                                    "(No column name)": "1"
                                },
                                {
                                    "SZALL_DATUM": "2015-05-05",
                                    "SZALL_MOD": "NULL",
                                    "(No column name)": "1"
                                },
                                {
                                    "SZALL_DATUM": "2015-05-06",
                                    "SZALL_MOD": "NULL",
                                    "(No column name)": "1"
                                },
                                {
                                    "SZALL_DATUM": "2015-05-07",
                                    "SZALL_MOD": "NULL",
                                    "(No column name)": "1"
                                },
                                {
                                    "SZALL_DATUM": "2015-05-08",
                                    "SZALL_MOD": "NULL",
                                    "(No column name)": "1"
                                },
                                {
                                    "SZALL_DATUM": "2015-05-09",
                                    "SZALL_MOD": "NULL",
                                    "(No column name)": "1"
                                },
                                {
                                    "SZALL_DATUM": "2015-05-10",
                                    "SZALL_MOD": "NULL",
                                    "(No column name)": "1"
                                },
                                {
                                    "SZALL_DATUM": "2015-05-11",
                                    "SZALL_MOD": "NULL",
                                    "(No column name)": "1"
                                },
                                {
                                    "SZALL_DATUM": "2015-05-12",
                                    "SZALL_MOD": "NULL",
                                    "(No column name)": "1"
                                },
                                {
                                    "SZALL_DATUM": "2015-05-13",
                                    "SZALL_MOD": "NULL",
                                    "(No column name)": "1"
                                },
                                {
                                    "SZALL_DATUM": "2015-05-14",
                                    "SZALL_MOD": "NULL",
                                    "(No column name)": "1"
                                },
                                {
                                    "SZALL_DATUM": "2015-05-15",
                                    "SZALL_MOD": "NULL",
                                    "(No column name)": "1"
                                },
                                {
                                    "SZALL_DATUM": "2015-05-16",
                                    "SZALL_MOD": "NULL",
                                    "(No column name)": "1"
                                },
                                {
                                    "SZALL_DATUM": "2015-05-17",
                                    "SZALL_MOD": "NULL",
                                    "(No column name)": "1"
                                },
                                {
                                    "SZALL_DATUM": "2015-05-18",
                                    "SZALL_MOD": "NULL",
                                    "(No column name)": "1"
                                },
                                {
                                    "SZALL_DATUM": "2015-05-19",
                                    "SZALL_MOD": "NULL",
                                    "(No column name)": "1"
                                },
                                {
                                    "SZALL_DATUM": "2015-05-20",
                                    "SZALL_MOD": "NULL",
                                    "(No column name)": "1"
                                },
                                {
                                    "SZALL_DATUM": "2015-05-21",
                                    "SZALL_MOD": "NULL",
                                    "(No column name)": "1"
                                },
                                {
                                    "SZALL_DATUM": "2015-05-22",
                                    "SZALL_MOD": "NULL",
                                    "(No column name)": "1"
                                },
                                {
                                    "SZALL_DATUM": "2015-05-23",
                                    "SZALL_MOD": "NULL",
                                    "(No column name)": "1"
                                },
                                {
                                    "SZALL_DATUM": "2015-05-24",
                                    "SZALL_MOD": "NULL",
                                    "(No column name)": "1"
                                },
                                {
                                    "SZALL_DATUM": "2015-05-25",
                                    "SZALL_MOD": "NULL",
                                    "(No column name)": "1"
                                },
                                {
                                    "SZALL_DATUM": "2015-05-26",
                                    "SZALL_MOD": "NULL",
                                    "(No column name)": "1"
                                },
                                {
                                    "SZALL_DATUM": "2015-05-27",
                                    "SZALL_MOD": "NULL",
                                    "(No column name)": "1"
                                },
                                {
                                    "SZALL_DATUM": "2015-05-28",
                                    "SZALL_MOD": "NULL",
                                    "(No column name)": "1"
                                },
                                {
                                    "SZALL_DATUM": "2015-05-29",
                                    "SZALL_MOD": "NULL",
                                    "(No column name)": "1"
                                },
                                {
                                    "SZALL_DATUM": "2015-05-30",
                                    "SZALL_MOD": "NULL",
                                    "(No column name)": "1"
                                },
                                {
                                    "SZALL_DATUM": "2015-05-31",
                                    "SZALL_MOD": "NULL",
                                    "(No column name)": "1"
                                },
                                {
                                    "SZALL_DATUM": "2015-06-01",
                                    "SZALL_MOD": "NULL",
                                    "(No column name)": "1"
                                },
                                {
                                    "SZALL_DATUM": "2015-06-02",
                                    "SZALL_MOD": "NULL",
                                    "(No column name)": "1"
                                },
                                {
                                    "SZALL_DATUM": "2015-06-03",
                                    "SZALL_MOD": "NULL",
                                    "(No column name)": "1"
                                },
                                {
                                    "SZALL_DATUM": "2015-06-04",
                                    "SZALL_MOD": "NULL",
                                    "(No column name)": "1"
                                },
                                {
                                    "SZALL_DATUM": "2015-06-05",
                                    "SZALL_MOD": "NULL",
                                    "(No column name)": "1"
                                },
                                {
                                    "SZALL_DATUM": "2015-06-06",
                                    "SZALL_MOD": "NULL",
                                    "(No column name)": "1"
                                },
                                {
                                    "SZALL_DATUM": "2015-06-07",
                                    "SZALL_MOD": "NULL",
                                    "(No column name)": "1"
                                },
                                {
                                    "SZALL_DATUM": "2015-06-08",
                                    "SZALL_MOD": "NULL",
                                    "(No column name)": "1"
                                },
                                {
                                    "SZALL_DATUM": "2015-06-09",
                                    "SZALL_MOD": "NULL",
                                    "(No column name)": "1"
                                },
                                {
                                    "SZALL_DATUM": "2015-06-10",
                                    "SZALL_MOD": "NULL",
                                    "(No column name)": "1"
                                },
                                {
                                    "SZALL_DATUM": "2015-06-11",
                                    "SZALL_MOD": "NULL",
                                    "(No column name)": "1"
                                },
                                {
                                    "SZALL_DATUM": "2015-06-12",
                                    "SZALL_MOD": "NULL",
                                    "(No column name)": "1"
                                },
                                {
                                    "SZALL_DATUM": "2015-06-13",
                                    "SZALL_MOD": "NULL",
                                    "(No column name)": "1"
                                },
                                {
                                    "SZALL_DATUM": "2015-06-14",
                                    "SZALL_MOD": "NULL",
                                    "(No column name)": "1"
                                },
                                {
                                    "SZALL_DATUM": "2015-06-15",
                                    "SZALL_MOD": "NULL",
                                    "(No column name)": "1"
                                },
                                {
                                    "SZALL_DATUM": "2015-06-16",
                                    "SZALL_MOD": "NULL",
                                    "(No column name)": "1"
                                },
                                {
                                    "SZALL_DATUM": "2015-06-17",
                                    "SZALL_MOD": "NULL",
                                    "(No column name)": "1"
                                },
                                {
                                    "SZALL_DATUM": "2015-06-18",
                                    "SZALL_MOD": "NULL",
                                    "(No column name)": "1"
                                },
                                {
                                    "SZALL_DATUM": "2015-06-19",
                                    "SZALL_MOD": "NULL",
                                    "(No column name)": "1"
                                },
                                {
                                    "SZALL_DATUM": "2015-06-20",
                                    "SZALL_MOD": "NULL",
                                    "(No column name)": "1"
                                },
                                {
                                    "SZALL_DATUM": "2015-06-21",
                                    "SZALL_MOD": "NULL",
                                    "(No column name)": "1"
                                },
                                {
                                    "SZALL_DATUM": "2015-06-22",
                                    "SZALL_MOD": "NULL",
                                    "(No column name)": "1"
                                },
                                {
                                    "SZALL_DATUM": "2015-06-23",
                                    "SZALL_MOD": "NULL",
                                    "(No column name)": "1"
                                },
                                {
                                    "SZALL_DATUM": "2015-06-24",
                                    "SZALL_MOD": "NULL",
                                    "(No column name)": "1"
                                },
                                {
                                    "SZALL_DATUM": "2015-06-25",
                                    "SZALL_MOD": "NULL",
                                    "(No column name)": "1"
                                },
                                {
                                    "SZALL_DATUM": "2015-06-26",
                                    "SZALL_MOD": "NULL",
                                    "(No column name)": "1"
                                },
                                {
                                    "SZALL_DATUM": "2015-06-27",
                                    "SZALL_MOD": "NULL",
                                    "(No column name)": "1"
                                },
                                {
                                    "SZALL_DATUM": "2015-06-28",
                                    "SZALL_MOD": "NULL",
                                    "(No column name)": "1"
                                },
                                {
                                    "SZALL_DATUM": "2015-06-29",
                                    "SZALL_MOD": "NULL",
                                    "(No column name)": "1"
                                },
                                {
                                    "SZALL_DATUM": "2015-06-30",
                                    "SZALL_MOD": "NULL",
                                    "(No column name)": "1"
                                },
                                {
                                    "SZALL_DATUM": "2015-07-01",
                                    "SZALL_MOD": "NULL",
                                    "(No column name)": "1"
                                },
                                {
                                    "SZALL_DATUM": "2015-07-02",
                                    "SZALL_MOD": "NULL",
                                    "(No column name)": "1"
                                },
                                {
                                    "SZALL_DATUM": "2015-07-03",
                                    "SZALL_MOD": "NULL",
                                    "(No column name)": "1"
                                },
                                {
                                    "SZALL_DATUM": "2015-07-04",
                                    "SZALL_MOD": "NULL",
                                    "(No column name)": "1"
                                },
                                {
                                    "SZALL_DATUM": "2015-07-05",
                                    "SZALL_MOD": "NULL",
                                    "(No column name)": "1"
                                },
                                {
                                    "SZALL_DATUM": "2015-07-06",
                                    "SZALL_MOD": "NULL",
                                    "(No column name)": "1"
                                },
                                {
                                    "SZALL_DATUM": "2015-07-07",
                                    "SZALL_MOD": "NULL",
                                    "(No column name)": "1"
                                },
                                {
                                    "SZALL_DATUM": "2015-07-08",
                                    "SZALL_MOD": "NULL",
                                    "(No column name)": "1"
                                },
                                {
                                    "SZALL_DATUM": "2015-07-09",
                                    "SZALL_MOD": "NULL",
                                    "(No column name)": "1"
                                },
                                {
                                    "SZALL_DATUM": "2015-07-10",
                                    "SZALL_MOD": "NULL",
                                    "(No column name)": "1"
                                },
                                {
                                    "SZALL_DATUM": "2015-07-11",
                                    "SZALL_MOD": "NULL",
                                    "(No column name)": "1"
                                },
                                {
                                    "SZALL_DATUM": "2015-07-12",
                                    "SZALL_MOD": "NULL",
                                    "(No column name)": "1"
                                },
                                {
                                    "SZALL_DATUM": "2015-07-13",
                                    "SZALL_MOD": "NULL",
                                    "(No column name)": "1"
                                },
                                {
                                    "SZALL_DATUM": "2015-07-14",
                                    "SZALL_MOD": "NULL",
                                    "(No column name)": "1"
                                },
                                {
                                    "SZALL_DATUM": "2015-07-15",
                                    "SZALL_MOD": "NULL",
                                    "(No column name)": "1"
                                },
                                {
                                    "SZALL_DATUM": "2015-07-16",
                                    "SZALL_MOD": "NULL",
                                    "(No column name)": "1"
                                },
                                {
                                    "SZALL_DATUM": "2015-07-17",
                                    "SZALL_MOD": "NULL",
                                    "(No column name)": "1"
                                },
                                {
                                    "SZALL_DATUM": "2015-07-18",
                                    "SZALL_MOD": "NULL",
                                    "(No column name)": "1"
                                },
                                {
                                    "SZALL_DATUM": "2015-07-19",
                                    "SZALL_MOD": "NULL",
                                    "(No column name)": "1"
                                },
                                {
                                    "SZALL_DATUM": "2015-07-20",
                                    "SZALL_MOD": "NULL",
                                    "(No column name)": "1"
                                },
                                {
                                    "SZALL_DATUM": "2015-07-21",
                                    "SZALL_MOD": "NULL",
                                    "(No column name)": "1"
                                },
                                {
                                    "SZALL_DATUM": "2015-07-22",
                                    "SZALL_MOD": "NULL",
                                    "(No column name)": "1"
                                },
                                {
                                    "SZALL_DATUM": "2015-07-23",
                                    "SZALL_MOD": "NULL",
                                    "(No column name)": "1"
                                },
                                {
                                    "SZALL_DATUM": "2015-07-24",
                                    "SZALL_MOD": "NULL",
                                    "(No column name)": "1"
                                },
                                {
                                    "SZALL_DATUM": "2015-07-25",
                                    "SZALL_MOD": "NULL",
                                    "(No column name)": "1"
                                },
                                {
                                    "SZALL_DATUM": "2015-07-26",
                                    "SZALL_MOD": "NULL",
                                    "(No column name)": "1"
                                },
                                {
                                    "SZALL_DATUM": "2015-07-27",
                                    "SZALL_MOD": "NULL",
                                    "(No column name)": "1"
                                },
                                {
                                    "SZALL_DATUM": "2015-07-28",
                                    "SZALL_MOD": "NULL",
                                    "(No column name)": "1"
                                },
                                {
                                    "SZALL_DATUM": "2015-07-29",
                                    "SZALL_MOD": "NULL",
                                    "(No column name)": "1"
                                },
                                {
                                    "SZALL_DATUM": "2015-07-30",
                                    "SZALL_MOD": "NULL",
                                    "(No column name)": "1"
                                },
                                {
                                    "SZALL_DATUM": "2015-07-31",
                                    "SZALL_MOD": "NULL",
                                    "(No column name)": "1"
                                },
                                {
                                    "SZALL_DATUM": "2015-08-01",
                                    "SZALL_MOD": "NULL",
                                    "(No column name)": "1"
                                },
                                {
                                    "SZALL_DATUM": "2015-08-02",
                                    "SZALL_MOD": "NULL",
                                    "(No column name)": "1"
                                },
                                {
                                    "SZALL_DATUM": "2015-08-03",
                                    "SZALL_MOD": "NULL",
                                    "(No column name)": "1"
                                },
                                {
                                    "SZALL_DATUM": "2015-08-04",
                                    "SZALL_MOD": "NULL",
                                    "(No column name)": "1"
                                },
                                {
                                    "SZALL_DATUM": "2015-08-05",
                                    "SZALL_MOD": "NULL",
                                    "(No column name)": "1"
                                },
                                {
                                    "SZALL_DATUM": "2015-08-06",
                                    "SZALL_MOD": "NULL",
                                    "(No column name)": "1"
                                },
                                {
                                    "SZALL_DATUM": "2015-08-07",
                                    "SZALL_MOD": "NULL",
                                    "(No column name)": "1"
                                },
                                {
                                    "SZALL_DATUM": "2015-08-08",
                                    "SZALL_MOD": "NULL",
                                    "(No column name)": "1"
                                },
                                {
                                    "SZALL_DATUM": "2015-08-09",
                                    "SZALL_MOD": "NULL",
                                    "(No column name)": "1"
                                },
                                {
                                    "SZALL_DATUM": "2015-08-10",
                                    "SZALL_MOD": "NULL",
                                    "(No column name)": "1"
                                },
                                {
                                    "SZALL_DATUM": "2015-08-11",
                                    "SZALL_MOD": "NULL",
                                    "(No column name)": "1"
                                },
                                {
                                    "SZALL_DATUM": "2015-08-12",
                                    "SZALL_MOD": "NULL",
                                    "(No column name)": "1"
                                },
                                {
                                    "SZALL_DATUM": "2015-08-13",
                                    "SZALL_MOD": "NULL",
                                    "(No column name)": "1"
                                },
                                {
                                    "SZALL_DATUM": "2015-08-14",
                                    "SZALL_MOD": "NULL",
                                    "(No column name)": "1"
                                },
                                {
                                    "SZALL_DATUM": "2015-08-15",
                                    "SZALL_MOD": "NULL",
                                    "(No column name)": "1"
                                },
                                {
                                    "SZALL_DATUM": "2015-08-16",
                                    "SZALL_MOD": "NULL",
                                    "(No column name)": "1"
                                },
                                {
                                    "SZALL_DATUM": "2015-08-17",
                                    "SZALL_MOD": "NULL",
                                    "(No column name)": "1"
                                },
                                {
                                    "SZALL_DATUM": "2015-08-18",
                                    "SZALL_MOD": "NULL",
                                    "(No column name)": "1"
                                },
                                {
                                    "SZALL_DATUM": "2015-08-19",
                                    "SZALL_MOD": "NULL",
                                    "(No column name)": "1"
                                },
                                {
                                    "SZALL_DATUM": "2015-08-20",
                                    "SZALL_MOD": "NULL",
                                    "(No column name)": "1"
                                },
                                {
                                    "SZALL_DATUM": "2015-08-21",
                                    "SZALL_MOD": "NULL",
                                    "(No column name)": "1"
                                },
                                {
                                    "SZALL_DATUM": "2015-08-22",
                                    "SZALL_MOD": "NULL",
                                    "(No column name)": "1"
                                },
                                {
                                    "SZALL_DATUM": "2015-08-23",
                                    "SZALL_MOD": "NULL",
                                    "(No column name)": "1"
                                },
                                {
                                    "SZALL_DATUM": "2015-08-24",
                                    "SZALL_MOD": "NULL",
                                    "(No column name)": "1"
                                },
                                {
                                    "SZALL_DATUM": "2015-08-25",
                                    "SZALL_MOD": "NULL",
                                    "(No column name)": "1"
                                },
                                {
                                    "SZALL_DATUM": "2015-08-26",
                                    "SZALL_MOD": "NULL",
                                    "(No column name)": "1"
                                },
                                {
                                    "SZALL_DATUM": "2015-08-27",
                                    "SZALL_MOD": "NULL",
                                    "(No column name)": "1"
                                },
                                {
                                    "SZALL_DATUM": "2015-08-28",
                                    "SZALL_MOD": "NULL",
                                    "(No column name)": "1"
                                },
                                {
                                    "SZALL_DATUM": "2015-08-29",
                                    "SZALL_MOD": "NULL",
                                    "(No column name)": "1"
                                },
                                {
                                    "SZALL_DATUM": "2015-08-30",
                                    "SZALL_MOD": "NULL",
                                    "(No column name)": "1"
                                },
                                {
                                    "SZALL_DATUM": "2015-08-31",
                                    "SZALL_MOD": "NULL",
                                    "(No column name)": "1"
                                },
                                {
                                    "SZALL_DATUM": "2015-09-01",
                                    "SZALL_MOD": "NULL",
                                    "(No column name)": "1"
                                },
                                {
                                    "SZALL_DATUM": "2015-09-02",
                                    "SZALL_MOD": "NULL",
                                    "(No column name)": "1"
                                },
                                {
                                    "SZALL_DATUM": "2015-09-03",
                                    "SZALL_MOD": "NULL",
                                    "(No column name)": "1"
                                },
                                {
                                    "SZALL_DATUM": "2015-09-04",
                                    "SZALL_MOD": "NULL",
                                    "(No column name)": "1"
                                },
                                {
                                    "SZALL_DATUM": "2015-09-05",
                                    "SZALL_MOD": "NULL",
                                    "(No column name)": "1"
                                },
                                {
                                    "SZALL_DATUM": "2015-09-06",
                                    "SZALL_MOD": "NULL",
                                    "(No column name)": "1"
                                },
                                {
                                    "SZALL_DATUM": "2015-09-07",
                                    "SZALL_MOD": "NULL",
                                    "(No column name)": "1"
                                },
                                {
                                    "SZALL_DATUM": "2015-09-08",
                                    "SZALL_MOD": "NULL",
                                    "(No column name)": "1"
                                },
                                {
                                    "SZALL_DATUM": "2015-09-09",
                                    "SZALL_MOD": "NULL",
                                    "(No column name)": "1"
                                },
                                {
                                    "SZALL_DATUM": "2015-09-10",
                                    "SZALL_MOD": "NULL",
                                    "(No column name)": "1"
                                },
                                {
                                    "SZALL_DATUM": "2015-09-11",
                                    "SZALL_MOD": "NULL",
                                    "(No column name)": "1"
                                },
                                {
                                    "SZALL_DATUM": "2015-09-12",
                                    "SZALL_MOD": "NULL",
                                    "(No column name)": "1"
                                },
                                {
                                    "SZALL_DATUM": "2015-09-13",
                                    "SZALL_MOD": "NULL",
                                    "(No column name)": "1"
                                },
                                {
                                    "SZALL_DATUM": "2015-09-14",
                                    "SZALL_MOD": "NULL",
                                    "(No column name)": "1"
                                },
                                {
                                    "SZALL_DATUM": "2015-09-15",
                                    "SZALL_MOD": "NULL",
                                    "(No column name)": "1"
                                },
                                {
                                    "SZALL_DATUM": "2015-09-16",
                                    "SZALL_MOD": "NULL",
                                    "(No column name)": "1"
                                },
                                {
                                    "SZALL_DATUM": "2015-09-17",
                                    "SZALL_MOD": "NULL",
                                    "(No column name)": "1"
                                },
                                {
                                    "SZALL_DATUM": "2015-09-18",
                                    "SZALL_MOD": "NULL",
                                    "(No column name)": "1"
                                },
                                {
                                    "SZALL_DATUM": "2015-09-19",
                                    "SZALL_MOD": "NULL",
                                    "(No column name)": "1"
                                },
                                {
                                    "SZALL_DATUM": "2015-09-20",
                                    "SZALL_MOD": "NULL",
                                    "(No column name)": "1"
                                },
                                {
                                    "SZALL_DATUM": "2015-09-21",
                                    "SZALL_MOD": "NULL",
                                    "(No column name)": "1"
                                },
                                {
                                    "SZALL_DATUM": "2015-09-22",
                                    "SZALL_MOD": "NULL",
                                    "(No column name)": "1"
                                },
                                {
                                    "SZALL_DATUM": "2015-09-23",
                                    "SZALL_MOD": "NULL",
                                    "(No column name)": "1"
                                },
                                {
                                    "SZALL_DATUM": "2015-09-24",
                                    "SZALL_MOD": "NULL",
                                    "(No column name)": "1"
                                },
                                {
                                    "SZALL_DATUM": "2015-09-25",
                                    "SZALL_MOD": "NULL",
                                    "(No column name)": "1"
                                },
                                {
                                    "SZALL_DATUM": "2015-09-26",
                                    "SZALL_MOD": "NULL",
                                    "(No column name)": "1"
                                },
                                {
                                    "SZALL_DATUM": "2015-09-27",
                                    "SZALL_MOD": "NULL",
                                    "(No column name)": "1"
                                },
                                {
                                    "SZALL_DATUM": "2015-09-28",
                                    "SZALL_MOD": "NULL",
                                    "(No column name)": "1"
                                },
                                {
                                    "SZALL_DATUM": "2015-09-29",
                                    "SZALL_MOD": "NULL",
                                    "(No column name)": "1"
                                },
                                {
                                    "SZALL_DATUM": "2015-09-30",
                                    "SZALL_MOD": "NULL",
                                    "(No column name)": "1"
                                },
                                {
                                    "SZALL_DATUM": "2015-10-01",
                                    "SZALL_MOD": "NULL",
                                    "(No column name)": "1"
                                },
                                {
                                    "SZALL_DATUM": "2015-10-02",
                                    "SZALL_MOD": "NULL",
                                    "(No column name)": "1"
                                },
                                {
                                    "SZALL_DATUM": "2015-10-03",
                                    "SZALL_MOD": "NULL",
                                    "(No column name)": "1"
                                },
                                {
                                    "SZALL_DATUM": "2015-10-04",
                                    "SZALL_MOD": "NULL",
                                    "(No column name)": "1"
                                },
                                {
                                    "SZALL_DATUM": "2015-10-05",
                                    "SZALL_MOD": "NULL",
                                    "(No column name)": "1"
                                },
                                {
                                    "SZALL_DATUM": "2015-10-06",
                                    "SZALL_MOD": "NULL",
                                    "(No column name)": "1"
                                },
                                {
                                    "SZALL_DATUM": "2015-10-07",
                                    "SZALL_MOD": "NULL",
                                    "(No column name)": "1"
                                },
                                {
                                    "SZALL_DATUM": "2015-10-08",
                                    "SZALL_MOD": "NULL",
                                    "(No column name)": "1"
                                },
                                {
                                    "SZALL_DATUM": "2015-10-09",
                                    "SZALL_MOD": "NULL",
                                    "(No column name)": "1"
                                },
                                {
                                    "SZALL_DATUM": "2015-10-10",
                                    "SZALL_MOD": "NULL",
                                    "(No column name)": "1"
                                },
                                {
                                    "SZALL_DATUM": "2015-10-11",
                                    "SZALL_MOD": "NULL",
                                    "(No column name)": "1"
                                },
                                {
                                    "SZALL_DATUM": "2015-10-12",
                                    "SZALL_MOD": "NULL",
                                    "(No column name)": "1"
                                },
                                {
                                    "SZALL_DATUM": "2015-10-13",
                                    "SZALL_MOD": "NULL",
                                    "(No column name)": "1"
                                },
                                {
                                    "SZALL_DATUM": "2015-10-14",
                                    "SZALL_MOD": "NULL",
                                    "(No column name)": "1"
                                },
                                {
                                    "SZALL_DATUM": "2015-10-15",
                                    "SZALL_MOD": "NULL",
                                    "(No column name)": "1"
                                },
                                {
                                    "SZALL_DATUM": "2015-10-16",
                                    "SZALL_MOD": "NULL",
                                    "(No column name)": "1"
                                },
                                {
                                    "SZALL_DATUM": "2015-10-17",
                                    "SZALL_MOD": "NULL",
                                    "(No column name)": "1"
                                },
                                {
                                    "SZALL_DATUM": "2015-10-18",
                                    "SZALL_MOD": "NULL",
                                    "(No column name)": "1"
                                },
                                {
                                    "SZALL_DATUM": "2015-10-19",
                                    "SZALL_MOD": "NULL",
                                    "(No column name)": "1"
                                },
                                {
                                    "SZALL_DATUM": "2015-10-20",
                                    "SZALL_MOD": "NULL",
                                    "(No column name)": "1"
                                },
                                {
                                    "SZALL_DATUM": "2015-10-21",
                                    "SZALL_MOD": "NULL",
                                    "(No column name)": "1"
                                },
                                {
                                    "SZALL_DATUM": "2015-10-22",
                                    "SZALL_MOD": "NULL",
                                    "(No column name)": "1"
                                },
                                {
                                    "SZALL_DATUM": "2015-10-23",
                                    "SZALL_MOD": "NULL",
                                    "(No column name)": "1"
                                },
                                {
                                    "SZALL_DATUM": "2015-10-24",
                                    "SZALL_MOD": "NULL",
                                    "(No column name)": "1"
                                },
                                {
                                    "SZALL_DATUM": "2015-10-25",
                                    "SZALL_MOD": "NULL",
                                    "(No column name)": "1"
                                },
                                {
                                    "SZALL_DATUM": "2015-10-26",
                                    "SZALL_MOD": "NULL",
                                    "(No column name)": "1"
                                },
                                {
                                    "SZALL_DATUM": "2015-10-27",
                                    "SZALL_MOD": "NULL",
                                    "(No column name)": "1"
                                },
                                {
                                    "SZALL_DATUM": "2015-10-28",
                                    "SZALL_MOD": "NULL",
                                    "(No column name)": "1"
                                },
                                {
                                    "SZALL_DATUM": "2015-10-29",
                                    "SZALL_MOD": "NULL",
                                    "(No column name)": "1"
                                },
                                {
                                    "SZALL_DATUM": "2015-10-30",
                                    "SZALL_MOD": "NULL",
                                    "(No column name)": "1"
                                },
                                {
                                    "SZALL_DATUM": "2015-10-31",
                                    "SZALL_MOD": "NULL",
                                    "(No column name)": "1"
                                },
                                {
                                    "SZALL_DATUM": "2015-11-01",
                                    "SZALL_MOD": "NULL",
                                    "(No column name)": "1"
                                },
                                {
                                    "SZALL_DATUM": "2015-11-02",
                                    "SZALL_MOD": "NULL",
                                    "(No column name)": "1"
                                },
                                {
                                    "SZALL_DATUM": "2015-11-03",
                                    "SZALL_MOD": "NULL",
                                    "(No column name)": "1"
                                },
                                {
                                    "SZALL_DATUM": "2015-11-04",
                                    "SZALL_MOD": "NULL",
                                    "(No column name)": "1"
                                },
                                {
                                    "SZALL_DATUM": "2015-11-05",
                                    "SZALL_MOD": "NULL",
                                    "(No column name)": "1"
                                },
                                {
                                    "SZALL_DATUM": "2015-11-06",
                                    "SZALL_MOD": "NULL",
                                    "(No column name)": "1"
                                },
                                {
                                    "SZALL_DATUM": "2015-11-07",
                                    "SZALL_MOD": "NULL",
                                    "(No column name)": "1"
                                },
                                {
                                    "SZALL_DATUM": "2015-11-08",
                                    "SZALL_MOD": "NULL",
                                    "(No column name)": "1"
                                },
                                {
                                    "SZALL_DATUM": "2015-11-09",
                                    "SZALL_MOD": "NULL",
                                    "(No column name)": "1"
                                },
                                {
                                    "SZALL_DATUM": "2015-11-10",
                                    "SZALL_MOD": "NULL",
                                    "(No column name)": "1"
                                },
                                {
                                    "SZALL_DATUM": "2015-11-11",
                                    "SZALL_MOD": "NULL",
                                    "(No column name)": "1"
                                },
                                {
                                    "SZALL_DATUM": "2015-11-12",
                                    "SZALL_MOD": "NULL",
                                    "(No column name)": "1"
                                },
                                {
                                    "SZALL_DATUM": "2015-11-13",
                                    "SZALL_MOD": "NULL",
                                    "(No column name)": "1"
                                },
                                {
                                    "SZALL_DATUM": "2015-11-14",
                                    "SZALL_MOD": "NULL",
                                    "(No column name)": "1"
                                },
                                {
                                    "SZALL_DATUM": "2015-11-15",
                                    "SZALL_MOD": "NULL",
                                    "(No column name)": "1"
                                },
                                {
                                    "SZALL_DATUM": "2015-11-16",
                                    "SZALL_MOD": "NULL",
                                    "(No column name)": "1"
                                },
                                {
                                    "SZALL_DATUM": "2015-11-17",
                                    "SZALL_MOD": "NULL",
                                    "(No column name)": "1"
                                },
                                {
                                    "SZALL_DATUM": "2015-11-18",
                                    "SZALL_MOD": "NULL",
                                    "(No column name)": "1"
                                },
                                {
                                    "SZALL_DATUM": "2015-11-19",
                                    "SZALL_MOD": "NULL",
                                    "(No column name)": "1"
                                },
                                {
                                    "SZALL_DATUM": "2015-11-20",
                                    "SZALL_MOD": "NULL",
                                    "(No column name)": "1"
                                },
                                {
                                    "SZALL_DATUM": "2015-11-21",
                                    "SZALL_MOD": "NULL",
                                    "(No column name)": "1"
                                },
                                {
                                    "SZALL_DATUM": "2015-11-22",
                                    "SZALL_MOD": "NULL",
                                    "(No column name)": "1"
                                },
                                {
                                    "SZALL_DATUM": "2015-11-23",
                                    "SZALL_MOD": "NULL",
                                    "(No column name)": "1"
                                },
                                {
                                    "SZALL_DATUM": "2015-11-24",
                                    "SZALL_MOD": "NULL",
                                    "(No column name)": "1"
                                },
                                {
                                    "SZALL_DATUM": "2015-11-25",
                                    "SZALL_MOD": "NULL",
                                    "(No column name)": "1"
                                },
                                {
                                    "SZALL_DATUM": "2015-11-26",
                                    "SZALL_MOD": "NULL",
                                    "(No column name)": "1"
                                },
                                {
                                    "SZALL_DATUM": "2015-11-27",
                                    "SZALL_MOD": "NULL",
                                    "(No column name)": "1"
                                },
                                {
                                    "SZALL_DATUM": "2015-11-28",
                                    "SZALL_MOD": "NULL",
                                    "(No column name)": "1"
                                },
                                {
                                    "SZALL_DATUM": "2015-11-29",
                                    "SZALL_MOD": "NULL",
                                    "(No column name)": "1"
                                },
                                {
                                    "SZALL_DATUM": "2015-11-30",
                                    "SZALL_MOD": "NULL",
                                    "(No column name)": "1"
                                },
                                {
                                    "SZALL_DATUM": "2015-12-01",
                                    "SZALL_MOD": "NULL",
                                    "(No column name)": "1"
                                },
                                {
                                    "SZALL_DATUM": "2015-12-02",
                                    "SZALL_MOD": "NULL",
                                    "(No column name)": "1"
                                },
                                {
                                    "SZALL_DATUM": "2015-12-03",
                                    "SZALL_MOD": "NULL",
                                    "(No column name)": "1"
                                },
                                {
                                    "SZALL_DATUM": "2015-12-04",
                                    "SZALL_MOD": "NULL",
                                    "(No column name)": "1"
                                },
                                {
                                    "SZALL_DATUM": "2015-12-05",
                                    "SZALL_MOD": "NULL",
                                    "(No column name)": "1"
                                },
                                {
                                    "SZALL_DATUM": "2015-12-06",
                                    "SZALL_MOD": "NULL",
                                    "(No column name)": "1"
                                },
                                {
                                    "SZALL_DATUM": "2015-12-07",
                                    "SZALL_MOD": "NULL",
                                    "(No column name)": "1"
                                },
                                {
                                    "SZALL_DATUM": "2015-12-08",
                                    "SZALL_MOD": "NULL",
                                    "(No column name)": "1"
                                },
                                {
                                    "SZALL_DATUM": "2015-12-09",
                                    "SZALL_MOD": "NULL",
                                    "(No column name)": "1"
                                },
                                {
                                    "SZALL_DATUM": "2015-12-10",
                                    "SZALL_MOD": "NULL",
                                    "(No column name)": "1"
                                },
                                {
                                    "SZALL_DATUM": "2015-12-11",
                                    "SZALL_MOD": "NULL",
                                    "(No column name)": "1"
                                },
                                {
                                    "SZALL_DATUM": "2015-12-12",
                                    "SZALL_MOD": "NULL",
                                    "(No column name)": "1"
                                },
                                {
                                    "SZALL_DATUM": "2015-12-13",
                                    "SZALL_MOD": "NULL",
                                    "(No column name)": "1"
                                },
                                {
                                    "SZALL_DATUM": "2015-12-14",
                                    "SZALL_MOD": "NULL",
                                    "(No column name)": "1"
                                },
                                {
                                    "SZALL_DATUM": "2015-12-15",
                                    "SZALL_MOD": "NULL",
                                    "(No column name)": "1"
                                },
                                {
                                    "SZALL_DATUM": "2015-12-16",
                                    "SZALL_MOD": "NULL",
                                    "(No column name)": "1"
                                },
                                {
                                    "SZALL_DATUM": "2015-12-17",
                                    "SZALL_MOD": "NULL",
                                    "(No column name)": "1"
                                },
                                {
                                    "SZALL_DATUM": "2015-12-18",
                                    "SZALL_MOD": "NULL",
                                    "(No column name)": "1"
                                },
                                {
                                    "SZALL_DATUM": "2015-12-19",
                                    "SZALL_MOD": "NULL",
                                    "(No column name)": "1"
                                },
                                {
                                    "SZALL_DATUM": "2015-12-20",
                                    "SZALL_MOD": "NULL",
                                    "(No column name)": "1"
                                },
                                {
                                    "SZALL_DATUM": "2015-12-21",
                                    "SZALL_MOD": "NULL",
                                    "(No column name)": "1"
                                },
                                {
                                    "SZALL_DATUM": "2015-12-22",
                                    "SZALL_MOD": "NULL",
                                    "(No column name)": "1"
                                },
                                {
                                    "SZALL_DATUM": "2015-12-23",
                                    "SZALL_MOD": "NULL",
                                    "(No column name)": "1"
                                },
                                {
                                    "SZALL_DATUM": "2015-12-24",
                                    "SZALL_MOD": "NULL",
                                    "(No column name)": "1"
                                },
                                {
                                    "SZALL_DATUM": "2015-12-25",
                                    "SZALL_MOD": "NULL",
                                    "(No column name)": "1"
                                },
                                {
                                    "SZALL_DATUM": "2015-12-26",
                                    "SZALL_MOD": "NULL",
                                    "(No column name)": "1"
                                },
                                {
                                    "SZALL_DATUM": "2015-12-27",
                                    "SZALL_MOD": "NULL",
                                    "(No column name)": "1"
                                },
                                {
                                    "SZALL_DATUM": "2015-12-28",
                                    "SZALL_MOD": "NULL",
                                    "(No column name)": "1"
                                },
                                {
                                    "SZALL_DATUM": "2015-12-29",
                                    "SZALL_MOD": "NULL",
                                    "(No column name)": "1"
                                },
                                {
                                    "SZALL_DATUM": "2015-12-30",
                                    "SZALL_MOD": "NULL",
                                    "(No column name)": "1"
                                },
                                {
                                    "SZALL_DATUM": "2015-12-31",
                                    "SZALL_MOD": "NULL",
                                    "(No column name)": "1"
                                },
                                {
                                    "SZALL_DATUM": "2016-01-01",
                                    "SZALL_MOD": "NULL",
                                    "(No column name)": "1"
                                },
                                {
                                    "SZALL_DATUM": "2016-01-02",
                                    "SZALL_MOD": "NULL",
                                    "(No column name)": "1"
                                },
                                {
                                    "SZALL_DATUM": "2016-01-03",
                                    "SZALL_MOD": "NULL",
                                    "(No column name)": "1"
                                },
                                {
                                    "SZALL_DATUM": "2016-01-04",
                                    "SZALL_MOD": "NULL",
                                    "(No column name)": "1"
                                },
                                {
                                    "SZALL_DATUM": "2016-01-05",
                                    "SZALL_MOD": "NULL",
                                    "(No column name)": "1"
                                },
                                {
                                    "SZALL_DATUM": "2016-01-06",
                                    "SZALL_MOD": "NULL",
                                    "(No column name)": "1"
                                },
                                {
                                    "SZALL_DATUM": "2016-01-07",
                                    "SZALL_MOD": "NULL",
                                    "(No column name)": "1"
                                },
                                {
                                    "SZALL_DATUM": "2016-01-08",
                                    "SZALL_MOD": "NULL",
                                    "(No column name)": "1"
                                },
                                {
                                    "SZALL_DATUM": "2016-01-09",
                                    "SZALL_MOD": "NULL",
                                    "(No column name)": "1"
                                },
                                {
                                    "SZALL_DATUM": "2016-01-10",
                                    "SZALL_MOD": "NULL",
                                    "(No column name)": "1"
                                },
                                {
                                    "SZALL_DATUM": "2016-01-11",
                                    "SZALL_MOD": "NULL",
                                    "(No column name)": "1"
                                },
                                {
                                    "SZALL_DATUM": "2016-01-12",
                                    "SZALL_MOD": "NULL",
                                    "(No column name)": "1"
                                },
                                {
                                    "SZALL_DATUM": "2016-01-13",
                                    "SZALL_MOD": "NULL",
                                    "(No column name)": "1"
                                },
                                {
                                    "SZALL_DATUM": "2016-01-14",
                                    "SZALL_MOD": "NULL",
                                    "(No column name)": "1"
                                },
                                {
                                    "SZALL_DATUM": "2016-01-15",
                                    "SZALL_MOD": "NULL",
                                    "(No column name)": "1"
                                },
                                {
                                    "SZALL_DATUM": "2016-01-16",
                                    "SZALL_MOD": "NULL",
                                    "(No column name)": "1"
                                },
                                {
                                    "SZALL_DATUM": "2016-01-17",
                                    "SZALL_MOD": "NULL",
                                    "(No column name)": "1"
                                },
                                {
                                    "SZALL_DATUM": "2016-01-18",
                                    "SZALL_MOD": "NULL",
                                    "(No column name)": "1"
                                },
                                {
                                    "SZALL_DATUM": "2016-01-19",
                                    "SZALL_MOD": "NULL",
                                    "(No column name)": "1"
                                },
                                {
                                    "SZALL_DATUM": "2016-01-20",
                                    "SZALL_MOD": "NULL",
                                    "(No column name)": "1"
                                },
                                {
                                    "SZALL_DATUM": "2016-01-21",
                                    "SZALL_MOD": "NULL",
                                    "(No column name)": "1"
                                },
                                {
                                    "SZALL_DATUM": "2016-01-22",
                                    "SZALL_MOD": "NULL",
                                    "(No column name)": "1"
                                },
                                {
                                    "SZALL_DATUM": "2016-01-23",
                                    "SZALL_MOD": "NULL",
                                    "(No column name)": "1"
                                },
                                {
                                    "SZALL_DATUM": "2016-01-24",
                                    "SZALL_MOD": "NULL",
                                    "(No column name)": "1"
                                },
                                {
                                    "SZALL_DATUM": "2016-01-25",
                                    "SZALL_MOD": "NULL",
                                    "(No column name)": "1"
                                },
                                {
                                    "SZALL_DATUM": "2016-01-26",
                                    "SZALL_MOD": "NULL",
                                    "(No column name)": "1"
                                },
                                {
                                    "SZALL_DATUM": "2016-01-27",
                                    "SZALL_MOD": "NULL",
                                    "(No column name)": "1"
                                },
                                {
                                    "SZALL_DATUM": "2016-01-28",
                                    "SZALL_MOD": "NULL",
                                    "(No column name)": "1"
                                },
                                {
                                    "SZALL_DATUM": "2016-01-29",
                                    "SZALL_MOD": "NULL",
                                    "(No column name)": "1"
                                },
                                {
                                    "SZALL_DATUM": "2016-01-30",
                                    "SZALL_MOD": "NULL",
                                    "(No column name)": "1"
                                },
                                {
                                    "SZALL_DATUM": "2016-01-31",
                                    "SZALL_MOD": "NULL",
                                    "(No column name)": "1"
                                },
                                {
                                    "SZALL_DATUM": "2016-02-01",
                                    "SZALL_MOD": "NULL",
                                    "(No column name)": "1"
                                },
                                {
                                    "SZALL_DATUM": "2016-02-02",
                                    "SZALL_MOD": "NULL",
                                    "(No column name)": "1"
                                },
                                {
                                    "SZALL_DATUM": "2016-02-03",
                                    "SZALL_MOD": "NULL",
                                    "(No column name)": "1"
                                },
                                {
                                    "SZALL_DATUM": "2016-02-04",
                                    "SZALL_MOD": "NULL",
                                    "(No column name)": "1"
                                },
                                {
                                    "SZALL_DATUM": "2016-02-05",
                                    "SZALL_MOD": "NULL",
                                    "(No column name)": "1"
                                },
                                {
                                    "SZALL_DATUM": "2016-02-06",
                                    "SZALL_MOD": "NULL",
                                    "(No column name)": "1"
                                },
                                {
                                    "SZALL_DATUM": "2016-02-07",
                                    "SZALL_MOD": "NULL",
                                    "(No column name)": "1"
                                },
                                {
                                    "SZALL_DATUM": "2016-02-08",
                                    "SZALL_MOD": "NULL",
                                    "(No column name)": "1"
                                },
                                {
                                    "SZALL_DATUM": "2016-02-09",
                                    "SZALL_MOD": "NULL",
                                    "(No column name)": "1"
                                },
                                {
                                    "SZALL_DATUM": "2016-02-10",
                                    "SZALL_MOD": "NULL",
                                    "(No column name)": "1"
                                },
                                {
                                    "SZALL_DATUM": "2016-02-11",
                                    "SZALL_MOD": "NULL",
                                    "(No column name)": "1"
                                },
                                {
                                    "SZALL_DATUM": "2016-02-12",
                                    "SZALL_MOD": "NULL",
                                    "(No column name)": "1"
                                },
                                {
                                    "SZALL_DATUM": "2016-02-13",
                                    "SZALL_MOD": "NULL",
                                    "(No column name)": "1"
                                },
                                {
                                    "SZALL_DATUM": "2016-02-14",
                                    "SZALL_MOD": "NULL",
                                    "(No column name)": "1"
                                },
                                {
                                    "SZALL_DATUM": "2016-02-15",
                                    "SZALL_MOD": "NULL",
                                    "(No column name)": "1"
                                },
                                {
                                    "SZALL_DATUM": "2016-02-16",
                                    "SZALL_MOD": "NULL",
                                    "(No column name)": "1"
                                },
                                {
                                    "SZALL_DATUM": "2016-02-17",
                                    "SZALL_MOD": "NULL",
                                    "(No column name)": "1"
                                },
                                {
                                    "SZALL_DATUM": "2016-02-18",
                                    "SZALL_MOD": "NULL",
                                    "(No column name)": "1"
                                },
                                {
                                    "SZALL_DATUM": "2016-02-19",
                                    "SZALL_MOD": "NULL",
                                    "(No column name)": "1"
                                },
                                {
                                    "SZALL_DATUM": "2016-02-20",
                                    "SZALL_MOD": "NULL",
                                    "(No column name)": "1"
                                },
                                {
                                    "SZALL_DATUM": "2016-02-21",
                                    "SZALL_MOD": "NULL",
                                    "(No column name)": "1"
                                },
                                {
                                    "SZALL_DATUM": "2016-02-22",
                                    "SZALL_MOD": "NULL",
                                    "(No column name)": "1"
                                },
                                {
                                    "SZALL_DATUM": "2016-02-23",
                                    "SZALL_MOD": "NULL",
                                    "(No column name)": "1"
                                },
                                {
                                    "SZALL_DATUM": "2016-02-24",
                                    "SZALL_MOD": "NULL",
                                    "(No column name)": "1"
                                },
                                {
                                    "SZALL_DATUM": "2016-02-25",
                                    "SZALL_MOD": "NULL",
                                    "(No column name)": "1"
                                },
                                {
                                    "SZALL_DATUM": "2016-02-26",
                                    "SZALL_MOD": "NULL",
                                    "(No column name)": "1"
                                },
                                {
                                    "SZALL_DATUM": "2016-02-27",
                                    "SZALL_MOD": "NULL",
                                    "(No column name)": "1"
                                },
                                {
                                    "SZALL_DATUM": "2016-02-28",
                                    "SZALL_MOD": "NULL",
                                    "(No column name)": "1"
                                },
                                {
                                    "SZALL_DATUM": "2016-02-29",
                                    "SZALL_MOD": "NULL",
                                    "(No column name)": "1"
                                },
                                {
                                    "SZALL_DATUM": "2016-03-01",
                                    "SZALL_MOD": "NULL",
                                    "(No column name)": "1"
                                },
                                {
                                    "SZALL_DATUM": "2016-03-02",
                                    "SZALL_MOD": "NULL",
                                    "(No column name)": "1"
                                },
                                {
                                    "SZALL_DATUM": "2016-03-03",
                                    "SZALL_MOD": "NULL",
                                    "(No column name)": "1"
                                },
                                {
                                    "SZALL_DATUM": "2016-03-04",
                                    "SZALL_MOD": "NULL",
                                    "(No column name)": "1"
                                },
                                {
                                    "SZALL_DATUM": "2016-03-05",
                                    "SZALL_MOD": "NULL",
                                    "(No column name)": "1"
                                },
                                {
                                    "SZALL_DATUM": "2016-03-06",
                                    "SZALL_MOD": "NULL",
                                    "(No column name)": "1"
                                },
                                {
                                    "SZALL_DATUM": "2016-03-07",
                                    "SZALL_MOD": "NULL",
                                    "(No column name)": "1"
                                },
                                {
                                    "SZALL_DATUM": "2016-03-08",
                                    "SZALL_MOD": "NULL",
                                    "(No column name)": "1"
                                },
                                {
                                    "SZALL_DATUM": "2016-03-09",
                                    "SZALL_MOD": "NULL",
                                    "(No column name)": "1"
                                },
                                {
                                    "SZALL_DATUM": "2016-03-10",
                                    "SZALL_MOD": "NULL",
                                    "(No column name)": "1"
                                },
                                {
                                    "SZALL_DATUM": "2016-03-11",
                                    "SZALL_MOD": "NULL",
                                    "(No column name)": "1"
                                },
                                {
                                    "SZALL_DATUM": "2016-03-12",
                                    "SZALL_MOD": "NULL",
                                    "(No column name)": "1"
                                },
                                {
                                    "SZALL_DATUM": "2016-03-13",
                                    "SZALL_MOD": "NULL",
                                    "(No column name)": "1"
                                },
                                {
                                    "SZALL_DATUM": "2016-03-14",
                                    "SZALL_MOD": "NULL",
                                    "(No column name)": "1"
                                },
                                {
                                    "SZALL_DATUM": "2016-03-15",
                                    "SZALL_MOD": "NULL",
                                    "(No column name)": "1"
                                },
                                {
                                    "SZALL_DATUM": "2016-03-16",
                                    "SZALL_MOD": "NULL",
                                    "(No column name)": "1"
                                },
                                {
                                    "SZALL_DATUM": "2016-03-17",
                                    "SZALL_MOD": "NULL",
                                    "(No column name)": "1"
                                },
                                {
                                    "SZALL_DATUM": "2016-03-18",
                                    "SZALL_MOD": "NULL",
                                    "(No column name)": "1"
                                },
                                {
                                    "SZALL_DATUM": "2016-03-19",
                                    "SZALL_MOD": "NULL",
                                    "(No column name)": "1"
                                },
                                {
                                    "SZALL_DATUM": "2016-03-20",
                                    "SZALL_MOD": "NULL",
                                    "(No column name)": "1"
                                },
                                {
                                    "SZALL_DATUM": "2016-03-21",
                                    "SZALL_MOD": "NULL",
                                    "(No column name)": "1"
                                },
                                {
                                    "SZALL_DATUM": "2016-03-22",
                                    "SZALL_MOD": "NULL",
                                    "(No column name)": "1"
                                },
                                {
                                    "SZALL_DATUM": "2016-03-23",
                                    "SZALL_MOD": "NULL",
                                    "(No column name)": "1"
                                },
                                {
                                    "SZALL_DATUM": "2016-03-24",
                                    "SZALL_MOD": "NULL",
                                    "(No column name)": "1"
                                },
                                {
                                    "SZALL_DATUM": "2016-03-25",
                                    "SZALL_MOD": "NULL",
                                    "(No column name)": "1"
                                },
                                {
                                    "SZALL_DATUM": "2016-03-26",
                                    "SZALL_MOD": "NULL",
                                    "(No column name)": "1"
                                },
                                {
                                    "SZALL_DATUM": "2016-03-27",
                                    "SZALL_MOD": "NULL",
                                    "(No column name)": "1"
                                },
                                {
                                    "SZALL_DATUM": "2016-03-28",
                                    "SZALL_MOD": "NULL",
                                    "(No column name)": "1"
                                },
                                {
                                    "SZALL_DATUM": "2016-03-29",
                                    "SZALL_MOD": "NULL",
                                    "(No column name)": "1"
                                },
                                {
                                    "SZALL_DATUM": "2016-03-30",
                                    "SZALL_MOD": "NULL",
                                    "(No column name)": "1"
                                },
                                {
                                    "SZALL_DATUM": "2016-03-31",
                                    "SZALL_MOD": "NULL",
                                    "(No column name)": "1"
                                },
                                {
                                    "SZALL_DATUM": "2016-04-01",
                                    "SZALL_MOD": "NULL",
                                    "(No column name)": "1"
                                },
                                {
                                    "SZALL_DATUM": "2016-04-02",
                                    "SZALL_MOD": "NULL",
                                    "(No column name)": "1"
                                },
                                {
                                    "SZALL_DATUM": "2016-04-03",
                                    "SZALL_MOD": "NULL",
                                    "(No column name)": "1"
                                },
                                {
                                    "SZALL_DATUM": "2016-04-04",
                                    "SZALL_MOD": "NULL",
                                    "(No column name)": "1"
                                },
                                {
                                    "SZALL_DATUM": "2016-04-05",
                                    "SZALL_MOD": "NULL",
                                    "(No column name)": "1"
                                },
                                {
                                    "SZALL_DATUM": "2016-04-06",
                                    "SZALL_MOD": "NULL",
                                    "(No column name)": "1"
                                },
                                {
                                    "SZALL_DATUM": "2016-04-07",
                                    "SZALL_MOD": "NULL",
                                    "(No column name)": "1"
                                },
                                {
                                    "SZALL_DATUM": "2016-04-08",
                                    "SZALL_MOD": "NULL",
                                    "(No column name)": "1"
                                },
                                {
                                    "SZALL_DATUM": "2016-04-09",
                                    "SZALL_MOD": "NULL",
                                    "(No column name)": "1"
                                },
                                {
                                    "SZALL_DATUM": "2016-04-10",
                                    "SZALL_MOD": "NULL",
                                    "(No column name)": "1"
                                },
                                {
                                    "SZALL_DATUM": "2016-04-11",
                                    "SZALL_MOD": "NULL",
                                    "(No column name)": "1"
                                },
                                {
                                    "SZALL_DATUM": "2016-04-12",
                                    "SZALL_MOD": "NULL",
                                    "(No column name)": "1"
                                },
                                {
                                    "SZALL_DATUM": "2016-04-13",
                                    "SZALL_MOD": "NULL",
                                    "(No column name)": "1"
                                },
                                {
                                    "SZALL_DATUM": "2016-04-14",
                                    "SZALL_MOD": "NULL",
                                    "(No column name)": "1"
                                },
                                {
                                    "SZALL_DATUM": "2016-04-15",
                                    "SZALL_MOD": "NULL",
                                    "(No column name)": "1"
                                },
                                {
                                    "SZALL_DATUM": "2016-04-16",
                                    "SZALL_MOD": "NULL",
                                    "(No column name)": "1"
                                },
                                {
                                    "SZALL_DATUM": "2016-04-17",
                                    "SZALL_MOD": "NULL",
                                    "(No column name)": "1"
                                },
                                {
                                    "SZALL_DATUM": "2016-04-18",
                                    "SZALL_MOD": "NULL",
                                    "(No column name)": "1"
                                },
                                {
                                    "SZALL_DATUM": "2016-04-19",
                                    "SZALL_MOD": "NULL",
                                    "(No column name)": "1"
                                },
                                {
                                    "SZALL_DATUM": "2016-04-20",
                                    "SZALL_MOD": "NULL",
                                    "(No column name)": "1"
                                },
                                {
                                    "SZALL_DATUM": "2016-04-21",
                                    "SZALL_MOD": "NULL",
                                    "(No column name)": "1"
                                },
                                {
                                    "SZALL_DATUM": "2016-04-22",
                                    "SZALL_MOD": "NULL",
                                    "(No column name)": "1"
                                },
                                {
                                    "SZALL_DATUM": "2016-04-23",
                                    "SZALL_MOD": "NULL",
                                    "(No column name)": "1"
                                },
                                {
                                    "SZALL_DATUM": "2016-04-24",
                                    "SZALL_MOD": "NULL",
                                    "(No column name)": "1"
                                },
                                {
                                    "SZALL_DATUM": "2016-04-25",
                                    "SZALL_MOD": "NULL",
                                    "(No column name)": "1"
                                },
                                {
                                    "SZALL_DATUM": "2016-04-26",
                                    "SZALL_MOD": "NULL",
                                    "(No column name)": "1"
                                },
                                {
                                    "SZALL_DATUM": "2016-04-27",
                                    "SZALL_MOD": "NULL",
                                    "(No column name)": "1"
                                },
                                {
                                    "SZALL_DATUM": "2016-04-28",
                                    "SZALL_MOD": "NULL",
                                    "(No column name)": "1"
                                },
                                {
                                    "SZALL_DATUM": "2016-04-29",
                                    "SZALL_MOD": "NULL",
                                    "(No column name)": "1"
                                },
                                {
                                    "SZALL_DATUM": "2016-04-30",
                                    "SZALL_MOD": "NULL",
                                    "(No column name)": "1"
                                },
                                {
                                    "SZALL_DATUM": "2016-05-01",
                                    "SZALL_MOD": "NULL",
                                    "(No column name)": "1"
                                },
                                {
                                    "SZALL_DATUM": "2016-05-02",
                                    "SZALL_MOD": "NULL",
                                    "(No column name)": "1"
                                },
                                {
                                    "SZALL_DATUM": "2016-05-03",
                                    "SZALL_MOD": "NULL",
                                    "(No column name)": "1"
                                },
                                {
                                    "SZALL_DATUM": "2016-05-04",
                                    "SZALL_MOD": "NULL",
                                    "(No column name)": "1"
                                },
                                {
                                    "SZALL_DATUM": "2016-05-05",
                                    "SZALL_MOD": "NULL",
                                    "(No column name)": "1"
                                },
                                {
                                    "SZALL_DATUM": "2016-05-06",
                                    "SZALL_MOD": "NULL",
                                    "(No column name)": "1"
                                },
                                {
                                    "SZALL_DATUM": "2016-05-07",
                                    "SZALL_MOD": "NULL",
                                    "(No column name)": "1"
                                },
                                {
                                    "SZALL_DATUM": "2016-05-08",
                                    "SZALL_MOD": "NULL",
                                    "(No column name)": "1"
                                },
                                {
                                    "SZALL_DATUM": "2016-05-09",
                                    "SZALL_MOD": "NULL",
                                    "(No column name)": "1"
                                },
                                {
                                    "SZALL_DATUM": "2016-05-10",
                                    "SZALL_MOD": "NULL",
                                    "(No column name)": "1"
                                },
                                {
                                    "SZALL_DATUM": "2016-05-11",
                                    "SZALL_MOD": "NULL",
                                    "(No column name)": "1"
                                },
                                {
                                    "SZALL_DATUM": "2016-05-12",
                                    "SZALL_MOD": "NULL",
                                    "(No column name)": "1"
                                },
                                {
                                    "SZALL_DATUM": "2016-05-13",
                                    "SZALL_MOD": "NULL",
                                    "(No column name)": "1"
                                },
                                {
                                    "SZALL_DATUM": "2016-05-14",
                                    "SZALL_MOD": "NULL",
                                    "(No column name)": "1"
                                },
                                {
                                    "SZALL_DATUM": "2016-05-15",
                                    "SZALL_MOD": "NULL",
                                    "(No column name)": "1"
                                },
                                {
                                    "SZALL_DATUM": "2016-05-16",
                                    "SZALL_MOD": "NULL",
                                    "(No column name)": "1"
                                },
                                {
                                    "SZALL_DATUM": "2016-05-17",
                                    "SZALL_MOD": "NULL",
                                    "(No column name)": "1"
                                },
                                {
                                    "SZALL_DATUM": "2016-05-18",
                                    "SZALL_MOD": "NULL",
                                    "(No column name)": "1"
                                },
                                {
                                    "SZALL_DATUM": "2016-05-19",
                                    "SZALL_MOD": "NULL",
                                    "(No column name)": "1"
                                },
                                {
                                    "SZALL_DATUM": "2016-05-20",
                                    "SZALL_MOD": "NULL",
                                    "(No column name)": "1"
                                },
                                {
                                    "SZALL_DATUM": "2016-05-21",
                                    "SZALL_MOD": "NULL",
                                    "(No column name)": "1"
                                },
                                {
                                    "SZALL_DATUM": "2016-05-22",
                                    "SZALL_MOD": "NULL",
                                    "(No column name)": "1"
                                },
                                {
                                    "SZALL_DATUM": "2016-05-23",
                                    "SZALL_MOD": "NULL",
                                    "(No column name)": "1"
                                },
                                {
                                    "SZALL_DATUM": "2016-05-24",
                                    "SZALL_MOD": "NULL",
                                    "(No column name)": "1"
                                },
                                {
                                    "SZALL_DATUM": "2016-05-25",
                                    "SZALL_MOD": "NULL",
                                    "(No column name)": "1"
                                },
                                {
                                    "SZALL_DATUM": "2016-05-26",
                                    "SZALL_MOD": "NULL",
                                    "(No column name)": "1"
                                },
                                {
                                    "SZALL_DATUM": "2016-05-27",
                                    "SZALL_MOD": "NULL",
                                    "(No column name)": "1"
                                },
                                {
                                    "SZALL_DATUM": "2016-05-28",
                                    "SZALL_MOD": "NULL",
                                    "(No column name)": "1"
                                },
                                {
                                    "SZALL_DATUM": "2016-05-29",
                                    "SZALL_MOD": "NULL",
                                    "(No column name)": "1"
                                },
                                {
                                    "SZALL_DATUM": "2016-05-30",
                                    "SZALL_MOD": "NULL",
                                    "(No column name)": "1"
                                },
                                {
                                    "SZALL_DATUM": "2016-05-31",
                                    "SZALL_MOD": "NULL",
                                    "(No column name)": "1"
                                },
                                {
                                    "SZALL_DATUM": "2016-06-01",
                                    "SZALL_MOD": "NULL",
                                    "(No column name)": "1"
                                },
                                {
                                    "SZALL_DATUM": "2016-06-02",
                                    "SZALL_MOD": "NULL",
                                    "(No column name)": "1"
                                },
                                {
                                    "SZALL_DATUM": "2016-06-03",
                                    "SZALL_MOD": "NULL",
                                    "(No column name)": "1"
                                },
                                {
                                    "SZALL_DATUM": "2016-06-04",
                                    "SZALL_MOD": "NULL",
                                    "(No column name)": "1"
                                },
                                {
                                    "SZALL_DATUM": "2016-06-05",
                                    "SZALL_MOD": "NULL",
                                    "(No column name)": "1"
                                },
                                {
                                    "SZALL_DATUM": "2016-06-06",
                                    "SZALL_MOD": "NULL",
                                    "(No column name)": "1"
                                },
                                {
                                    "SZALL_DATUM": "2016-06-07",
                                    "SZALL_MOD": "NULL",
                                    "(No column name)": "1"
                                },
                                {
                                    "SZALL_DATUM": "2016-06-08",
                                    "SZALL_MOD": "NULL",
                                    "(No column name)": "1"
                                },
                                {
                                    "SZALL_DATUM": "2016-06-09",
                                    "SZALL_MOD": "NULL",
                                    "(No column name)": "1"
                                },
                                {
                                    "SZALL_DATUM": "2016-06-10",
                                    "SZALL_MOD": "NULL",
                                    "(No column name)": "1"
                                },
                                {
                                    "SZALL_DATUM": "2016-06-11",
                                    "SZALL_MOD": "NULL",
                                    "(No column name)": "1"
                                },
                                {
                                    "SZALL_DATUM": "2016-06-12",
                                    "SZALL_MOD": "NULL",
                                    "(No column name)": "1"
                                },
                                {
                                    "SZALL_DATUM": "2016-06-13",
                                    "SZALL_MOD": "NULL",
                                    "(No column name)": "1"
                                },
                                {
                                    "SZALL_DATUM": "2016-06-14",
                                    "SZALL_MOD": "NULL",
                                    "(No column name)": "1"
                                },
                                {
                                    "SZALL_DATUM": "2016-06-15",
                                    "SZALL_MOD": "NULL",
                                    "(No column name)": "1"
                                },
                                {
                                    "SZALL_DATUM": "2016-06-16",
                                    "SZALL_MOD": "NULL",
                                    "(No column name)": "1"
                                },
                                {
                                    "SZALL_DATUM": "2016-06-17",
                                    "SZALL_MOD": "NULL",
                                    "(No column name)": "1"
                                },
                                {
                                    "SZALL_DATUM": "2016-06-18",
                                    "SZALL_MOD": "NULL",
                                    "(No column name)": "1"
                                },
                                {
                                    "SZALL_DATUM": "2016-06-19",
                                    "SZALL_MOD": "NULL",
                                    "(No column name)": "1"
                                },
                                {
                                    "SZALL_DATUM": "2016-06-20",
                                    "SZALL_MOD": "NULL",
                                    "(No column name)": "1"
                                },
                                {
                                    "SZALL_DATUM": "2016-06-21",
                                    "SZALL_MOD": "NULL",
                                    "(No column name)": "1"
                                },
                                {
                                    "SZALL_DATUM": "2016-06-22",
                                    "SZALL_MOD": "NULL",
                                    "(No column name)": "1"
                                },
                                {
                                    "SZALL_DATUM": "2016-06-23",
                                    "SZALL_MOD": "NULL",
                                    "(No column name)": "1"
                                },
                                {
                                    "SZALL_DATUM": "2016-06-24",
                                    "SZALL_MOD": "NULL",
                                    "(No column name)": "1"
                                },
                                {
                                    "SZALL_DATUM": "2016-06-25",
                                    "SZALL_MOD": "NULL",
                                    "(No column name)": "1"
                                },
                                {
                                    "SZALL_DATUM": "2016-06-26",
                                    "SZALL_MOD": "NULL",
                                    "(No column name)": "1"
                                },
                                {
                                    "SZALL_DATUM": "2016-06-27",
                                    "SZALL_MOD": "NULL",
                                    "(No column name)": "1"
                                },
                                {
                                    "SZALL_DATUM": "2016-06-28",
                                    "SZALL_MOD": "NULL",
                                    "(No column name)": "1"
                                },
                                {
                                    "SZALL_DATUM": "2016-06-29",
                                    "SZALL_MOD": "NULL",
                                    "(No column name)": "1"
                                },
                                {
                                    "SZALL_DATUM": "2016-06-30",
                                    "SZALL_MOD": "NULL",
                                    "(No column name)": "1"
                                },
                                {
                                    "SZALL_DATUM": "2016-07-01",
                                    "SZALL_MOD": "NULL",
                                    "(No column name)": "1"
                                },
                                {
                                    "SZALL_DATUM": "2016-07-02",
                                    "SZALL_MOD": "NULL",
                                    "(No column name)": "1"
                                },
                                {
                                    "SZALL_DATUM": "2016-07-03",
                                    "SZALL_MOD": "NULL",
                                    "(No column name)": "1"
                                },
                                {
                                    "SZALL_DATUM": "2016-07-04",
                                    "SZALL_MOD": "NULL",
                                    "(No column name)": "1"
                                },
                                {
                                    "SZALL_DATUM": "2016-07-05",
                                    "SZALL_MOD": "NULL",
                                    "(No column name)": "1"
                                },
                                {
                                    "SZALL_DATUM": "2016-07-06",
                                    "SZALL_MOD": "NULL",
                                    "(No column name)": "1"
                                },
                                {
                                    "SZALL_DATUM": "2016-07-07",
                                    "SZALL_MOD": "NULL",
                                    "(No column name)": "1"
                                },
                                {
                                    "SZALL_DATUM": "2016-07-08",
                                    "SZALL_MOD": "NULL",
                                    "(No column name)": "1"
                                },
                                {
                                    "SZALL_DATUM": "2016-07-09",
                                    "SZALL_MOD": "NULL",
                                    "(No column name)": "1"
                                },
                                {
                                    "SZALL_DATUM": "2016-07-10",
                                    "SZALL_MOD": "NULL",
                                    "(No column name)": "1"
                                },
                                {
                                    "SZALL_DATUM": "2016-07-11",
                                    "SZALL_MOD": "NULL",
                                    "(No column name)": "1"
                                },
                                {
                                    "SZALL_DATUM": "2016-07-12",
                                    "SZALL_MOD": "NULL",
                                    "(No column name)": "1"
                                },
                                {
                                    "SZALL_DATUM": "2016-07-13",
                                    "SZALL_MOD": "NULL",
                                    "(No column name)": "1"
                                },
                                {
                                    "SZALL_DATUM": "2016-07-14",
                                    "SZALL_MOD": "NULL",
                                    "(No column name)": "1"
                                },
                                {
                                    "SZALL_DATUM": "2016-07-15",
                                    "SZALL_MOD": "NULL",
                                    "(No column name)": "1"
                                },
                                {
                                    "SZALL_DATUM": "2016-07-16",
                                    "SZALL_MOD": "NULL",
                                    "(No column name)": "1"
                                },
                                {
                                    "SZALL_DATUM": "2016-07-17",
                                    "SZALL_MOD": "NULL",
                                    "(No column name)": "1"
                                },
                                {
                                    "SZALL_DATUM": "2016-07-18",
                                    "SZALL_MOD": "NULL",
                                    "(No column name)": "1"
                                },
                                {
                                    "SZALL_DATUM": "2016-07-19",
                                    "SZALL_MOD": "NULL",
                                    "(No column name)": "1"
                                },
                                {
                                    "SZALL_DATUM": "2016-07-20",
                                    "SZALL_MOD": "NULL",
                                    "(No column name)": "1"
                                },
                                {
                                    "SZALL_DATUM": "2016-07-21",
                                    "SZALL_MOD": "NULL",
                                    "(No column name)": "1"
                                },
                                {
                                    "SZALL_DATUM": "2016-07-22",
                                    "SZALL_MOD": "NULL",
                                    "(No column name)": "1"
                                },
                                {
                                    "SZALL_DATUM": "2016-07-23",
                                    "SZALL_MOD": "NULL",
                                    "(No column name)": "1"
                                },
                                {
                                    "SZALL_DATUM": "2016-07-24",
                                    "SZALL_MOD": "NULL",
                                    "(No column name)": "1"
                                },
                                {
                                    "SZALL_DATUM": "2016-07-25",
                                    "SZALL_MOD": "NULL",
                                    "(No column name)": "1"
                                },
                                {
                                    "SZALL_DATUM": "2016-07-26",
                                    "SZALL_MOD": "NULL",
                                    "(No column name)": "1"
                                },
                                {
                                    "SZALL_DATUM": "2016-07-27",
                                    "SZALL_MOD": "NULL",
                                    "(No column name)": "1"
                                },
                                {
                                    "SZALL_DATUM": "2016-07-28",
                                    "SZALL_MOD": "NULL",
                                    "(No column name)": "1"
                                },
                                {
                                    "SZALL_DATUM": "2016-07-29",
                                    "SZALL_MOD": "NULL",
                                    "(No column name)": "1"
                                },
                                {
                                    "SZALL_DATUM": "2016-07-30",
                                    "SZALL_MOD": "NULL",
                                    "(No column name)": "1"
                                },
                                {
                                    "SZALL_DATUM": "2016-07-31",
                                    "SZALL_MOD": "NULL",
                                    "(No column name)": "1"
                                },
                                {
                                    "SZALL_DATUM": "2016-08-01",
                                    "SZALL_MOD": "NULL",
                                    "(No column name)": "1"
                                },
                                {
                                    "SZALL_DATUM": "2016-08-02",
                                    "SZALL_MOD": "NULL",
                                    "(No column name)": "1"
                                },
                                {
                                    "SZALL_DATUM": "2016-08-03",
                                    "SZALL_MOD": "NULL",
                                    "(No column name)": "1"
                                },
                                {
                                    "SZALL_DATUM": "2016-08-04",
                                    "SZALL_MOD": "NULL",
                                    "(No column name)": "1"
                                },
                                {
                                    "SZALL_DATUM": "2016-08-05",
                                    "SZALL_MOD": "NULL",
                                    "(No column name)": "1"
                                },
                                {
                                    "SZALL_DATUM": "2016-08-06",
                                    "SZALL_MOD": "NULL",
                                    "(No column name)": "1"
                                },
                                {
                                    "SZALL_DATUM": "2016-08-07",
                                    "SZALL_MOD": "NULL",
                                    "(No column name)": "1"
                                },
                                {
                                    "SZALL_DATUM": "2016-08-08",
                                    "SZALL_MOD": "NULL",
                                    "(No column name)": "1"
                                },
                                {
                                    "SZALL_DATUM": "2016-08-09",
                                    "SZALL_MOD": "NULL",
                                    "(No column name)": "1"
                                },
                                {
                                    "SZALL_DATUM": "2016-08-10",
                                    "SZALL_MOD": "NULL",
                                    "(No column name)": "1"
                                },
                                {
                                    "SZALL_DATUM": "2016-08-11",
                                    "SZALL_MOD": "NULL",
                                    "(No column name)": "1"
                                },
                                {
                                    "SZALL_DATUM": "2016-08-12",
                                    "SZALL_MOD": "NULL",
                                    "(No column name)": "1"
                                },
                                {
                                    "SZALL_DATUM": "2016-08-13",
                                    "SZALL_MOD": "NULL",
                                    "(No column name)": "1"
                                },
                                {
                                    "SZALL_DATUM": "2016-08-14",
                                    "SZALL_MOD": "NULL",
                                    "(No column name)": "1"
                                },
                                {
                                    "SZALL_DATUM": "2016-08-15",
                                    "SZALL_MOD": "NULL",
                                    "(No column name)": "1"
                                },
                                {
                                    "SZALL_DATUM": "2016-08-16",
                                    "SZALL_MOD": "NULL",
                                    "(No column name)": "1"
                                },
                                {
                                    "SZALL_DATUM": "2016-08-17",
                                    "SZALL_MOD": "NULL",
                                    "(No column name)": "1"
                                },
                                {
                                    "SZALL_DATUM": "2016-08-18",
                                    "SZALL_MOD": "NULL",
                                    "(No column name)": "1"
                                },
                                {
                                    "SZALL_DATUM": "2016-08-19",
                                    "SZALL_MOD": "NULL",
                                    "(No column name)": "1"
                                },
                                {
                                    "SZALL_DATUM": "2016-08-20",
                                    "SZALL_MOD": "NULL",
                                    "(No column name)": "1"
                                },
                                {
                                    "SZALL_DATUM": "2016-08-21",
                                    "SZALL_MOD": "NULL",
                                    "(No column name)": "1"
                                },
                                {
                                    "SZALL_DATUM": "2016-08-22",
                                    "SZALL_MOD": "NULL",
                                    "(No column name)": "1"
                                },
                                {
                                    "SZALL_DATUM": "2016-08-23",
                                    "SZALL_MOD": "NULL",
                                    "(No column name)": "1"
                                },
                                {
                                    "SZALL_DATUM": "2016-08-24",
                                    "SZALL_MOD": "NULL",
                                    "(No column name)": "1"
                                },
                                {
                                    "SZALL_DATUM": "2016-08-25",
                                    "SZALL_MOD": "NULL",
                                    "(No column name)": "1"
                                },
                                {
                                    "SZALL_DATUM": "2016-08-26",
                                    "SZALL_MOD": "NULL",
                                    "(No column name)": "1"
                                },
                                {
                                    "SZALL_DATUM": "2016-08-27",
                                    "SZALL_MOD": "NULL",
                                    "(No column name)": "1"
                                },
                                {
                                    "SZALL_DATUM": "2016-08-28",
                                    "SZALL_MOD": "NULL",
                                    "(No column name)": "1"
                                },
                                {
                                    "SZALL_DATUM": "2016-08-29",
                                    "SZALL_MOD": "NULL",
                                    "(No column name)": "1"
                                },
                                {
                                    "SZALL_DATUM": "2016-08-30",
                                    "SZALL_MOD": "NULL",
                                    "(No column name)": "1"
                                },
                                {
                                    "SZALL_DATUM": "2016-08-31",
                                    "SZALL_MOD": "NULL",
                                    "(No column name)": "1"
                                },
                                {
                                    "SZALL_DATUM": "2016-09-01",
                                    "SZALL_MOD": "NULL",
                                    "(No column name)": "1"
                                },
                                {
                                    "SZALL_DATUM": "2016-09-02",
                                    "SZALL_MOD": "NULL",
                                    "(No column name)": "1"
                                },
                                {
                                    "SZALL_DATUM": "2016-09-03",
                                    "SZALL_MOD": "NULL",
                                    "(No column name)": "1"
                                },
                                {
                                    "SZALL_DATUM": "2016-09-04",
                                    "SZALL_MOD": "NULL",
                                    "(No column name)": "1"
                                },
                                {
                                    "SZALL_DATUM": "2016-09-05",
                                    "SZALL_MOD": "NULL",
                                    "(No column name)": "1"
                                },
                                {
                                    "SZALL_DATUM": "2016-09-06",
                                    "SZALL_MOD": "NULL",
                                    "(No column name)": "1"
                                },
                                {
                                    "SZALL_DATUM": "2016-09-07",
                                    "SZALL_MOD": "NULL",
                                    "(No column name)": "1"
                                },
                                {
                                    "SZALL_DATUM": "2016-09-08",
                                    "SZALL_MOD": "NULL",
                                    "(No column name)": "1"
                                },
                                {
                                    "SZALL_DATUM": "2016-09-09",
                                    "SZALL_MOD": "NULL",
                                    "(No column name)": "1"
                                },
                                {
                                    "SZALL_DATUM": "2016-09-10",
                                    "SZALL_MOD": "NULL",
                                    "(No column name)": "1"
                                },
                                {
                                    "SZALL_DATUM": "2016-09-11",
                                    "SZALL_MOD": "NULL",
                                    "(No column name)": "1"
                                },
                                {
                                    "SZALL_DATUM": "2016-09-12",
                                    "SZALL_MOD": "NULL",
                                    "(No column name)": "1"
                                },
                                {
                                    "SZALL_DATUM": "2016-09-13",
                                    "SZALL_MOD": "NULL",
                                    "(No column name)": "1"
                                },
                                {
                                    "SZALL_DATUM": "2016-09-14",
                                    "SZALL_MOD": "NULL",
                                    "(No column name)": "1"
                                },
                                {
                                    "SZALL_DATUM": "2016-09-15",
                                    "SZALL_MOD": "NULL",
                                    "(No column name)": "1"
                                },
                                {
                                    "SZALL_DATUM": "2016-09-16",
                                    "SZALL_MOD": "NULL",
                                    "(No column name)": "1"
                                },
                                {
                                    "SZALL_DATUM": "2016-09-17",
                                    "SZALL_MOD": "NULL",
                                    "(No column name)": "1"
                                },
                                {
                                    "SZALL_DATUM": "2016-09-18",
                                    "SZALL_MOD": "NULL",
                                    "(No column name)": "1"
                                },
                                {
                                    "SZALL_DATUM": "2016-09-19",
                                    "SZALL_MOD": "NULL",
                                    "(No column name)": "1"
                                },
                                {
                                    "SZALL_DATUM": "2016-09-20",
                                    "SZALL_MOD": "NULL",
                                    "(No column name)": "1"
                                },
                                {
                                    "SZALL_DATUM": "2016-09-21",
                                    "SZALL_MOD": "NULL",
                                    "(No column name)": "1"
                                },
                                {
                                    "SZALL_DATUM": "2016-09-22",
                                    "SZALL_MOD": "NULL",
                                    "(No column name)": "1"
                                },
                                {
                                    "SZALL_DATUM": "2016-09-23",
                                    "SZALL_MOD": "NULL",
                                    "(No column name)": "1"
                                },
                                {
                                    "SZALL_DATUM": "2016-09-24",
                                    "SZALL_MOD": "NULL",
                                    "(No column name)": "1"
                                },
                                {
                                    "SZALL_DATUM": "2016-09-25",
                                    "SZALL_MOD": "NULL",
                                    "(No column name)": "1"
                                },
                                {
                                    "SZALL_DATUM": "2016-09-26",
                                    "SZALL_MOD": "NULL",
                                    "(No column name)": "1"
                                },
                                {
                                    "SZALL_DATUM": "2016-09-27",
                                    "SZALL_MOD": "NULL",
                                    "(No column name)": "1"
                                },
                                {
                                    "SZALL_DATUM": "2016-09-28",
                                    "SZALL_MOD": "NULL",
                                    "(No column name)": "1"
                                },
                                {
                                    "SZALL_DATUM": "2016-09-29",
                                    "SZALL_MOD": "NULL",
                                    "(No column name)": "1"
                                },
                                {
                                    "SZALL_DATUM": "2016-09-30",
                                    "SZALL_MOD": "NULL",
                                    "(No column name)": "1"
                                },
                                {
                                    "SZALL_DATUM": "2016-10-01",
                                    "SZALL_MOD": "NULL",
                                    "(No column name)": "1"
                                },
                                {
                                    "SZALL_DATUM": "2016-10-02",
                                    "SZALL_MOD": "NULL",
                                    "(No column name)": "1"
                                },
                                {
                                    "SZALL_DATUM": "2016-10-03",
                                    "SZALL_MOD": "NULL",
                                    "(No column name)": "1"
                                },
                                {
                                    "SZALL_DATUM": "2016-10-04",
                                    "SZALL_MOD": "NULL",
                                    "(No column name)": "1"
                                },
                                {
                                    "SZALL_DATUM": "2016-10-05",
                                    "SZALL_MOD": "NULL",
                                    "(No column name)": "1"
                                },
                                {
                                    "SZALL_DATUM": "2016-10-06",
                                    "SZALL_MOD": "NULL",
                                    "(No column name)": "1"
                                },
                                {
                                    "SZALL_DATUM": "2016-10-07",
                                    "SZALL_MOD": "NULL",
                                    "(No column name)": "1"
                                },
                                {
                                    "SZALL_DATUM": "2016-10-08",
                                    "SZALL_MOD": "NULL",
                                    "(No column name)": "1"
                                },
                                {
                                    "SZALL_DATUM": "2016-10-09",
                                    "SZALL_MOD": "NULL",
                                    "(No column name)": "1"
                                },
                                {
                                    "SZALL_DATUM": "2016-10-10",
                                    "SZALL_MOD": "NULL",
                                    "(No column name)": "1"
                                },
                                {
                                    "SZALL_DATUM": "2016-10-11",
                                    "SZALL_MOD": "NULL",
                                    "(No column name)": "1"
                                },
                                {
                                    "SZALL_DATUM": "2016-10-12",
                                    "SZALL_MOD": "NULL",
                                    "(No column name)": "1"
                                },
                                {
                                    "SZALL_DATUM": "2016-10-13",
                                    "SZALL_MOD": "NULL",
                                    "(No column name)": "1"
                                },
                                {
                                    "SZALL_DATUM": "2016-10-14",
                                    "SZALL_MOD": "NULL",
                                    "(No column name)": "1"
                                },
                                {
                                    "SZALL_DATUM": "2016-10-15",
                                    "SZALL_MOD": "NULL",
                                    "(No column name)": "1"
                                },
                                {
                                    "SZALL_DATUM": "2016-10-16",
                                    "SZALL_MOD": "NULL",
                                    "(No column name)": "1"
                                },
                                {
                                    "SZALL_DATUM": "2016-10-17",
                                    "SZALL_MOD": "NULL",
                                    "(No column name)": "1"
                                },
                                {
                                    "SZALL_DATUM": "2016-10-18",
                                    "SZALL_MOD": "NULL",
                                    "(No column name)": "1"
                                },
                                {
                                    "SZALL_DATUM": "2016-10-19",
                                    "SZALL_MOD": "NULL",
                                    "(No column name)": "1"
                                },
                                {
                                    "SZALL_DATUM": "2016-10-20",
                                    "SZALL_MOD": "NULL",
                                    "(No column name)": "1"
                                },
                                {
                                    "SZALL_DATUM": "2016-10-21",
                                    "SZALL_MOD": "NULL",
                                    "(No column name)": "1"
                                },
                                {
                                    "SZALL_DATUM": "2016-10-22",
                                    "SZALL_MOD": "NULL",
                                    "(No column name)": "1"
                                },
                                {
                                    "SZALL_DATUM": "2016-10-23",
                                    "SZALL_MOD": "NULL",
                                    "(No column name)": "1"
                                },
                                {
                                    "SZALL_DATUM": "2016-10-24",
                                    "SZALL_MOD": "NULL",
                                    "(No column name)": "1"
                                },
                                {
                                    "SZALL_DATUM": "2016-10-25",
                                    "SZALL_MOD": "NULL",
                                    "(No column name)": "1"
                                },
                                {
                                    "SZALL_DATUM": "2016-10-26",
                                    "SZALL_MOD": "NULL",
                                    "(No column name)": "1"
                                },
                                {
                                    "SZALL_DATUM": "2016-10-27",
                                    "SZALL_MOD": "NULL",
                                    "(No column name)": "1"
                                },
                                {
                                    "SZALL_DATUM": "2016-10-28",
                                    "SZALL_MOD": "NULL",
                                    "(No column name)": "1"
                                },
                                {
                                    "SZALL_DATUM": "2016-10-29",
                                    "SZALL_MOD": "NULL",
                                    "(No column name)": "1"
                                },
                                {
                                    "SZALL_DATUM": "2016-10-30",
                                    "SZALL_MOD": "NULL",
                                    "(No column name)": "1"
                                },
                                {
                                    "SZALL_DATUM": "2016-10-31",
                                    "SZALL_MOD": "NULL",
                                    "(No column name)": "1"
                                },
                                {
                                    "SZALL_DATUM": "2016-11-01",
                                    "SZALL_MOD": "NULL",
                                    "(No column name)": "1"
                                },
                                {
                                    "SZALL_DATUM": "2016-11-02",
                                    "SZALL_MOD": "NULL",
                                    "(No column name)": "1"
                                },
                                {
                                    "SZALL_DATUM": "2016-11-03",
                                    "SZALL_MOD": "NULL",
                                    "(No column name)": "1"
                                },
                                {
                                    "SZALL_DATUM": "2016-11-04",
                                    "SZALL_MOD": "NULL",
                                    "(No column name)": "1"
                                },
                                {
                                    "SZALL_DATUM": "2016-11-05",
                                    "SZALL_MOD": "NULL",
                                    "(No column name)": "1"
                                },
                                {
                                    "SZALL_DATUM": "2016-11-06",
                                    "SZALL_MOD": "NULL",
                                    "(No column name)": "1"
                                },
                                {
                                    "SZALL_DATUM": "2016-11-07",
                                    "SZALL_MOD": "NULL",
                                    "(No column name)": "1"
                                },
                                {
                                    "SZALL_DATUM": "2016-11-08",
                                    "SZALL_MOD": "NULL",
                                    "(No column name)": "1"
                                },
                                {
                                    "SZALL_DATUM": "2016-11-09",
                                    "SZALL_MOD": "NULL",
                                    "(No column name)": "1"
                                },
                                {
                                    "SZALL_DATUM": "2016-11-10",
                                    "SZALL_MOD": "NULL",
                                    "(No column name)": "1"
                                },
                                {
                                    "SZALL_DATUM": "2016-11-11",
                                    "SZALL_MOD": "NULL",
                                    "(No column name)": "1"
                                },
                                {
                                    "SZALL_DATUM": "2016-11-12",
                                    "SZALL_MOD": "NULL",
                                    "(No column name)": "1"
                                },
                                {
                                    "SZALL_DATUM": "2016-11-13",
                                    "SZALL_MOD": "NULL",
                                    "(No column name)": "1"
                                },
                                {
                                    "SZALL_DATUM": "2016-11-14",
                                    "SZALL_MOD": "NULL",
                                    "(No column name)": "1"
                                },
                                {
                                    "SZALL_DATUM": "2016-11-15",
                                    "SZALL_MOD": "NULL",
                                    "(No column name)": "1"
                                },
                                {
                                    "SZALL_DATUM": "2016-11-16",
                                    "SZALL_MOD": "NULL",
                                    "(No column name)": "1"
                                },
                                {
                                    "SZALL_DATUM": "2016-11-17",
                                    "SZALL_MOD": "NULL",
                                    "(No column name)": "1"
                                },
                                {
                                    "SZALL_DATUM": "2016-11-18",
                                    "SZALL_MOD": "NULL",
                                    "(No column name)": "1"
                                },
                                {
                                    "SZALL_DATUM": "2016-11-19",
                                    "SZALL_MOD": "NULL",
                                    "(No column name)": "1"
                                },
                                {
                                    "SZALL_DATUM": "2016-11-20",
                                    "SZALL_MOD": "NULL",
                                    "(No column name)": "1"
                                },
                                {
                                    "SZALL_DATUM": "2016-11-21",
                                    "SZALL_MOD": "NULL",
                                    "(No column name)": "1"
                                },
                                {
                                    "SZALL_DATUM": "2016-11-22",
                                    "SZALL_MOD": "NULL",
                                    "(No column name)": "1"
                                },
                                {
                                    "SZALL_DATUM": "2016-11-23",
                                    "SZALL_MOD": "NULL",
                                    "(No column name)": "1"
                                },
                                {
                                    "SZALL_DATUM": "2016-11-24",
                                    "SZALL_MOD": "NULL",
                                    "(No column name)": "1"
                                },
                                {
                                    "SZALL_DATUM": "2016-11-25",
                                    "SZALL_MOD": "NULL",
                                    "(No column name)": "1"
                                },
                                {
                                    "SZALL_DATUM": "2016-11-26",
                                    "SZALL_MOD": "NULL",
                                    "(No column name)": "1"
                                },
                                {
                                    "SZALL_DATUM": "2016-11-27",
                                    "SZALL_MOD": "NULL",
                                    "(No column name)": "1"
                                },
                                {
                                    "SZALL_DATUM": "2016-11-28",
                                    "SZALL_MOD": "NULL",
                                    "(No column name)": "1"
                                },
                                {
                                    "SZALL_DATUM": "2016-11-29",
                                    "SZALL_MOD": "NULL",
                                    "(No column name)": "1"
                                },
                                {
                                    "SZALL_DATUM": "2016-11-30",
                                    "SZALL_MOD": "NULL",
                                    "(No column name)": "1"
                                },
                                {
                                    "SZALL_DATUM": "2016-12-01",
                                    "SZALL_MOD": "NULL",
                                    "(No column name)": "1"
                                },
                                {
                                    "SZALL_DATUM": "2016-12-02",
                                    "SZALL_MOD": "NULL",
                                    "(No column name)": "1"
                                },
                                {
                                    "SZALL_DATUM": "2016-12-03",
                                    "SZALL_MOD": "NULL",
                                    "(No column name)": "1"
                                },
                                {
                                    "SZALL_DATUM": "2016-12-04",
                                    "SZALL_MOD": "NULL",
                                    "(No column name)": "1"
                                },
                                {
                                    "SZALL_DATUM": "2016-12-05",
                                    "SZALL_MOD": "NULL",
                                    "(No column name)": "1"
                                },
                                {
                                    "SZALL_DATUM": "2016-12-06",
                                    "SZALL_MOD": "NULL",
                                    "(No column name)": "1"
                                },
                                {
                                    "SZALL_DATUM": "2016-12-07",
                                    "SZALL_MOD": "NULL",
                                    "(No column name)": "1"
                                },
                                {
                                    "SZALL_DATUM": "2016-12-08",
                                    "SZALL_MOD": "NULL",
                                    "(No column name)": "1"
                                },
                                {
                                    "SZALL_DATUM": "2016-12-09",
                                    "SZALL_MOD": "NULL",
                                    "(No column name)": "1"
                                },
                                {
                                    "SZALL_DATUM": "2016-12-10",
                                    "SZALL_MOD": "NULL",
                                    "(No column name)": "1"
                                },
                                {
                                    "SZALL_DATUM": "2016-12-11",
                                    "SZALL_MOD": "NULL",
                                    "(No column name)": "1"
                                },
                                {
                                    "SZALL_DATUM": "2016-12-12",
                                    "SZALL_MOD": "NULL",
                                    "(No column name)": "1"
                                },
                                {
                                    "SZALL_DATUM": "2016-12-13",
                                    "SZALL_MOD": "NULL",
                                    "(No column name)": "1"
                                },
                                {
                                    "SZALL_DATUM": "2016-12-14",
                                    "SZALL_MOD": "NULL",
                                    "(No column name)": "1"
                                },
                                {
                                    "SZALL_DATUM": "2016-12-15",
                                    "SZALL_MOD": "NULL",
                                    "(No column name)": "1"
                                },
                                {
                                    "SZALL_DATUM": "2016-12-16",
                                    "SZALL_MOD": "NULL",
                                    "(No column name)": "1"
                                },
                                {
                                    "SZALL_DATUM": "2016-12-17",
                                    "SZALL_MOD": "NULL",
                                    "(No column name)": "1"
                                },
                                {
                                    "SZALL_DATUM": "2016-12-18",
                                    "SZALL_MOD": "NULL",
                                    "(No column name)": "1"
                                },
                                {
                                    "SZALL_DATUM": "2016-12-19",
                                    "SZALL_MOD": "NULL",
                                    "(No column name)": "1"
                                },
                                {
                                    "SZALL_DATUM": "2016-12-20",
                                    "SZALL_MOD": "NULL",
                                    "(No column name)": "1"
                                },
                                {
                                    "SZALL_DATUM": "2016-12-21",
                                    "SZALL_MOD": "NULL",
                                    "(No column name)": "1"
                                },
                                {
                                    "SZALL_DATUM": "2016-12-22",
                                    "SZALL_MOD": "NULL",
                                    "(No column name)": "1"
                                },
                                {
                                    "SZALL_DATUM": "2016-12-23",
                                    "SZALL_MOD": "NULL",
                                    "(No column name)": "1"
                                },
                                {
                                    "SZALL_DATUM": "2016-12-24",
                                    "SZALL_MOD": "NULL",
                                    "(No column name)": "1"
                                },
                                {
                                    "SZALL_DATUM": "2016-12-25",
                                    "SZALL_MOD": "NULL",
                                    "(No column name)": "1"
                                },
                                {
                                    "SZALL_DATUM": "2016-12-26",
                                    "SZALL_MOD": "NULL",
                                    "(No column name)": "1"
                                },
                                {
                                    "SZALL_DATUM": "2016-12-27",
                                    "SZALL_MOD": "NULL",
                                    "(No column name)": "1"
                                },
                                {
                                    "SZALL_DATUM": "2016-12-28",
                                    "SZALL_MOD": "NULL",
                                    "(No column name)": "1"
                                },
                                {
                                    "SZALL_DATUM": "2016-12-29",
                                    "SZALL_MOD": "NULL",
                                    "(No column name)": "1"
                                },
                                {
                                    "SZALL_DATUM": "2016-12-30",
                                    "SZALL_MOD": "NULL",
                                    "(No column name)": "1"
                                },
                                {
                                    "SZALL_DATUM": "2016-12-31",
                                    "SZALL_MOD": "NULL",
                                    "(No column name)": "1"
                                },
                                {
                                    "SZALL_DATUM": "2017-01-01",
                                    "SZALL_MOD": "NULL",
                                    "(No column name)": "1"
                                },
                                {
                                    "SZALL_DATUM": "2017-01-02",
                                    "SZALL_MOD": "NULL",
                                    "(No column name)": "1"
                                },
                                {
                                    "SZALL_DATUM": "2017-01-03",
                                    "SZALL_MOD": "NULL",
                                    "(No column name)": "1"
                                },
                                {
                                    "SZALL_DATUM": "2017-01-04",
                                    "SZALL_MOD": "NULL",
                                    "(No column name)": "1"
                                },
                                {
                                    "SZALL_DATUM": "2017-01-05",
                                    "SZALL_MOD": "NULL",
                                    "(No column name)": "1"
                                },
                                {
                                    "SZALL_DATUM": "2017-01-06",
                                    "SZALL_MOD": "NULL",
                                    "(No column name)": "1"
                                },
                                {
                                    "SZALL_DATUM": "2017-01-07",
                                    "SZALL_MOD": "NULL",
                                    "(No column name)": "1"
                                },
                                {
                                    "SZALL_DATUM": "2017-01-08",
                                    "SZALL_MOD": "NULL",
                                    "(No column name)": "1"
                                },
                                {
                                    "SZALL_DATUM": "2017-01-09",
                                    "SZALL_MOD": "NULL",
                                    "(No column name)": "1"
                                },
                                {
                                    "SZALL_DATUM": "2017-01-10",
                                    "SZALL_MOD": "NULL",
                                    "(No column name)": "1"
                                },
                                {
                                    "SZALL_DATUM": "2017-01-11",
                                    "SZALL_MOD": "NULL",
                                    "(No column name)": "1"
                                },
                                {
                                    "SZALL_DATUM": "2017-01-12",
                                    "SZALL_MOD": "NULL",
                                    "(No column name)": "1"
                                },
                                {
                                    "SZALL_DATUM": "2017-01-13",
                                    "SZALL_MOD": "NULL",
                                    "(No column name)": "1"
                                },
                                {
                                    "SZALL_DATUM": "2017-01-14",
                                    "SZALL_MOD": "NULL",
                                    "(No column name)": "1"
                                },
                                {
                                    "SZALL_DATUM": "2017-01-15",
                                    "SZALL_MOD": "NULL",
                                    "(No column name)": "1"
                                },
                                {
                                    "SZALL_DATUM": "2017-01-16",
                                    "SZALL_MOD": "NULL",
                                    "(No column name)": "1"
                                },
                                {
                                    "SZALL_DATUM": "2017-01-17",
                                    "SZALL_MOD": "NULL",
                                    "(No column name)": "1"
                                },
                                {
                                    "SZALL_DATUM": "2017-01-18",
                                    "SZALL_MOD": "NULL",
                                    "(No column name)": "1"
                                },
                                {
                                    "SZALL_DATUM": "2017-01-19",
                                    "SZALL_MOD": "NULL",
                                    "(No column name)": "1"
                                },
                                {
                                    "SZALL_DATUM": "2017-01-20",
                                    "SZALL_MOD": "NULL",
                                    "(No column name)": "1"
                                },
                                {
                                    "SZALL_DATUM": "2017-01-21",
                                    "SZALL_MOD": "NULL",
                                    "(No column name)": "1"
                                },
                                {
                                    "SZALL_DATUM": "2017-01-22",
                                    "SZALL_MOD": "NULL",
                                    "(No column name)": "1"
                                },
                                {
                                    "SZALL_DATUM": "2017-01-23",
                                    "SZALL_MOD": "NULL",
                                    "(No column name)": "1"
                                },
                                {
                                    "SZALL_DATUM": "2017-01-24",
                                    "SZALL_MOD": "NULL",
                                    "(No column name)": "1"
                                },
                                {
                                    "SZALL_DATUM": "2017-01-25",
                                    "SZALL_MOD": "NULL",
                                    "(No column name)": "1"
                                },
                                {
                                    "SZALL_DATUM": "2017-01-26",
                                    "SZALL_MOD": "NULL",
                                    "(No column name)": "1"
                                },
                                {
                                    "SZALL_DATUM": "2017-01-27",
                                    "SZALL_MOD": "NULL",
                                    "(No column name)": "1"
                                },
                                {
                                    "SZALL_DATUM": "2017-01-28",
                                    "SZALL_MOD": "NULL",
                                    "(No column name)": "1"
                                },
                                {
                                    "SZALL_DATUM": "2017-01-29",
                                    "SZALL_MOD": "NULL",
                                    "(No column name)": "1"
                                },
                                {
                                    "SZALL_DATUM": "2017-01-30",
                                    "SZALL_MOD": "NULL",
                                    "(No column name)": "1"
                                },
                                {
                                    "SZALL_DATUM": "2017-01-31",
                                    "SZALL_MOD": "NULL",
                                    "(No column name)": "1"
                                },
                                {
                                    "SZALL_DATUM": "2017-02-01",
                                    "SZALL_MOD": "NULL",
                                    "(No column name)": "1"
                                },
                                {
                                    "SZALL_DATUM": "2017-02-02",
                                    "SZALL_MOD": "NULL",
                                    "(No column name)": "1"
                                },
                                {
                                    "SZALL_DATUM": "2017-02-03",
                                    "SZALL_MOD": "NULL",
                                    "(No column name)": "1"
                                },
                                {
                                    "SZALL_DATUM": "2017-02-04",
                                    "SZALL_MOD": "NULL",
                                    "(No column name)": "1"
                                },
                                {
                                    "SZALL_DATUM": "2017-02-05",
                                    "SZALL_MOD": "NULL",
                                    "(No column name)": "1"
                                },
                                {
                                    "SZALL_DATUM": "2017-02-06",
                                    "SZALL_MOD": "NULL",
                                    "(No column name)": "1"
                                },
                                {
                                    "SZALL_DATUM": "2017-02-07",
                                    "SZALL_MOD": "NULL",
                                    "(No column name)": "1"
                                },
                                {
                                    "SZALL_DATUM": "2017-02-08",
                                    "SZALL_MOD": "NULL",
                                    "(No column name)": "1"
                                },
                                {
                                    "SZALL_DATUM": "2017-02-09",
                                    "SZALL_MOD": "NULL",
                                    "(No column name)": "1"
                                },
                                {
                                    "SZALL_DATUM": "2017-02-10",
                                    "SZALL_MOD": "NULL",
                                    "(No column name)": "1"
                                },
                                {
                                    "SZALL_DATUM": "2017-02-11",
                                    "SZALL_MOD": "NULL",
                                    "(No column name)": "1"
                                },
                                {
                                    "SZALL_DATUM": "2017-02-12",
                                    "SZALL_MOD": "NULL",
                                    "(No column name)": "1"
                                },
                                {
                                    "SZALL_DATUM": "2017-02-13",
                                    "SZALL_MOD": "NULL",
                                    "(No column name)": "1"
                                },
                                {
                                    "SZALL_DATUM": "2017-02-14",
                                    "SZALL_MOD": "NULL",
                                    "(No column name)": "1"
                                },
                                {
                                    "SZALL_DATUM": "2017-02-15",
                                    "SZALL_MOD": "NULL",
                                    "(No column name)": "1"
                                },
                                {
                                    "SZALL_DATUM": "2017-02-16",
                                    "SZALL_MOD": "NULL",
                                    "(No column name)": "1"
                                },
                                {
                                    "SZALL_DATUM": "2017-02-17",
                                    "SZALL_MOD": "NULL",
                                    "(No column name)": "1"
                                },
                                {
                                    "SZALL_DATUM": "2017-02-18",
                                    "SZALL_MOD": "NULL",
                                    "(No column name)": "1"
                                },
                                {
                                    "SZALL_DATUM": "2017-02-19",
                                    "SZALL_MOD": "NULL",
                                    "(No column name)": "1"
                                },
                                {
                                    "SZALL_DATUM": "2017-02-20",
                                    "SZALL_MOD": "NULL",
                                    "(No column name)": "1"
                                },
                                {
                                    "SZALL_DATUM": "2017-02-21",
                                    "SZALL_MOD": "NULL",
                                    "(No column name)": "1"
                                },
                                {
                                    "SZALL_DATUM": "2017-02-22",
                                    "SZALL_MOD": "NULL",
                                    "(No column name)": "1"
                                },
                                {
                                    "SZALL_DATUM": "2017-02-23",
                                    "SZALL_MOD": "NULL",
                                    "(No column name)": "1"
                                },
                                {
                                    "SZALL_DATUM": "2017-02-24",
                                    "SZALL_MOD": "NULL",
                                    "(No column name)": "1"
                                },
                                {
                                    "SZALL_DATUM": "2017-02-25",
                                    "SZALL_MOD": "NULL",
                                    "(No column name)": "1"
                                },
                                {
                                    "SZALL_DATUM": "2017-02-26",
                                    "SZALL_MOD": "NULL",
                                    "(No column name)": "1"
                                },
                                {
                                    "SZALL_DATUM": "2017-02-27",
                                    "SZALL_MOD": "NULL",
                                    "(No column name)": "1"
                                },
                                {
                                    "SZALL_DATUM": "2017-02-28",
                                    "SZALL_MOD": "NULL",
                                    "(No column name)": "1"
                                },
                                {
                                    "SZALL_DATUM": "2017-03-01",
                                    "SZALL_MOD": "NULL",
                                    "(No column name)": "1"
                                },
                                {
                                    "SZALL_DATUM": "2017-03-02",
                                    "SZALL_MOD": "NULL",
                                    "(No column name)": "1"
                                },
                                {
                                    "SZALL_DATUM": "2017-03-03",
                                    "SZALL_MOD": "NULL",
                                    "(No column name)": "1"
                                },
                                {
                                    "SZALL_DATUM": "2017-03-04",
                                    "SZALL_MOD": "NULL",
                                    "(No column name)": "1"
                                },
                                {
                                    "SZALL_DATUM": "2017-03-05",
                                    "SZALL_MOD": "NULL",
                                    "(No column name)": "1"
                                },
                                {
                                    "SZALL_DATUM": "2017-03-06",
                                    "SZALL_MOD": "NULL",
                                    "(No column name)": "1"
                                },
                                {
                                    "SZALL_DATUM": "2017-03-07",
                                    "SZALL_MOD": "NULL",
                                    "(No column name)": "1"
                                },
                                {
                                    "SZALL_DATUM": "2017-03-08",
                                    "SZALL_MOD": "NULL",
                                    "(No column name)": "1"
                                },
                                {
                                    "SZALL_DATUM": "2017-03-09",
                                    "SZALL_MOD": "NULL",
                                    "(No column name)": "1"
                                },
                                {
                                    "SZALL_DATUM": "2017-03-10",
                                    "SZALL_MOD": "NULL",
                                    "(No column name)": "1"
                                },
                                {
                                    "SZALL_DATUM": "2017-03-11",
                                    "SZALL_MOD": "NULL",
                                    "(No column name)": "1"
                                },
                                {
                                    "SZALL_DATUM": "2017-03-12",
                                    "SZALL_MOD": "NULL",
                                    "(No column name)": "1"
                                },
                                {
                                    "SZALL_DATUM": "2017-03-13",
                                    "SZALL_MOD": "NULL",
                                    "(No column name)": "1"
                                },
                                {
                                    "SZALL_DATUM": "2017-03-14",
                                    "SZALL_MOD": "NULL",
                                    "(No column name)": "1"
                                },
                                {
                                    "SZALL_DATUM": "2017-03-15",
                                    "SZALL_MOD": "NULL",
                                    "(No column name)": "1"
                                },
                                {
                                    "SZALL_DATUM": "2017-03-16",
                                    "SZALL_MOD": "NULL",
                                    "(No column name)": "1"
                                },
                                {
                                    "SZALL_DATUM": "2017-03-17",
                                    "SZALL_MOD": "NULL",
                                    "(No column name)": "1"
                                },
                                {
                                    "SZALL_DATUM": "2017-03-18",
                                    "SZALL_MOD": "NULL",
                                    "(No column name)": "1"
                                },
                                {
                                    "SZALL_DATUM": "2017-03-19",
                                    "SZALL_MOD": "NULL",
                                    "(No column name)": "1"
                                },
                                {
                                    "SZALL_DATUM": "2017-03-20",
                                    "SZALL_MOD": "NULL",
                                    "(No column name)": "1"
                                },
                                {
                                    "SZALL_DATUM": "2017-03-21",
                                    "SZALL_MOD": "NULL",
                                    "(No column name)": "1"
                                },
                                {
                                    "SZALL_DATUM": "2017-03-22",
                                    "SZALL_MOD": "NULL",
                                    "(No column name)": "1"
                                },
                                {
                                    "SZALL_DATUM": "2017-03-23",
                                    "SZALL_MOD": "NULL",
                                    "(No column name)": "1"
                                },
                                {
                                    "SZALL_DATUM": "2017-03-24",
                                    "SZALL_MOD": "NULL",
                                    "(No column name)": "1"
                                },
                                {
                                    "SZALL_DATUM": "2017-03-25",
                                    "SZALL_MOD": "NULL",
                                    "(No column name)": "1"
                                },
                                {
                                    "SZALL_DATUM": "2017-03-26",
                                    "SZALL_MOD": "NULL",
                                    "(No column name)": "1"
                                },
                                {
                                    "SZALL_DATUM": "2017-03-27",
                                    "SZALL_MOD": "NULL",
                                    "(No column name)": "1"
                                },
                                {
                                    "SZALL_DATUM": "2017-03-28",
                                    "SZALL_MOD": "NULL",
                                    "(No column name)": "1"
                                },
                                {
                                    "SZALL_DATUM": "2017-03-29",
                                    "SZALL_MOD": "NULL",
                                    "(No column name)": "1"
                                },
                                {
                                    "SZALL_DATUM": "2017-03-30",
                                    "SZALL_MOD": "NULL",
                                    "(No column name)": "1"
                                },
                                {
                                    "SZALL_DATUM": "2017-03-31",
                                    "SZALL_MOD": "NULL",
                                    "(No column name)": "1"
                                },
                                {
                                    "SZALL_DATUM": "2017-04-01",
                                    "SZALL_MOD": "NULL",
                                    "(No column name)": "1"
                                },
                                {
                                    "SZALL_DATUM": "2017-04-02",
                                    "SZALL_MOD": "NULL",
                                    "(No column name)": "1"
                                },
                                {
                                    "SZALL_DATUM": "2017-04-03",
                                    "SZALL_MOD": "NULL",
                                    "(No column name)": "1"
                                },
                                {
                                    "SZALL_DATUM": "2017-04-04",
                                    "SZALL_MOD": "NULL",
                                    "(No column name)": "1"
                                },
                                {
                                    "SZALL_DATUM": "2017-04-05",
                                    "SZALL_MOD": "NULL",
                                    "(No column name)": "1"
                                },
                                {
                                    "SZALL_DATUM": "2017-04-06",
                                    "SZALL_MOD": "NULL",
                                    "(No column name)": "1"
                                },
                                {
                                    "SZALL_DATUM": "2017-04-07",
                                    "SZALL_MOD": "NULL",
                                    "(No column name)": "1"
                                },
                                {
                                    "SZALL_DATUM": "2017-04-08",
                                    "SZALL_MOD": "NULL",
                                    "(No column name)": "1"
                                },
                                {
                                    "SZALL_DATUM": "2017-04-09",
                                    "SZALL_MOD": "NULL",
                                    "(No column name)": "1"
                                },
                                {
                                    "SZALL_DATUM": "2017-04-10",
                                    "SZALL_MOD": "NULL",
                                    "(No column name)": "1"
                                },
                                {
                                    "SZALL_DATUM": "2017-04-11",
                                    "SZALL_MOD": "NULL",
                                    "(No column name)": "1"
                                },
                                {
                                    "SZALL_DATUM": "NULL",
                                    "SZALL_MOD": "NULL",
                                    "(No column name)": "3"
                                }
                            ]
                        },
                        "text/html": [
                            "<table>",
                            "<tr><th>SZALL_DATUM</th><th>SZALL_MOD</th><th>(No column name)</th></tr>",
                            "<tr><td>2015-05-03</td><td>NULL</td><td>1</td></tr>",
                            "<tr><td>2015-05-04</td><td>NULL</td><td>1</td></tr>",
                            "<tr><td>2015-05-05</td><td>NULL</td><td>1</td></tr>",
                            "<tr><td>2015-05-06</td><td>NULL</td><td>1</td></tr>",
                            "<tr><td>2015-05-07</td><td>NULL</td><td>1</td></tr>",
                            "<tr><td>2015-05-08</td><td>NULL</td><td>1</td></tr>",
                            "<tr><td>2015-05-09</td><td>NULL</td><td>1</td></tr>",
                            "<tr><td>2015-05-10</td><td>NULL</td><td>1</td></tr>",
                            "<tr><td>2015-05-11</td><td>NULL</td><td>1</td></tr>",
                            "<tr><td>2015-05-12</td><td>NULL</td><td>1</td></tr>",
                            "<tr><td>2015-05-13</td><td>NULL</td><td>1</td></tr>",
                            "<tr><td>2015-05-14</td><td>NULL</td><td>1</td></tr>",
                            "<tr><td>2015-05-15</td><td>NULL</td><td>1</td></tr>",
                            "<tr><td>2015-05-16</td><td>NULL</td><td>1</td></tr>",
                            "<tr><td>2015-05-17</td><td>NULL</td><td>1</td></tr>",
                            "<tr><td>2015-05-18</td><td>NULL</td><td>1</td></tr>",
                            "<tr><td>2015-05-19</td><td>NULL</td><td>1</td></tr>",
                            "<tr><td>2015-05-20</td><td>NULL</td><td>1</td></tr>",
                            "<tr><td>2015-05-21</td><td>NULL</td><td>1</td></tr>",
                            "<tr><td>2015-05-22</td><td>NULL</td><td>1</td></tr>",
                            "<tr><td>2015-05-23</td><td>NULL</td><td>1</td></tr>",
                            "<tr><td>2015-05-24</td><td>NULL</td><td>1</td></tr>",
                            "<tr><td>2015-05-25</td><td>NULL</td><td>1</td></tr>",
                            "<tr><td>2015-05-26</td><td>NULL</td><td>1</td></tr>",
                            "<tr><td>2015-05-27</td><td>NULL</td><td>1</td></tr>",
                            "<tr><td>2015-05-28</td><td>NULL</td><td>1</td></tr>",
                            "<tr><td>2015-05-29</td><td>NULL</td><td>1</td></tr>",
                            "<tr><td>2015-05-30</td><td>NULL</td><td>1</td></tr>",
                            "<tr><td>2015-05-31</td><td>NULL</td><td>1</td></tr>",
                            "<tr><td>2015-06-01</td><td>NULL</td><td>1</td></tr>",
                            "<tr><td>2015-06-02</td><td>NULL</td><td>1</td></tr>",
                            "<tr><td>2015-06-03</td><td>NULL</td><td>1</td></tr>",
                            "<tr><td>2015-06-04</td><td>NULL</td><td>1</td></tr>",
                            "<tr><td>2015-06-05</td><td>NULL</td><td>1</td></tr>",
                            "<tr><td>2015-06-06</td><td>NULL</td><td>1</td></tr>",
                            "<tr><td>2015-06-07</td><td>NULL</td><td>1</td></tr>",
                            "<tr><td>2015-06-08</td><td>NULL</td><td>1</td></tr>",
                            "<tr><td>2015-06-09</td><td>NULL</td><td>1</td></tr>",
                            "<tr><td>2015-06-10</td><td>NULL</td><td>1</td></tr>",
                            "<tr><td>2015-06-11</td><td>NULL</td><td>1</td></tr>",
                            "<tr><td>2015-06-12</td><td>NULL</td><td>1</td></tr>",
                            "<tr><td>2015-06-13</td><td>NULL</td><td>1</td></tr>",
                            "<tr><td>2015-06-14</td><td>NULL</td><td>1</td></tr>",
                            "<tr><td>2015-06-15</td><td>NULL</td><td>1</td></tr>",
                            "<tr><td>2015-06-16</td><td>NULL</td><td>1</td></tr>",
                            "<tr><td>2015-06-17</td><td>NULL</td><td>1</td></tr>",
                            "<tr><td>2015-06-18</td><td>NULL</td><td>1</td></tr>",
                            "<tr><td>2015-06-19</td><td>NULL</td><td>1</td></tr>",
                            "<tr><td>2015-06-20</td><td>NULL</td><td>1</td></tr>",
                            "<tr><td>2015-06-21</td><td>NULL</td><td>1</td></tr>",
                            "<tr><td>2015-06-22</td><td>NULL</td><td>1</td></tr>",
                            "<tr><td>2015-06-23</td><td>NULL</td><td>1</td></tr>",
                            "<tr><td>2015-06-24</td><td>NULL</td><td>1</td></tr>",
                            "<tr><td>2015-06-25</td><td>NULL</td><td>1</td></tr>",
                            "<tr><td>2015-06-26</td><td>NULL</td><td>1</td></tr>",
                            "<tr><td>2015-06-27</td><td>NULL</td><td>1</td></tr>",
                            "<tr><td>2015-06-28</td><td>NULL</td><td>1</td></tr>",
                            "<tr><td>2015-06-29</td><td>NULL</td><td>1</td></tr>",
                            "<tr><td>2015-06-30</td><td>NULL</td><td>1</td></tr>",
                            "<tr><td>2015-07-01</td><td>NULL</td><td>1</td></tr>",
                            "<tr><td>2015-07-02</td><td>NULL</td><td>1</td></tr>",
                            "<tr><td>2015-07-03</td><td>NULL</td><td>1</td></tr>",
                            "<tr><td>2015-07-04</td><td>NULL</td><td>1</td></tr>",
                            "<tr><td>2015-07-05</td><td>NULL</td><td>1</td></tr>",
                            "<tr><td>2015-07-06</td><td>NULL</td><td>1</td></tr>",
                            "<tr><td>2015-07-07</td><td>NULL</td><td>1</td></tr>",
                            "<tr><td>2015-07-08</td><td>NULL</td><td>1</td></tr>",
                            "<tr><td>2015-07-09</td><td>NULL</td><td>1</td></tr>",
                            "<tr><td>2015-07-10</td><td>NULL</td><td>1</td></tr>",
                            "<tr><td>2015-07-11</td><td>NULL</td><td>1</td></tr>",
                            "<tr><td>2015-07-12</td><td>NULL</td><td>1</td></tr>",
                            "<tr><td>2015-07-13</td><td>NULL</td><td>1</td></tr>",
                            "<tr><td>2015-07-14</td><td>NULL</td><td>1</td></tr>",
                            "<tr><td>2015-07-15</td><td>NULL</td><td>1</td></tr>",
                            "<tr><td>2015-07-16</td><td>NULL</td><td>1</td></tr>",
                            "<tr><td>2015-07-17</td><td>NULL</td><td>1</td></tr>",
                            "<tr><td>2015-07-18</td><td>NULL</td><td>1</td></tr>",
                            "<tr><td>2015-07-19</td><td>NULL</td><td>1</td></tr>",
                            "<tr><td>2015-07-20</td><td>NULL</td><td>1</td></tr>",
                            "<tr><td>2015-07-21</td><td>NULL</td><td>1</td></tr>",
                            "<tr><td>2015-07-22</td><td>NULL</td><td>1</td></tr>",
                            "<tr><td>2015-07-23</td><td>NULL</td><td>1</td></tr>",
                            "<tr><td>2015-07-24</td><td>NULL</td><td>1</td></tr>",
                            "<tr><td>2015-07-25</td><td>NULL</td><td>1</td></tr>",
                            "<tr><td>2015-07-26</td><td>NULL</td><td>1</td></tr>",
                            "<tr><td>2015-07-27</td><td>NULL</td><td>1</td></tr>",
                            "<tr><td>2015-07-28</td><td>NULL</td><td>1</td></tr>",
                            "<tr><td>2015-07-29</td><td>NULL</td><td>1</td></tr>",
                            "<tr><td>2015-07-30</td><td>NULL</td><td>1</td></tr>",
                            "<tr><td>2015-07-31</td><td>NULL</td><td>1</td></tr>",
                            "<tr><td>2015-08-01</td><td>NULL</td><td>1</td></tr>",
                            "<tr><td>2015-08-02</td><td>NULL</td><td>1</td></tr>",
                            "<tr><td>2015-08-03</td><td>NULL</td><td>1</td></tr>",
                            "<tr><td>2015-08-04</td><td>NULL</td><td>1</td></tr>",
                            "<tr><td>2015-08-05</td><td>NULL</td><td>1</td></tr>",
                            "<tr><td>2015-08-06</td><td>NULL</td><td>1</td></tr>",
                            "<tr><td>2015-08-07</td><td>NULL</td><td>1</td></tr>",
                            "<tr><td>2015-08-08</td><td>NULL</td><td>1</td></tr>",
                            "<tr><td>2015-08-09</td><td>NULL</td><td>1</td></tr>",
                            "<tr><td>2015-08-10</td><td>NULL</td><td>1</td></tr>",
                            "<tr><td>2015-08-11</td><td>NULL</td><td>1</td></tr>",
                            "<tr><td>2015-08-12</td><td>NULL</td><td>1</td></tr>",
                            "<tr><td>2015-08-13</td><td>NULL</td><td>1</td></tr>",
                            "<tr><td>2015-08-14</td><td>NULL</td><td>1</td></tr>",
                            "<tr><td>2015-08-15</td><td>NULL</td><td>1</td></tr>",
                            "<tr><td>2015-08-16</td><td>NULL</td><td>1</td></tr>",
                            "<tr><td>2015-08-17</td><td>NULL</td><td>1</td></tr>",
                            "<tr><td>2015-08-18</td><td>NULL</td><td>1</td></tr>",
                            "<tr><td>2015-08-19</td><td>NULL</td><td>1</td></tr>",
                            "<tr><td>2015-08-20</td><td>NULL</td><td>1</td></tr>",
                            "<tr><td>2015-08-21</td><td>NULL</td><td>1</td></tr>",
                            "<tr><td>2015-08-22</td><td>NULL</td><td>1</td></tr>",
                            "<tr><td>2015-08-23</td><td>NULL</td><td>1</td></tr>",
                            "<tr><td>2015-08-24</td><td>NULL</td><td>1</td></tr>",
                            "<tr><td>2015-08-25</td><td>NULL</td><td>1</td></tr>",
                            "<tr><td>2015-08-26</td><td>NULL</td><td>1</td></tr>",
                            "<tr><td>2015-08-27</td><td>NULL</td><td>1</td></tr>",
                            "<tr><td>2015-08-28</td><td>NULL</td><td>1</td></tr>",
                            "<tr><td>2015-08-29</td><td>NULL</td><td>1</td></tr>",
                            "<tr><td>2015-08-30</td><td>NULL</td><td>1</td></tr>",
                            "<tr><td>2015-08-31</td><td>NULL</td><td>1</td></tr>",
                            "<tr><td>2015-09-01</td><td>NULL</td><td>1</td></tr>",
                            "<tr><td>2015-09-02</td><td>NULL</td><td>1</td></tr>",
                            "<tr><td>2015-09-03</td><td>NULL</td><td>1</td></tr>",
                            "<tr><td>2015-09-04</td><td>NULL</td><td>1</td></tr>",
                            "<tr><td>2015-09-05</td><td>NULL</td><td>1</td></tr>",
                            "<tr><td>2015-09-06</td><td>NULL</td><td>1</td></tr>",
                            "<tr><td>2015-09-07</td><td>NULL</td><td>1</td></tr>",
                            "<tr><td>2015-09-08</td><td>NULL</td><td>1</td></tr>",
                            "<tr><td>2015-09-09</td><td>NULL</td><td>1</td></tr>",
                            "<tr><td>2015-09-10</td><td>NULL</td><td>1</td></tr>",
                            "<tr><td>2015-09-11</td><td>NULL</td><td>1</td></tr>",
                            "<tr><td>2015-09-12</td><td>NULL</td><td>1</td></tr>",
                            "<tr><td>2015-09-13</td><td>NULL</td><td>1</td></tr>",
                            "<tr><td>2015-09-14</td><td>NULL</td><td>1</td></tr>",
                            "<tr><td>2015-09-15</td><td>NULL</td><td>1</td></tr>",
                            "<tr><td>2015-09-16</td><td>NULL</td><td>1</td></tr>",
                            "<tr><td>2015-09-17</td><td>NULL</td><td>1</td></tr>",
                            "<tr><td>2015-09-18</td><td>NULL</td><td>1</td></tr>",
                            "<tr><td>2015-09-19</td><td>NULL</td><td>1</td></tr>",
                            "<tr><td>2015-09-20</td><td>NULL</td><td>1</td></tr>",
                            "<tr><td>2015-09-21</td><td>NULL</td><td>1</td></tr>",
                            "<tr><td>2015-09-22</td><td>NULL</td><td>1</td></tr>",
                            "<tr><td>2015-09-23</td><td>NULL</td><td>1</td></tr>",
                            "<tr><td>2015-09-24</td><td>NULL</td><td>1</td></tr>",
                            "<tr><td>2015-09-25</td><td>NULL</td><td>1</td></tr>",
                            "<tr><td>2015-09-26</td><td>NULL</td><td>1</td></tr>",
                            "<tr><td>2015-09-27</td><td>NULL</td><td>1</td></tr>",
                            "<tr><td>2015-09-28</td><td>NULL</td><td>1</td></tr>",
                            "<tr><td>2015-09-29</td><td>NULL</td><td>1</td></tr>",
                            "<tr><td>2015-09-30</td><td>NULL</td><td>1</td></tr>",
                            "<tr><td>2015-10-01</td><td>NULL</td><td>1</td></tr>",
                            "<tr><td>2015-10-02</td><td>NULL</td><td>1</td></tr>",
                            "<tr><td>2015-10-03</td><td>NULL</td><td>1</td></tr>",
                            "<tr><td>2015-10-04</td><td>NULL</td><td>1</td></tr>",
                            "<tr><td>2015-10-05</td><td>NULL</td><td>1</td></tr>",
                            "<tr><td>2015-10-06</td><td>NULL</td><td>1</td></tr>",
                            "<tr><td>2015-10-07</td><td>NULL</td><td>1</td></tr>",
                            "<tr><td>2015-10-08</td><td>NULL</td><td>1</td></tr>",
                            "<tr><td>2015-10-09</td><td>NULL</td><td>1</td></tr>",
                            "<tr><td>2015-10-10</td><td>NULL</td><td>1</td></tr>",
                            "<tr><td>2015-10-11</td><td>NULL</td><td>1</td></tr>",
                            "<tr><td>2015-10-12</td><td>NULL</td><td>1</td></tr>",
                            "<tr><td>2015-10-13</td><td>NULL</td><td>1</td></tr>",
                            "<tr><td>2015-10-14</td><td>NULL</td><td>1</td></tr>",
                            "<tr><td>2015-10-15</td><td>NULL</td><td>1</td></tr>",
                            "<tr><td>2015-10-16</td><td>NULL</td><td>1</td></tr>",
                            "<tr><td>2015-10-17</td><td>NULL</td><td>1</td></tr>",
                            "<tr><td>2015-10-18</td><td>NULL</td><td>1</td></tr>",
                            "<tr><td>2015-10-19</td><td>NULL</td><td>1</td></tr>",
                            "<tr><td>2015-10-20</td><td>NULL</td><td>1</td></tr>",
                            "<tr><td>2015-10-21</td><td>NULL</td><td>1</td></tr>",
                            "<tr><td>2015-10-22</td><td>NULL</td><td>1</td></tr>",
                            "<tr><td>2015-10-23</td><td>NULL</td><td>1</td></tr>",
                            "<tr><td>2015-10-24</td><td>NULL</td><td>1</td></tr>",
                            "<tr><td>2015-10-25</td><td>NULL</td><td>1</td></tr>",
                            "<tr><td>2015-10-26</td><td>NULL</td><td>1</td></tr>",
                            "<tr><td>2015-10-27</td><td>NULL</td><td>1</td></tr>",
                            "<tr><td>2015-10-28</td><td>NULL</td><td>1</td></tr>",
                            "<tr><td>2015-10-29</td><td>NULL</td><td>1</td></tr>",
                            "<tr><td>2015-10-30</td><td>NULL</td><td>1</td></tr>",
                            "<tr><td>2015-10-31</td><td>NULL</td><td>1</td></tr>",
                            "<tr><td>2015-11-01</td><td>NULL</td><td>1</td></tr>",
                            "<tr><td>2015-11-02</td><td>NULL</td><td>1</td></tr>",
                            "<tr><td>2015-11-03</td><td>NULL</td><td>1</td></tr>",
                            "<tr><td>2015-11-04</td><td>NULL</td><td>1</td></tr>",
                            "<tr><td>2015-11-05</td><td>NULL</td><td>1</td></tr>",
                            "<tr><td>2015-11-06</td><td>NULL</td><td>1</td></tr>",
                            "<tr><td>2015-11-07</td><td>NULL</td><td>1</td></tr>",
                            "<tr><td>2015-11-08</td><td>NULL</td><td>1</td></tr>",
                            "<tr><td>2015-11-09</td><td>NULL</td><td>1</td></tr>",
                            "<tr><td>2015-11-10</td><td>NULL</td><td>1</td></tr>",
                            "<tr><td>2015-11-11</td><td>NULL</td><td>1</td></tr>",
                            "<tr><td>2015-11-12</td><td>NULL</td><td>1</td></tr>",
                            "<tr><td>2015-11-13</td><td>NULL</td><td>1</td></tr>",
                            "<tr><td>2015-11-14</td><td>NULL</td><td>1</td></tr>",
                            "<tr><td>2015-11-15</td><td>NULL</td><td>1</td></tr>",
                            "<tr><td>2015-11-16</td><td>NULL</td><td>1</td></tr>",
                            "<tr><td>2015-11-17</td><td>NULL</td><td>1</td></tr>",
                            "<tr><td>2015-11-18</td><td>NULL</td><td>1</td></tr>",
                            "<tr><td>2015-11-19</td><td>NULL</td><td>1</td></tr>",
                            "<tr><td>2015-11-20</td><td>NULL</td><td>1</td></tr>",
                            "<tr><td>2015-11-21</td><td>NULL</td><td>1</td></tr>",
                            "<tr><td>2015-11-22</td><td>NULL</td><td>1</td></tr>",
                            "<tr><td>2015-11-23</td><td>NULL</td><td>1</td></tr>",
                            "<tr><td>2015-11-24</td><td>NULL</td><td>1</td></tr>",
                            "<tr><td>2015-11-25</td><td>NULL</td><td>1</td></tr>",
                            "<tr><td>2015-11-26</td><td>NULL</td><td>1</td></tr>",
                            "<tr><td>2015-11-27</td><td>NULL</td><td>1</td></tr>",
                            "<tr><td>2015-11-28</td><td>NULL</td><td>1</td></tr>",
                            "<tr><td>2015-11-29</td><td>NULL</td><td>1</td></tr>",
                            "<tr><td>2015-11-30</td><td>NULL</td><td>1</td></tr>",
                            "<tr><td>2015-12-01</td><td>NULL</td><td>1</td></tr>",
                            "<tr><td>2015-12-02</td><td>NULL</td><td>1</td></tr>",
                            "<tr><td>2015-12-03</td><td>NULL</td><td>1</td></tr>",
                            "<tr><td>2015-12-04</td><td>NULL</td><td>1</td></tr>",
                            "<tr><td>2015-12-05</td><td>NULL</td><td>1</td></tr>",
                            "<tr><td>2015-12-06</td><td>NULL</td><td>1</td></tr>",
                            "<tr><td>2015-12-07</td><td>NULL</td><td>1</td></tr>",
                            "<tr><td>2015-12-08</td><td>NULL</td><td>1</td></tr>",
                            "<tr><td>2015-12-09</td><td>NULL</td><td>1</td></tr>",
                            "<tr><td>2015-12-10</td><td>NULL</td><td>1</td></tr>",
                            "<tr><td>2015-12-11</td><td>NULL</td><td>1</td></tr>",
                            "<tr><td>2015-12-12</td><td>NULL</td><td>1</td></tr>",
                            "<tr><td>2015-12-13</td><td>NULL</td><td>1</td></tr>",
                            "<tr><td>2015-12-14</td><td>NULL</td><td>1</td></tr>",
                            "<tr><td>2015-12-15</td><td>NULL</td><td>1</td></tr>",
                            "<tr><td>2015-12-16</td><td>NULL</td><td>1</td></tr>",
                            "<tr><td>2015-12-17</td><td>NULL</td><td>1</td></tr>",
                            "<tr><td>2015-12-18</td><td>NULL</td><td>1</td></tr>",
                            "<tr><td>2015-12-19</td><td>NULL</td><td>1</td></tr>",
                            "<tr><td>2015-12-20</td><td>NULL</td><td>1</td></tr>",
                            "<tr><td>2015-12-21</td><td>NULL</td><td>1</td></tr>",
                            "<tr><td>2015-12-22</td><td>NULL</td><td>1</td></tr>",
                            "<tr><td>2015-12-23</td><td>NULL</td><td>1</td></tr>",
                            "<tr><td>2015-12-24</td><td>NULL</td><td>1</td></tr>",
                            "<tr><td>2015-12-25</td><td>NULL</td><td>1</td></tr>",
                            "<tr><td>2015-12-26</td><td>NULL</td><td>1</td></tr>",
                            "<tr><td>2015-12-27</td><td>NULL</td><td>1</td></tr>",
                            "<tr><td>2015-12-28</td><td>NULL</td><td>1</td></tr>",
                            "<tr><td>2015-12-29</td><td>NULL</td><td>1</td></tr>",
                            "<tr><td>2015-12-30</td><td>NULL</td><td>1</td></tr>",
                            "<tr><td>2015-12-31</td><td>NULL</td><td>1</td></tr>",
                            "<tr><td>2016-01-01</td><td>NULL</td><td>1</td></tr>",
                            "<tr><td>2016-01-02</td><td>NULL</td><td>1</td></tr>",
                            "<tr><td>2016-01-03</td><td>NULL</td><td>1</td></tr>",
                            "<tr><td>2016-01-04</td><td>NULL</td><td>1</td></tr>",
                            "<tr><td>2016-01-05</td><td>NULL</td><td>1</td></tr>",
                            "<tr><td>2016-01-06</td><td>NULL</td><td>1</td></tr>",
                            "<tr><td>2016-01-07</td><td>NULL</td><td>1</td></tr>",
                            "<tr><td>2016-01-08</td><td>NULL</td><td>1</td></tr>",
                            "<tr><td>2016-01-09</td><td>NULL</td><td>1</td></tr>",
                            "<tr><td>2016-01-10</td><td>NULL</td><td>1</td></tr>",
                            "<tr><td>2016-01-11</td><td>NULL</td><td>1</td></tr>",
                            "<tr><td>2016-01-12</td><td>NULL</td><td>1</td></tr>",
                            "<tr><td>2016-01-13</td><td>NULL</td><td>1</td></tr>",
                            "<tr><td>2016-01-14</td><td>NULL</td><td>1</td></tr>",
                            "<tr><td>2016-01-15</td><td>NULL</td><td>1</td></tr>",
                            "<tr><td>2016-01-16</td><td>NULL</td><td>1</td></tr>",
                            "<tr><td>2016-01-17</td><td>NULL</td><td>1</td></tr>",
                            "<tr><td>2016-01-18</td><td>NULL</td><td>1</td></tr>",
                            "<tr><td>2016-01-19</td><td>NULL</td><td>1</td></tr>",
                            "<tr><td>2016-01-20</td><td>NULL</td><td>1</td></tr>",
                            "<tr><td>2016-01-21</td><td>NULL</td><td>1</td></tr>",
                            "<tr><td>2016-01-22</td><td>NULL</td><td>1</td></tr>",
                            "<tr><td>2016-01-23</td><td>NULL</td><td>1</td></tr>",
                            "<tr><td>2016-01-24</td><td>NULL</td><td>1</td></tr>",
                            "<tr><td>2016-01-25</td><td>NULL</td><td>1</td></tr>",
                            "<tr><td>2016-01-26</td><td>NULL</td><td>1</td></tr>",
                            "<tr><td>2016-01-27</td><td>NULL</td><td>1</td></tr>",
                            "<tr><td>2016-01-28</td><td>NULL</td><td>1</td></tr>",
                            "<tr><td>2016-01-29</td><td>NULL</td><td>1</td></tr>",
                            "<tr><td>2016-01-30</td><td>NULL</td><td>1</td></tr>",
                            "<tr><td>2016-01-31</td><td>NULL</td><td>1</td></tr>",
                            "<tr><td>2016-02-01</td><td>NULL</td><td>1</td></tr>",
                            "<tr><td>2016-02-02</td><td>NULL</td><td>1</td></tr>",
                            "<tr><td>2016-02-03</td><td>NULL</td><td>1</td></tr>",
                            "<tr><td>2016-02-04</td><td>NULL</td><td>1</td></tr>",
                            "<tr><td>2016-02-05</td><td>NULL</td><td>1</td></tr>",
                            "<tr><td>2016-02-06</td><td>NULL</td><td>1</td></tr>",
                            "<tr><td>2016-02-07</td><td>NULL</td><td>1</td></tr>",
                            "<tr><td>2016-02-08</td><td>NULL</td><td>1</td></tr>",
                            "<tr><td>2016-02-09</td><td>NULL</td><td>1</td></tr>",
                            "<tr><td>2016-02-10</td><td>NULL</td><td>1</td></tr>",
                            "<tr><td>2016-02-11</td><td>NULL</td><td>1</td></tr>",
                            "<tr><td>2016-02-12</td><td>NULL</td><td>1</td></tr>",
                            "<tr><td>2016-02-13</td><td>NULL</td><td>1</td></tr>",
                            "<tr><td>2016-02-14</td><td>NULL</td><td>1</td></tr>",
                            "<tr><td>2016-02-15</td><td>NULL</td><td>1</td></tr>",
                            "<tr><td>2016-02-16</td><td>NULL</td><td>1</td></tr>",
                            "<tr><td>2016-02-17</td><td>NULL</td><td>1</td></tr>",
                            "<tr><td>2016-02-18</td><td>NULL</td><td>1</td></tr>",
                            "<tr><td>2016-02-19</td><td>NULL</td><td>1</td></tr>",
                            "<tr><td>2016-02-20</td><td>NULL</td><td>1</td></tr>",
                            "<tr><td>2016-02-21</td><td>NULL</td><td>1</td></tr>",
                            "<tr><td>2016-02-22</td><td>NULL</td><td>1</td></tr>",
                            "<tr><td>2016-02-23</td><td>NULL</td><td>1</td></tr>",
                            "<tr><td>2016-02-24</td><td>NULL</td><td>1</td></tr>",
                            "<tr><td>2016-02-25</td><td>NULL</td><td>1</td></tr>",
                            "<tr><td>2016-02-26</td><td>NULL</td><td>1</td></tr>",
                            "<tr><td>2016-02-27</td><td>NULL</td><td>1</td></tr>",
                            "<tr><td>2016-02-28</td><td>NULL</td><td>1</td></tr>",
                            "<tr><td>2016-02-29</td><td>NULL</td><td>1</td></tr>",
                            "<tr><td>2016-03-01</td><td>NULL</td><td>1</td></tr>",
                            "<tr><td>2016-03-02</td><td>NULL</td><td>1</td></tr>",
                            "<tr><td>2016-03-03</td><td>NULL</td><td>1</td></tr>",
                            "<tr><td>2016-03-04</td><td>NULL</td><td>1</td></tr>",
                            "<tr><td>2016-03-05</td><td>NULL</td><td>1</td></tr>",
                            "<tr><td>2016-03-06</td><td>NULL</td><td>1</td></tr>",
                            "<tr><td>2016-03-07</td><td>NULL</td><td>1</td></tr>",
                            "<tr><td>2016-03-08</td><td>NULL</td><td>1</td></tr>",
                            "<tr><td>2016-03-09</td><td>NULL</td><td>1</td></tr>",
                            "<tr><td>2016-03-10</td><td>NULL</td><td>1</td></tr>",
                            "<tr><td>2016-03-11</td><td>NULL</td><td>1</td></tr>",
                            "<tr><td>2016-03-12</td><td>NULL</td><td>1</td></tr>",
                            "<tr><td>2016-03-13</td><td>NULL</td><td>1</td></tr>",
                            "<tr><td>2016-03-14</td><td>NULL</td><td>1</td></tr>",
                            "<tr><td>2016-03-15</td><td>NULL</td><td>1</td></tr>",
                            "<tr><td>2016-03-16</td><td>NULL</td><td>1</td></tr>",
                            "<tr><td>2016-03-17</td><td>NULL</td><td>1</td></tr>",
                            "<tr><td>2016-03-18</td><td>NULL</td><td>1</td></tr>",
                            "<tr><td>2016-03-19</td><td>NULL</td><td>1</td></tr>",
                            "<tr><td>2016-03-20</td><td>NULL</td><td>1</td></tr>",
                            "<tr><td>2016-03-21</td><td>NULL</td><td>1</td></tr>",
                            "<tr><td>2016-03-22</td><td>NULL</td><td>1</td></tr>",
                            "<tr><td>2016-03-23</td><td>NULL</td><td>1</td></tr>",
                            "<tr><td>2016-03-24</td><td>NULL</td><td>1</td></tr>",
                            "<tr><td>2016-03-25</td><td>NULL</td><td>1</td></tr>",
                            "<tr><td>2016-03-26</td><td>NULL</td><td>1</td></tr>",
                            "<tr><td>2016-03-27</td><td>NULL</td><td>1</td></tr>",
                            "<tr><td>2016-03-28</td><td>NULL</td><td>1</td></tr>",
                            "<tr><td>2016-03-29</td><td>NULL</td><td>1</td></tr>",
                            "<tr><td>2016-03-30</td><td>NULL</td><td>1</td></tr>",
                            "<tr><td>2016-03-31</td><td>NULL</td><td>1</td></tr>",
                            "<tr><td>2016-04-01</td><td>NULL</td><td>1</td></tr>",
                            "<tr><td>2016-04-02</td><td>NULL</td><td>1</td></tr>",
                            "<tr><td>2016-04-03</td><td>NULL</td><td>1</td></tr>",
                            "<tr><td>2016-04-04</td><td>NULL</td><td>1</td></tr>",
                            "<tr><td>2016-04-05</td><td>NULL</td><td>1</td></tr>",
                            "<tr><td>2016-04-06</td><td>NULL</td><td>1</td></tr>",
                            "<tr><td>2016-04-07</td><td>NULL</td><td>1</td></tr>",
                            "<tr><td>2016-04-08</td><td>NULL</td><td>1</td></tr>",
                            "<tr><td>2016-04-09</td><td>NULL</td><td>1</td></tr>",
                            "<tr><td>2016-04-10</td><td>NULL</td><td>1</td></tr>",
                            "<tr><td>2016-04-11</td><td>NULL</td><td>1</td></tr>",
                            "<tr><td>2016-04-12</td><td>NULL</td><td>1</td></tr>",
                            "<tr><td>2016-04-13</td><td>NULL</td><td>1</td></tr>",
                            "<tr><td>2016-04-14</td><td>NULL</td><td>1</td></tr>",
                            "<tr><td>2016-04-15</td><td>NULL</td><td>1</td></tr>",
                            "<tr><td>2016-04-16</td><td>NULL</td><td>1</td></tr>",
                            "<tr><td>2016-04-17</td><td>NULL</td><td>1</td></tr>",
                            "<tr><td>2016-04-18</td><td>NULL</td><td>1</td></tr>",
                            "<tr><td>2016-04-19</td><td>NULL</td><td>1</td></tr>",
                            "<tr><td>2016-04-20</td><td>NULL</td><td>1</td></tr>",
                            "<tr><td>2016-04-21</td><td>NULL</td><td>1</td></tr>",
                            "<tr><td>2016-04-22</td><td>NULL</td><td>1</td></tr>",
                            "<tr><td>2016-04-23</td><td>NULL</td><td>1</td></tr>",
                            "<tr><td>2016-04-24</td><td>NULL</td><td>1</td></tr>",
                            "<tr><td>2016-04-25</td><td>NULL</td><td>1</td></tr>",
                            "<tr><td>2016-04-26</td><td>NULL</td><td>1</td></tr>",
                            "<tr><td>2016-04-27</td><td>NULL</td><td>1</td></tr>",
                            "<tr><td>2016-04-28</td><td>NULL</td><td>1</td></tr>",
                            "<tr><td>2016-04-29</td><td>NULL</td><td>1</td></tr>",
                            "<tr><td>2016-04-30</td><td>NULL</td><td>1</td></tr>",
                            "<tr><td>2016-05-01</td><td>NULL</td><td>1</td></tr>",
                            "<tr><td>2016-05-02</td><td>NULL</td><td>1</td></tr>",
                            "<tr><td>2016-05-03</td><td>NULL</td><td>1</td></tr>",
                            "<tr><td>2016-05-04</td><td>NULL</td><td>1</td></tr>",
                            "<tr><td>2016-05-05</td><td>NULL</td><td>1</td></tr>",
                            "<tr><td>2016-05-06</td><td>NULL</td><td>1</td></tr>",
                            "<tr><td>2016-05-07</td><td>NULL</td><td>1</td></tr>",
                            "<tr><td>2016-05-08</td><td>NULL</td><td>1</td></tr>",
                            "<tr><td>2016-05-09</td><td>NULL</td><td>1</td></tr>",
                            "<tr><td>2016-05-10</td><td>NULL</td><td>1</td></tr>",
                            "<tr><td>2016-05-11</td><td>NULL</td><td>1</td></tr>",
                            "<tr><td>2016-05-12</td><td>NULL</td><td>1</td></tr>",
                            "<tr><td>2016-05-13</td><td>NULL</td><td>1</td></tr>",
                            "<tr><td>2016-05-14</td><td>NULL</td><td>1</td></tr>",
                            "<tr><td>2016-05-15</td><td>NULL</td><td>1</td></tr>",
                            "<tr><td>2016-05-16</td><td>NULL</td><td>1</td></tr>",
                            "<tr><td>2016-05-17</td><td>NULL</td><td>1</td></tr>",
                            "<tr><td>2016-05-18</td><td>NULL</td><td>1</td></tr>",
                            "<tr><td>2016-05-19</td><td>NULL</td><td>1</td></tr>",
                            "<tr><td>2016-05-20</td><td>NULL</td><td>1</td></tr>",
                            "<tr><td>2016-05-21</td><td>NULL</td><td>1</td></tr>",
                            "<tr><td>2016-05-22</td><td>NULL</td><td>1</td></tr>",
                            "<tr><td>2016-05-23</td><td>NULL</td><td>1</td></tr>",
                            "<tr><td>2016-05-24</td><td>NULL</td><td>1</td></tr>",
                            "<tr><td>2016-05-25</td><td>NULL</td><td>1</td></tr>",
                            "<tr><td>2016-05-26</td><td>NULL</td><td>1</td></tr>",
                            "<tr><td>2016-05-27</td><td>NULL</td><td>1</td></tr>",
                            "<tr><td>2016-05-28</td><td>NULL</td><td>1</td></tr>",
                            "<tr><td>2016-05-29</td><td>NULL</td><td>1</td></tr>",
                            "<tr><td>2016-05-30</td><td>NULL</td><td>1</td></tr>",
                            "<tr><td>2016-05-31</td><td>NULL</td><td>1</td></tr>",
                            "<tr><td>2016-06-01</td><td>NULL</td><td>1</td></tr>",
                            "<tr><td>2016-06-02</td><td>NULL</td><td>1</td></tr>",
                            "<tr><td>2016-06-03</td><td>NULL</td><td>1</td></tr>",
                            "<tr><td>2016-06-04</td><td>NULL</td><td>1</td></tr>",
                            "<tr><td>2016-06-05</td><td>NULL</td><td>1</td></tr>",
                            "<tr><td>2016-06-06</td><td>NULL</td><td>1</td></tr>",
                            "<tr><td>2016-06-07</td><td>NULL</td><td>1</td></tr>",
                            "<tr><td>2016-06-08</td><td>NULL</td><td>1</td></tr>",
                            "<tr><td>2016-06-09</td><td>NULL</td><td>1</td></tr>",
                            "<tr><td>2016-06-10</td><td>NULL</td><td>1</td></tr>",
                            "<tr><td>2016-06-11</td><td>NULL</td><td>1</td></tr>",
                            "<tr><td>2016-06-12</td><td>NULL</td><td>1</td></tr>",
                            "<tr><td>2016-06-13</td><td>NULL</td><td>1</td></tr>",
                            "<tr><td>2016-06-14</td><td>NULL</td><td>1</td></tr>",
                            "<tr><td>2016-06-15</td><td>NULL</td><td>1</td></tr>",
                            "<tr><td>2016-06-16</td><td>NULL</td><td>1</td></tr>",
                            "<tr><td>2016-06-17</td><td>NULL</td><td>1</td></tr>",
                            "<tr><td>2016-06-18</td><td>NULL</td><td>1</td></tr>",
                            "<tr><td>2016-06-19</td><td>NULL</td><td>1</td></tr>",
                            "<tr><td>2016-06-20</td><td>NULL</td><td>1</td></tr>",
                            "<tr><td>2016-06-21</td><td>NULL</td><td>1</td></tr>",
                            "<tr><td>2016-06-22</td><td>NULL</td><td>1</td></tr>",
                            "<tr><td>2016-06-23</td><td>NULL</td><td>1</td></tr>",
                            "<tr><td>2016-06-24</td><td>NULL</td><td>1</td></tr>",
                            "<tr><td>2016-06-25</td><td>NULL</td><td>1</td></tr>",
                            "<tr><td>2016-06-26</td><td>NULL</td><td>1</td></tr>",
                            "<tr><td>2016-06-27</td><td>NULL</td><td>1</td></tr>",
                            "<tr><td>2016-06-28</td><td>NULL</td><td>1</td></tr>",
                            "<tr><td>2016-06-29</td><td>NULL</td><td>1</td></tr>",
                            "<tr><td>2016-06-30</td><td>NULL</td><td>1</td></tr>",
                            "<tr><td>2016-07-01</td><td>NULL</td><td>1</td></tr>",
                            "<tr><td>2016-07-02</td><td>NULL</td><td>1</td></tr>",
                            "<tr><td>2016-07-03</td><td>NULL</td><td>1</td></tr>",
                            "<tr><td>2016-07-04</td><td>NULL</td><td>1</td></tr>",
                            "<tr><td>2016-07-05</td><td>NULL</td><td>1</td></tr>",
                            "<tr><td>2016-07-06</td><td>NULL</td><td>1</td></tr>",
                            "<tr><td>2016-07-07</td><td>NULL</td><td>1</td></tr>",
                            "<tr><td>2016-07-08</td><td>NULL</td><td>1</td></tr>",
                            "<tr><td>2016-07-09</td><td>NULL</td><td>1</td></tr>",
                            "<tr><td>2016-07-10</td><td>NULL</td><td>1</td></tr>",
                            "<tr><td>2016-07-11</td><td>NULL</td><td>1</td></tr>",
                            "<tr><td>2016-07-12</td><td>NULL</td><td>1</td></tr>",
                            "<tr><td>2016-07-13</td><td>NULL</td><td>1</td></tr>",
                            "<tr><td>2016-07-14</td><td>NULL</td><td>1</td></tr>",
                            "<tr><td>2016-07-15</td><td>NULL</td><td>1</td></tr>",
                            "<tr><td>2016-07-16</td><td>NULL</td><td>1</td></tr>",
                            "<tr><td>2016-07-17</td><td>NULL</td><td>1</td></tr>",
                            "<tr><td>2016-07-18</td><td>NULL</td><td>1</td></tr>",
                            "<tr><td>2016-07-19</td><td>NULL</td><td>1</td></tr>",
                            "<tr><td>2016-07-20</td><td>NULL</td><td>1</td></tr>",
                            "<tr><td>2016-07-21</td><td>NULL</td><td>1</td></tr>",
                            "<tr><td>2016-07-22</td><td>NULL</td><td>1</td></tr>",
                            "<tr><td>2016-07-23</td><td>NULL</td><td>1</td></tr>",
                            "<tr><td>2016-07-24</td><td>NULL</td><td>1</td></tr>",
                            "<tr><td>2016-07-25</td><td>NULL</td><td>1</td></tr>",
                            "<tr><td>2016-07-26</td><td>NULL</td><td>1</td></tr>",
                            "<tr><td>2016-07-27</td><td>NULL</td><td>1</td></tr>",
                            "<tr><td>2016-07-28</td><td>NULL</td><td>1</td></tr>",
                            "<tr><td>2016-07-29</td><td>NULL</td><td>1</td></tr>",
                            "<tr><td>2016-07-30</td><td>NULL</td><td>1</td></tr>",
                            "<tr><td>2016-07-31</td><td>NULL</td><td>1</td></tr>",
                            "<tr><td>2016-08-01</td><td>NULL</td><td>1</td></tr>",
                            "<tr><td>2016-08-02</td><td>NULL</td><td>1</td></tr>",
                            "<tr><td>2016-08-03</td><td>NULL</td><td>1</td></tr>",
                            "<tr><td>2016-08-04</td><td>NULL</td><td>1</td></tr>",
                            "<tr><td>2016-08-05</td><td>NULL</td><td>1</td></tr>",
                            "<tr><td>2016-08-06</td><td>NULL</td><td>1</td></tr>",
                            "<tr><td>2016-08-07</td><td>NULL</td><td>1</td></tr>",
                            "<tr><td>2016-08-08</td><td>NULL</td><td>1</td></tr>",
                            "<tr><td>2016-08-09</td><td>NULL</td><td>1</td></tr>",
                            "<tr><td>2016-08-10</td><td>NULL</td><td>1</td></tr>",
                            "<tr><td>2016-08-11</td><td>NULL</td><td>1</td></tr>",
                            "<tr><td>2016-08-12</td><td>NULL</td><td>1</td></tr>",
                            "<tr><td>2016-08-13</td><td>NULL</td><td>1</td></tr>",
                            "<tr><td>2016-08-14</td><td>NULL</td><td>1</td></tr>",
                            "<tr><td>2016-08-15</td><td>NULL</td><td>1</td></tr>",
                            "<tr><td>2016-08-16</td><td>NULL</td><td>1</td></tr>",
                            "<tr><td>2016-08-17</td><td>NULL</td><td>1</td></tr>",
                            "<tr><td>2016-08-18</td><td>NULL</td><td>1</td></tr>",
                            "<tr><td>2016-08-19</td><td>NULL</td><td>1</td></tr>",
                            "<tr><td>2016-08-20</td><td>NULL</td><td>1</td></tr>",
                            "<tr><td>2016-08-21</td><td>NULL</td><td>1</td></tr>",
                            "<tr><td>2016-08-22</td><td>NULL</td><td>1</td></tr>",
                            "<tr><td>2016-08-23</td><td>NULL</td><td>1</td></tr>",
                            "<tr><td>2016-08-24</td><td>NULL</td><td>1</td></tr>",
                            "<tr><td>2016-08-25</td><td>NULL</td><td>1</td></tr>",
                            "<tr><td>2016-08-26</td><td>NULL</td><td>1</td></tr>",
                            "<tr><td>2016-08-27</td><td>NULL</td><td>1</td></tr>",
                            "<tr><td>2016-08-28</td><td>NULL</td><td>1</td></tr>",
                            "<tr><td>2016-08-29</td><td>NULL</td><td>1</td></tr>",
                            "<tr><td>2016-08-30</td><td>NULL</td><td>1</td></tr>",
                            "<tr><td>2016-08-31</td><td>NULL</td><td>1</td></tr>",
                            "<tr><td>2016-09-01</td><td>NULL</td><td>1</td></tr>",
                            "<tr><td>2016-09-02</td><td>NULL</td><td>1</td></tr>",
                            "<tr><td>2016-09-03</td><td>NULL</td><td>1</td></tr>",
                            "<tr><td>2016-09-04</td><td>NULL</td><td>1</td></tr>",
                            "<tr><td>2016-09-05</td><td>NULL</td><td>1</td></tr>",
                            "<tr><td>2016-09-06</td><td>NULL</td><td>1</td></tr>",
                            "<tr><td>2016-09-07</td><td>NULL</td><td>1</td></tr>",
                            "<tr><td>2016-09-08</td><td>NULL</td><td>1</td></tr>",
                            "<tr><td>2016-09-09</td><td>NULL</td><td>1</td></tr>",
                            "<tr><td>2016-09-10</td><td>NULL</td><td>1</td></tr>",
                            "<tr><td>2016-09-11</td><td>NULL</td><td>1</td></tr>",
                            "<tr><td>2016-09-12</td><td>NULL</td><td>1</td></tr>",
                            "<tr><td>2016-09-13</td><td>NULL</td><td>1</td></tr>",
                            "<tr><td>2016-09-14</td><td>NULL</td><td>1</td></tr>",
                            "<tr><td>2016-09-15</td><td>NULL</td><td>1</td></tr>",
                            "<tr><td>2016-09-16</td><td>NULL</td><td>1</td></tr>",
                            "<tr><td>2016-09-17</td><td>NULL</td><td>1</td></tr>",
                            "<tr><td>2016-09-18</td><td>NULL</td><td>1</td></tr>",
                            "<tr><td>2016-09-19</td><td>NULL</td><td>1</td></tr>",
                            "<tr><td>2016-09-20</td><td>NULL</td><td>1</td></tr>",
                            "<tr><td>2016-09-21</td><td>NULL</td><td>1</td></tr>",
                            "<tr><td>2016-09-22</td><td>NULL</td><td>1</td></tr>",
                            "<tr><td>2016-09-23</td><td>NULL</td><td>1</td></tr>",
                            "<tr><td>2016-09-24</td><td>NULL</td><td>1</td></tr>",
                            "<tr><td>2016-09-25</td><td>NULL</td><td>1</td></tr>",
                            "<tr><td>2016-09-26</td><td>NULL</td><td>1</td></tr>",
                            "<tr><td>2016-09-27</td><td>NULL</td><td>1</td></tr>",
                            "<tr><td>2016-09-28</td><td>NULL</td><td>1</td></tr>",
                            "<tr><td>2016-09-29</td><td>NULL</td><td>1</td></tr>",
                            "<tr><td>2016-09-30</td><td>NULL</td><td>1</td></tr>",
                            "<tr><td>2016-10-01</td><td>NULL</td><td>1</td></tr>",
                            "<tr><td>2016-10-02</td><td>NULL</td><td>1</td></tr>",
                            "<tr><td>2016-10-03</td><td>NULL</td><td>1</td></tr>",
                            "<tr><td>2016-10-04</td><td>NULL</td><td>1</td></tr>",
                            "<tr><td>2016-10-05</td><td>NULL</td><td>1</td></tr>",
                            "<tr><td>2016-10-06</td><td>NULL</td><td>1</td></tr>",
                            "<tr><td>2016-10-07</td><td>NULL</td><td>1</td></tr>",
                            "<tr><td>2016-10-08</td><td>NULL</td><td>1</td></tr>",
                            "<tr><td>2016-10-09</td><td>NULL</td><td>1</td></tr>",
                            "<tr><td>2016-10-10</td><td>NULL</td><td>1</td></tr>",
                            "<tr><td>2016-10-11</td><td>NULL</td><td>1</td></tr>",
                            "<tr><td>2016-10-12</td><td>NULL</td><td>1</td></tr>",
                            "<tr><td>2016-10-13</td><td>NULL</td><td>1</td></tr>",
                            "<tr><td>2016-10-14</td><td>NULL</td><td>1</td></tr>",
                            "<tr><td>2016-10-15</td><td>NULL</td><td>1</td></tr>",
                            "<tr><td>2016-10-16</td><td>NULL</td><td>1</td></tr>",
                            "<tr><td>2016-10-17</td><td>NULL</td><td>1</td></tr>",
                            "<tr><td>2016-10-18</td><td>NULL</td><td>1</td></tr>",
                            "<tr><td>2016-10-19</td><td>NULL</td><td>1</td></tr>",
                            "<tr><td>2016-10-20</td><td>NULL</td><td>1</td></tr>",
                            "<tr><td>2016-10-21</td><td>NULL</td><td>1</td></tr>",
                            "<tr><td>2016-10-22</td><td>NULL</td><td>1</td></tr>",
                            "<tr><td>2016-10-23</td><td>NULL</td><td>1</td></tr>",
                            "<tr><td>2016-10-24</td><td>NULL</td><td>1</td></tr>",
                            "<tr><td>2016-10-25</td><td>NULL</td><td>1</td></tr>",
                            "<tr><td>2016-10-26</td><td>NULL</td><td>1</td></tr>",
                            "<tr><td>2016-10-27</td><td>NULL</td><td>1</td></tr>",
                            "<tr><td>2016-10-28</td><td>NULL</td><td>1</td></tr>",
                            "<tr><td>2016-10-29</td><td>NULL</td><td>1</td></tr>",
                            "<tr><td>2016-10-30</td><td>NULL</td><td>1</td></tr>",
                            "<tr><td>2016-10-31</td><td>NULL</td><td>1</td></tr>",
                            "<tr><td>2016-11-01</td><td>NULL</td><td>1</td></tr>",
                            "<tr><td>2016-11-02</td><td>NULL</td><td>1</td></tr>",
                            "<tr><td>2016-11-03</td><td>NULL</td><td>1</td></tr>",
                            "<tr><td>2016-11-04</td><td>NULL</td><td>1</td></tr>",
                            "<tr><td>2016-11-05</td><td>NULL</td><td>1</td></tr>",
                            "<tr><td>2016-11-06</td><td>NULL</td><td>1</td></tr>",
                            "<tr><td>2016-11-07</td><td>NULL</td><td>1</td></tr>",
                            "<tr><td>2016-11-08</td><td>NULL</td><td>1</td></tr>",
                            "<tr><td>2016-11-09</td><td>NULL</td><td>1</td></tr>",
                            "<tr><td>2016-11-10</td><td>NULL</td><td>1</td></tr>",
                            "<tr><td>2016-11-11</td><td>NULL</td><td>1</td></tr>",
                            "<tr><td>2016-11-12</td><td>NULL</td><td>1</td></tr>",
                            "<tr><td>2016-11-13</td><td>NULL</td><td>1</td></tr>",
                            "<tr><td>2016-11-14</td><td>NULL</td><td>1</td></tr>",
                            "<tr><td>2016-11-15</td><td>NULL</td><td>1</td></tr>",
                            "<tr><td>2016-11-16</td><td>NULL</td><td>1</td></tr>",
                            "<tr><td>2016-11-17</td><td>NULL</td><td>1</td></tr>",
                            "<tr><td>2016-11-18</td><td>NULL</td><td>1</td></tr>",
                            "<tr><td>2016-11-19</td><td>NULL</td><td>1</td></tr>",
                            "<tr><td>2016-11-20</td><td>NULL</td><td>1</td></tr>",
                            "<tr><td>2016-11-21</td><td>NULL</td><td>1</td></tr>",
                            "<tr><td>2016-11-22</td><td>NULL</td><td>1</td></tr>",
                            "<tr><td>2016-11-23</td><td>NULL</td><td>1</td></tr>",
                            "<tr><td>2016-11-24</td><td>NULL</td><td>1</td></tr>",
                            "<tr><td>2016-11-25</td><td>NULL</td><td>1</td></tr>",
                            "<tr><td>2016-11-26</td><td>NULL</td><td>1</td></tr>",
                            "<tr><td>2016-11-27</td><td>NULL</td><td>1</td></tr>",
                            "<tr><td>2016-11-28</td><td>NULL</td><td>1</td></tr>",
                            "<tr><td>2016-11-29</td><td>NULL</td><td>1</td></tr>",
                            "<tr><td>2016-11-30</td><td>NULL</td><td>1</td></tr>",
                            "<tr><td>2016-12-01</td><td>NULL</td><td>1</td></tr>",
                            "<tr><td>2016-12-02</td><td>NULL</td><td>1</td></tr>",
                            "<tr><td>2016-12-03</td><td>NULL</td><td>1</td></tr>",
                            "<tr><td>2016-12-04</td><td>NULL</td><td>1</td></tr>",
                            "<tr><td>2016-12-05</td><td>NULL</td><td>1</td></tr>",
                            "<tr><td>2016-12-06</td><td>NULL</td><td>1</td></tr>",
                            "<tr><td>2016-12-07</td><td>NULL</td><td>1</td></tr>",
                            "<tr><td>2016-12-08</td><td>NULL</td><td>1</td></tr>",
                            "<tr><td>2016-12-09</td><td>NULL</td><td>1</td></tr>",
                            "<tr><td>2016-12-10</td><td>NULL</td><td>1</td></tr>",
                            "<tr><td>2016-12-11</td><td>NULL</td><td>1</td></tr>",
                            "<tr><td>2016-12-12</td><td>NULL</td><td>1</td></tr>",
                            "<tr><td>2016-12-13</td><td>NULL</td><td>1</td></tr>",
                            "<tr><td>2016-12-14</td><td>NULL</td><td>1</td></tr>",
                            "<tr><td>2016-12-15</td><td>NULL</td><td>1</td></tr>",
                            "<tr><td>2016-12-16</td><td>NULL</td><td>1</td></tr>",
                            "<tr><td>2016-12-17</td><td>NULL</td><td>1</td></tr>",
                            "<tr><td>2016-12-18</td><td>NULL</td><td>1</td></tr>",
                            "<tr><td>2016-12-19</td><td>NULL</td><td>1</td></tr>",
                            "<tr><td>2016-12-20</td><td>NULL</td><td>1</td></tr>",
                            "<tr><td>2016-12-21</td><td>NULL</td><td>1</td></tr>",
                            "<tr><td>2016-12-22</td><td>NULL</td><td>1</td></tr>",
                            "<tr><td>2016-12-23</td><td>NULL</td><td>1</td></tr>",
                            "<tr><td>2016-12-24</td><td>NULL</td><td>1</td></tr>",
                            "<tr><td>2016-12-25</td><td>NULL</td><td>1</td></tr>",
                            "<tr><td>2016-12-26</td><td>NULL</td><td>1</td></tr>",
                            "<tr><td>2016-12-27</td><td>NULL</td><td>1</td></tr>",
                            "<tr><td>2016-12-28</td><td>NULL</td><td>1</td></tr>",
                            "<tr><td>2016-12-29</td><td>NULL</td><td>1</td></tr>",
                            "<tr><td>2016-12-30</td><td>NULL</td><td>1</td></tr>",
                            "<tr><td>2016-12-31</td><td>NULL</td><td>1</td></tr>",
                            "<tr><td>2017-01-01</td><td>NULL</td><td>1</td></tr>",
                            "<tr><td>2017-01-02</td><td>NULL</td><td>1</td></tr>",
                            "<tr><td>2017-01-03</td><td>NULL</td><td>1</td></tr>",
                            "<tr><td>2017-01-04</td><td>NULL</td><td>1</td></tr>",
                            "<tr><td>2017-01-05</td><td>NULL</td><td>1</td></tr>",
                            "<tr><td>2017-01-06</td><td>NULL</td><td>1</td></tr>",
                            "<tr><td>2017-01-07</td><td>NULL</td><td>1</td></tr>",
                            "<tr><td>2017-01-08</td><td>NULL</td><td>1</td></tr>",
                            "<tr><td>2017-01-09</td><td>NULL</td><td>1</td></tr>",
                            "<tr><td>2017-01-10</td><td>NULL</td><td>1</td></tr>",
                            "<tr><td>2017-01-11</td><td>NULL</td><td>1</td></tr>",
                            "<tr><td>2017-01-12</td><td>NULL</td><td>1</td></tr>",
                            "<tr><td>2017-01-13</td><td>NULL</td><td>1</td></tr>",
                            "<tr><td>2017-01-14</td><td>NULL</td><td>1</td></tr>",
                            "<tr><td>2017-01-15</td><td>NULL</td><td>1</td></tr>",
                            "<tr><td>2017-01-16</td><td>NULL</td><td>1</td></tr>",
                            "<tr><td>2017-01-17</td><td>NULL</td><td>1</td></tr>",
                            "<tr><td>2017-01-18</td><td>NULL</td><td>1</td></tr>",
                            "<tr><td>2017-01-19</td><td>NULL</td><td>1</td></tr>",
                            "<tr><td>2017-01-20</td><td>NULL</td><td>1</td></tr>",
                            "<tr><td>2017-01-21</td><td>NULL</td><td>1</td></tr>",
                            "<tr><td>2017-01-22</td><td>NULL</td><td>1</td></tr>",
                            "<tr><td>2017-01-23</td><td>NULL</td><td>1</td></tr>",
                            "<tr><td>2017-01-24</td><td>NULL</td><td>1</td></tr>",
                            "<tr><td>2017-01-25</td><td>NULL</td><td>1</td></tr>",
                            "<tr><td>2017-01-26</td><td>NULL</td><td>1</td></tr>",
                            "<tr><td>2017-01-27</td><td>NULL</td><td>1</td></tr>",
                            "<tr><td>2017-01-28</td><td>NULL</td><td>1</td></tr>",
                            "<tr><td>2017-01-29</td><td>NULL</td><td>1</td></tr>",
                            "<tr><td>2017-01-30</td><td>NULL</td><td>1</td></tr>",
                            "<tr><td>2017-01-31</td><td>NULL</td><td>1</td></tr>",
                            "<tr><td>2017-02-01</td><td>NULL</td><td>1</td></tr>",
                            "<tr><td>2017-02-02</td><td>NULL</td><td>1</td></tr>",
                            "<tr><td>2017-02-03</td><td>NULL</td><td>1</td></tr>",
                            "<tr><td>2017-02-04</td><td>NULL</td><td>1</td></tr>",
                            "<tr><td>2017-02-05</td><td>NULL</td><td>1</td></tr>",
                            "<tr><td>2017-02-06</td><td>NULL</td><td>1</td></tr>",
                            "<tr><td>2017-02-07</td><td>NULL</td><td>1</td></tr>",
                            "<tr><td>2017-02-08</td><td>NULL</td><td>1</td></tr>",
                            "<tr><td>2017-02-09</td><td>NULL</td><td>1</td></tr>",
                            "<tr><td>2017-02-10</td><td>NULL</td><td>1</td></tr>",
                            "<tr><td>2017-02-11</td><td>NULL</td><td>1</td></tr>",
                            "<tr><td>2017-02-12</td><td>NULL</td><td>1</td></tr>",
                            "<tr><td>2017-02-13</td><td>NULL</td><td>1</td></tr>",
                            "<tr><td>2017-02-14</td><td>NULL</td><td>1</td></tr>",
                            "<tr><td>2017-02-15</td><td>NULL</td><td>1</td></tr>",
                            "<tr><td>2017-02-16</td><td>NULL</td><td>1</td></tr>",
                            "<tr><td>2017-02-17</td><td>NULL</td><td>1</td></tr>",
                            "<tr><td>2017-02-18</td><td>NULL</td><td>1</td></tr>",
                            "<tr><td>2017-02-19</td><td>NULL</td><td>1</td></tr>",
                            "<tr><td>2017-02-20</td><td>NULL</td><td>1</td></tr>",
                            "<tr><td>2017-02-21</td><td>NULL</td><td>1</td></tr>",
                            "<tr><td>2017-02-22</td><td>NULL</td><td>1</td></tr>",
                            "<tr><td>2017-02-23</td><td>NULL</td><td>1</td></tr>",
                            "<tr><td>2017-02-24</td><td>NULL</td><td>1</td></tr>",
                            "<tr><td>2017-02-25</td><td>NULL</td><td>1</td></tr>",
                            "<tr><td>2017-02-26</td><td>NULL</td><td>1</td></tr>",
                            "<tr><td>2017-02-27</td><td>NULL</td><td>1</td></tr>",
                            "<tr><td>2017-02-28</td><td>NULL</td><td>1</td></tr>",
                            "<tr><td>2017-03-01</td><td>NULL</td><td>1</td></tr>",
                            "<tr><td>2017-03-02</td><td>NULL</td><td>1</td></tr>",
                            "<tr><td>2017-03-03</td><td>NULL</td><td>1</td></tr>",
                            "<tr><td>2017-03-04</td><td>NULL</td><td>1</td></tr>",
                            "<tr><td>2017-03-05</td><td>NULL</td><td>1</td></tr>",
                            "<tr><td>2017-03-06</td><td>NULL</td><td>1</td></tr>",
                            "<tr><td>2017-03-07</td><td>NULL</td><td>1</td></tr>",
                            "<tr><td>2017-03-08</td><td>NULL</td><td>1</td></tr>",
                            "<tr><td>2017-03-09</td><td>NULL</td><td>1</td></tr>",
                            "<tr><td>2017-03-10</td><td>NULL</td><td>1</td></tr>",
                            "<tr><td>2017-03-11</td><td>NULL</td><td>1</td></tr>",
                            "<tr><td>2017-03-12</td><td>NULL</td><td>1</td></tr>",
                            "<tr><td>2017-03-13</td><td>NULL</td><td>1</td></tr>",
                            "<tr><td>2017-03-14</td><td>NULL</td><td>1</td></tr>",
                            "<tr><td>2017-03-15</td><td>NULL</td><td>1</td></tr>",
                            "<tr><td>2017-03-16</td><td>NULL</td><td>1</td></tr>",
                            "<tr><td>2017-03-17</td><td>NULL</td><td>1</td></tr>",
                            "<tr><td>2017-03-18</td><td>NULL</td><td>1</td></tr>",
                            "<tr><td>2017-03-19</td><td>NULL</td><td>1</td></tr>",
                            "<tr><td>2017-03-20</td><td>NULL</td><td>1</td></tr>",
                            "<tr><td>2017-03-21</td><td>NULL</td><td>1</td></tr>",
                            "<tr><td>2017-03-22</td><td>NULL</td><td>1</td></tr>",
                            "<tr><td>2017-03-23</td><td>NULL</td><td>1</td></tr>",
                            "<tr><td>2017-03-24</td><td>NULL</td><td>1</td></tr>",
                            "<tr><td>2017-03-25</td><td>NULL</td><td>1</td></tr>",
                            "<tr><td>2017-03-26</td><td>NULL</td><td>1</td></tr>",
                            "<tr><td>2017-03-27</td><td>NULL</td><td>1</td></tr>",
                            "<tr><td>2017-03-28</td><td>NULL</td><td>1</td></tr>",
                            "<tr><td>2017-03-29</td><td>NULL</td><td>1</td></tr>",
                            "<tr><td>2017-03-30</td><td>NULL</td><td>1</td></tr>",
                            "<tr><td>2017-03-31</td><td>NULL</td><td>1</td></tr>",
                            "<tr><td>2017-04-01</td><td>NULL</td><td>1</td></tr>",
                            "<tr><td>2017-04-02</td><td>NULL</td><td>1</td></tr>",
                            "<tr><td>2017-04-03</td><td>NULL</td><td>1</td></tr>",
                            "<tr><td>2017-04-04</td><td>NULL</td><td>1</td></tr>",
                            "<tr><td>2017-04-05</td><td>NULL</td><td>1</td></tr>",
                            "<tr><td>2017-04-06</td><td>NULL</td><td>1</td></tr>",
                            "<tr><td>2017-04-07</td><td>NULL</td><td>1</td></tr>",
                            "<tr><td>2017-04-08</td><td>NULL</td><td>1</td></tr>",
                            "<tr><td>2017-04-09</td><td>NULL</td><td>1</td></tr>",
                            "<tr><td>2017-04-10</td><td>NULL</td><td>1</td></tr>",
                            "<tr><td>2017-04-11</td><td>NULL</td><td>1</td></tr>",
                            "<tr><td>NULL</td><td>NULL</td><td>3</td></tr>",
                            "</table>"
                        ]
                    }
                }
            ],
            "execution_count": 8
        },
        {
            "cell_type": "markdown",
            "source": [
                "```\n",
                "3. Hány olyan ügyfél van, aki még nem rendelt semmit?\n",
                "```\n",
                "\n",
                "1. Csoportosítsuk őket nem szerint, azon belül életkor szerint!\n",
                "2. A lista tartalmazza a részösszegeket és a végösszeget is!\n",
                "\n",
                "![](https://moodle.uni-corvinus.hu/theme/image.php/adaptable/atto_h5p/1709548862/icon)"
            ],
            "metadata": {
                "azdata_cell_guid": "d7876bb9-76d0-4d07-baed-3cb17b2f96c3"
            },
            "attachments": {}
        },
        {
            "cell_type": "code",
            "source": [
                ""
            ],
            "metadata": {
                "azdata_cell_guid": "56ec19ce-e249-4551-b2a8-f17569765acc",
                "language": "sql"
            },
            "outputs": [],
            "execution_count": null
        },
        {
            "cell_type": "markdown",
            "source": [
                "4. <span style=\"color: rgb(36, 41, 47); font-family: -apple-system, BlinkMacSystemFont, &quot;Segoe UI&quot;, Helvetica, Arial, sans-serif, &quot;Apple Color Emoji&quot;, &quot;Segoe UI Emoji&quot;; font-size: 16px;\">Készítsünk listát a megrendelt termékek legkisebb és legnagyobb egységáráról szállítási dátum, azon belül szállítási mód szerinti bontásban!</span>\n",
                "\n",
                "1. A lista csak a 2015 májusi szállításokat tartalmazza!\n",
                "2. Jelenítsük meg a részösszegeket és a végösszeget is!"
            ],
            "metadata": {
                "azdata_cell_guid": "8e7fef82-8022-49a0-8255-fc2846c2134b"
            },
            "attachments": {}
        },
        {
            "cell_type": "code",
            "source": [
                ""
            ],
            "metadata": {
                "azdata_cell_guid": "36f7b396-4a1f-45e5-8720-2302537c91bc",
                "language": "sql"
            },
            "outputs": [],
            "execution_count": null
        },
        {
            "cell_type": "markdown",
            "source": [
                "5. <span style=\"color: rgb(36, 41, 47); font-family: -apple-system, BlinkMacSystemFont, &quot;Segoe UI&quot;, Helvetica, Arial, sans-serif, &quot;Apple Color Emoji&quot;, &quot;Segoe UI Emoji&quot;; font-size: 16px;\">Készítsünk csoportot a termékek listaára alapján a következők szerint:&nbsp;<br></span> <span style=\"color: rgb(36, 41, 47); font-family: -apple-system, BlinkMacSystemFont, &quot;Segoe UI&quot;, Helvetica, Arial, sans-serif, &quot;Apple Color Emoji&quot;, &quot;Segoe UI Emoji&quot;; font-size: 16px;\">Az \"olcsó\" termékek legyenek azok, amelyek listaára 3000 alatt van.<br>&nbsp;A \"drága\" termékek legyenek az 5000 felettiek, a többi legyen \"közepes\".</span>\n",
                "\n",
                "1. Listázzuk az egyes csoportokat, és a csoportokba tartozó termékek darabszámát!\n",
                "2. A lista jelenítse meg a végösszeget is!"
            ],
            "metadata": {
                "azdata_cell_guid": "84239ca2-6b5e-49f5-9860-d44c11d6de32"
            },
            "attachments": {}
        },
        {
            "cell_type": "code",
            "source": [
                ""
            ],
            "metadata": {
                "azdata_cell_guid": "06d9a62b-9430-424b-a135-d80e675f0eb3",
                "language": "sql"
            },
            "outputs": [],
            "execution_count": null
        },
        {
            "cell_type": "markdown",
            "source": [
                "6. <span style=\"font-weight: 600; color: rgb(36, 41, 47); font-family: -apple-system, BlinkMacSystemFont, &quot;Segoe UI&quot;, Helvetica, Arial, sans-serif, &quot;Apple Color Emoji&quot;, &quot;Segoe UI Emoji&quot;; font-size: 16px;\">Készítsünk listát az ügyfelek adatairól név szerinti sorrendben.</span>\n",
                "\n",
                "1. Minden sorban jelenjen meg a sorrend szerint előző, illetve következő ügyfél neve is.\n",
                "2. Ha nincs előző vagy következő ügyfél, akkor a 'Nincs' jelenjen meg!"
            ],
            "metadata": {
                "azdata_cell_guid": "b0d15045-3c43-4f3a-b8d4-76b4f24e5546"
            },
            "attachments": {}
        },
        {
            "cell_type": "code",
            "source": [
                "SELECT *,\r\n",
                "        LAG(NEV) OVER(ORDER BY NEV), --eggyel korábbi érték\r\n",
                "        LEAD(NEV, 2, 'Nincs következő') --eggyel későbbi érték, az utolsónak nincs következője\r\n",
                "FROM Ugyfel"
            ],
            "metadata": {
                "azdata_cell_guid": "f2b7400d-1255-40ac-9250-4d57f9da5357",
                "language": "sql"
            },
            "outputs": [],
            "execution_count": null
        },
        {
            "cell_type": "markdown",
            "source": [
                "7. <span style=\"font-weight: 600; color: rgb(36, 41, 47); font-family: -apple-system, BlinkMacSystemFont, &quot;Segoe UI&quot;, Helvetica, Arial, sans-serif, &quot;Apple Color Emoji&quot;, &quot;Segoe UI Emoji&quot;; font-size: 16px;\">Készítsünk lekérdezést, amely megmutatja, hogy melyik termékkategóriába hány termék tartozik. A lista a kategória nevét és a darabszámot jelenítse meg.</span>\n",
                "\n",
                "1. A lista ne tartalmazzon duplikált sorokat.\n",
                "2. A feladatot partíciók segítségével oldjuk meg!"
            ],
            "metadata": {
                "azdata_cell_guid": "7ebf7ddd-1bd2-4246-815a-be8ae37e3b5b"
            },
            "attachments": {}
        },
        {
            "cell_type": "code",
            "source": [
                "SELECT DISTINCT tk.KAT_NEV, \r\n",
                "        tk.szulo_kat,\r\n",
                "        COUNT(*) OVER(PARTITION BY tk.KAT_NEV)\r\n",
                "        --AVG(t.LISTAAR) OVER(PARTITION BY tk.KAT_NEV)\r\n",
                "FROM Termek t JOIN Termekkategoria tk on t.KAT_ID = tk.KAT_NEV\r\n",
                "GROUP BY tk.KAT_NEV"
            ],
            "metadata": {
                "azdata_cell_guid": "84b7e896-f36e-4985-88f5-e0f706494fef",
                "language": "sql"
            },
            "outputs": [],
            "execution_count": null
        },
        {
            "cell_type": "markdown",
            "source": [
                "8. <span style=\"font-weight: 600; color: rgb(36, 41, 47); font-family: -apple-system, BlinkMacSystemFont, &quot;Segoe UI&quot;, Helvetica, Arial, sans-serif, &quot;Apple Color Emoji&quot;, &quot;Segoe UI Emoji&quot;; font-size: 16px;\">Készítsünk listát a rendelési tételekről. Az egyes rendelési tételeket termékenként soroljuk be 4 osztályba a rendelés mennyisége alapján. Jelenítsük meg ezt az információt is egy új oszlopban, az oszlop neve legyen 'Mennyiségi kategória'.</span>\n",
                "\n",
                "1. A lista csak a 100 Ft feletti egységárú rendelési tételeket vegye figyelembe!"
            ],
            "metadata": {
                "azdata_cell_guid": "27a3d3dc-eafb-4a5e-b103-9f465b9eda8f"
            },
            "attachments": {}
        },
        {
            "cell_type": "code",
            "source": [
                "SELECT *,\r\n",
                "        NTILE(4) OVER(PARTITION BY termekkod ORDER BY MENNYISEG) AS 'Mennyiségi kategória'\r\n",
                "FROM Rendeles_tetel\r\n",
                "WHERE EGYSEGAR > 100"
            ],
            "metadata": {
                "azdata_cell_guid": "f09edb3f-649b-4a96-958e-9e12774ae8b7",
                "language": "sql"
            },
            "outputs": [],
            "execution_count": null
        },
        {
            "cell_type": "markdown",
            "source": [
                "9. <span style=\"font-weight: 600; color: rgb(36, 41, 47); font-family: -apple-system, BlinkMacSystemFont, &quot;Segoe UI&quot;, Helvetica, Arial, sans-serif, &quot;Apple Color Emoji&quot;, &quot;Segoe UI Emoji&quot;; font-size: 16px;\">Listázzuk a termékek kódját, megnevezését, kategóriájának nevét, és listaárát.</span>\n",
                "\n",
                "1. A listát egészítsük ki két új oszloppal, amelyek a kategória legolcsóbb, illetve legdrágább termékének árát tartalmazzák.\n",
                "2. A két új oszlop létrehozásánál partíciókkal dolgozzunk!"
            ],
            "metadata": {
                "azdata_cell_guid": "f12a331a-0e26-4d3d-9c68-812316286577"
            },
            "attachments": {}
        },
        {
            "cell_type": "code",
            "source": [
                "-- 1st value/last value vagy min/max\r\n",
                "SELECT t.termekkod, \r\n",
                "        t.MEGNEVEZES,\r\n",
                "        tk.KAT_NEV,\r\n",
                "        t.LISTAAR,\r\n",
                "        MIN(LISTAAR) OVER(PARTITION BY t.kat_id ORDER BY LISTAAR),\r\n",
                "        MAX(LISTAAR) OVER(PARTITION BY t.kat_id ORDER BY LISTAAR)\r\n",
                "\r\n",
                "FROM Termek t JOIN Termekkategoria tk on t.KAT_ID = tk.KAT_ID"
            ],
            "metadata": {
                "azdata_cell_guid": "10a77fc9-e61a-46fc-a401-59720d82bc50",
                "language": "sql"
            },
            "outputs": [
{
    "output_type": "display_data",
    "data": {
        "text/html": "(551 rows affected)"
    },
    "metadata": {}
}, {
    "output_type": "display_data",
    "data": {
        "text/html": "Total execution time: 00:00:00.039"
    },
    "metadata": {}
}, {
    "output_type": "execute_result",
    "metadata": {},
    "execution_count": 11,
    "data": {
        "application/vnd.dataresource+json": {
            "schema": {
                "fields": [
                    {
                        "name": "termekkod"
                    },
                    {
                        "name": "MEGNEVEZES"
                    },
                    {
                        "name": "KAT_NEV"
                    },
                    {
                        "name": "LISTAAR"
                    },
                    {
                        "name": "(No column name)"
                    },
                    {
                        "name": "(No column name)"
                    }
                ]
            },
            "data": [
                {
                    "termekkod": "08070491T",
                    "MEGNEVEZES": "Szám.tech. kicsiknek",
                    "KAT_NEV": "könyv",
                    "LISTAAR": "214",
                    "(No column name)": "214"
                },
                {
                    "termekkod": "08070485T",
                    "MEGNEVEZES": "Jól felkészültem-e - Fizika",
                    "KAT_NEV": "könyv",
                    "LISTAAR": "291",
                    "(No column name)": "291"
                },
                {
                    "termekkod": "08070480T",
                    "MEGNEVEZES": "Fizika 13 éveseknek",
                    "KAT_NEV": "könyv",
                    "LISTAAR": "308",
                    "(No column name)": "308"
                },
                {
                    "termekkod": "08070483T",
                    "MEGNEVEZES": "Fizikai feladatok és tévedések",
                    "KAT_NEV": "könyv",
                    "LISTAAR": "324",
                    "(No column name)": "324"
                },
                {
                    "termekkod": "08070484T",
                    "MEGNEVEZES": "Fogalmazás lépésről lépésre",
                    "KAT_NEV": "könyv",
                    "LISTAAR": "345",
                    "(No column name)": "345"
                },
                {
                    "termekkod": "08070494T",
                    "MEGNEVEZES": "Érettségi felv. fel. Fizika",
                    "KAT_NEV": "könyv",
                    "LISTAAR": "440",
                    "(No column name)": "440"
                },
                {
                    "termekkod": "08070495T",
                    "MEGNEVEZES": "Érettségi felv. fel. Biológia",
                    "KAT_NEV": "könyv",
                    "LISTAAR": "440",
                    "(No column name)": "440"
                },
                {
                    "termekkod": "08070479T",
                    "MEGNEVEZES": "Fizika",
                    "KAT_NEV": "könyv",
                    "LISTAAR": "674",
                    "(No column name)": "674"
                },
                {
                    "termekkod": "08070490T",
                    "MEGNEVEZES": "Szövegszerkesztés",
                    "KAT_NEV": "könyv",
                    "LISTAAR": "691",
                    "(No column name)": "691"
                },
                {
                    "termekkod": "08070493T",
                    "MEGNEVEZES": "Érettségi felv. fel. Matematika",
                    "KAT_NEV": "könyv",
                    "LISTAAR": "720",
                    "(No column name)": "720"
                },
                {
                    "termekkod": "08070492T",
                    "MEGNEVEZES": "Informatika",
                    "KAT_NEV": "könyv",
                    "LISTAAR": "735",
                    "(No column name)": "735"
                },
                {
                    "termekkod": "08070489T",
                    "MEGNEVEZES": "RAMba zárt világ",
                    "KAT_NEV": "könyv",
                    "LISTAAR": "868",
                    "(No column name)": "868"
                },
                {
                    "termekkod": "08070472T",
                    "MEGNEVEZES": "A föld amelyen élünk - Európa földrajza",
                    "KAT_NEV": "könyv",
                    "LISTAAR": "1089",
                    "(No column name)": "1089"
                },
                {
                    "termekkod": "08070473T",
                    "MEGNEVEZES": "A föld amelyen élünk - Távoli földrészek",
                    "KAT_NEV": "könyv",
                    "LISTAAR": "1089",
                    "(No column name)": "1089"
                },
                {
                    "termekkod": "08070474T",
                    "MEGNEVEZES": "A föld amelyen élünk - Hazánk földrajza",
                    "KAT_NEV": "könyv",
                    "LISTAAR": "1089",
                    "(No column name)": "1089"
                },
                {
                    "termekkod": "04050035T",
                    "MEGNEVEZES": "Bérlet tok",
                    "KAT_NEV": "ajándék tárgy",
                    "LISTAAR": "24",
                    "(No column name)": "24"
                },
                {
                    "termekkod": "04110258T",
                    "MEGNEVEZES": "Lampion",
                    "KAT_NEV": "ajándék tárgy",
                    "LISTAAR": "73",
                    "(No column name)": "73"
                },
                {
                    "termekkod": "04050267T",
                    "MEGNEVEZES": "Logikai készlet",
                    "KAT_NEV": "ajándék tárgy",
                    "LISTAAR": "129",
                    "(No column name)": "129"
                },
                {
                    "termekkod": "04030285T",
                    "MEGNEVEZES": "Mikulás zacskó",
                    "KAT_NEV": "ajándék tasak",
                    "LISTAAR": "11",
                    "(No column name)": "11"
                },
                {
                    "termekkod": "03080004T",
                    "MEGNEVEZES": "Ajándék cs. tasak italos, fólia",
                    "KAT_NEV": "ajándék tasak",
                    "LISTAAR": "19",
                    "(No column name)": "19"
                },
                {
                    "termekkod": "03080006T",
                    "MEGNEVEZES": "Ajándék cs. tasak mintás kicsi",
                    "KAT_NEV": "ajándék tasak",
                    "LISTAAR": "26",
                    "(No column name)": "26"
                },
                {
                    "termekkod": "03050457T",
                    "MEGNEVEZES": "Ajándék cs. tasak kicsi",
                    "KAT_NEV": "ajándék tasak",
                    "LISTAAR": "26",
                    "(No column name)": "26"
                },
                {
                    "termekkod": "03050459T",
                    "MEGNEVEZES": "Talpas tasak",
                    "KAT_NEV": "ajándék tasak",
                    "LISTAAR": "40",
                    "(No column name)": "40"
                },
                {
                    "termekkod": "03080013T",
                    "MEGNEVEZES": "Ajándék csom. 50x70 húsvéti",
                    "KAT_NEV": "ajándék tasak",
                    "LISTAAR": "64",
                    "(No column name)": "64"
                },
                {
                    "termekkod": "03080014T",
                    "MEGNEVEZES": "Ajándék csom. 70x50 metál",
                    "KAT_NEV": "ajándék tasak",
                    "LISTAAR": "81",
                    "(No column name)": "81"
                },
                {
                    "termekkod": "03080008T",
                    "MEGNEVEZES": "Ajándék cs. tasak kicsi",
                    "KAT_NEV": "ajándék tasak",
                    "LISTAAR": "103",
                    "(No column name)": "103"
                },
                {
                    "termekkod": "03080439T",
                    "MEGNEVEZES": "Italtartó doboz",
                    "KAT_NEV": "ajándék tasak",
                    "LISTAAR": "114",
                    "(No column name)": "114"
                },
                {
                    "termekkod": "03080012T",
                    "MEGNEVEZES": "Ajándék csom. 200x70",
                    "KAT_NEV": "ajándék tasak",
                    "LISTAAR": "125",
                    "(No column name)": "125"
                },
                {
                    "termekkod": "03080009T",
                    "MEGNEVEZES": "Ajándék csom. 100x70 metál",
                    "KAT_NEV": "ajándék tasak",
                    "LISTAAR": "148",
                    "(No column name)": "148"
                },
                {
                    "termekkod": "03080011T",
                    "MEGNEVEZES": "Ajándék cs. tasak közepes",
                    "KAT_NEV": "ajándék tasak",
                    "LISTAAR": "148",
                    "(No column name)": "148"
                },
                {
                    "termekkod": "03050458T",
                    "MEGNEVEZES": "Ajándék cs. 2×100×70",
                    "KAT_NEV": "ajándék tasak",
                    "LISTAAR": "148",
                    "(No column name)": "148"
                },
                {
                    "termekkod": "03080015T",
                    "MEGNEVEZES": "Ajándék csom. gyűrt",
                    "KAT_NEV": "ajándék tasak",
                    "LISTAAR": "169",
                    "(No column name)": "169"
                },
                {
                    "termekkod": "03080437T",
                    "MEGNEVEZES": "Ajándék csomagoló tasak",
                    "KAT_NEV": "ajándék tasak",
                    "LISTAAR": "185",
                    "(No column name)": "185"
                },
                {
                    "termekkod": "03080003T",
                    "MEGNEVEZES": "Ajándék cs. tasak italos",
                    "KAT_NEV": "ajándék tasak",
                    "LISTAAR": "185",
                    "(No column name)": "185"
                },
                {
                    "termekkod": "03080007T",
                    "MEGNEVEZES": "Ajándék cs. tasak mintás nagy",
                    "KAT_NEV": "ajándék tasak",
                    "LISTAAR": "206",
                    "(No column name)": "206"
                },
                {
                    "termekkod": "03080010T",
                    "MEGNEVEZES": "Ajándék csom. 150x70",
                    "KAT_NEV": "ajándék tasak",
                    "LISTAAR": "206",
                    "(No column name)": "206"
                },
                {
                    "termekkod": "03080438T",
                    "MEGNEVEZES": "Ajándék csomagoló tasak lézeres",
                    "KAT_NEV": "ajándék tasak",
                    "LISTAAR": "214",
                    "(No column name)": "214"
                },
                {
                    "termekkod": "03080005T",
                    "MEGNEVEZES": "Ajándék cs. tasak virágos nagy",
                    "KAT_NEV": "ajándék tasak",
                    "LISTAAR": "290",
                    "(No column name)": "290"
                },
                {
                    "termekkod": "04050022T",
                    "MEGNEVEZES": "Álarc",
                    "KAT_NEV": "álarc",
                    "LISTAAR": "89",
                    "(No column name)": "89"
                },
                {
                    "termekkod": "04050023T",
                    "MEGNEVEZES": "Álarc fejdísz",
                    "KAT_NEV": "álarc",
                    "LISTAAR": "144",
                    "(No column name)": "144"
                },
                {
                    "termekkod": "04050024T",
                    "MEGNEVEZES": "Álarc szemüveg",
                    "KAT_NEV": "álarc",
                    "LISTAAR": "144",
                    "(No column name)": "144"
                },
                {
                    "termekkod": "G041-AL211",
                    "MEGNEVEZES": "fiú ünneplős ruha",
                    "KAT_NEV": "alkalmi",
                    "LISTAAR": "16900",
                    "(No column name)": "16900"
                },
                {
                    "termekkod": "L041-AL211",
                    "MEGNEVEZES": "lány ünneplős ruha",
                    "KAT_NEV": "alkalmi",
                    "LISTAAR": "16900",
                    "(No column name)": "16900"
                },
                {
                    "termekkod": "N029-AL212",
                    "MEGNEVEZES": "női koktélruha",
                    "KAT_NEV": "alkalmi",
                    "LISTAAR": "32000",
                    "(No column name)": "32000"
                },
                {
                    "termekkod": "05010026T",
                    "MEGNEVEZES": "Alufólia 10 m-es",
                    "KAT_NEV": "alufólia",
                    "LISTAAR": "118",
                    "(No column name)": "118"
                },
                {
                    "termekkod": "05010027T",
                    "MEGNEVEZES": "Alufólia 20 m-es",
                    "KAT_NEV": "alufólia",
                    "LISTAAR": "214",
                    "(No column name)": "214"
                },
                {
                    "termekkod": "02010028T",
                    "MEGNEVEZES": "Árazószalag ",
                    "KAT_NEV": "árazószalag",
                    "LISTAAR": "106",
                    "(No column name)": "106"
                },
                {
                    "termekkod": "02020029T",
                    "MEGNEVEZES": "Átírótömb A/6",
                    "KAT_NEV": "átírótömb",
                    "LISTAAR": "115",
                    "(No column name)": "115"
                },
                {
                    "termekkod": "06080423T",
                    "MEGNEVEZES": "Beíró A/5 kockás",
                    "KAT_NEV": "beíró",
                    "LISTAAR": "228",
                    "(No column name)": "228"
                },
                {
                    "termekkod": "02020032T",
                    "MEGNEVEZES": "Beírókönyv A5 ",
                    "KAT_NEV": "beírókönyv",
                    "LISTAAR": "133",
                    "(No column name)": "133"
                },
                {
                    "termekkod": "02020033T",
                    "MEGNEVEZES": "Beírókönyv A4",
                    "KAT_NEV": "beírókönyv",
                    "LISTAAR": "328",
                    "(No column name)": "328"
                },
                {
                    "termekkod": "02060039T",
                    "MEGNEVEZES": "Bélyegző párna",
                    "KAT_NEV": "bélyegző",
                    "LISTAAR": "650",
                    "(No column name)": "650"
                },
                {
                    "termekkod": "02060038T",
                    "MEGNEVEZES": "Bélyegző IDEAL 50",
                    "KAT_NEV": "bélyegző",
                    "LISTAAR": "780",
                    "(No column name)": "780"
                },
                {
                    "termekkod": "02060448T",
                    "MEGNEVEZES": "Bélyegző RP 18-47",
                    "KAT_NEV": "bélyegző",
                    "LISTAAR": "1147",
                    "(No column name)": "1147"
                },
                {
                    "termekkod": "02060447T",
                    "MEGNEVEZES": "Bélyegző pocket",
                    "KAT_NEV": "bélyegző",
                    "LISTAAR": "1377",
                    "(No column name)": "1377"
                },
                {
                    "termekkod": "02060034T",
                    "MEGNEVEZES": "Bélyegzőfesték ",
                    "KAT_NEV": "bélyegzőfesték",
                    "LISTAAR": "297",
                    "(No column name)": "297"
                },
                {
                    "termekkod": "02030042T",
                    "MEGNEVEZES": "Boríték LC 6",
                    "KAT_NEV": "boríték",
                    "LISTAAR": "3",
                    "(No column name)": "3"
                },
                {
                    "termekkod": "02030040T",
                    "MEGNEVEZES": "Boríték LA 4 francia",
                    "KAT_NEV": "boríték",
                    "LISTAAR": "6",
                    "(No column name)": "6"
                },
                {
                    "termekkod": "02030041T",
                    "MEGNEVEZES": "Boríték LC 5",
                    "KAT_NEV": "boríték",
                    "LISTAAR": "6",
                    "(No column name)": "6"
                },
                {
                    "termekkod": "02050460T",
                    "MEGNEVEZES": "Boríték C/4-es",
                    "KAT_NEV": "boríték",
                    "LISTAAR": "15",
                    "(No column name)": "15"
                },
                {
                    "termekkod": "02030044T",
                    "MEGNEVEZES": "Boríték mintás",
                    "KAT_NEV": "boríték",
                    "LISTAAR": "15",
                    "(No column name)": "15"
                },
                {
                    "termekkod": "02050461T",
                    "MEGNEVEZES": "Boríték B/4-es",
                    "KAT_NEV": "boríték",
                    "LISTAAR": "18",
                    "(No column name)": "18"
                },
                {
                    "termekkod": "02030043T",
                    "MEGNEVEZES": "Boríték légp. kicsi",
                    "KAT_NEV": "boríték",
                    "LISTAAR": "39",
                    "(No column name)": "39"
                },
                {
                    "termekkod": "02080069T",
                    "MEGNEVEZES": "CD tartó tok",
                    "KAT_NEV": "cd tok",
                    "LISTAAR": "30",
                    "(No column name)": "30"
                },
                {
                    "termekkod": "05050045T",
                    "MEGNEVEZES": "Celofán",
                    "KAT_NEV": "celofán",
                    "LISTAAR": "46",
                    "(No column name)": "46"
                },
                {
                    "termekkod": "05050046T",
                    "MEGNEVEZES": "Celofán 50 db-os",
                    "KAT_NEV": "celofán",
                    "LISTAAR": "73",
                    "(No column name)": "73"
                },
                {
                    "termekkod": "07080065T",
                    "MEGNEVEZES": "Ceruza kínai",
                    "KAT_NEV": "ceruza",
                    "LISTAAR": "11",
                    "(No column name)": "11"
                },
                {
                    "termekkod": "07040058T",
                    "MEGNEVEZES": "Ceruza radíros kínai",
                    "KAT_NEV": "ceruza",
                    "LISTAAR": "11",
                    "(No column name)": "11"
                },
                {
                    "termekkod": "07040053T",
                    "MEGNEVEZES": "Ceruza HB radiros",
                    "KAT_NEV": "ceruza",
                    "LISTAAR": "23",
                    "(No column name)": "23"
                },
                {
                    "termekkod": "07040050T",
                    "MEGNEVEZES": "Ceruza Cseh",
                    "KAT_NEV": "ceruza",
                    "LISTAAR": "30",
                    "(No column name)": "30"
                },
                {
                    "termekkod": "07080063T",
                    "MEGNEVEZES": "Ceruza szorzótáblás",
                    "KAT_NEV": "ceruza",
                    "LISTAAR": "35",
                    "(No column name)": "35"
                },
                {
                    "termekkod": "07040060T",
                    "MEGNEVEZES": "Ceruza stabilo swano",
                    "KAT_NEV": "ceruza",
                    "LISTAAR": "36",
                    "(No column name)": "36"
                },
                {
                    "termekkod": "07040051T",
                    "MEGNEVEZES": "Ceruza háromszög ",
                    "KAT_NEV": "ceruza",
                    "LISTAAR": "39",
                    "(No column name)": "39"
                },
                {
                    "termekkod": "07040047T",
                    "MEGNEVEZES": "Ceruza 2H-4B",
                    "KAT_NEV": "ceruza",
                    "LISTAAR": "39",
                    "(No column name)": "39"
                },
                {
                    "termekkod": "07040049T",
                    "MEGNEVEZES": "Ceruza Conté zöld",
                    "KAT_NEV": "ceruza",
                    "LISTAAR": "40",
                    "(No column name)": "40"
                },
                {
                    "termekkod": "07080064T",
                    "MEGNEVEZES": "Ceruza zöld színű",
                    "KAT_NEV": "ceruza",
                    "LISTAAR": "40",
                    "(No column name)": "40"
                },
                {
                    "termekkod": "07040056T",
                    "MEGNEVEZES": "Ceruza piros-kék vékony",
                    "KAT_NEV": "ceruza",
                    "LISTAAR": "40",
                    "(No column name)": "40"
                },
                {
                    "termekkod": "07040061T",
                    "MEGNEVEZES": "Ceruza stabilo opera",
                    "KAT_NEV": "ceruza",
                    "LISTAAR": "44",
                    "(No column name)": "44"
                },
                {
                    "termekkod": "07040052T",
                    "MEGNEVEZES": "Ceruza 2H-3B Koh-i-nor",
                    "KAT_NEV": "ceruza",
                    "LISTAAR": "53",
                    "(No column name)": "53"
                },
                {
                    "termekkod": "07040054T",
                    "MEGNEVEZES": "Ceruza kártyás",
                    "KAT_NEV": "ceruza",
                    "LISTAAR": "55",
                    "(No column name)": "55"
                },
                {
                    "termekkod": "07040048T",
                    "MEGNEVEZES": "Ceruza arany, ezüst",
                    "KAT_NEV": "ceruza",
                    "LISTAAR": "55",
                    "(No column name)": "55"
                },
                {
                    "termekkod": "07040059T",
                    "MEGNEVEZES": "Ceruza smaragd",
                    "KAT_NEV": "ceruza",
                    "LISTAAR": "58",
                    "(No column name)": "58"
                },
                {
                    "termekkod": "07040055T",
                    "MEGNEVEZES": "Ceruza piros-kék",
                    "KAT_NEV": "ceruza",
                    "LISTAAR": "59",
                    "(No column name)": "59"
                },
                {
                    "termekkod": "07040057T",
                    "MEGNEVEZES": "Ceruza Progresso",
                    "KAT_NEV": "ceruza",
                    "LISTAAR": "106",
                    "(No column name)": "106"
                },
                {
                    "termekkod": "07080062T",
                    "MEGNEVEZES": "Ceruza szén",
                    "KAT_NEV": "ceruza",
                    "LISTAAR": "146",
                    "(No column name)": "146"
                },
                {
                    "termekkod": "04110068T",
                    "MEGNEVEZES": "Címke egyszínű",
                    "KAT_NEV": "címke",
                    "LISTAAR": "20",
                    "(No column name)": "20"
                },
                {
                    "termekkod": "04110066T",
                    "MEGNEVEZES": "Címke 8 db-os",
                    "KAT_NEV": "címke",
                    "LISTAAR": "26",
                    "(No column name)": "26"
                },
                {
                    "termekkod": "04110067T",
                    "MEGNEVEZES": "Címke WD. állat",
                    "KAT_NEV": "címke",
                    "LISTAAR": "31",
                    "(No column name)": "31"
                },
                {
                    "termekkod": "01100503T",
                    "MEGNEVEZES": "Color Copy A4 120 g",
                    "KAT_NEV": "color copy",
                    "LISTAAR": "10",
                    "(No column name)": "10"
                },
                {
                    "termekkod": "01090500T",
                    "MEGNEVEZES": "Color Copy A4 200 g",
                    "KAT_NEV": "color copy",
                    "LISTAAR": "14",
                    "(No column name)": "14"
                },
                {
                    "termekkod": "01100497T",
                    "MEGNEVEZES": "Color Copy 160 g-os ",
                    "KAT_NEV": "color copy",
                    "LISTAAR": "14",
                    "(No column name)": "14"
                },
                {
                    "termekkod": "01090499T",
                    "MEGNEVEZES": "Color Copy A/4 250 g",
                    "KAT_NEV": "color copy",
                    "LISTAAR": "15",
                    "(No column name)": "15"
                },
                {
                    "termekkod": "01100496T",
                    "MEGNEVEZES": "Színes másoló a/4 80g",
                    "KAT_NEV": "color copy",
                    "LISTAAR": "1500",
                    "(No column name)": "1500"
                },
                {
                    "termekkod": "05010370T",
                    "MEGNEVEZES": "Szilvia csomagoló",
                    "KAT_NEV": "csomagoló",
                    "LISTAAR": "89",
                    "(No column name)": "89"
                },
                {
                    "termekkod": "03080016T",
                    "MEGNEVEZES": "házt.csom.  5 ív",
                    "KAT_NEV": "csomagoló",
                    "LISTAAR": "110",
                    "(No column name)": "110"
                },
                {
                    "termekkod": "03080021T",
                    "MEGNEVEZES": "Ajándék csom. vékony",
                    "KAT_NEV": "csomagoló papír",
                    "LISTAAR": "23",
                    "(No column name)": "23"
                },
                {
                    "termekkod": "03080020T",
                    "MEGNEVEZES": "Ajándék csom. nagy  ",
                    "KAT_NEV": "csomagoló papír",
                    "LISTAAR": "44",
                    "(No column name)": "44"
                },
                {
                    "termekkod": "03080019T",
                    "MEGNEVEZES": "Ajándék csom. Krepp",
                    "KAT_NEV": "csomagoló papír",
                    "LISTAAR": "56",
                    "(No column name)": "56"
                },
                {
                    "termekkod": "03080031T",
                    "MEGNEVEZES": "Ajándék cs. húsvéti",
                    "KAT_NEV": "csomagoló papír",
                    "LISTAAR": "106",
                    "(No column name)": "106"
                },
                {
                    "termekkod": "03080018T",
                    "MEGNEVEZES": "Ajándék csom. gyűrt 50x70 ",
                    "KAT_NEV": "csomagoló papír",
                    "LISTAAR": "121",
                    "(No column name)": "121"
                },
                {
                    "termekkod": "03080017T",
                    "MEGNEVEZES": "iskolai csomagoló papír",
                    "KAT_NEV": "csomagoló papír",
                    "LISTAAR": "148",
                    "(No column name)": "148"
                },
                {
                    "termekkod": "03080030T",
                    "MEGNEVEZES": "Ajándék cs. húsvéti 200x70",
                    "KAT_NEV": "csomagoló papír",
                    "LISTAAR": "220",
                    "(No column name)": "220"
                },
                {
                    "termekkod": "04030288T",
                    "MEGNEVEZES": "Műanyag pohár 1 dl-es",
                    "KAT_NEV": "dekor",
                    "LISTAAR": "3",
                    "(No column name)": "3"
                },
                {
                    "termekkod": "04030289T",
                    "MEGNEVEZES": "Műanyag pohár 5 cl-es",
                    "KAT_NEV": "dekor",
                    "LISTAAR": "15",
                    "(No column name)": "15"
                },
                {
                    "termekkod": "04030287T",
                    "MEGNEVEZES": "Műanyag foszforeszkáló állat",
                    "KAT_NEV": "dekor",
                    "LISTAAR": "23",
                    "(No column name)": "23"
                },
                {
                    "termekkod": "04030286T",
                    "MEGNEVEZES": "Műanyag állatok",
                    "KAT_NEV": "dekor",
                    "LISTAAR": "44",
                    "(No column name)": "44"
                },
                {
                    "termekkod": "01100072T",
                    "MEGNEVEZES": "Dipa A/4 keretezett",
                    "KAT_NEV": "dipa",
                    "LISTAAR": "9",
                    "(No column name)": "9"
                },
                {
                    "termekkod": "04050075T",
                    "MEGNEVEZES": "Díszdoboz tollnak 2 db-os keskeny",
                    "KAT_NEV": "díszdoboz",
                    "LISTAAR": "44",
                    "(No column name)": "44"
                },
                {
                    "termekkod": "04050073T",
                    "MEGNEVEZES": "Díszdoboz kar.",
                    "KAT_NEV": "díszdoboz",
                    "LISTAAR": "61",
                    "(No column name)": "61"
                },
                {
                    "termekkod": "04050074T",
                    "MEGNEVEZES": "Díszdoboz tollnak 2 db-os",
                    "KAT_NEV": "díszdoboz",
                    "LISTAAR": "66",
                    "(No column name)": "66"
                },
                {
                    "termekkod": "03050078T",
                    "MEGNEVEZES": "Díszkötöző szalag metál kicsi",
                    "KAT_NEV": "díszkötöző",
                    "LISTAAR": "15",
                    "(No column name)": "15"
                },
                {
                    "termekkod": "03050079T",
                    "MEGNEVEZES": "Díszkötöző szalag vékony",
                    "KAT_NEV": "díszkötöző",
                    "LISTAAR": "15",
                    "(No column name)": "15"
                },
                {
                    "termekkod": "03050076T",
                    "MEGNEVEZES": "Díszkötöző szalag metál nagy",
                    "KAT_NEV": "díszkötöző",
                    "LISTAAR": "26",
                    "(No column name)": "26"
                },
                {
                    "termekkod": "03050077T",
                    "MEGNEVEZES": "Diszkötöző szalag arany",
                    "KAT_NEV": "díszkötöző",
                    "LISTAAR": "44",
                    "(No column name)": "44"
                },
                {
                    "termekkod": "03050080T",
                    "MEGNEVEZES": "Diszkötöző széles szalag",
                    "KAT_NEV": "díszkötöző",
                    "LISTAAR": "81",
                    "(No column name)": "81"
                },
                {
                    "termekkod": "02080081T",
                    "MEGNEVEZES": "Dvd",
                    "KAT_NEV": "dvd",
                    "LISTAAR": "133",
                    "(No column name)": "133"
                },
                {
                    "termekkod": "06010083T",
                    "MEGNEVEZES": "Ecset Centrum 7,8,9",
                    "KAT_NEV": "ecset",
                    "LISTAAR": "33",
                    "(No column name)": "33"
                },
                {
                    "termekkod": "06010086T",
                    "MEGNEVEZES": "Ecset Nebulo 4-es",
                    "KAT_NEV": "ecset",
                    "LISTAAR": "36",
                    "(No column name)": "36"
                },
                {
                    "termekkod": "06010082T",
                    "MEGNEVEZES": "Ecset Centrum 10,11,12",
                    "KAT_NEV": "ecset",
                    "LISTAAR": "40",
                    "(No column name)": "40"
                },
                {
                    "termekkod": "06010084T",
                    "MEGNEVEZES": "Ecset Deák 2-es",
                    "KAT_NEV": "ecset",
                    "LISTAAR": "60",
                    "(No column name)": "60"
                },
                {
                    "termekkod": "06010085T",
                    "MEGNEVEZES": "Ecset Lizzy 10-es",
                    "KAT_NEV": "ecset",
                    "LISTAAR": "65",
                    "(No column name)": "65"
                },
                {
                    "termekkod": "06040087T",
                    "MEGNEVEZES": "Ecset Nebuló 10-es",
                    "KAT_NEV": "ecset",
                    "LISTAAR": "79",
                    "(No column name)": "79"
                },
                {
                    "termekkod": "06080428T",
                    "MEGNEVEZES": "Ecsetkészlet",
                    "KAT_NEV": "ecset",
                    "LISTAAR": "180",
                    "(No column name)": "180"
                },
                {
                    "termekkod": "01040502T",
                    "MEGNEVEZES": "Előlap spirálhoz",
                    "KAT_NEV": "előlap",
                    "LISTAAR": "25",
                    "(No column name)": "25"
                },
                {
                    "termekkod": "04080442T",
                    "MEGNEVEZES": "Emlékkönyv",
                    "KAT_NEV": "emlékkönyv",
                    "LISTAAR": "316",
                    "(No column name)": "316"
                },
                {
                    "termekkod": "04080443T",
                    "MEGNEVEZES": "Emlékkönyv lakatos",
                    "KAT_NEV": "emlékkönyv",
                    "LISTAAR": "449",
                    "(No column name)": "449"
                },
                {
                    "termekkod": "04040090T",
                    "MEGNEVEZES": "Emlékkönyv",
                    "KAT_NEV": "emlékkönyv",
                    "LISTAAR": "526",
                    "(No column name)": "526"
                },
                {
                    "termekkod": "01030091T",
                    "MEGNEVEZES": "Emléklap A/5",
                    "KAT_NEV": "emléklap",
                    "LISTAAR": "26",
                    "(No column name)": "26"
                },
                {
                    "termekkod": "01080093T",
                    "MEGNEVEZES": "Fax papír 15 m",
                    "KAT_NEV": "fax papír",
                    "LISTAAR": "161",
                    "(No column name)": "161"
                },
                {
                    "termekkod": "L029-FE307",
                    "MEGNEVEZES": "lány zokni",
                    "KAT_NEV": "fehérnemű",
                    "LISTAAR": "240",
                    "(No column name)": "240"
                },
                {
                    "termekkod": "G029-FE307",
                    "MEGNEVEZES": "fiú zokni",
                    "KAT_NEV": "fehérnemű",
                    "LISTAAR": "240",
                    "(No column name)": "240"
                },
                {
                    "termekkod": "L023-FE301",
                    "MEGNEVEZES": "lány alsó",
                    "KAT_NEV": "fehérnemű",
                    "LISTAAR": "390",
                    "(No column name)": "390"
                },
                {
                    "termekkod": "G023-FE301",
                    "MEGNEVEZES": "fiú alsó",
                    "KAT_NEV": "fehérnemű",
                    "LISTAAR": "390",
                    "(No column name)": "390"
                },
                {
                    "termekkod": "N019-FE301",
                    "MEGNEVEZES": "női alsó",
                    "KAT_NEV": "fehérnemű",
                    "LISTAAR": "690",
                    "(No column name)": "690"
                },
                {
                    "termekkod": "L033-FE311",
                    "MEGNEVEZES": "lány harisnya",
                    "KAT_NEV": "fehérnemű",
                    "LISTAAR": "990",
                    "(No column name)": "990"
                },
                {
                    "termekkod": "G038-FE316",
                    "MEGNEVEZES": "fiú harisnya",
                    "KAT_NEV": "fehérnemű",
                    "LISTAAR": "990",
                    "(No column name)": "990"
                },
                {
                    "termekkod": "01100505T",
                    "MEGNEVEZES": "Fehér másoló A/4",
                    "KAT_NEV": "fénymásoló papír",
                    "LISTAAR": "686",
                    "(No column name)": "686"
                },
                {
                    "termekkod": "01100095T",
                    "MEGNEVEZES": "Fénymásoló papír GetCopy",
                    "KAT_NEV": "fénymásoló papír",
                    "LISTAAR": "728",
                    "(No column name)": "728"
                },
                {
                    "termekkod": "01100096T",
                    "MEGNEVEZES": "Fénymásoló papír Qconnect",
                    "KAT_NEV": "fénymásoló papír",
                    "LISTAAR": "728",
                    "(No column name)": "728"
                },
                {
                    "termekkod": "01100094T",
                    "MEGNEVEZES": "Fénymásoló papír DataCopy",
                    "KAT_NEV": "fénymásoló papír",
                    "LISTAAR": "845",
                    "(No column name)": "845"
                },
                {
                    "termekkod": "01100504T",
                    "MEGNEVEZES": "Fehér másoló A/3",
                    "KAT_NEV": "fénymásoló papír",
                    "LISTAAR": "1488",
                    "(No column name)": "1488"
                },
                {
                    "termekkod": "F021-IN215",
                    "MEGNEVEZES": "férfi ing",
                    "KAT_NEV": "férfi ing",
                    "LISTAAR": "6490",
                    "(No column name)": "6490"
                },
                {
                    "termekkod": "F001-KB101",
                    "MEGNEVEZES": "férfi szövet kabát",
                    "KAT_NEV": "férfi kabát",
                    "LISTAAR": "22000",
                    "(No column name)": "22000"
                },
                {
                    "termekkod": "F007-NA201",
                    "MEGNEVEZES": "férfi farmer nadrág",
                    "KAT_NEV": "férfi nadrág",
                    "LISTAAR": "7890",
                    "(No column name)": "7890"
                },
                {
                    "termekkod": "F013-NA207",
                    "MEGNEVEZES": "férfi szövet nadrág",
                    "KAT_NEV": "férfi nadrág",
                    "LISTAAR": "11900",
                    "(No column name)": "11900"
                },
                {
                    "termekkod": "02080455T",
                    "MEGNEVEZES": "Festékpatron BCI-3BK",
                    "KAT_NEV": "festékpatron",
                    "LISTAAR": "625",
                    "(No column name)": "625"
                },
                {
                    "termekkod": "07030108T",
                    "MEGNEVEZES": "Filctoll CD író",
                    "KAT_NEV": "filctoll",
                    "LISTAAR": "0",
                    "(No column name)": "0"
                },
                {
                    "termekkod": "07040097T",
                    "MEGNEVEZES": "Filctoll ",
                    "KAT_NEV": "filctoll",
                    "LISTAAR": "26",
                    "(No column name)": "26"
                },
                {
                    "termekkod": "07040102T",
                    "MEGNEVEZES": "Filctoll supra fine",
                    "KAT_NEV": "filctoll",
                    "LISTAAR": "46",
                    "(No column name)": "46"
                },
                {
                    "termekkod": "07030103T",
                    "MEGNEVEZES": "Filctoll TINTEN PEN",
                    "KAT_NEV": "filctoll",
                    "LISTAAR": "53",
                    "(No column name)": "53"
                },
                {
                    "termekkod": "07030104T",
                    "MEGNEVEZES": "Filctoll vastag ARTIP",
                    "KAT_NEV": "filctoll",
                    "LISTAAR": "76",
                    "(No column name)": "76"
                },
                {
                    "termekkod": "07030106T",
                    "MEGNEVEZES": "Filctoll, alkoholosOHP F-M-C",
                    "KAT_NEV": "filctoll",
                    "LISTAAR": "103",
                    "(No column name)": "103"
                },
                {
                    "termekkod": "07030105T",
                    "MEGNEVEZES": "Filctoll, alkoholos Centropen",
                    "KAT_NEV": "filctoll",
                    "LISTAAR": "114",
                    "(No column name)": "114"
                },
                {
                    "termekkod": "07040101T",
                    "MEGNEVEZES": "Filctoll permanent vastag",
                    "KAT_NEV": "filctoll",
                    "LISTAAR": "140",
                    "(No column name)": "140"
                },
                {
                    "termekkod": "07030107T",
                    "MEGNEVEZES": "Filctoll, textil Edding 4500",
                    "KAT_NEV": "filctoll",
                    "LISTAAR": "276",
                    "(No column name)": "276"
                },
                {
                    "termekkod": "07040098T",
                    "MEGNEVEZES": "Filctoll document pen",
                    "KAT_NEV": "filctoll",
                    "LISTAAR": "278",
                    "(No column name)": "278"
                },
                {
                    "termekkod": "07040100T",
                    "MEGNEVEZES": "Filctoll Marvy alkoholos",
                    "KAT_NEV": "filctoll",
                    "LISTAAR": "390",
                    "(No column name)": "390"
                },
                {
                    "termekkod": "07040099T",
                    "MEGNEVEZES": "Filctoll Edding 750",
                    "KAT_NEV": "filctoll",
                    "LISTAAR": "434",
                    "(No column name)": "434"
                },
                {
                    "termekkod": "07040257T",
                    "MEGNEVEZES": "Lakk filc Edding 750",
                    "KAT_NEV": "filctoll",
                    "LISTAAR": "434",
                    "(No column name)": "434"
                },
                {
                    "termekkod": "02080109T",
                    "MEGNEVEZES": "Floppy lemez",
                    "KAT_NEV": "floppy",
                    "LISTAAR": "51",
                    "(No column name)": "51"
                },
                {
                    "termekkod": "02040507T",
                    "MEGNEVEZES": "Fólia tasakos A4 80 mik.",
                    "KAT_NEV": "fólia",
                    "LISTAAR": "40",
                    "(No column name)": "40"
                },
                {
                    "termekkod": "02040508T",
                    "MEGNEVEZES": "Fólia tasakos A4100 mik.",
                    "KAT_NEV": "fólia",
                    "LISTAAR": "44",
                    "(No column name)": "44"
                },
                {
                    "termekkod": "02040506T",
                    "MEGNEVEZES": "Fólia tasakos A4 125 mik.",
                    "KAT_NEV": "fólia",
                    "LISTAAR": "44",
                    "(No column name)": "44"
                },
                {
                    "termekkod": "01010110T",
                    "MEGNEVEZES": "Fotópapír A/4 fényes",
                    "KAT_NEV": "fotópapír",
                    "LISTAAR": "30",
                    "(No column name)": "30"
                },
                {
                    "termekkod": "06010114T",
                    "MEGNEVEZES": "Füzet A/5 hangjegy 36/16",
                    "KAT_NEV": "füzet",
                    "LISTAAR": "30",
                    "(No column name)": "30"
                },
                {
                    "termekkod": "06080116T",
                    "MEGNEVEZES": "Füzet A5 1-8 osz.-ig",
                    "KAT_NEV": "füzet",
                    "LISTAAR": "34",
                    "(No column name)": "34"
                },
                {
                    "termekkod": "06010113T",
                    "MEGNEVEZES": "Füzet 31-32 szótár",
                    "KAT_NEV": "füzet",
                    "LISTAAR": "34",
                    "(No column name)": "34"
                },
                {
                    "termekkod": "06010115T",
                    "MEGNEVEZES": "Füzet A/5, mintás",
                    "KAT_NEV": "füzet",
                    "LISTAAR": "48",
                    "(No column name)": "48"
                },
                {
                    "termekkod": "06010111T",
                    "MEGNEVEZES": "Füzet  A/4 ",
                    "KAT_NEV": "füzet",
                    "LISTAAR": "68",
                    "(No column name)": "68"
                },
                {
                    "termekkod": "06010112T",
                    "MEGNEVEZES": "Füzet  A4 mintás",
                    "KAT_NEV": "füzet",
                    "LISTAAR": "78",
                    "(No column name)": "78"
                },
                {
                    "termekkod": "06040357T",
                    "MEGNEVEZES": "Sp.Füzet A/5 70-es",
                    "KAT_NEV": "füzet",
                    "LISTAAR": "89",
                    "(No column name)": "89"
                },
                {
                    "termekkod": "06040356T",
                    "MEGNEVEZES": "Sp.Füzet A/4  70es",
                    "KAT_NEV": "füzet",
                    "LISTAAR": "144",
                    "(No column name)": "144"
                },
                {
                    "termekkod": "06040355T",
                    "MEGNEVEZES": "Sp.Füzet A/4 70-as",
                    "KAT_NEV": "füzet",
                    "LISTAAR": "155",
                    "(No column name)": "155"
                },
                {
                    "termekkod": "06080426T",
                    "MEGNEVEZES": "Szótárfüzet Lizzy",
                    "KAT_NEV": "füzet",
                    "LISTAAR": "161",
                    "(No column name)": "161"
                },
                {
                    "termekkod": "06040354T",
                    "MEGNEVEZES": "Sp.Füzet A/4  perforált, lyuk.",
                    "KAT_NEV": "füzet",
                    "LISTAAR": "206",
                    "(No column name)": "206"
                },
                {
                    "termekkod": "06080118T",
                    "MEGNEVEZES": "Füzetborító átlátszó A5",
                    "KAT_NEV": "füzetborító",
                    "LISTAAR": "8",
                    "(No column name)": "8"
                },
                {
                    "termekkod": "06080117T",
                    "MEGNEVEZES": "Füzetborító A/4 átlátszó",
                    "KAT_NEV": "füzetborító",
                    "LISTAAR": "10",
                    "(No column name)": "10"
                },
                {
                    "termekkod": "06080122T",
                    "MEGNEVEZES": "Füzetborító öntapadós nagy",
                    "KAT_NEV": "füzetborító",
                    "LISTAAR": "19",
                    "(No column name)": "19"
                },
                {
                    "termekkod": "06080119T",
                    "MEGNEVEZES": "Füzetborító mesefig.",
                    "KAT_NEV": "füzetborító",
                    "LISTAAR": "19",
                    "(No column name)": "19"
                },
                {
                    "termekkod": "06080120T",
                    "MEGNEVEZES": "Füzetborító öntapadó kicsi",
                    "KAT_NEV": "füzetborító",
                    "LISTAAR": "23",
                    "(No column name)": "23"
                },
                {
                    "termekkod": "06080424T",
                    "MEGNEVEZES": "Füzetborító A/4 mintás",
                    "KAT_NEV": "füzetborító",
                    "LISTAAR": "24",
                    "(No column name)": "24"
                },
                {
                    "termekkod": "06080121T",
                    "MEGNEVEZES": "Füzetborító öntapadó tekercses",
                    "KAT_NEV": "füzetborító",
                    "LISTAAR": "195",
                    "(No column name)": "195"
                },
                {
                    "termekkod": "06080126T",
                    "MEGNEVEZES": "Füzettartó A/5  ",
                    "KAT_NEV": "füzettartó",
                    "LISTAAR": "203",
                    "(No column name)": "203"
                },
                {
                    "termekkod": "06080125T",
                    "MEGNEVEZES": "Füzettartó A/5 vastag",
                    "KAT_NEV": "füzettartó",
                    "LISTAAR": "411",
                    "(No column name)": "411"
                },
                {
                    "termekkod": "06080124T",
                    "MEGNEVEZES": "Füzettartó A/4 keménytáblás",
                    "KAT_NEV": "füzettartó",
                    "LISTAAR": "508",
                    "(No column name)": "508"
                },
                {
                    "termekkod": "06080123T",
                    "MEGNEVEZES": "Füzettartó A/4 keménytáblás",
                    "KAT_NEV": "füzettartó",
                    "LISTAAR": "551",
                    "(No column name)": "551"
                },
                {
                    "termekkod": "02040145T",
                    "MEGNEVEZES": "Gemkapocs 28 mm",
                    "KAT_NEV": "gemkapocs",
                    "LISTAAR": "30",
                    "(No column name)": "30"
                },
                {
                    "termekkod": "02040146T",
                    "MEGNEVEZES": "Gemkapocs ICO",
                    "KAT_NEV": "gemkapocs",
                    "LISTAAR": "48",
                    "(No column name)": "48"
                },
                {
                    "termekkod": "02080450T",
                    "MEGNEVEZES": "Gémkapocs 28-as színes",
                    "KAT_NEV": "gémkapocs",
                    "LISTAAR": "44",
                    "(No column name)": "44"
                },
                {
                    "termekkod": "02080451T",
                    "MEGNEVEZES": "Gémkapocs 50-es",
                    "KAT_NEV": "gémkapocs",
                    "LISTAAR": "103",
                    "(No column name)": "103"
                },
                {
                    "termekkod": "02080456T",
                    "MEGNEVEZES": "Genoterm HERLITZ 10-es",
                    "KAT_NEV": "genoterm",
                    "LISTAAR": "89",
                    "(No column name)": "89"
                },
                {
                    "termekkod": "02040147T",
                    "MEGNEVEZES": "Genotherm lefűzhető A/5",
                    "KAT_NEV": "genotherm",
                    "LISTAAR": "8",
                    "(No column name)": "8"
                },
                {
                    "termekkod": "02040148T",
                    "MEGNEVEZES": "Genotherm lefűzhető A4 10db-os",
                    "KAT_NEV": "genotherm",
                    "LISTAAR": "63",
                    "(No column name)": "63"
                },
                {
                    "termekkod": "02040149T",
                    "MEGNEVEZES": "Genotherm A4 10db-os",
                    "KAT_NEV": "genotherm",
                    "LISTAAR": "110",
                    "(No column name)": "110"
                },
                {
                    "termekkod": "07080156T",
                    "MEGNEVEZES": "Golyóstoll kupakos piros",
                    "KAT_NEV": "golyóstoll",
                    "LISTAAR": "23",
                    "(No column name)": "23"
                },
                {
                    "termekkod": "07080155T",
                    "MEGNEVEZES": "Golyóstoll",
                    "KAT_NEV": "golyóstoll",
                    "LISTAAR": "33",
                    "(No column name)": "33"
                },
                {
                    "termekkod": "07080153T",
                    "MEGNEVEZES": "Golyóstoll illatos ICO",
                    "KAT_NEV": "golyóstoll",
                    "LISTAAR": "41",
                    "(No column name)": "41"
                },
                {
                    "termekkod": "07080161T",
                    "MEGNEVEZES": "Golyóstoll kétszínű",
                    "KAT_NEV": "golyóstoll",
                    "LISTAAR": "44",
                    "(No column name)": "44"
                },
                {
                    "termekkod": "07080150T",
                    "MEGNEVEZES": "Golyóstoll",
                    "KAT_NEV": "golyóstoll",
                    "LISTAAR": "51",
                    "(No column name)": "51"
                },
                {
                    "termekkod": "07080159T",
                    "MEGNEVEZES": "Golyóstoll Pax tip.",
                    "KAT_NEV": "golyóstoll",
                    "LISTAAR": "63",
                    "(No column name)": "63"
                },
                {
                    "termekkod": "07080466T",
                    "MEGNEVEZES": "Golyóstoll Stabiló 308",
                    "KAT_NEV": "golyóstoll",
                    "LISTAAR": "81",
                    "(No column name)": "81"
                },
                {
                    "termekkod": "07080157T",
                    "MEGNEVEZES": "Golyóstoll Montex Hytone",
                    "KAT_NEV": "golyóstoll",
                    "LISTAAR": "93",
                    "(No column name)": "93"
                },
                {
                    "termekkod": "07040169T",
                    "MEGNEVEZES": "Golyóstoll Zodiák",
                    "KAT_NEV": "golyóstoll",
                    "LISTAAR": "94",
                    "(No column name)": "94"
                },
                {
                    "termekkod": "07080162T",
                    "MEGNEVEZES": "Golyóstoll Stabilo piros",
                    "KAT_NEV": "golyóstoll",
                    "LISTAAR": "101",
                    "(No column name)": "101"
                },
                {
                    "termekkod": "07080468T",
                    "MEGNEVEZES": "Golyóstoll háromfunkciós",
                    "KAT_NEV": "golyóstoll",
                    "LISTAAR": "110",
                    "(No column name)": "110"
                },
                {
                    "termekkod": "07080470T",
                    "MEGNEVEZES": "Golyóstoll háromszög",
                    "KAT_NEV": "golyóstoll",
                    "LISTAAR": "188",
                    "(No column name)": "188"
                },
                {
                    "termekkod": "07040168T",
                    "MEGNEVEZES": "Golyóstoll Zebra new hard",
                    "KAT_NEV": "golyóstoll",
                    "LISTAAR": "189",
                    "(No column name)": "189"
                },
                {
                    "termekkod": "07040165T",
                    "MEGNEVEZES": "Golyóstoll UNI laknock",
                    "KAT_NEV": "golyóstoll",
                    "LISTAAR": "218",
                    "(No column name)": "218"
                },
                {
                    "termekkod": "07080163T",
                    "MEGNEVEZES": "Golyóstoll UNI átlátszó",
                    "KAT_NEV": "golyóstoll",
                    "LISTAAR": "230",
                    "(No column name)": "230"
                },
                {
                    "termekkod": "07080164T",
                    "MEGNEVEZES": "Golyóstoll UNI gumis",
                    "KAT_NEV": "golyóstoll",
                    "LISTAAR": "231",
                    "(No column name)": "231"
                },
                {
                    "termekkod": "07080160T",
                    "MEGNEVEZES": "Golyóstoll penac",
                    "KAT_NEV": "golyóstoll",
                    "LISTAAR": "239",
                    "(No column name)": "239"
                },
                {
                    "termekkod": "07080467T",
                    "MEGNEVEZES": "Golyóstoll kétfunkciós ICO",
                    "KAT_NEV": "golyóstoll",
                    "LISTAAR": "273",
                    "(No column name)": "273"
                },
                {
                    "termekkod": "07080471T",
                    "MEGNEVEZES": "Golyóstoll levélbontós",
                    "KAT_NEV": "golyóstoll",
                    "LISTAAR": "294",
                    "(No column name)": "294"
                },
                {
                    "termekkod": "07080469T",
                    "MEGNEVEZES": "Golyóstoll UNIBALL 07",
                    "KAT_NEV": "golyóstoll",
                    "LISTAAR": "364",
                    "(No column name)": "364"
                },
                {
                    "termekkod": "07080151T",
                    "MEGNEVEZES": "Golyóstoll + ceruza Twister 2in1",
                    "KAT_NEV": "golyóstoll",
                    "LISTAAR": "390",
                    "(No column name)": "390"
                },
                {
                    "termekkod": "07080154T",
                    "MEGNEVEZES": "Golyóstoll INOXCROM",
                    "KAT_NEV": "golyóstoll",
                    "LISTAAR": "401",
                    "(No column name)": "401"
                },
                {
                    "termekkod": "07040166T",
                    "MEGNEVEZES": "Golyóstoll Zebra 301",
                    "KAT_NEV": "golyóstoll",
                    "LISTAAR": "455",
                    "(No column name)": "455"
                },
                {
                    "termekkod": "07040167T",
                    "MEGNEVEZES": "Golyóstoll Zebra mini",
                    "KAT_NEV": "golyóstoll",
                    "LISTAAR": "655",
                    "(No column name)": "655"
                },
                {
                    "termekkod": "07080158T",
                    "MEGNEVEZES": "Golyóstoll Parker tokban",
                    "KAT_NEV": "golyóstoll",
                    "LISTAAR": "773",
                    "(No column name)": "773"
                },
                {
                    "termekkod": "07080152T",
                    "MEGNEVEZES": "Golyóstoll 3 funkciós ",
                    "KAT_NEV": "golyóstoll",
                    "LISTAAR": "1019",
                    "(No column name)": "1019"
                },
                {
                    "termekkod": "05050170T",
                    "MEGNEVEZES": "Gumigyűrű",
                    "KAT_NEV": "gumigyűrű",
                    "LISTAAR": "19",
                    "(No column name)": "19"
                },
                {
                    "termekkod": "G064-CI401",
                    "MEGNEVEZES": "gyermek szandál (fiú)",
                    "KAT_NEV": "gyermek cipő",
                    "LISTAAR": "6900",
                    "(No column name)": "6900"
                },
                {
                    "termekkod": "L064-CI401",
                    "MEGNEVEZES": "gyermek szandál (lány)",
                    "KAT_NEV": "gyermek cipő",
                    "LISTAAR": "6900",
                    "(No column name)": "6900"
                },
                {
                    "termekkod": "L073-CI410",
                    "MEGNEVEZES": "gyermek cipő (lány)",
                    "KAT_NEV": "gyermek cipő",
                    "LISTAAR": "7900",
                    "(No column name)": "7900"
                },
                {
                    "termekkod": "G073-CI410",
                    "MEGNEVEZES": "gyermek cipő (fiú)",
                    "KAT_NEV": "gyermek cipő",
                    "LISTAAR": "7900",
                    "(No column name)": "7900"
                },
                {
                    "termekkod": "G082-CI419",
                    "MEGNEVEZES": "gyermek csizma (fiú)",
                    "KAT_NEV": "gyermek cipő",
                    "LISTAAR": "8000",
                    "(No column name)": "8000"
                },
                {
                    "termekkod": "L082-CI419",
                    "MEGNEVEZES": "gyermek csizma (lány)",
                    "KAT_NEV": "gyermek cipő",
                    "LISTAAR": "8000",
                    "(No column name)": "8000"
                },
                {
                    "termekkod": "L001-KB101",
                    "MEGNEVEZES": "gyermek kabát (lány)",
                    "KAT_NEV": "gyermek kabát",
                    "LISTAAR": "8900",
                    "(No column name)": "8900"
                },
                {
                    "termekkod": "G001-KB101",
                    "MEGNEVEZES": "gyermek kabát (fiú)",
                    "KAT_NEV": "gyermek kabát",
                    "LISTAAR": "8900",
                    "(No column name)": "8900"
                },
                {
                    "termekkod": "G019-NA207",
                    "MEGNEVEZES": "gyermek pamut nadrág (fiú)",
                    "KAT_NEV": "gyermek nadrág",
                    "LISTAAR": "1290",
                    "(No column name)": "1290"
                },
                {
                    "termekkod": "L019-NA207",
                    "MEGNEVEZES": "gyermek pamut nadrág (lány)",
                    "KAT_NEV": "gyermek nadrág",
                    "LISTAAR": "1290",
                    "(No column name)": "1290"
                },
                {
                    "termekkod": "L013-NA201",
                    "MEGNEVEZES": "gyermek farmer nadrág (lány)",
                    "KAT_NEV": "gyermek nadrág",
                    "LISTAAR": "4990",
                    "(No column name)": "4990"
                },
                {
                    "termekkod": "G013-NA201",
                    "MEGNEVEZES": "gyermek farmer nadrág (fiú)",
                    "KAT_NEV": "gyermek nadrág",
                    "LISTAAR": "4990",
                    "(No column name)": "4990"
                },
                {
                    "termekkod": "G048-PO218",
                    "MEGNEVEZES": "gyermek póló (fiú)",
                    "KAT_NEV": "gyermek póló",
                    "LISTAAR": "3900",
                    "(No column name)": "3900"
                },
                {
                    "termekkod": "L048-PO218",
                    "MEGNEVEZES": "gyermek póló (lány)",
                    "KAT_NEV": "gyermek póló",
                    "LISTAAR": "3900",
                    "(No column name)": "3900"
                },
                {
                    "termekkod": "02040176T",
                    "MEGNEVEZES": "Gyorsfűző dosszié fehér",
                    "KAT_NEV": "gyorsfűző",
                    "LISTAAR": "18",
                    "(No column name)": "18"
                },
                {
                    "termekkod": "02040177T",
                    "MEGNEVEZES": "Gyorsfűző műa.",
                    "KAT_NEV": "gyorsfűző",
                    "LISTAAR": "30",
                    "(No column name)": "30"
                },
                {
                    "termekkod": "02040178T",
                    "MEGNEVEZES": "Gyorsfűző műa.",
                    "KAT_NEV": "gyorsfűző",
                    "LISTAAR": "35",
                    "(No column name)": "35"
                },
                {
                    "termekkod": "06080441T",
                    "MEGNEVEZES": "Gyurmakés",
                    "KAT_NEV": "gyurma",
                    "LISTAAR": "121",
                    "(No column name)": "121"
                },
                {
                    "termekkod": "06080440T",
                    "MEGNEVEZES": "Gyurma 12 szinű",
                    "KAT_NEV": "gyurma",
                    "LISTAAR": "161",
                    "(No column name)": "161"
                },
                {
                    "termekkod": "06040179T",
                    "MEGNEVEZES": "Gyurma színes 200 g-os",
                    "KAT_NEV": "gyurma",
                    "LISTAAR": "180",
                    "(No column name)": "180"
                },
                {
                    "termekkod": "06040180T",
                    "MEGNEVEZES": "Gyurma színes natúr",
                    "KAT_NEV": "gyurma",
                    "LISTAAR": "228",
                    "(No column name)": "228"
                },
                {
                    "termekkod": "06040183T",
                    "MEGNEVEZES": "Gyűrűskönyv bet. A/5",
                    "KAT_NEV": "gyűrűskönyv",
                    "LISTAAR": "95",
                    "(No column name)": "95"
                },
                {
                    "termekkod": "06040182T",
                    "MEGNEVEZES": "Gyűrűskönyv bet. A/4",
                    "KAT_NEV": "gyűrűskönyv",
                    "LISTAAR": "184",
                    "(No column name)": "184"
                },
                {
                    "termekkod": "06040184T",
                    "MEGNEVEZES": "Gyűrűskönyv betét A/5",
                    "KAT_NEV": "gyűrűskönyv",
                    "LISTAAR": "218",
                    "(No column name)": "218"
                },
                {
                    "termekkod": "06040185T",
                    "MEGNEVEZES": "Gyűrűskönyv",
                    "KAT_NEV": "gyűrűskönyv",
                    "LISTAAR": "581",
                    "(No column name)": "581"
                },
                {
                    "termekkod": "06040186T",
                    "MEGNEVEZES": "Gyűrűskönyv színes",
                    "KAT_NEV": "gyűrűskönyv",
                    "LISTAAR": "699",
                    "(No column name)": "699"
                },
                {
                    "termekkod": "04050187T",
                    "MEGNEVEZES": "Hajgumi macis",
                    "KAT_NEV": "hajgumi",
                    "LISTAAR": "66",
                    "(No column name)": "66"
                },
                {
                    "termekkod": "02020444T",
                    "MEGNEVEZES": "Határidő napló A/6",
                    "KAT_NEV": "határidő napló",
                    "LISTAAR": "464",
                    "(No column name)": "464"
                },
                {
                    "termekkod": "04020445T",
                    "MEGNEVEZES": "Határidő napló 2010-s",
                    "KAT_NEV": "határidő napló",
                    "LISTAAR": "728",
                    "(No column name)": "728"
                },
                {
                    "termekkod": "06080190T",
                    "MEGNEVEZES": "Hegyező műanyag egyes",
                    "KAT_NEV": "hegyező",
                    "LISTAAR": "23",
                    "(No column name)": "23"
                },
                {
                    "termekkod": "06080191T",
                    "MEGNEVEZES": "Hegyező tartályos egyes",
                    "KAT_NEV": "hegyező",
                    "LISTAAR": "30",
                    "(No column name)": "30"
                },
                {
                    "termekkod": "06080189T",
                    "MEGNEVEZES": "Hegyező műanyag dupla",
                    "KAT_NEV": "hegyező",
                    "LISTAAR": "30",
                    "(No column name)": "30"
                },
                {
                    "termekkod": "06080188T",
                    "MEGNEVEZES": "Hegyező gép",
                    "KAT_NEV": "hegyező",
                    "LISTAAR": "875",
                    "(No column name)": "875"
                },
                {
                    "termekkod": "06080192T",
                    "MEGNEVEZES": "Hegyző fém 1 lyukú",
                    "KAT_NEV": "hegyző",
                    "LISTAAR": "70",
                    "(No column name)": "70"
                },
                {
                    "termekkod": "06080193T",
                    "MEGNEVEZES": "Hegyző fém 2 lyukú",
                    "KAT_NEV": "hegyző",
                    "LISTAAR": "180",
                    "(No column name)": "180"
                },
                {
                    "termekkod": "02040197T",
                    "MEGNEVEZES": "Hibajavító lap ",
                    "KAT_NEV": "hibajavító",
                    "LISTAAR": "81",
                    "(No column name)": "81"
                },
                {
                    "termekkod": "02040198T",
                    "MEGNEVEZES": "Hibajavító roller 5 mm",
                    "KAT_NEV": "hibajavító",
                    "LISTAAR": "133",
                    "(No column name)": "133"
                },
                {
                    "termekkod": "02040195T",
                    "MEGNEVEZES": "Hibajavító ecsetes Aqua",
                    "KAT_NEV": "hibajavító",
                    "LISTAAR": "185",
                    "(No column name)": "185"
                },
                {
                    "termekkod": "02040196T",
                    "MEGNEVEZES": "Hibajavító készlet Blanco",
                    "KAT_NEV": "hibajavító",
                    "LISTAAR": "273",
                    "(No column name)": "273"
                },
                {
                    "termekkod": "02040200T",
                    "MEGNEVEZES": "Hibajavító Kores mini pen",
                    "KAT_NEV": "hibajavító",
                    "LISTAAR": "278",
                    "(No column name)": "278"
                },
                {
                    "termekkod": "02040199T",
                    "MEGNEVEZES": "Hibajavító roller Pax",
                    "KAT_NEV": "hibajavító",
                    "LISTAAR": "286",
                    "(No column name)": "286"
                },
                {
                    "termekkod": "02040194T",
                    "MEGNEVEZES": "Hibajav.roll.Pritt 4,2mm",
                    "KAT_NEV": "hibajavító",
                    "LISTAAR": "794",
                    "(No column name)": "794"
                },
                {
                    "termekkod": "04050203T",
                    "MEGNEVEZES": "Hűtőmágnes",
                    "KAT_NEV": "hűtőmágnes",
                    "LISTAAR": "24",
                    "(No column name)": "24"
                },
                {
                    "termekkod": "04050204T",
                    "MEGNEVEZES": "Hűtőmágnes WD",
                    "KAT_NEV": "hűtőmágnes",
                    "LISTAAR": "169",
                    "(No column name)": "169"
                },
                {
                    "termekkod": "06040206T",
                    "MEGNEVEZES": "kék indigó",
                    "KAT_NEV": "indigó",
                    "LISTAAR": "12",
                    "(No column name)": "12"
                },
                {
                    "termekkod": "06040205T",
                    "MEGNEVEZES": "Indigó Pelikán",
                    "KAT_NEV": "indigó",
                    "LISTAAR": "15",
                    "(No column name)": "15"
                },
                {
                    "termekkod": "02040207T",
                    "MEGNEVEZES": "Iratgyűjtő ESSELTE ablakos",
                    "KAT_NEV": "iratgyűjtő",
                    "LISTAAR": "19",
                    "(No column name)": "19"
                },
                {
                    "termekkod": "02040208T",
                    "MEGNEVEZES": "Iratgyűjtő fehér",
                    "KAT_NEV": "iratgyűjtő",
                    "LISTAAR": "19",
                    "(No column name)": "19"
                },
                {
                    "termekkod": "02040025T",
                    "MEGNEVEZES": "Álló irattartó karton",
                    "KAT_NEV": "iratgyűjtő",
                    "LISTAAR": "133",
                    "(No column name)": "133"
                },
                {
                    "termekkod": "02040211T",
                    "MEGNEVEZES": "Iratrendező ESSELTE",
                    "KAT_NEV": "iratrendező",
                    "LISTAAR": "243",
                    "(No column name)": "243"
                },
                {
                    "termekkod": "02080432T",
                    "MEGNEVEZES": "Tokos iratrendező",
                    "KAT_NEV": "iratrendező",
                    "LISTAAR": "259",
                    "(No column name)": "259"
                },
                {
                    "termekkod": "02040209T",
                    "MEGNEVEZES": "Iratsín fehér",
                    "KAT_NEV": "iratsín",
                    "LISTAAR": "44",
                    "(No column name)": "44"
                },
                {
                    "termekkod": "02040210T",
                    "MEGNEVEZES": "Iratsín kék",
                    "KAT_NEV": "iratsín",
                    "LISTAAR": "89",
                    "(No column name)": "89"
                },
                {
                    "termekkod": "02080436T",
                    "MEGNEVEZES": "Irattartó müa. boríték A/4",
                    "KAT_NEV": "irattartó",
                    "LISTAAR": "66",
                    "(No column name)": "66"
                },
                {
                    "termekkod": "02080431T",
                    "MEGNEVEZES": "Álló irattartó",
                    "KAT_NEV": "irattartó",
                    "LISTAAR": "214",
                    "(No column name)": "214"
                },
                {
                    "termekkod": "02040214T",
                    "MEGNEVEZES": "Iromány fedél feles",
                    "KAT_NEV": "irodaszer",
                    "LISTAAR": "59",
                    "(No column name)": "59"
                },
                {
                    "termekkod": "06040212T",
                    "MEGNEVEZES": "Írólap 10-50 ffam.",
                    "KAT_NEV": "írólap",
                    "LISTAAR": "29",
                    "(No column name)": "29"
                },
                {
                    "termekkod": "06040213T",
                    "MEGNEVEZES": "Írólap 20-50 ",
                    "KAT_NEV": "írólap",
                    "LISTAAR": "34",
                    "(No column name)": "34"
                },
                {
                    "termekkod": "07040218T",
                    "MEGNEVEZES": "Ironbél HB 0,5",
                    "KAT_NEV": "ironbél",
                    "LISTAAR": "23",
                    "(No column name)": "23"
                },
                {
                    "termekkod": "07040216T",
                    "MEGNEVEZES": "Ironbél B 0,5",
                    "KAT_NEV": "ironbél",
                    "LISTAAR": "36",
                    "(No column name)": "36"
                },
                {
                    "termekkod": "07040217T",
                    "MEGNEVEZES": "Ironbél H 0,5",
                    "KAT_NEV": "ironbél",
                    "LISTAAR": "59",
                    "(No column name)": "59"
                },
                {
                    "termekkod": "07040215T",
                    "MEGNEVEZES": "Ironbél  2B ICO",
                    "KAT_NEV": "ironbél",
                    "LISTAAR": "74",
                    "(No column name)": "74"
                },
                {
                    "termekkod": "07040219T",
                    "MEGNEVEZES": "Ironbél HI-POLIMER HB 0,7",
                    "KAT_NEV": "ironbél",
                    "LISTAAR": "78",
                    "(No column name)": "78"
                },
                {
                    "termekkod": "06040089T",
                    "MEGNEVEZES": "Ellenőrzőborító",
                    "KAT_NEV": "iskolaszer",
                    "LISTAAR": "5",
                    "(No column name)": "5"
                },
                {
                    "termekkod": "06040353T",
                    "MEGNEVEZES": "Sorvezető",
                    "KAT_NEV": "iskolaszer",
                    "LISTAAR": "8",
                    "(No column name)": "8"
                },
                {
                    "termekkod": "06040181T",
                    "MEGNEVEZES": "Gyűjtőlap A/4",
                    "KAT_NEV": "iskolaszer",
                    "LISTAAR": "8",
                    "(No column name)": "8"
                },
                {
                    "termekkod": "06010305T",
                    "MEGNEVEZES": "Papírcenti 100 cm-es",
                    "KAT_NEV": "iskolaszer",
                    "LISTAAR": "9",
                    "(No column name)": "9"
                },
                {
                    "termekkod": "06040383T",
                    "MEGNEVEZES": "Taffet papír",
                    "KAT_NEV": "iskolaszer",
                    "LISTAAR": "19",
                    "(No column name)": "19"
                },
                {
                    "termekkod": "06010202T",
                    "MEGNEVEZES": "Hurkapálca 10 db-os",
                    "KAT_NEV": "iskolaszer",
                    "LISTAAR": "23",
                    "(No column name)": "23"
                },
                {
                    "termekkod": "06010036T",
                    "MEGNEVEZES": "Betűtartó sin",
                    "KAT_NEV": "iskolaszer",
                    "LISTAAR": "33",
                    "(No column name)": "33"
                },
                {
                    "termekkod": "06010367T",
                    "MEGNEVEZES": "Számolókorong",
                    "KAT_NEV": "iskolaszer",
                    "LISTAAR": "35",
                    "(No column name)": "35"
                },
                {
                    "termekkod": "06010365T",
                    "MEGNEVEZES": "Számegyenes",
                    "KAT_NEV": "iskolaszer",
                    "LISTAAR": "36",
                    "(No column name)": "36"
                },
                {
                    "termekkod": "06010201T",
                    "MEGNEVEZES": "Hőmérő, műa.",
                    "KAT_NEV": "iskolaszer",
                    "LISTAAR": "36",
                    "(No column name)": "36"
                },
                {
                    "termekkod": "07050463T",
                    "MEGNEVEZES": "Ceruzafogó",
                    "KAT_NEV": "iskolaszer",
                    "LISTAAR": "36",
                    "(No column name)": "36"
                },
                {
                    "termekkod": "06010373T",
                    "MEGNEVEZES": "Színes papír I.II-IV.V-VIII-ig",
                    "KAT_NEV": "iskolaszer",
                    "LISTAAR": "43",
                    "(No column name)": "43"
                },
                {
                    "termekkod": "06010374T",
                    "MEGNEVEZES": "Szorzótábla műanyag",
                    "KAT_NEV": "iskolaszer",
                    "LISTAAR": "45",
                    "(No column name)": "45"
                },
                {
                    "termekkod": "06040088T",
                    "MEGNEVEZES": "Egészségügyi könyv",
                    "KAT_NEV": "iskolaszer",
                    "LISTAAR": "51",
                    "(No column name)": "51"
                },
                {
                    "termekkod": "06040384T",
                    "MEGNEVEZES": "Technika cs. I-II-III-IV",
                    "KAT_NEV": "iskolaszer",
                    "LISTAAR": "58",
                    "(No column name)": "58"
                },
                {
                    "termekkod": "06010368T",
                    "MEGNEVEZES": "Számolópálca",
                    "KAT_NEV": "iskolaszer",
                    "LISTAAR": "61",
                    "(No column name)": "61"
                },
                {
                    "termekkod": "06050249T",
                    "MEGNEVEZES": "Krepp papír",
                    "KAT_NEV": "iskolaszer",
                    "LISTAAR": "73",
                    "(No column name)": "73"
                },
                {
                    "termekkod": "06080430T",
                    "MEGNEVEZES": "Öntapadős betűk",
                    "KAT_NEV": "iskolaszer",
                    "LISTAAR": "74",
                    "(No column name)": "74"
                },
                {
                    "termekkod": "06040352T",
                    "MEGNEVEZES": "Rovatolt papír 20 íves",
                    "KAT_NEV": "iskolaszer",
                    "LISTAAR": "103",
                    "(No column name)": "103"
                },
                {
                    "termekkod": "06040399T",
                    "MEGNEVEZES": "Tombola tömb",
                    "KAT_NEV": "iskolaszer",
                    "LISTAAR": "125",
                    "(No column name)": "125"
                },
                {
                    "termekkod": "06080259T",
                    "MEGNEVEZES": "Leckefüzet",
                    "KAT_NEV": "iskolaszer",
                    "LISTAAR": "161",
                    "(No column name)": "161"
                },
                {
                    "termekkod": "06080427T",
                    "MEGNEVEZES": "Ablakkréta",
                    "KAT_NEV": "iskolaszer",
                    "LISTAAR": "161",
                    "(No column name)": "161"
                },
                {
                    "termekkod": "06080422T",
                    "MEGNEVEZES": "Füzettartó A/4",
                    "KAT_NEV": "iskolaszer",
                    "LISTAAR": "324",
                    "(No column name)": "324"
                },
                {
                    "termekkod": "06040400T",
                    "MEGNEVEZES": "Tornazsák",
                    "KAT_NEV": "iskolaszer",
                    "LISTAAR": "511",
                    "(No column name)": "511"
                },
                {
                    "termekkod": "04050220T",
                    "MEGNEVEZES": "Játék autó",
                    "KAT_NEV": "játékautó",
                    "LISTAAR": "65",
                    "(No column name)": "65"
                },
                {
                    "termekkod": "04050223T",
                    "MEGNEVEZES": "Játékautó mini",
                    "KAT_NEV": "játékautó",
                    "LISTAAR": "73",
                    "(No column name)": "73"
                },
                {
                    "termekkod": "04050221T",
                    "MEGNEVEZES": "Játékautó Blisteres",
                    "KAT_NEV": "játékautó",
                    "LISTAAR": "133",
                    "(No column name)": "133"
                },
                {
                    "termekkod": "04050222T",
                    "MEGNEVEZES": "Játékautó elemes",
                    "KAT_NEV": "játékautó",
                    "LISTAAR": "165",
                    "(No column name)": "165"
                },
                {
                    "termekkod": "04050224T",
                    "MEGNEVEZES": "Jelzőkréta",
                    "KAT_NEV": "jelzőkréta",
                    "LISTAAR": "48",
                    "(No column name)": "48"
                },
                {
                    "termekkod": "02080226T",
                    "MEGNEVEZES": "Kapocskiszedő",
                    "KAT_NEV": "kapocskiszedő",
                    "LISTAAR": "106",
                    "(No column name)": "106"
                },
                {
                    "termekkod": "01090515T",
                    "MEGNEVEZES": "Színes A/3 160 gr IQ",
                    "KAT_NEV": "karton",
                    "LISTAAR": "11",
                    "(No column name)": "11"
                },
                {
                    "termekkod": "01090516T",
                    "MEGNEVEZES": "Színes karton A4",
                    "KAT_NEV": "karton",
                    "LISTAAR": "25",
                    "(No column name)": "25"
                },
                {
                    "termekkod": "01080513T",
                    "MEGNEVEZES": "Selyemfényű karton A/4",
                    "KAT_NEV": "karton",
                    "LISTAAR": "38",
                    "(No column name)": "38"
                },
                {
                    "termekkod": "01100509T",
                    "MEGNEVEZES": "Márványos A/4",
                    "KAT_NEV": "karton",
                    "LISTAAR": "40",
                    "(No column name)": "40"
                },
                {
                    "termekkod": "01100070T",
                    "MEGNEVEZES": "Dekorációs karton",
                    "KAT_NEV": "karton",
                    "LISTAAR": "73",
                    "(No column name)": "73"
                },
                {
                    "termekkod": "01100071T",
                    "MEGNEVEZES": "Dekorációs karton arany, ezüst",
                    "KAT_NEV": "karton",
                    "LISTAAR": "89",
                    "(No column name)": "89"
                },
                {
                    "termekkod": "04050225T",
                    "MEGNEVEZES": "Kártya mini Magyar",
                    "KAT_NEV": "kártya",
                    "LISTAAR": "131",
                    "(No column name)": "131"
                },
                {
                    "termekkod": "04030240T",
                    "MEGNEVEZES": "Képeslap virágos",
                    "KAT_NEV": "képeslap",
                    "LISTAAR": "14",
                    "(No column name)": "14"
                },
                {
                    "termekkod": "04030236T",
                    "MEGNEVEZES": "Képeslap karácsonyi WD",
                    "KAT_NEV": "képeslap",
                    "LISTAAR": "15",
                    "(No column name)": "15"
                },
                {
                    "termekkod": "04030234T",
                    "MEGNEVEZES": "Képeslap karácsonyi",
                    "KAT_NEV": "képeslap",
                    "LISTAAR": "30",
                    "(No column name)": "30"
                },
                {
                    "termekkod": "04110229T",
                    "MEGNEVEZES": "Képeslap \"Részvét\"",
                    "KAT_NEV": "képeslap",
                    "LISTAAR": "33",
                    "(No column name)": "33"
                },
                {
                    "termekkod": "04110227T",
                    "MEGNEVEZES": "Képeslap  borítékos",
                    "KAT_NEV": "képeslap",
                    "LISTAAR": "33",
                    "(No column name)": "33"
                },
                {
                    "termekkod": "04030237T",
                    "MEGNEVEZES": "Képeslap kerek",
                    "KAT_NEV": "képeslap",
                    "LISTAAR": "36",
                    "(No column name)": "36"
                },
                {
                    "termekkod": "04030241T",
                    "MEGNEVEZES": "Képeslap virágos +boríték",
                    "KAT_NEV": "képeslap",
                    "LISTAAR": "44",
                    "(No column name)": "44"
                },
                {
                    "termekkod": "04030239T",
                    "MEGNEVEZES": "Képeslap stancolt szív",
                    "KAT_NEV": "képeslap",
                    "LISTAAR": "48",
                    "(No column name)": "48"
                },
                {
                    "termekkod": "04110232T",
                    "MEGNEVEZES": "Képeslap humoros kaparós",
                    "KAT_NEV": "képeslap",
                    "LISTAAR": "51",
                    "(No column name)": "51"
                },
                {
                    "termekkod": "04110230T",
                    "MEGNEVEZES": "Képeslap humoros ",
                    "KAT_NEV": "képeslap",
                    "LISTAAR": "55",
                    "(No column name)": "55"
                },
                {
                    "termekkod": "04030238T",
                    "MEGNEVEZES": "Képeslap stancolt",
                    "KAT_NEV": "képeslap",
                    "LISTAAR": "59",
                    "(No column name)": "59"
                },
                {
                    "termekkod": "04030235T",
                    "MEGNEVEZES": "Képeslap karácsonyi borítékos",
                    "KAT_NEV": "képeslap",
                    "LISTAAR": "73",
                    "(No column name)": "73"
                },
                {
                    "termekkod": "04110231T",
                    "MEGNEVEZES": "Képeslap humoros borítékos",
                    "KAT_NEV": "képeslap",
                    "LISTAAR": "81",
                    "(No column name)": "81"
                },
                {
                    "termekkod": "04110233T",
                    "MEGNEVEZES": "Képeslap humoros",
                    "KAT_NEV": "képeslap",
                    "LISTAAR": "89",
                    "(No column name)": "89"
                },
                {
                    "termekkod": "04030242T",
                    "MEGNEVEZES": "Képeslap WD +boríték",
                    "KAT_NEV": "képeslap",
                    "LISTAAR": "118",
                    "(No column name)": "118"
                },
                {
                    "termekkod": "04110228T",
                    "MEGNEVEZES": "Képeslap \"Nászajándék\"",
                    "KAT_NEV": "képeslap",
                    "LISTAAR": "184",
                    "(No column name)": "184"
                },
                {
                    "termekkod": "04030243T",
                    "MEGNEVEZES": "Képkirakó Dirib-darab",
                    "KAT_NEV": "képkirakó",
                    "LISTAAR": "195",
                    "(No column name)": "195"
                },
                {
                    "termekkod": "N035-AL218",
                    "MEGNEVEZES": "kosztüm (rövid)",
                    "KAT_NEV": "kosztüm",
                    "LISTAAR": "39000",
                    "(No column name)": "39000"
                },
                {
                    "termekkod": "N039-AL222",
                    "MEGNEVEZES": "kosztüm (hosszú)",
                    "KAT_NEV": "kosztüm",
                    "LISTAAR": "46000",
                    "(No column name)": "46000"
                },
                {
                    "termekkod": "06040247T",
                    "MEGNEVEZES": "Körzőhegy grafit",
                    "KAT_NEV": "körző",
                    "LISTAAR": "30",
                    "(No column name)": "30"
                },
                {
                    "termekkod": "06040246T",
                    "MEGNEVEZES": "Körző",
                    "KAT_NEV": "körző",
                    "LISTAAR": "161",
                    "(No column name)": "161"
                },
                {
                    "termekkod": "06040248T",
                    "MEGNEVEZES": "Körző maped",
                    "KAT_NEV": "körző",
                    "LISTAAR": "243",
                    "(No column name)": "243"
                },
                {
                    "termekkod": "01090501T",
                    "MEGNEVEZES": "Kreatív A/4 300g ",
                    "KAT_NEV": "kreatív",
                    "LISTAAR": "4",
                    "(No column name)": "4"
                },
                {
                    "termekkod": "01100510T",
                    "MEGNEVEZES": "Kreatív A/4 120g ",
                    "KAT_NEV": "kreatív",
                    "LISTAAR": "13",
                    "(No column name)": "13"
                },
                {
                    "termekkod": "04050255T",
                    "MEGNEVEZES": "Kulcstartó mesefigurás",
                    "KAT_NEV": "kulcstartó",
                    "LISTAAR": "36",
                    "(No column name)": "36"
                },
                {
                    "termekkod": "04050253T",
                    "MEGNEVEZES": "Kulcstartó figurás",
                    "KAT_NEV": "kulcstartó",
                    "LISTAAR": "103",
                    "(No column name)": "103"
                },
                {
                    "termekkod": "04050250T",
                    "MEGNEVEZES": "Kulcstartó autós",
                    "KAT_NEV": "kulcstartó",
                    "LISTAAR": "115",
                    "(No column name)": "115"
                },
                {
                    "termekkod": "04050252T",
                    "MEGNEVEZES": "Kulcstartó Csőrikés",
                    "KAT_NEV": "kulcstartó",
                    "LISTAAR": "124",
                    "(No column name)": "124"
                },
                {
                    "termekkod": "04050256T",
                    "MEGNEVEZES": "Kulcstartó nagyítós",
                    "KAT_NEV": "kulcstartó",
                    "LISTAAR": "129",
                    "(No column name)": "129"
                },
                {
                    "termekkod": "04050251T",
                    "MEGNEVEZES": "Kulcstartó billiárd golyós",
                    "KAT_NEV": "kulcstartó",
                    "LISTAAR": "148",
                    "(No column name)": "148"
                },
                {
                    "termekkod": "04050254T",
                    "MEGNEVEZES": "Kulcstartó intarziás állatos",
                    "KAT_NEV": "kulcstartó",
                    "LISTAAR": "155",
                    "(No column name)": "155"
                },
                {
                    "termekkod": "04040387T",
                    "MEGNEVEZES": "Tenisz labda",
                    "KAT_NEV": "labda",
                    "LISTAAR": "81",
                    "(No column name)": "81"
                },
                {
                    "termekkod": "04050171T",
                    "MEGNEVEZES": "Gumilabda közepes",
                    "KAT_NEV": "labda",
                    "LISTAAR": "110",
                    "(No column name)": "110"
                },
                {
                    "termekkod": "04030260T",
                    "MEGNEVEZES": "Levélpapír A/4",
                    "KAT_NEV": "levélpapír",
                    "LISTAAR": "15",
                    "(No column name)": "15"
                },
                {
                    "termekkod": "04030262T",
                    "MEGNEVEZES": "Levélpapír sima",
                    "KAT_NEV": "levélpapír",
                    "LISTAAR": "56",
                    "(No column name)": "56"
                },
                {
                    "termekkod": "04030264T",
                    "MEGNEVEZES": "Levélpapír szett ",
                    "KAT_NEV": "levélpapír",
                    "LISTAAR": "74",
                    "(No column name)": "74"
                },
                {
                    "termekkod": "04030263T",
                    "MEGNEVEZES": "Levélpapír szett",
                    "KAT_NEV": "levélpapír",
                    "LISTAAR": "89",
                    "(No column name)": "89"
                },
                {
                    "termekkod": "04030265T",
                    "MEGNEVEZES": "Levélpapír szett natur, mintás",
                    "KAT_NEV": "levélpapír",
                    "LISTAAR": "103",
                    "(No column name)": "103"
                },
                {
                    "termekkod": "04030261T",
                    "MEGNEVEZES": "Levélpapír állatos",
                    "KAT_NEV": "levélpapír",
                    "LISTAAR": "140",
                    "(No column name)": "140"
                },
                {
                    "termekkod": "04030266T",
                    "MEGNEVEZES": "Levélpapír szett virágos",
                    "KAT_NEV": "levélpapír",
                    "LISTAAR": "169",
                    "(No column name)": "169"
                },
                {
                    "termekkod": "04050269T",
                    "MEGNEVEZES": "Lufi hullámos",
                    "KAT_NEV": "lufi",
                    "LISTAAR": "11",
                    "(No column name)": "11"
                },
                {
                    "termekkod": "04050268T",
                    "MEGNEVEZES": "Lufi formázható",
                    "KAT_NEV": "lufi",
                    "LISTAAR": "15",
                    "(No column name)": "15"
                },
                {
                    "termekkod": "02080453T",
                    "MEGNEVEZES": "Lyukasztó EAGLE",
                    "KAT_NEV": "lyukasztó",
                    "LISTAAR": "526",
                    "(No column name)": "526"
                },
                {
                    "termekkod": "02080454T",
                    "MEGNEVEZES": "Lyukasztó BOXER",
                    "KAT_NEV": "lyukasztó",
                    "LISTAAR": "765",
                    "(No column name)": "765"
                },
                {
                    "termekkod": "06040174T",
                    "MEGNEVEZES": "Gumis mappa ",
                    "KAT_NEV": "mappa",
                    "LISTAAR": "148",
                    "(No column name)": "148"
                },
                {
                    "termekkod": "02080435T",
                    "MEGNEVEZES": "Mappa bemutató",
                    "KAT_NEV": "mappa",
                    "LISTAAR": "184",
                    "(No column name)": "184"
                },
                {
                    "termekkod": "06040175T",
                    "MEGNEVEZES": "Gumis mappa Köbüki",
                    "KAT_NEV": "mappa",
                    "LISTAAR": "191",
                    "(No column name)": "191"
                },
                {
                    "termekkod": "06040172T",
                    "MEGNEVEZES": "Gumis mappa csomagolt",
                    "KAT_NEV": "mappa",
                    "LISTAAR": "195",
                    "(No column name)": "195"
                },
                {
                    "termekkod": "02080434T",
                    "MEGNEVEZES": "Mappa müa A/4",
                    "KAT_NEV": "mappa",
                    "LISTAAR": "210",
                    "(No column name)": "210"
                },
                {
                    "termekkod": "06040173T",
                    "MEGNEVEZES": "Gumis mappa fóliázott állatos",
                    "KAT_NEV": "mappa",
                    "LISTAAR": "211",
                    "(No column name)": "211"
                },
                {
                    "termekkod": "04080271T",
                    "MEGNEVEZES": "Mappa PVC villámzáras",
                    "KAT_NEV": "mappa",
                    "LISTAAR": "264",
                    "(No column name)": "264"
                },
                {
                    "termekkod": "04080272T",
                    "MEGNEVEZES": "Mappa PVC villámzáras  képes",
                    "KAT_NEV": "mappa",
                    "LISTAAR": "360",
                    "(No column name)": "360"
                },
                {
                    "termekkod": "04080270T",
                    "MEGNEVEZES": "Mappa bőr A5",
                    "KAT_NEV": "mappa",
                    "LISTAAR": "1765",
                    "(No column name)": "1765"
                },
                {
                    "termekkod": "04110274T",
                    "MEGNEVEZES": "Matrica autóra H",
                    "KAT_NEV": "matrica",
                    "LISTAAR": "49",
                    "(No column name)": "49"
                },
                {
                    "termekkod": "04110275T",
                    "MEGNEVEZES": "Matrica motoros kicsi",
                    "KAT_NEV": "matrica",
                    "LISTAAR": "49",
                    "(No column name)": "49"
                },
                {
                    "termekkod": "04110273T",
                    "MEGNEVEZES": "Matrica állatos",
                    "KAT_NEV": "matrica",
                    "LISTAAR": "55",
                    "(No column name)": "55"
                },
                {
                    "termekkod": "04110282T",
                    "MEGNEVEZES": "Matrica WD kicsi",
                    "KAT_NEV": "matrica",
                    "LISTAAR": "56",
                    "(No column name)": "56"
                },
                {
                    "termekkod": "04110277T",
                    "MEGNEVEZES": "Matrica Stickers szíves",
                    "KAT_NEV": "matrica",
                    "LISTAAR": "93",
                    "(No column name)": "93"
                },
                {
                    "termekkod": "04110276T",
                    "MEGNEVEZES": "Matrica Stickers nagy állatos",
                    "KAT_NEV": "matrica",
                    "LISTAAR": "109",
                    "(No column name)": "109"
                },
                {
                    "termekkod": "04110280T",
                    "MEGNEVEZES": "Matrica tetoválós kicsi",
                    "KAT_NEV": "matrica",
                    "LISTAAR": "148",
                    "(No column name)": "148"
                },
                {
                    "termekkod": "04110278T",
                    "MEGNEVEZES": "Matrica Test ékszer tattoo",
                    "KAT_NEV": "matrica",
                    "LISTAAR": "161",
                    "(No column name)": "161"
                },
                {
                    "termekkod": "04110279T",
                    "MEGNEVEZES": "Matrica tetoválás",
                    "KAT_NEV": "matrica",
                    "LISTAAR": "168",
                    "(No column name)": "168"
                },
                {
                    "termekkod": "04110281T",
                    "MEGNEVEZES": "Matrica világítós ",
                    "KAT_NEV": "matrica",
                    "LISTAAR": "175",
                    "(No column name)": "175"
                },
                {
                    "termekkod": "01030092T",
                    "MEGNEVEZES": "Esküvői meghívó",
                    "KAT_NEV": "meghívó",
                    "LISTAAR": "59",
                    "(No column name)": "59"
                },
                {
                    "termekkod": "06080429T",
                    "MEGNEVEZES": "Meghívó ballagási",
                    "KAT_NEV": "meghívó",
                    "LISTAAR": "63",
                    "(No column name)": "63"
                },
                {
                    "termekkod": "04110283T",
                    "MEGNEVEZES": "Meghívó állatos",
                    "KAT_NEV": "meghívó",
                    "LISTAAR": "155",
                    "(No column name)": "155"
                },
                {
                    "termekkod": "04110284T",
                    "MEGNEVEZES": "Meghívó borítékos",
                    "KAT_NEV": "meghívó",
                    "LISTAAR": "169",
                    "(No column name)": "169"
                },
                {
                    "termekkod": "06080425T",
                    "MEGNEVEZES": "Miliméterpapír",
                    "KAT_NEV": "miliméterpapír",
                    "LISTAAR": "8",
                    "(No column name)": "8"
                },
                {
                    "termekkod": "08070482T",
                    "MEGNEVEZES": "Fizika munkafüzet 14 év.",
                    "KAT_NEV": "munkafüzet",
                    "LISTAAR": "190",
                    "(No column name)": "190"
                },
                {
                    "termekkod": "08070481T",
                    "MEGNEVEZES": "Fizika munkafüzet 13 év.",
                    "KAT_NEV": "munkafüzet",
                    "LISTAAR": "198",
                    "(No column name)": "198"
                },
                {
                    "termekkod": "08070476T",
                    "MEGNEVEZES": "Anyanyelvi gyakorló 2",
                    "KAT_NEV": "munkafüzet",
                    "LISTAAR": "293",
                    "(No column name)": "293"
                },
                {
                    "termekkod": "08070477T",
                    "MEGNEVEZES": "Anyanyelvi gyakorló 3",
                    "KAT_NEV": "munkafüzet",
                    "LISTAAR": "353",
                    "(No column name)": "353"
                },
                {
                    "termekkod": "08070486T",
                    "MEGNEVEZES": "Matematika gyakorló 2",
                    "KAT_NEV": "munkafüzet",
                    "LISTAAR": "403",
                    "(No column name)": "403"
                },
                {
                    "termekkod": "08070487T",
                    "MEGNEVEZES": "Matematika gyakorló 3",
                    "KAT_NEV": "munkafüzet",
                    "LISTAAR": "403",
                    "(No column name)": "403"
                },
                {
                    "termekkod": "08070488T",
                    "MEGNEVEZES": "Matematika gyakorló 4",
                    "KAT_NEV": "munkafüzet",
                    "LISTAAR": "403",
                    "(No column name)": "403"
                },
                {
                    "termekkod": "08070475T",
                    "MEGNEVEZES": "A föld amelyen élünk - munkafüzet",
                    "KAT_NEV": "munkafüzet",
                    "LISTAAR": "440",
                    "(No column name)": "440"
                },
                {
                    "termekkod": "08070478T",
                    "MEGNEVEZES": "Összefoglaló feladatgyüjtemény számtech.",
                    "KAT_NEV": "munkafüzet",
                    "LISTAAR": "785",
                    "(No column name)": "785"
                },
                {
                    "termekkod": "01090498T",
                    "MEGNEVEZES": "Műnyomó 300g 17,5*20",
                    "KAT_NEV": "műnyomó",
                    "LISTAAR": "3",
                    "(No column name)": "3"
                },
                {
                    "termekkod": "02040290T",
                    "MEGNEVEZES": "Naptár 24-es",
                    "KAT_NEV": "naptár",
                    "LISTAAR": "89",
                    "(No column name)": "89"
                },
                {
                    "termekkod": "02040291T",
                    "MEGNEVEZES": "Naptárhát kicsi",
                    "KAT_NEV": "naptárhát",
                    "LISTAAR": "15",
                    "(No column name)": "15"
                },
                {
                    "termekkod": "02040292T",
                    "MEGNEVEZES": "Naptárhát nagy",
                    "KAT_NEV": "naptárhát",
                    "LISTAAR": "78",
                    "(No column name)": "78"
                },
                {
                    "termekkod": "02040293T",
                    "MEGNEVEZES": "Névjegytartó kicsi",
                    "KAT_NEV": "névjegytartó",
                    "LISTAAR": "310",
                    "(No column name)": "310"
                },
                {
                    "termekkod": "02040298T",
                    "MEGNEVEZES": "Notesz mintás",
                    "KAT_NEV": "notesz",
                    "LISTAAR": "44",
                    "(No column name)": "44"
                },
                {
                    "termekkod": "02040296T",
                    "MEGNEVEZES": "Notesz A/6 College",
                    "KAT_NEV": "notesz",
                    "LISTAAR": "56",
                    "(No column name)": "56"
                },
                {
                    "termekkod": "02040295T",
                    "MEGNEVEZES": "Notesz A/5 sima spirál",
                    "KAT_NEV": "notesz",
                    "LISTAAR": "89",
                    "(No column name)": "89"
                },
                {
                    "termekkod": "02040297T",
                    "MEGNEVEZES": "Notesz sima spirál College",
                    "KAT_NEV": "notesz",
                    "LISTAAR": "103",
                    "(No column name)": "103"
                },
                {
                    "termekkod": "02040294T",
                    "MEGNEVEZES": "Notesz A/5 sima",
                    "KAT_NEV": "notesz",
                    "LISTAAR": "103",
                    "(No column name)": "103"
                },
                {
                    "termekkod": "N001-KB101",
                    "MEGNEVEZES": "női szövet kabát",
                    "KAT_NEV": "női kabát",
                    "LISTAAR": "24000",
                    "(No column name)": "24000"
                },
                {
                    "termekkod": "N008-NA201",
                    "MEGNEVEZES": "női farmer nadrág",
                    "KAT_NEV": "női nadrág",
                    "LISTAAR": "8290",
                    "(No column name)": "8290"
                },
                {
                    "termekkod": "01090517T",
                    "MEGNEVEZES": "Színes ofszet B/4",
                    "KAT_NEV": "ofszet",
                    "LISTAAR": "4",
                    "(No column name)": "4"
                },
                {
                    "termekkod": "01020299T",
                    "MEGNEVEZES": "Oklevél A/4 egyszínű",
                    "KAT_NEV": "oklevél",
                    "LISTAAR": "48",
                    "(No column name)": "48"
                },
                {
                    "termekkod": "01020300T",
                    "MEGNEVEZES": "Oklevél A/4 színes",
                    "KAT_NEV": "oklevél",
                    "LISTAAR": "55",
                    "(No column name)": "55"
                },
                {
                    "termekkod": "06050301T",
                    "MEGNEVEZES": "Olló gyerek ",
                    "KAT_NEV": "olló",
                    "LISTAAR": "133",
                    "(No column name)": "133"
                },
                {
                    "termekkod": "06050303T",
                    "MEGNEVEZES": "Olló, iskolai",
                    "KAT_NEV": "olló",
                    "LISTAAR": "161",
                    "(No column name)": "161"
                },
                {
                    "termekkod": "06050302T",
                    "MEGNEVEZES": "Olló Tagit 18 cm-es",
                    "KAT_NEV": "olló",
                    "LISTAAR": "176",
                    "(No column name)": "176"
                },
                {
                    "termekkod": "01010304T",
                    "MEGNEVEZES": "Öntapadós hologramos papír A/4",
                    "KAT_NEV": "öntapadó",
                    "LISTAAR": "59",
                    "(No column name)": "59"
                },
                {
                    "termekkod": "01080512T",
                    "MEGNEVEZES": "Öntapadó A/4",
                    "KAT_NEV": "öntapadó",
                    "LISTAAR": "4575",
                    "(No column name)": "4575"
                },
                {
                    "termekkod": "05010306T",
                    "MEGNEVEZES": "Papízsebkendő,10db Szindy",
                    "KAT_NEV": "papízsebkendő",
                    "LISTAAR": "20",
                    "(No column name)": "20"
                },
                {
                    "termekkod": "01040307T",
                    "MEGNEVEZES": "Pausz papír A/4",
                    "KAT_NEV": "pausz",
                    "LISTAAR": "15",
                    "(No column name)": "15"
                },
                {
                    "termekkod": "02020245T",
                    "MEGNEVEZES": "Kiadási pénztárbizonylat 2×25",
                    "KAT_NEV": "pénztárbizonylat",
                    "LISTAAR": "103",
                    "(No column name)": "103"
                },
                {
                    "termekkod": "02020037T",
                    "MEGNEVEZES": "Bevételi pénztárbizonylat 3×25",
                    "KAT_NEV": "pénztárbizonylat",
                    "LISTAAR": "144",
                    "(No column name)": "144"
                },
                {
                    "termekkod": "02040308T",
                    "MEGNEVEZES": "Pénztárgépsz. 2 pl. nem öníró",
                    "KAT_NEV": "pénztárgépszalag",
                    "LISTAAR": "81",
                    "(No column name)": "81"
                },
                {
                    "termekkod": "02040309T",
                    "MEGNEVEZES": "Pénztárgépszalag 2pl SC 57.5/60",
                    "KAT_NEV": "pénztárgépszalag",
                    "LISTAAR": "93",
                    "(No column name)": "93"
                },
                {
                    "termekkod": "07080313T",
                    "MEGNEVEZES": "Pixiron Centrum",
                    "KAT_NEV": "pixiron",
                    "LISTAAR": "59",
                    "(No column name)": "59"
                },
                {
                    "termekkod": "07080317T",
                    "MEGNEVEZES": "Pixiron mini ",
                    "KAT_NEV": "pixiron",
                    "LISTAAR": "59",
                    "(No column name)": "59"
                },
                {
                    "termekkod": "07080315T",
                    "MEGNEVEZES": "Pixiron Handy műanyag",
                    "KAT_NEV": "pixiron",
                    "LISTAAR": "94",
                    "(No column name)": "94"
                },
                {
                    "termekkod": "07080312T",
                    "MEGNEVEZES": "Pixiron 0,7 Handy",
                    "KAT_NEV": "pixiron",
                    "LISTAAR": "125",
                    "(No column name)": "125"
                },
                {
                    "termekkod": "07080314T",
                    "MEGNEVEZES": "Pixiron Handy fém",
                    "KAT_NEV": "pixiron",
                    "LISTAAR": "133",
                    "(No column name)": "133"
                },
                {
                    "termekkod": "07080318T",
                    "MEGNEVEZES": "Pixiron Penac",
                    "KAT_NEV": "pixiron",
                    "LISTAAR": "235",
                    "(No column name)": "235"
                },
                {
                    "termekkod": "07080311T",
                    "MEGNEVEZES": "Pixiron  UNI",
                    "KAT_NEV": "pixiron",
                    "LISTAAR": "276",
                    "(No column name)": "276"
                },
                {
                    "termekkod": "07080319T",
                    "MEGNEVEZES": "Pixiron Pentel színes",
                    "KAT_NEV": "pixiron",
                    "LISTAAR": "299",
                    "(No column name)": "299"
                },
                {
                    "termekkod": "07080316T",
                    "MEGNEVEZES": "Pixiron KOH-I-NOOR",
                    "KAT_NEV": "pixiron",
                    "LISTAAR": "468",
                    "(No column name)": "468"
                },
                {
                    "termekkod": "04050321T",
                    "MEGNEVEZES": "Plüss kicsi",
                    "KAT_NEV": "plüss",
                    "LISTAAR": "161",
                    "(No column name)": "161"
                },
                {
                    "termekkod": "04050320T",
                    "MEGNEVEZES": "Plüss  QX állatok",
                    "KAT_NEV": "plüss",
                    "LISTAAR": "173",
                    "(No column name)": "173"
                },
                {
                    "termekkod": "04050322T",
                    "MEGNEVEZES": "Plüss sárkány",
                    "KAT_NEV": "plüss",
                    "LISTAAR": "314",
                    "(No column name)": "314"
                },
                {
                    "termekkod": "06040323T",
                    "MEGNEVEZES": "Post-it 51×38 100 lapos",
                    "KAT_NEV": "post-it",
                    "LISTAAR": "36",
                    "(No column name)": "36"
                },
                {
                    "termekkod": "06040324T",
                    "MEGNEVEZES": "Post-it 75×75 100 lapos",
                    "KAT_NEV": "post-it",
                    "LISTAAR": "89",
                    "(No column name)": "89"
                },
                {
                    "termekkod": "06040326T",
                    "MEGNEVEZES": "Radír KOH-I-NOR 80",
                    "KAT_NEV": "radír",
                    "LISTAAR": "19",
                    "(No column name)": "19"
                },
                {
                    "termekkod": "06040327T",
                    "MEGNEVEZES": "Radír Koh-i-nor 40",
                    "KAT_NEV": "radír",
                    "LISTAAR": "36",
                    "(No column name)": "36"
                },
                {
                    "termekkod": "06040325T",
                    "MEGNEVEZES": "Radír gyümölcsös",
                    "KAT_NEV": "radír",
                    "LISTAAR": "40",
                    "(No column name)": "40"
                },
                {
                    "termekkod": "06040328T",
                    "MEGNEVEZES": "Radír Maped",
                    "KAT_NEV": "radír",
                    "LISTAAR": "44",
                    "(No column name)": "44"
                },
                {
                    "termekkod": "06040329T",
                    "MEGNEVEZES": "Radír stabilo",
                    "KAT_NEV": "radír",
                    "LISTAAR": "44",
                    "(No column name)": "44"
                },
                {
                    "termekkod": "06040331T",
                    "MEGNEVEZES": "Radír Tikky 40 ",
                    "KAT_NEV": "radír",
                    "LISTAAR": "49",
                    "(No column name)": "49"
                },
                {
                    "termekkod": "06040330T",
                    "MEGNEVEZES": "Radír Tikky 30 ",
                    "KAT_NEV": "radír",
                    "LISTAAR": "50",
                    "(No column name)": "50"
                },
                {
                    "termekkod": "06080332T",
                    "MEGNEVEZES": "Radírtoll betét ER100",
                    "KAT_NEV": "radírtoll",
                    "LISTAAR": "74",
                    "(No column name)": "74"
                },
                {
                    "termekkod": "06080333T",
                    "MEGNEVEZES": "Radírtoll betét vastag",
                    "KAT_NEV": "radírtoll",
                    "LISTAAR": "119",
                    "(No column name)": "119"
                },
                {
                    "termekkod": "06080336T",
                    "MEGNEVEZES": "Ragasztó 8 g Pritt",
                    "KAT_NEV": "ragasztó",
                    "LISTAAR": "81",
                    "(No column name)": "81"
                },
                {
                    "termekkod": "06080339T",
                    "MEGNEVEZES": "Ragasztó kores",
                    "KAT_NEV": "ragasztó",
                    "LISTAAR": "89",
                    "(No column name)": "89"
                },
                {
                    "termekkod": "06080338T",
                    "MEGNEVEZES": "Ragasztó kenőfejes Nebuló",
                    "KAT_NEV": "ragasztó",
                    "LISTAAR": "101",
                    "(No column name)": "101"
                },
                {
                    "termekkod": "05040310T",
                    "MEGNEVEZES": "Pill.ragasztó",
                    "KAT_NEV": "ragasztó",
                    "LISTAAR": "103",
                    "(No column name)": "103"
                },
                {
                    "termekkod": "06080335T",
                    "MEGNEVEZES": "Ragasztó 9 g Pax",
                    "KAT_NEV": "ragasztó",
                    "LISTAAR": "110",
                    "(No column name)": "110"
                },
                {
                    "termekkod": "06080334T",
                    "MEGNEVEZES": "Ragasztó szalag KORES ",
                    "KAT_NEV": "ragasztó",
                    "LISTAAR": "133",
                    "(No column name)": "133"
                },
                {
                    "termekkod": "05080340T",
                    "MEGNEVEZES": "Ragasztó, Technokol 35g kék",
                    "KAT_NEV": "ragasztó",
                    "LISTAAR": "144",
                    "(No column name)": "144"
                },
                {
                    "termekkod": "05080341T",
                    "MEGNEVEZES": "Ragasztó, Technokol 35g piros",
                    "KAT_NEV": "ragasztó",
                    "LISTAAR": "144",
                    "(No column name)": "144"
                },
                {
                    "termekkod": "06080337T",
                    "MEGNEVEZES": "Ragasztó Gyurma",
                    "KAT_NEV": "ragasztó",
                    "LISTAAR": "293",
                    "(No column name)": "293"
                },
                {
                    "termekkod": "06010343T",
                    "MEGNEVEZES": "Ragasztószalag 19 mm-es SCOTCH+ tépő",
                    "KAT_NEV": "ragasztó",
                    "LISTAAR": "426",
                    "(No column name)": "426"
                },
                {
                    "termekkod": "03010342T",
                    "MEGNEVEZES": "Ragasztószalag  TIXO",
                    "KAT_NEV": "ragasztószalag",
                    "LISTAAR": "15",
                    "(No column name)": "15"
                },
                {
                    "termekkod": "02080433T",
                    "MEGNEVEZES": "Ragasztószalag 19 mm-es",
                    "KAT_NEV": "ragasztószalag",
                    "LISTAAR": "55",
                    "(No column name)": "55"
                },
                {
                    "termekkod": "03010344T",
                    "MEGNEVEZES": "Ragasztószalag nagy 12 mm",
                    "KAT_NEV": "ragasztószalag",
                    "LISTAAR": "63",
                    "(No column name)": "63"
                },
                {
                    "termekkod": "03010345T",
                    "MEGNEVEZES": "Ragasztószalag széles barna",
                    "KAT_NEV": "ragasztószalag",
                    "LISTAAR": "166",
                    "(No column name)": "166"
                },
                {
                    "termekkod": "05050346T",
                    "MEGNEVEZES": "Rágógumi Orbit",
                    "KAT_NEV": "rágógumi",
                    "LISTAAR": "89",
                    "(No column name)": "89"
                },
                {
                    "termekkod": "06040347T",
                    "MEGNEVEZES": "Rajzlap A/4 10db ffam.",
                    "KAT_NEV": "rajzlap",
                    "LISTAAR": "28",
                    "(No column name)": "28"
                },
                {
                    "termekkod": "01010001T",
                    "MEGNEVEZES": "félfamentes rajzlap A4 (10 lap)",
                    "KAT_NEV": "rajzlap",
                    "LISTAAR": "342",
                    "(No column name)": "342"
                },
                {
                    "termekkod": "05040349T",
                    "MEGNEVEZES": "Rajzszeg",
                    "KAT_NEV": "rajzszeg",
                    "LISTAAR": "63",
                    "(No column name)": "63"
                },
                {
                    "termekkod": "05040348T",
                    "MEGNEVEZES": "Rajzszeg színes",
                    "KAT_NEV": "rajzszeg",
                    "LISTAAR": "106",
                    "(No column name)": "106"
                },
                {
                    "termekkod": "06040351T",
                    "MEGNEVEZES": "Regiszteres füzet A5 Hightech",
                    "KAT_NEV": "regiszteres füzet",
                    "LISTAAR": "203",
                    "(No column name)": "203"
                },
                {
                    "termekkod": "06040350T",
                    "MEGNEVEZES": "Regiszteres füzet A4",
                    "KAT_NEV": "regiszteres füzet",
                    "LISTAAR": "256",
                    "(No column name)": "256"
                },
                {
                    "termekkod": "U001-KI501",
                    "MEGNEVEZES": "sál",
                    "KAT_NEV": "sál",
                    "LISTAAR": "1990",
                    "(No column name)": "1990"
                },
                {
                    "termekkod": "02080514T",
                    "MEGNEVEZES": "Spirál 1/4 ",
                    "KAT_NEV": "spirál",
                    "LISTAAR": "45",
                    "(No column name)": "45"
                },
                {
                    "termekkod": "04050358T",
                    "MEGNEVEZES": "Strandlabda ",
                    "KAT_NEV": "strandlabda",
                    "LISTAAR": "356",
                    "(No column name)": "356"
                },
                {
                    "termekkod": "05110360T",
                    "MEGNEVEZES": "Szalvéta egyszínű",
                    "KAT_NEV": "szalvéta",
                    "LISTAAR": "118",
                    "(No column name)": "118"
                },
                {
                    "termekkod": "05110363T",
                    "MEGNEVEZES": "Szalvéta dekor",
                    "KAT_NEV": "szalvéta",
                    "LISTAAR": "133",
                    "(No column name)": "133"
                },
                {
                    "termekkod": "05110364T",
                    "MEGNEVEZES": "Szalvéta kicsi virágos",
                    "KAT_NEV": "szalvéta",
                    "LISTAAR": "161",
                    "(No column name)": "161"
                },
                {
                    "termekkod": "05110361T",
                    "MEGNEVEZES": "Szalvéta Goma húsvéti",
                    "KAT_NEV": "szalvéta",
                    "LISTAAR": "175",
                    "(No column name)": "175"
                },
                {
                    "termekkod": "05110359T",
                    "MEGNEVEZES": "Szalvéta ",
                    "KAT_NEV": "szalvéta",
                    "LISTAAR": "176",
                    "(No column name)": "176"
                },
                {
                    "termekkod": "04110362T",
                    "MEGNEVEZES": "Szalvéta gyűjtőknek",
                    "KAT_NEV": "szalvéta",
                    "LISTAAR": "183",
                    "(No column name)": "183"
                },
                {
                    "termekkod": "06010366T",
                    "MEGNEVEZES": "Számológép Roxin",
                    "KAT_NEV": "számológép",
                    "LISTAAR": "508",
                    "(No column name)": "508"
                },
                {
                    "termekkod": "06040446T",
                    "MEGNEVEZES": "Számológép tudományos",
                    "KAT_NEV": "számológép",
                    "LISTAAR": "1173",
                    "(No column name)": "1173"
                },
                {
                    "termekkod": "05010369T",
                    "MEGNEVEZES": "Szemetes zsák 60 literes",
                    "KAT_NEV": "szemetes",
                    "LISTAAR": "129",
                    "(No column name)": "129"
                },
                {
                    "termekkod": "07010371T",
                    "MEGNEVEZES": "Színes ceruza 6-os",
                    "KAT_NEV": "színes",
                    "LISTAAR": "99",
                    "(No column name)": "99"
                },
                {
                    "termekkod": "07010372T",
                    "MEGNEVEZES": "Színes ceruza 12 szín",
                    "KAT_NEV": "színes",
                    "LISTAAR": "161",
                    "(No column name)": "161"
                },
                {
                    "termekkod": "06010377T",
                    "MEGNEVEZES": "Szögmérő színes",
                    "KAT_NEV": "szögmérő",
                    "LISTAAR": "8",
                    "(No column name)": "8"
                },
                {
                    "termekkod": "06010376T",
                    "MEGNEVEZES": "Szögmérő papír",
                    "KAT_NEV": "szögmérő",
                    "LISTAAR": "11",
                    "(No column name)": "11"
                },
                {
                    "termekkod": "06010375T",
                    "MEGNEVEZES": "Szögmérő 180 fokos műa.",
                    "KAT_NEV": "szögmérő",
                    "LISTAAR": "24",
                    "(No column name)": "24"
                },
                {
                    "termekkod": "06040380T",
                    "MEGNEVEZES": "Szövegkiemelő",
                    "KAT_NEV": "szövegkiemelő",
                    "LISTAAR": "78",
                    "(No column name)": "78"
                },
                {
                    "termekkod": "06040378T",
                    "MEGNEVEZES": "Szövegkiemelő vékony",
                    "KAT_NEV": "szövegkiemelő",
                    "LISTAAR": "89",
                    "(No column name)": "89"
                },
                {
                    "termekkod": "06040379T",
                    "MEGNEVEZES": "Szövegkiemelő ",
                    "KAT_NEV": "szövegkiemelő",
                    "LISTAAR": "93",
                    "(No column name)": "93"
                },
                {
                    "termekkod": "06040381T",
                    "MEGNEVEZES": "Szövegkiemelő Videotip",
                    "KAT_NEV": "szövegkiemelő",
                    "LISTAAR": "103",
                    "(No column name)": "103"
                },
                {
                    "termekkod": "07050464T",
                    "MEGNEVEZES": "Szövegkiemelő Staedtler",
                    "KAT_NEV": "szövegkiemelő",
                    "LISTAAR": "140",
                    "(No column name)": "140"
                },
                {
                    "termekkod": "06040382T",
                    "MEGNEVEZES": "Táblafilc",
                    "KAT_NEV": "táblafilc",
                    "LISTAAR": "633",
                    "(No column name)": "633"
                },
                {
                    "termekkod": "05050465T",
                    "MEGNEVEZES": "Tapétavágó kés",
                    "KAT_NEV": "tapétavágó",
                    "LISTAAR": "40",
                    "(No column name)": "40"
                },
                {
                    "termekkod": "06040386T",
                    "MEGNEVEZES": "Tempera szóló színes",
                    "KAT_NEV": "tempera",
                    "LISTAAR": "48",
                    "(No column name)": "48"
                },
                {
                    "termekkod": "06040385T",
                    "MEGNEVEZES": "Tempera szóló ezüst",
                    "KAT_NEV": "tempera",
                    "LISTAAR": "96",
                    "(No column name)": "96"
                },
                {
                    "termekkod": "02080449T",
                    "MEGNEVEZES": "Térképtű színes",
                    "KAT_NEV": "térképtű",
                    "LISTAAR": "103",
                    "(No column name)": "103"
                },
                {
                    "termekkod": "07040388T",
                    "MEGNEVEZES": "Tintapatron /kék/",
                    "KAT_NEV": "tintapatron",
                    "LISTAAR": "9",
                    "(No column name)": "9"
                },
                {
                    "termekkod": "07040390T",
                    "MEGNEVEZES": "Tintapatron színes",
                    "KAT_NEV": "tintapatron",
                    "LISTAAR": "11",
                    "(No column name)": "11"
                },
                {
                    "termekkod": "07040389T",
                    "MEGNEVEZES": "Tintapatron 30 db-os kék",
                    "KAT_NEV": "tintapatron",
                    "LISTAAR": "360",
                    "(No column name)": "360"
                },
                {
                    "termekkod": "07010244T",
                    "MEGNEVEZES": "Kerámiatoll",
                    "KAT_NEV": "toll",
                    "LISTAAR": "74",
                    "(No column name)": "74"
                },
                {
                    "termekkod": "07040391T",
                    "MEGNEVEZES": "Toll Centropen roller",
                    "KAT_NEV": "toll",
                    "LISTAAR": "80",
                    "(No column name)": "80"
                },
                {
                    "termekkod": "07010141T",
                    "MEGNEVEZES": "G.toll betét X20",
                    "KAT_NEV": "tollbetét",
                    "LISTAAR": "15",
                    "(No column name)": "15"
                },
                {
                    "termekkod": "07010140T",
                    "MEGNEVEZES": "G.toll betét Stabilo",
                    "KAT_NEV": "tollbetét",
                    "LISTAAR": "23",
                    "(No column name)": "23"
                },
                {
                    "termekkod": "07040127T",
                    "MEGNEVEZES": "G. toll betét mini",
                    "KAT_NEV": "tollbetét",
                    "LISTAAR": "30",
                    "(No column name)": "30"
                },
                {
                    "termekkod": "07040129T",
                    "MEGNEVEZES": "G. toll betét réz",
                    "KAT_NEV": "tollbetét",
                    "LISTAAR": "30",
                    "(No column name)": "30"
                },
                {
                    "termekkod": "07010138T",
                    "MEGNEVEZES": "G.toll betét jumbo",
                    "KAT_NEV": "tollbetét",
                    "LISTAAR": "33",
                    "(No column name)": "33"
                },
                {
                    "termekkod": "07040133T",
                    "MEGNEVEZES": "G.toll betét görbe hegyű",
                    "KAT_NEV": "tollbetét",
                    "LISTAAR": "39",
                    "(No column name)": "39"
                },
                {
                    "termekkod": "07040134T",
                    "MEGNEVEZES": "G.toll betét illatos",
                    "KAT_NEV": "tollbetét",
                    "LISTAAR": "44",
                    "(No column name)": "44"
                },
                {
                    "termekkod": "07010137T",
                    "MEGNEVEZES": "G.toll betét PAX tip.",
                    "KAT_NEV": "tollbetét",
                    "LISTAAR": "48",
                    "(No column name)": "48"
                },
                {
                    "termekkod": "07040128T",
                    "MEGNEVEZES": "G. toll betét mini fém",
                    "KAT_NEV": "tollbetét",
                    "LISTAAR": "55",
                    "(No column name)": "55"
                },
                {
                    "termekkod": "07040132T",
                    "MEGNEVEZES": "G.toll betét csavaros",
                    "KAT_NEV": "tollbetét",
                    "LISTAAR": "55",
                    "(No column name)": "55"
                },
                {
                    "termekkod": "07010143T",
                    "MEGNEVEZES": "G.toll betét Zebra H-0,7",
                    "KAT_NEV": "tollbetét",
                    "LISTAAR": "78",
                    "(No column name)": "78"
                },
                {
                    "termekkod": "07040130T",
                    "MEGNEVEZES": "G. toll betét S7S",
                    "KAT_NEV": "tollbetét",
                    "LISTAAR": "80",
                    "(No column name)": "80"
                },
                {
                    "termekkod": "07040131T",
                    "MEGNEVEZES": "G. toll betét UNI lachnok Fine SA-7C",
                    "KAT_NEV": "tollbetét",
                    "LISTAAR": "85",
                    "(No column name)": "85"
                },
                {
                    "termekkod": "07010144T",
                    "MEGNEVEZES": "G.toll betét Zebra K-0,7",
                    "KAT_NEV": "tollbetét",
                    "LISTAAR": "89",
                    "(No column name)": "89"
                },
                {
                    "termekkod": "07010139T",
                    "MEGNEVEZES": "G.toll betét S7L ",
                    "KAT_NEV": "tollbetét",
                    "LISTAAR": "91",
                    "(No column name)": "91"
                },
                {
                    "termekkod": "07010136T",
                    "MEGNEVEZES": "G.toll betét PAX",
                    "KAT_NEV": "tollbetét",
                    "LISTAAR": "123",
                    "(No column name)": "123"
                },
                {
                    "termekkod": "07010142T",
                    "MEGNEVEZES": "G.toll betét Zebra F-0.7",
                    "KAT_NEV": "tollbetét",
                    "LISTAAR": "228",
                    "(No column name)": "228"
                },
                {
                    "termekkod": "07040135T",
                    "MEGNEVEZES": "G.toll betét Parker ",
                    "KAT_NEV": "tollbetét",
                    "LISTAAR": "684",
                    "(No column name)": "684"
                },
                {
                    "termekkod": "06040394T",
                    "MEGNEVEZES": "Tolltartó zipzáras",
                    "KAT_NEV": "tolltartó",
                    "LISTAAR": "324",
                    "(No column name)": "324"
                },
                {
                    "termekkod": "06040396T",
                    "MEGNEVEZES": "Tolltartó Garfield",
                    "KAT_NEV": "tolltartó",
                    "LISTAAR": "410",
                    "(No column name)": "410"
                },
                {
                    "termekkod": "06040398T",
                    "MEGNEVEZES": "Tolltartó hengeres ",
                    "KAT_NEV": "tolltartó",
                    "LISTAAR": "411",
                    "(No column name)": "411"
                },
                {
                    "termekkod": "06040397T",
                    "MEGNEVEZES": "Tolltartó asztali",
                    "KAT_NEV": "tolltartó",
                    "LISTAAR": "655",
                    "(No column name)": "655"
                },
                {
                    "termekkod": "06040395T",
                    "MEGNEVEZES": "Tolltartó 2 zipzáros töltött",
                    "KAT_NEV": "tolltartó",
                    "LISTAAR": "728",
                    "(No column name)": "728"
                },
                {
                    "termekkod": "06040392T",
                    "MEGNEVEZES": "Tolltartó 1 zipzáros",
                    "KAT_NEV": "tolltartó",
                    "LISTAAR": "728",
                    "(No column name)": "728"
                },
                {
                    "termekkod": "06040393T",
                    "MEGNEVEZES": "Tolltartó 2 részes NG.",
                    "KAT_NEV": "tolltartó",
                    "LISTAAR": "765",
                    "(No column name)": "765"
                },
                {
                    "termekkod": "02080511T",
                    "MEGNEVEZES": "Oki toner C",
                    "KAT_NEV": "toner",
                    "LISTAAR": "14250",
                    "(No column name)": "14250"
                },
                {
                    "termekkod": "07050462T",
                    "MEGNEVEZES": "Töltőtoll tinta ",
                    "KAT_NEV": "töltőtoll",
                    "LISTAAR": "493",
                    "(No column name)": "493"
                },
                {
                    "termekkod": "02040402T",
                    "MEGNEVEZES": "Tűzőgép Boxer ",
                    "KAT_NEV": "tűzőgép",
                    "LISTAAR": "286",
                    "(No column name)": "286"
                },
                {
                    "termekkod": "02040401T",
                    "MEGNEVEZES": "Tűzőgép Boxer 10",
                    "KAT_NEV": "tűzőgép",
                    "LISTAAR": "339",
                    "(No column name)": "339"
                },
                {
                    "termekkod": "02040404T",
                    "MEGNEVEZES": "Tűzőgép EAGLE",
                    "KAT_NEV": "tűzőgép",
                    "LISTAAR": "405",
                    "(No column name)": "405"
                },
                {
                    "termekkod": "02080452T",
                    "MEGNEVEZES": "Tűzőgép mini",
                    "KAT_NEV": "tűzőgép",
                    "LISTAAR": "438",
                    "(No column name)": "438"
                },
                {
                    "termekkod": "02040403T",
                    "MEGNEVEZES": "Tűzőgép SAX 239",
                    "KAT_NEV": "tűzőgép",
                    "LISTAAR": "1351",
                    "(No column name)": "1351"
                },
                {
                    "termekkod": "02040002T",
                    "MEGNEVEZES": "irodai tűzőgép",
                    "KAT_NEV": "tűzőgép",
                    "LISTAAR": "2100",
                    "(No column name)": "2100"
                },
                {
                    "termekkod": "02040406T",
                    "MEGNEVEZES": "Tűzőkapocs 24/6",
                    "KAT_NEV": "tűzőkapocs",
                    "LISTAAR": "34",
                    "(No column name)": "34"
                },
                {
                    "termekkod": "02040405T",
                    "MEGNEVEZES": "Tűzőkapocs 10-es",
                    "KAT_NEV": "tűzőkapocs",
                    "LISTAAR": "44",
                    "(No column name)": "44"
                },
                {
                    "termekkod": "06080410T",
                    "MEGNEVEZES": "Vízfesték 12db-os kínai",
                    "KAT_NEV": "vízfesték",
                    "LISTAAR": "176",
                    "(No column name)": "176"
                },
                {
                    "termekkod": "06080409T",
                    "MEGNEVEZES": "Vízfesték 12 színű kerek",
                    "KAT_NEV": "vízfesték",
                    "LISTAAR": "180",
                    "(No column name)": "180"
                },
                {
                    "termekkod": "06080408T",
                    "MEGNEVEZES": "Vízfesték 12 db-os ",
                    "KAT_NEV": "vízfesték",
                    "LISTAAR": "210",
                    "(No column name)": "210"
                },
                {
                    "termekkod": "06080407T",
                    "MEGNEVEZES": "Vízfesték  12 színű nagy",
                    "KAT_NEV": "vízfesték",
                    "LISTAAR": "249",
                    "(No column name)": "249"
                },
                {
                    "termekkod": "06080412T",
                    "MEGNEVEZES": "Vonalzó 16 cm-es LIZZY",
                    "KAT_NEV": "vonalzó",
                    "LISTAAR": "30",
                    "(No column name)": "30"
                },
                {
                    "termekkod": "06080413T",
                    "MEGNEVEZES": "Vonalzó 30 cm",
                    "KAT_NEV": "vonalzó",
                    "LISTAAR": "30",
                    "(No column name)": "30"
                },
                {
                    "termekkod": "06080414T",
                    "MEGNEVEZES": "Vonalzó 20 cm-es ",
                    "KAT_NEV": "vonalzó",
                    "LISTAAR": "30",
                    "(No column name)": "30"
                },
                {
                    "termekkod": "06080415T",
                    "MEGNEVEZES": "Vonalzó 45 fokos",
                    "KAT_NEV": "vonalzó",
                    "LISTAAR": "30",
                    "(No column name)": "30"
                },
                {
                    "termekkod": "06080416T",
                    "MEGNEVEZES": "Vonalzó 60 fokos",
                    "KAT_NEV": "vonalzó",
                    "LISTAAR": "33",
                    "(No column name)": "33"
                },
                {
                    "termekkod": "06080411T",
                    "MEGNEVEZES": "Vonalzó 15 cm-es ESSELTE",
                    "KAT_NEV": "vonalzó",
                    "LISTAAR": "58",
                    "(No column name)": "58"
                },
                {
                    "termekkod": "06080417T",
                    "MEGNEVEZES": "Zászló papír",
                    "KAT_NEV": "zászló",
                    "LISTAAR": "20",
                    "(No column name)": "20"
                },
                {
                    "termekkod": "07080419T",
                    "MEGNEVEZES": "Zselés toll MICRO",
                    "KAT_NEV": "zseléstoll",
                    "LISTAAR": "66",
                    "(No column name)": "66"
                },
                {
                    "termekkod": "07080418T",
                    "MEGNEVEZES": "Zselés toll ",
                    "KAT_NEV": "zseléstoll",
                    "LISTAAR": "95",
                    "(No column name)": "95"
                },
                {
                    "termekkod": "07080420T",
                    "MEGNEVEZES": "Zselés toll Muhnwa",
                    "KAT_NEV": "zseléstoll",
                    "LISTAAR": "161",
                    "(No column name)": "161"
                },
                {
                    "termekkod": "07080421T",
                    "MEGNEVEZES": "Zseléstoll Lizzy Card",
                    "KAT_NEV": "zseléstoll",
                    "LISTAAR": "228",
                    "(No column name)": "228"
                },
                {
                    "termekkod": "02040206T",
                    "MEGNEVEZES": "Írásvetítő fólia",
                    "KAT_NEV": "írásvetítő fólia",
                    "LISTAAR": "81",
                    "(No column name)": "81"
                }
            ]
        },
        "text/html": [
            "<table>",
            "<tr><th>termekkod</th><th>MEGNEVEZES</th><th>KAT_NEV</th><th>LISTAAR</th><th>(No column name)</th><th>(No column name)</th></tr>",
            "<tr><td>08070491T</td><td>Szám.tech. kicsiknek</td><td>könyv</td><td>214</td><td>214</td><td>214</td></tr>",
            "<tr><td>08070485T</td><td>Jól felkészültem-e - Fizika</td><td>könyv</td><td>291</td><td>214</td><td>291</td></tr>",
            "<tr><td>08070480T</td><td>Fizika 13 éveseknek</td><td>könyv</td><td>308</td><td>214</td><td>308</td></tr>",
            "<tr><td>08070483T</td><td>Fizikai feladatok és tévedések</td><td>könyv</td><td>324</td><td>214</td><td>324</td></tr>",
            "<tr><td>08070484T</td><td>Fogalmazás lépésről lépésre</td><td>könyv</td><td>345</td><td>214</td><td>345</td></tr>",
            "<tr><td>08070494T</td><td>Érettségi felv. fel. Fizika</td><td>könyv</td><td>440</td><td>214</td><td>440</td></tr>",
            "<tr><td>08070495T</td><td>Érettségi felv. fel. Biológia</td><td>könyv</td><td>440</td><td>214</td><td>440</td></tr>",
            "<tr><td>08070479T</td><td>Fizika</td><td>könyv</td><td>674</td><td>214</td><td>674</td></tr>",
            "<tr><td>08070490T</td><td>Szövegszerkesztés</td><td>könyv</td><td>691</td><td>214</td><td>691</td></tr>",
            "<tr><td>08070493T</td><td>Érettségi felv. fel. Matematika</td><td>könyv</td><td>720</td><td>214</td><td>720</td></tr>",
            "<tr><td>08070492T</td><td>Informatika</td><td>könyv</td><td>735</td><td>214</td><td>735</td></tr>",
            "<tr><td>08070489T</td><td>RAMba zárt világ</td><td>könyv</td><td>868</td><td>214</td><td>868</td></tr>",
            "<tr><td>08070472T</td><td>A föld amelyen élünk - Európa földrajza</td><td>könyv</td><td>1089</td><td>214</td><td>1089</td></tr>",
            "<tr><td>08070473T</td><td>A föld amelyen élünk - Távoli földrészek</td><td>könyv</td><td>1089</td><td>214</td><td>1089</td></tr>",
            "<tr><td>08070474T</td><td>A föld amelyen élünk - Hazánk földrajza</td><td>könyv</td><td>1089</td><td>214</td><td>1089</td></tr>",
            "<tr><td>04050035T</td><td>Bérlet tok</td><td>ajándék tárgy</td><td>24</td><td>24</td><td>24</td></tr>",
            "<tr><td>04110258T</td><td>Lampion</td><td>ajándék tárgy</td><td>73</td><td>24</td><td>73</td></tr>",
            "<tr><td>04050267T</td><td>Logikai készlet</td><td>ajándék tárgy</td><td>129</td><td>24</td><td>129</td></tr>",
            "<tr><td>04030285T</td><td>Mikulás zacskó</td><td>ajándék tasak</td><td>11</td><td>11</td><td>11</td></tr>",
            "<tr><td>03080004T</td><td>Ajándék cs. tasak italos, fólia</td><td>ajándék tasak</td><td>19</td><td>11</td><td>19</td></tr>",
            "<tr><td>03080006T</td><td>Ajándék cs. tasak mintás kicsi</td><td>ajándék tasak</td><td>26</td><td>11</td><td>26</td></tr>",
            "<tr><td>03050457T</td><td>Ajándék cs. tasak kicsi</td><td>ajándék tasak</td><td>26</td><td>11</td><td>26</td></tr>",
            "<tr><td>03050459T</td><td>Talpas tasak</td><td>ajándék tasak</td><td>40</td><td>11</td><td>40</td></tr>",
            "<tr><td>03080013T</td><td>Ajándék csom. 50x70 húsvéti</td><td>ajándék tasak</td><td>64</td><td>11</td><td>64</td></tr>",
            "<tr><td>03080014T</td><td>Ajándék csom. 70x50 metál</td><td>ajándék tasak</td><td>81</td><td>11</td><td>81</td></tr>",
            "<tr><td>03080008T</td><td>Ajándék cs. tasak kicsi</td><td>ajándék tasak</td><td>103</td><td>11</td><td>103</td></tr>",
            "<tr><td>03080439T</td><td>Italtartó doboz</td><td>ajándék tasak</td><td>114</td><td>11</td><td>114</td></tr>",
            "<tr><td>03080012T</td><td>Ajándék csom. 200x70</td><td>ajándék tasak</td><td>125</td><td>11</td><td>125</td></tr>",
            "<tr><td>03080009T</td><td>Ajándék csom. 100x70 metál</td><td>ajándék tasak</td><td>148</td><td>11</td><td>148</td></tr>",
            "<tr><td>03080011T</td><td>Ajándék cs. tasak közepes</td><td>ajándék tasak</td><td>148</td><td>11</td><td>148</td></tr>",
            "<tr><td>03050458T</td><td>Ajándék cs. 2×100×70</td><td>ajándék tasak</td><td>148</td><td>11</td><td>148</td></tr>",
            "<tr><td>03080015T</td><td>Ajándék csom. gyűrt</td><td>ajándék tasak</td><td>169</td><td>11</td><td>169</td></tr>",
            "<tr><td>03080437T</td><td>Ajándék csomagoló tasak</td><td>ajándék tasak</td><td>185</td><td>11</td><td>185</td></tr>",
            "<tr><td>03080003T</td><td>Ajándék cs. tasak italos</td><td>ajándék tasak</td><td>185</td><td>11</td><td>185</td></tr>",
            "<tr><td>03080007T</td><td>Ajándék cs. tasak mintás nagy</td><td>ajándék tasak</td><td>206</td><td>11</td><td>206</td></tr>",
            "<tr><td>03080010T</td><td>Ajándék csom. 150x70</td><td>ajándék tasak</td><td>206</td><td>11</td><td>206</td></tr>",
            "<tr><td>03080438T</td><td>Ajándék csomagoló tasak lézeres</td><td>ajándék tasak</td><td>214</td><td>11</td><td>214</td></tr>",
            "<tr><td>03080005T</td><td>Ajándék cs. tasak virágos nagy</td><td>ajándék tasak</td><td>290</td><td>11</td><td>290</td></tr>",
            "<tr><td>04050022T</td><td>Álarc</td><td>álarc</td><td>89</td><td>89</td><td>89</td></tr>",
            "<tr><td>04050023T</td><td>Álarc fejdísz</td><td>álarc</td><td>144</td><td>89</td><td>144</td></tr>",
            "<tr><td>04050024T</td><td>Álarc szemüveg</td><td>álarc</td><td>144</td><td>89</td><td>144</td></tr>",
            "<tr><td>G041-AL211</td><td>fiú ünneplős ruha</td><td>alkalmi</td><td>16900</td><td>16900</td><td>16900</td></tr>",
            "<tr><td>L041-AL211</td><td>lány ünneplős ruha</td><td>alkalmi</td><td>16900</td><td>16900</td><td>16900</td></tr>",
            "<tr><td>N029-AL212</td><td>női koktélruha</td><td>alkalmi</td><td>32000</td><td>16900</td><td>32000</td></tr>",
            "<tr><td>05010026T</td><td>Alufólia 10 m-es</td><td>alufólia</td><td>118</td><td>118</td><td>118</td></tr>",
            "<tr><td>05010027T</td><td>Alufólia 20 m-es</td><td>alufólia</td><td>214</td><td>118</td><td>214</td></tr>",
            "<tr><td>02010028T</td><td>Árazószalag </td><td>árazószalag</td><td>106</td><td>106</td><td>106</td></tr>",
            "<tr><td>02020029T</td><td>Átírótömb A/6</td><td>átírótömb</td><td>115</td><td>115</td><td>115</td></tr>",
            "<tr><td>06080423T</td><td>Beíró A/5 kockás</td><td>beíró</td><td>228</td><td>228</td><td>228</td></tr>",
            "<tr><td>02020032T</td><td>Beírókönyv A5 </td><td>beírókönyv</td><td>133</td><td>133</td><td>133</td></tr>",
            "<tr><td>02020033T</td><td>Beírókönyv A4</td><td>beírókönyv</td><td>328</td><td>133</td><td>328</td></tr>",
            "<tr><td>02060039T</td><td>Bélyegző párna</td><td>bélyegző</td><td>650</td><td>650</td><td>650</td></tr>",
            "<tr><td>02060038T</td><td>Bélyegző IDEAL 50</td><td>bélyegző</td><td>780</td><td>650</td><td>780</td></tr>",
            "<tr><td>02060448T</td><td>Bélyegző RP 18-47</td><td>bélyegző</td><td>1147</td><td>650</td><td>1147</td></tr>",
            "<tr><td>02060447T</td><td>Bélyegző pocket</td><td>bélyegző</td><td>1377</td><td>650</td><td>1377</td></tr>",
            "<tr><td>02060034T</td><td>Bélyegzőfesték </td><td>bélyegzőfesték</td><td>297</td><td>297</td><td>297</td></tr>",
            "<tr><td>02030042T</td><td>Boríték LC 6</td><td>boríték</td><td>3</td><td>3</td><td>3</td></tr>",
            "<tr><td>02030040T</td><td>Boríték LA 4 francia</td><td>boríték</td><td>6</td><td>3</td><td>6</td></tr>",
            "<tr><td>02030041T</td><td>Boríték LC 5</td><td>boríték</td><td>6</td><td>3</td><td>6</td></tr>",
            "<tr><td>02050460T</td><td>Boríték C/4-es</td><td>boríték</td><td>15</td><td>3</td><td>15</td></tr>",
            "<tr><td>02030044T</td><td>Boríték mintás</td><td>boríték</td><td>15</td><td>3</td><td>15</td></tr>",
            "<tr><td>02050461T</td><td>Boríték B/4-es</td><td>boríték</td><td>18</td><td>3</td><td>18</td></tr>",
            "<tr><td>02030043T</td><td>Boríték légp. kicsi</td><td>boríték</td><td>39</td><td>3</td><td>39</td></tr>",
            "<tr><td>02080069T</td><td>CD tartó tok</td><td>cd tok</td><td>30</td><td>30</td><td>30</td></tr>",
            "<tr><td>05050045T</td><td>Celofán</td><td>celofán</td><td>46</td><td>46</td><td>46</td></tr>",
            "<tr><td>05050046T</td><td>Celofán 50 db-os</td><td>celofán</td><td>73</td><td>46</td><td>73</td></tr>",
            "<tr><td>07080065T</td><td>Ceruza kínai</td><td>ceruza</td><td>11</td><td>11</td><td>11</td></tr>",
            "<tr><td>07040058T</td><td>Ceruza radíros kínai</td><td>ceruza</td><td>11</td><td>11</td><td>11</td></tr>",
            "<tr><td>07040053T</td><td>Ceruza HB radiros</td><td>ceruza</td><td>23</td><td>11</td><td>23</td></tr>",
            "<tr><td>07040050T</td><td>Ceruza Cseh</td><td>ceruza</td><td>30</td><td>11</td><td>30</td></tr>",
            "<tr><td>07080063T</td><td>Ceruza szorzótáblás</td><td>ceruza</td><td>35</td><td>11</td><td>35</td></tr>",
            "<tr><td>07040060T</td><td>Ceruza stabilo swano</td><td>ceruza</td><td>36</td><td>11</td><td>36</td></tr>",
            "<tr><td>07040051T</td><td>Ceruza háromszög </td><td>ceruza</td><td>39</td><td>11</td><td>39</td></tr>",
            "<tr><td>07040047T</td><td>Ceruza 2H-4B</td><td>ceruza</td><td>39</td><td>11</td><td>39</td></tr>",
            "<tr><td>07040049T</td><td>Ceruza Conté zöld</td><td>ceruza</td><td>40</td><td>11</td><td>40</td></tr>",
            "<tr><td>07080064T</td><td>Ceruza zöld színű</td><td>ceruza</td><td>40</td><td>11</td><td>40</td></tr>",
            "<tr><td>07040056T</td><td>Ceruza piros-kék vékony</td><td>ceruza</td><td>40</td><td>11</td><td>40</td></tr>",
            "<tr><td>07040061T</td><td>Ceruza stabilo opera</td><td>ceruza</td><td>44</td><td>11</td><td>44</td></tr>",
            "<tr><td>07040052T</td><td>Ceruza 2H-3B Koh-i-nor</td><td>ceruza</td><td>53</td><td>11</td><td>53</td></tr>",
            "<tr><td>07040054T</td><td>Ceruza kártyás</td><td>ceruza</td><td>55</td><td>11</td><td>55</td></tr>",
            "<tr><td>07040048T</td><td>Ceruza arany, ezüst</td><td>ceruza</td><td>55</td><td>11</td><td>55</td></tr>",
            "<tr><td>07040059T</td><td>Ceruza smaragd</td><td>ceruza</td><td>58</td><td>11</td><td>58</td></tr>",
            "<tr><td>07040055T</td><td>Ceruza piros-kék</td><td>ceruza</td><td>59</td><td>11</td><td>59</td></tr>",
            "<tr><td>07040057T</td><td>Ceruza Progresso</td><td>ceruza</td><td>106</td><td>11</td><td>106</td></tr>",
            "<tr><td>07080062T</td><td>Ceruza szén</td><td>ceruza</td><td>146</td><td>11</td><td>146</td></tr>",
            "<tr><td>04110068T</td><td>Címke egyszínű</td><td>címke</td><td>20</td><td>20</td><td>20</td></tr>",
            "<tr><td>04110066T</td><td>Címke 8 db-os</td><td>címke</td><td>26</td><td>20</td><td>26</td></tr>",
            "<tr><td>04110067T</td><td>Címke WD. állat</td><td>címke</td><td>31</td><td>20</td><td>31</td></tr>",
            "<tr><td>01100503T</td><td>Color Copy A4 120 g</td><td>color copy</td><td>10</td><td>10</td><td>10</td></tr>",
            "<tr><td>01090500T</td><td>Color Copy A4 200 g</td><td>color copy</td><td>14</td><td>10</td><td>14</td></tr>",
            "<tr><td>01100497T</td><td>Color Copy 160 g-os </td><td>color copy</td><td>14</td><td>10</td><td>14</td></tr>",
            "<tr><td>01090499T</td><td>Color Copy A/4 250 g</td><td>color copy</td><td>15</td><td>10</td><td>15</td></tr>",
            "<tr><td>01100496T</td><td>Színes másoló a/4 80g</td><td>color copy</td><td>1500</td><td>10</td><td>1500</td></tr>",
            "<tr><td>05010370T</td><td>Szilvia csomagoló</td><td>csomagoló</td><td>89</td><td>89</td><td>89</td></tr>",
            "<tr><td>03080016T</td><td>házt.csom.  5 ív</td><td>csomagoló</td><td>110</td><td>89</td><td>110</td></tr>",
            "<tr><td>03080021T</td><td>Ajándék csom. vékony</td><td>csomagoló papír</td><td>23</td><td>23</td><td>23</td></tr>",
            "<tr><td>03080020T</td><td>Ajándék csom. nagy  </td><td>csomagoló papír</td><td>44</td><td>23</td><td>44</td></tr>",
            "<tr><td>03080019T</td><td>Ajándék csom. Krepp</td><td>csomagoló papír</td><td>56</td><td>23</td><td>56</td></tr>",
            "<tr><td>03080031T</td><td>Ajándék cs. húsvéti</td><td>csomagoló papír</td><td>106</td><td>23</td><td>106</td></tr>",
            "<tr><td>03080018T</td><td>Ajándék csom. gyűrt 50x70 </td><td>csomagoló papír</td><td>121</td><td>23</td><td>121</td></tr>",
            "<tr><td>03080017T</td><td>iskolai csomagoló papír</td><td>csomagoló papír</td><td>148</td><td>23</td><td>148</td></tr>",
            "<tr><td>03080030T</td><td>Ajándék cs. húsvéti 200x70</td><td>csomagoló papír</td><td>220</td><td>23</td><td>220</td></tr>",
            "<tr><td>04030288T</td><td>Műanyag pohár 1 dl-es</td><td>dekor</td><td>3</td><td>3</td><td>3</td></tr>",
            "<tr><td>04030289T</td><td>Műanyag pohár 5 cl-es</td><td>dekor</td><td>15</td><td>3</td><td>15</td></tr>",
            "<tr><td>04030287T</td><td>Műanyag foszforeszkáló állat</td><td>dekor</td><td>23</td><td>3</td><td>23</td></tr>",
            "<tr><td>04030286T</td><td>Műanyag állatok</td><td>dekor</td><td>44</td><td>3</td><td>44</td></tr>",
            "<tr><td>01100072T</td><td>Dipa A/4 keretezett</td><td>dipa</td><td>9</td><td>9</td><td>9</td></tr>",
            "<tr><td>04050075T</td><td>Díszdoboz tollnak 2 db-os keskeny</td><td>díszdoboz</td><td>44</td><td>44</td><td>44</td></tr>",
            "<tr><td>04050073T</td><td>Díszdoboz kar.</td><td>díszdoboz</td><td>61</td><td>44</td><td>61</td></tr>",
            "<tr><td>04050074T</td><td>Díszdoboz tollnak 2 db-os</td><td>díszdoboz</td><td>66</td><td>44</td><td>66</td></tr>",
            "<tr><td>03050078T</td><td>Díszkötöző szalag metál kicsi</td><td>díszkötöző</td><td>15</td><td>15</td><td>15</td></tr>",
            "<tr><td>03050079T</td><td>Díszkötöző szalag vékony</td><td>díszkötöző</td><td>15</td><td>15</td><td>15</td></tr>",
            "<tr><td>03050076T</td><td>Díszkötöző szalag metál nagy</td><td>díszkötöző</td><td>26</td><td>15</td><td>26</td></tr>",
            "<tr><td>03050077T</td><td>Diszkötöző szalag arany</td><td>díszkötöző</td><td>44</td><td>15</td><td>44</td></tr>",
            "<tr><td>03050080T</td><td>Diszkötöző széles szalag</td><td>díszkötöző</td><td>81</td><td>15</td><td>81</td></tr>",
            "<tr><td>02080081T</td><td>Dvd</td><td>dvd</td><td>133</td><td>133</td><td>133</td></tr>",
            "<tr><td>06010083T</td><td>Ecset Centrum 7,8,9</td><td>ecset</td><td>33</td><td>33</td><td>33</td></tr>",
            "<tr><td>06010086T</td><td>Ecset Nebulo 4-es</td><td>ecset</td><td>36</td><td>33</td><td>36</td></tr>",
            "<tr><td>06010082T</td><td>Ecset Centrum 10,11,12</td><td>ecset</td><td>40</td><td>33</td><td>40</td></tr>",
            "<tr><td>06010084T</td><td>Ecset Deák 2-es</td><td>ecset</td><td>60</td><td>33</td><td>60</td></tr>",
            "<tr><td>06010085T</td><td>Ecset Lizzy 10-es</td><td>ecset</td><td>65</td><td>33</td><td>65</td></tr>",
            "<tr><td>06040087T</td><td>Ecset Nebuló 10-es</td><td>ecset</td><td>79</td><td>33</td><td>79</td></tr>",
            "<tr><td>06080428T</td><td>Ecsetkészlet</td><td>ecset</td><td>180</td><td>33</td><td>180</td></tr>",
            "<tr><td>01040502T</td><td>Előlap spirálhoz</td><td>előlap</td><td>25</td><td>25</td><td>25</td></tr>",
            "<tr><td>04080442T</td><td>Emlékkönyv</td><td>emlékkönyv</td><td>316</td><td>316</td><td>316</td></tr>",
            "<tr><td>04080443T</td><td>Emlékkönyv lakatos</td><td>emlékkönyv</td><td>449</td><td>316</td><td>449</td></tr>",
            "<tr><td>04040090T</td><td>Emlékkönyv</td><td>emlékkönyv</td><td>526</td><td>316</td><td>526</td></tr>",
            "<tr><td>01030091T</td><td>Emléklap A/5</td><td>emléklap</td><td>26</td><td>26</td><td>26</td></tr>",
            "<tr><td>01080093T</td><td>Fax papír 15 m</td><td>fax papír</td><td>161</td><td>161</td><td>161</td></tr>",
            "<tr><td>L029-FE307</td><td>lány zokni</td><td>fehérnemű</td><td>240</td><td>240</td><td>240</td></tr>",
            "<tr><td>G029-FE307</td><td>fiú zokni</td><td>fehérnemű</td><td>240</td><td>240</td><td>240</td></tr>",
            "<tr><td>L023-FE301</td><td>lány alsó</td><td>fehérnemű</td><td>390</td><td>240</td><td>390</td></tr>",
            "<tr><td>G023-FE301</td><td>fiú alsó</td><td>fehérnemű</td><td>390</td><td>240</td><td>390</td></tr>",
            "<tr><td>N019-FE301</td><td>női alsó</td><td>fehérnemű</td><td>690</td><td>240</td><td>690</td></tr>",
            "<tr><td>L033-FE311</td><td>lány harisnya</td><td>fehérnemű</td><td>990</td><td>240</td><td>990</td></tr>",
            "<tr><td>G038-FE316</td><td>fiú harisnya</td><td>fehérnemű</td><td>990</td><td>240</td><td>990</td></tr>",
            "<tr><td>01100505T</td><td>Fehér másoló A/4</td><td>fénymásoló papír</td><td>686</td><td>686</td><td>686</td></tr>",
            "<tr><td>01100095T</td><td>Fénymásoló papír GetCopy</td><td>fénymásoló papír</td><td>728</td><td>686</td><td>728</td></tr>",
            "<tr><td>01100096T</td><td>Fénymásoló papír Qconnect</td><td>fénymásoló papír</td><td>728</td><td>686</td><td>728</td></tr>",
            "<tr><td>01100094T</td><td>Fénymásoló papír DataCopy</td><td>fénymásoló papír</td><td>845</td><td>686</td><td>845</td></tr>",
            "<tr><td>01100504T</td><td>Fehér másoló A/3</td><td>fénymásoló papír</td><td>1488</td><td>686</td><td>1488</td></tr>",
            "<tr><td>F021-IN215</td><td>férfi ing</td><td>férfi ing</td><td>6490</td><td>6490</td><td>6490</td></tr>",
            "<tr><td>F001-KB101</td><td>férfi szövet kabát</td><td>férfi kabát</td><td>22000</td><td>22000</td><td>22000</td></tr>",
            "<tr><td>F007-NA201</td><td>férfi farmer nadrág</td><td>férfi nadrág</td><td>7890</td><td>7890</td><td>7890</td></tr>",
            "<tr><td>F013-NA207</td><td>férfi szövet nadrág</td><td>férfi nadrág</td><td>11900</td><td>7890</td><td>11900</td></tr>",
            "<tr><td>02080455T</td><td>Festékpatron BCI-3BK</td><td>festékpatron</td><td>625</td><td>625</td><td>625</td></tr>",
            "<tr><td>07030108T</td><td>Filctoll CD író</td><td>filctoll</td><td>0</td><td>0</td><td>0</td></tr>",
            "<tr><td>07040097T</td><td>Filctoll </td><td>filctoll</td><td>26</td><td>0</td><td>26</td></tr>",
            "<tr><td>07040102T</td><td>Filctoll supra fine</td><td>filctoll</td><td>46</td><td>0</td><td>46</td></tr>",
            "<tr><td>07030103T</td><td>Filctoll TINTEN PEN</td><td>filctoll</td><td>53</td><td>0</td><td>53</td></tr>",
            "<tr><td>07030104T</td><td>Filctoll vastag ARTIP</td><td>filctoll</td><td>76</td><td>0</td><td>76</td></tr>",
            "<tr><td>07030106T</td><td>Filctoll, alkoholosOHP F-M-C</td><td>filctoll</td><td>103</td><td>0</td><td>103</td></tr>",
            "<tr><td>07030105T</td><td>Filctoll, alkoholos Centropen</td><td>filctoll</td><td>114</td><td>0</td><td>114</td></tr>",
            "<tr><td>07040101T</td><td>Filctoll permanent vastag</td><td>filctoll</td><td>140</td><td>0</td><td>140</td></tr>",
            "<tr><td>07030107T</td><td>Filctoll, textil Edding 4500</td><td>filctoll</td><td>276</td><td>0</td><td>276</td></tr>",
            "<tr><td>07040098T</td><td>Filctoll document pen</td><td>filctoll</td><td>278</td><td>0</td><td>278</td></tr>",
            "<tr><td>07040100T</td><td>Filctoll Marvy alkoholos</td><td>filctoll</td><td>390</td><td>0</td><td>390</td></tr>",
            "<tr><td>07040099T</td><td>Filctoll Edding 750</td><td>filctoll</td><td>434</td><td>0</td><td>434</td></tr>",
            "<tr><td>07040257T</td><td>Lakk filc Edding 750</td><td>filctoll</td><td>434</td><td>0</td><td>434</td></tr>",
            "<tr><td>02080109T</td><td>Floppy lemez</td><td>floppy</td><td>51</td><td>51</td><td>51</td></tr>",
            "<tr><td>02040507T</td><td>Fólia tasakos A4 80 mik.</td><td>fólia</td><td>40</td><td>40</td><td>40</td></tr>",
            "<tr><td>02040508T</td><td>Fólia tasakos A4100 mik.</td><td>fólia</td><td>44</td><td>40</td><td>44</td></tr>",
            "<tr><td>02040506T</td><td>Fólia tasakos A4 125 mik.</td><td>fólia</td><td>44</td><td>40</td><td>44</td></tr>",
            "<tr><td>01010110T</td><td>Fotópapír A/4 fényes</td><td>fotópapír</td><td>30</td><td>30</td><td>30</td></tr>",
            "<tr><td>06010114T</td><td>Füzet A/5 hangjegy 36/16</td><td>füzet</td><td>30</td><td>30</td><td>30</td></tr>",
            "<tr><td>06080116T</td><td>Füzet A5 1-8 osz.-ig</td><td>füzet</td><td>34</td><td>30</td><td>34</td></tr>",
            "<tr><td>06010113T</td><td>Füzet 31-32 szótár</td><td>füzet</td><td>34</td><td>30</td><td>34</td></tr>",
            "<tr><td>06010115T</td><td>Füzet A/5, mintás</td><td>füzet</td><td>48</td><td>30</td><td>48</td></tr>",
            "<tr><td>06010111T</td><td>Füzet  A/4 </td><td>füzet</td><td>68</td><td>30</td><td>68</td></tr>",
            "<tr><td>06010112T</td><td>Füzet  A4 mintás</td><td>füzet</td><td>78</td><td>30</td><td>78</td></tr>",
            "<tr><td>06040357T</td><td>Sp.Füzet A/5 70-es</td><td>füzet</td><td>89</td><td>30</td><td>89</td></tr>",
            "<tr><td>06040356T</td><td>Sp.Füzet A/4  70es</td><td>füzet</td><td>144</td><td>30</td><td>144</td></tr>",
            "<tr><td>06040355T</td><td>Sp.Füzet A/4 70-as</td><td>füzet</td><td>155</td><td>30</td><td>155</td></tr>",
            "<tr><td>06080426T</td><td>Szótárfüzet Lizzy</td><td>füzet</td><td>161</td><td>30</td><td>161</td></tr>",
            "<tr><td>06040354T</td><td>Sp.Füzet A/4  perforált, lyuk.</td><td>füzet</td><td>206</td><td>30</td><td>206</td></tr>",
            "<tr><td>06080118T</td><td>Füzetborító átlátszó A5</td><td>füzetborító</td><td>8</td><td>8</td><td>8</td></tr>",
            "<tr><td>06080117T</td><td>Füzetborító A/4 átlátszó</td><td>füzetborító</td><td>10</td><td>8</td><td>10</td></tr>",
            "<tr><td>06080122T</td><td>Füzetborító öntapadós nagy</td><td>füzetborító</td><td>19</td><td>8</td><td>19</td></tr>",
            "<tr><td>06080119T</td><td>Füzetborító mesefig.</td><td>füzetborító</td><td>19</td><td>8</td><td>19</td></tr>",
            "<tr><td>06080120T</td><td>Füzetborító öntapadó kicsi</td><td>füzetborító</td><td>23</td><td>8</td><td>23</td></tr>",
            "<tr><td>06080424T</td><td>Füzetborító A/4 mintás</td><td>füzetborító</td><td>24</td><td>8</td><td>24</td></tr>",
            "<tr><td>06080121T</td><td>Füzetborító öntapadó tekercses</td><td>füzetborító</td><td>195</td><td>8</td><td>195</td></tr>",
            "<tr><td>06080126T</td><td>Füzettartó A/5  </td><td>füzettartó</td><td>203</td><td>203</td><td>203</td></tr>",
            "<tr><td>06080125T</td><td>Füzettartó A/5 vastag</td><td>füzettartó</td><td>411</td><td>203</td><td>411</td></tr>",
            "<tr><td>06080124T</td><td>Füzettartó A/4 keménytáblás</td><td>füzettartó</td><td>508</td><td>203</td><td>508</td></tr>",
            "<tr><td>06080123T</td><td>Füzettartó A/4 keménytáblás</td><td>füzettartó</td><td>551</td><td>203</td><td>551</td></tr>",
            "<tr><td>02040145T</td><td>Gemkapocs 28 mm</td><td>gemkapocs</td><td>30</td><td>30</td><td>30</td></tr>",
            "<tr><td>02040146T</td><td>Gemkapocs ICO</td><td>gemkapocs</td><td>48</td><td>30</td><td>48</td></tr>",
            "<tr><td>02080450T</td><td>Gémkapocs 28-as színes</td><td>gémkapocs</td><td>44</td><td>44</td><td>44</td></tr>",
            "<tr><td>02080451T</td><td>Gémkapocs 50-es</td><td>gémkapocs</td><td>103</td><td>44</td><td>103</td></tr>",
            "<tr><td>02080456T</td><td>Genoterm HERLITZ 10-es</td><td>genoterm</td><td>89</td><td>89</td><td>89</td></tr>",
            "<tr><td>02040147T</td><td>Genotherm lefűzhető A/5</td><td>genotherm</td><td>8</td><td>8</td><td>8</td></tr>",
            "<tr><td>02040148T</td><td>Genotherm lefűzhető A4 10db-os</td><td>genotherm</td><td>63</td><td>8</td><td>63</td></tr>",
            "<tr><td>02040149T</td><td>Genotherm A4 10db-os</td><td>genotherm</td><td>110</td><td>8</td><td>110</td></tr>",
            "<tr><td>07080156T</td><td>Golyóstoll kupakos piros</td><td>golyóstoll</td><td>23</td><td>23</td><td>23</td></tr>",
            "<tr><td>07080155T</td><td>Golyóstoll</td><td>golyóstoll</td><td>33</td><td>23</td><td>33</td></tr>",
            "<tr><td>07080153T</td><td>Golyóstoll illatos ICO</td><td>golyóstoll</td><td>41</td><td>23</td><td>41</td></tr>",
            "<tr><td>07080161T</td><td>Golyóstoll kétszínű</td><td>golyóstoll</td><td>44</td><td>23</td><td>44</td></tr>",
            "<tr><td>07080150T</td><td>Golyóstoll</td><td>golyóstoll</td><td>51</td><td>23</td><td>51</td></tr>",
            "<tr><td>07080159T</td><td>Golyóstoll Pax tip.</td><td>golyóstoll</td><td>63</td><td>23</td><td>63</td></tr>",
            "<tr><td>07080466T</td><td>Golyóstoll Stabiló 308</td><td>golyóstoll</td><td>81</td><td>23</td><td>81</td></tr>",
            "<tr><td>07080157T</td><td>Golyóstoll Montex Hytone</td><td>golyóstoll</td><td>93</td><td>23</td><td>93</td></tr>",
            "<tr><td>07040169T</td><td>Golyóstoll Zodiák</td><td>golyóstoll</td><td>94</td><td>23</td><td>94</td></tr>",
            "<tr><td>07080162T</td><td>Golyóstoll Stabilo piros</td><td>golyóstoll</td><td>101</td><td>23</td><td>101</td></tr>",
            "<tr><td>07080468T</td><td>Golyóstoll háromfunkciós</td><td>golyóstoll</td><td>110</td><td>23</td><td>110</td></tr>",
            "<tr><td>07080470T</td><td>Golyóstoll háromszög</td><td>golyóstoll</td><td>188</td><td>23</td><td>188</td></tr>",
            "<tr><td>07040168T</td><td>Golyóstoll Zebra new hard</td><td>golyóstoll</td><td>189</td><td>23</td><td>189</td></tr>",
            "<tr><td>07040165T</td><td>Golyóstoll UNI laknock</td><td>golyóstoll</td><td>218</td><td>23</td><td>218</td></tr>",
            "<tr><td>07080163T</td><td>Golyóstoll UNI átlátszó</td><td>golyóstoll</td><td>230</td><td>23</td><td>230</td></tr>",
            "<tr><td>07080164T</td><td>Golyóstoll UNI gumis</td><td>golyóstoll</td><td>231</td><td>23</td><td>231</td></tr>",
            "<tr><td>07080160T</td><td>Golyóstoll penac</td><td>golyóstoll</td><td>239</td><td>23</td><td>239</td></tr>",
            "<tr><td>07080467T</td><td>Golyóstoll kétfunkciós ICO</td><td>golyóstoll</td><td>273</td><td>23</td><td>273</td></tr>",
            "<tr><td>07080471T</td><td>Golyóstoll levélbontós</td><td>golyóstoll</td><td>294</td><td>23</td><td>294</td></tr>",
            "<tr><td>07080469T</td><td>Golyóstoll UNIBALL 07</td><td>golyóstoll</td><td>364</td><td>23</td><td>364</td></tr>",
            "<tr><td>07080151T</td><td>Golyóstoll + ceruza Twister 2in1</td><td>golyóstoll</td><td>390</td><td>23</td><td>390</td></tr>",
            "<tr><td>07080154T</td><td>Golyóstoll INOXCROM</td><td>golyóstoll</td><td>401</td><td>23</td><td>401</td></tr>",
            "<tr><td>07040166T</td><td>Golyóstoll Zebra 301</td><td>golyóstoll</td><td>455</td><td>23</td><td>455</td></tr>",
            "<tr><td>07040167T</td><td>Golyóstoll Zebra mini</td><td>golyóstoll</td><td>655</td><td>23</td><td>655</td></tr>",
            "<tr><td>07080158T</td><td>Golyóstoll Parker tokban</td><td>golyóstoll</td><td>773</td><td>23</td><td>773</td></tr>",
            "<tr><td>07080152T</td><td>Golyóstoll 3 funkciós </td><td>golyóstoll</td><td>1019</td><td>23</td><td>1019</td></tr>",
            "<tr><td>05050170T</td><td>Gumigyűrű</td><td>gumigyűrű</td><td>19</td><td>19</td><td>19</td></tr>",
            "<tr><td>G064-CI401</td><td>gyermek szandál (fiú)</td><td>gyermek cipő</td><td>6900</td><td>6900</td><td>6900</td></tr>",
            "<tr><td>L064-CI401</td><td>gyermek szandál (lány)</td><td>gyermek cipő</td><td>6900</td><td>6900</td><td>6900</td></tr>",
            "<tr><td>L073-CI410</td><td>gyermek cipő (lány)</td><td>gyermek cipő</td><td>7900</td><td>6900</td><td>7900</td></tr>",
            "<tr><td>G073-CI410</td><td>gyermek cipő (fiú)</td><td>gyermek cipő</td><td>7900</td><td>6900</td><td>7900</td></tr>",
            "<tr><td>G082-CI419</td><td>gyermek csizma (fiú)</td><td>gyermek cipő</td><td>8000</td><td>6900</td><td>8000</td></tr>",
            "<tr><td>L082-CI419</td><td>gyermek csizma (lány)</td><td>gyermek cipő</td><td>8000</td><td>6900</td><td>8000</td></tr>",
            "<tr><td>L001-KB101</td><td>gyermek kabát (lány)</td><td>gyermek kabát</td><td>8900</td><td>8900</td><td>8900</td></tr>",
            "<tr><td>G001-KB101</td><td>gyermek kabát (fiú)</td><td>gyermek kabát</td><td>8900</td><td>8900</td><td>8900</td></tr>",
            "<tr><td>G019-NA207</td><td>gyermek pamut nadrág (fiú)</td><td>gyermek nadrág</td><td>1290</td><td>1290</td><td>1290</td></tr>",
            "<tr><td>L019-NA207</td><td>gyermek pamut nadrág (lány)</td><td>gyermek nadrág</td><td>1290</td><td>1290</td><td>1290</td></tr>",
            "<tr><td>L013-NA201</td><td>gyermek farmer nadrág (lány)</td><td>gyermek nadrág</td><td>4990</td><td>1290</td><td>4990</td></tr>",
            "<tr><td>G013-NA201</td><td>gyermek farmer nadrág (fiú)</td><td>gyermek nadrág</td><td>4990</td><td>1290</td><td>4990</td></tr>",
            "<tr><td>G048-PO218</td><td>gyermek póló (fiú)</td><td>gyermek póló</td><td>3900</td><td>3900</td><td>3900</td></tr>",
            "<tr><td>L048-PO218</td><td>gyermek póló (lány)</td><td>gyermek póló</td><td>3900</td><td>3900</td><td>3900</td></tr>",
            "<tr><td>02040176T</td><td>Gyorsfűző dosszié fehér</td><td>gyorsfűző</td><td>18</td><td>18</td><td>18</td></tr>",
            "<tr><td>02040177T</td><td>Gyorsfűző műa.</td><td>gyorsfűző</td><td>30</td><td>18</td><td>30</td></tr>",
            "<tr><td>02040178T</td><td>Gyorsfűző műa.</td><td>gyorsfűző</td><td>35</td><td>18</td><td>35</td></tr>",
            "<tr><td>06080441T</td><td>Gyurmakés</td><td>gyurma</td><td>121</td><td>121</td><td>121</td></tr>",
            "<tr><td>06080440T</td><td>Gyurma 12 szinű</td><td>gyurma</td><td>161</td><td>121</td><td>161</td></tr>",
            "<tr><td>06040179T</td><td>Gyurma színes 200 g-os</td><td>gyurma</td><td>180</td><td>121</td><td>180</td></tr>",
            "<tr><td>06040180T</td><td>Gyurma színes natúr</td><td>gyurma</td><td>228</td><td>121</td><td>228</td></tr>",
            "<tr><td>06040183T</td><td>Gyűrűskönyv bet. A/5</td><td>gyűrűskönyv</td><td>95</td><td>95</td><td>95</td></tr>",
            "<tr><td>06040182T</td><td>Gyűrűskönyv bet. A/4</td><td>gyűrűskönyv</td><td>184</td><td>95</td><td>184</td></tr>",
            "<tr><td>06040184T</td><td>Gyűrűskönyv betét A/5</td><td>gyűrűskönyv</td><td>218</td><td>95</td><td>218</td></tr>",
            "<tr><td>06040185T</td><td>Gyűrűskönyv</td><td>gyűrűskönyv</td><td>581</td><td>95</td><td>581</td></tr>",
            "<tr><td>06040186T</td><td>Gyűrűskönyv színes</td><td>gyűrűskönyv</td><td>699</td><td>95</td><td>699</td></tr>",
            "<tr><td>04050187T</td><td>Hajgumi macis</td><td>hajgumi</td><td>66</td><td>66</td><td>66</td></tr>",
            "<tr><td>02020444T</td><td>Határidő napló A/6</td><td>határidő napló</td><td>464</td><td>464</td><td>464</td></tr>",
            "<tr><td>04020445T</td><td>Határidő napló 2010-s</td><td>határidő napló</td><td>728</td><td>464</td><td>728</td></tr>",
            "<tr><td>06080190T</td><td>Hegyező műanyag egyes</td><td>hegyező</td><td>23</td><td>23</td><td>23</td></tr>",
            "<tr><td>06080191T</td><td>Hegyező tartályos egyes</td><td>hegyező</td><td>30</td><td>23</td><td>30</td></tr>",
            "<tr><td>06080189T</td><td>Hegyező műanyag dupla</td><td>hegyező</td><td>30</td><td>23</td><td>30</td></tr>",
            "<tr><td>06080188T</td><td>Hegyező gép</td><td>hegyező</td><td>875</td><td>23</td><td>875</td></tr>",
            "<tr><td>06080192T</td><td>Hegyző fém 1 lyukú</td><td>hegyző</td><td>70</td><td>70</td><td>70</td></tr>",
            "<tr><td>06080193T</td><td>Hegyző fém 2 lyukú</td><td>hegyző</td><td>180</td><td>70</td><td>180</td></tr>",
            "<tr><td>02040197T</td><td>Hibajavító lap </td><td>hibajavító</td><td>81</td><td>81</td><td>81</td></tr>",
            "<tr><td>02040198T</td><td>Hibajavító roller 5 mm</td><td>hibajavító</td><td>133</td><td>81</td><td>133</td></tr>",
            "<tr><td>02040195T</td><td>Hibajavító ecsetes Aqua</td><td>hibajavító</td><td>185</td><td>81</td><td>185</td></tr>",
            "<tr><td>02040196T</td><td>Hibajavító készlet Blanco</td><td>hibajavító</td><td>273</td><td>81</td><td>273</td></tr>",
            "<tr><td>02040200T</td><td>Hibajavító Kores mini pen</td><td>hibajavító</td><td>278</td><td>81</td><td>278</td></tr>",
            "<tr><td>02040199T</td><td>Hibajavító roller Pax</td><td>hibajavító</td><td>286</td><td>81</td><td>286</td></tr>",
            "<tr><td>02040194T</td><td>Hibajav.roll.Pritt 4,2mm</td><td>hibajavító</td><td>794</td><td>81</td><td>794</td></tr>",
            "<tr><td>04050203T</td><td>Hűtőmágnes</td><td>hűtőmágnes</td><td>24</td><td>24</td><td>24</td></tr>",
            "<tr><td>04050204T</td><td>Hűtőmágnes WD</td><td>hűtőmágnes</td><td>169</td><td>24</td><td>169</td></tr>",
            "<tr><td>06040206T</td><td>kék indigó</td><td>indigó</td><td>12</td><td>12</td><td>12</td></tr>",
            "<tr><td>06040205T</td><td>Indigó Pelikán</td><td>indigó</td><td>15</td><td>12</td><td>15</td></tr>",
            "<tr><td>02040207T</td><td>Iratgyűjtő ESSELTE ablakos</td><td>iratgyűjtő</td><td>19</td><td>19</td><td>19</td></tr>",
            "<tr><td>02040208T</td><td>Iratgyűjtő fehér</td><td>iratgyűjtő</td><td>19</td><td>19</td><td>19</td></tr>",
            "<tr><td>02040025T</td><td>Álló irattartó karton</td><td>iratgyűjtő</td><td>133</td><td>19</td><td>133</td></tr>",
            "<tr><td>02040211T</td><td>Iratrendező ESSELTE</td><td>iratrendező</td><td>243</td><td>243</td><td>243</td></tr>",
            "<tr><td>02080432T</td><td>Tokos iratrendező</td><td>iratrendező</td><td>259</td><td>243</td><td>259</td></tr>",
            "<tr><td>02040209T</td><td>Iratsín fehér</td><td>iratsín</td><td>44</td><td>44</td><td>44</td></tr>",
            "<tr><td>02040210T</td><td>Iratsín kék</td><td>iratsín</td><td>89</td><td>44</td><td>89</td></tr>",
            "<tr><td>02080436T</td><td>Irattartó müa. boríték A/4</td><td>irattartó</td><td>66</td><td>66</td><td>66</td></tr>",
            "<tr><td>02080431T</td><td>Álló irattartó</td><td>irattartó</td><td>214</td><td>66</td><td>214</td></tr>",
            "<tr><td>02040214T</td><td>Iromány fedél feles</td><td>irodaszer</td><td>59</td><td>59</td><td>59</td></tr>",
            "<tr><td>06040212T</td><td>Írólap 10-50 ffam.</td><td>írólap</td><td>29</td><td>29</td><td>29</td></tr>",
            "<tr><td>06040213T</td><td>Írólap 20-50 </td><td>írólap</td><td>34</td><td>29</td><td>34</td></tr>",
            "<tr><td>07040218T</td><td>Ironbél HB 0,5</td><td>ironbél</td><td>23</td><td>23</td><td>23</td></tr>",
            "<tr><td>07040216T</td><td>Ironbél B 0,5</td><td>ironbél</td><td>36</td><td>23</td><td>36</td></tr>",
            "<tr><td>07040217T</td><td>Ironbél H 0,5</td><td>ironbél</td><td>59</td><td>23</td><td>59</td></tr>",
            "<tr><td>07040215T</td><td>Ironbél  2B ICO</td><td>ironbél</td><td>74</td><td>23</td><td>74</td></tr>",
            "<tr><td>07040219T</td><td>Ironbél HI-POLIMER HB 0,7</td><td>ironbél</td><td>78</td><td>23</td><td>78</td></tr>",
            "<tr><td>06040089T</td><td>Ellenőrzőborító</td><td>iskolaszer</td><td>5</td><td>5</td><td>5</td></tr>",
            "<tr><td>06040353T</td><td>Sorvezető</td><td>iskolaszer</td><td>8</td><td>5</td><td>8</td></tr>",
            "<tr><td>06040181T</td><td>Gyűjtőlap A/4</td><td>iskolaszer</td><td>8</td><td>5</td><td>8</td></tr>",
            "<tr><td>06010305T</td><td>Papírcenti 100 cm-es</td><td>iskolaszer</td><td>9</td><td>5</td><td>9</td></tr>",
            "<tr><td>06040383T</td><td>Taffet papír</td><td>iskolaszer</td><td>19</td><td>5</td><td>19</td></tr>",
            "<tr><td>06010202T</td><td>Hurkapálca 10 db-os</td><td>iskolaszer</td><td>23</td><td>5</td><td>23</td></tr>",
            "<tr><td>06010036T</td><td>Betűtartó sin</td><td>iskolaszer</td><td>33</td><td>5</td><td>33</td></tr>",
            "<tr><td>06010367T</td><td>Számolókorong</td><td>iskolaszer</td><td>35</td><td>5</td><td>35</td></tr>",
            "<tr><td>06010365T</td><td>Számegyenes</td><td>iskolaszer</td><td>36</td><td>5</td><td>36</td></tr>",
            "<tr><td>06010201T</td><td>Hőmérő, műa.</td><td>iskolaszer</td><td>36</td><td>5</td><td>36</td></tr>",
            "<tr><td>07050463T</td><td>Ceruzafogó</td><td>iskolaszer</td><td>36</td><td>5</td><td>36</td></tr>",
            "<tr><td>06010373T</td><td>Színes papír I.II-IV.V-VIII-ig</td><td>iskolaszer</td><td>43</td><td>5</td><td>43</td></tr>",
            "<tr><td>06010374T</td><td>Szorzótábla műanyag</td><td>iskolaszer</td><td>45</td><td>5</td><td>45</td></tr>",
            "<tr><td>06040088T</td><td>Egészségügyi könyv</td><td>iskolaszer</td><td>51</td><td>5</td><td>51</td></tr>",
            "<tr><td>06040384T</td><td>Technika cs. I-II-III-IV</td><td>iskolaszer</td><td>58</td><td>5</td><td>58</td></tr>",
            "<tr><td>06010368T</td><td>Számolópálca</td><td>iskolaszer</td><td>61</td><td>5</td><td>61</td></tr>",
            "<tr><td>06050249T</td><td>Krepp papír</td><td>iskolaszer</td><td>73</td><td>5</td><td>73</td></tr>",
            "<tr><td>06080430T</td><td>Öntapadős betűk</td><td>iskolaszer</td><td>74</td><td>5</td><td>74</td></tr>",
            "<tr><td>06040352T</td><td>Rovatolt papír 20 íves</td><td>iskolaszer</td><td>103</td><td>5</td><td>103</td></tr>",
            "<tr><td>06040399T</td><td>Tombola tömb</td><td>iskolaszer</td><td>125</td><td>5</td><td>125</td></tr>",
            "<tr><td>06080259T</td><td>Leckefüzet</td><td>iskolaszer</td><td>161</td><td>5</td><td>161</td></tr>",
            "<tr><td>06080427T</td><td>Ablakkréta</td><td>iskolaszer</td><td>161</td><td>5</td><td>161</td></tr>",
            "<tr><td>06080422T</td><td>Füzettartó A/4</td><td>iskolaszer</td><td>324</td><td>5</td><td>324</td></tr>",
            "<tr><td>06040400T</td><td>Tornazsák</td><td>iskolaszer</td><td>511</td><td>5</td><td>511</td></tr>",
            "<tr><td>04050220T</td><td>Játék autó</td><td>játékautó</td><td>65</td><td>65</td><td>65</td></tr>",
            "<tr><td>04050223T</td><td>Játékautó mini</td><td>játékautó</td><td>73</td><td>65</td><td>73</td></tr>",
            "<tr><td>04050221T</td><td>Játékautó Blisteres</td><td>játékautó</td><td>133</td><td>65</td><td>133</td></tr>",
            "<tr><td>04050222T</td><td>Játékautó elemes</td><td>játékautó</td><td>165</td><td>65</td><td>165</td></tr>",
            "<tr><td>04050224T</td><td>Jelzőkréta</td><td>jelzőkréta</td><td>48</td><td>48</td><td>48</td></tr>",
            "<tr><td>02080226T</td><td>Kapocskiszedő</td><td>kapocskiszedő</td><td>106</td><td>106</td><td>106</td></tr>",
            "<tr><td>01090515T</td><td>Színes A/3 160 gr IQ</td><td>karton</td><td>11</td><td>11</td><td>11</td></tr>",
            "<tr><td>01090516T</td><td>Színes karton A4</td><td>karton</td><td>25</td><td>11</td><td>25</td></tr>",
            "<tr><td>01080513T</td><td>Selyemfényű karton A/4</td><td>karton</td><td>38</td><td>11</td><td>38</td></tr>",
            "<tr><td>01100509T</td><td>Márványos A/4</td><td>karton</td><td>40</td><td>11</td><td>40</td></tr>",
            "<tr><td>01100070T</td><td>Dekorációs karton</td><td>karton</td><td>73</td><td>11</td><td>73</td></tr>",
            "<tr><td>01100071T</td><td>Dekorációs karton arany, ezüst</td><td>karton</td><td>89</td><td>11</td><td>89</td></tr>",
            "<tr><td>04050225T</td><td>Kártya mini Magyar</td><td>kártya</td><td>131</td><td>131</td><td>131</td></tr>",
            "<tr><td>04030240T</td><td>Képeslap virágos</td><td>képeslap</td><td>14</td><td>14</td><td>14</td></tr>",
            "<tr><td>04030236T</td><td>Képeslap karácsonyi WD</td><td>képeslap</td><td>15</td><td>14</td><td>15</td></tr>",
            "<tr><td>04030234T</td><td>Képeslap karácsonyi</td><td>képeslap</td><td>30</td><td>14</td><td>30</td></tr>",
            "<tr><td>04110229T</td><td>Képeslap &quot;Részvét&quot;</td><td>képeslap</td><td>33</td><td>14</td><td>33</td></tr>",
            "<tr><td>04110227T</td><td>Képeslap  borítékos</td><td>képeslap</td><td>33</td><td>14</td><td>33</td></tr>",
            "<tr><td>04030237T</td><td>Képeslap kerek</td><td>képeslap</td><td>36</td><td>14</td><td>36</td></tr>",
            "<tr><td>04030241T</td><td>Képeslap virágos +boríték</td><td>képeslap</td><td>44</td><td>14</td><td>44</td></tr>",
            "<tr><td>04030239T</td><td>Képeslap stancolt szív</td><td>képeslap</td><td>48</td><td>14</td><td>48</td></tr>",
            "<tr><td>04110232T</td><td>Képeslap humoros kaparós</td><td>képeslap</td><td>51</td><td>14</td><td>51</td></tr>",
            "<tr><td>04110230T</td><td>Képeslap humoros </td><td>képeslap</td><td>55</td><td>14</td><td>55</td></tr>",
            "<tr><td>04030238T</td><td>Képeslap stancolt</td><td>képeslap</td><td>59</td><td>14</td><td>59</td></tr>",
            "<tr><td>04030235T</td><td>Képeslap karácsonyi borítékos</td><td>képeslap</td><td>73</td><td>14</td><td>73</td></tr>",
            "<tr><td>04110231T</td><td>Képeslap humoros borítékos</td><td>képeslap</td><td>81</td><td>14</td><td>81</td></tr>",
            "<tr><td>04110233T</td><td>Képeslap humoros</td><td>képeslap</td><td>89</td><td>14</td><td>89</td></tr>",
            "<tr><td>04030242T</td><td>Képeslap WD +boríték</td><td>képeslap</td><td>118</td><td>14</td><td>118</td></tr>",
            "<tr><td>04110228T</td><td>Képeslap &quot;Nászajándék&quot;</td><td>képeslap</td><td>184</td><td>14</td><td>184</td></tr>",
            "<tr><td>04030243T</td><td>Képkirakó Dirib-darab</td><td>képkirakó</td><td>195</td><td>195</td><td>195</td></tr>",
            "<tr><td>N035-AL218</td><td>kosztüm (rövid)</td><td>kosztüm</td><td>39000</td><td>39000</td><td>39000</td></tr>",
            "<tr><td>N039-AL222</td><td>kosztüm (hosszú)</td><td>kosztüm</td><td>46000</td><td>39000</td><td>46000</td></tr>",
            "<tr><td>06040247T</td><td>Körzőhegy grafit</td><td>körző</td><td>30</td><td>30</td><td>30</td></tr>",
            "<tr><td>06040246T</td><td>Körző</td><td>körző</td><td>161</td><td>30</td><td>161</td></tr>",
            "<tr><td>06040248T</td><td>Körző maped</td><td>körző</td><td>243</td><td>30</td><td>243</td></tr>",
            "<tr><td>01090501T</td><td>Kreatív A/4 300g </td><td>kreatív</td><td>4</td><td>4</td><td>4</td></tr>",
            "<tr><td>01100510T</td><td>Kreatív A/4 120g </td><td>kreatív</td><td>13</td><td>4</td><td>13</td></tr>",
            "<tr><td>04050255T</td><td>Kulcstartó mesefigurás</td><td>kulcstartó</td><td>36</td><td>36</td><td>36</td></tr>",
            "<tr><td>04050253T</td><td>Kulcstartó figurás</td><td>kulcstartó</td><td>103</td><td>36</td><td>103</td></tr>",
            "<tr><td>04050250T</td><td>Kulcstartó autós</td><td>kulcstartó</td><td>115</td><td>36</td><td>115</td></tr>",
            "<tr><td>04050252T</td><td>Kulcstartó Csőrikés</td><td>kulcstartó</td><td>124</td><td>36</td><td>124</td></tr>",
            "<tr><td>04050256T</td><td>Kulcstartó nagyítós</td><td>kulcstartó</td><td>129</td><td>36</td><td>129</td></tr>",
            "<tr><td>04050251T</td><td>Kulcstartó billiárd golyós</td><td>kulcstartó</td><td>148</td><td>36</td><td>148</td></tr>",
            "<tr><td>04050254T</td><td>Kulcstartó intarziás állatos</td><td>kulcstartó</td><td>155</td><td>36</td><td>155</td></tr>",
            "<tr><td>04040387T</td><td>Tenisz labda</td><td>labda</td><td>81</td><td>81</td><td>81</td></tr>",
            "<tr><td>04050171T</td><td>Gumilabda közepes</td><td>labda</td><td>110</td><td>81</td><td>110</td></tr>",
            "<tr><td>04030260T</td><td>Levélpapír A/4</td><td>levélpapír</td><td>15</td><td>15</td><td>15</td></tr>",
            "<tr><td>04030262T</td><td>Levélpapír sima</td><td>levélpapír</td><td>56</td><td>15</td><td>56</td></tr>",
            "<tr><td>04030264T</td><td>Levélpapír szett </td><td>levélpapír</td><td>74</td><td>15</td><td>74</td></tr>",
            "<tr><td>04030263T</td><td>Levélpapír szett</td><td>levélpapír</td><td>89</td><td>15</td><td>89</td></tr>",
            "<tr><td>04030265T</td><td>Levélpapír szett natur, mintás</td><td>levélpapír</td><td>103</td><td>15</td><td>103</td></tr>",
            "<tr><td>04030261T</td><td>Levélpapír állatos</td><td>levélpapír</td><td>140</td><td>15</td><td>140</td></tr>",
            "<tr><td>04030266T</td><td>Levélpapír szett virágos</td><td>levélpapír</td><td>169</td><td>15</td><td>169</td></tr>",
            "<tr><td>04050269T</td><td>Lufi hullámos</td><td>lufi</td><td>11</td><td>11</td><td>11</td></tr>",
            "<tr><td>04050268T</td><td>Lufi formázható</td><td>lufi</td><td>15</td><td>11</td><td>15</td></tr>",
            "<tr><td>02080453T</td><td>Lyukasztó EAGLE</td><td>lyukasztó</td><td>526</td><td>526</td><td>526</td></tr>",
            "<tr><td>02080454T</td><td>Lyukasztó BOXER</td><td>lyukasztó</td><td>765</td><td>526</td><td>765</td></tr>",
            "<tr><td>06040174T</td><td>Gumis mappa </td><td>mappa</td><td>148</td><td>148</td><td>148</td></tr>",
            "<tr><td>02080435T</td><td>Mappa bemutató</td><td>mappa</td><td>184</td><td>148</td><td>184</td></tr>",
            "<tr><td>06040175T</td><td>Gumis mappa Köbüki</td><td>mappa</td><td>191</td><td>148</td><td>191</td></tr>",
            "<tr><td>06040172T</td><td>Gumis mappa csomagolt</td><td>mappa</td><td>195</td><td>148</td><td>195</td></tr>",
            "<tr><td>02080434T</td><td>Mappa müa A/4</td><td>mappa</td><td>210</td><td>148</td><td>210</td></tr>",
            "<tr><td>06040173T</td><td>Gumis mappa fóliázott állatos</td><td>mappa</td><td>211</td><td>148</td><td>211</td></tr>",
            "<tr><td>04080271T</td><td>Mappa PVC villámzáras</td><td>mappa</td><td>264</td><td>148</td><td>264</td></tr>",
            "<tr><td>04080272T</td><td>Mappa PVC villámzáras  képes</td><td>mappa</td><td>360</td><td>148</td><td>360</td></tr>",
            "<tr><td>04080270T</td><td>Mappa bőr A5</td><td>mappa</td><td>1765</td><td>148</td><td>1765</td></tr>",
            "<tr><td>04110274T</td><td>Matrica autóra H</td><td>matrica</td><td>49</td><td>49</td><td>49</td></tr>",
            "<tr><td>04110275T</td><td>Matrica motoros kicsi</td><td>matrica</td><td>49</td><td>49</td><td>49</td></tr>",
            "<tr><td>04110273T</td><td>Matrica állatos</td><td>matrica</td><td>55</td><td>49</td><td>55</td></tr>",
            "<tr><td>04110282T</td><td>Matrica WD kicsi</td><td>matrica</td><td>56</td><td>49</td><td>56</td></tr>",
            "<tr><td>04110277T</td><td>Matrica Stickers szíves</td><td>matrica</td><td>93</td><td>49</td><td>93</td></tr>",
            "<tr><td>04110276T</td><td>Matrica Stickers nagy állatos</td><td>matrica</td><td>109</td><td>49</td><td>109</td></tr>",
            "<tr><td>04110280T</td><td>Matrica tetoválós kicsi</td><td>matrica</td><td>148</td><td>49</td><td>148</td></tr>",
            "<tr><td>04110278T</td><td>Matrica Test ékszer tattoo</td><td>matrica</td><td>161</td><td>49</td><td>161</td></tr>",
            "<tr><td>04110279T</td><td>Matrica tetoválás</td><td>matrica</td><td>168</td><td>49</td><td>168</td></tr>",
            "<tr><td>04110281T</td><td>Matrica világítós </td><td>matrica</td><td>175</td><td>49</td><td>175</td></tr>",
            "<tr><td>01030092T</td><td>Esküvői meghívó</td><td>meghívó</td><td>59</td><td>59</td><td>59</td></tr>",
            "<tr><td>06080429T</td><td>Meghívó ballagási</td><td>meghívó</td><td>63</td><td>59</td><td>63</td></tr>",
            "<tr><td>04110283T</td><td>Meghívó állatos</td><td>meghívó</td><td>155</td><td>59</td><td>155</td></tr>",
            "<tr><td>04110284T</td><td>Meghívó borítékos</td><td>meghívó</td><td>169</td><td>59</td><td>169</td></tr>",
            "<tr><td>06080425T</td><td>Miliméterpapír</td><td>miliméterpapír</td><td>8</td><td>8</td><td>8</td></tr>",
            "<tr><td>08070482T</td><td>Fizika munkafüzet 14 év.</td><td>munkafüzet</td><td>190</td><td>190</td><td>190</td></tr>",
            "<tr><td>08070481T</td><td>Fizika munkafüzet 13 év.</td><td>munkafüzet</td><td>198</td><td>190</td><td>198</td></tr>",
            "<tr><td>08070476T</td><td>Anyanyelvi gyakorló 2</td><td>munkafüzet</td><td>293</td><td>190</td><td>293</td></tr>",
            "<tr><td>08070477T</td><td>Anyanyelvi gyakorló 3</td><td>munkafüzet</td><td>353</td><td>190</td><td>353</td></tr>",
            "<tr><td>08070486T</td><td>Matematika gyakorló 2</td><td>munkafüzet</td><td>403</td><td>190</td><td>403</td></tr>",
            "<tr><td>08070487T</td><td>Matematika gyakorló 3</td><td>munkafüzet</td><td>403</td><td>190</td><td>403</td></tr>",
            "<tr><td>08070488T</td><td>Matematika gyakorló 4</td><td>munkafüzet</td><td>403</td><td>190</td><td>403</td></tr>",
            "<tr><td>08070475T</td><td>A föld amelyen élünk - munkafüzet</td><td>munkafüzet</td><td>440</td><td>190</td><td>440</td></tr>",
            "<tr><td>08070478T</td><td>Összefoglaló feladatgyüjtemény számtech.</td><td>munkafüzet</td><td>785</td><td>190</td><td>785</td></tr>",
            "<tr><td>01090498T</td><td>Műnyomó 300g 17,5*20</td><td>műnyomó</td><td>3</td><td>3</td><td>3</td></tr>",
            "<tr><td>02040290T</td><td>Naptár 24-es</td><td>naptár</td><td>89</td><td>89</td><td>89</td></tr>",
            "<tr><td>02040291T</td><td>Naptárhát kicsi</td><td>naptárhát</td><td>15</td><td>15</td><td>15</td></tr>",
            "<tr><td>02040292T</td><td>Naptárhát nagy</td><td>naptárhát</td><td>78</td><td>15</td><td>78</td></tr>",
            "<tr><td>02040293T</td><td>Névjegytartó kicsi</td><td>névjegytartó</td><td>310</td><td>310</td><td>310</td></tr>",
            "<tr><td>02040298T</td><td>Notesz mintás</td><td>notesz</td><td>44</td><td>44</td><td>44</td></tr>",
            "<tr><td>02040296T</td><td>Notesz A/6 College</td><td>notesz</td><td>56</td><td>44</td><td>56</td></tr>",
            "<tr><td>02040295T</td><td>Notesz A/5 sima spirál</td><td>notesz</td><td>89</td><td>44</td><td>89</td></tr>",
            "<tr><td>02040297T</td><td>Notesz sima spirál College</td><td>notesz</td><td>103</td><td>44</td><td>103</td></tr>",
            "<tr><td>02040294T</td><td>Notesz A/5 sima</td><td>notesz</td><td>103</td><td>44</td><td>103</td></tr>",
            "<tr><td>N001-KB101</td><td>női szövet kabát</td><td>női kabát</td><td>24000</td><td>24000</td><td>24000</td></tr>",
            "<tr><td>N008-NA201</td><td>női farmer nadrág</td><td>női nadrág</td><td>8290</td><td>8290</td><td>8290</td></tr>",
            "<tr><td>01090517T</td><td>Színes ofszet B/4</td><td>ofszet</td><td>4</td><td>4</td><td>4</td></tr>",
            "<tr><td>01020299T</td><td>Oklevél A/4 egyszínű</td><td>oklevél</td><td>48</td><td>48</td><td>48</td></tr>",
            "<tr><td>01020300T</td><td>Oklevél A/4 színes</td><td>oklevél</td><td>55</td><td>48</td><td>55</td></tr>",
            "<tr><td>06050301T</td><td>Olló gyerek </td><td>olló</td><td>133</td><td>133</td><td>133</td></tr>",
            "<tr><td>06050303T</td><td>Olló, iskolai</td><td>olló</td><td>161</td><td>133</td><td>161</td></tr>",
            "<tr><td>06050302T</td><td>Olló Tagit 18 cm-es</td><td>olló</td><td>176</td><td>133</td><td>176</td></tr>",
            "<tr><td>01010304T</td><td>Öntapadós hologramos papír A/4</td><td>öntapadó</td><td>59</td><td>59</td><td>59</td></tr>",
            "<tr><td>01080512T</td><td>Öntapadó A/4</td><td>öntapadó</td><td>4575</td><td>59</td><td>4575</td></tr>",
            "<tr><td>05010306T</td><td>Papízsebkendő,10db Szindy</td><td>papízsebkendő</td><td>20</td><td>20</td><td>20</td></tr>",
            "<tr><td>01040307T</td><td>Pausz papír A/4</td><td>pausz</td><td>15</td><td>15</td><td>15</td></tr>",
            "<tr><td>02020245T</td><td>Kiadási pénztárbizonylat 2×25</td><td>pénztárbizonylat</td><td>103</td><td>103</td><td>103</td></tr>",
            "<tr><td>02020037T</td><td>Bevételi pénztárbizonylat 3×25</td><td>pénztárbizonylat</td><td>144</td><td>103</td><td>144</td></tr>",
            "<tr><td>02040308T</td><td>Pénztárgépsz. 2 pl. nem öníró</td><td>pénztárgépszalag</td><td>81</td><td>81</td><td>81</td></tr>",
            "<tr><td>02040309T</td><td>Pénztárgépszalag 2pl SC 57.5/60</td><td>pénztárgépszalag</td><td>93</td><td>81</td><td>93</td></tr>",
            "<tr><td>07080313T</td><td>Pixiron Centrum</td><td>pixiron</td><td>59</td><td>59</td><td>59</td></tr>",
            "<tr><td>07080317T</td><td>Pixiron mini </td><td>pixiron</td><td>59</td><td>59</td><td>59</td></tr>",
            "<tr><td>07080315T</td><td>Pixiron Handy műanyag</td><td>pixiron</td><td>94</td><td>59</td><td>94</td></tr>",
            "<tr><td>07080312T</td><td>Pixiron 0,7 Handy</td><td>pixiron</td><td>125</td><td>59</td><td>125</td></tr>",
            "<tr><td>07080314T</td><td>Pixiron Handy fém</td><td>pixiron</td><td>133</td><td>59</td><td>133</td></tr>",
            "<tr><td>07080318T</td><td>Pixiron Penac</td><td>pixiron</td><td>235</td><td>59</td><td>235</td></tr>",
            "<tr><td>07080311T</td><td>Pixiron  UNI</td><td>pixiron</td><td>276</td><td>59</td><td>276</td></tr>",
            "<tr><td>07080319T</td><td>Pixiron Pentel színes</td><td>pixiron</td><td>299</td><td>59</td><td>299</td></tr>",
            "<tr><td>07080316T</td><td>Pixiron KOH-I-NOOR</td><td>pixiron</td><td>468</td><td>59</td><td>468</td></tr>",
            "<tr><td>04050321T</td><td>Plüss kicsi</td><td>plüss</td><td>161</td><td>161</td><td>161</td></tr>",
            "<tr><td>04050320T</td><td>Plüss  QX állatok</td><td>plüss</td><td>173</td><td>161</td><td>173</td></tr>",
            "<tr><td>04050322T</td><td>Plüss sárkány</td><td>plüss</td><td>314</td><td>161</td><td>314</td></tr>",
            "<tr><td>06040323T</td><td>Post-it 51×38 100 lapos</td><td>post-it</td><td>36</td><td>36</td><td>36</td></tr>",
            "<tr><td>06040324T</td><td>Post-it 75×75 100 lapos</td><td>post-it</td><td>89</td><td>36</td><td>89</td></tr>",
            "<tr><td>06040326T</td><td>Radír KOH-I-NOR 80</td><td>radír</td><td>19</td><td>19</td><td>19</td></tr>",
            "<tr><td>06040327T</td><td>Radír Koh-i-nor 40</td><td>radír</td><td>36</td><td>19</td><td>36</td></tr>",
            "<tr><td>06040325T</td><td>Radír gyümölcsös</td><td>radír</td><td>40</td><td>19</td><td>40</td></tr>",
            "<tr><td>06040328T</td><td>Radír Maped</td><td>radír</td><td>44</td><td>19</td><td>44</td></tr>",
            "<tr><td>06040329T</td><td>Radír stabilo</td><td>radír</td><td>44</td><td>19</td><td>44</td></tr>",
            "<tr><td>06040331T</td><td>Radír Tikky 40 </td><td>radír</td><td>49</td><td>19</td><td>49</td></tr>",
            "<tr><td>06040330T</td><td>Radír Tikky 30 </td><td>radír</td><td>50</td><td>19</td><td>50</td></tr>",
            "<tr><td>06080332T</td><td>Radírtoll betét ER100</td><td>radírtoll</td><td>74</td><td>74</td><td>74</td></tr>",
            "<tr><td>06080333T</td><td>Radírtoll betét vastag</td><td>radírtoll</td><td>119</td><td>74</td><td>119</td></tr>",
            "<tr><td>06080336T</td><td>Ragasztó 8 g Pritt</td><td>ragasztó</td><td>81</td><td>81</td><td>81</td></tr>",
            "<tr><td>06080339T</td><td>Ragasztó kores</td><td>ragasztó</td><td>89</td><td>81</td><td>89</td></tr>",
            "<tr><td>06080338T</td><td>Ragasztó kenőfejes Nebuló</td><td>ragasztó</td><td>101</td><td>81</td><td>101</td></tr>",
            "<tr><td>05040310T</td><td>Pill.ragasztó</td><td>ragasztó</td><td>103</td><td>81</td><td>103</td></tr>",
            "<tr><td>06080335T</td><td>Ragasztó 9 g Pax</td><td>ragasztó</td><td>110</td><td>81</td><td>110</td></tr>",
            "<tr><td>06080334T</td><td>Ragasztó szalag KORES </td><td>ragasztó</td><td>133</td><td>81</td><td>133</td></tr>",
            "<tr><td>05080340T</td><td>Ragasztó, Technokol 35g kék</td><td>ragasztó</td><td>144</td><td>81</td><td>144</td></tr>",
            "<tr><td>05080341T</td><td>Ragasztó, Technokol 35g piros</td><td>ragasztó</td><td>144</td><td>81</td><td>144</td></tr>",
            "<tr><td>06080337T</td><td>Ragasztó Gyurma</td><td>ragasztó</td><td>293</td><td>81</td><td>293</td></tr>",
            "<tr><td>06010343T</td><td>Ragasztószalag 19 mm-es SCOTCH+ tépő</td><td>ragasztó</td><td>426</td><td>81</td><td>426</td></tr>",
            "<tr><td>03010342T</td><td>Ragasztószalag  TIXO</td><td>ragasztószalag</td><td>15</td><td>15</td><td>15</td></tr>",
            "<tr><td>02080433T</td><td>Ragasztószalag 19 mm-es</td><td>ragasztószalag</td><td>55</td><td>15</td><td>55</td></tr>",
            "<tr><td>03010344T</td><td>Ragasztószalag nagy 12 mm</td><td>ragasztószalag</td><td>63</td><td>15</td><td>63</td></tr>",
            "<tr><td>03010345T</td><td>Ragasztószalag széles barna</td><td>ragasztószalag</td><td>166</td><td>15</td><td>166</td></tr>",
            "<tr><td>05050346T</td><td>Rágógumi Orbit</td><td>rágógumi</td><td>89</td><td>89</td><td>89</td></tr>",
            "<tr><td>06040347T</td><td>Rajzlap A/4 10db ffam.</td><td>rajzlap</td><td>28</td><td>28</td><td>28</td></tr>",
            "<tr><td>01010001T</td><td>félfamentes rajzlap A4 (10 lap)</td><td>rajzlap</td><td>342</td><td>28</td><td>342</td></tr>",
            "<tr><td>05040349T</td><td>Rajzszeg</td><td>rajzszeg</td><td>63</td><td>63</td><td>63</td></tr>",
            "<tr><td>05040348T</td><td>Rajzszeg színes</td><td>rajzszeg</td><td>106</td><td>63</td><td>106</td></tr>",
            "<tr><td>06040351T</td><td>Regiszteres füzet A5 Hightech</td><td>regiszteres füzet</td><td>203</td><td>203</td><td>203</td></tr>",
            "<tr><td>06040350T</td><td>Regiszteres füzet A4</td><td>regiszteres füzet</td><td>256</td><td>203</td><td>256</td></tr>",
            "<tr><td>U001-KI501</td><td>sál</td><td>sál</td><td>1990</td><td>1990</td><td>1990</td></tr>",
            "<tr><td>02080514T</td><td>Spirál 1/4 </td><td>spirál</td><td>45</td><td>45</td><td>45</td></tr>",
            "<tr><td>04050358T</td><td>Strandlabda </td><td>strandlabda</td><td>356</td><td>356</td><td>356</td></tr>",
            "<tr><td>05110360T</td><td>Szalvéta egyszínű</td><td>szalvéta</td><td>118</td><td>118</td><td>118</td></tr>",
            "<tr><td>05110363T</td><td>Szalvéta dekor</td><td>szalvéta</td><td>133</td><td>118</td><td>133</td></tr>",
            "<tr><td>05110364T</td><td>Szalvéta kicsi virágos</td><td>szalvéta</td><td>161</td><td>118</td><td>161</td></tr>",
            "<tr><td>05110361T</td><td>Szalvéta Goma húsvéti</td><td>szalvéta</td><td>175</td><td>118</td><td>175</td></tr>",
            "<tr><td>05110359T</td><td>Szalvéta </td><td>szalvéta</td><td>176</td><td>118</td><td>176</td></tr>",
            "<tr><td>04110362T</td><td>Szalvéta gyűjtőknek</td><td>szalvéta</td><td>183</td><td>118</td><td>183</td></tr>",
            "<tr><td>06010366T</td><td>Számológép Roxin</td><td>számológép</td><td>508</td><td>508</td><td>508</td></tr>",
            "<tr><td>06040446T</td><td>Számológép tudományos</td><td>számológép</td><td>1173</td><td>508</td><td>1173</td></tr>",
            "<tr><td>05010369T</td><td>Szemetes zsák 60 literes</td><td>szemetes</td><td>129</td><td>129</td><td>129</td></tr>",
            "<tr><td>07010371T</td><td>Színes ceruza 6-os</td><td>színes</td><td>99</td><td>99</td><td>99</td></tr>",
            "<tr><td>07010372T</td><td>Színes ceruza 12 szín</td><td>színes</td><td>161</td><td>99</td><td>161</td></tr>",
            "<tr><td>06010377T</td><td>Szögmérő színes</td><td>szögmérő</td><td>8</td><td>8</td><td>8</td></tr>",
            "<tr><td>06010376T</td><td>Szögmérő papír</td><td>szögmérő</td><td>11</td><td>8</td><td>11</td></tr>",
            "<tr><td>06010375T</td><td>Szögmérő 180 fokos műa.</td><td>szögmérő</td><td>24</td><td>8</td><td>24</td></tr>",
            "<tr><td>06040380T</td><td>Szövegkiemelő</td><td>szövegkiemelő</td><td>78</td><td>78</td><td>78</td></tr>",
            "<tr><td>06040378T</td><td>Szövegkiemelő vékony</td><td>szövegkiemelő</td><td>89</td><td>78</td><td>89</td></tr>",
            "<tr><td>06040379T</td><td>Szövegkiemelő </td><td>szövegkiemelő</td><td>93</td><td>78</td><td>93</td></tr>",
            "<tr><td>06040381T</td><td>Szövegkiemelő Videotip</td><td>szövegkiemelő</td><td>103</td><td>78</td><td>103</td></tr>",
            "<tr><td>07050464T</td><td>Szövegkiemelő Staedtler</td><td>szövegkiemelő</td><td>140</td><td>78</td><td>140</td></tr>",
            "<tr><td>06040382T</td><td>Táblafilc</td><td>táblafilc</td><td>633</td><td>633</td><td>633</td></tr>",
            "<tr><td>05050465T</td><td>Tapétavágó kés</td><td>tapétavágó</td><td>40</td><td>40</td><td>40</td></tr>",
            "<tr><td>06040386T</td><td>Tempera szóló színes</td><td>tempera</td><td>48</td><td>48</td><td>48</td></tr>",
            "<tr><td>06040385T</td><td>Tempera szóló ezüst</td><td>tempera</td><td>96</td><td>48</td><td>96</td></tr>",
            "<tr><td>02080449T</td><td>Térképtű színes</td><td>térképtű</td><td>103</td><td>103</td><td>103</td></tr>",
            "<tr><td>07040388T</td><td>Tintapatron /kék/</td><td>tintapatron</td><td>9</td><td>9</td><td>9</td></tr>",
            "<tr><td>07040390T</td><td>Tintapatron színes</td><td>tintapatron</td><td>11</td><td>9</td><td>11</td></tr>",
            "<tr><td>07040389T</td><td>Tintapatron 30 db-os kék</td><td>tintapatron</td><td>360</td><td>9</td><td>360</td></tr>",
            "<tr><td>07010244T</td><td>Kerámiatoll</td><td>toll</td><td>74</td><td>74</td><td>74</td></tr>",
            "<tr><td>07040391T</td><td>Toll Centropen roller</td><td>toll</td><td>80</td><td>74</td><td>80</td></tr>",
            "<tr><td>07010141T</td><td>G.toll betét X20</td><td>tollbetét</td><td>15</td><td>15</td><td>15</td></tr>",
            "<tr><td>07010140T</td><td>G.toll betét Stabilo</td><td>tollbetét</td><td>23</td><td>15</td><td>23</td></tr>",
            "<tr><td>07040127T</td><td>G. toll betét mini</td><td>tollbetét</td><td>30</td><td>15</td><td>30</td></tr>",
            "<tr><td>07040129T</td><td>G. toll betét réz</td><td>tollbetét</td><td>30</td><td>15</td><td>30</td></tr>",
            "<tr><td>07010138T</td><td>G.toll betét jumbo</td><td>tollbetét</td><td>33</td><td>15</td><td>33</td></tr>",
            "<tr><td>07040133T</td><td>G.toll betét görbe hegyű</td><td>tollbetét</td><td>39</td><td>15</td><td>39</td></tr>",
            "<tr><td>07040134T</td><td>G.toll betét illatos</td><td>tollbetét</td><td>44</td><td>15</td><td>44</td></tr>",
            "<tr><td>07010137T</td><td>G.toll betét PAX tip.</td><td>tollbetét</td><td>48</td><td>15</td><td>48</td></tr>",
            "<tr><td>07040128T</td><td>G. toll betét mini fém</td><td>tollbetét</td><td>55</td><td>15</td><td>55</td></tr>",
            "<tr><td>07040132T</td><td>G.toll betét csavaros</td><td>tollbetét</td><td>55</td><td>15</td><td>55</td></tr>",
            "<tr><td>07010143T</td><td>G.toll betét Zebra H-0,7</td><td>tollbetét</td><td>78</td><td>15</td><td>78</td></tr>",
            "<tr><td>07040130T</td><td>G. toll betét S7S</td><td>tollbetét</td><td>80</td><td>15</td><td>80</td></tr>",
            "<tr><td>07040131T</td><td>G. toll betét UNI lachnok Fine SA-7C</td><td>tollbetét</td><td>85</td><td>15</td><td>85</td></tr>",
            "<tr><td>07010144T</td><td>G.toll betét Zebra K-0,7</td><td>tollbetét</td><td>89</td><td>15</td><td>89</td></tr>",
            "<tr><td>07010139T</td><td>G.toll betét S7L </td><td>tollbetét</td><td>91</td><td>15</td><td>91</td></tr>",
            "<tr><td>07010136T</td><td>G.toll betét PAX</td><td>tollbetét</td><td>123</td><td>15</td><td>123</td></tr>",
            "<tr><td>07010142T</td><td>G.toll betét Zebra F-0.7</td><td>tollbetét</td><td>228</td><td>15</td><td>228</td></tr>",
            "<tr><td>07040135T</td><td>G.toll betét Parker </td><td>tollbetét</td><td>684</td><td>15</td><td>684</td></tr>",
            "<tr><td>06040394T</td><td>Tolltartó zipzáras</td><td>tolltartó</td><td>324</td><td>324</td><td>324</td></tr>",
            "<tr><td>06040396T</td><td>Tolltartó Garfield</td><td>tolltartó</td><td>410</td><td>324</td><td>410</td></tr>",
            "<tr><td>06040398T</td><td>Tolltartó hengeres </td><td>tolltartó</td><td>411</td><td>324</td><td>411</td></tr>",
            "<tr><td>06040397T</td><td>Tolltartó asztali</td><td>tolltartó</td><td>655</td><td>324</td><td>655</td></tr>",
            "<tr><td>06040395T</td><td>Tolltartó 2 zipzáros töltött</td><td>tolltartó</td><td>728</td><td>324</td><td>728</td></tr>",
            "<tr><td>06040392T</td><td>Tolltartó 1 zipzáros</td><td>tolltartó</td><td>728</td><td>324</td><td>728</td></tr>",
            "<tr><td>06040393T</td><td>Tolltartó 2 részes NG.</td><td>tolltartó</td><td>765</td><td>324</td><td>765</td></tr>",
            "<tr><td>02080511T</td><td>Oki toner C</td><td>toner</td><td>14250</td><td>14250</td><td>14250</td></tr>",
            "<tr><td>07050462T</td><td>Töltőtoll tinta </td><td>töltőtoll</td><td>493</td><td>493</td><td>493</td></tr>",
            "<tr><td>02040402T</td><td>Tűzőgép Boxer </td><td>tűzőgép</td><td>286</td><td>286</td><td>286</td></tr>",
            "<tr><td>02040401T</td><td>Tűzőgép Boxer 10</td><td>tűzőgép</td><td>339</td><td>286</td><td>339</td></tr>",
            "<tr><td>02040404T</td><td>Tűzőgép EAGLE</td><td>tűzőgép</td><td>405</td><td>286</td><td>405</td></tr>",
            "<tr><td>02080452T</td><td>Tűzőgép mini</td><td>tűzőgép</td><td>438</td><td>286</td><td>438</td></tr>",
            "<tr><td>02040403T</td><td>Tűzőgép SAX 239</td><td>tűzőgép</td><td>1351</td><td>286</td><td>1351</td></tr>",
            "<tr><td>02040002T</td><td>irodai tűzőgép</td><td>tűzőgép</td><td>2100</td><td>286</td><td>2100</td></tr>",
            "<tr><td>02040406T</td><td>Tűzőkapocs 24/6</td><td>tűzőkapocs</td><td>34</td><td>34</td><td>34</td></tr>",
            "<tr><td>02040405T</td><td>Tűzőkapocs 10-es</td><td>tűzőkapocs</td><td>44</td><td>34</td><td>44</td></tr>",
            "<tr><td>06080410T</td><td>Vízfesték 12db-os kínai</td><td>vízfesték</td><td>176</td><td>176</td><td>176</td></tr>",
            "<tr><td>06080409T</td><td>Vízfesték 12 színű kerek</td><td>vízfesték</td><td>180</td><td>176</td><td>180</td></tr>",
            "<tr><td>06080408T</td><td>Vízfesték 12 db-os </td><td>vízfesték</td><td>210</td><td>176</td><td>210</td></tr>",
            "<tr><td>06080407T</td><td>Vízfesték  12 színű nagy</td><td>vízfesték</td><td>249</td><td>176</td><td>249</td></tr>",
            "<tr><td>06080412T</td><td>Vonalzó 16 cm-es LIZZY</td><td>vonalzó</td><td>30</td><td>30</td><td>30</td></tr>",
            "<tr><td>06080413T</td><td>Vonalzó 30 cm</td><td>vonalzó</td><td>30</td><td>30</td><td>30</td></tr>",
            "<tr><td>06080414T</td><td>Vonalzó 20 cm-es </td><td>vonalzó</td><td>30</td><td>30</td><td>30</td></tr>",
            "<tr><td>06080415T</td><td>Vonalzó 45 fokos</td><td>vonalzó</td><td>30</td><td>30</td><td>30</td></tr>",
            "<tr><td>06080416T</td><td>Vonalzó 60 fokos</td><td>vonalzó</td><td>33</td><td>30</td><td>33</td></tr>",
            "<tr><td>06080411T</td><td>Vonalzó 15 cm-es ESSELTE</td><td>vonalzó</td><td>58</td><td>30</td><td>58</td></tr>",
            "<tr><td>06080417T</td><td>Zászló papír</td><td>zászló</td><td>20</td><td>20</td><td>20</td></tr>",
            "<tr><td>07080419T</td><td>Zselés toll MICRO</td><td>zseléstoll</td><td>66</td><td>66</td><td>66</td></tr>",
            "<tr><td>07080418T</td><td>Zselés toll </td><td>zseléstoll</td><td>95</td><td>66</td><td>95</td></tr>",
            "<tr><td>07080420T</td><td>Zselés toll Muhnwa</td><td>zseléstoll</td><td>161</td><td>66</td><td>161</td></tr>",
            "<tr><td>07080421T</td><td>Zseléstoll Lizzy Card</td><td>zseléstoll</td><td>228</td><td>66</td><td>228</td></tr>",
            "<tr><td>02040206T</td><td>Írásvetítő fólia</td><td>írásvetítő fólia</td><td>81</td><td>81</td><td>81</td></tr>",
            "</table>"
        ]
    }
}
],
            "execution_count": 11
        },
        {
            "cell_type": "markdown",
            "source": [
                "10. <span style=\"font-weight: 600; color: rgb(36, 41, 47); font-family: -apple-system, BlinkMacSystemFont, &quot;Segoe UI&quot;, Helvetica, Arial, sans-serif, &quot;Apple Color Emoji&quot;, &quot;Segoe UI Emoji&quot;; font-size: 16px;\">Készítsünk listát a rendelésekről. A lista legyen rendezve ügyfelenként (LOGIN), azon belül a rendelés dátuma szerint. A listához készítsünk sorszámozást is. A sorszám a következő formában jelenjen meg: sorszám_év_login. Pl: 1_2015_adam1</span>\n",
                "\n",
                "1. A számozás login-onként, azon belül rendelési évenként kezdődjön újra.\n",
                "2. A sorszám oszlop neve legyen Azonosító"
            ],
            "metadata": {
                "azdata_cell_guid": "9229e2b6-e200-4499-b95b-2d0222149831"
            },
            "attachments": {}
        },
        {
            "cell_type": "code",
            "source": [
                ""
            ],
            "metadata": {
                "azdata_cell_guid": "8b49ed67-28c6-4880-82a8-cd369e5bba99",
                "language": "sql"
            },
            "outputs": [],
            "execution_count": null
        },
        {
            "cell_type": "markdown",
            "source": [
                "11. <span style=\"color: rgb(36, 41, 47); font-family: -apple-system, BlinkMacSystemFont, &quot;Segoe UI&quot;, Helvetica, Arial, sans-serif, &quot;Apple Color Emoji&quot;, &quot;Segoe UI Emoji&quot;; font-size: 16px;\">Készítsünk listát a termékek adatairól listaár szerint növekvő sorrendben! A lista jelenítse meg két új oszlopban a sorrend szerint előző, illetve következő termék listaárát is a termék saját kategóriájában és raktárában!</span>\n",
                "\n",
                "1. Ahol nincs előző vagy következő érték, ott 0 jelenjen meg!\n",
                "2. Az oszlopokat nevezzük el értelemszerűen!"
            ],
            "metadata": {
                "azdata_cell_guid": "7f5fc7a7-3b6a-4d89-b292-490830afb0c6"
            },
            "attachments": {}
        },
        {
            "cell_type": "code",
            "source": [
                ""
            ],
            "metadata": {
                "azdata_cell_guid": "4a9ece40-f782-4c0d-92cd-9c21969067ed",
                "language": "sql"
            },
            "outputs": [],
            "execution_count": null
        },
        {
            "cell_type": "markdown",
            "source": [
                "12. <span style=\"color: rgb(36, 41, 47); font-family: -apple-system, BlinkMacSystemFont, &quot;Segoe UI&quot;, Helvetica, Arial, sans-serif, &quot;Apple Color Emoji&quot;, &quot;Segoe UI Emoji&quot;; font-size: 16px;\">Listázzuk a termékek kódját, nevét és listaárát listaár szerinti sorrendben!</span>\n",
                "\n",
                "1. Vegyünk fel egy új oszlopot Mozgóátlag néven, amely minden esetben az aktuális termék, az előző, és a következő termék átlagárát tartalmazza!\n",
                "2. A mozgóátlagot kerekítsük két tizedesre!"
            ],
            "metadata": {
                "azdata_cell_guid": "5a483c52-bb98-44bb-bd03-1146d4b0abfa"
            },
            "attachments": {}
        },
        {
            "cell_type": "code",
            "source": [
                "SELECT TERMEKKOD,\r\n",
                "MEGNEVEZES,\r\n",
                "LISTAAR,\r\n",
                "--mozgóátlag\r\n",
                "--(LAG(LISTAAR) OVER(Order by LISTAAR) + LISTAAR + LEAD(LISTAAR) OVER(order by LISTAAR))/3\r\n",
                "\r\n",
                "--ablak:\r\n",
                "AVG(LISTAAR) OVER(ORDER by LISTAAR rows between 1 preceding and 1 following)\r\n",
                "FROM Termek"
            ],
            "metadata": {
                "azdata_cell_guid": "dd6e89bd-08f9-4b18-8460-03c45b503df0",
                "language": "sql"
            },
            "outputs": [
                {
                    "output_type": "error",
                    "evalue": "Msg 102, Level 15, State 1, Line 1\r\nIncorrect syntax near 'SELECT'.",
                    "ename": "",
                    "traceback": []
                },
                {
                    "output_type": "display_data",
                    "data": {
                        "text/html": "Total execution time: 00:00:00.004"
                    },
                    "metadata": {}
                }
            ],
            "execution_count": 10
        },
        {
            "cell_type": "markdown",
            "source": [
                "13. <span style=\"color: rgb(36, 41, 47); font-family: -apple-system, BlinkMacSystemFont, &quot;Segoe UI&quot;, Helvetica, Arial, sans-serif, &quot;Apple Color Emoji&quot;, &quot;Segoe UI Emoji&quot;; font-size: 16px;\">Készítsünk listát, amely a rendelések sorszámát és a rendelés értékét tartalmazza. A listát egészítsük ki egy új oszloppal, amely minden rendelés esetén addigi rendelések összegét tartalmazza (az aktuálisat is beleértve)!</span>\n",
                "\n",
                "1. A listát rendezzük sorszám szerint növekvő sorrendbe.\n",
                "2. A lista ne tartalmazzon duplikált sorokat!"
            ],
            "metadata": {
                "azdata_cell_guid": "85d5cb66-96c6-42de-99cf-85ab22d08548"
            },
            "attachments": {}
        },
        {
            "cell_type": "code",
            "source": [
                ""
            ],
            "metadata": {
                "azdata_cell_guid": "cb07d64b-0eaa-498b-b4d2-0b46971e95ce",
                "language": "sql"
            },
            "outputs": [],
            "execution_count": null
        },
        {
            "cell_type": "markdown",
            "source": [
                "14. <span style=\"color: rgb(36, 41, 47); font-family: -apple-system, BlinkMacSystemFont, &quot;Segoe UI&quot;, Helvetica, Arial, sans-serif, &quot;Apple Color Emoji&quot;, &quot;Segoe UI Emoji&quot;; font-size: 16px;\">Készítsünk listát a termékek kódjáról, nevéről, kategória azonosítójáról, raktár azonosítójáról és listaáráról, valamint a termék adott szempontok szerinti rangsorokban elfoglalt helyezéseiről. (Szempontonként külön oszlopban, a helyezéseknél növekvő sorrendet feltételezve). A szempontok a következők legyenek: listaár, kategória szerinti listaár, és raktárkód szerinti listaár.</span>\n",
                "\n",
                "1. Az oszlopokat nevezzük el értelemszerűen.\n",
                "2. A helyezések egyenlőség esetén \"sűrűn\" kövessék egymást.\n",
                "3. A lista legyen rendezett kategória azonosító, azon belül listaár szerint!"
            ],
            "metadata": {
                "azdata_cell_guid": "f95ad665-a807-4099-bf06-64ed974f866f"
            },
            "attachments": {}
        },
        {
            "cell_type": "code",
            "source": [
                ""
            ],
            "metadata": {
                "azdata_cell_guid": "74c7ec8a-ae4a-4d03-b1c4-e8f6bb1be12c",
                "language": "sql"
            },
            "outputs": [],
            "execution_count": null
        },
        {
            "cell_type": "markdown",
            "source": [
                "15. <span style=\"color: rgb(36, 41, 47); font-family: -apple-system, BlinkMacSystemFont, &quot;Segoe UI&quot;, Helvetica, Arial, sans-serif, &quot;Apple Color Emoji&quot;, &quot;Segoe UI Emoji&quot;; font-size: 16px;\">Készítsünk listát a rendelési tételekről, amely minden sor esetén göngyölítve tartalmazza az ügyfél adott rendelési tételig meglévő rendelési tételeinek összértékét!</span>\n",
                "\n",
                "1. Az új oszlop neve legyen Eddigi rendelési tételek összértéke!\n",
                "2. Az ügyfél neve is jelenjen meg!"
            ],
            "metadata": {
                "azdata_cell_guid": "93552388-ffec-49ff-99e5-ae8dc8072601"
            },
            "attachments": {}
        },
        {
            "cell_type": "code",
            "source": [
                ""
            ],
            "metadata": {
                "azdata_cell_guid": "0e7f547f-7d96-4611-b1c2-0fa84a581e79",
                "language": "sql"
            },
            "outputs": [],
            "execution_count": null
        }
    ]
}